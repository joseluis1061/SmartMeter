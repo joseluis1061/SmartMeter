{
 "cells": [
  {
   "cell_type": "markdown",
   "metadata": {},
   "source": [
    "# Unificando bases de datos"
   ]
  },
  {
   "cell_type": "code",
   "execution_count": 4,
   "metadata": {},
   "outputs": [],
   "source": [
    "#0. Cargar las librerias \n",
    "from __future__ import print_function, division\n",
    "import time\n",
    "import nilmtk\n",
    "\n",
    "from matplotlib import rcParams\n",
    "import matplotlib.pyplot as plt\n",
    "import pandas as pd\n",
    "import numpy as np\n",
    "from six import iteritems\n",
    "\n",
    "from nilmtk import DataSet, TimeFrame, MeterGroup, HDFDataStore\n",
    "from nilmtk.legacy.disaggregate import CombinatorialOptimisation, FHMM\n",
    "import nilmtk.utils\n",
    "\n",
    "%matplotlib inline\n",
    "#Constante para el tamño de las imagenes\n",
    "rcParams['figure.figsize'] = (13, 6)"
   ]
  },
  {
   "cell_type": "code",
   "execution_count": 5,
   "metadata": {},
   "outputs": [],
   "source": [
    "# Tamaño de las secuencias de datos de entrada\n",
    "sequence_length = 256"
   ]
  },
  {
   "cell_type": "code",
   "execution_count": 6,
   "metadata": {},
   "outputs": [],
   "source": [
    "# Directorio general a las bases de datos\n",
    "dir_redd = 'C:\\\\Users\\\\josel\\\\nilmtk_work\\\\NILMTK_Repaso\\\\redd_low_frec\\\\'"
   ]
  },
  {
   "cell_type": "markdown",
   "metadata": {},
   "source": [
    "# House_1 "
   ]
  },
  {
   "cell_type": "code",
   "execution_count": 7,
   "metadata": {},
   "outputs": [
    {
     "data": {
      "text/html": [
       "<div>\n",
       "<style scoped>\n",
       "    .dataframe tbody tr th:only-of-type {\n",
       "        vertical-align: middle;\n",
       "    }\n",
       "\n",
       "    .dataframe tbody tr th {\n",
       "        vertical-align: top;\n",
       "    }\n",
       "\n",
       "    .dataframe thead th {\n",
       "        text-align: right;\n",
       "    }\n",
       "</style>\n",
       "<table border=\"1\" class=\"dataframe\">\n",
       "  <thead>\n",
       "    <tr style=\"text-align: right;\">\n",
       "      <th></th>\n",
       "      <th>1</th>\n",
       "    </tr>\n",
       "    <tr>\n",
       "      <th>0</th>\n",
       "      <th></th>\n",
       "    </tr>\n",
       "  </thead>\n",
       "  <tbody>\n",
       "    <tr>\n",
       "      <th>0</th>\n",
       "      <td>main_1</td>\n",
       "    </tr>\n",
       "    <tr>\n",
       "      <th>1</th>\n",
       "      <td>main_2</td>\n",
       "    </tr>\n",
       "    <tr>\n",
       "      <th>2</th>\n",
       "      <td>fridge_1</td>\n",
       "    </tr>\n",
       "    <tr>\n",
       "      <th>3</th>\n",
       "      <td>dish washer_1</td>\n",
       "    </tr>\n",
       "    <tr>\n",
       "      <th>4</th>\n",
       "      <td>sockets_1</td>\n",
       "    </tr>\n",
       "    <tr>\n",
       "      <th>5</th>\n",
       "      <td>sockets_2</td>\n",
       "    </tr>\n",
       "    <tr>\n",
       "      <th>6</th>\n",
       "      <td>light_1</td>\n",
       "    </tr>\n",
       "    <tr>\n",
       "      <th>7</th>\n",
       "      <td>microwave_1</td>\n",
       "    </tr>\n",
       "    <tr>\n",
       "      <th>8</th>\n",
       "      <td>unknown_1</td>\n",
       "    </tr>\n",
       "    <tr>\n",
       "      <th>9</th>\n",
       "      <td>electric_space heater_1</td>\n",
       "    </tr>\n",
       "    <tr>\n",
       "      <th>10</th>\n",
       "      <td>electric_stove_1</td>\n",
       "    </tr>\n",
       "    <tr>\n",
       "      <th>11</th>\n",
       "      <td>sockets_3</td>\n",
       "    </tr>\n",
       "    <tr>\n",
       "      <th>12</th>\n",
       "      <td>sockets_4</td>\n",
       "    </tr>\n",
       "    <tr>\n",
       "      <th>13</th>\n",
       "      <td>light_2</td>\n",
       "    </tr>\n",
       "    <tr>\n",
       "      <th>14</th>\n",
       "      <td>light_3</td>\n",
       "    </tr>\n",
       "    <tr>\n",
       "      <th>15</th>\n",
       "      <td>unknown_2</td>\n",
       "    </tr>\n",
       "    <tr>\n",
       "      <th>16</th>\n",
       "      <td>electric_oven_1</td>\n",
       "    </tr>\n",
       "    <tr>\n",
       "      <th>17</th>\n",
       "      <td>washer_dryer_1</td>\n",
       "    </tr>\n",
       "  </tbody>\n",
       "</table>\n",
       "</div>"
      ],
      "text/plain": [
       "                          1\n",
       "0                          \n",
       "0                    main_1\n",
       "1                    main_2\n",
       "2                  fridge_1\n",
       "3             dish washer_1\n",
       "4                 sockets_1\n",
       "5                 sockets_2\n",
       "6                   light_1\n",
       "7               microwave_1\n",
       "8                 unknown_1\n",
       "9   electric_space heater_1\n",
       "10         electric_stove_1\n",
       "11                sockets_3\n",
       "12                sockets_4\n",
       "13                  light_2\n",
       "14                  light_3\n",
       "15                unknown_2\n",
       "16          electric_oven_1\n",
       "17           washer_dryer_1"
      ]
     },
     "execution_count": 7,
     "metadata": {},
     "output_type": "execute_result"
    }
   ],
   "source": [
    "labels_h1 = pd.read_csv(dir_redd+'house_1\\\\labels.csv', sep=r' ', header = None, index_col=0)\n",
    "labels_h1"
   ]
  },
  {
   "cell_type": "code",
   "execution_count": 8,
   "metadata": {},
   "outputs": [],
   "source": [
    "# Cargar los datos ya pre procesados para tener una misma frecuencia\n",
    "main_1 = pd.read_csv(dir_redd+'house_1\\\\channel_1.csv', sep=r' ', header = None, index_col=0, parse_dates=True)\n",
    "microwave_1 = pd.read_csv(dir_redd+'house_1\\\\channel_8.csv', sep=r' ', header = None, index_col=0, parse_dates=True)"
   ]
  },
  {
   "cell_type": "code",
   "execution_count": 6,
   "metadata": {},
   "outputs": [],
   "source": [
    "main_2 = pd.read_csv(dir_redd+'house_1\\\\channel_2.csv', sep=r' ', header = None, index_col=0, parse_dates=True)"
   ]
  },
  {
   "cell_type": "code",
   "execution_count": 9,
   "metadata": {},
   "outputs": [
    {
     "name": "stdout",
     "output_type": "stream",
     "text": [
      "train_main     (1003071,)\n",
      "train_microwave_1 (1003067,)\n",
      "test_main      (2131023,)\n",
      "test_microwave_1  (2130995,)\n"
     ]
    }
   ],
   "source": [
    "#Definir datos de entrenamiento y test hasta la fechas indicadas\n",
    "train_main = main_1.loc[:'2011-4-29',1]\n",
    "train_microwave_1 = microwave_1.loc[:'2011-4-29',1]\n",
    "\n",
    "test_main = main_1.loc['2011-4-30':,1]\n",
    "test_microwave_1 = microwave_1.loc['2011-4-30':,1]\n",
    "\n",
    "print(f\"train_main     {train_main.shape}\")\n",
    "print(f\"train_microwave_1 {train_microwave_1.shape}\")\n",
    "print(f\"test_main      {test_main.shape}\")\n",
    "print(f\"test_microwave_1  {test_microwave_1.shape}\")"
   ]
  },
  {
   "cell_type": "code",
   "execution_count": 20,
   "metadata": {},
   "outputs": [
    {
     "name": "stdout",
     "output_type": "stream",
     "text": [
      "4521.04\n"
     ]
    }
   ],
   "source": [
    "# Calcular el valor maximo del medidor central con datos de train\n",
    "mmax = None\n",
    "if mmax == None:\n",
    "    mmax = train_main.max()\n",
    "print(mmax)\n",
    "\n",
    "# Funciones para normalizar los datos\n",
    "# Normaliza las series de tiempo teniendo en cuenta el valor maximo\n",
    "# mmax medido por el medidor central\n",
    "def _normalize(chunk, mmax):\n",
    "    tchunk = chunk / mmax\n",
    "    return tchunk\n",
    "\n",
    "# Des Normaliza las series de tiempo teniendo en cuenta el valor maximo\n",
    "# mmax medido por el medidor central\n",
    "def _denormalize(chunk, mmax):\n",
    "    tchunk = chunk * mmax\n",
    "    return tchunk"
   ]
  },
  {
   "cell_type": "code",
   "execution_count": 21,
   "metadata": {},
   "outputs": [
    {
     "data": {
      "text/plain": [
       "0\n",
       "2011-04-18 09:22:09-04:00    0.049588\n",
       "2011-04-18 09:22:10-04:00    0.049893\n",
       "2011-04-18 09:22:11-04:00    0.050008\n",
       "2011-04-18 09:22:12-04:00    0.049267\n",
       "2011-04-18 09:22:13-04:00    0.049148\n",
       "Name: 1, dtype: float64"
      ]
     },
     "execution_count": 21,
     "metadata": {},
     "output_type": "execute_result"
    }
   ],
   "source": [
    "# Normaliza las series y guardarlas en variable nueva\n",
    "mainchunk = _normalize(train_main, mmax)\n",
    "meterchunk = _normalize(train_microwave_1, mmax)\n",
    "mainchunk.head(5)"
   ]
  },
  {
   "cell_type": "code",
   "execution_count": 22,
   "metadata": {},
   "outputs": [],
   "source": [
    "#9. Tamaño de la secuencia definida para el modelo\n",
    "s = sequence_length\n",
    "#10. Remplaza valores NaNs con 0s\n",
    "mainchunk.fillna(0, inplace=True)\n",
    "meterchunk.fillna(0, inplace=True)"
   ]
  },
  {
   "cell_type": "code",
   "execution_count": 23,
   "metadata": {},
   "outputs": [
    {
     "name": "stdout",
     "output_type": "stream",
     "text": [
      "DatetimeIndex(['2011-04-18 09:22:13-04:00', '2011-04-18 09:22:14-04:00',\n",
      "               '2011-04-18 09:22:15-04:00', '2011-04-18 09:22:16-04:00',\n",
      "               '2011-04-18 09:22:17-04:00', '2011-04-18 09:22:18-04:00',\n",
      "               '2011-04-18 09:22:19-04:00', '2011-04-18 09:22:20-04:00',\n",
      "               '2011-04-18 09:22:21-04:00', '2011-04-18 09:22:22-04:00',\n",
      "               ...\n",
      "               '2011-04-29 23:59:50-04:00', '2011-04-29 23:59:51-04:00',\n",
      "               '2011-04-29 23:59:52-04:00', '2011-04-29 23:59:53-04:00',\n",
      "               '2011-04-29 23:59:54-04:00', '2011-04-29 23:59:55-04:00',\n",
      "               '2011-04-29 23:59:56-04:00', '2011-04-29 23:59:57-04:00',\n",
      "               '2011-04-29 23:59:58-04:00', '2011-04-29 23:59:59-04:00'],\n",
      "              dtype='datetime64[ns, pytz.FixedOffset(-240)]', name=0, length=1003067, freq='S')\n"
     ]
    }
   ],
   "source": [
    "#11. Une los indices comunes a las dos series de dispositivo y medidor\n",
    "# Retorna una serie con los indices comunes en fechas\n",
    "ix = mainchunk.index.intersection(meterchunk.index)\n",
    "print(ix)"
   ]
  },
  {
   "cell_type": "code",
   "execution_count": 24,
   "metadata": {},
   "outputs": [],
   "source": [
    "#11. Toma los datos en las fechas coincidentes y descarta las demas\n",
    "# seleccionando por medio de los indices contenidos en ix\n",
    "mainchunk = mainchunk[ix]\n",
    "meterchunk = meterchunk[ix]"
   ]
  },
  {
   "cell_type": "code",
   "execution_count": 25,
   "metadata": {},
   "outputs": [],
   "source": [
    "#12. Tamaño del batch de ceros\n",
    "adicion = s - (len(ix) % s)\n",
    "#A cada serie de medidor se le agrega el batch\n",
    "#Se definen en función del tamaño de la muestra\n",
    "#Esta operación elimina el indice de tipo tiempo\n",
    "X_batch = np.append(mainchunk, np.zeros(adicion))    # Medidor central\n",
    "Y_batch = np.append(meterchunk, np.zeros(adicion))   # Medidor de dispositivo"
   ]
  },
  {
   "cell_type": "code",
   "execution_count": 26,
   "metadata": {},
   "outputs": [
    {
     "name": "stdout",
     "output_type": "stream",
     "text": [
      "X_batch (3919, 256, 1)\n",
      "Y_batch (3919, 256, 1)\n"
     ]
    }
   ],
   "source": [
    "#13. Cambia la forma de los datos quedando la señal en tramos de 256 puntos chunk\n",
    "#Para el ventanas de 256 seran (muestras = 3919, ventana = 256, Caracteristica = 1)\n",
    "X_batch = np.reshape(X_batch, (int(len(X_batch) / s), s, 1))\n",
    "Y_batch = np.reshape(Y_batch, (int(len(Y_batch) / s), s, 1))\n",
    "print(f\"X_batch {X_batch.shape}\")\n",
    "print(f\"Y_batch {Y_batch.shape}\")"
   ]
  },
  {
   "cell_type": "code",
   "execution_count": 27,
   "metadata": {},
   "outputs": [
    {
     "name": "stdout",
     "output_type": "stream",
     "text": [
      "X_batch <class 'numpy.ndarray'>\n",
      "Y_batch <class 'numpy.ndarray'>\n"
     ]
    }
   ],
   "source": [
    "print(f\"X_batch {type(X_batch)}\")\n",
    "print(f\"Y_batch {type(Y_batch)}\")"
   ]
  },
  {
   "cell_type": "markdown",
   "metadata": {},
   "source": [
    "# Modelos\n",
    "\n",
    "En esta sección se definen los diferentes modelos con los que se entrenaran los datos teniendo como objetivo predecir el consumo de un unico dispositivo. \n",
    "\n",
    "Tenga en cuenta que el numero de pasos de entrada debe ser la misma que el tamaño de la serie de salida. Esto se debe a que la logica implementada es que con las medidas tomadas por el medidor central se calcule el consumo en el mismo instante de tiempo para el medidor del dispositivo."
   ]
  },
  {
   "cell_type": "code",
   "execution_count": 28,
   "metadata": {},
   "outputs": [],
   "source": [
    "# Librerias para modelos\n",
    "from keras.models import load_model\n",
    "from keras.models import Sequential\n",
    "from keras.layers import Dense, Flatten, Conv1D, Reshape, Dropout\n",
    "from keras.utils import plot_model\n",
    "\n",
    "# univariate multi-step cnn\n",
    "from math import sqrt\n",
    "from numpy import split\n",
    "from numpy import array\n",
    "from pandas import read_csv\n",
    "from sklearn.metrics import mean_squared_error\n",
    "from matplotlib import pyplot\n",
    "from keras.models import Sequential\n",
    "from keras.layers import Dense\n",
    "from keras.layers import Flatten\n",
    "from keras.layers.convolutional import Conv1D\n",
    "from keras.layers.convolutional import MaxPooling1D"
   ]
  },
  {
   "cell_type": "code",
   "execution_count": 73,
   "metadata": {},
   "outputs": [],
   "source": [
    "def auto_encoder1(sequence_len):\n",
    "    '''Crear el modulo Auto encoder descrito en el articulo\n",
    "    '''\n",
    "    #Crea el contenedor del modelo\n",
    "    model = Sequential()\n",
    "\n",
    "    # 1D Conv filtros = 8, kernel = 4, entrada 256 pasos de 1 feature, padding igual, paso en 1\n",
    "    model.add(Conv1D(8, 4, activation=\"linear\", input_shape=(sequence_len, 1), padding=\"same\", strides=1))\n",
    "    #Aplanar la salida\n",
    "    model.add(Flatten())\n",
    "    # Fully Connected Layers abandono del 20%\n",
    "    model.add(Dropout(0.2))\n",
    "    \n",
    "    #Auto encoder\n",
    "    # Neuronas 8 veces el tamaño de la ventana de tiempo = 2048 nodos\n",
    "    model.add(Dense((sequence_len-0)*8, activation='relu'))\n",
    "    #Abandono del 20% capa con 128 neuronas\n",
    "    model.add(Dropout(0.2))\n",
    "    \n",
    "    model.add(Dense(128, activation='relu'))\n",
    "    #Abandono del 20% capa con 2048 nodos\n",
    "    model.add(Dropout(0.2))\n",
    "    \n",
    "    model.add(Dense((sequence_len-0)*8, activation='relu'))\n",
    "    model.add(Dropout(0.2))\n",
    "\n",
    "    # 1D Conv\n",
    "    # La salida de la capa anterior es una secuencia aplanada. Es necesario cambiar\n",
    "    # el formato de los datos de salida para obtener datos de forma 256,8 similar\n",
    "    # a los pasos y filtros de la primer convolución\n",
    "    model.add(Reshape(((sequence_len-0), 8)))\n",
    "    #Entrega estos datos a una nueva capa convolucional 1 filtro con kernel = 4\n",
    "    #Supongo es de un solo filtro debido a que deseamos obtener una sola serie. \n",
    "    model.add(Conv1D(1, 4, activation=\"linear\", padding=\"same\", strides=1))\n",
    "    #Compila el modelo con perdida mse y optimizador de adam\n",
    "    model.compile(loss='mse', optimizer='adam')\n",
    "    #Grafico del modelo para exportar\n",
    "    #plot_model(model, to_file='model.png', show_shapes=True)\n",
    "\n",
    "    return model"
   ]
  },
  {
   "cell_type": "code",
   "execution_count": 74,
   "metadata": {},
   "outputs": [],
   "source": [
    "dae = auto_encoder1(sequence_length)"
   ]
  },
  {
   "cell_type": "code",
   "execution_count": null,
   "metadata": {},
   "outputs": [],
   "source": []
  },
  {
   "cell_type": "code",
   "execution_count": 31,
   "metadata": {},
   "outputs": [],
   "source": [
    "# train the model\n",
    "#def build_model(train, n_input):\n",
    "def build_model1(sequence_len):    \n",
    "\n",
    "    # define model\n",
    "    model = Sequential()\n",
    "    model.add(Conv1D(filters=16, kernel_size=3, activation='relu', input_shape=(sequence_len,1), padding=\"same\", strides=1))\n",
    "    model.add(MaxPooling1D(pool_size=2))\n",
    "    model.add(Conv1D(filters=16, kernel_size=3, activation='relu', padding=\"same\", strides=1))\n",
    "    model.add(MaxPooling1D(pool_size=2))\n",
    "    model.add(Flatten())\n",
    "    model.add(Dense(10, activation='relu'))\n",
    "    model.add(Dense(sequence_len))\n",
    "    model.compile(loss='mse', optimizer='adam')\n",
    "\n",
    "    return model"
   ]
  },
  {
   "cell_type": "code",
   "execution_count": 32,
   "metadata": {},
   "outputs": [],
   "source": [
    "bm1 = build_model1(sequence_length)"
   ]
  },
  {
   "cell_type": "code",
   "execution_count": 33,
   "metadata": {},
   "outputs": [],
   "source": [
    "def build_model2(sequence_len):    \n",
    "\n",
    "    # define model\n",
    "    model = Sequential()\n",
    "    model.add(Conv1D(filters=16, kernel_size=3, activation='relu', input_shape=(sequence_len,1), padding=\"same\", strides=1))\n",
    "    model.add(MaxPooling1D(pool_size=2))\n",
    "    model.add(Conv1D(filters=16, kernel_size=3, activation='relu', padding=\"same\", strides=1))\n",
    "    model.add(MaxPooling1D(pool_size=2))\n",
    "    model.add(Conv1D(filters=16, kernel_size=3, activation='relu', padding=\"same\", strides=1))\n",
    "    model.add(MaxPooling1D(pool_size=2))\n",
    "    model.add(Flatten())\n",
    "    model.add(Dense(10, activation='relu'))\n",
    "    model.add(Dense(sequence_len))\n",
    "    model.compile(loss='mse', optimizer='adam')\n",
    "\n",
    "    return model"
   ]
  },
  {
   "cell_type": "code",
   "execution_count": 34,
   "metadata": {},
   "outputs": [],
   "source": [
    "bm2 = build_model2(sequence_length)"
   ]
  },
  {
   "cell_type": "code",
   "execution_count": null,
   "metadata": {},
   "outputs": [],
   "source": []
  },
  {
   "cell_type": "code",
   "execution_count": 35,
   "metadata": {},
   "outputs": [],
   "source": [
    "def build_model3(sequence_len):    \n",
    "\n",
    "    # define model\n",
    "    model = Sequential()\n",
    "    model.add(Conv1D(filters=32, kernel_size=3, activation='relu', input_shape=(sequence_len,1), padding=\"same\", strides=1))\n",
    "    model.add(MaxPooling1D(pool_size=2))\n",
    "    model.add(Conv1D(filters=16, kernel_size=3, activation='relu', padding=\"same\", strides=1))\n",
    "    model.add(MaxPooling1D(pool_size=2))\n",
    "    model.add(Conv1D(filters=8, kernel_size=3, activation='relu', padding=\"same\", strides=1))\n",
    "    model.add(MaxPooling1D(pool_size=2))\n",
    "    model.add(Flatten())\n",
    "    model.add(Dense(8, activation='relu'))\n",
    "    model.add(Dense(sequence_len))\n",
    "    model.compile(loss='mse', optimizer='adam')\n",
    "\n",
    "    return model"
   ]
  },
  {
   "cell_type": "code",
   "execution_count": 36,
   "metadata": {},
   "outputs": [],
   "source": [
    "bm3 = build_model3(sequence_length)"
   ]
  },
  {
   "cell_type": "code",
   "execution_count": null,
   "metadata": {},
   "outputs": [],
   "source": []
  },
  {
   "cell_type": "code",
   "execution_count": 37,
   "metadata": {},
   "outputs": [],
   "source": [
    "def build_model4(sequence_len):    \n",
    "\n",
    "    # define model\n",
    "    model = Sequential()\n",
    "    model.add(Conv1D(filters=64, kernel_size=3, activation='relu', input_shape=(sequence_len,1), padding=\"same\", strides=1))\n",
    "    model.add(MaxPooling1D(pool_size=2))\n",
    "    model.add(Conv1D(filters=32, kernel_size=3, activation='relu', padding=\"same\", strides=1))\n",
    "    model.add(MaxPooling1D(pool_size=2))\n",
    "    model.add(Conv1D(filters=16, kernel_size=3, activation='relu', padding=\"same\", strides=1))\n",
    "    model.add(MaxPooling1D(pool_size=2))\n",
    "    model.add(Conv1D(filters=8, kernel_size=3, activation='relu', padding=\"same\", strides=1))\n",
    "    model.add(MaxPooling1D(pool_size=2))\n",
    "    \n",
    "    model.add(Flatten())\n",
    "    model.add(Dense(8, activation='relu'))\n",
    "    model.add(Dense(32, activation='relu'))\n",
    "    model.add(Dense(64, activation='relu'))\n",
    "    model.add(Dense(128, activation='relu'))\n",
    "    model.add(Dense(sequence_len))\n",
    "    model.compile(loss='mse', optimizer='adam')\n",
    "\n",
    "    return model"
   ]
  },
  {
   "cell_type": "code",
   "execution_count": 38,
   "metadata": {},
   "outputs": [],
   "source": [
    "bm4 = build_model4(sequence_length)"
   ]
  },
  {
   "cell_type": "code",
   "execution_count": null,
   "metadata": {},
   "outputs": [],
   "source": []
  },
  {
   "cell_type": "code",
   "execution_count": 39,
   "metadata": {},
   "outputs": [],
   "source": [
    "def build_model5(sequence_len):    \n",
    "\n",
    "    # define model\n",
    "    model = Sequential()\n",
    "    model.add(Conv1D(filters=64, kernel_size=3, activation='relu', input_shape=(sequence_len,1), padding=\"same\", strides=1))\n",
    "    model.add(MaxPooling1D(pool_size=2))\n",
    "    model.add(Dropout(0.2))\n",
    "    model.add(Conv1D(filters=32, kernel_size=3, activation='relu', padding=\"same\", strides=1))\n",
    "    model.add(MaxPooling1D(pool_size=2))\n",
    "    model.add(Dropout(0.2))\n",
    "    model.add(Conv1D(filters=16, kernel_size=3, activation='relu', padding=\"same\", strides=1))\n",
    "    model.add(MaxPooling1D(pool_size=2))\n",
    "    model.add(Dropout(0.2))\n",
    "    #model.add(Conv1D(filters=8, kernel_size=3, activation='relu', padding=\"same\", strides=1))\n",
    "    #model.add(MaxPooling1D(pool_size=2))\n",
    "    \n",
    "    model.add(Flatten())\n",
    "    model.add(Dense(16, activation='relu'))\n",
    "\n",
    "    model.add(Dense(sequence_len))\n",
    "    model.compile(loss='mse', optimizer='adam')\n",
    "\n",
    "    return model"
   ]
  },
  {
   "cell_type": "code",
   "execution_count": 40,
   "metadata": {},
   "outputs": [],
   "source": [
    "bm5 = build_model5(sequence_length)"
   ]
  },
  {
   "cell_type": "code",
   "execution_count": null,
   "metadata": {},
   "outputs": [],
   "source": []
  },
  {
   "cell_type": "code",
   "execution_count": 41,
   "metadata": {},
   "outputs": [],
   "source": [
    "def build_model6(sequence_len):    \n",
    "\n",
    "    # define model\n",
    "    model = Sequential()\n",
    "    model.add(Conv1D(filters=32, kernel_size=3, activation='relu', input_shape=(sequence_len,1), padding=\"same\", strides=1))\n",
    "    model.add(MaxPooling1D(pool_size=2))\n",
    "    model.add(Dropout(0.2))\n",
    "    model.add(Conv1D(filters=32, kernel_size=3, activation='relu', padding=\"same\", strides=1))\n",
    "    model.add(MaxPooling1D(pool_size=2))\n",
    "    model.add(Dropout(0.2))\n",
    "    model.add(Conv1D(filters=32, kernel_size=3, activation='relu', padding=\"same\", strides=1))\n",
    "    model.add(MaxPooling1D(pool_size=2))\n",
    "    model.add(Dropout(0.2))\n",
    "    #model.add(Conv1D(filters=8, kernel_size=3, activation='relu', padding=\"same\", strides=1))\n",
    "    #model.add(MaxPooling1D(pool_size=2))\n",
    "    \n",
    "    model.add(Flatten())\n",
    "    model.add(Dense(16, activation='relu'))\n",
    "\n",
    "    model.add(Dense(sequence_len))\n",
    "    model.compile(loss='mse', optimizer='adam')\n",
    "\n",
    "    return model"
   ]
  },
  {
   "cell_type": "code",
   "execution_count": 42,
   "metadata": {},
   "outputs": [],
   "source": [
    "bm6 = build_model6(sequence_length)"
   ]
  },
  {
   "cell_type": "code",
   "execution_count": null,
   "metadata": {},
   "outputs": [],
   "source": []
  },
  {
   "cell_type": "code",
   "execution_count": 43,
   "metadata": {},
   "outputs": [],
   "source": [
    "def build_model7(sequence_len):\n",
    "    '''Crear el modulo Auto encoder descrito en el articulo\n",
    "    '''\n",
    "    #Crea el contenedor del modelo\n",
    "    model = Sequential()\n",
    "\n",
    "    # 1D Conv filtros = 8, kernel = 4, entrada 256 pasos de 1 feature, padding igual, paso en 1\n",
    "    model.add(Conv1D(32, 6, activation=\"linear\", input_shape=(sequence_len, 1), padding=\"same\", strides=1))\n",
    "    model.add(Conv1D(8, 4, activation=\"linear\", padding=\"same\", strides=1))\n",
    "    #Aplanar la salida\n",
    "    model.add(Flatten())\n",
    "    # Fully Connected Layers abandono del 20%\n",
    "    model.add(Dropout(0.2))\n",
    "    \n",
    "    #Auto encoder\n",
    "    # Neuronas 8 veces el tamaño de la ventana de tiempo = 2048 nodos\n",
    "    model.add(Dense((sequence_len-0)*8, activation='relu'))\n",
    "    #Abandono del 20% capa con 128 neuronas\n",
    "    model.add(Dropout(0.2))\n",
    "    \n",
    "    model.add(Dense(128, activation='relu'))\n",
    "    #Abandono del 20% capa con 2048 nodos\n",
    "    model.add(Dropout(0.2))\n",
    "    \n",
    "    model.add(Dense((sequence_len-0)*8, activation='relu'))\n",
    "    model.add(Dropout(0.2))\n",
    "\n",
    "    # 1D Conv\n",
    "    # La salida de la capa anterior es una secuencia aplanada. Es necesario cambiar\n",
    "    # el formato de los datos de salida para obtener datos de forma 256,8 similar\n",
    "    # a los pasos y filtros de la primer convolución\n",
    "    model.add(Reshape(((sequence_len-0), 8)))\n",
    "    #Entrega estos datos a una nueva capa convolucional 1 filtro con kernel = 4\n",
    "    #Supongo es de un solo filtro debido a que deseamos obtener una sola serie. \n",
    "    model.add(Conv1D(1, 4, activation=\"linear\", padding=\"same\", strides=1))\n",
    "    #Compila el modelo con perdida mse y optimizador de adam\n",
    "    model.compile(loss='mse', optimizer='adam')\n",
    "    #Grafico del modelo para exportar\n",
    "    #plot_model(model, to_file='model.png', show_shapes=True)\n",
    "\n",
    "    return model"
   ]
  },
  {
   "cell_type": "code",
   "execution_count": 44,
   "metadata": {},
   "outputs": [],
   "source": [
    "bm7 = build_model7(sequence_length)"
   ]
  },
  {
   "cell_type": "code",
   "execution_count": null,
   "metadata": {},
   "outputs": [],
   "source": []
  },
  {
   "cell_type": "code",
   "execution_count": 45,
   "metadata": {},
   "outputs": [],
   "source": [
    "def build_model8(sequence_len):\n",
    "    '''Crear el modulo Auto encoder descrito en el articulo\n",
    "    '''\n",
    "    #Crea el contenedor del modelo\n",
    "    model = Sequential()\n",
    "\n",
    "    # 1D Conv filtros = 8, kernel = 4, entrada 256 pasos de 1 feature, padding igual, paso en 1\n",
    "    model.add(Conv1D(64, 9, activation=\"linear\", input_shape=(sequence_len, 1), padding=\"same\", strides=1))\n",
    "    model.add(Dropout(0.2))\n",
    "    model.add(Conv1D(16, 4, activation=\"linear\", padding=\"same\", strides=1))\n",
    "    model.add(Dropout(0.2))\n",
    "    #Aplanar la salida\n",
    "    model.add(Flatten())\n",
    "\n",
    "    \n",
    "    #Auto encoder\n",
    "    # Neuronas 8 veces el tamaño de la ventana de tiempo = 2048 nodos\n",
    "    model.add(Dense((sequence_len-0)*8, activation='relu'))\n",
    "    #Abandono del 20% capa con 128 neuronas\n",
    "    model.add(Dropout(0.2))\n",
    "    \n",
    "    model.add(Dense(128, activation='relu'))\n",
    "    #Abandono del 20% capa con 2048 nodos\n",
    "    model.add(Dropout(0.2))\n",
    "    \n",
    "    model.add(Dense((sequence_len-0)*8, activation='relu'))\n",
    "    model.add(Dropout(0.2))\n",
    "\n",
    "    # 1D Conv\n",
    "    # La salida de la capa anterior es una secuencia aplanada. Es necesario cambiar\n",
    "    # el formato de los datos de salida para obtener datos de forma 256,8 similar\n",
    "    # a los pasos y filtros de la primer convolución\n",
    "    model.add(Reshape(((sequence_len-0), 8)))\n",
    "    model.add(Dropout(0.2))\n",
    "    #Entrega estos datos a una nueva capa convolucional 1 filtro con kernel = 4\n",
    "    #Supongo es de un solo filtro debido a que deseamos obtener una sola serie. \n",
    "    model.add(Conv1D(1, 3, activation=\"linear\", padding=\"same\", strides=1))\n",
    "    #Compila el modelo con perdida mse y optimizador de adam\n",
    "    model.compile(loss='mse', optimizer='adam')\n",
    "    #Grafico del modelo para exportar\n",
    "    #plot_model(model, to_file='model.png', show_shapes=True)\n",
    "\n",
    "    return model"
   ]
  },
  {
   "cell_type": "code",
   "execution_count": 46,
   "metadata": {},
   "outputs": [],
   "source": [
    "bm8 = build_model8(sequence_length)"
   ]
  },
  {
   "cell_type": "code",
   "execution_count": null,
   "metadata": {},
   "outputs": [],
   "source": []
  },
  {
   "cell_type": "markdown",
   "metadata": {},
   "source": [
    "## Entrenar modelos"
   ]
  },
  {
   "cell_type": "markdown",
   "metadata": {},
   "source": [
    "### Modelo 0"
   ]
  },
  {
   "cell_type": "code",
   "execution_count": 75,
   "metadata": {},
   "outputs": [
    {
     "name": "stdout",
     "output_type": "stream",
     "text": [
      "Epoch 1/25\n",
      "123/123 [==============================] - 5s 41ms/step - loss: 0.0015\n",
      "Epoch 2/25\n",
      "123/123 [==============================] - 5s 40ms/step - loss: 0.0014\n",
      "Epoch 3/25\n",
      "123/123 [==============================] - 5s 41ms/step - loss: 0.0012\n",
      "Epoch 4/25\n",
      "123/123 [==============================] - 5s 41ms/step - loss: 0.0012\n",
      "Epoch 5/25\n",
      "123/123 [==============================] - 5s 43ms/step - loss: 0.0012\n",
      "Epoch 6/25\n",
      "123/123 [==============================] - 5s 42ms/step - loss: 0.0011\n",
      "Epoch 7/25\n",
      "123/123 [==============================] - 5s 42ms/step - loss: 0.0011\n",
      "Epoch 8/25\n",
      "123/123 [==============================] - 5s 42ms/step - loss: 0.0013\n",
      "Epoch 9/25\n",
      "123/123 [==============================] - 5s 42ms/step - loss: 0.0011\n",
      "Epoch 10/25\n",
      "123/123 [==============================] - 5s 42ms/step - loss: 8.3780e-04\n",
      "Epoch 11/25\n",
      "123/123 [==============================] - 5s 42ms/step - loss: 7.2255e-04\n",
      "Epoch 12/25\n",
      "123/123 [==============================] - 5s 42ms/step - loss: 8.8286e-04\n",
      "Epoch 13/25\n",
      "123/123 [==============================] - 5s 42ms/step - loss: 9.0825e-04\n",
      "Epoch 14/25\n",
      "123/123 [==============================] - 5s 42ms/step - loss: 6.8646e-04\n",
      "Epoch 15/25\n",
      "123/123 [==============================] - 5s 42ms/step - loss: 5.4907e-04\n",
      "Epoch 16/25\n",
      "123/123 [==============================] - 5s 42ms/step - loss: 5.5954e-04\n",
      "Epoch 17/25\n",
      "123/123 [==============================] - 5s 43ms/step - loss: 6.1957e-04\n",
      "Epoch 18/25\n",
      "123/123 [==============================] - 5s 42ms/step - loss: 5.8709e-04\n",
      "Epoch 19/25\n",
      "123/123 [==============================] - 5s 43ms/step - loss: 5.7254e-04\n",
      "Epoch 20/25\n",
      "123/123 [==============================] - 5s 43ms/step - loss: 5.4609e-04\n",
      "Epoch 21/25\n",
      "123/123 [==============================] - 5s 43ms/step - loss: 4.6873e-04\n",
      "Epoch 22/25\n",
      "123/123 [==============================] - 5s 43ms/step - loss: 4.6829e-04\n",
      "Epoch 23/25\n",
      "123/123 [==============================] - 5s 45ms/step - loss: 4.7178e-04\n",
      "Epoch 24/25\n",
      "123/123 [==============================] - 5s 43ms/step - loss: 5.9363e-04: 1s - l\n",
      "Epoch 25/25\n",
      "123/123 [==============================] - 5s 42ms/step - loss: 4.8279e-04\n"
     ]
    }
   ],
   "source": [
    "train_mains = X_batch \n",
    "train_meter = Y_batch \n",
    "modelo_entrenado = dae.fit(train_mains, train_meter, epochs=25)"
   ]
  },
  {
   "cell_type": "code",
   "execution_count": 76,
   "metadata": {},
   "outputs": [
    {
     "name": "stdout",
     "output_type": "stream",
     "text": [
      "Model: \"sequential_9\"\n",
      "_________________________________________________________________\n",
      "Layer (type)                 Output Shape              Param #   \n",
      "=================================================================\n",
      "conv1d_26 (Conv1D)           (None, 256, 8)            40        \n",
      "_________________________________________________________________\n",
      "flatten_9 (Flatten)          (None, 2048)              0         \n",
      "_________________________________________________________________\n",
      "dropout_20 (Dropout)         (None, 2048)              0         \n",
      "_________________________________________________________________\n",
      "dense_24 (Dense)             (None, 2048)              4196352   \n",
      "_________________________________________________________________\n",
      "dropout_21 (Dropout)         (None, 2048)              0         \n",
      "_________________________________________________________________\n",
      "dense_25 (Dense)             (None, 128)               262272    \n",
      "_________________________________________________________________\n",
      "dropout_22 (Dropout)         (None, 128)               0         \n",
      "_________________________________________________________________\n",
      "dense_26 (Dense)             (None, 2048)              264192    \n",
      "_________________________________________________________________\n",
      "dropout_23 (Dropout)         (None, 2048)              0         \n",
      "_________________________________________________________________\n",
      "reshape_3 (Reshape)          (None, 256, 8)            0         \n",
      "_________________________________________________________________\n",
      "conv1d_27 (Conv1D)           (None, 256, 1)            33        \n",
      "=================================================================\n",
      "Total params: 4,722,889\n",
      "Trainable params: 4,722,889\n",
      "Non-trainable params: 0\n",
      "_________________________________________________________________\n"
     ]
    }
   ],
   "source": [
    "dae.summary()"
   ]
  },
  {
   "cell_type": "markdown",
   "metadata": {},
   "source": [
    "### MODELO UNO"
   ]
  },
  {
   "cell_type": "code",
   "execution_count": 49,
   "metadata": {},
   "outputs": [
    {
     "name": "stdout",
     "output_type": "stream",
     "text": [
      "Epoch 1/25\n",
      "123/123 [==============================] - 1s 4ms/step - loss: 0.0018\n",
      "Epoch 2/25\n",
      "123/123 [==============================] - 0s 4ms/step - loss: 0.0014\n",
      "Epoch 3/25\n",
      "123/123 [==============================] - 1s 4ms/step - loss: 0.0012\n",
      "Epoch 4/25\n",
      "123/123 [==============================] - 1s 4ms/step - loss: 0.0011\n",
      "Epoch 5/25\n",
      "123/123 [==============================] - 1s 4ms/step - loss: 0.0011\n",
      "Epoch 6/25\n",
      "123/123 [==============================] - 1s 4ms/step - loss: 9.3767e-04\n",
      "Epoch 7/25\n",
      "123/123 [==============================] - 1s 4ms/step - loss: 9.2579e-04\n",
      "Epoch 8/25\n",
      "123/123 [==============================] - 0s 4ms/step - loss: 9.0329e-04\n",
      "Epoch 9/25\n",
      "123/123 [==============================] - 1s 4ms/step - loss: 6.7523e-04\n",
      "Epoch 10/25\n",
      "123/123 [==============================] - 1s 4ms/step - loss: 7.7886e-04\n",
      "Epoch 11/25\n",
      "123/123 [==============================] - 1s 4ms/step - loss: 7.9404e-04\n",
      "Epoch 12/25\n",
      "123/123 [==============================] - 0s 4ms/step - loss: 6.9960e-04\n",
      "Epoch 13/25\n",
      "123/123 [==============================] - 1s 4ms/step - loss: 7.2406e-04A: 0s - loss: 6.\n",
      "Epoch 14/25\n",
      "123/123 [==============================] - 0s 4ms/step - loss: 6.2440e-04\n",
      "Epoch 15/25\n",
      "123/123 [==============================] - 0s 4ms/step - loss: 6.4281e-04\n",
      "Epoch 16/25\n",
      "123/123 [==============================] - 1s 4ms/step - loss: 6.6049e-04\n",
      "Epoch 17/25\n",
      "123/123 [==============================] - 1s 4ms/step - loss: 6.4470e-04\n",
      "Epoch 18/25\n",
      "123/123 [==============================] - 0s 4ms/step - loss: 6.5146e-04\n",
      "Epoch 19/25\n",
      "123/123 [==============================] - 0s 4ms/step - loss: 6.5160e-04\n",
      "Epoch 20/25\n",
      "123/123 [==============================] - 0s 4ms/step - loss: 4.8650e-04\n",
      "Epoch 21/25\n",
      "123/123 [==============================] - 0s 4ms/step - loss: 5.7282e-04\n",
      "Epoch 22/25\n",
      "123/123 [==============================] - 1s 4ms/step - loss: 4.2228e-04\n",
      "Epoch 23/25\n",
      "123/123 [==============================] - 0s 4ms/step - loss: 5.0280e-04\n",
      "Epoch 24/25\n",
      "123/123 [==============================] - 0s 4ms/step - loss: 5.6221e-04\n",
      "Epoch 25/25\n",
      "123/123 [==============================] - 0s 4ms/step - loss: 5.0815e-04\n"
     ]
    }
   ],
   "source": [
    "train_mains = X_batch \n",
    "train_meter = Y_batch \n",
    "modelo_bm1 = bm1.fit(train_mains, train_meter, epochs=25)"
   ]
  },
  {
   "cell_type": "markdown",
   "metadata": {},
   "source": [
    "### MODELO DOS"
   ]
  },
  {
   "cell_type": "code",
   "execution_count": 50,
   "metadata": {},
   "outputs": [
    {
     "name": "stdout",
     "output_type": "stream",
     "text": [
      "Epoch 1/25\n",
      "123/123 [==============================] - 1s 5ms/step - loss: 0.0013\n",
      "Epoch 2/25\n",
      "123/123 [==============================] - 1s 5ms/step - loss: 0.0013\n",
      "Epoch 3/25\n",
      "123/123 [==============================] - 1s 5ms/step - loss: 0.0012\n",
      "Epoch 4/25\n",
      "123/123 [==============================] - 1s 5ms/step - loss: 0.0013\n",
      "Epoch 5/25\n",
      "123/123 [==============================] - 1s 5ms/step - loss: 0.0011\n",
      "Epoch 6/25\n",
      "123/123 [==============================] - 1s 5ms/step - loss: 8.9181e-04\n",
      "Epoch 7/25\n",
      "123/123 [==============================] - 1s 5ms/step - loss: 8.6000e-04\n",
      "Epoch 8/25\n",
      "123/123 [==============================] - 1s 5ms/step - loss: 0.0010\n",
      "Epoch 9/25\n",
      "123/123 [==============================] - 1s 5ms/step - loss: 7.9936e-04\n",
      "Epoch 10/25\n",
      "123/123 [==============================] - 1s 5ms/step - loss: 6.6409e-04\n",
      "Epoch 11/25\n",
      "123/123 [==============================] - 1s 5ms/step - loss: 8.0398e-04\n",
      "Epoch 12/25\n",
      "123/123 [==============================] - 1s 5ms/step - loss: 8.4650e-04\n",
      "Epoch 13/25\n",
      "123/123 [==============================] - 1s 5ms/step - loss: 7.5408e-04\n",
      "Epoch 14/25\n",
      "123/123 [==============================] - 1s 5ms/step - loss: 7.3289e-04\n",
      "Epoch 15/25\n",
      "123/123 [==============================] - 1s 5ms/step - loss: 6.8982e-04\n",
      "Epoch 16/25\n",
      "123/123 [==============================] - 1s 5ms/step - loss: 6.2683e-04\n",
      "Epoch 17/25\n",
      "123/123 [==============================] - 1s 5ms/step - loss: 6.1912e-04\n",
      "Epoch 18/25\n",
      "123/123 [==============================] - 1s 5ms/step - loss: 6.1462e-04\n",
      "Epoch 19/25\n",
      "123/123 [==============================] - 1s 5ms/step - loss: 6.8771e-04\n",
      "Epoch 20/25\n",
      "123/123 [==============================] - 1s 5ms/step - loss: 6.1269e-04\n",
      "Epoch 21/25\n",
      "123/123 [==============================] - 1s 5ms/step - loss: 4.7300e-04\n",
      "Epoch 22/25\n",
      "123/123 [==============================] - 1s 5ms/step - loss: 5.7984e-04\n",
      "Epoch 23/25\n",
      "123/123 [==============================] - 1s 5ms/step - loss: 4.9169e-04\n",
      "Epoch 24/25\n",
      "123/123 [==============================] - 1s 5ms/step - loss: 5.2218e-04\n",
      "Epoch 25/25\n",
      "123/123 [==============================] - 1s 5ms/step - loss: 4.8470e-04\n"
     ]
    }
   ],
   "source": [
    "train_mains = X_batch \n",
    "train_meter = Y_batch \n",
    "modelo_bm2 = bm2.fit(train_mains, train_meter, epochs=25)"
   ]
  },
  {
   "cell_type": "code",
   "execution_count": null,
   "metadata": {},
   "outputs": [],
   "source": []
  },
  {
   "cell_type": "markdown",
   "metadata": {},
   "source": [
    "### MODELO TRES"
   ]
  },
  {
   "cell_type": "code",
   "execution_count": 51,
   "metadata": {},
   "outputs": [
    {
     "name": "stdout",
     "output_type": "stream",
     "text": [
      "Epoch 1/25\n",
      "123/123 [==============================] - 1s 8ms/step - loss: 0.0014\n",
      "Epoch 2/25\n",
      "123/123 [==============================] - 1s 7ms/step - loss: 0.0015\n",
      "Epoch 3/25\n",
      "123/123 [==============================] - 1s 7ms/step - loss: 0.0010\n",
      "Epoch 4/25\n",
      "123/123 [==============================] - 1s 7ms/step - loss: 9.8991e-04\n",
      "Epoch 5/25\n",
      "123/123 [==============================] - 1s 7ms/step - loss: 0.0012\n",
      "Epoch 6/25\n",
      "123/123 [==============================] - 1s 7ms/step - loss: 0.0010\n",
      "Epoch 7/25\n",
      "123/123 [==============================] - 1s 7ms/step - loss: 9.3813e-04\n",
      "Epoch 8/25\n",
      "123/123 [==============================] - 1s 7ms/step - loss: 9.0944e-04\n",
      "Epoch 9/25\n",
      "123/123 [==============================] - 1s 7ms/step - loss: 9.9471e-04\n",
      "Epoch 10/25\n",
      "123/123 [==============================] - 1s 7ms/step - loss: 9.9547e-04\n",
      "Epoch 11/25\n",
      "123/123 [==============================] - 1s 7ms/step - loss: 9.7379e-04\n",
      "Epoch 12/25\n",
      "123/123 [==============================] - 1s 7ms/step - loss: 7.4806e-04\n",
      "Epoch 13/25\n",
      "123/123 [==============================] - 1s 8ms/step - loss: 8.2324e-04\n",
      "Epoch 14/25\n",
      "123/123 [==============================] - 1s 7ms/step - loss: 8.1293e-04\n",
      "Epoch 15/25\n",
      "123/123 [==============================] - 1s 7ms/step - loss: 7.5554e-04\n",
      "Epoch 16/25\n",
      "123/123 [==============================] - 1s 7ms/step - loss: 6.3270e-04\n",
      "Epoch 17/25\n",
      "123/123 [==============================] - 1s 7ms/step - loss: 8.0069e-04\n",
      "Epoch 18/25\n",
      "123/123 [==============================] - 1s 7ms/step - loss: 6.8785e-04\n",
      "Epoch 19/25\n",
      "123/123 [==============================] - 1s 7ms/step - loss: 7.4661e-04\n",
      "Epoch 20/25\n",
      "123/123 [==============================] - 1s 7ms/step - loss: 7.6810e-04\n",
      "Epoch 21/25\n",
      "123/123 [==============================] - 1s 7ms/step - loss: 7.3460e-04\n",
      "Epoch 22/25\n",
      "123/123 [==============================] - 1s 7ms/step - loss: 6.6373e-04\n",
      "Epoch 23/25\n",
      "123/123 [==============================] - 1s 7ms/step - loss: 6.4510e-04\n",
      "Epoch 24/25\n",
      "123/123 [==============================] - 1s 7ms/step - loss: 6.8693e-04\n",
      "Epoch 25/25\n",
      "123/123 [==============================] - 1s 7ms/step - loss: 6.7285e-04\n"
     ]
    }
   ],
   "source": [
    "train_mains = X_batch \n",
    "train_meter = Y_batch \n",
    "modelo_bm3 = bm3.fit(train_mains, train_meter, epochs=25)"
   ]
  },
  {
   "cell_type": "markdown",
   "metadata": {},
   "source": [
    "### MODELO CUATRO"
   ]
  },
  {
   "cell_type": "code",
   "execution_count": 52,
   "metadata": {},
   "outputs": [
    {
     "name": "stdout",
     "output_type": "stream",
     "text": [
      "Epoch 1/25\n",
      "123/123 [==============================] - 2s 11ms/step - loss: 0.0014: 0s - l\n",
      "Epoch 2/25\n",
      "123/123 [==============================] - 1s 11ms/step - loss: 0.0010\n",
      "Epoch 3/25\n",
      "123/123 [==============================] - 1s 12ms/step - loss: 0.0011\n",
      "Epoch 4/25\n",
      "123/123 [==============================] - 1s 12ms/step - loss: 0.0010\n",
      "Epoch 5/25\n",
      "123/123 [==============================] - 1s 11ms/step - loss: 0.0010\n",
      "Epoch 6/25\n",
      "123/123 [==============================] - 1s 11ms/step - loss: 0.0011\n",
      "Epoch 7/25\n",
      "123/123 [==============================] - 1s 12ms/step - loss: 9.7326e-04\n",
      "Epoch 8/25\n",
      "123/123 [==============================] - 1s 12ms/step - loss: 9.7334e-04\n",
      "Epoch 9/25\n",
      "123/123 [==============================] - 1s 12ms/step - loss: 8.5621e-04\n",
      "Epoch 10/25\n",
      "123/123 [==============================] - 2s 13ms/step - loss: 8.9108e-04: 0s - loss: 8\n",
      "Epoch 11/25\n",
      "123/123 [==============================] - 1s 12ms/step - loss: 9.4692e-04\n",
      "Epoch 12/25\n",
      "123/123 [==============================] - 1s 11ms/step - loss: 7.2033e-04\n",
      "Epoch 13/25\n",
      "123/123 [==============================] - 1s 11ms/step - loss: 7.5590e-04\n",
      "Epoch 14/25\n",
      "123/123 [==============================] - 1s 11ms/step - loss: 8.3482e-04\n",
      "Epoch 15/25\n",
      "123/123 [==============================] - 1s 12ms/step - loss: 7.2617e-04\n",
      "Epoch 16/25\n",
      "123/123 [==============================] - 1s 11ms/step - loss: 7.7551e-04\n",
      "Epoch 17/25\n",
      "123/123 [==============================] - 1s 11ms/step - loss: 6.4058e-04\n",
      "Epoch 18/25\n",
      "123/123 [==============================] - 1s 12ms/step - loss: 6.3541e-04\n",
      "Epoch 19/25\n",
      "123/123 [==============================] - 1s 11ms/step - loss: 5.7174e-04\n",
      "Epoch 20/25\n",
      "123/123 [==============================] - 1s 11ms/step - loss: 5.7612e-04\n",
      "Epoch 21/25\n",
      "123/123 [==============================] - 1s 11ms/step - loss: 7.1625e-04\n",
      "Epoch 22/25\n",
      "123/123 [==============================] - 1s 12ms/step - loss: 5.7366e-04\n",
      "Epoch 23/25\n",
      "123/123 [==============================] - 1s 11ms/step - loss: 6.9253e-04\n",
      "Epoch 24/25\n",
      "123/123 [==============================] - 1s 11ms/step - loss: 4.8369e-04\n",
      "Epoch 25/25\n",
      "123/123 [==============================] - 1s 11ms/step - loss: 6.2788e-04\n"
     ]
    }
   ],
   "source": [
    "train_mains = X_batch \n",
    "train_meter = Y_batch \n",
    "modelo_bm4 = bm4.fit(train_mains, train_meter, epochs=25)"
   ]
  },
  {
   "cell_type": "markdown",
   "metadata": {},
   "source": [
    "### MODELO CINCO"
   ]
  },
  {
   "cell_type": "code",
   "execution_count": 53,
   "metadata": {},
   "outputs": [
    {
     "name": "stdout",
     "output_type": "stream",
     "text": [
      "Epoch 1/25\n",
      "123/123 [==============================] - 2s 14ms/step - loss: 0.0015\n",
      "Epoch 2/25\n",
      "123/123 [==============================] - 2s 15ms/step - loss: 0.0012\n",
      "Epoch 3/25\n",
      "123/123 [==============================] - 2s 14ms/step - loss: 0.0012\n",
      "Epoch 4/25\n",
      "123/123 [==============================] - 2s 14ms/step - loss: 0.0012\n",
      "Epoch 5/25\n",
      "123/123 [==============================] - 2s 14ms/step - loss: 9.8241e-04\n",
      "Epoch 6/25\n",
      "123/123 [==============================] - 2s 14ms/step - loss: 9.0451e-04\n",
      "Epoch 7/25\n",
      "123/123 [==============================] - 2s 14ms/step - loss: 8.5656e-04: 1s\n",
      "Epoch 8/25\n",
      "123/123 [==============================] - 2s 14ms/step - loss: 0.0010\n",
      "Epoch 9/25\n",
      "123/123 [==============================] - 2s 14ms/step - loss: 7.4735e-04\n",
      "Epoch 10/25\n",
      "123/123 [==============================] - 2s 14ms/step - loss: 8.5927e-04\n",
      "Epoch 11/25\n",
      "123/123 [==============================] - 2s 14ms/step - loss: 7.9697e-04\n",
      "Epoch 12/25\n",
      "123/123 [==============================] - 2s 14ms/step - loss: 6.7191e-04\n",
      "Epoch 13/25\n",
      "123/123 [==============================] - 2s 14ms/step - loss: 7.6502e-04\n",
      "Epoch 14/25\n",
      "123/123 [==============================] - 2s 14ms/step - loss: 7.0558e-04\n",
      "Epoch 15/25\n",
      "123/123 [==============================] - 2s 14ms/step - loss: 6.8214e-04\n",
      "Epoch 16/25\n",
      "123/123 [==============================] - 2s 14ms/step - loss: 7.0980e-04\n",
      "Epoch 17/25\n",
      "123/123 [==============================] - 2s 14ms/step - loss: 6.9413e-04\n",
      "Epoch 18/25\n",
      "123/123 [==============================] - 2s 14ms/step - loss: 8.3493e-04\n",
      "Epoch 19/25\n",
      "123/123 [==============================] - 2s 14ms/step - loss: 6.3048e-04\n",
      "Epoch 20/25\n",
      "123/123 [==============================] - 2s 14ms/step - loss: 5.8106e-04\n",
      "Epoch 21/25\n",
      "123/123 [==============================] - 2s 14ms/step - loss: 5.4212e-04\n",
      "Epoch 22/25\n",
      "123/123 [==============================] - 2s 14ms/step - loss: 6.1140e-04\n",
      "Epoch 23/25\n",
      "123/123 [==============================] - 2s 14ms/step - loss: 5.7166e-04\n",
      "Epoch 24/25\n",
      "123/123 [==============================] - 2s 14ms/step - loss: 5.8218e-04\n",
      "Epoch 25/25\n",
      "123/123 [==============================] - 2s 14ms/step - loss: 5.7696e-04\n"
     ]
    }
   ],
   "source": [
    "train_mains = X_batch \n",
    "train_meter = Y_batch \n",
    "modelo_bm5 = bm5.fit(train_mains, train_meter, epochs=25)"
   ]
  },
  {
   "cell_type": "code",
   "execution_count": null,
   "metadata": {},
   "outputs": [],
   "source": []
  },
  {
   "cell_type": "markdown",
   "metadata": {},
   "source": [
    "### MODELO SEIS"
   ]
  },
  {
   "cell_type": "code",
   "execution_count": 54,
   "metadata": {},
   "outputs": [
    {
     "name": "stdout",
     "output_type": "stream",
     "text": [
      "Epoch 1/25\n",
      "123/123 [==============================] - 2s 10ms/step - loss: 0.0015\n",
      "Epoch 2/25\n",
      "123/123 [==============================] - 1s 10ms/step - loss: 0.0012\n",
      "Epoch 3/25\n",
      "123/123 [==============================] - 1s 10ms/step - loss: 0.0011\n",
      "Epoch 4/25\n",
      "123/123 [==============================] - 1s 10ms/step - loss: 0.0012\n",
      "Epoch 5/25\n",
      "123/123 [==============================] - 1s 10ms/step - loss: 0.0011\n",
      "Epoch 6/25\n",
      "123/123 [==============================] - 1s 10ms/step - loss: 0.0010\n",
      "Epoch 7/25\n",
      "123/123 [==============================] - 1s 9ms/step - loss: 0.0011\n",
      "Epoch 8/25\n",
      "123/123 [==============================] - 1s 10ms/step - loss: 0.0014\n",
      "Epoch 9/25\n",
      "123/123 [==============================] - 1s 10ms/step - loss: 9.0931e-04\n",
      "Epoch 10/25\n",
      "123/123 [==============================] - 1s 10ms/step - loss: 7.6862e-04\n",
      "Epoch 11/25\n",
      "123/123 [==============================] - 1s 9ms/step - loss: 7.2020e-04\n",
      "Epoch 12/25\n",
      "123/123 [==============================] - 1s 10ms/step - loss: 8.2775e-04\n",
      "Epoch 13/25\n",
      "123/123 [==============================] - 1s 10ms/step - loss: 7.3902e-04\n",
      "Epoch 14/25\n",
      "123/123 [==============================] - 1s 9ms/step - loss: 7.0055e-04\n",
      "Epoch 15/25\n",
      "123/123 [==============================] - 1s 10ms/step - loss: 0.0010\n",
      "Epoch 16/25\n",
      "123/123 [==============================] - 1s 9ms/step - loss: 6.1842e-04\n",
      "Epoch 17/25\n",
      "123/123 [==============================] - 1s 9ms/step - loss: 7.0586e-04\n",
      "Epoch 18/25\n",
      "123/123 [==============================] - 1s 9ms/step - loss: 6.6667e-04\n",
      "Epoch 19/25\n",
      "123/123 [==============================] - 1s 9ms/step - loss: 5.3538e-04\n",
      "Epoch 20/25\n",
      "123/123 [==============================] - 1s 9ms/step - loss: 7.4530e-04\n",
      "Epoch 21/25\n",
      "123/123 [==============================] - 1s 10ms/step - loss: 5.9302e-04\n",
      "Epoch 22/25\n",
      "123/123 [==============================] - 1s 10ms/step - loss: 6.4449e-04\n",
      "Epoch 23/25\n",
      "123/123 [==============================] - 1s 9ms/step - loss: 5.6278e-04\n",
      "Epoch 24/25\n",
      "123/123 [==============================] - 1s 9ms/step - loss: 5.3926e-04\n",
      "Epoch 25/25\n",
      "123/123 [==============================] - 1s 10ms/step - loss: 5.6974e-04\n"
     ]
    }
   ],
   "source": [
    "train_mains = X_batch \n",
    "train_meter = Y_batch \n",
    "modelo_bm6 = bm6.fit(train_mains, train_meter, epochs=25)"
   ]
  },
  {
   "cell_type": "code",
   "execution_count": null,
   "metadata": {},
   "outputs": [],
   "source": []
  },
  {
   "cell_type": "markdown",
   "metadata": {},
   "source": [
    "### MODELO SIETE"
   ]
  },
  {
   "cell_type": "code",
   "execution_count": 55,
   "metadata": {},
   "outputs": [
    {
     "name": "stdout",
     "output_type": "stream",
     "text": [
      "Epoch 1/25\n",
      "123/123 [==============================] - 6s 47ms/step - loss: 0.0013\n",
      "Epoch 2/25\n",
      "123/123 [==============================] - 6s 48ms/step - loss: 0.0014\n",
      "Epoch 3/25\n",
      "123/123 [==============================] - 6s 47ms/step - loss: 0.0012\n",
      "Epoch 4/25\n",
      "123/123 [==============================] - 6s 47ms/step - loss: 0.0016\n",
      "Epoch 5/25\n",
      "123/123 [==============================] - 6s 48ms/step - loss: 0.0012\n",
      "Epoch 6/25\n",
      "123/123 [==============================] - 6s 46ms/step - loss: 0.0015\n",
      "Epoch 7/25\n",
      "123/123 [==============================] - 6s 50ms/step - loss: 0.0014\n",
      "Epoch 8/25\n",
      "123/123 [==============================] - 6s 48ms/step - loss: 0.0012\n",
      "Epoch 9/25\n",
      "123/123 [==============================] - 6s 47ms/step - loss: 0.0011\n",
      "Epoch 10/25\n",
      "123/123 [==============================] - 6s 47ms/step - loss: 0.0012\n",
      "Epoch 11/25\n",
      "123/123 [==============================] - 6s 47ms/step - loss: 0.0011\n",
      "Epoch 12/25\n",
      "123/123 [==============================] - 6s 47ms/step - loss: 0.0011\n",
      "Epoch 13/25\n",
      "123/123 [==============================] - 6s 48ms/step - loss: 0.0011\n",
      "Epoch 14/25\n",
      "123/123 [==============================] - 6s 48ms/step - loss: 9.8121e-04\n",
      "Epoch 15/25\n",
      "123/123 [==============================] - 5s 44ms/step - loss: 9.5760e-04\n",
      "Epoch 16/25\n",
      "123/123 [==============================] - 5s 44ms/step - loss: 9.0498e-04: 1\n",
      "Epoch 17/25\n",
      "123/123 [==============================] - 5s 44ms/step - loss: 7.2893e-04\n",
      "Epoch 18/25\n",
      "123/123 [==============================] - 5s 44ms/step - loss: 7.1515e-04\n",
      "Epoch 19/25\n",
      "123/123 [==============================] - 5s 44ms/step - loss: 5.5693e-04: 1\n",
      "Epoch 20/25\n",
      "123/123 [==============================] - 5s 44ms/step - loss: 5.5444e-04\n",
      "Epoch 21/25\n",
      "123/123 [==============================] - 5s 44ms/step - loss: 6.7249e-04: 2s - l - ETA: 1s - \n",
      "Epoch 22/25\n",
      "123/123 [==============================] - 6s 45ms/step - loss: 5.6387e-04\n",
      "Epoch 23/25\n",
      "123/123 [==============================] - 5s 44ms/step - loss: 5.7823e-04: 0s - loss: 5.772\n",
      "Epoch 24/25\n",
      "123/123 [==============================] - 5s 44ms/step - loss: 5.5118e-04\n",
      "Epoch 25/25\n",
      "123/123 [==============================] - 5s 44ms/step - loss: 5.5751e-04\n"
     ]
    }
   ],
   "source": [
    "train_mains = X_batch \n",
    "train_meter = Y_batch \n",
    "modelo_bm7 = bm7.fit(train_mains, train_meter, epochs=25)"
   ]
  },
  {
   "cell_type": "code",
   "execution_count": null,
   "metadata": {},
   "outputs": [],
   "source": []
  },
  {
   "cell_type": "markdown",
   "metadata": {},
   "source": [
    "### MODELO OCHO"
   ]
  },
  {
   "cell_type": "code",
   "execution_count": 153,
   "metadata": {},
   "outputs": [
    {
     "name": "stdout",
     "output_type": "stream",
     "text": [
      "Epoch 1/25\n",
      "123/123 [==============================] - 10s 80ms/step - loss: 0.0015\n",
      "Epoch 2/25\n",
      "123/123 [==============================] - 10s 78ms/step - loss: 0.0015\n",
      "Epoch 3/25\n",
      "123/123 [==============================] - 10s 81ms/step - loss: 0.0015\n",
      "Epoch 4/25\n",
      "123/123 [==============================] - 10s 80ms/step - loss: 0.0015\n",
      "Epoch 5/25\n",
      "123/123 [==============================] - 10s 81ms/step - loss: 0.0015\n",
      "Epoch 6/25\n",
      "123/123 [==============================] - 10s 80ms/step - loss: 0.0015\n",
      "Epoch 7/25\n",
      "123/123 [==============================] - 10s 80ms/step - loss: 0.0015\n",
      "Epoch 8/25\n",
      "123/123 [==============================] - 10s 80ms/step - loss: 0.0015\n",
      "Epoch 9/25\n",
      "123/123 [==============================] - 10s 80ms/step - loss: 0.0015\n",
      "Epoch 10/25\n",
      "123/123 [==============================] - 10s 84ms/step - loss: 0.0015\n",
      "Epoch 11/25\n",
      "123/123 [==============================] - 10s 83ms/step - loss: 0.0015\n",
      "Epoch 12/25\n",
      "123/123 [==============================] - 10s 81ms/step - loss: 0.0015\n",
      "Epoch 13/25\n",
      "123/123 [==============================] - 10s 85ms/step - loss: 0.0015\n",
      "Epoch 14/25\n",
      "123/123 [==============================] - 10s 82ms/step - loss: 0.0015\n",
      "Epoch 15/25\n",
      "123/123 [==============================] - 10s 78ms/step - loss: 0.0015\n",
      "Epoch 16/25\n",
      "123/123 [==============================] - 9s 77ms/step - loss: 0.0015\n",
      "Epoch 17/25\n",
      "123/123 [==============================] - 10s 81ms/step - loss: 0.0015\n",
      "Epoch 18/25\n",
      "123/123 [==============================] - 10s 85ms/step - loss: 0.0015\n",
      "Epoch 19/25\n",
      "123/123 [==============================] - 10s 77ms/step - loss: 0.0015\n",
      "Epoch 20/25\n",
      "123/123 [==============================] - 9s 77ms/step - loss: 0.0015\n",
      "Epoch 21/25\n",
      "123/123 [==============================] - 9s 76ms/step - loss: 0.0015\n",
      "Epoch 22/25\n",
      "123/123 [==============================] - 9s 75ms/step - loss: 0.0015\n",
      "Epoch 23/25\n",
      "123/123 [==============================] - 9s 74ms/step - loss: 0.0015\n",
      "Epoch 24/25\n",
      "123/123 [==============================] - 9s 74ms/step - loss: 0.0015\n",
      "Epoch 25/25\n",
      "123/123 [==============================] - 9s 75ms/step - loss: 0.0015\n"
     ]
    }
   ],
   "source": [
    "train_mains = X_batch \n",
    "train_meter = Y_batch \n",
    "modelo_bm8 = bm8.fit(train_mains, train_meter, epochs=25)"
   ]
  },
  {
   "cell_type": "code",
   "execution_count": null,
   "metadata": {},
   "outputs": [],
   "source": []
  },
  {
   "cell_type": "markdown",
   "metadata": {},
   "source": [
    "# Datos de Test"
   ]
  },
  {
   "cell_type": "code",
   "execution_count": 77,
   "metadata": {},
   "outputs": [
    {
     "name": "stdout",
     "output_type": "stream",
     "text": [
      "test_main      (2131023,)\n",
      "test_microwave_1  (2130995,)\n"
     ]
    }
   ],
   "source": [
    "test_main = main_1.loc['2011-4-30':,1]\n",
    "test_microwave_1 = microwave_1.loc['2011-4-30':,1]\n",
    "print(f\"test_main      {test_main.shape}\")\n",
    "print(f\"test_microwave_1  {test_microwave_1.shape}\")"
   ]
  },
  {
   "cell_type": "code",
   "execution_count": 78,
   "metadata": {},
   "outputs": [],
   "source": [
    "#Selecciona el medidor central del edificio\n",
    "test_mains = test_main\n",
    "test_meter = test_microwave_1"
   ]
  },
  {
   "cell_type": "markdown",
   "metadata": {},
   "source": [
    "Datos de test deben ser evaluados en los instantes de tiempo donde el medidor central funciono de manera idonea. Esto con el fin de evaluar los datos en instantes de buen registro de datos."
   ]
  },
  {
   "cell_type": "code",
   "execution_count": 79,
   "metadata": {},
   "outputs": [
    {
     "data": {
      "text/plain": [
       "[TimeFrame(start='2011-04-30 00:00:00-04:00', end='2011-05-01 09:44:42-04:00', empty=False),\n",
       " TimeFrame(start='2011-05-01 09:47:18-04:00', end='2011-05-02 17:04:59-04:00', empty=False),\n",
       " TimeFrame(start='2011-05-02 17:07:27-04:00', end='2011-05-03 17:30:17-04:00', empty=False),\n",
       " TimeFrame(start='2011-05-03 17:32:49-04:00', end='2011-05-03 17:33:44-04:00', empty=False),\n",
       " TimeFrame(start='2011-05-06 10:51:46-04:00', end='2011-05-07 01:53:10-04:00', empty=False),\n",
       " TimeFrame(start='2011-05-07 01:53:55-04:00', end='2011-05-07 02:38:15-04:00', empty=False),\n",
       " TimeFrame(start='2011-05-07 02:40:43-04:00', end='2011-05-07 11:59:16-04:00', empty=False),\n",
       " TimeFrame(start='2011-05-11 03:19:43-04:00', end='2011-05-12 17:48:38-04:00', empty=False),\n",
       " TimeFrame(start='2011-05-12 20:14:30-04:00', end='2011-05-13 05:16:24-04:00', empty=False),\n",
       " TimeFrame(start='2011-05-22 16:04:46-04:00', end='2011-05-22 23:39:01-04:00', empty=False),\n",
       " TimeFrame(start='2011-05-22 23:41:35-04:00', end='2011-05-23 09:22:08-04:00', empty=False),\n",
       " TimeFrame(start='2011-05-23 10:31:34-04:00', end='2011-05-24 14:32:05-04:00', empty=False),\n",
       " TimeFrame(start='2011-05-24 15:55:33-04:00', end='2011-05-24 15:57:02-04:00', empty=False)]"
      ]
     },
     "execution_count": 79,
     "metadata": {},
     "output_type": "execute_result"
    }
   ],
   "source": [
    "#<<<<<<<<<<<<<<<<<<<<<<<<<<<<<<<<<<<<<<<<<<<<<<<<<<<<<<<<<<<<<<<<<<<<<<<<<<<<<<<<<<<<<<<<<\n",
    "\n",
    "# Carga los datos completos\n",
    "test = DataSet('C:\\\\Users\\\\josel\\\\SmartMeter\\\\OrdenandoTodo\\\\redd.h5')\n",
    "# Define el tamaño de la muestra de test iniciando justo donde termina el train\n",
    "test.set_window(start=\"30-4-2011\") \n",
    "# Selecciona los electrodomesticos del primer edificio\n",
    "test_elec = test.buildings[1].elec\n",
    "# Selecciona el medidor central del edificio\n",
    "test_mains_1 = test_elec.mains().all_meters()[0]\n",
    "test_meter_1 = test_elec.submeters()['microwave']\n",
    "good_sections = test_mains_1.good_sections()\n",
    "good_sections\n",
    "\n",
    "#>>>>>>>>>>>>>>>>>>>>>>>>>>>>>>>>>>>>>>>>>>>>>>>>>>>>>>>>>>>>>>>>>>>>>>>>>>>>>>>>>>>>>>>>>"
   ]
  },
  {
   "cell_type": "code",
   "execution_count": 80,
   "metadata": {},
   "outputs": [],
   "source": [
    "#18. Define un array para timeframes vacio en este almacenare\n",
    "# los tiempos donde el medidor estaba en buen funcionamiento\n",
    "timeframes = []"
   ]
  },
  {
   "cell_type": "code",
   "execution_count": 81,
   "metadata": {},
   "outputs": [],
   "source": [
    "def data_predict(mains, modelo):\n",
    "    #Cantidad de pasos en la ventana\n",
    "    s = sequence_length\n",
    "    # Tamaño de la sección de la serie que se cargada\n",
    "    # según los instantes de buen funcionamiento del medidor\n",
    "    up_limit = len(mains)\n",
    "    # Rellenar los valores Nan con ceros\n",
    "    mains.fillna(0, inplace=True)\n",
    "    # Calcular la cantidad de ceros que deben llenarse \n",
    "    # para crear un batch que permita que los datos al \n",
    "    # dividirse mantengan el tamaño para todos los datos\n",
    "    additional = s - (up_limit % s)\n",
    "    # Crear series de datos con los batch de ceros al final\n",
    "    X_batch = np.append(mains, np.zeros(additional))\n",
    "    #Cambiar el formato de los datos como: numero de muestras\n",
    "    # ventanas de tiempo = 256, y una caracteristica\n",
    "    X_batch = np.reshape(X_batch, (int(len(X_batch) / s), s ,1))\n",
    "    #Calcular la prediccion para el modelo\n",
    "    #<<<<<<<<<<<<<<<<<<<<<<<<<<<<<<<<<<<<<\n",
    "    pred = modelo.predict(X_batch)\n",
    "    #>>>>>>>>>>>>>>>>>>>>>>>>>>>>>>>>>>>>>\n",
    "    # Ahora une todas las salidas en ventanas a una serie completa, de los cuales solo toma\n",
    "    # los datos hasta donde la serie original tenia datos. Los datos restantes\n",
    "    # son los tomados por el batch de ceros, por lo tanto, se eliminan de la predicción\n",
    "    pred = np.reshape(pred, (up_limit + additional))[:up_limit]\n",
    "    # Crea una serie de pandas, con los datos de pred, usa como indice los mismos indices de \n",
    "    # tiempo que tenia la serie original y como nombre la llama 0 este es un metadato\n",
    "    column = pd.Series(pred, index=mains.index, name=0)\n",
    "\n",
    "    # Crea un diccionario vacio con el creara un dataframe posteriormente\n",
    "    # donde la clave key = 0 tendra como valor value la columna de datos predichos\n",
    "    appliance_powers_dict = {}\n",
    "    appliance_powers_dict[0] = column\n",
    "    # Transforma el diccionario a un dataframe de pandas de esta manera \n",
    "    # agrega la dimension de las columnas = 1. Tal que (muestras, 1)\n",
    "    appliance_powers = pd.DataFrame(appliance_powers_dict)\n",
    "    # Y es este dataframe el que retorna\n",
    "    return appliance_powers"
   ]
  },
  {
   "cell_type": "code",
   "execution_count": 82,
   "metadata": {},
   "outputs": [],
   "source": [
    "# Recorre cada sección de datos\n",
    "# hace los cortes para cada sección en los datos de test\n",
    "# Hace la predicción para dicha sección \n",
    "# Retorna los datos y los concatenta\n",
    "# Guarda todas las medidas resultantes en un archivo hdf5 output_datastore\n",
    "def process_test(good_sections, test_mains, test_appliance, model, output_datastore, sequence_length = 256):\n",
    "    #23. Defino una lista que contendra los instantes de buen funcionamiento \n",
    "    # que cumplan con el tamaño de muestra\n",
    "    timeframes = []\n",
    "    for good_section in good_sections:\n",
    "        # Recortar las secciones\n",
    "        #print(i.start)\n",
    "        #print(i.end)\n",
    "        chunk = test_mains.loc[good_section.start:good_section.end]\n",
    "        chunk_test = test_appliance.loc[good_section.start:good_section.end]\n",
    "        #print(f\"chunk {chunk.shape}\")\n",
    "        #print(f\"chunk_test {chunk_test.shape}\")\n",
    "\n",
    "        # Si el tamaño de la serie cargada es menor al de las ventanas se descarta\n",
    "        if len(chunk) < sequence_length:\n",
    "            continue\n",
    "        #26. Imprime el tamaño de los tramos de series cargados\n",
    "        print(\"New sensible chunk: {} size of data\".format(len(chunk)))\n",
    "\n",
    "        # Se guarda cada tramo de tiempo seleccionado\n",
    "        timeframes.append(chunk.index)\n",
    "        # Serie normalizada para test\n",
    "        chunk2 = _normalize(chunk, mmax)\n",
    "        # llamar funcion, pasar chunk2 \n",
    "        appliance_power = data_predict(chunk2, model)\n",
    "\n",
    "        # Todo valor negativo calculado lo iguala a cero\n",
    "        appliance_power[appliance_power < 0] = 0\n",
    "\n",
    "        # Calcula el valor real mediante la desnormalización de los datos\n",
    "        appliance_power = _denormalize(appliance_power, mmax)\n",
    "\n",
    "        cols = ['power']\n",
    "        # Test                  \n",
    "        df1 = pd.DataFrame(\n",
    "            chunk_test.values, index=chunk_test.index,\n",
    "            columns=cols, dtype=\"float32\")\n",
    "        # Predict\n",
    "        df2 = pd.DataFrame(\n",
    "            appliance_power.values, index=appliance_power.index,\n",
    "            columns=cols, dtype=\"float32\")\n",
    "\n",
    "        key1 = 'microwave_test'\n",
    "        output_datastore.append(key1, df1)\n",
    "        key2 = 'microwave_predict'\n",
    "        output_datastore.append(key2, df2)"
   ]
  },
  {
   "cell_type": "markdown",
   "metadata": {},
   "source": [
    "### MODELO 0 DAE"
   ]
  },
  {
   "cell_type": "code",
   "execution_count": 83,
   "metadata": {},
   "outputs": [],
   "source": []
  },
  {
   "cell_type": "code",
   "execution_count": 84,
   "metadata": {},
   "outputs": [],
   "source": [
    "output_datastorem = pd.HDFStore(\"borrar_m0\", \"w\")\n",
    "#output_datastorem.close()"
   ]
  },
  {
   "cell_type": "code",
   "execution_count": 85,
   "metadata": {},
   "outputs": [
    {
     "name": "stdout",
     "output_type": "stream",
     "text": [
      "New sensible chunk: 121483 size of data\n",
      "New sensible chunk: 112662 size of data\n",
      "New sensible chunk: 87771 size of data\n",
      "New sensible chunk: 54085 size of data\n",
      "New sensible chunk: 2661 size of data\n",
      "New sensible chunk: 33514 size of data\n",
      "New sensible chunk: 138536 size of data\n",
      "New sensible chunk: 32515 size of data\n",
      "New sensible chunk: 27256 size of data\n",
      "New sensible chunk: 34834 size of data\n",
      "New sensible chunk: 100832 size of data\n"
     ]
    }
   ],
   "source": [
    "test_appliance = test_microwave_1\n",
    "process_test(good_sections, test_mains, test_appliance, dae, output_datastorem, sequence_length = 256)"
   ]
  },
  {
   "cell_type": "code",
   "execution_count": 86,
   "metadata": {},
   "outputs": [
    {
     "data": {
      "text/plain": [
       "['/microwave_predict', '/microwave_test']"
      ]
     },
     "execution_count": 86,
     "metadata": {},
     "output_type": "execute_result"
    }
   ],
   "source": [
    "output_datastorem.keys()"
   ]
  },
  {
   "cell_type": "code",
   "execution_count": 91,
   "metadata": {},
   "outputs": [
    {
     "data": {
      "text/plain": [
       "<matplotlib.legend.Legend at 0x210ebe211d0>"
      ]
     },
     "execution_count": 91,
     "metadata": {},
     "output_type": "execute_result"
    },
    {
     "data": {
      "image/png": "[encoded data removed]",
      "text/plain": [
       "<Figure size 936x432 with 1 Axes>"
      ]
     },
     "metadata": {
      "needs_background": "light"
     },
     "output_type": "display_data"
    }
   ],
   "source": [
    "plt.plot(output_datastorem.get('/microwave_predict').iloc[25000:55000,:], color = 'red', label = 'predict')\n",
    "plt.legend()\n",
    "plt.plot(output_datastorem.get('/microwave_test').iloc[25000:55000,:], color = 'blue', label = 'test')\n",
    "plt.legend()"
   ]
  },
  {
   "cell_type": "markdown",
   "metadata": {},
   "source": [
    "**Correlación**"
   ]
  },
  {
   "cell_type": "code",
   "execution_count": 67,
   "metadata": {},
   "outputs": [
    {
     "name": "stdout",
     "output_type": "stream",
     "text": [
      "(746149, 1)\n",
      "746149\n"
     ]
    },
    {
     "data": {
      "text/plain": [
       "array([[1.        , 0.40570165],\n",
       "       [0.40570165, 1.        ]])"
      ]
     },
     "execution_count": 67,
     "metadata": {},
     "output_type": "execute_result"
    }
   ],
   "source": [
    "#Calculo de correlación cruzada\n",
    "predict0 = output_datastorem.get('/microwave_predict')\n",
    "test0 = output_datastorem.get('/microwave_test')\n",
    "print(predict0.shape)\n",
    "t0 = np.ravel(test0)\n",
    "p0 = np.ravel(predict0)\n",
    "print(len(t0))\n",
    "np.corrcoef(t0,p0)"
   ]
  },
  {
   "cell_type": "code",
   "execution_count": 92,
   "metadata": {},
   "outputs": [
    {
     "name": "stdout",
     "output_type": "stream",
     "text": [
      "Correlación 0.4057016547601376\n"
     ]
    }
   ],
   "source": [
    "print(f\"Correlación {np.corrcoef(t0,p0)[0,1]}\")"
   ]
  },
  {
   "cell_type": "markdown",
   "metadata": {},
   "source": [
    "**Consumos total y promedio**"
   ]
  },
  {
   "cell_type": "code",
   "execution_count": 93,
   "metadata": {},
   "outputs": [
    {
     "name": "stdout",
     "output_type": "stream",
     "text": [
      "Consumo test >>> TOTAL = 12696381.0               Promedio = 17.015878866017378\n",
      "Consumo pred >>> TOTAL = 15188900.288831558        Promedio = 20.356390330659906\n",
      "Diferencias total:    -2492519.288831558\n",
      "Diferencias promedio: -3.3405114646425282\n"
     ]
    }
   ],
   "source": [
    "total_consumo_test0 = sum(t0)\n",
    "promedio_test0 = total_consumo_test0 / len(t0)\n",
    "\n",
    "total_consumo_pred0 = sum(p0)\n",
    "promedio_pred0 = total_consumo_pred0 / len(p0)\n",
    "\n",
    "print(f\"Consumo test >>> TOTAL = {total_consumo_test0}               Promedio = {promedio_test0}\")\n",
    "print(f\"Consumo pred >>> TOTAL = {total_consumo_pred0}        Promedio = {promedio_pred0}\")\n",
    "\n",
    "diferencia_total0 = total_consumo_test0 - total_consumo_pred0\n",
    "print(f\"Diferencias total:    {diferencia_total0}\")\n",
    "\n",
    "diferencia_promedio0 = promedio_test0 - promedio_pred0\n",
    "print(f\"Diferencias promedio: {diferencia_promedio0}\")"
   ]
  },
  {
   "cell_type": "markdown",
   "metadata": {},
   "source": [
    "### Modelo UNO resultados"
   ]
  },
  {
   "cell_type": "code",
   "execution_count": 95,
   "metadata": {},
   "outputs": [],
   "source": [
    "output_datastore_m1 = pd.HDFStore(\"borrar_mm1\", \"w\")\n",
    "#output_datastore.close()"
   ]
  },
  {
   "cell_type": "code",
   "execution_count": 96,
   "metadata": {},
   "outputs": [
    {
     "name": "stdout",
     "output_type": "stream",
     "text": [
      "New sensible chunk: 121483 size of data\n",
      "New sensible chunk: 112662 size of data\n",
      "New sensible chunk: 87771 size of data\n",
      "New sensible chunk: 54085 size of data\n",
      "New sensible chunk: 2661 size of data\n",
      "New sensible chunk: 33514 size of data\n",
      "New sensible chunk: 138536 size of data\n",
      "New sensible chunk: 32515 size of data\n",
      "New sensible chunk: 27256 size of data\n",
      "New sensible chunk: 34834 size of data\n",
      "New sensible chunk: 100832 size of data\n"
     ]
    }
   ],
   "source": [
    "test_appliance = test_microwave_1\n",
    "process_test(good_sections, test_mains, test_appliance, bm1, output_datastore_m1, sequence_length = 256)"
   ]
  },
  {
   "cell_type": "code",
   "execution_count": 97,
   "metadata": {},
   "outputs": [
    {
     "data": {
      "text/plain": [
       "<matplotlib.legend.Legend at 0x210eee23c88>"
      ]
     },
     "execution_count": 97,
     "metadata": {},
     "output_type": "execute_result"
    },
    {
     "data": {
      "image/png": "[encoded data removed]",
      "text/plain": [
       "<Figure size 936x432 with 1 Axes>"
      ]
     },
     "metadata": {
      "needs_background": "light"
     },
     "output_type": "display_data"
    }
   ],
   "source": [
    "plt.plot(output_datastore_m1.get('/microwave_predict').iloc[25000:55000,:], color = 'red', label = 'predict')\n",
    "plt.legend()\n",
    "plt.plot(output_datastore_m1.get('/microwave_test').iloc[25000:55000,:], color = 'blue', label = 'test')\n",
    "plt.legend()"
   ]
  },
  {
   "cell_type": "markdown",
   "metadata": {},
   "source": [
    "**CORRELACIÓN CRUZADA**"
   ]
  },
  {
   "cell_type": "code",
   "execution_count": 98,
   "metadata": {},
   "outputs": [
    {
     "name": "stdout",
     "output_type": "stream",
     "text": [
      "(746149, 1)\n",
      "746149\n",
      "Correlación [[1.         0.40570165]\n",
      " [0.40570165 1.        ]]\n"
     ]
    }
   ],
   "source": [
    "#Calculo de correlación cruzada\n",
    "predict1 = output_datastore_m1.get('/microwave_predict')\n",
    "test1  = output_datastore_m1.get('/microwave_test')\n",
    "print(predict1.shape)\n",
    "t1 = np.ravel(test0)\n",
    "p1 = np.ravel(predict0)\n",
    "print(len(t1))\n",
    "np.corrcoef(t1,p1)\n",
    "print(f\"Correlación {np.corrcoef(t1,p1)}\")"
   ]
  },
  {
   "cell_type": "markdown",
   "metadata": {},
   "source": [
    "**Potencia promedio de consumo**"
   ]
  },
  {
   "cell_type": "code",
   "execution_count": 99,
   "metadata": {},
   "outputs": [
    {
     "name": "stdout",
     "output_type": "stream",
     "text": [
      "Consumo test >>> TOTAL = 12696381.0               Promedio = 17.015878866017378\n",
      "Consumo pred >>> TOTAL = 15188900.288831558        Promedio = 20.356390330659906\n",
      "Diferencias total:    -2492519.288831558\n",
      "Diferencias promedio: -3.3405114646425282\n"
     ]
    }
   ],
   "source": [
    "total_consumo_test1 = sum(t1)\n",
    "promedio_test1 = total_consumo_test1 / len(t1)\n",
    "\n",
    "total_consumo_pred1 = sum(p1)\n",
    "promedio_pred1 = total_consumo_pred1 / len(p1)\n",
    "\n",
    "print(f\"Consumo test >>> TOTAL = {total_consumo_test1}               Promedio = {promedio_test1}\")\n",
    "print(f\"Consumo pred >>> TOTAL = {total_consumo_pred1}        Promedio = {promedio_pred1}\")\n",
    "\n",
    "diferencia_total1 = total_consumo_test1 - total_consumo_pred1\n",
    "print(f\"Diferencias total:    {diferencia_total1}\")\n",
    "\n",
    "diferencia_promedio1 = promedio_test1 - promedio_pred1\n",
    "print(f\"Diferencias promedio: {diferencia_promedio1}\")"
   ]
  },
  {
   "cell_type": "markdown",
   "metadata": {},
   "source": [
    "###  Modelo DOS resultados"
   ]
  },
  {
   "cell_type": "code",
   "execution_count": 100,
   "metadata": {},
   "outputs": [],
   "source": [
    "output_datastore_m2 = pd.HDFStore(\"borrar_mm2\", \"w\")\n",
    "#output_datastore.close()"
   ]
  },
  {
   "cell_type": "code",
   "execution_count": 101,
   "metadata": {},
   "outputs": [
    {
     "name": "stdout",
     "output_type": "stream",
     "text": [
      "New sensible chunk: 121483 size of data\n",
      "New sensible chunk: 112662 size of data\n",
      "New sensible chunk: 87771 size of data\n",
      "New sensible chunk: 54085 size of data\n",
      "New sensible chunk: 2661 size of data\n",
      "New sensible chunk: 33514 size of data\n",
      "New sensible chunk: 138536 size of data\n",
      "New sensible chunk: 32515 size of data\n",
      "New sensible chunk: 27256 size of data\n",
      "New sensible chunk: 34834 size of data\n",
      "New sensible chunk: 100832 size of data\n"
     ]
    }
   ],
   "source": [
    "test_appliance = test_microwave_1\n",
    "process_test(good_sections, test_mains, test_appliance, bm2, output_datastore_m2, sequence_length = 256)"
   ]
  },
  {
   "cell_type": "code",
   "execution_count": 102,
   "metadata": {},
   "outputs": [
    {
     "data": {
      "text/plain": [
       "<matplotlib.legend.Legend at 0x210f2202978>"
      ]
     },
     "execution_count": 102,
     "metadata": {},
     "output_type": "execute_result"
    },
    {
     "data": {
      "image/png": "[encoded data removed]",
      "text/plain": [
       "<Figure size 936x432 with 1 Axes>"
      ]
     },
     "metadata": {
      "needs_background": "light"
     },
     "output_type": "display_data"
    }
   ],
   "source": [
    "plt.plot(output_datastore_m2.get('/microwave_predict').iloc[25000:55000,:], color = 'red', label = 'predict')\n",
    "plt.legend()\n",
    "plt.plot(output_datastore_m2.get('/microwave_test').iloc[25000:55000,:], color = 'blue', label = 'test')\n",
    "plt.legend()"
   ]
  },
  {
   "cell_type": "markdown",
   "metadata": {},
   "source": [
    "**CORRELACIÓN CRUZADA**"
   ]
  },
  {
   "cell_type": "code",
   "execution_count": 103,
   "metadata": {},
   "outputs": [
    {
     "name": "stdout",
     "output_type": "stream",
     "text": [
      "(746149, 1)\n",
      "746149\n"
     ]
    },
    {
     "data": {
      "text/plain": [
       "array([[1.       , 0.4354274],\n",
       "       [0.4354274, 1.       ]])"
      ]
     },
     "execution_count": 103,
     "metadata": {},
     "output_type": "execute_result"
    }
   ],
   "source": [
    "#Calculo de correlación cruzada\n",
    "predict2 = output_datastore_m2.get('/microwave_predict')\n",
    "test2  = output_datastore_m2.get('/microwave_test')\n",
    "print(predict2.shape)\n",
    "t2 = np.ravel(test2)\n",
    "p2 = np.ravel(predict2)\n",
    "print(len(t2))\n",
    "np.corrcoef(t2,p2)\n"
   ]
  },
  {
   "cell_type": "code",
   "execution_count": 104,
   "metadata": {},
   "outputs": [
    {
     "name": "stdout",
     "output_type": "stream",
     "text": [
      "Correlación 0.43542740217543047\n"
     ]
    }
   ],
   "source": [
    "print(f\"Correlación {np.corrcoef(t2,p2)[1,0]}\")"
   ]
  },
  {
   "cell_type": "markdown",
   "metadata": {},
   "source": [
    "**Potencia promedio de consumo**"
   ]
  },
  {
   "cell_type": "code",
   "execution_count": 105,
   "metadata": {},
   "outputs": [
    {
     "name": "stdout",
     "output_type": "stream",
     "text": [
      "Consumo test >>> TOTAL = 12696381.0               Promedio = 17.015878866017378\n",
      "Consumo pred >>> TOTAL = 25896195.981653616        Promedio = 34.70646745040684\n",
      "Diferencias total:    -13199814.981653616\n",
      "Diferencias promedio: -17.690588584389463\n"
     ]
    }
   ],
   "source": [
    "total_consumo_test2 = sum(t2)\n",
    "promedio_test2 = total_consumo_test2 / len(t2)\n",
    "\n",
    "total_consumo_pred2 = sum(p2)\n",
    "promedio_pred2 = total_consumo_pred2 / len(p2)\n",
    "\n",
    "print(f\"Consumo test >>> TOTAL = {total_consumo_test2}               Promedio = {promedio_test2}\")\n",
    "print(f\"Consumo pred >>> TOTAL = {total_consumo_pred2}        Promedio = {promedio_pred2}\")\n",
    "\n",
    "diferencia_total2 = total_consumo_test2 - total_consumo_pred2\n",
    "print(f\"Diferencias total:    {diferencia_total2}\")\n",
    "\n",
    "diferencia_promedio2 = promedio_test2 - promedio_pred2\n",
    "print(f\"Diferencias promedio: {diferencia_promedio2}\")"
   ]
  },
  {
   "cell_type": "markdown",
   "metadata": {},
   "source": [
    "### Modelo TRES resultados"
   ]
  },
  {
   "cell_type": "code",
   "execution_count": 106,
   "metadata": {},
   "outputs": [],
   "source": [
    "output_datastore_m3 = pd.HDFStore(\"borrar_mm3\", \"w\")\n",
    "#output_datastore.close()"
   ]
  },
  {
   "cell_type": "code",
   "execution_count": 107,
   "metadata": {},
   "outputs": [
    {
     "name": "stdout",
     "output_type": "stream",
     "text": [
      "New sensible chunk: 121483 size of data\n",
      "New sensible chunk: 112662 size of data\n",
      "New sensible chunk: 87771 size of data\n",
      "New sensible chunk: 54085 size of data\n",
      "New sensible chunk: 2661 size of data\n",
      "New sensible chunk: 33514 size of data\n",
      "New sensible chunk: 138536 size of data\n",
      "New sensible chunk: 32515 size of data\n",
      "New sensible chunk: 27256 size of data\n",
      "New sensible chunk: 34834 size of data\n",
      "New sensible chunk: 100832 size of data\n"
     ]
    }
   ],
   "source": [
    "test_appliance = test_microwave_1\n",
    "process_test(good_sections, test_mains, test_appliance, bm3, output_datastore_m3, sequence_length = 256)"
   ]
  },
  {
   "cell_type": "code",
   "execution_count": 108,
   "metadata": {},
   "outputs": [
    {
     "data": {
      "text/plain": [
       "<matplotlib.legend.Legend at 0x210846237f0>"
      ]
     },
     "execution_count": 108,
     "metadata": {},
     "output_type": "execute_result"
    },
    {
     "data": {
      "image/png": "[encoded data removed]",
      "text/plain": [
       "<Figure size 936x432 with 1 Axes>"
      ]
     },
     "metadata": {
      "needs_background": "light"
     },
     "output_type": "display_data"
    }
   ],
   "source": [
    "plt.plot(output_datastore_m3.get('/microwave_predict').iloc[25000:55000,:], color = 'red', label = 'predict')\n",
    "plt.legend()\n",
    "plt.plot(output_datastore_m3.get('/microwave_test').iloc[25000:55000,:], color = 'blue', label = 'test')\n",
    "plt.legend()"
   ]
  },
  {
   "cell_type": "markdown",
   "metadata": {},
   "source": [
    "**CORRELACIÓN CRUZADA**"
   ]
  },
  {
   "cell_type": "code",
   "execution_count": 109,
   "metadata": {},
   "outputs": [
    {
     "name": "stdout",
     "output_type": "stream",
     "text": [
      "(746149, 1)\n",
      "746149\n"
     ]
    },
    {
     "data": {
      "text/plain": [
       "array([[1.        , 0.49326086],\n",
       "       [0.49326086, 1.        ]])"
      ]
     },
     "execution_count": 109,
     "metadata": {},
     "output_type": "execute_result"
    }
   ],
   "source": [
    "#Calculo de correlación cruzada\n",
    "predict3 = output_datastore_m3.get('/microwave_predict')\n",
    "test3 = output_datastore_m3.get('/microwave_test')\n",
    "print(predict3.shape)\n",
    "t3 = np.ravel(test3)\n",
    "p3 = np.ravel(predict3)\n",
    "print(len(t3))\n",
    "np.corrcoef(t3,p3)\n"
   ]
  },
  {
   "cell_type": "code",
   "execution_count": 110,
   "metadata": {},
   "outputs": [
    {
     "name": "stdout",
     "output_type": "stream",
     "text": [
      "Correlación 0.4932608600978933\n"
     ]
    }
   ],
   "source": [
    "print(f\"Correlación {np.corrcoef(t3,p3)[1,0]}\")"
   ]
  },
  {
   "cell_type": "markdown",
   "metadata": {},
   "source": [
    "**Potencia promedio de consumo**"
   ]
  },
  {
   "cell_type": "code",
   "execution_count": 111,
   "metadata": {},
   "outputs": [
    {
     "name": "stdout",
     "output_type": "stream",
     "text": [
      "Consumo test >>> TOTAL = 12696381.0                Promedio = 17.015878866017378\n",
      "Consumo pred >>> TOTAL = 17666927.474702712         Promedio = 23.677479263126685\n",
      "Diferencias total:    -4970546.474702712\n",
      "Diferencias promedio: -6.661600397109307\n"
     ]
    }
   ],
   "source": [
    "total_consumo_test3 = sum(t3)\n",
    "promedio_test3 = total_consumo_test3 / len(t3)\n",
    "\n",
    "total_consumo_pred3 = sum(p3)\n",
    "promedio_pred3 = total_consumo_pred3 / len(p3)\n",
    "\n",
    "print(f\"Consumo test >>> TOTAL = {total_consumo_test3}                Promedio = {promedio_test3}\")\n",
    "print(f\"Consumo pred >>> TOTAL = {total_consumo_pred3}         Promedio = {promedio_pred3}\")\n",
    "\n",
    "diferencia_total3 = total_consumo_test3 - total_consumo_pred3\n",
    "print(f\"Diferencias total:    {diferencia_total3}\")\n",
    "\n",
    "diferencia_promedio3 = promedio_test3 - promedio_pred3\n",
    "print(f\"Diferencias promedio: {diferencia_promedio3}\")"
   ]
  },
  {
   "cell_type": "markdown",
   "metadata": {},
   "source": [
    "### Modelo CUATRO resultados"
   ]
  },
  {
   "cell_type": "code",
   "execution_count": 112,
   "metadata": {},
   "outputs": [],
   "source": [
    "output_datastore_m4 = pd.HDFStore(\"borrar_mm4\", \"w\")\n",
    "#output_datastore_m4.close()"
   ]
  },
  {
   "cell_type": "code",
   "execution_count": 113,
   "metadata": {},
   "outputs": [
    {
     "name": "stdout",
     "output_type": "stream",
     "text": [
      "New sensible chunk: 121483 size of data\n",
      "New sensible chunk: 112662 size of data\n",
      "New sensible chunk: 87771 size of data\n",
      "New sensible chunk: 54085 size of data\n",
      "New sensible chunk: 2661 size of data\n",
      "New sensible chunk: 33514 size of data\n",
      "New sensible chunk: 138536 size of data\n",
      "New sensible chunk: 32515 size of data\n",
      "New sensible chunk: 27256 size of data\n",
      "New sensible chunk: 34834 size of data\n",
      "New sensible chunk: 100832 size of data\n"
     ]
    }
   ],
   "source": [
    "test_appliance = test_microwave_1\n",
    "process_test(good_sections, test_mains, test_appliance, bm4, output_datastore_m4, sequence_length = 256)"
   ]
  },
  {
   "cell_type": "code",
   "execution_count": 114,
   "metadata": {},
   "outputs": [
    {
     "data": {
      "text/plain": [
       "<matplotlib.legend.Legend at 0x21084852d30>"
      ]
     },
     "execution_count": 114,
     "metadata": {},
     "output_type": "execute_result"
    },
    {
     "data": {
      "image/png": "[encoded data removed]",
      "text/plain": [
       "<Figure size 936x432 with 1 Axes>"
      ]
     },
     "metadata": {
      "needs_background": "light"
     },
     "output_type": "display_data"
    }
   ],
   "source": [
    "plt.plot(output_datastore_m4.get('/microwave_predict').iloc[25000:55000,:], color = 'red', label = 'predict')\n",
    "plt.legend()\n",
    "plt.plot(output_datastore_m4.get('/microwave_test').iloc[25000:55000,:], color = 'blue', label = 'test')\n",
    "plt.legend()"
   ]
  },
  {
   "cell_type": "markdown",
   "metadata": {},
   "source": [
    "**CORRELACIÓN CRUZADA**"
   ]
  },
  {
   "cell_type": "code",
   "execution_count": 115,
   "metadata": {},
   "outputs": [
    {
     "name": "stdout",
     "output_type": "stream",
     "text": [
      "(746149, 1)\n",
      "746149\n"
     ]
    },
    {
     "data": {
      "text/plain": [
       "array([[1.        , 0.59821581],\n",
       "       [0.59821581, 1.        ]])"
      ]
     },
     "execution_count": 115,
     "metadata": {},
     "output_type": "execute_result"
    }
   ],
   "source": [
    "#Calculo de correlación cruzada\n",
    "predict4 = output_datastore_m4.get('/microwave_predict')\n",
    "test4 = output_datastore_m4.get('/microwave_test')\n",
    "print(predict4.shape)\n",
    "t4 = np.ravel(test4)\n",
    "p4 = np.ravel(predict4)\n",
    "print(len(t4))\n",
    "np.corrcoef(t4,p4)\n"
   ]
  },
  {
   "cell_type": "code",
   "execution_count": 116,
   "metadata": {},
   "outputs": [
    {
     "name": "stdout",
     "output_type": "stream",
     "text": [
      "Correlación 0.5982158064039996\n"
     ]
    }
   ],
   "source": [
    "print(f\"Correlación {np.corrcoef(t4,p4)[1,0]}\")"
   ]
  },
  {
   "cell_type": "markdown",
   "metadata": {},
   "source": [
    "**Potencia promedio de consumo**"
   ]
  },
  {
   "cell_type": "code",
   "execution_count": 117,
   "metadata": {},
   "outputs": [
    {
     "name": "stdout",
     "output_type": "stream",
     "text": [
      "Consumo test >>> TOTAL = 12696381.0                Promedio = 17.015878866017378\n",
      "Consumo pred >>> TOTAL = 16610334.98905304         Promedio = 22.261418281138273\n",
      "Diferencias total:    -3913953.9890530407\n",
      "Diferencias promedio: -5.245539415120895\n"
     ]
    }
   ],
   "source": [
    "total_consumo_test4 = sum(t4)\n",
    "promedio_test4 = total_consumo_test4 / len(t4)\n",
    "\n",
    "total_consumo_pred4 = sum(p4)\n",
    "promedio_pred4 = total_consumo_pred4 / len(p4)\n",
    "\n",
    "print(f\"Consumo test >>> TOTAL = {total_consumo_test4}                Promedio = {promedio_test4}\")\n",
    "print(f\"Consumo pred >>> TOTAL = {total_consumo_pred4}         Promedio = {promedio_pred4}\")\n",
    "\n",
    "diferencia_total4 = total_consumo_test4 - total_consumo_pred4\n",
    "print(f\"Diferencias total:    {diferencia_total4}\")\n",
    "\n",
    "diferencia_promedio4 = promedio_test4 - promedio_pred4\n",
    "print(f\"Diferencias promedio: {diferencia_promedio4}\")"
   ]
  },
  {
   "cell_type": "markdown",
   "metadata": {},
   "source": [
    "### Modelo CINCO resultados"
   ]
  },
  {
   "cell_type": "code",
   "execution_count": 118,
   "metadata": {},
   "outputs": [],
   "source": [
    "output_datastore_m5 = pd.HDFStore(\"borrar_mm5\", \"w\")\n",
    "#output_datastore_5.close()"
   ]
  },
  {
   "cell_type": "code",
   "execution_count": 119,
   "metadata": {},
   "outputs": [
    {
     "name": "stdout",
     "output_type": "stream",
     "text": [
      "New sensible chunk: 121483 size of data\n",
      "New sensible chunk: 112662 size of data\n",
      "New sensible chunk: 87771 size of data\n",
      "New sensible chunk: 54085 size of data\n",
      "New sensible chunk: 2661 size of data\n",
      "New sensible chunk: 33514 size of data\n",
      "New sensible chunk: 138536 size of data\n",
      "New sensible chunk: 32515 size of data\n",
      "New sensible chunk: 27256 size of data\n",
      "New sensible chunk: 34834 size of data\n",
      "New sensible chunk: 100832 size of data\n"
     ]
    }
   ],
   "source": [
    "test_appliance = test_microwave_1\n",
    "process_test(good_sections, test_mains, test_appliance, bm5, output_datastore_m5, sequence_length = 256)"
   ]
  },
  {
   "cell_type": "code",
   "execution_count": 120,
   "metadata": {},
   "outputs": [
    {
     "data": {
      "text/plain": [
       "['/microwave_predict', '/microwave_test']"
      ]
     },
     "execution_count": 120,
     "metadata": {},
     "output_type": "execute_result"
    }
   ],
   "source": [
    "output_datastore_m5.keys()"
   ]
  },
  {
   "cell_type": "code",
   "execution_count": 121,
   "metadata": {},
   "outputs": [
    {
     "data": {
      "text/plain": [
       "<matplotlib.legend.Legend at 0x21090f000b8>"
      ]
     },
     "execution_count": 121,
     "metadata": {},
     "output_type": "execute_result"
    },
    {
     "data": {
      "image/png": "[encoded data removed]",
      "text/plain": [
       "<Figure size 936x432 with 1 Axes>"
      ]
     },
     "metadata": {
      "needs_background": "light"
     },
     "output_type": "display_data"
    }
   ],
   "source": [
    "plt.plot(output_datastore_m5.get('/microwave_predict').iloc[25000:55000,:], color = 'red', label = 'predict')\n",
    "plt.legend()\n",
    "plt.plot(output_datastore_m5.get('/microwave_test').iloc[25000:55000,:], color = 'blue', label = 'test')\n",
    "plt.legend()"
   ]
  },
  {
   "cell_type": "markdown",
   "metadata": {},
   "source": [
    "**CORRELACIÓN CRUZADA**"
   ]
  },
  {
   "cell_type": "code",
   "execution_count": 122,
   "metadata": {},
   "outputs": [
    {
     "name": "stdout",
     "output_type": "stream",
     "text": [
      "(746149, 1)\n",
      "746149\n"
     ]
    },
    {
     "data": {
      "text/plain": [
       "array([[1.        , 0.62397634],\n",
       "       [0.62397634, 1.        ]])"
      ]
     },
     "execution_count": 122,
     "metadata": {},
     "output_type": "execute_result"
    }
   ],
   "source": [
    "#Calculo de correlación cruzada\n",
    "predict5 = output_datastore_m5.get('/microwave_predict')\n",
    "test5 = output_datastore_m5.get('/microwave_test')\n",
    "print(predict5.shape)\n",
    "t5 = np.ravel(test5)\n",
    "p5 = np.ravel(predict5)\n",
    "print(len(t5))\n",
    "np.corrcoef(t5,p5)\n"
   ]
  },
  {
   "cell_type": "code",
   "execution_count": 123,
   "metadata": {},
   "outputs": [
    {
     "name": "stdout",
     "output_type": "stream",
     "text": [
      "Correlación 0.6239763430431847\n"
     ]
    }
   ],
   "source": [
    "print(f\"Correlación {np.corrcoef(t5,p5)[1,0]}\")"
   ]
  },
  {
   "cell_type": "markdown",
   "metadata": {},
   "source": [
    "**Potencia promedio de consumo**"
   ]
  },
  {
   "cell_type": "code",
   "execution_count": 124,
   "metadata": {},
   "outputs": [
    {
     "name": "stdout",
     "output_type": "stream",
     "text": [
      "Consumo test >>> TOTAL = 12696381.0                Promedio = 17.015878866017378\n",
      "Consumo pred >>> TOTAL = 17835714.119096957         Promedio = 23.90368963718635\n",
      "Diferencias total:    -5139333.119096957\n",
      "Diferencias promedio: -6.887810771168972\n"
     ]
    }
   ],
   "source": [
    "total_consumo_test5 = sum(t5)\n",
    "promedio_test5 = total_consumo_test5 / len(t5)\n",
    "\n",
    "total_consumo_pred5 = sum(p5)\n",
    "promedio_pred5 = total_consumo_pred5 / len(p5)\n",
    "\n",
    "print(f\"Consumo test >>> TOTAL = {total_consumo_test5}                Promedio = {promedio_test5}\")\n",
    "print(f\"Consumo pred >>> TOTAL = {total_consumo_pred5}         Promedio = {promedio_pred5}\")\n",
    "\n",
    "diferencia_total5 = total_consumo_test5 - total_consumo_pred5\n",
    "print(f\"Diferencias total:    {diferencia_total5}\")\n",
    "\n",
    "diferencia_promedio5 = promedio_test5 - promedio_pred5\n",
    "print(f\"Diferencias promedio: {diferencia_promedio5}\")"
   ]
  },
  {
   "cell_type": "code",
   "execution_count": null,
   "metadata": {},
   "outputs": [],
   "source": []
  },
  {
   "cell_type": "markdown",
   "metadata": {},
   "source": [
    "### Modelo SEIS resultados"
   ]
  },
  {
   "cell_type": "code",
   "execution_count": 125,
   "metadata": {},
   "outputs": [],
   "source": [
    "output_datastore_m6 = pd.HDFStore(\"borrar_mm6\", \"w\")\n",
    "#output_datastore_m6.close()"
   ]
  },
  {
   "cell_type": "code",
   "execution_count": 126,
   "metadata": {},
   "outputs": [
    {
     "name": "stdout",
     "output_type": "stream",
     "text": [
      "New sensible chunk: 121483 size of data\n",
      "New sensible chunk: 112662 size of data\n",
      "New sensible chunk: 87771 size of data\n",
      "New sensible chunk: 54085 size of data\n",
      "New sensible chunk: 2661 size of data\n",
      "New sensible chunk: 33514 size of data\n",
      "New sensible chunk: 138536 size of data\n",
      "New sensible chunk: 32515 size of data\n",
      "New sensible chunk: 27256 size of data\n",
      "New sensible chunk: 34834 size of data\n",
      "New sensible chunk: 100832 size of data\n"
     ]
    }
   ],
   "source": [
    "test_appliance = test_microwave_1\n",
    "process_test(good_sections, test_mains, test_appliance, bm6, output_datastore_m6, sequence_length = 256)"
   ]
  },
  {
   "cell_type": "code",
   "execution_count": 127,
   "metadata": {},
   "outputs": [
    {
     "data": {
      "text/plain": [
       "<matplotlib.legend.Legend at 0x21090eb5550>"
      ]
     },
     "execution_count": 127,
     "metadata": {},
     "output_type": "execute_result"
    },
    {
     "data": {
      "image/png": "[encoded data removed]",
      "text/plain": [
       "<Figure size 936x432 with 1 Axes>"
      ]
     },
     "metadata": {
      "needs_background": "light"
     },
     "output_type": "display_data"
    }
   ],
   "source": [
    "plt.plot(output_datastore_m6.get('/microwave_predict').iloc[25000:55000,:], color = 'red', label = 'predict')\n",
    "plt.legend()\n",
    "plt.plot(output_datastore_m6.get('/microwave_test').iloc[25000:55000,:], color = 'blue', label = 'test')\n",
    "plt.legend()"
   ]
  },
  {
   "cell_type": "markdown",
   "metadata": {},
   "source": [
    "**CORRELACIÓN CRUZADA**"
   ]
  },
  {
   "cell_type": "code",
   "execution_count": 128,
   "metadata": {},
   "outputs": [
    {
     "name": "stdout",
     "output_type": "stream",
     "text": [
      "(746149, 1)\n",
      "746149\n"
     ]
    },
    {
     "data": {
      "text/plain": [
       "array([[1.        , 0.55666677],\n",
       "       [0.55666677, 1.        ]])"
      ]
     },
     "execution_count": 128,
     "metadata": {},
     "output_type": "execute_result"
    }
   ],
   "source": [
    "#Calculo de correlación cruzada\n",
    "predict6 = output_datastore_m6.get('/microwave_predict')\n",
    "test6 = output_datastore_m6.get('/microwave_test')\n",
    "print(predict6.shape)\n",
    "t6 = np.ravel(test6)\n",
    "p6 = np.ravel(predict6)\n",
    "print(len(t6))\n",
    "np.corrcoef(t6,p6)\n"
   ]
  },
  {
   "cell_type": "code",
   "execution_count": 129,
   "metadata": {},
   "outputs": [
    {
     "name": "stdout",
     "output_type": "stream",
     "text": [
      "Correlación 0.5566667700600276\n"
     ]
    }
   ],
   "source": [
    "print(f\"Correlación {np.corrcoef(t6,p6)[1,0]}\")"
   ]
  },
  {
   "cell_type": "markdown",
   "metadata": {},
   "source": [
    "**Potencia promedio de consumo**"
   ]
  },
  {
   "cell_type": "code",
   "execution_count": 130,
   "metadata": {},
   "outputs": [
    {
     "name": "stdout",
     "output_type": "stream",
     "text": [
      "Consumo test >>> TOTAL = 12696381.0         Promedio = 17.015878866017378\n",
      "Consumo pred >>> TOTAL = 14661759.01455884                Promedio = 19.649907745716796\n",
      "Diferencias total:    -1965378.0145588405\n",
      "Diferencias promedio: -2.634028879699418\n"
     ]
    }
   ],
   "source": [
    "total_consumo_test6 = sum(t6)\n",
    "promedio_test6 = total_consumo_test6 / len(t6)\n",
    "\n",
    "total_consumo_pred6 = sum(p6)\n",
    "promedio_pred6 = total_consumo_pred6 / len(p6)\n",
    "\n",
    "print(f\"Consumo test >>> TOTAL = {total_consumo_test6}         Promedio = {promedio_test6}\")\n",
    "print(f\"Consumo pred >>> TOTAL = {total_consumo_pred6}                Promedio = {promedio_pred6}\")\n",
    "\n",
    "diferencia_total6 = total_consumo_test6 - total_consumo_pred6\n",
    "print(f\"Diferencias total:    {diferencia_total6}\")\n",
    "\n",
    "diferencia_promedio6 = promedio_test6 - promedio_pred6\n",
    "print(f\"Diferencias promedio: {diferencia_promedio6}\")"
   ]
  },
  {
   "cell_type": "markdown",
   "metadata": {},
   "source": [
    "### Modelo SIETE resultados"
   ]
  },
  {
   "cell_type": "code",
   "execution_count": 131,
   "metadata": {},
   "outputs": [],
   "source": [
    "output_datastore_m7 = pd.HDFStore(\"borrar_mm7\", \"w\")\n",
    "#output_datastore_m7.close()"
   ]
  },
  {
   "cell_type": "code",
   "execution_count": 132,
   "metadata": {},
   "outputs": [
    {
     "name": "stdout",
     "output_type": "stream",
     "text": [
      "New sensible chunk: 121483 size of data\n",
      "New sensible chunk: 112662 size of data\n",
      "New sensible chunk: 87771 size of data\n",
      "New sensible chunk: 54085 size of data\n",
      "New sensible chunk: 2661 size of data\n",
      "New sensible chunk: 33514 size of data\n",
      "New sensible chunk: 138536 size of data\n",
      "New sensible chunk: 32515 size of data\n",
      "New sensible chunk: 27256 size of data\n",
      "New sensible chunk: 34834 size of data\n",
      "New sensible chunk: 100832 size of data\n"
     ]
    }
   ],
   "source": [
    "test_appliance = test_microwave_1\n",
    "process_test(good_sections, test_mains, test_appliance, bm7, output_datastore_m7, sequence_length = 256)"
   ]
  },
  {
   "cell_type": "code",
   "execution_count": 133,
   "metadata": {},
   "outputs": [
    {
     "data": {
      "text/plain": [
       "<matplotlib.legend.Legend at 0x2109a278d68>"
      ]
     },
     "execution_count": 133,
     "metadata": {},
     "output_type": "execute_result"
    },
    {
     "data": {
      "image/png": "[encoded data removed]",
      "text/plain": [
       "<Figure size 936x432 with 1 Axes>"
      ]
     },
     "metadata": {
      "needs_background": "light"
     },
     "output_type": "display_data"
    }
   ],
   "source": [
    "plt.plot(output_datastore_m7.get('/microwave_predict').iloc[25000:55000,:], color = 'red', label = 'predict')\n",
    "plt.legend()\n",
    "plt.plot(output_datastore_m7.get('/microwave_test').iloc[25000:55000,:], color = 'blue', label = 'test')\n",
    "plt.legend()"
   ]
  },
  {
   "cell_type": "markdown",
   "metadata": {},
   "source": [
    "**CORRELACIÓN CRUZADA**"
   ]
  },
  {
   "cell_type": "code",
   "execution_count": 134,
   "metadata": {},
   "outputs": [
    {
     "name": "stdout",
     "output_type": "stream",
     "text": [
      "(746149, 1)\n",
      "746149\n"
     ]
    },
    {
     "data": {
      "text/plain": [
       "array([[1.        , 0.40923114],\n",
       "       [0.40923114, 1.        ]])"
      ]
     },
     "execution_count": 134,
     "metadata": {},
     "output_type": "execute_result"
    }
   ],
   "source": [
    "#Calculo de correlación cruzada\n",
    "predict7 = output_datastore_m7.get('/microwave_predict')\n",
    "test7 = output_datastore_m7.get('/microwave_test')\n",
    "print(predict7.shape)\n",
    "t7 = np.ravel(test7)\n",
    "p7 = np.ravel(predict7)\n",
    "print(len(t7))\n",
    "np.corrcoef(t7,p7)\n"
   ]
  },
  {
   "cell_type": "code",
   "execution_count": 135,
   "metadata": {},
   "outputs": [
    {
     "name": "stdout",
     "output_type": "stream",
     "text": [
      "Correlación 0.4092311409924905\n"
     ]
    }
   ],
   "source": [
    "print(f\"Correlación {np.corrcoef(t7,p7)[1,0]}\")"
   ]
  },
  {
   "cell_type": "markdown",
   "metadata": {},
   "source": [
    "**Potencia promedio de consumo**"
   ]
  },
  {
   "cell_type": "code",
   "execution_count": 136,
   "metadata": {},
   "outputs": [
    {
     "name": "stdout",
     "output_type": "stream",
     "text": [
      "Consumo test >>> TOTAL = 12696381.0         Promedio = 17.015878866017378\n",
      "Consumo pred >>> TOTAL = 23354325.37650139                Promedio = 31.29981461678752\n",
      "Diferencias total:    -10657944.376501389\n",
      "Diferencias promedio: -14.28393575077014\n"
     ]
    }
   ],
   "source": [
    "total_consumo_test7 = sum(t7)\n",
    "promedio_test7 = total_consumo_test7 / len(t7)\n",
    "\n",
    "total_consumo_pred7 = sum(p7)\n",
    "promedio_pred7 = total_consumo_pred7 / len(p7)\n",
    "\n",
    "print(f\"Consumo test >>> TOTAL = {total_consumo_test7}         Promedio = {promedio_test7}\")\n",
    "print(f\"Consumo pred >>> TOTAL = {total_consumo_pred7}                Promedio = {promedio_pred7}\")\n",
    "\n",
    "diferencia_total7 = total_consumo_test7 - total_consumo_pred7\n",
    "print(f\"Diferencias total:    {diferencia_total7}\")\n",
    "\n",
    "diferencia_promedio7 = promedio_test7 - promedio_pred7\n",
    "print(f\"Diferencias promedio: {diferencia_promedio7}\")"
   ]
  },
  {
   "cell_type": "markdown",
   "metadata": {},
   "source": [
    "### Modelo OCHO resultados"
   ]
  },
  {
   "cell_type": "code",
   "execution_count": 155,
   "metadata": {},
   "outputs": [],
   "source": [
    "output_datastore_m8 = pd.HDFStore(\"borrar_mm8\", \"w\")\n",
    "#output_datastore_m8.close()"
   ]
  },
  {
   "cell_type": "code",
   "execution_count": 156,
   "metadata": {},
   "outputs": [
    {
     "name": "stdout",
     "output_type": "stream",
     "text": [
      "New sensible chunk: 121483 size of data\n",
      "New sensible chunk: 112662 size of data\n",
      "New sensible chunk: 87771 size of data\n",
      "New sensible chunk: 54085 size of data\n",
      "New sensible chunk: 2661 size of data\n",
      "New sensible chunk: 33514 size of data\n",
      "New sensible chunk: 138536 size of data\n",
      "New sensible chunk: 32515 size of data\n",
      "New sensible chunk: 27256 size of data\n",
      "New sensible chunk: 34834 size of data\n",
      "New sensible chunk: 100832 size of data\n"
     ]
    }
   ],
   "source": [
    "test_appliance = test_microwave_1\n",
    "process_test(good_sections, test_mains, test_appliance, bm8, output_datastore_m8, sequence_length = 256)"
   ]
  },
  {
   "cell_type": "code",
   "execution_count": 157,
   "metadata": {},
   "outputs": [
    {
     "data": {
      "text/plain": [
       "<matplotlib.legend.Legend at 0x210e05bc748>"
      ]
     },
     "execution_count": 157,
     "metadata": {},
     "output_type": "execute_result"
    },
    {
     "data": {
      "image/png": "[encoded data removed]",
      "text/plain": [
       "<Figure size 936x432 with 1 Axes>"
      ]
     },
     "metadata": {
      "needs_background": "light"
     },
     "output_type": "display_data"
    }
   ],
   "source": [
    "plt.plot(output_datastore_m8.get('/microwave_predict').iloc[25000:55000,:], color = 'red', label = 'predict')\n",
    "plt.legend()\n",
    "plt.plot(output_datastore_m8.get('/microwave_test').iloc[25000:55000,:], color = 'blue', label = 'test')\n",
    "plt.legend()"
   ]
  },
  {
   "cell_type": "markdown",
   "metadata": {},
   "source": [
    "**CORRELACIÓN CRUZADA**"
   ]
  },
  {
   "cell_type": "code",
   "execution_count": 158,
   "metadata": {},
   "outputs": [
    {
     "name": "stdout",
     "output_type": "stream",
     "text": [
      "(746149, 1)\n",
      "746149\n"
     ]
    },
    {
     "name": "stderr",
     "output_type": "stream",
     "text": [
      "C:\\Users\\josel\\Anaconda3\\envs\\nilmtk-env\\lib\\site-packages\\numpy\\lib\\function_base.py:2559: RuntimeWarning: invalid value encountered in true_divide\n",
      "  c /= stddev[:, None]\n",
      "C:\\Users\\josel\\Anaconda3\\envs\\nilmtk-env\\lib\\site-packages\\numpy\\lib\\function_base.py:2560: RuntimeWarning: invalid value encountered in true_divide\n",
      "  c /= stddev[None, :]\n"
     ]
    },
    {
     "data": {
      "text/plain": [
       "array([[ 1., nan],\n",
       "       [nan, nan]])"
      ]
     },
     "execution_count": 158,
     "metadata": {},
     "output_type": "execute_result"
    }
   ],
   "source": [
    "#Calculo de correlación cruzada\n",
    "predict8 = output_datastore_m8.get('/microwave_predict')\n",
    "test8 = output_datastore_m8.get('/microwave_test')\n",
    "print(predict8.shape)\n",
    "t8 = np.ravel(test8)\n",
    "p8 = np.ravel(predict8)\n",
    "print(len(t8))\n",
    "np.corrcoef(t8,p8)\n"
   ]
  },
  {
   "cell_type": "code",
   "execution_count": 159,
   "metadata": {},
   "outputs": [
    {
     "name": "stdout",
     "output_type": "stream",
     "text": [
      "Correlación nan\n"
     ]
    },
    {
     "name": "stderr",
     "output_type": "stream",
     "text": [
      "C:\\Users\\josel\\Anaconda3\\envs\\nilmtk-env\\lib\\site-packages\\numpy\\lib\\function_base.py:2559: RuntimeWarning: invalid value encountered in true_divide\n",
      "  c /= stddev[:, None]\n",
      "C:\\Users\\josel\\Anaconda3\\envs\\nilmtk-env\\lib\\site-packages\\numpy\\lib\\function_base.py:2560: RuntimeWarning: invalid value encountered in true_divide\n",
      "  c /= stddev[None, :]\n"
     ]
    }
   ],
   "source": [
    "print(f\"Correlación {np.corrcoef(t8,p8)[1,0]}\")"
   ]
  },
  {
   "cell_type": "markdown",
   "metadata": {},
   "source": [
    "**Potencia promedio de consumo**"
   ]
  },
  {
   "cell_type": "code",
   "execution_count": 160,
   "metadata": {},
   "outputs": [
    {
     "name": "stdout",
     "output_type": "stream",
     "text": [
      "Consumo test >>> TOTAL = 12696381.0         Promedio = 17.015878866017378\n",
      "Consumo pred >>> TOTAL = 10442070.536355019                Promedio = 13.99461841583252\n",
      "Diferencias total:    2254310.4636449814\n",
      "Diferencias promedio: 3.021260450184858\n"
     ]
    }
   ],
   "source": [
    "total_consumo_test8 = sum(t8)\n",
    "promedio_test8 = total_consumo_test8 / len(t8)\n",
    "\n",
    "total_consumo_pred8 = sum(p8)\n",
    "promedio_pred8 = total_consumo_pred8 / len(p8)\n",
    "\n",
    "print(f\"Consumo test >>> TOTAL = {total_consumo_test8}         Promedio = {promedio_test8}\")\n",
    "print(f\"Consumo pred >>> TOTAL = {total_consumo_pred8}                Promedio = {promedio_pred8}\")\n",
    "\n",
    "diferencia_total8 = total_consumo_test8 - total_consumo_pred8\n",
    "print(f\"Diferencias total:    {diferencia_total8}\")\n",
    "\n",
    "diferencia_promedio8 = promedio_test8 - promedio_pred8\n",
    "print(f\"Diferencias promedio: {diferencia_promedio8}\")"
   ]
  },
  {
   "cell_type": "markdown",
   "metadata": {},
   "source": [
    "## Tabla resumen de resultados"
   ]
  },
  {
   "cell_type": "code",
   "execution_count": 144,
   "metadata": {},
   "outputs": [
    {
     "name": "stdout",
     "output_type": "stream",
     "text": [
      "Correlación 0.4057016547601376\n",
      "Consumo test >>> TOTAL = 12696381.0                   Promedio = 17.015878866017378\n",
      "Consumo pred >>> TOTAL = 15188900.288831558            Promedio = 20.356390330659906\n",
      "Diferencias total:    -2492519.288831558\n",
      "Diferencias promedio: -3.3405114646425282\n"
     ]
    }
   ],
   "source": [
    "print(f\"Correlación {np.corrcoef(t0,p0)[1,0]}\")\n",
    "print(f\"Consumo test >>> TOTAL = {total_consumo_test0}                   Promedio = {promedio_test0}\")\n",
    "print(f\"Consumo pred >>> TOTAL = {total_consumo_pred0}            Promedio = {promedio_pred0}\")\n",
    "print(f\"Diferencias total:    {diferencia_total0}\")\n",
    "print(f\"Diferencias promedio: {diferencia_promedio0}\")"
   ]
  },
  {
   "cell_type": "code",
   "execution_count": 145,
   "metadata": {},
   "outputs": [
    {
     "name": "stdout",
     "output_type": "stream",
     "text": [
      "Correlación 0.4057016547601376\n",
      "Consumo test >>> TOTAL = 12696381.0                  Promedio = 17.015878866017378\n",
      "Consumo pred >>> TOTAL = 15188900.288831558           Promedio = 20.356390330659906\n",
      "Diferencias total:    -2492519.288831558\n",
      "Diferencias promedio: -3.3405114646425282\n"
     ]
    }
   ],
   "source": [
    "print(f\"Correlación {np.corrcoef(t1,p1)[1,0]}\")\n",
    "print(f\"Consumo test >>> TOTAL = {total_consumo_test1}                  Promedio = {promedio_test1}\")\n",
    "print(f\"Consumo pred >>> TOTAL = {total_consumo_pred1}           Promedio = {promedio_pred1}\")\n",
    "print(f\"Diferencias total:    {diferencia_total1}\")\n",
    "print(f\"Diferencias promedio: {diferencia_promedio1}\")"
   ]
  },
  {
   "cell_type": "code",
   "execution_count": 146,
   "metadata": {},
   "outputs": [
    {
     "name": "stdout",
     "output_type": "stream",
     "text": [
      "Correlación 0.43542740217543047\n",
      "Consumo test >>> TOTAL = 12696381.0                   Promedio = 17.015878866017378\n",
      "Consumo pred >>> TOTAL = 25896195.981653616             Promedio = 34.70646745040684\n",
      "Diferencias total:    -13199814.981653616\n",
      "Diferencias promedio: -17.690588584389463\n"
     ]
    }
   ],
   "source": [
    "print(f\"Correlación {np.corrcoef(t2,p2)[1,0]}\")\n",
    "print(f\"Consumo test >>> TOTAL = {total_consumo_test2}                   Promedio = {promedio_test2}\")\n",
    "print(f\"Consumo pred >>> TOTAL = {total_consumo_pred2}             Promedio = {promedio_pred2}\")\n",
    "print(f\"Diferencias total:    {diferencia_total2}\")\n",
    "print(f\"Diferencias promedio: {diferencia_promedio2}\")"
   ]
  },
  {
   "cell_type": "code",
   "execution_count": 147,
   "metadata": {},
   "outputs": [
    {
     "name": "stdout",
     "output_type": "stream",
     "text": [
      "Correlación 0.4932608600978933\n",
      "Consumo test >>> TOTAL = 12696381.0                   Promedio = 17.015878866017378\n",
      "Consumo pred >>> TOTAL = 17666927.474702712            Promedio = 23.677479263126685\n",
      "Diferencias total:    -4970546.474702712\n",
      "Diferencias promedio: -6.661600397109307\n"
     ]
    }
   ],
   "source": [
    "print(f\"Correlación {np.corrcoef(t3,p3)[1,0]}\")\n",
    "print(f\"Consumo test >>> TOTAL = {total_consumo_test3}                   Promedio = {promedio_test3}\")\n",
    "print(f\"Consumo pred >>> TOTAL = {total_consumo_pred3}            Promedio = {promedio_pred3}\")\n",
    "print(f\"Diferencias total:    {diferencia_total3}\")\n",
    "print(f\"Diferencias promedio: {diferencia_promedio3}\")"
   ]
  },
  {
   "cell_type": "code",
   "execution_count": 148,
   "metadata": {},
   "outputs": [
    {
     "name": "stdout",
     "output_type": "stream",
     "text": [
      "Correlación 0.5982158064039996\n",
      "Consumo test >>> TOTAL = 12696381.0                 Promedio = 17.015878866017378\n",
      "Consumo pred >>> TOTAL = 16610334.98905304          Promedio = 22.261418281138273\n",
      "Diferencias total:    -3913953.9890530407\n",
      "Diferencias promedio: -5.245539415120895\n"
     ]
    }
   ],
   "source": [
    "print(f\"Correlación {np.corrcoef(t4,p4)[1,0]}\")\n",
    "print(f\"Consumo test >>> TOTAL = {total_consumo_test4}                 Promedio = {promedio_test4}\")\n",
    "print(f\"Consumo pred >>> TOTAL = {total_consumo_pred4}          Promedio = {promedio_pred4}\")\n",
    "print(f\"Diferencias total:    {diferencia_total4}\")\n",
    "print(f\"Diferencias promedio: {diferencia_promedio4}\")"
   ]
  },
  {
   "cell_type": "code",
   "execution_count": 149,
   "metadata": {},
   "outputs": [
    {
     "name": "stdout",
     "output_type": "stream",
     "text": [
      "Correlación 0.6239763430431847\n",
      "Consumo test >>> TOTAL = 12696381.0                Promedio = 17.015878866017378\n",
      "Consumo pred >>> TOTAL = 17835714.119096957         Promedio = 23.90368963718635\n",
      "Diferencias total:    -5139333.119096957\n",
      "Diferencias promedio: -6.887810771168972\n"
     ]
    }
   ],
   "source": [
    "print(f\"Correlación {np.corrcoef(t5,p5)[1,0]}\")\n",
    "print(f\"Consumo test >>> TOTAL = {total_consumo_test5}                Promedio = {promedio_test5}\")\n",
    "print(f\"Consumo pred >>> TOTAL = {total_consumo_pred5}         Promedio = {promedio_pred5}\")\n",
    "print(f\"Diferencias total:    {diferencia_total5}\")\n",
    "print(f\"Diferencias promedio: {diferencia_promedio5}\")"
   ]
  },
  {
   "cell_type": "code",
   "execution_count": 150,
   "metadata": {},
   "outputs": [
    {
     "name": "stdout",
     "output_type": "stream",
     "text": [
      "Correlación 0.5566667700600276\n",
      "Consumo test >>> TOTAL = 12696381.0         Promedio = 17.015878866017378\n",
      "Consumo pred >>> TOTAL = 14661759.01455884                Promedio = 19.649907745716796\n",
      "Diferencias total:    -1965378.0145588405\n",
      "Diferencias promedio: -2.634028879699418\n"
     ]
    }
   ],
   "source": [
    "print(f\"Correlación {np.corrcoef(t6,p6)[1,0]}\")\n",
    "print(f\"Consumo test >>> TOTAL = {total_consumo_test6}         Promedio = {promedio_test6}\")\n",
    "print(f\"Consumo pred >>> TOTAL = {total_consumo_pred6}                Promedio = {promedio_pred6}\")\n",
    "print(f\"Diferencias total:    {diferencia_total6}\")\n",
    "print(f\"Diferencias promedio: {diferencia_promedio6}\")"
   ]
  },
  {
   "cell_type": "code",
   "execution_count": 151,
   "metadata": {},
   "outputs": [
    {
     "name": "stdout",
     "output_type": "stream",
     "text": [
      "Correlación 0.4092311409924905\n",
      "Consumo test >>> TOTAL = 12696381.0         Promedio = 17.015878866017378\n",
      "Consumo pred >>> TOTAL = 23354325.37650139                Promedio = 31.29981461678752\n",
      "Diferencias total:    -10657944.376501389\n",
      "Diferencias promedio: -14.28393575077014\n"
     ]
    }
   ],
   "source": [
    "print(f\"Correlación {np.corrcoef(t7,p7)[1,0]}\")\n",
    "print(f\"Consumo test >>> TOTAL = {total_consumo_test7}         Promedio = {promedio_test7}\")\n",
    "print(f\"Consumo pred >>> TOTAL = {total_consumo_pred7}                Promedio = {promedio_pred7}\")\n",
    "print(f\"Diferencias total:    {diferencia_total7}\")\n",
    "print(f\"Diferencias promedio: {diferencia_promedio7}\")"
   ]
  },
  {
   "cell_type": "code",
   "execution_count": 152,
   "metadata": {},
   "outputs": [
    {
     "name": "stdout",
     "output_type": "stream",
     "text": [
      "Correlación nan\n",
      "Consumo test >>> TOTAL = 12696381.0         Promedio = 17.015878866017378\n",
      "Consumo pred >>> TOTAL = 26895448.832286835                Promedio = 36.04568099975586\n",
      "Diferencias total:    -14199067.832286835\n",
      "Diferencias promedio: -19.02980213373848\n"
     ]
    },
    {
     "name": "stderr",
     "output_type": "stream",
     "text": [
      "C:\\Users\\josel\\Anaconda3\\envs\\nilmtk-env\\lib\\site-packages\\numpy\\lib\\function_base.py:2559: RuntimeWarning: invalid value encountered in true_divide\n",
      "  c /= stddev[:, None]\n",
      "C:\\Users\\josel\\Anaconda3\\envs\\nilmtk-env\\lib\\site-packages\\numpy\\lib\\function_base.py:2560: RuntimeWarning: invalid value encountered in true_divide\n",
      "  c /= stddev[None, :]\n"
     ]
    }
   ],
   "source": [
    "print(f\"Correlación {np.corrcoef(t8,p8)[1,0]}\")\n",
    "print(f\"Consumo test >>> TOTAL = {total_consumo_test8}         Promedio = {promedio_test8}\")\n",
    "print(f\"Consumo pred >>> TOTAL = {total_consumo_pred8}                Promedio = {promedio_pred8}\")\n",
    "print(f\"Diferencias total:    {diferencia_total8}\")\n",
    "print(f\"Diferencias promedio: {diferencia_promedio8}\")"
   ]
  },
  {
   "cell_type": "markdown",
   "metadata": {},
   "source": [
    "# Resumen de Resultados"
   ]
  },
  {
   "cell_type": "code",
   "execution_count": null,
   "metadata": {},
   "outputs": [],
   "source": []
  }
 ],
 "metadata": {
  "kernelspec": {
   "display_name": "nilmtk",
   "language": "python",
   "name": "nilmtk"
  },
  "language_info": {
   "codemirror_mode": {
    "name": "ipython",
    "version": 3
   },
   "file_extension": ".py",
   "mimetype": "text/x-python",
   "name": "python",
   "nbconvert_exporter": "python",
   "pygments_lexer": "ipython3",
   "version": "3.6.11"
  }
 },
 "nbformat": 4,
 "nbformat_minor": 4
}
