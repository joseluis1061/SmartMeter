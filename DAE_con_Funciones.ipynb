{
 "cells": [
  {
   "cell_type": "markdown",
   "metadata": {},
   "source": [
    "# Unificando bases de datos"
   ]
  },
  {
   "cell_type": "code",
   "execution_count": 1,
   "metadata": {},
   "outputs": [],
   "source": [
    "#0. Cargar las librerias \n",
    "from __future__ import print_function, division\n",
    "import time\n",
    "import nilmtk\n",
    "\n",
    "from matplotlib import rcParams\n",
    "import matplotlib.pyplot as plt\n",
    "import pandas as pd\n",
    "import numpy as np\n",
    "from six import iteritems\n",
    "\n",
    "from nilmtk import DataSet, TimeFrame, MeterGroup, HDFDataStore\n",
    "from nilmtk.legacy.disaggregate import CombinatorialOptimisation, FHMM\n",
    "import nilmtk.utils\n",
    "\n",
    "%matplotlib inline\n",
    "#Constante para el tamño de las imagenes\n",
    "rcParams['figure.figsize'] = (13, 6)"
   ]
  },
  {
   "cell_type": "code",
   "execution_count": 2,
   "metadata": {},
   "outputs": [],
   "source": [
    "# Tamaño de las secuencias de datos de entrada\n",
    "sequence_length = 256"
   ]
  },
  {
   "cell_type": "code",
   "execution_count": 3,
   "metadata": {},
   "outputs": [],
   "source": [
    "# Directorio general a las bases de datos\n",
    "dir_redd = 'C:\\\\Users\\\\josel\\\\nilmtk_work\\\\NILMTK_Repaso\\\\redd_low_frec\\\\'"
   ]
  },
  {
   "cell_type": "markdown",
   "metadata": {},
   "source": [
    "# House_1 "
   ]
  },
  {
   "cell_type": "code",
   "execution_count": 4,
   "metadata": {},
   "outputs": [
    {
     "data": {
      "text/html": [
       "<div>\n",
       "<style scoped>\n",
       "    .dataframe tbody tr th:only-of-type {\n",
       "        vertical-align: middle;\n",
       "    }\n",
       "\n",
       "    .dataframe tbody tr th {\n",
       "        vertical-align: top;\n",
       "    }\n",
       "\n",
       "    .dataframe thead th {\n",
       "        text-align: right;\n",
       "    }\n",
       "</style>\n",
       "<table border=\"1\" class=\"dataframe\">\n",
       "  <thead>\n",
       "    <tr style=\"text-align: right;\">\n",
       "      <th></th>\n",
       "      <th>1</th>\n",
       "    </tr>\n",
       "    <tr>\n",
       "      <th>0</th>\n",
       "      <th></th>\n",
       "    </tr>\n",
       "  </thead>\n",
       "  <tbody>\n",
       "    <tr>\n",
       "      <th>0</th>\n",
       "      <td>main_1</td>\n",
       "    </tr>\n",
       "    <tr>\n",
       "      <th>1</th>\n",
       "      <td>main_2</td>\n",
       "    </tr>\n",
       "    <tr>\n",
       "      <th>2</th>\n",
       "      <td>fridge_1</td>\n",
       "    </tr>\n",
       "    <tr>\n",
       "      <th>3</th>\n",
       "      <td>dish washer_1</td>\n",
       "    </tr>\n",
       "    <tr>\n",
       "      <th>4</th>\n",
       "      <td>sockets_1</td>\n",
       "    </tr>\n",
       "    <tr>\n",
       "      <th>5</th>\n",
       "      <td>sockets_2</td>\n",
       "    </tr>\n",
       "    <tr>\n",
       "      <th>6</th>\n",
       "      <td>light_1</td>\n",
       "    </tr>\n",
       "    <tr>\n",
       "      <th>7</th>\n",
       "      <td>microwave_1</td>\n",
       "    </tr>\n",
       "    <tr>\n",
       "      <th>8</th>\n",
       "      <td>unknown_1</td>\n",
       "    </tr>\n",
       "    <tr>\n",
       "      <th>9</th>\n",
       "      <td>electric_space heater_1</td>\n",
       "    </tr>\n",
       "    <tr>\n",
       "      <th>10</th>\n",
       "      <td>electric_stove_1</td>\n",
       "    </tr>\n",
       "    <tr>\n",
       "      <th>11</th>\n",
       "      <td>sockets_3</td>\n",
       "    </tr>\n",
       "    <tr>\n",
       "      <th>12</th>\n",
       "      <td>sockets_4</td>\n",
       "    </tr>\n",
       "    <tr>\n",
       "      <th>13</th>\n",
       "      <td>light_2</td>\n",
       "    </tr>\n",
       "    <tr>\n",
       "      <th>14</th>\n",
       "      <td>light_3</td>\n",
       "    </tr>\n",
       "    <tr>\n",
       "      <th>15</th>\n",
       "      <td>unknown_2</td>\n",
       "    </tr>\n",
       "    <tr>\n",
       "      <th>16</th>\n",
       "      <td>electric_oven_1</td>\n",
       "    </tr>\n",
       "    <tr>\n",
       "      <th>17</th>\n",
       "      <td>washer_dryer_1</td>\n",
       "    </tr>\n",
       "  </tbody>\n",
       "</table>\n",
       "</div>"
      ],
      "text/plain": [
       "                          1\n",
       "0                          \n",
       "0                    main_1\n",
       "1                    main_2\n",
       "2                  fridge_1\n",
       "3             dish washer_1\n",
       "4                 sockets_1\n",
       "5                 sockets_2\n",
       "6                   light_1\n",
       "7               microwave_1\n",
       "8                 unknown_1\n",
       "9   electric_space heater_1\n",
       "10         electric_stove_1\n",
       "11                sockets_3\n",
       "12                sockets_4\n",
       "13                  light_2\n",
       "14                  light_3\n",
       "15                unknown_2\n",
       "16          electric_oven_1\n",
       "17           washer_dryer_1"
      ]
     },
     "execution_count": 4,
     "metadata": {},
     "output_type": "execute_result"
    }
   ],
   "source": [
    "labels_h1 = pd.read_csv(dir_redd+'house_1\\\\labels.csv', sep=r' ', header = None, index_col=0)\n",
    "labels_h1"
   ]
  },
  {
   "cell_type": "code",
   "execution_count": 5,
   "metadata": {},
   "outputs": [],
   "source": [
    "# Cargar los datos ya pre procesados para tener una misma frecuencia\n",
    "main_1 = pd.read_csv(dir_redd+'house_1\\\\channel_1.csv', sep=r' ', header = None, index_col=0, parse_dates=True)\n",
    "fridge_1 = pd.read_csv(dir_redd+'house_1\\\\channel_3.csv', sep=r' ', header = None, index_col=0, parse_dates=True)"
   ]
  },
  {
   "cell_type": "code",
   "execution_count": 6,
   "metadata": {},
   "outputs": [],
   "source": [
    "main_2 = pd.read_csv(dir_redd+'house_1\\\\channel_2.csv', sep=r' ', header = None, index_col=0, parse_dates=True)"
   ]
  },
  {
   "cell_type": "code",
   "execution_count": 7,
   "metadata": {},
   "outputs": [
    {
     "name": "stdout",
     "output_type": "stream",
     "text": [
      "train_main     (1003071,)\n",
      "train_fridge_1 (1003067,)\n",
      "test_main      (2131023,)\n",
      "test_fridge_1  (2130995,)\n"
     ]
    }
   ],
   "source": [
    "#Definir datos de entrenamiento y test hasta la fechas indicadas\n",
    "train_main = main_1.loc[:'2011-4-29',1]\n",
    "train_fridge_1 = fridge_1.loc[:'2011-4-29',1]\n",
    "\n",
    "test_main = main_1.loc['2011-4-30':,1]\n",
    "test_fridge_1 = fridge_1.loc['2011-4-30':,1]\n",
    "\n",
    "print(f\"train_main     {train_main.shape}\")\n",
    "print(f\"train_fridge_1 {train_fridge_1.shape}\")\n",
    "print(f\"test_main      {test_main.shape}\")\n",
    "print(f\"test_fridge_1  {test_fridge_1.shape}\")"
   ]
  },
  {
   "cell_type": "code",
   "execution_count": 8,
   "metadata": {},
   "outputs": [
    {
     "name": "stdout",
     "output_type": "stream",
     "text": [
      "4521.04\n"
     ]
    }
   ],
   "source": [
    "# Calcular el valor maximo del medidor central con datos de train\n",
    "mmax = None\n",
    "if mmax == None:\n",
    "    mmax = train_main.max()\n",
    "print(mmax)\n",
    "\n",
    "# Funciones para normalizar los datos\n",
    "# Normaliza las series de tiempo teniendo en cuenta el valor maximo\n",
    "# mmax medido por el medidor central\n",
    "def _normalize(chunk, mmax):\n",
    "    tchunk = chunk / mmax\n",
    "    return tchunk\n",
    "\n",
    "# Des Normaliza las series de tiempo teniendo en cuenta el valor maximo\n",
    "# mmax medido por el medidor central\n",
    "def _denormalize(chunk, mmax):\n",
    "    tchunk = chunk * mmax\n",
    "    return tchunk"
   ]
  },
  {
   "cell_type": "code",
   "execution_count": 9,
   "metadata": {},
   "outputs": [
    {
     "data": {
      "text/plain": [
       "0\n",
       "2011-04-18 09:22:09-04:00    0.049588\n",
       "2011-04-18 09:22:10-04:00    0.049893\n",
       "2011-04-18 09:22:11-04:00    0.050008\n",
       "2011-04-18 09:22:12-04:00    0.049267\n",
       "2011-04-18 09:22:13-04:00    0.049148\n",
       "Name: 1, dtype: float64"
      ]
     },
     "execution_count": 9,
     "metadata": {},
     "output_type": "execute_result"
    }
   ],
   "source": [
    "# Normaliza las series y guardarlas en variable nueva\n",
    "mainchunk = _normalize(train_main, mmax)\n",
    "meterchunk = _normalize(train_fridge_1, mmax)\n",
    "mainchunk.head(5)"
   ]
  },
  {
   "cell_type": "code",
   "execution_count": 10,
   "metadata": {},
   "outputs": [],
   "source": [
    "#9. Tamaño de la secuencia definida para el modelo\n",
    "s = sequence_length\n",
    "#10. Remplaza valores NaNs con 0s\n",
    "mainchunk.fillna(0, inplace=True)\n",
    "meterchunk.fillna(0, inplace=True)"
   ]
  },
  {
   "cell_type": "code",
   "execution_count": 11,
   "metadata": {},
   "outputs": [
    {
     "name": "stdout",
     "output_type": "stream",
     "text": [
      "DatetimeIndex(['2011-04-18 09:22:13-04:00', '2011-04-18 09:22:14-04:00',\n",
      "               '2011-04-18 09:22:15-04:00', '2011-04-18 09:22:16-04:00',\n",
      "               '2011-04-18 09:22:17-04:00', '2011-04-18 09:22:18-04:00',\n",
      "               '2011-04-18 09:22:19-04:00', '2011-04-18 09:22:20-04:00',\n",
      "               '2011-04-18 09:22:21-04:00', '2011-04-18 09:22:22-04:00',\n",
      "               ...\n",
      "               '2011-04-29 23:59:50-04:00', '2011-04-29 23:59:51-04:00',\n",
      "               '2011-04-29 23:59:52-04:00', '2011-04-29 23:59:53-04:00',\n",
      "               '2011-04-29 23:59:54-04:00', '2011-04-29 23:59:55-04:00',\n",
      "               '2011-04-29 23:59:56-04:00', '2011-04-29 23:59:57-04:00',\n",
      "               '2011-04-29 23:59:58-04:00', '2011-04-29 23:59:59-04:00'],\n",
      "              dtype='datetime64[ns, pytz.FixedOffset(-240)]', name=0, length=1003067, freq='S')\n"
     ]
    }
   ],
   "source": [
    "#11. Une los indices comunes a las dos series de dispositivo y medidor\n",
    "# Retorna una serie con los indices comunes en fechas\n",
    "ix = mainchunk.index.intersection(meterchunk.index)\n",
    "print(ix)"
   ]
  },
  {
   "cell_type": "code",
   "execution_count": 12,
   "metadata": {},
   "outputs": [],
   "source": [
    "#11. Toma los datos en las fechas coincidentes y descarta las demas\n",
    "# seleccionando por medio de los indices contenidos en ix\n",
    "mainchunk = mainchunk[ix]\n",
    "meterchunk = meterchunk[ix]"
   ]
  },
  {
   "cell_type": "code",
   "execution_count": 13,
   "metadata": {},
   "outputs": [],
   "source": [
    "#12. Tamaño del batch de ceros\n",
    "adicion = s - (len(ix) % s)\n",
    "#A cada serie de medidor se le agrega el batch\n",
    "#Se definen en función del tamaño de la muestra\n",
    "#Esta operación elimina el indice de tipo tiempo\n",
    "X_batch = np.append(mainchunk, np.zeros(adicion))    # Medidor central\n",
    "Y_batch = np.append(meterchunk, np.zeros(adicion))   # Medidor de dispositivo"
   ]
  },
  {
   "cell_type": "code",
   "execution_count": 14,
   "metadata": {},
   "outputs": [
    {
     "name": "stdout",
     "output_type": "stream",
     "text": [
      "X_batch (3919, 256, 1)\n",
      "Y_batch (3919, 256, 1)\n"
     ]
    }
   ],
   "source": [
    "#13. Cambia la forma de los datos quedando la señal en tramos de 256 puntos chunk\n",
    "#Para el ventanas de 256 seran (muestras = 3919, ventana = 256, Caracteristica = 1)\n",
    "X_batch = np.reshape(X_batch, (int(len(X_batch) / s), s, 1))\n",
    "Y_batch = np.reshape(Y_batch, (int(len(Y_batch) / s), s, 1))\n",
    "print(f\"X_batch {X_batch.shape}\")\n",
    "print(f\"Y_batch {Y_batch.shape}\")"
   ]
  },
  {
   "cell_type": "code",
   "execution_count": 15,
   "metadata": {},
   "outputs": [
    {
     "name": "stdout",
     "output_type": "stream",
     "text": [
      "X_batch <class 'numpy.ndarray'>\n",
      "Y_batch <class 'numpy.ndarray'>\n"
     ]
    }
   ],
   "source": [
    "print(f\"X_batch {type(X_batch)}\")\n",
    "print(f\"Y_batch {type(Y_batch)}\")"
   ]
  },
  {
   "cell_type": "markdown",
   "metadata": {},
   "source": [
    "# Modelos\n",
    "\n",
    "En esta sección se definen los diferentes modelos con los que se entrenaran los datos teniendo como objetivo predecir el consumo de un unico dispositivo. \n",
    "\n",
    "Tenga en cuenta que el numero de pasos de entrada debe ser la misma que el tamaño de la serie de salida. Esto se debe a que la logica implementada es que con las medidas tomadas por el medidor central se calcule el consumo en el mismo instante de tiempo para el medidor del dispositivo."
   ]
  },
  {
   "cell_type": "code",
   "execution_count": 16,
   "metadata": {},
   "outputs": [],
   "source": [
    "# Librerias para modelos\n",
    "from keras.models import load_model\n",
    "from keras.models import Sequential\n",
    "from keras.layers import Dense, Flatten, Conv1D, Reshape, Dropout\n",
    "from keras.utils import plot_model\n",
    "\n",
    "# univariate multi-step cnn\n",
    "from math import sqrt\n",
    "from numpy import split\n",
    "from numpy import array\n",
    "from pandas import read_csv\n",
    "from sklearn.metrics import mean_squared_error\n",
    "from matplotlib import pyplot\n",
    "from keras.models import Sequential\n",
    "from keras.layers import Dense\n",
    "from keras.layers import Flatten\n",
    "from keras.layers.convolutional import Conv1D\n",
    "from keras.layers.convolutional import MaxPooling1D"
   ]
  },
  {
   "cell_type": "code",
   "execution_count": 17,
   "metadata": {},
   "outputs": [],
   "source": [
    "def auto_encoder1(sequence_len):\n",
    "    '''Crear el modulo Auto encoder descrito en el articulo\n",
    "    '''\n",
    "    #Crea el contenedor del modelo\n",
    "    model = Sequential()\n",
    "\n",
    "    # 1D Conv filtros = 8, kernel = 4, entrada 256 pasos de 1 feature, padding igual, paso en 1\n",
    "    model.add(Conv1D(8, 4, activation=\"linear\", input_shape=(sequence_len, 1), padding=\"same\", strides=1))\n",
    "    #Aplanar la salida\n",
    "    model.add(Flatten())\n",
    "    # Fully Connected Layers abandono del 20%\n",
    "    model.add(Dropout(0.2))\n",
    "    \n",
    "    #Auto encoder\n",
    "    # Neuronas 8 veces el tamaño de la ventana de tiempo = 2048 nodos\n",
    "    model.add(Dense((sequence_len-0)*8, activation='relu'))\n",
    "    #Abandono del 20% capa con 128 neuronas\n",
    "    model.add(Dropout(0.2))\n",
    "    \n",
    "    model.add(Dense(128, activation='relu'))\n",
    "    #Abandono del 20% capa con 2048 nodos\n",
    "    model.add(Dropout(0.2))\n",
    "    \n",
    "    model.add(Dense((sequence_len-0)*8, activation='relu'))\n",
    "    model.add(Dropout(0.2))\n",
    "\n",
    "    # 1D Conv\n",
    "    # La salida de la capa anterior es una secuencia aplanada. Es necesario cambiar\n",
    "    # el formato de los datos de salida para obtener datos de forma 256,8 similar\n",
    "    # a los pasos y filtros de la primer convolución\n",
    "    model.add(Reshape(((sequence_len-0), 8)))\n",
    "    #Entrega estos datos a una nueva capa convolucional 1 filtro con kernel = 4\n",
    "    #Supongo es de un solo filtro debido a que deseamos obtener una sola serie. \n",
    "    model.add(Conv1D(1, 4, activation=\"linear\", padding=\"same\", strides=1))\n",
    "    #Compila el modelo con perdida mse y optimizador de adam\n",
    "    model.compile(loss='mse', optimizer='adam')\n",
    "    #Grafico del modelo para exportar\n",
    "    #plot_model(model, to_file='model.png', show_shapes=True)\n",
    "\n",
    "    return model"
   ]
  },
  {
   "cell_type": "code",
   "execution_count": 18,
   "metadata": {},
   "outputs": [],
   "source": [
    "dae = auto_encoder1(sequence_length)"
   ]
  },
  {
   "cell_type": "code",
   "execution_count": null,
   "metadata": {},
   "outputs": [],
   "source": []
  },
  {
   "cell_type": "code",
   "execution_count": 51,
   "metadata": {},
   "outputs": [],
   "source": [
    "# train the model\n",
    "#def build_model(train, n_input):\n",
    "def build_model1(sequence_len):    \n",
    "\n",
    "    # define model\n",
    "    model = Sequential()\n",
    "    model.add(Conv1D(filters=16, kernel_size=3, activation='relu', input_shape=(sequence_len,1), padding=\"same\", strides=1))\n",
    "    model.add(MaxPooling1D(pool_size=2))\n",
    "    model.add(Conv1D(filters=16, kernel_size=3, activation='relu', padding=\"same\", strides=1))\n",
    "    model.add(MaxPooling1D(pool_size=2))\n",
    "    model.add(Flatten())\n",
    "    model.add(Dense(10, activation='relu'))\n",
    "    model.add(Dense(sequence_len))\n",
    "    model.compile(loss='mse', optimizer='adam')\n",
    "\n",
    "    return model"
   ]
  },
  {
   "cell_type": "code",
   "execution_count": 54,
   "metadata": {},
   "outputs": [],
   "source": [
    "bm1 = build_model1(sequence_length)"
   ]
  },
  {
   "cell_type": "code",
   "execution_count": 62,
   "metadata": {},
   "outputs": [],
   "source": [
    "def build_model2(sequence_len):    \n",
    "\n",
    "    # define model\n",
    "    model = Sequential()\n",
    "    model.add(Conv1D(filters=16, kernel_size=3, activation='relu', input_shape=(sequence_len,1), padding=\"same\", strides=1))\n",
    "    model.add(MaxPooling1D(pool_size=2))\n",
    "    model.add(Conv1D(filters=16, kernel_size=3, activation='relu', padding=\"same\", strides=1))\n",
    "    model.add(MaxPooling1D(pool_size=2))\n",
    "    model.add(Conv1D(filters=16, kernel_size=3, activation='relu', padding=\"same\", strides=1))\n",
    "    model.add(MaxPooling1D(pool_size=2))\n",
    "    model.add(Flatten())\n",
    "    model.add(Dense(10, activation='relu'))\n",
    "    model.add(Dense(sequence_len))\n",
    "    model.compile(loss='mse', optimizer='adam')\n",
    "\n",
    "    return model"
   ]
  },
  {
   "cell_type": "code",
   "execution_count": 63,
   "metadata": {},
   "outputs": [],
   "source": [
    "bm2 = build_model2(sequence_length)"
   ]
  },
  {
   "cell_type": "code",
   "execution_count": null,
   "metadata": {},
   "outputs": [],
   "source": []
  },
  {
   "cell_type": "code",
   "execution_count": 64,
   "metadata": {},
   "outputs": [],
   "source": [
    "def build_model3(sequence_len):    \n",
    "\n",
    "    # define model\n",
    "    model = Sequential()\n",
    "    model.add(Conv1D(filters=32, kernel_size=3, activation='relu', input_shape=(sequence_len,1), padding=\"same\", strides=1))\n",
    "    model.add(MaxPooling1D(pool_size=2))\n",
    "    model.add(Conv1D(filters=16, kernel_size=3, activation='relu', padding=\"same\", strides=1))\n",
    "    model.add(MaxPooling1D(pool_size=2))\n",
    "    model.add(Conv1D(filters=8, kernel_size=3, activation='relu', padding=\"same\", strides=1))\n",
    "    model.add(MaxPooling1D(pool_size=2))\n",
    "    model.add(Flatten())\n",
    "    model.add(Dense(8, activation='relu'))\n",
    "    model.add(Dense(sequence_len))\n",
    "    model.compile(loss='mse', optimizer='adam')\n",
    "\n",
    "    return model"
   ]
  },
  {
   "cell_type": "code",
   "execution_count": 65,
   "metadata": {},
   "outputs": [],
   "source": [
    "bm3 = build_model3(sequence_length)"
   ]
  },
  {
   "cell_type": "code",
   "execution_count": null,
   "metadata": {},
   "outputs": [],
   "source": []
  },
  {
   "cell_type": "code",
   "execution_count": 104,
   "metadata": {},
   "outputs": [],
   "source": [
    "def build_model4(sequence_len):    \n",
    "\n",
    "    # define model\n",
    "    model = Sequential()\n",
    "    model.add(Conv1D(filters=64, kernel_size=3, activation='relu', input_shape=(sequence_len,1), padding=\"same\", strides=1))\n",
    "    model.add(MaxPooling1D(pool_size=2))\n",
    "    model.add(Conv1D(filters=32, kernel_size=3, activation='relu', padding=\"same\", strides=1))\n",
    "    model.add(MaxPooling1D(pool_size=2))\n",
    "    model.add(Conv1D(filters=16, kernel_size=3, activation='relu', padding=\"same\", strides=1))\n",
    "    model.add(MaxPooling1D(pool_size=2))\n",
    "    model.add(Conv1D(filters=8, kernel_size=3, activation='relu', padding=\"same\", strides=1))\n",
    "    model.add(MaxPooling1D(pool_size=2))\n",
    "    \n",
    "    model.add(Flatten())\n",
    "    model.add(Dense(8, activation='relu'))\n",
    "    model.add(Dense(32, activation='relu'))\n",
    "    model.add(Dense(64, activation='relu'))\n",
    "    model.add(Dense(128, activation='relu'))\n",
    "    model.add(Dense(sequence_len))\n",
    "    model.compile(loss='mse', optimizer='adam')\n",
    "\n",
    "    return model"
   ]
  },
  {
   "cell_type": "code",
   "execution_count": 105,
   "metadata": {},
   "outputs": [],
   "source": [
    "bm4 = build_model4(sequence_length)"
   ]
  },
  {
   "cell_type": "code",
   "execution_count": null,
   "metadata": {},
   "outputs": [],
   "source": []
  },
  {
   "cell_type": "code",
   "execution_count": 68,
   "metadata": {},
   "outputs": [],
   "source": [
    "def build_model5(sequence_len):    \n",
    "\n",
    "    # define model\n",
    "    model = Sequential()\n",
    "    model.add(Conv1D(filters=64, kernel_size=3, activation='relu', input_shape=(sequence_len,1), padding=\"same\", strides=1))\n",
    "    model.add(MaxPooling1D(pool_size=2))\n",
    "    model.add(Dropout(0.2))\n",
    "    model.add(Conv1D(filters=32, kernel_size=3, activation='relu', padding=\"same\", strides=1))\n",
    "    model.add(MaxPooling1D(pool_size=2))\n",
    "    model.add(Dropout(0.2))\n",
    "    model.add(Conv1D(filters=16, kernel_size=3, activation='relu', padding=\"same\", strides=1))\n",
    "    model.add(MaxPooling1D(pool_size=2))\n",
    "    model.add(Dropout(0.2))\n",
    "    #model.add(Conv1D(filters=8, kernel_size=3, activation='relu', padding=\"same\", strides=1))\n",
    "    #model.add(MaxPooling1D(pool_size=2))\n",
    "    \n",
    "    model.add(Flatten())\n",
    "    model.add(Dense(16, activation='relu'))\n",
    "\n",
    "    model.add(Dense(sequence_len))\n",
    "    model.compile(loss='mse', optimizer='adam')\n",
    "\n",
    "    return model"
   ]
  },
  {
   "cell_type": "code",
   "execution_count": 69,
   "metadata": {},
   "outputs": [],
   "source": [
    "bm5 = build_model5(sequence_length)"
   ]
  },
  {
   "cell_type": "code",
   "execution_count": null,
   "metadata": {},
   "outputs": [],
   "source": []
  },
  {
   "cell_type": "code",
   "execution_count": 121,
   "metadata": {},
   "outputs": [],
   "source": [
    "def build_model6(sequence_len):    \n",
    "\n",
    "    # define model\n",
    "    model = Sequential()\n",
    "    model.add(Conv1D(filters=32, kernel_size=3, activation='relu', input_shape=(sequence_len,1), padding=\"same\", strides=1))\n",
    "    model.add(MaxPooling1D(pool_size=2))\n",
    "    model.add(Dropout(0.2))\n",
    "    model.add(Conv1D(filters=32, kernel_size=3, activation='relu', padding=\"same\", strides=1))\n",
    "    model.add(MaxPooling1D(pool_size=2))\n",
    "    model.add(Dropout(0.2))\n",
    "    model.add(Conv1D(filters=32, kernel_size=3, activation='relu', padding=\"same\", strides=1))\n",
    "    model.add(MaxPooling1D(pool_size=2))\n",
    "    model.add(Dropout(0.2))\n",
    "    #model.add(Conv1D(filters=8, kernel_size=3, activation='relu', padding=\"same\", strides=1))\n",
    "    #model.add(MaxPooling1D(pool_size=2))\n",
    "    \n",
    "    model.add(Flatten())\n",
    "    model.add(Dense(16, activation='relu'))\n",
    "\n",
    "    model.add(Dense(sequence_len))\n",
    "    model.compile(loss='mse', optimizer='adam')\n",
    "\n",
    "    return model"
   ]
  },
  {
   "cell_type": "code",
   "execution_count": 122,
   "metadata": {},
   "outputs": [],
   "source": [
    "bm6 = build_model6(sequence_length)"
   ]
  },
  {
   "cell_type": "code",
   "execution_count": null,
   "metadata": {},
   "outputs": [],
   "source": []
  },
  {
   "cell_type": "code",
   "execution_count": 129,
   "metadata": {},
   "outputs": [],
   "source": [
    "def build_model7(sequence_len):\n",
    "    '''Crear el modulo Auto encoder descrito en el articulo\n",
    "    '''\n",
    "    #Crea el contenedor del modelo\n",
    "    model = Sequential()\n",
    "\n",
    "    # 1D Conv filtros = 8, kernel = 4, entrada 256 pasos de 1 feature, padding igual, paso en 1\n",
    "    model.add(Conv1D(32, 6, activation=\"linear\", input_shape=(sequence_len, 1), padding=\"same\", strides=1))\n",
    "    model.add(Conv1D(8, 4, activation=\"linear\", padding=\"same\", strides=1))\n",
    "    #Aplanar la salida\n",
    "    model.add(Flatten())\n",
    "    # Fully Connected Layers abandono del 20%\n",
    "    model.add(Dropout(0.2))\n",
    "    \n",
    "    #Auto encoder\n",
    "    # Neuronas 8 veces el tamaño de la ventana de tiempo = 2048 nodos\n",
    "    model.add(Dense((sequence_len-0)*8, activation='relu'))\n",
    "    #Abandono del 20% capa con 128 neuronas\n",
    "    model.add(Dropout(0.2))\n",
    "    \n",
    "    model.add(Dense(128, activation='relu'))\n",
    "    #Abandono del 20% capa con 2048 nodos\n",
    "    model.add(Dropout(0.2))\n",
    "    \n",
    "    model.add(Dense((sequence_len-0)*8, activation='relu'))\n",
    "    model.add(Dropout(0.2))\n",
    "\n",
    "    # 1D Conv\n",
    "    # La salida de la capa anterior es una secuencia aplanada. Es necesario cambiar\n",
    "    # el formato de los datos de salida para obtener datos de forma 256,8 similar\n",
    "    # a los pasos y filtros de la primer convolución\n",
    "    model.add(Reshape(((sequence_len-0), 8)))\n",
    "    #Entrega estos datos a una nueva capa convolucional 1 filtro con kernel = 4\n",
    "    #Supongo es de un solo filtro debido a que deseamos obtener una sola serie. \n",
    "    model.add(Conv1D(1, 4, activation=\"linear\", padding=\"same\", strides=1))\n",
    "    #Compila el modelo con perdida mse y optimizador de adam\n",
    "    model.compile(loss='mse', optimizer='adam')\n",
    "    #Grafico del modelo para exportar\n",
    "    #plot_model(model, to_file='model.png', show_shapes=True)\n",
    "\n",
    "    return model"
   ]
  },
  {
   "cell_type": "code",
   "execution_count": 130,
   "metadata": {},
   "outputs": [],
   "source": [
    "bm7 = build_model7(sequence_length)"
   ]
  },
  {
   "cell_type": "code",
   "execution_count": null,
   "metadata": {},
   "outputs": [],
   "source": []
  },
  {
   "cell_type": "code",
   "execution_count": 154,
   "metadata": {},
   "outputs": [],
   "source": [
    "def build_model8(sequence_len):\n",
    "    '''Crear el modulo Auto encoder descrito en el articulo\n",
    "    '''\n",
    "    #Crea el contenedor del modelo\n",
    "    model = Sequential()\n",
    "\n",
    "    # 1D Conv filtros = 8, kernel = 4, entrada 256 pasos de 1 feature, padding igual, paso en 1\n",
    "    model.add(Conv1D(64, 9, activation=\"linear\", input_shape=(sequence_len, 1), padding=\"same\", strides=1))\n",
    "    model.add(Dropout(0.2))\n",
    "    model.add(Conv1D(16, 4, activation=\"linear\", padding=\"same\", strides=1))\n",
    "    model.add(Dropout(0.2))\n",
    "    #Aplanar la salida\n",
    "    model.add(Flatten())\n",
    "\n",
    "    \n",
    "    #Auto encoder\n",
    "    # Neuronas 8 veces el tamaño de la ventana de tiempo = 2048 nodos\n",
    "    model.add(Dense((sequence_len-0)*8, activation='relu'))\n",
    "    #Abandono del 20% capa con 128 neuronas\n",
    "    model.add(Dropout(0.2))\n",
    "    \n",
    "    model.add(Dense(128, activation='relu'))\n",
    "    #Abandono del 20% capa con 2048 nodos\n",
    "    model.add(Dropout(0.2))\n",
    "    \n",
    "    model.add(Dense((sequence_len-0)*8, activation='relu'))\n",
    "    model.add(Dropout(0.2))\n",
    "\n",
    "    # 1D Conv\n",
    "    # La salida de la capa anterior es una secuencia aplanada. Es necesario cambiar\n",
    "    # el formato de los datos de salida para obtener datos de forma 256,8 similar\n",
    "    # a los pasos y filtros de la primer convolución\n",
    "    model.add(Reshape(((sequence_len-0), 8)))\n",
    "    model.add(Dropout(0.2))\n",
    "    #Entrega estos datos a una nueva capa convolucional 1 filtro con kernel = 4\n",
    "    #Supongo es de un solo filtro debido a que deseamos obtener una sola serie. \n",
    "    model.add(Conv1D(1, 3, activation=\"linear\", padding=\"same\", strides=1))\n",
    "    #Compila el modelo con perdida mse y optimizador de adam\n",
    "    model.compile(loss='mse', optimizer='adam')\n",
    "    #Grafico del modelo para exportar\n",
    "    #plot_model(model, to_file='model.png', show_shapes=True)\n",
    "\n",
    "    return model"
   ]
  },
  {
   "cell_type": "code",
   "execution_count": 155,
   "metadata": {},
   "outputs": [],
   "source": [
    "bm8 = build_model8(sequence_length)"
   ]
  },
  {
   "cell_type": "code",
   "execution_count": null,
   "metadata": {},
   "outputs": [],
   "source": []
  },
  {
   "cell_type": "markdown",
   "metadata": {},
   "source": [
    "## Entrenar modelos"
   ]
  },
  {
   "cell_type": "markdown",
   "metadata": {},
   "source": [
    "### Modelo 0"
   ]
  },
  {
   "cell_type": "code",
   "execution_count": 35,
   "metadata": {},
   "outputs": [
    {
     "name": "stdout",
     "output_type": "stream",
     "text": [
      "Epoch 1/25\n",
      "123/123 [==============================] - 5s 37ms/step - loss: 4.1209e-04\n",
      "Epoch 2/25\n",
      "123/123 [==============================] - 5s 40ms/step - loss: 2.6158e-04\n",
      "Epoch 3/25\n",
      "123/123 [==============================] - 5s 38ms/step - loss: 2.3997e-04\n",
      "Epoch 4/25\n",
      "123/123 [==============================] - 5s 38ms/step - loss: 2.3641e-04\n",
      "Epoch 5/25\n",
      "123/123 [==============================] - 5s 38ms/step - loss: 2.2828e-04\n",
      "Epoch 6/25\n",
      "123/123 [==============================] - 5s 37ms/step - loss: 2.1447e-04\n",
      "Epoch 7/25\n",
      "123/123 [==============================] - 5s 37ms/step - loss: 2.2945e-04\n",
      "Epoch 8/25\n",
      "123/123 [==============================] - 5s 39ms/step - loss: 2.2565e-04\n",
      "Epoch 9/25\n",
      "123/123 [==============================] - 5s 41ms/step - loss: 2.2083e-04\n",
      "Epoch 10/25\n",
      "123/123 [==============================] - 5s 39ms/step - loss: 2.0503e-04\n",
      "Epoch 11/25\n",
      "123/123 [==============================] - 5s 39ms/step - loss: 2.0809e-04\n",
      "Epoch 12/25\n",
      "123/123 [==============================] - 5s 38ms/step - loss: 2.2997e-04\n",
      "Epoch 13/25\n",
      "123/123 [==============================] - 5s 38ms/step - loss: 2.1963e-04\n",
      "Epoch 14/25\n",
      "123/123 [==============================] - 5s 38ms/step - loss: 2.0478e-04\n",
      "Epoch 15/25\n",
      "123/123 [==============================] - 5s 38ms/step - loss: 2.1740e-04\n",
      "Epoch 16/25\n",
      "123/123 [==============================] - 5s 38ms/step - loss: 2.2199e-04\n",
      "Epoch 17/25\n",
      "123/123 [==============================] - 5s 38ms/step - loss: 1.8923e-04\n",
      "Epoch 18/25\n",
      "123/123 [==============================] - 5s 38ms/step - loss: 2.0093e-04\n",
      "Epoch 19/25\n",
      "123/123 [==============================] - 5s 38ms/step - loss: 1.9641e-04\n",
      "Epoch 20/25\n",
      "123/123 [==============================] - 6s 47ms/step - loss: 2.2164e-04\n",
      "Epoch 21/25\n",
      "123/123 [==============================] - 6s 48ms/step - loss: 2.0347e-04\n",
      "Epoch 22/25\n",
      "123/123 [==============================] - 6s 50ms/step - loss: 1.9278e-04\n",
      "Epoch 23/25\n",
      "123/123 [==============================] - 6s 46ms/step - loss: 1.8905e-04\n",
      "Epoch 24/25\n",
      "123/123 [==============================] - 6s 49ms/step - loss: 2.1699e-04\n",
      "Epoch 25/25\n",
      "123/123 [==============================] - 6s 47ms/step - loss: 2.0281e-04\n"
     ]
    }
   ],
   "source": [
    "train_mains = X_batch \n",
    "train_meter = Y_batch \n",
    "modelo_entrenado = dae.fit(train_mains, train_meter, epochs=25)"
   ]
  },
  {
   "cell_type": "code",
   "execution_count": 36,
   "metadata": {},
   "outputs": [
    {
     "name": "stdout",
     "output_type": "stream",
     "text": [
      "Model: \"sequential\"\n",
      "_________________________________________________________________\n",
      "Layer (type)                 Output Shape              Param #   \n",
      "=================================================================\n",
      "conv1d (Conv1D)              (None, 256, 8)            40        \n",
      "_________________________________________________________________\n",
      "flatten (Flatten)            (None, 2048)              0         \n",
      "_________________________________________________________________\n",
      "dropout (Dropout)            (None, 2048)              0         \n",
      "_________________________________________________________________\n",
      "dense (Dense)                (None, 2048)              4196352   \n",
      "_________________________________________________________________\n",
      "dropout_1 (Dropout)          (None, 2048)              0         \n",
      "_________________________________________________________________\n",
      "dense_1 (Dense)              (None, 128)               262272    \n",
      "_________________________________________________________________\n",
      "dropout_2 (Dropout)          (None, 128)               0         \n",
      "_________________________________________________________________\n",
      "dense_2 (Dense)              (None, 2048)              264192    \n",
      "_________________________________________________________________\n",
      "dropout_3 (Dropout)          (None, 2048)              0         \n",
      "_________________________________________________________________\n",
      "reshape (Reshape)            (None, 256, 8)            0         \n",
      "_________________________________________________________________\n",
      "conv1d_1 (Conv1D)            (None, 256, 1)            33        \n",
      "=================================================================\n",
      "Total params: 4,722,889\n",
      "Trainable params: 4,722,889\n",
      "Non-trainable params: 0\n",
      "_________________________________________________________________\n"
     ]
    }
   ],
   "source": [
    "dae.summary()"
   ]
  },
  {
   "cell_type": "markdown",
   "metadata": {},
   "source": [
    "### MODELO UNO"
   ]
  },
  {
   "cell_type": "code",
   "execution_count": 55,
   "metadata": {},
   "outputs": [
    {
     "name": "stdout",
     "output_type": "stream",
     "text": [
      "Epoch 1/25\n",
      "123/123 [==============================] - 1s 4ms/step - loss: 4.0429e-04\n",
      "Epoch 2/25\n",
      "123/123 [==============================] - 0s 4ms/step - loss: 2.5402e-04\n",
      "Epoch 3/25\n",
      "123/123 [==============================] - 0s 4ms/step - loss: 2.4606e-04\n",
      "Epoch 4/25\n",
      "123/123 [==============================] - 0s 4ms/step - loss: 2.3666e-04\n",
      "Epoch 5/25\n",
      "123/123 [==============================] - 0s 4ms/step - loss: 2.3388e-04\n",
      "Epoch 6/25\n",
      "123/123 [==============================] - 0s 4ms/step - loss: 2.1523e-04\n",
      "Epoch 7/25\n",
      "123/123 [==============================] - 0s 4ms/step - loss: 2.0369e-04\n",
      "Epoch 8/25\n",
      "123/123 [==============================] - 0s 4ms/step - loss: 1.8417e-04\n",
      "Epoch 9/25\n",
      "123/123 [==============================] - 0s 3ms/step - loss: 1.9188e-04\n",
      "Epoch 10/25\n",
      "123/123 [==============================] - 0s 3ms/step - loss: 1.8451e-04\n",
      "Epoch 11/25\n",
      "123/123 [==============================] - 0s 3ms/step - loss: 1.8376e-04\n",
      "Epoch 12/25\n",
      "123/123 [==============================] - 0s 3ms/step - loss: 1.8314e-04\n",
      "Epoch 13/25\n",
      "123/123 [==============================] - 0s 3ms/step - loss: 1.7500e-04\n",
      "Epoch 14/25\n",
      "123/123 [==============================] - 0s 3ms/step - loss: 1.8706e-04\n",
      "Epoch 15/25\n",
      "123/123 [==============================] - 0s 3ms/step - loss: 1.8991e-04\n",
      "Epoch 16/25\n",
      "123/123 [==============================] - 0s 4ms/step - loss: 1.7668e-04\n",
      "Epoch 17/25\n",
      "123/123 [==============================] - 0s 4ms/step - loss: 1.6802e-04\n",
      "Epoch 18/25\n",
      "123/123 [==============================] - 0s 4ms/step - loss: 1.6988e-04\n",
      "Epoch 19/25\n",
      "123/123 [==============================] - 0s 3ms/step - loss: 1.7614e-04\n",
      "Epoch 20/25\n",
      "123/123 [==============================] - 1s 4ms/step - loss: 1.5025e-04\n",
      "Epoch 21/25\n",
      "123/123 [==============================] - 1s 5ms/step - loss: 1.6483e-04\n",
      "Epoch 22/25\n",
      "123/123 [==============================] - 0s 4ms/step - loss: 1.6961e-04\n",
      "Epoch 23/25\n",
      "123/123 [==============================] - 0s 4ms/step - loss: 1.6661e-04\n",
      "Epoch 24/25\n",
      "123/123 [==============================] - 0s 3ms/step - loss: 1.6520e-04\n",
      "Epoch 25/25\n",
      "123/123 [==============================] - 0s 3ms/step - loss: 1.5399e-04\n"
     ]
    }
   ],
   "source": [
    "train_mains = X_batch \n",
    "train_meter = Y_batch \n",
    "modelo_bm1 = bm1.fit(train_mains, train_meter, epochs=25)"
   ]
  },
  {
   "cell_type": "markdown",
   "metadata": {},
   "source": [
    "### MODELO DOS"
   ]
  },
  {
   "cell_type": "code",
   "execution_count": 76,
   "metadata": {},
   "outputs": [
    {
     "name": "stdout",
     "output_type": "stream",
     "text": [
      "Epoch 1/25\n",
      "123/123 [==============================] - 1s 5ms/step - loss: 3.7940e-04\n",
      "Epoch 2/25\n",
      "123/123 [==============================] - 1s 4ms/step - loss: 2.5930e-04\n",
      "Epoch 3/25\n",
      "123/123 [==============================] - 1s 4ms/step - loss: 2.2766e-04\n",
      "Epoch 4/25\n",
      "123/123 [==============================] - 1s 4ms/step - loss: 2.2701e-04\n",
      "Epoch 5/25\n",
      "123/123 [==============================] - 1s 4ms/step - loss: 2.3676e-04\n",
      "Epoch 6/25\n",
      "123/123 [==============================] - 1s 4ms/step - loss: 2.0905e-04\n",
      "Epoch 7/25\n",
      "123/123 [==============================] - 1s 5ms/step - loss: 2.0849e-04\n",
      "Epoch 8/25\n",
      "123/123 [==============================] - 1s 5ms/step - loss: 1.9871e-04\n",
      "Epoch 9/25\n",
      "123/123 [==============================] - 1s 4ms/step - loss: 1.8371e-04\n",
      "Epoch 10/25\n",
      "123/123 [==============================] - 1s 5ms/step - loss: 1.9068e-04\n",
      "Epoch 11/25\n",
      "123/123 [==============================] - 1s 6ms/step - loss: 1.7247e-04\n",
      "Epoch 12/25\n",
      "123/123 [==============================] - 1s 5ms/step - loss: 1.8329e-04\n",
      "Epoch 13/25\n",
      "123/123 [==============================] - 1s 4ms/step - loss: 1.6675e-04\n",
      "Epoch 14/25\n",
      "123/123 [==============================] - 1s 4ms/step - loss: 1.6566e-04\n",
      "Epoch 15/25\n",
      "123/123 [==============================] - 1s 4ms/step - loss: 1.6783e-04\n",
      "Epoch 16/25\n",
      "123/123 [==============================] - 1s 4ms/step - loss: 1.6135e-04\n",
      "Epoch 17/25\n",
      "123/123 [==============================] - 1s 4ms/step - loss: 1.6422e-04\n",
      "Epoch 18/25\n",
      "123/123 [==============================] - 1s 4ms/step - loss: 1.5817e-04\n",
      "Epoch 19/25\n",
      "123/123 [==============================] - 1s 4ms/step - loss: 1.4234e-04\n",
      "Epoch 20/25\n",
      "123/123 [==============================] - 1s 4ms/step - loss: 1.7447e-04\n",
      "Epoch 21/25\n",
      "123/123 [==============================] - 1s 4ms/step - loss: 1.7408e-04\n",
      "Epoch 22/25\n",
      "123/123 [==============================] - 1s 5ms/step - loss: 1.4859e-04\n",
      "Epoch 23/25\n",
      "123/123 [==============================] - 1s 4ms/step - loss: 1.6815e-04\n",
      "Epoch 24/25\n",
      "123/123 [==============================] - 1s 4ms/step - loss: 1.4328e-04\n",
      "Epoch 25/25\n",
      "123/123 [==============================] - 1s 4ms/step - loss: 1.5079e-04\n"
     ]
    }
   ],
   "source": [
    "train_mains = X_batch \n",
    "train_meter = Y_batch \n",
    "modelo_bm2 = bm2.fit(train_mains, train_meter, epochs=25)"
   ]
  },
  {
   "cell_type": "code",
   "execution_count": null,
   "metadata": {},
   "outputs": [],
   "source": []
  },
  {
   "cell_type": "markdown",
   "metadata": {},
   "source": [
    "### MODELO TRES"
   ]
  },
  {
   "cell_type": "code",
   "execution_count": 84,
   "metadata": {},
   "outputs": [
    {
     "name": "stdout",
     "output_type": "stream",
     "text": [
      "Epoch 1/25\n",
      "123/123 [==============================] - 1s 6ms/step - loss: 4.0345e-04\n",
      "Epoch 2/25\n",
      "123/123 [==============================] - 1s 6ms/step - loss: 2.5110e-04\n",
      "Epoch 3/25\n",
      "123/123 [==============================] - 1s 6ms/step - loss: 2.4431e-04\n",
      "Epoch 4/25\n",
      "123/123 [==============================] - 1s 6ms/step - loss: 2.2221e-04\n",
      "Epoch 5/25\n",
      "123/123 [==============================] - 1s 6ms/step - loss: 2.0833e-04\n",
      "Epoch 6/25\n",
      "123/123 [==============================] - 1s 6ms/step - loss: 2.1450e-04\n",
      "Epoch 7/25\n",
      "123/123 [==============================] - 1s 6ms/step - loss: 1.8506e-04\n",
      "Epoch 8/25\n",
      "123/123 [==============================] - 1s 6ms/step - loss: 1.7897e-04\n",
      "Epoch 9/25\n",
      "123/123 [==============================] - 1s 6ms/step - loss: 1.9543e-04\n",
      "Epoch 10/25\n",
      "123/123 [==============================] - 1s 6ms/step - loss: 1.8200e-04\n",
      "Epoch 11/25\n",
      "123/123 [==============================] - 1s 6ms/step - loss: 1.8006e-04\n",
      "Epoch 12/25\n",
      "123/123 [==============================] - 1s 6ms/step - loss: 1.9187e-04\n",
      "Epoch 13/25\n",
      "123/123 [==============================] - 1s 6ms/step - loss: 1.8823e-04\n",
      "Epoch 14/25\n",
      "123/123 [==============================] - 1s 6ms/step - loss: 1.6226e-04\n",
      "Epoch 15/25\n",
      "123/123 [==============================] - 1s 6ms/step - loss: 1.7840e-04\n",
      "Epoch 16/25\n",
      "123/123 [==============================] - 1s 6ms/step - loss: 1.7950e-04\n",
      "Epoch 17/25\n",
      "123/123 [==============================] - 1s 6ms/step - loss: 1.7459e-04\n",
      "Epoch 18/25\n",
      "123/123 [==============================] - 1s 6ms/step - loss: 1.6466e-04\n",
      "Epoch 19/25\n",
      "123/123 [==============================] - 1s 6ms/step - loss: 1.5098e-04\n",
      "Epoch 20/25\n",
      "123/123 [==============================] - 1s 6ms/step - loss: 1.4694e-04\n",
      "Epoch 21/25\n",
      "123/123 [==============================] - 1s 6ms/step - loss: 1.4786e-04\n",
      "Epoch 22/25\n",
      "123/123 [==============================] - 1s 6ms/step - loss: 1.3846e-04\n",
      "Epoch 23/25\n",
      "123/123 [==============================] - 1s 6ms/step - loss: 1.5929e-04\n",
      "Epoch 24/25\n",
      "123/123 [==============================] - 1s 6ms/step - loss: 1.4710e-04\n",
      "Epoch 25/25\n",
      "123/123 [==============================] - 1s 7ms/step - loss: 1.7900e-04\n"
     ]
    }
   ],
   "source": [
    "train_mains = X_batch \n",
    "train_meter = Y_batch \n",
    "modelo_bm3 = bm3.fit(train_mains, train_meter, epochs=25)"
   ]
  },
  {
   "cell_type": "markdown",
   "metadata": {},
   "source": [
    "### MODELO CUATRO"
   ]
  },
  {
   "cell_type": "code",
   "execution_count": 106,
   "metadata": {},
   "outputs": [
    {
     "name": "stdout",
     "output_type": "stream",
     "text": [
      "Epoch 1/25\n",
      "123/123 [==============================] - 2s 11ms/step - loss: 3.6634e-04\n",
      "Epoch 2/25\n",
      "123/123 [==============================] - 1s 10ms/step - loss: 2.4765e-04\n",
      "Epoch 3/25\n",
      "123/123 [==============================] - 1s 11ms/step - loss: 2.3483e-04\n",
      "Epoch 4/25\n",
      "123/123 [==============================] - 1s 11ms/step - loss: 2.2884e-04\n",
      "Epoch 5/25\n",
      "123/123 [==============================] - 1s 11ms/step - loss: 2.2377e-04\n",
      "Epoch 6/25\n",
      "123/123 [==============================] - 1s 11ms/step - loss: 2.3425e-04\n",
      "Epoch 7/25\n",
      "123/123 [==============================] - 1s 12ms/step - loss: 2.2246e-04\n",
      "Epoch 8/25\n",
      "123/123 [==============================] - 1s 11ms/step - loss: 1.9273e-04\n",
      "Epoch 9/25\n",
      "123/123 [==============================] - 1s 11ms/step - loss: 1.7487e-04\n",
      "Epoch 10/25\n",
      "123/123 [==============================] - 1s 11ms/step - loss: 2.0108e-04\n",
      "Epoch 11/25\n",
      "123/123 [==============================] - 1s 10ms/step - loss: 1.7959e-04\n",
      "Epoch 12/25\n",
      "123/123 [==============================] - 1s 11ms/step - loss: 1.6180e-04\n",
      "Epoch 13/25\n",
      "123/123 [==============================] - 1s 11ms/step - loss: 1.5073e-04\n",
      "Epoch 14/25\n",
      "123/123 [==============================] - 1s 10ms/step - loss: 1.5143e-04\n",
      "Epoch 15/25\n",
      "123/123 [==============================] - 1s 11ms/step - loss: 1.6547e-04\n",
      "Epoch 16/25\n",
      "123/123 [==============================] - 2s 12ms/step - loss: 1.5470e-04\n",
      "Epoch 17/25\n",
      "123/123 [==============================] - 1s 12ms/step - loss: 1.4415e-04\n",
      "Epoch 18/25\n",
      "123/123 [==============================] - 1s 12ms/step - loss: 1.8288e-04\n",
      "Epoch 19/25\n",
      "123/123 [==============================] - 1s 11ms/step - loss: 1.4567e-04\n",
      "Epoch 20/25\n",
      "123/123 [==============================] - 2s 13ms/step - loss: 1.4671e-04\n",
      "Epoch 21/25\n",
      "123/123 [==============================] - 1s 12ms/step - loss: 1.4742e-04\n",
      "Epoch 22/25\n",
      "123/123 [==============================] - 2s 13ms/step - loss: 1.4071e-04\n",
      "Epoch 23/25\n",
      "123/123 [==============================] - 2s 13ms/step - loss: 1.5514e-04\n",
      "Epoch 24/25\n",
      "123/123 [==============================] - 1s 12ms/step - loss: 1.4052e-04\n",
      "Epoch 25/25\n",
      "123/123 [==============================] - 2s 12ms/step - loss: 1.3899e-04\n"
     ]
    }
   ],
   "source": [
    "train_mains = X_batch \n",
    "train_meter = Y_batch \n",
    "modelo_bm4 = bm4.fit(train_mains, train_meter, epochs=25)"
   ]
  },
  {
   "cell_type": "markdown",
   "metadata": {},
   "source": [
    "### MODELO CINCO"
   ]
  },
  {
   "cell_type": "code",
   "execution_count": 114,
   "metadata": {},
   "outputs": [
    {
     "name": "stdout",
     "output_type": "stream",
     "text": [
      "Epoch 1/25\n",
      "123/123 [==============================] - 2s 12ms/step - loss: 4.0818e-04\n",
      "Epoch 2/25\n",
      "123/123 [==============================] - 2s 12ms/step - loss: 2.7128e-04\n",
      "Epoch 3/25\n",
      "123/123 [==============================] - 2s 13ms/step - loss: 2.4619e-04\n",
      "Epoch 4/25\n",
      "123/123 [==============================] - 2s 12ms/step - loss: 2.2012e-04\n",
      "Epoch 5/25\n",
      "123/123 [==============================] - 2s 13ms/step - loss: 2.3291e-04\n",
      "Epoch 6/25\n",
      "123/123 [==============================] - 2s 13ms/step - loss: 2.2429e-04\n",
      "Epoch 7/25\n",
      "123/123 [==============================] - 2s 13ms/step - loss: 2.1163e-04\n",
      "Epoch 8/25\n",
      "123/123 [==============================] - 2s 13ms/step - loss: 2.0920e-04\n",
      "Epoch 9/25\n",
      "123/123 [==============================] - 2s 13ms/step - loss: 1.9897e-04\n",
      "Epoch 10/25\n",
      "123/123 [==============================] - 2s 13ms/step - loss: 2.0988e-04\n",
      "Epoch 11/25\n",
      "123/123 [==============================] - 2s 13ms/step - loss: 2.0463e-04\n",
      "Epoch 12/25\n",
      "123/123 [==============================] - 2s 13ms/step - loss: 2.0072e-04\n",
      "Epoch 13/25\n",
      "123/123 [==============================] - 2s 14ms/step - loss: 1.8987e-04\n",
      "Epoch 14/25\n",
      "123/123 [==============================] - 2s 14ms/step - loss: 1.7192e-04\n",
      "Epoch 15/25\n",
      "123/123 [==============================] - 2s 14ms/step - loss: 1.6224e-04\n",
      "Epoch 16/25\n",
      "123/123 [==============================] - 2s 15ms/step - loss: 1.6873e-04\n",
      "Epoch 17/25\n",
      "123/123 [==============================] - 2s 14ms/step - loss: 1.6248e-04\n",
      "Epoch 18/25\n",
      "123/123 [==============================] - 2s 14ms/step - loss: 1.4848e-04\n",
      "Epoch 19/25\n",
      "123/123 [==============================] - 2s 14ms/step - loss: 1.7238e-04: 0s \n",
      "Epoch 20/25\n",
      "123/123 [==============================] - 2s 14ms/step - loss: 1.6627e-04\n",
      "Epoch 21/25\n",
      "123/123 [==============================] - 2s 14ms/step - loss: 1.5132e-04\n",
      "Epoch 22/25\n",
      "123/123 [==============================] - 2s 14ms/step - loss: 1.5843e-04\n",
      "Epoch 23/25\n",
      "123/123 [==============================] - 2s 14ms/step - loss: 1.4586e-04\n",
      "Epoch 24/25\n",
      "123/123 [==============================] - 2s 14ms/step - loss: 1.4911e-04\n",
      "Epoch 25/25\n",
      "123/123 [==============================] - 2s 14ms/step - loss: 1.6336e-04\n"
     ]
    }
   ],
   "source": [
    "train_mains = X_batch \n",
    "train_meter = Y_batch \n",
    "modelo_bm5 = bm5.fit(train_mains, train_meter, epochs=25)"
   ]
  },
  {
   "cell_type": "code",
   "execution_count": null,
   "metadata": {},
   "outputs": [],
   "source": []
  },
  {
   "cell_type": "markdown",
   "metadata": {},
   "source": [
    "### MODELO SEIS"
   ]
  },
  {
   "cell_type": "code",
   "execution_count": 123,
   "metadata": {},
   "outputs": [
    {
     "name": "stdout",
     "output_type": "stream",
     "text": [
      "Epoch 1/25\n",
      "123/123 [==============================] - 1s 8ms/step - loss: 4.0298e-04\n",
      "Epoch 2/25\n",
      "123/123 [==============================] - 1s 8ms/step - loss: 2.6583e-04\n",
      "Epoch 3/25\n",
      "123/123 [==============================] - 1s 8ms/step - loss: 2.4739e-04\n",
      "Epoch 4/25\n",
      "123/123 [==============================] - 1s 8ms/step - loss: 2.1876e-04\n",
      "Epoch 5/25\n",
      "123/123 [==============================] - 1s 8ms/step - loss: 2.0689e-04\n",
      "Epoch 6/25\n",
      "123/123 [==============================] - 1s 8ms/step - loss: 2.1360e-04\n",
      "Epoch 7/25\n",
      "123/123 [==============================] - 1s 8ms/step - loss: 1.9617e-04\n",
      "Epoch 8/25\n",
      "123/123 [==============================] - 1s 9ms/step - loss: 2.0393e-04\n",
      "Epoch 9/25\n",
      "123/123 [==============================] - 1s 8ms/step - loss: 1.8653e-04\n",
      "Epoch 10/25\n",
      "123/123 [==============================] - 1s 8ms/step - loss: 1.8159e-04\n",
      "Epoch 11/25\n",
      "123/123 [==============================] - 1s 8ms/step - loss: 1.8379e-04\n",
      "Epoch 12/25\n",
      "123/123 [==============================] - 1s 9ms/step - loss: 1.7613e-04\n",
      "Epoch 13/25\n",
      "123/123 [==============================] - 1s 9ms/step - loss: 1.7201e-04\n",
      "Epoch 14/25\n",
      "123/123 [==============================] - 1s 8ms/step - loss: 1.6774e-04\n",
      "Epoch 15/25\n",
      "123/123 [==============================] - 1s 9ms/step - loss: 1.4831e-04\n",
      "Epoch 16/25\n",
      "123/123 [==============================] - 1s 9ms/step - loss: 1.5790e-04\n",
      "Epoch 17/25\n",
      "123/123 [==============================] - 1s 9ms/step - loss: 1.4734e-04\n",
      "Epoch 18/25\n",
      "123/123 [==============================] - 1s 11ms/step - loss: 1.5837e-04\n",
      "Epoch 19/25\n",
      "123/123 [==============================] - 1s 10ms/step - loss: 1.5352e-04\n",
      "Epoch 20/25\n",
      "123/123 [==============================] - 1s 10ms/step - loss: 1.4147e-04\n",
      "Epoch 21/25\n",
      "123/123 [==============================] - 1s 10ms/step - loss: 1.5997e-04\n",
      "Epoch 22/25\n",
      "123/123 [==============================] - 1s 11ms/step - loss: 1.4914e-04\n",
      "Epoch 23/25\n",
      "123/123 [==============================] - 1s 11ms/step - loss: 1.4862e-04\n",
      "Epoch 24/25\n",
      "123/123 [==============================] - 1s 11ms/step - loss: 1.4769e-04\n",
      "Epoch 25/25\n",
      "123/123 [==============================] - 1s 11ms/step - loss: 1.6546e-04\n"
     ]
    }
   ],
   "source": [
    "train_mains = X_batch \n",
    "train_meter = Y_batch \n",
    "modelo_bm6 = bm6.fit(train_mains, train_meter, epochs=25)"
   ]
  },
  {
   "cell_type": "code",
   "execution_count": null,
   "metadata": {},
   "outputs": [],
   "source": []
  },
  {
   "cell_type": "markdown",
   "metadata": {},
   "source": [
    "### MODELO SIETE"
   ]
  },
  {
   "cell_type": "code",
   "execution_count": 131,
   "metadata": {},
   "outputs": [
    {
     "name": "stdout",
     "output_type": "stream",
     "text": [
      "Epoch 1/25\n",
      "123/123 [==============================] - 6s 47ms/step - loss: 3.4578e-04\n",
      "Epoch 2/25\n",
      "123/123 [==============================] - 6s 47ms/step - loss: 2.8580e-04\n",
      "Epoch 3/25\n",
      "123/123 [==============================] - 6s 47ms/step - loss: 2.3567e-04\n",
      "Epoch 4/25\n",
      "123/123 [==============================] - 6s 51ms/step - loss: 2.4282e-04\n",
      "Epoch 5/25\n",
      "123/123 [==============================] - 6s 48ms/step - loss: 2.4672e-04\n",
      "Epoch 6/25\n",
      "123/123 [==============================] - 6s 48ms/step - loss: 2.2791e-04\n",
      "Epoch 7/25\n",
      "123/123 [==============================] - 6s 46ms/step - loss: 2.2426e-04\n",
      "Epoch 8/25\n",
      "123/123 [==============================] - 6s 47ms/step - loss: 2.0452e-04\n",
      "Epoch 9/25\n",
      "123/123 [==============================] - 6s 47ms/step - loss: 2.1825e-04\n",
      "Epoch 10/25\n",
      "123/123 [==============================] - 6s 47ms/step - loss: 2.1864e-04\n",
      "Epoch 11/25\n",
      "123/123 [==============================] - 6s 46ms/step - loss: 2.0602e-04\n",
      "Epoch 12/25\n",
      "123/123 [==============================] - 6s 47ms/step - loss: 2.1701e-04\n",
      "Epoch 13/25\n",
      "123/123 [==============================] - 6s 50ms/step - loss: 2.1390e-04\n",
      "Epoch 14/25\n",
      "123/123 [==============================] - 6s 49ms/step - loss: 2.0384e-04\n",
      "Epoch 15/25\n",
      "123/123 [==============================] - 6s 47ms/step - loss: 2.0516e-04\n",
      "Epoch 16/25\n",
      "123/123 [==============================] - 6s 47ms/step - loss: 2.1469e-04\n",
      "Epoch 17/25\n",
      "123/123 [==============================] - 6s 47ms/step - loss: 2.0362e-04\n",
      "Epoch 18/25\n",
      "123/123 [==============================] - 6s 47ms/step - loss: 2.0440e-04\n",
      "Epoch 19/25\n",
      "123/123 [==============================] - 6s 47ms/step - loss: 2.0612e-04\n",
      "Epoch 20/25\n",
      "123/123 [==============================] - 6s 48ms/step - loss: 2.0863e-04\n",
      "Epoch 21/25\n",
      "123/123 [==============================] - 6s 47ms/step - loss: 1.9605e-04\n",
      "Epoch 22/25\n",
      "123/123 [==============================] - 6s 48ms/step - loss: 2.0445e-04\n",
      "Epoch 23/25\n",
      "123/123 [==============================] - 6s 47ms/step - loss: 1.7769e-04\n",
      "Epoch 24/25\n",
      "123/123 [==============================] - 6s 47ms/step - loss: 2.0037e-04\n",
      "Epoch 25/25\n",
      "123/123 [==============================] - 6s 48ms/step - loss: 1.9930e-04\n"
     ]
    }
   ],
   "source": [
    "train_mains = X_batch \n",
    "train_meter = Y_batch \n",
    "modelo_bm7 = bm7.fit(train_mains, train_meter, epochs=25)"
   ]
  },
  {
   "cell_type": "code",
   "execution_count": null,
   "metadata": {},
   "outputs": [],
   "source": []
  },
  {
   "cell_type": "markdown",
   "metadata": {},
   "source": [
    "### MODELO OCHO"
   ]
  },
  {
   "cell_type": "code",
   "execution_count": 156,
   "metadata": {},
   "outputs": [
    {
     "name": "stdout",
     "output_type": "stream",
     "text": [
      "Epoch 1/25\n",
      "123/123 [==============================] - 11s 82ms/step - loss: 4.0877e-04\n",
      "Epoch 2/25\n",
      "123/123 [==============================] - 10s 82ms/step - loss: 3.0074e-04\n",
      "Epoch 3/25\n",
      "123/123 [==============================] - 10s 84ms/step - loss: 3.1550e-04\n",
      "Epoch 4/25\n",
      "123/123 [==============================] - 10s 80ms/step - loss: 3.3674e-04\n",
      "Epoch 5/25\n",
      "123/123 [==============================] - 10s 81ms/step - loss: 2.5977e-04\n",
      "Epoch 6/25\n",
      "123/123 [==============================] - 10s 81ms/step - loss: 2.5982e-04\n",
      "Epoch 7/25\n",
      "123/123 [==============================] - 10s 81ms/step - loss: 2.4672e-04\n",
      "Epoch 8/25\n",
      "123/123 [==============================] - 10s 81ms/step - loss: 2.3699e-04\n",
      "Epoch 9/25\n",
      "123/123 [==============================] - 10s 81ms/step - loss: 2.5790e-04\n",
      "Epoch 10/25\n",
      "123/123 [==============================] - 10s 81ms/step - loss: 2.6837e-04\n",
      "Epoch 11/25\n",
      "123/123 [==============================] - 10s 80ms/step - loss: 2.1955e-04\n",
      "Epoch 12/25\n",
      "123/123 [==============================] - 10s 83ms/step - loss: 2.2639e-04\n",
      "Epoch 13/25\n",
      "123/123 [==============================] - 10s 82ms/step - loss: 2.2315e-04\n",
      "Epoch 14/25\n",
      "123/123 [==============================] - 10s 82ms/step - loss: 2.4175e-04\n",
      "Epoch 15/25\n",
      "123/123 [==============================] - 10s 81ms/step - loss: 2.3309e-04\n",
      "Epoch 16/25\n",
      "123/123 [==============================] - 10s 81ms/step - loss: 2.3826e-04\n",
      "Epoch 17/25\n",
      "123/123 [==============================] - 10s 80ms/step - loss: 2.2712e-04\n",
      "Epoch 18/25\n",
      "123/123 [==============================] - 10s 81ms/step - loss: 2.3836e-04\n",
      "Epoch 19/25\n",
      "123/123 [==============================] - 10s 80ms/step - loss: 2.0964e-04\n",
      "Epoch 20/25\n",
      "123/123 [==============================] - 10s 80ms/step - loss: 2.3295e-04\n",
      "Epoch 21/25\n",
      "123/123 [==============================] - 10s 80ms/step - loss: 2.0413e-04\n",
      "Epoch 22/25\n",
      "123/123 [==============================] - 10s 80ms/step - loss: 2.1707e-04\n",
      "Epoch 23/25\n",
      "123/123 [==============================] - 10s 80ms/step - loss: 2.2719e-04\n",
      "Epoch 24/25\n",
      "123/123 [==============================] - 10s 81ms/step - loss: 2.2347e-04\n",
      "Epoch 25/25\n",
      "123/123 [==============================] - 10s 81ms/step - loss: 2.3084e-04 1s - l\n"
     ]
    }
   ],
   "source": [
    "train_mains = X_batch \n",
    "train_meter = Y_batch \n",
    "modelo_bm8 = bm8.fit(train_mains, train_meter, epochs=25)"
   ]
  },
  {
   "cell_type": "code",
   "execution_count": null,
   "metadata": {},
   "outputs": [],
   "source": []
  },
  {
   "cell_type": "markdown",
   "metadata": {},
   "source": [
    "# Datos de Test"
   ]
  },
  {
   "cell_type": "code",
   "execution_count": 37,
   "metadata": {},
   "outputs": [
    {
     "name": "stdout",
     "output_type": "stream",
     "text": [
      "test_main      (2131023,)\n",
      "test_fridge_1  (2130995,)\n"
     ]
    }
   ],
   "source": [
    "test_main = main_1.loc['2011-4-30':,1]\n",
    "test_fridge_1 = fridge_1.loc['2011-4-30':,1]\n",
    "print(f\"test_main      {test_main.shape}\")\n",
    "print(f\"test_fridge_1  {test_fridge_1.shape}\")"
   ]
  },
  {
   "cell_type": "code",
   "execution_count": 38,
   "metadata": {},
   "outputs": [],
   "source": [
    "#Selecciona el medidor central del edificio\n",
    "test_mains = test_main\n",
    "test_meter = test_fridge_1"
   ]
  },
  {
   "cell_type": "markdown",
   "metadata": {},
   "source": [
    "Datos de test deben ser evaluados en los instantes de tiempo donde el medidor central funciono de manera idonea. Esto con el fin de evaluar los datos en instantes de buen registro de datos."
   ]
  },
  {
   "cell_type": "code",
   "execution_count": 39,
   "metadata": {},
   "outputs": [
    {
     "data": {
      "text/plain": [
       "[TimeFrame(start='2011-04-30 00:00:00-04:00', end='2011-05-01 09:44:42-04:00', empty=False),\n",
       " TimeFrame(start='2011-05-01 09:47:18-04:00', end='2011-05-02 17:04:59-04:00', empty=False),\n",
       " TimeFrame(start='2011-05-02 17:07:27-04:00', end='2011-05-03 17:30:17-04:00', empty=False),\n",
       " TimeFrame(start='2011-05-03 17:32:49-04:00', end='2011-05-03 17:33:44-04:00', empty=False),\n",
       " TimeFrame(start='2011-05-06 10:51:46-04:00', end='2011-05-07 01:53:10-04:00', empty=False),\n",
       " TimeFrame(start='2011-05-07 01:53:55-04:00', end='2011-05-07 02:38:15-04:00', empty=False),\n",
       " TimeFrame(start='2011-05-07 02:40:43-04:00', end='2011-05-07 11:59:16-04:00', empty=False),\n",
       " TimeFrame(start='2011-05-11 03:19:43-04:00', end='2011-05-12 17:48:38-04:00', empty=False),\n",
       " TimeFrame(start='2011-05-12 20:14:30-04:00', end='2011-05-13 05:16:24-04:00', empty=False),\n",
       " TimeFrame(start='2011-05-22 16:04:46-04:00', end='2011-05-22 23:39:01-04:00', empty=False),\n",
       " TimeFrame(start='2011-05-22 23:41:35-04:00', end='2011-05-23 09:22:08-04:00', empty=False),\n",
       " TimeFrame(start='2011-05-23 10:31:34-04:00', end='2011-05-24 14:32:05-04:00', empty=False),\n",
       " TimeFrame(start='2011-05-24 15:55:33-04:00', end='2011-05-24 15:57:02-04:00', empty=False)]"
      ]
     },
     "execution_count": 39,
     "metadata": {},
     "output_type": "execute_result"
    }
   ],
   "source": [
    "#<<<<<<<<<<<<<<<<<<<<<<<<<<<<<<<<<<<<<<<<<<<<<<<<<<<<<<<<<<<<<<<<<<<<<<<<<<<<<<<<<<<<<<<<<\n",
    "\n",
    "# Carga los datos completos\n",
    "test = DataSet('C:\\\\Users\\\\josel\\\\SmartMeter\\\\OrdenandoTodo\\\\redd.h5')\n",
    "# Define el tamaño de la muestra de test iniciando justo donde termina el train\n",
    "test.set_window(start=\"30-4-2011\") \n",
    "# Selecciona los electrodomesticos del primer edificio\n",
    "test_elec = test.buildings[1].elec\n",
    "# Selecciona el medidor central del edificio\n",
    "test_mains_1 = test_elec.mains().all_meters()[0]\n",
    "test_meter_1 = test_elec.submeters()['fridge']\n",
    "good_sections = test_mains_1.good_sections()\n",
    "good_sections\n",
    "\n",
    "#>>>>>>>>>>>>>>>>>>>>>>>>>>>>>>>>>>>>>>>>>>>>>>>>>>>>>>>>>>>>>>>>>>>>>>>>>>>>>>>>>>>>>>>>>"
   ]
  },
  {
   "cell_type": "code",
   "execution_count": 40,
   "metadata": {},
   "outputs": [],
   "source": [
    "#18. Define un array para timeframes vacio en este almacenare\n",
    "# los tiempos donde el medidor estaba en buen funcionamiento\n",
    "timeframes = []"
   ]
  },
  {
   "cell_type": "code",
   "execution_count": 41,
   "metadata": {},
   "outputs": [],
   "source": [
    "def data_predict(mains, modelo):\n",
    "    #Cantidad de pasos en la ventana\n",
    "    s = sequence_length\n",
    "    # Tamaño de la sección de la serie que se cargada\n",
    "    # según los instantes de buen funcionamiento del medidor\n",
    "    up_limit = len(mains)\n",
    "    # Rellenar los valores Nan con ceros\n",
    "    mains.fillna(0, inplace=True)\n",
    "    # Calcular la cantidad de ceros que deben llenarse \n",
    "    # para crear un batch que permita que los datos al \n",
    "    # dividirse mantengan el tamaño para todos los datos\n",
    "    additional = s - (up_limit % s)\n",
    "    # Crear series de datos con los batch de ceros al final\n",
    "    X_batch = np.append(mains, np.zeros(additional))\n",
    "    #Cambiar el formato de los datos como: numero de muestras\n",
    "    # ventanas de tiempo = 256, y una caracteristica\n",
    "    X_batch = np.reshape(X_batch, (int(len(X_batch) / s), s ,1))\n",
    "    #Calcular la prediccion para el modelo\n",
    "    #<<<<<<<<<<<<<<<<<<<<<<<<<<<<<<<<<<<<<\n",
    "    pred = modelo.predict(X_batch)\n",
    "    #>>>>>>>>>>>>>>>>>>>>>>>>>>>>>>>>>>>>>\n",
    "    # Ahora une todas las salidas en ventanas a una serie completa, de los cuales solo toma\n",
    "    # los datos hasta donde la serie original tenia datos. Los datos restantes\n",
    "    # son los tomados por el batch de ceros, por lo tanto, se eliminan de la predicción\n",
    "    pred = np.reshape(pred, (up_limit + additional))[:up_limit]\n",
    "    # Crea una serie de pandas, con los datos de pred, usa como indice los mismos indices de \n",
    "    # tiempo que tenia la serie original y como nombre la llama 0 este es un metadato\n",
    "    column = pd.Series(pred, index=mains.index, name=0)\n",
    "\n",
    "    # Crea un diccionario vacio con el creara un dataframe posteriormente\n",
    "    # donde la clave key = 0 tendra como valor value la columna de datos predichos\n",
    "    appliance_powers_dict = {}\n",
    "    appliance_powers_dict[0] = column\n",
    "    # Transforma el diccionario a un dataframe de pandas de esta manera \n",
    "    # agrega la dimension de las columnas = 1. Tal que (muestras, 1)\n",
    "    appliance_powers = pd.DataFrame(appliance_powers_dict)\n",
    "    # Y es este dataframe el que retorna\n",
    "    return appliance_powers"
   ]
  },
  {
   "cell_type": "code",
   "execution_count": 42,
   "metadata": {},
   "outputs": [],
   "source": [
    "# Recorre cada sección de datos\n",
    "# hace los cortes para cada sección en los datos de test\n",
    "# Hace la predicción para dicha sección \n",
    "# Retorna los datos y los concatenta\n",
    "# Guarda todas las medidas resultantes en un archivo hdf5 output_datastore\n",
    "def process_test(good_sections, test_mains, test_appliance, model, output_datastore, sequence_length = 256):\n",
    "    #23. Defino una lista que contendra los instantes de buen funcionamiento \n",
    "    # que cumplan con el tamaño de muestra\n",
    "    timeframes = []\n",
    "    for good_section in good_sections:\n",
    "        # Recortar las secciones\n",
    "        #print(i.start)\n",
    "        #print(i.end)\n",
    "        chunk = test_mains.loc[good_section.start:good_section.end]\n",
    "        chunk_test = test_appliance.loc[good_section.start:good_section.end]\n",
    "        #print(f\"chunk {chunk.shape}\")\n",
    "        #print(f\"chunk_test {chunk_test.shape}\")\n",
    "\n",
    "        # Si el tamaño de la serie cargada es menor al de las ventanas se descarta\n",
    "        if len(chunk) < sequence_length:\n",
    "            continue\n",
    "        #26. Imprime el tamaño de los tramos de series cargados\n",
    "        print(\"New sensible chunk: {} size of data\".format(len(chunk)))\n",
    "\n",
    "        # Se guarda cada tramo de tiempo seleccionado\n",
    "        timeframes.append(chunk.index)\n",
    "        # Serie normalizada para test\n",
    "        chunk2 = _normalize(chunk, mmax)\n",
    "        # llamar funcion, pasar chunk2 \n",
    "        appliance_power = data_predict(chunk2, model)\n",
    "\n",
    "        # Todo valor negativo calculado lo iguala a cero\n",
    "        appliance_power[appliance_power < 0] = 0\n",
    "\n",
    "        # Calcula el valor real mediante la desnormalización de los datos\n",
    "        appliance_power = _denormalize(appliance_power, mmax)\n",
    "\n",
    "        cols = ['power']\n",
    "        # Test                  \n",
    "        df1 = pd.DataFrame(\n",
    "            chunk_test.values, index=chunk_test.index,\n",
    "            columns=cols, dtype=\"float32\")\n",
    "        # Predict\n",
    "        df2 = pd.DataFrame(\n",
    "            appliance_power.values, index=appliance_power.index,\n",
    "            columns=cols, dtype=\"float32\")\n",
    "\n",
    "        key1 = 'fridge_test'\n",
    "        output_datastore.append(key1, df1)\n",
    "        key2 = 'fridge_predict'\n",
    "        output_datastore.append(key2, df2)"
   ]
  },
  {
   "cell_type": "markdown",
   "metadata": {},
   "source": [
    "### MODELO 0 DAE"
   ]
  },
  {
   "cell_type": "code",
   "execution_count": 43,
   "metadata": {},
   "outputs": [],
   "source": [
    "output_datastore = pd.HDFStore(\"borrar_0\", \"w\")\n",
    "#output_datastore.close()"
   ]
  },
  {
   "cell_type": "code",
   "execution_count": 44,
   "metadata": {},
   "outputs": [
    {
     "name": "stdout",
     "output_type": "stream",
     "text": [
      "New sensible chunk: 121483 size of data\n",
      "New sensible chunk: 112662 size of data\n",
      "New sensible chunk: 87771 size of data\n",
      "New sensible chunk: 54085 size of data\n",
      "New sensible chunk: 2661 size of data\n",
      "New sensible chunk: 33514 size of data\n",
      "New sensible chunk: 138536 size of data\n",
      "New sensible chunk: 32515 size of data\n",
      "New sensible chunk: 27256 size of data\n",
      "New sensible chunk: 34834 size of data\n",
      "New sensible chunk: 100832 size of data\n"
     ]
    }
   ],
   "source": [
    "test_appliance = test_fridge_1\n",
    "process_test(good_sections, test_mains, test_appliance, dae, output_datastore, sequence_length = 256)"
   ]
  },
  {
   "cell_type": "code",
   "execution_count": 45,
   "metadata": {},
   "outputs": [
    {
     "data": {
      "text/plain": [
       "['/fridge_predict', '/fridge_test']"
      ]
     },
     "execution_count": 45,
     "metadata": {},
     "output_type": "execute_result"
    }
   ],
   "source": [
    "output_datastore.keys()"
   ]
  },
  {
   "cell_type": "code",
   "execution_count": 45,
   "metadata": {},
   "outputs": [
    {
     "name": "stderr",
     "output_type": "stream",
     "text": [
      "C:\\Users\\josel\\Anaconda3\\envs\\nilmtk-env\\lib\\site-packages\\pandas\\plotting\\_matplotlib\\converter.py:103: FutureWarning: Using an implicitly registered datetime converter for a matplotlib plotting method. The converter was registered by pandas on import. Future versions of pandas will require you to explicitly register matplotlib converters.\n",
      "\n",
      "To register the converters:\n",
      "\t>>> from pandas.plotting import register_matplotlib_converters\n",
      "\t>>> register_matplotlib_converters()\n",
      "  warnings.warn(msg, FutureWarning)\n"
     ]
    },
    {
     "data": {
      "text/plain": [
       "<matplotlib.legend.Legend at 0x1e60ddd3cf8>"
      ]
     },
     "execution_count": 45,
     "metadata": {},
     "output_type": "execute_result"
    },
    {
     "data": {
      "image/png": "[encoded data removed]",
      "text/plain": [
       "<Figure size 432x288 with 1 Axes>"
      ]
     },
     "metadata": {
      "needs_background": "light"
     },
     "output_type": "display_data"
    }
   ],
   "source": [
    "plt.plot(output_datastore.get('/fridge_predict').iloc[:15000,:], color = 'red', label = 'predict')\n",
    "plt.legend()\n",
    "plt.plot(output_datastore.get('/fridge_test').iloc[:15000,:], color = 'blue', label = 'test')\n",
    "plt.legend()"
   ]
  },
  {
   "cell_type": "markdown",
   "metadata": {},
   "source": [
    "**Correlación**"
   ]
  },
  {
   "cell_type": "code",
   "execution_count": 200,
   "metadata": {},
   "outputs": [
    {
     "name": "stdout",
     "output_type": "stream",
     "text": [
      "(746149, 1)\n",
      "746149\n"
     ]
    },
    {
     "data": {
      "text/plain": [
       "array([[1.        , 0.83290021],\n",
       "       [0.83290021, 1.        ]])"
      ]
     },
     "execution_count": 200,
     "metadata": {},
     "output_type": "execute_result"
    }
   ],
   "source": [
    "#Calculo de correlación cruzada\n",
    "predict0 = output_datastore.get('/fridge_predict')\n",
    "test0 = output_datastore.get('/fridge_test')\n",
    "print(predict0.shape)\n",
    "t0 = np.ravel(test0)\n",
    "p0 = np.ravel(predict0)\n",
    "print(len(t0))\n",
    "np.corrcoef(t0,p0)"
   ]
  },
  {
   "cell_type": "code",
   "execution_count": 202,
   "metadata": {},
   "outputs": [
    {
     "name": "stdout",
     "output_type": "stream",
     "text": [
      "Correlación 0.8329002100271482\n"
     ]
    }
   ],
   "source": [
    "print(f\"Correlación {np.corrcoef(t0,p0)[0,1]}\")"
   ]
  },
  {
   "cell_type": "markdown",
   "metadata": {},
   "source": [
    "**Consumos total y promedio**"
   ]
  },
  {
   "cell_type": "code",
   "execution_count": 204,
   "metadata": {},
   "outputs": [
    {
     "name": "stdout",
     "output_type": "stream",
     "text": [
      "Consumo test >>> TOTAL = 41746110.0               Promedio = 55.94875822389362\n",
      "Consumo pred >>> TOTAL = 35364748.77065284        Promedio = 47.39636288549986\n",
      "Diferencias total:    6381361.229347162\n",
      "Diferencias promedio: 8.552395338393758\n"
     ]
    }
   ],
   "source": [
    "total_consumo_test0 = sum(t0)\n",
    "promedio_test0 = total_consumo_test0 / len(t0)\n",
    "\n",
    "total_consumo_pred0 = sum(p0)\n",
    "promedio_pred0 = total_consumo_pred0 / len(p0)\n",
    "\n",
    "print(f\"Consumo test >>> TOTAL = {total_consumo_test0}               Promedio = {promedio_test0}\")\n",
    "print(f\"Consumo pred >>> TOTAL = {total_consumo_pred0}        Promedio = {promedio_pred0}\")\n",
    "\n",
    "diferencia_total0 = total_consumo_test0 - total_consumo_pred0\n",
    "print(f\"Diferencias total:    {diferencia_total0}\")\n",
    "\n",
    "diferencia_promedio0 = promedio_test0 - promedio_pred0\n",
    "print(f\"Diferencias promedio: {diferencia_promedio0}\")"
   ]
  },
  {
   "cell_type": "code",
   "execution_count": null,
   "metadata": {},
   "outputs": [],
   "source": []
  },
  {
   "cell_type": "markdown",
   "metadata": {},
   "source": [
    "### Modelo UNO resultados"
   ]
  },
  {
   "cell_type": "code",
   "execution_count": 56,
   "metadata": {},
   "outputs": [],
   "source": [
    "output_datastore_1 = pd.HDFStore(\"borrar_m1\", \"w\")\n",
    "#output_datastore.close()"
   ]
  },
  {
   "cell_type": "code",
   "execution_count": 57,
   "metadata": {},
   "outputs": [
    {
     "name": "stdout",
     "output_type": "stream",
     "text": [
      "New sensible chunk: 121483 size of data\n",
      "New sensible chunk: 112662 size of data\n",
      "New sensible chunk: 87771 size of data\n",
      "New sensible chunk: 54085 size of data\n",
      "New sensible chunk: 2661 size of data\n",
      "New sensible chunk: 33514 size of data\n",
      "New sensible chunk: 138536 size of data\n",
      "New sensible chunk: 32515 size of data\n",
      "New sensible chunk: 27256 size of data\n",
      "New sensible chunk: 34834 size of data\n",
      "New sensible chunk: 100832 size of data\n"
     ]
    }
   ],
   "source": [
    "test_appliance = test_fridge_1\n",
    "process_test(good_sections, test_mains, test_appliance, bm1, output_datastore_1, sequence_length = 256)"
   ]
  },
  {
   "cell_type": "code",
   "execution_count": 58,
   "metadata": {},
   "outputs": [
    {
     "name": "stderr",
     "output_type": "stream",
     "text": [
      "C:\\Users\\josel\\Anaconda3\\envs\\nilmtk-env\\lib\\site-packages\\pandas\\plotting\\_matplotlib\\converter.py:103: FutureWarning: Using an implicitly registered datetime converter for a matplotlib plotting method. The converter was registered by pandas on import. Future versions of pandas will require you to explicitly register matplotlib converters.\n",
      "\n",
      "To register the converters:\n",
      "\t>>> from pandas.plotting import register_matplotlib_converters\n",
      "\t>>> register_matplotlib_converters()\n",
      "  warnings.warn(msg, FutureWarning)\n"
     ]
    },
    {
     "data": {
      "text/plain": [
       "<matplotlib.legend.Legend at 0x15e11bc26d8>"
      ]
     },
     "execution_count": 58,
     "metadata": {},
     "output_type": "execute_result"
    },
    {
     "data": {
      "image/png": "[encoded data removed]",
      "text/plain": [
       "<Figure size 432x288 with 1 Axes>"
      ]
     },
     "metadata": {
      "needs_background": "light"
     },
     "output_type": "display_data"
    }
   ],
   "source": [
    "plt.plot(output_datastore_1.get('/fridge_predict').iloc[:15000,:], color = 'red', label = 'predict')\n",
    "plt.legend()\n",
    "plt.plot(output_datastore_1.get('/fridge_test').iloc[:15000,:], color = 'blue', label = 'test')\n",
    "plt.legend()"
   ]
  },
  {
   "cell_type": "markdown",
   "metadata": {},
   "source": [
    "**CORRELACIÓN CRUZADA**"
   ]
  },
  {
   "cell_type": "code",
   "execution_count": 205,
   "metadata": {},
   "outputs": [
    {
     "name": "stdout",
     "output_type": "stream",
     "text": [
      "(746149, 1)\n",
      "746149\n",
      "Correlación [[1.         0.83290021]\n",
      " [0.83290021 1.        ]]\n"
     ]
    }
   ],
   "source": [
    "#Calculo de correlación cruzada\n",
    "predict1 = output_datastore_1.get('/fridge_predict')\n",
    "test1  = output_datastore_1.get('/fridge_test')\n",
    "print(predict1.shape)\n",
    "t1 = np.ravel(test0)\n",
    "p1 = np.ravel(predict0)\n",
    "print(len(t1))\n",
    "np.corrcoef(t1,p1)\n",
    "print(f\"Correlación {np.corrcoef(t1,p1)}\")"
   ]
  },
  {
   "cell_type": "markdown",
   "metadata": {},
   "source": [
    "**Potencia promedio de consumo**"
   ]
  },
  {
   "cell_type": "code",
   "execution_count": 206,
   "metadata": {},
   "outputs": [
    {
     "name": "stdout",
     "output_type": "stream",
     "text": [
      "Consumo test >>> TOTAL = 41746110.0               Promedio = 55.94875822389362\n",
      "Consumo pred >>> TOTAL = 35364748.77065284        Promedio = 47.39636288549986\n",
      "Diferencias total:    6381361.229347162\n",
      "Diferencias promedio: 8.552395338393758\n"
     ]
    }
   ],
   "source": [
    "total_consumo_test1 = sum(t1)\n",
    "promedio_test1 = total_consumo_test1 / len(t1)\n",
    "\n",
    "total_consumo_pred1 = sum(p1)\n",
    "promedio_pred1 = total_consumo_pred1 / len(p1)\n",
    "\n",
    "print(f\"Consumo test >>> TOTAL = {total_consumo_test1}               Promedio = {promedio_test1}\")\n",
    "print(f\"Consumo pred >>> TOTAL = {total_consumo_pred1}        Promedio = {promedio_pred1}\")\n",
    "\n",
    "diferencia_total1 = total_consumo_test1 - total_consumo_pred1\n",
    "print(f\"Diferencias total:    {diferencia_total1}\")\n",
    "\n",
    "diferencia_promedio1 = promedio_test1 - promedio_pred1\n",
    "print(f\"Diferencias promedio: {diferencia_promedio1}\")"
   ]
  },
  {
   "cell_type": "markdown",
   "metadata": {},
   "source": [
    "###  Modelo DOS resultados"
   ]
  },
  {
   "cell_type": "code",
   "execution_count": 77,
   "metadata": {},
   "outputs": [],
   "source": [
    "output_datastore_2 = pd.HDFStore(\"borrar_m2\", \"w\")\n",
    "#output_datastore.close()"
   ]
  },
  {
   "cell_type": "code",
   "execution_count": 78,
   "metadata": {},
   "outputs": [
    {
     "name": "stdout",
     "output_type": "stream",
     "text": [
      "New sensible chunk: 121483 size of data\n",
      "New sensible chunk: 112662 size of data\n",
      "New sensible chunk: 87771 size of data\n",
      "New sensible chunk: 54085 size of data\n",
      "New sensible chunk: 2661 size of data\n",
      "New sensible chunk: 33514 size of data\n",
      "New sensible chunk: 138536 size of data\n",
      "New sensible chunk: 32515 size of data\n",
      "New sensible chunk: 27256 size of data\n",
      "New sensible chunk: 34834 size of data\n",
      "New sensible chunk: 100832 size of data\n"
     ]
    }
   ],
   "source": [
    "test_appliance = test_fridge_1\n",
    "process_test(good_sections, test_mains, test_appliance, bm2, output_datastore_2, sequence_length = 256)"
   ]
  },
  {
   "cell_type": "code",
   "execution_count": 79,
   "metadata": {},
   "outputs": [
    {
     "data": {
      "text/plain": [
       "<matplotlib.legend.Legend at 0x15e139202e8>"
      ]
     },
     "execution_count": 79,
     "metadata": {},
     "output_type": "execute_result"
    },
    {
     "data": {
      "image/png": "[encoded data removed]",
      "text/plain": [
       "<Figure size 432x288 with 1 Axes>"
      ]
     },
     "metadata": {
      "needs_background": "light"
     },
     "output_type": "display_data"
    }
   ],
   "source": [
    "plt.plot(output_datastore_2.get('/fridge_predict').iloc[:15000,:], color = 'red', label = 'predict')\n",
    "plt.legend()\n",
    "plt.plot(output_datastore_2.get('/fridge_test').iloc[:15000,:], color = 'blue', label = 'test')\n",
    "plt.legend()"
   ]
  },
  {
   "cell_type": "markdown",
   "metadata": {},
   "source": [
    "**CORRELACIÓN CRUZADA**"
   ]
  },
  {
   "cell_type": "code",
   "execution_count": 208,
   "metadata": {},
   "outputs": [
    {
     "name": "stdout",
     "output_type": "stream",
     "text": [
      "(746149, 1)\n",
      "746149\n"
     ]
    },
    {
     "data": {
      "text/plain": [
       "array([[1.        , 0.87669782],\n",
       "       [0.87669782, 1.        ]])"
      ]
     },
     "execution_count": 208,
     "metadata": {},
     "output_type": "execute_result"
    }
   ],
   "source": [
    "#Calculo de correlación cruzada\n",
    "predict2 = output_datastore_2.get('/fridge_predict')\n",
    "test2  = output_datastore_2.get('/fridge_test')\n",
    "print(predict2.shape)\n",
    "t2 = np.ravel(test2)\n",
    "p2 = np.ravel(predict2)\n",
    "print(len(t2))\n",
    "np.corrcoef(t2,p2)\n"
   ]
  },
  {
   "cell_type": "code",
   "execution_count": 99,
   "metadata": {},
   "outputs": [
    {
     "name": "stdout",
     "output_type": "stream",
     "text": [
      "Correlación 0.8766978154568823\n"
     ]
    }
   ],
   "source": [
    "print(f\"Correlación {np.corrcoef(t2,p2)[1,0]}\")"
   ]
  },
  {
   "cell_type": "markdown",
   "metadata": {},
   "source": [
    "**Potencia promedio de consumo**"
   ]
  },
  {
   "cell_type": "code",
   "execution_count": 209,
   "metadata": {},
   "outputs": [
    {
     "name": "stdout",
     "output_type": "stream",
     "text": [
      "Consumo test >>> TOTAL = 41746110.0               Promedio = 55.94875822389362\n",
      "Consumo pred >>> TOTAL = 47464447.0019809        Promedio = 63.61255862030359\n",
      "Diferencias total:    -5718337.001980901\n",
      "Diferencias promedio: -7.663800396409968\n"
     ]
    }
   ],
   "source": [
    "total_consumo_test2 = sum(t2)\n",
    "promedio_test2 = total_consumo_test2 / len(t2)\n",
    "\n",
    "total_consumo_pred2 = sum(p2)\n",
    "promedio_pred2 = total_consumo_pred2 / len(p2)\n",
    "\n",
    "print(f\"Consumo test >>> TOTAL = {total_consumo_test2}               Promedio = {promedio_test2}\")\n",
    "print(f\"Consumo pred >>> TOTAL = {total_consumo_pred2}        Promedio = {promedio_pred2}\")\n",
    "\n",
    "diferencia_total2 = total_consumo_test2 - total_consumo_pred2\n",
    "print(f\"Diferencias total:    {diferencia_total2}\")\n",
    "\n",
    "diferencia_promedio2 = promedio_test2 - promedio_pred2\n",
    "print(f\"Diferencias promedio: {diferencia_promedio2}\")"
   ]
  },
  {
   "cell_type": "markdown",
   "metadata": {},
   "source": [
    "### Modelo TRES resultados"
   ]
  },
  {
   "cell_type": "code",
   "execution_count": 85,
   "metadata": {},
   "outputs": [],
   "source": [
    "output_datastore_3 = pd.HDFStore(\"borrar_m3\", \"w\")\n",
    "#output_datastore.close()"
   ]
  },
  {
   "cell_type": "code",
   "execution_count": 86,
   "metadata": {},
   "outputs": [
    {
     "name": "stdout",
     "output_type": "stream",
     "text": [
      "New sensible chunk: 121483 size of data\n",
      "New sensible chunk: 112662 size of data\n",
      "New sensible chunk: 87771 size of data\n",
      "New sensible chunk: 54085 size of data\n",
      "New sensible chunk: 2661 size of data\n",
      "New sensible chunk: 33514 size of data\n",
      "New sensible chunk: 138536 size of data\n",
      "New sensible chunk: 32515 size of data\n",
      "New sensible chunk: 27256 size of data\n",
      "New sensible chunk: 34834 size of data\n",
      "New sensible chunk: 100832 size of data\n"
     ]
    }
   ],
   "source": [
    "test_appliance = test_fridge_1\n",
    "process_test(good_sections, test_mains, test_appliance, bm3, output_datastore_3, sequence_length = 256)"
   ]
  },
  {
   "cell_type": "code",
   "execution_count": 87,
   "metadata": {},
   "outputs": [
    {
     "data": {
      "text/plain": [
       "<matplotlib.legend.Legend at 0x15e1537b0f0>"
      ]
     },
     "execution_count": 87,
     "metadata": {},
     "output_type": "execute_result"
    },
    {
     "data": {
      "image/png": "[encoded data removed]",
      "text/plain": [
       "<Figure size 432x288 with 1 Axes>"
      ]
     },
     "metadata": {
      "needs_background": "light"
     },
     "output_type": "display_data"
    }
   ],
   "source": [
    "plt.plot(output_datastore_3.get('/fridge_predict').iloc[:15000,:], color = 'red', label = 'predict')\n",
    "plt.legend()\n",
    "plt.plot(output_datastore_3.get('/fridge_test').iloc[:15000,:], color = 'blue', label = 'test')\n",
    "plt.legend()"
   ]
  },
  {
   "cell_type": "markdown",
   "metadata": {},
   "source": [
    "**CORRELACIÓN CRUZADA**"
   ]
  },
  {
   "cell_type": "code",
   "execution_count": 214,
   "metadata": {},
   "outputs": [
    {
     "name": "stdout",
     "output_type": "stream",
     "text": [
      "(746149, 1)\n",
      "746149\n"
     ]
    },
    {
     "data": {
      "text/plain": [
       "array([[1.        , 0.85957337],\n",
       "       [0.85957337, 1.        ]])"
      ]
     },
     "execution_count": 214,
     "metadata": {},
     "output_type": "execute_result"
    }
   ],
   "source": [
    "#Calculo de correlación cruzada\n",
    "predict3 = output_datastore_3.get('/fridge_predict')\n",
    "test3 = output_datastore_3.get('/fridge_test')\n",
    "print(predict3.shape)\n",
    "t3 = np.ravel(test3)\n",
    "p3 = np.ravel(predict3)\n",
    "print(len(t3))\n",
    "np.corrcoef(t3,p3)\n"
   ]
  },
  {
   "cell_type": "code",
   "execution_count": 215,
   "metadata": {},
   "outputs": [
    {
     "name": "stdout",
     "output_type": "stream",
     "text": [
      "Correlación 0.8595733679881972\n"
     ]
    }
   ],
   "source": [
    "print(f\"Correlación {np.corrcoef(t3,p3)[1,0]}\")"
   ]
  },
  {
   "cell_type": "markdown",
   "metadata": {},
   "source": [
    "**Potencia promedio de consumo**"
   ]
  },
  {
   "cell_type": "code",
   "execution_count": 219,
   "metadata": {},
   "outputs": [
    {
     "name": "stdout",
     "output_type": "stream",
     "text": [
      "Consumo test >>> TOTAL = 41746110.0                Promedio = 55.94875822389362\n",
      "Consumo pred >>> TOTAL = 39287004.75410256         Promedio = 52.65302875712835\n",
      "Diferencias total:    2459105.245897442\n",
      "Diferencias promedio: 3.2957294667652732\n"
     ]
    }
   ],
   "source": [
    "total_consumo_test3 = sum(t3)\n",
    "promedio_test3 = total_consumo_test3 / len(t3)\n",
    "\n",
    "total_consumo_pred3 = sum(p3)\n",
    "promedio_pred3 = total_consumo_pred3 / len(p3)\n",
    "\n",
    "print(f\"Consumo test >>> TOTAL = {total_consumo_test3}                Promedio = {promedio_test3}\")\n",
    "print(f\"Consumo pred >>> TOTAL = {total_consumo_pred3}         Promedio = {promedio_pred3}\")\n",
    "\n",
    "diferencia_total3 = total_consumo_test3 - total_consumo_pred3\n",
    "print(f\"Diferencias total:    {diferencia_total3}\")\n",
    "\n",
    "diferencia_promedio3 = promedio_test3 - promedio_pred3\n",
    "print(f\"Diferencias promedio: {diferencia_promedio3}\")"
   ]
  },
  {
   "cell_type": "markdown",
   "metadata": {},
   "source": [
    "### Modelo CUATRO resultados"
   ]
  },
  {
   "cell_type": "code",
   "execution_count": 109,
   "metadata": {},
   "outputs": [],
   "source": [
    "output_datastore_4 = pd.HDFStore(\"borrar_m4\", \"w\")\n",
    "#output_datastore_4.close()"
   ]
  },
  {
   "cell_type": "code",
   "execution_count": 110,
   "metadata": {},
   "outputs": [
    {
     "name": "stdout",
     "output_type": "stream",
     "text": [
      "New sensible chunk: 121483 size of data\n",
      "New sensible chunk: 112662 size of data\n",
      "New sensible chunk: 87771 size of data\n",
      "New sensible chunk: 54085 size of data\n",
      "New sensible chunk: 2661 size of data\n",
      "New sensible chunk: 33514 size of data\n",
      "New sensible chunk: 138536 size of data\n",
      "New sensible chunk: 32515 size of data\n",
      "New sensible chunk: 27256 size of data\n",
      "New sensible chunk: 34834 size of data\n",
      "New sensible chunk: 100832 size of data\n"
     ]
    }
   ],
   "source": [
    "test_appliance = test_fridge_1\n",
    "process_test(good_sections, test_mains, test_appliance, bm4, output_datastore_4, sequence_length = 256)"
   ]
  },
  {
   "cell_type": "code",
   "execution_count": 111,
   "metadata": {},
   "outputs": [
    {
     "data": {
      "text/plain": [
       "<matplotlib.legend.Legend at 0x15e3ae421d0>"
      ]
     },
     "execution_count": 111,
     "metadata": {},
     "output_type": "execute_result"
    },
    {
     "data": {
      "image/png": "[encoded data removed]",
      "text/plain": [
       "<Figure size 432x288 with 1 Axes>"
      ]
     },
     "metadata": {
      "needs_background": "light"
     },
     "output_type": "display_data"
    }
   ],
   "source": [
    "plt.plot(output_datastore_4.get('/fridge_predict').iloc[:15000,:], color = 'red', label = 'predict')\n",
    "plt.legend()\n",
    "plt.plot(output_datastore_4.get('/fridge_test').iloc[:15000,:], color = 'blue', label = 'test')\n",
    "plt.legend()"
   ]
  },
  {
   "cell_type": "markdown",
   "metadata": {},
   "source": [
    "**CORRELACIÓN CRUZADA**"
   ]
  },
  {
   "cell_type": "code",
   "execution_count": 298,
   "metadata": {},
   "outputs": [
    {
     "name": "stdout",
     "output_type": "stream",
     "text": [
      "(746149, 1)\n",
      "746149\n"
     ]
    },
    {
     "data": {
      "text/plain": [
       "array([[1.        , 0.88375848],\n",
       "       [0.88375848, 1.        ]])"
      ]
     },
     "execution_count": 298,
     "metadata": {},
     "output_type": "execute_result"
    }
   ],
   "source": [
    "#Calculo de correlación cruzada\n",
    "predict4 = output_datastore_4.get('/fridge_predict')\n",
    "test4 = output_datastore_4.get('/fridge_test')\n",
    "print(predict4.shape)\n",
    "t4 = np.ravel(test4)\n",
    "p4 = np.ravel(predict4)\n",
    "print(len(t4))\n",
    "np.corrcoef(t4,p4)\n"
   ]
  },
  {
   "cell_type": "code",
   "execution_count": 299,
   "metadata": {},
   "outputs": [
    {
     "name": "stdout",
     "output_type": "stream",
     "text": [
      "Correlación 0.8837584839095108\n"
     ]
    }
   ],
   "source": [
    "print(f\"Correlación {np.corrcoef(t4,p4)[1,0]}\")"
   ]
  },
  {
   "cell_type": "markdown",
   "metadata": {},
   "source": [
    "**Potencia promedio de consumo**"
   ]
  },
  {
   "cell_type": "code",
   "execution_count": 300,
   "metadata": {},
   "outputs": [
    {
     "name": "stdout",
     "output_type": "stream",
     "text": [
      "Consumo test >>> TOTAL = 41746110.0                Promedio = 55.94875822389362\n",
      "Consumo pred >>> TOTAL = 45120391.22648903         Promedio = 60.471020166868854\n",
      "Diferencias total:    -3374281.22648903\n",
      "Diferencias promedio: -4.522261942975234\n"
     ]
    }
   ],
   "source": [
    "total_consumo_test4 = sum(t4)\n",
    "promedio_test4 = total_consumo_test4 / len(t4)\n",
    "\n",
    "total_consumo_pred4 = sum(p4)\n",
    "promedio_pred4 = total_consumo_pred4 / len(p4)\n",
    "\n",
    "print(f\"Consumo test >>> TOTAL = {total_consumo_test4}                Promedio = {promedio_test4}\")\n",
    "print(f\"Consumo pred >>> TOTAL = {total_consumo_pred4}         Promedio = {promedio_pred4}\")\n",
    "\n",
    "diferencia_total4 = total_consumo_test4 - total_consumo_pred4\n",
    "print(f\"Diferencias total:    {diferencia_total4}\")\n",
    "\n",
    "diferencia_promedio4 = promedio_test4 - promedio_pred4\n",
    "print(f\"Diferencias promedio: {diferencia_promedio4}\")"
   ]
  },
  {
   "cell_type": "markdown",
   "metadata": {},
   "source": [
    "### Modelo CINCO resultados"
   ]
  },
  {
   "cell_type": "code",
   "execution_count": 115,
   "metadata": {},
   "outputs": [],
   "source": [
    "output_datastore_5 = pd.HDFStore(\"borrar_m5\", \"w\")\n",
    "#output_datastore_5.close()"
   ]
  },
  {
   "cell_type": "code",
   "execution_count": 116,
   "metadata": {},
   "outputs": [
    {
     "name": "stdout",
     "output_type": "stream",
     "text": [
      "New sensible chunk: 121483 size of data\n",
      "New sensible chunk: 112662 size of data\n",
      "New sensible chunk: 87771 size of data\n",
      "New sensible chunk: 54085 size of data\n",
      "New sensible chunk: 2661 size of data\n",
      "New sensible chunk: 33514 size of data\n",
      "New sensible chunk: 138536 size of data\n",
      "New sensible chunk: 32515 size of data\n",
      "New sensible chunk: 27256 size of data\n",
      "New sensible chunk: 34834 size of data\n",
      "New sensible chunk: 100832 size of data\n"
     ]
    }
   ],
   "source": [
    "test_appliance = test_fridge_1\n",
    "process_test(good_sections, test_mains, test_appliance, bm5, output_datastore_5, sequence_length = 256)"
   ]
  },
  {
   "cell_type": "code",
   "execution_count": 117,
   "metadata": {},
   "outputs": [
    {
     "data": {
      "text/plain": [
       "['/fridge_predict', '/fridge_test']"
      ]
     },
     "execution_count": 117,
     "metadata": {},
     "output_type": "execute_result"
    }
   ],
   "source": [
    "output_datastore_5.keys()"
   ]
  },
  {
   "cell_type": "code",
   "execution_count": 118,
   "metadata": {},
   "outputs": [
    {
     "data": {
      "text/plain": [
       "<matplotlib.legend.Legend at 0x15e47a26208>"
      ]
     },
     "execution_count": 118,
     "metadata": {},
     "output_type": "execute_result"
    },
    {
     "data": {
      "image/png": "[encoded data removed]",
      "text/plain": [
       "<Figure size 432x288 with 1 Axes>"
      ]
     },
     "metadata": {
      "needs_background": "light"
     },
     "output_type": "display_data"
    }
   ],
   "source": [
    "plt.plot(output_datastore_5.get('/fridge_predict').iloc[:15000,:], color = 'red', label = 'predict')\n",
    "plt.legend()\n",
    "plt.plot(output_datastore_5.get('/fridge_test').iloc[:15000,:], color = 'blue', label = 'test')\n",
    "plt.legend()"
   ]
  },
  {
   "cell_type": "markdown",
   "metadata": {},
   "source": [
    "**CORRELACIÓN CRUZADA**"
   ]
  },
  {
   "cell_type": "code",
   "execution_count": 241,
   "metadata": {},
   "outputs": [
    {
     "name": "stdout",
     "output_type": "stream",
     "text": [
      "(746149, 1)\n",
      "746149\n"
     ]
    },
    {
     "data": {
      "text/plain": [
       "array([[1.        , 0.87175547],\n",
       "       [0.87175547, 1.        ]])"
      ]
     },
     "execution_count": 241,
     "metadata": {},
     "output_type": "execute_result"
    }
   ],
   "source": [
    "#Calculo de correlación cruzada\n",
    "predict5 = output_datastore_5.get('/fridge_predict')\n",
    "test5 = output_datastore_5.get('/fridge_test')\n",
    "print(predict5.shape)\n",
    "t5 = np.ravel(test5)\n",
    "p5 = np.ravel(predict5)\n",
    "print(len(t5))\n",
    "np.corrcoef(t5,p5)\n"
   ]
  },
  {
   "cell_type": "code",
   "execution_count": 120,
   "metadata": {},
   "outputs": [
    {
     "name": "stdout",
     "output_type": "stream",
     "text": [
      "Correlación 0.8717554667491473\n"
     ]
    }
   ],
   "source": [
    "print(f\"Correlación {np.corrcoef(t5,p5)[1,0]}\")"
   ]
  },
  {
   "cell_type": "markdown",
   "metadata": {},
   "source": [
    "**Potencia promedio de consumo**"
   ]
  },
  {
   "cell_type": "code",
   "execution_count": 242,
   "metadata": {},
   "outputs": [
    {
     "name": "stdout",
     "output_type": "stream",
     "text": [
      "Consumo test >>> TOTAL = 41746110.0                Promedio = 55.94875822389362\n",
      "Consumo pred >>> TOTAL = 34813839.56605143         Promedio = 46.65802616642444\n",
      "Diferencias total:    6932270.433948569\n",
      "Diferencias promedio: 9.290732057469178\n"
     ]
    }
   ],
   "source": [
    "total_consumo_test5 = sum(t5)\n",
    "promedio_test5 = total_consumo_test5 / len(t5)\n",
    "\n",
    "total_consumo_pred5 = sum(p5)\n",
    "promedio_pred5 = total_consumo_pred5 / len(p5)\n",
    "\n",
    "print(f\"Consumo test >>> TOTAL = {total_consumo_test5}                Promedio = {promedio_test5}\")\n",
    "print(f\"Consumo pred >>> TOTAL = {total_consumo_pred5}         Promedio = {promedio_pred5}\")\n",
    "\n",
    "diferencia_total5 = total_consumo_test5 - total_consumo_pred5\n",
    "print(f\"Diferencias total:    {diferencia_total5}\")\n",
    "\n",
    "diferencia_promedio5 = promedio_test5 - promedio_pred5\n",
    "print(f\"Diferencias promedio: {diferencia_promedio5}\")"
   ]
  },
  {
   "cell_type": "markdown",
   "metadata": {},
   "source": [
    "### Modelo SEIS resultados"
   ]
  },
  {
   "cell_type": "code",
   "execution_count": 124,
   "metadata": {},
   "outputs": [],
   "source": [
    "output_datastore_6 = pd.HDFStore(\"borrar_m6\", \"w\")\n",
    "#output_datastore_6.close()"
   ]
  },
  {
   "cell_type": "code",
   "execution_count": 125,
   "metadata": {},
   "outputs": [
    {
     "name": "stdout",
     "output_type": "stream",
     "text": [
      "New sensible chunk: 121483 size of data\n",
      "New sensible chunk: 112662 size of data\n",
      "New sensible chunk: 87771 size of data\n",
      "New sensible chunk: 54085 size of data\n",
      "New sensible chunk: 2661 size of data\n",
      "New sensible chunk: 33514 size of data\n",
      "New sensible chunk: 138536 size of data\n",
      "New sensible chunk: 32515 size of data\n",
      "New sensible chunk: 27256 size of data\n",
      "New sensible chunk: 34834 size of data\n",
      "New sensible chunk: 100832 size of data\n"
     ]
    }
   ],
   "source": [
    "test_appliance = test_fridge_1\n",
    "process_test(good_sections, test_mains, test_appliance, bm6, output_datastore_6, sequence_length = 256)"
   ]
  },
  {
   "cell_type": "code",
   "execution_count": 126,
   "metadata": {},
   "outputs": [
    {
     "data": {
      "text/plain": [
       "<matplotlib.legend.Legend at 0x15e4ed94518>"
      ]
     },
     "execution_count": 126,
     "metadata": {},
     "output_type": "execute_result"
    },
    {
     "data": {
      "image/png": "[encoded data removed]",
      "text/plain": [
       "<Figure size 432x288 with 1 Axes>"
      ]
     },
     "metadata": {
      "needs_background": "light"
     },
     "output_type": "display_data"
    }
   ],
   "source": [
    "plt.plot(output_datastore_6.get('/fridge_predict').iloc[:15000,:], color = 'red', label = 'predict')\n",
    "plt.legend()\n",
    "plt.plot(output_datastore_6.get('/fridge_test').iloc[:15000,:], color = 'blue', label = 'test')\n",
    "plt.legend()"
   ]
  },
  {
   "cell_type": "markdown",
   "metadata": {},
   "source": [
    "**CORRELACIÓN CRUZADA**"
   ]
  },
  {
   "cell_type": "code",
   "execution_count": 301,
   "metadata": {},
   "outputs": [
    {
     "name": "stdout",
     "output_type": "stream",
     "text": [
      "(746149, 1)\n",
      "746149\n"
     ]
    },
    {
     "data": {
      "text/plain": [
       "array([[1.        , 0.87203677],\n",
       "       [0.87203677, 1.        ]])"
      ]
     },
     "execution_count": 301,
     "metadata": {},
     "output_type": "execute_result"
    }
   ],
   "source": [
    "#Calculo de correlación cruzada\n",
    "predict6 = output_datastore_6.get('/fridge_predict')\n",
    "test6 = output_datastore_6.get('/fridge_test')\n",
    "print(predict6.shape)\n",
    "t6 = np.ravel(test6)\n",
    "p6 = np.ravel(predict6)\n",
    "print(len(t6))\n",
    "np.corrcoef(t6,p6)\n"
   ]
  },
  {
   "cell_type": "code",
   "execution_count": 302,
   "metadata": {},
   "outputs": [
    {
     "name": "stdout",
     "output_type": "stream",
     "text": [
      "Correlación 0.8720367700559856\n"
     ]
    }
   ],
   "source": [
    "print(f\"Correlación {np.corrcoef(t6,p6)[1,0]}\")"
   ]
  },
  {
   "cell_type": "markdown",
   "metadata": {},
   "source": [
    "**Potencia promedio de consumo**"
   ]
  },
  {
   "cell_type": "code",
   "execution_count": 303,
   "metadata": {},
   "outputs": [
    {
     "name": "stdout",
     "output_type": "stream",
     "text": [
      "Consumo test >>> TOTAL = 41746110.0         Promedio = 55.94875822389362\n",
      "Consumo pred >>> TOTAL = 42639163.33209946                Promedio = 57.145641597186966\n",
      "Diferencias total:    -893053.3320994601\n",
      "Diferencias promedio: -1.1968833732933462\n"
     ]
    }
   ],
   "source": [
    "total_consumo_test6 = sum(t6)\n",
    "promedio_test6 = total_consumo_test6 / len(t6)\n",
    "\n",
    "total_consumo_pred6 = sum(p6)\n",
    "promedio_pred6 = total_consumo_pred6 / len(p6)\n",
    "\n",
    "print(f\"Consumo test >>> TOTAL = {total_consumo_test6}         Promedio = {promedio_test6}\")\n",
    "print(f\"Consumo pred >>> TOTAL = {total_consumo_pred6}                Promedio = {promedio_pred6}\")\n",
    "\n",
    "diferencia_total6 = total_consumo_test6 - total_consumo_pred6\n",
    "print(f\"Diferencias total:    {diferencia_total6}\")\n",
    "\n",
    "diferencia_promedio6 = promedio_test6 - promedio_pred6\n",
    "print(f\"Diferencias promedio: {diferencia_promedio6}\")"
   ]
  },
  {
   "cell_type": "markdown",
   "metadata": {},
   "source": [
    "### Modelo SIETE resultados"
   ]
  },
  {
   "cell_type": "code",
   "execution_count": 132,
   "metadata": {},
   "outputs": [],
   "source": [
    "output_datastore_7 = pd.HDFStore(\"borrar_m7\", \"w\")\n",
    "#output_datastore_7.close()"
   ]
  },
  {
   "cell_type": "code",
   "execution_count": 133,
   "metadata": {},
   "outputs": [
    {
     "name": "stdout",
     "output_type": "stream",
     "text": [
      "New sensible chunk: 121483 size of data\n",
      "New sensible chunk: 112662 size of data\n",
      "New sensible chunk: 87771 size of data\n",
      "New sensible chunk: 54085 size of data\n",
      "New sensible chunk: 2661 size of data\n",
      "New sensible chunk: 33514 size of data\n",
      "New sensible chunk: 138536 size of data\n",
      "New sensible chunk: 32515 size of data\n",
      "New sensible chunk: 27256 size of data\n",
      "New sensible chunk: 34834 size of data\n",
      "New sensible chunk: 100832 size of data\n"
     ]
    }
   ],
   "source": [
    "test_appliance = test_fridge_1\n",
    "process_test(good_sections, test_mains, test_appliance, bm7, output_datastore_7, sequence_length = 256)"
   ]
  },
  {
   "cell_type": "code",
   "execution_count": 134,
   "metadata": {},
   "outputs": [
    {
     "data": {
      "text/plain": [
       "<matplotlib.legend.Legend at 0x15e5291d518>"
      ]
     },
     "execution_count": 134,
     "metadata": {},
     "output_type": "execute_result"
    },
    {
     "data": {
      "image/png": "[encoded data removed]",
      "text/plain": [
       "<Figure size 432x288 with 1 Axes>"
      ]
     },
     "metadata": {
      "needs_background": "light"
     },
     "output_type": "display_data"
    }
   ],
   "source": [
    "plt.plot(output_datastore_7.get('/fridge_predict').iloc[:15000,:], color = 'red', label = 'predict')\n",
    "plt.legend()\n",
    "plt.plot(output_datastore_7.get('/fridge_test').iloc[:15000,:], color = 'blue', label = 'test')\n",
    "plt.legend()"
   ]
  },
  {
   "cell_type": "markdown",
   "metadata": {},
   "source": [
    "**CORRELACIÓN CRUZADA**"
   ]
  },
  {
   "cell_type": "code",
   "execution_count": 306,
   "metadata": {},
   "outputs": [
    {
     "name": "stdout",
     "output_type": "stream",
     "text": [
      "(746149, 1)\n",
      "746149\n"
     ]
    },
    {
     "data": {
      "text/plain": [
       "array([[1.        , 0.79392924],\n",
       "       [0.79392924, 1.        ]])"
      ]
     },
     "execution_count": 306,
     "metadata": {},
     "output_type": "execute_result"
    }
   ],
   "source": [
    "#Calculo de correlación cruzada\n",
    "predict7 = output_datastore_7.get('/fridge_predict')\n",
    "test7 = output_datastore_7.get('/fridge_test')\n",
    "print(predict7.shape)\n",
    "t7 = np.ravel(test7)\n",
    "p7 = np.ravel(predict7)\n",
    "print(len(t7))\n",
    "np.corrcoef(t7,p7)\n"
   ]
  },
  {
   "cell_type": "code",
   "execution_count": 307,
   "metadata": {},
   "outputs": [
    {
     "name": "stdout",
     "output_type": "stream",
     "text": [
      "Correlación 0.7939292401198401\n"
     ]
    }
   ],
   "source": [
    "print(f\"Correlación {np.corrcoef(t7,p7)[1,0]}\")"
   ]
  },
  {
   "cell_type": "markdown",
   "metadata": {},
   "source": [
    "**Potencia promedio de consumo**"
   ]
  },
  {
   "cell_type": "code",
   "execution_count": 308,
   "metadata": {},
   "outputs": [
    {
     "name": "stdout",
     "output_type": "stream",
     "text": [
      "Consumo test >>> TOTAL = 41746110.0         Promedio = 55.94875822389362\n",
      "Consumo pred >>> TOTAL = 35148099.69362114                Promedio = 47.10600656654521\n",
      "Diferencias total:    6598010.306378856\n",
      "Diferencias promedio: 8.842751657348408\n"
     ]
    }
   ],
   "source": [
    "total_consumo_test7 = sum(t7)\n",
    "promedio_test7 = total_consumo_test7 / len(t7)\n",
    "\n",
    "total_consumo_pred7 = sum(p7)\n",
    "promedio_pred7 = total_consumo_pred7 / len(p7)\n",
    "\n",
    "print(f\"Consumo test >>> TOTAL = {total_consumo_test7}         Promedio = {promedio_test7}\")\n",
    "print(f\"Consumo pred >>> TOTAL = {total_consumo_pred7}                Promedio = {promedio_pred7}\")\n",
    "\n",
    "diferencia_total7 = total_consumo_test7 - total_consumo_pred7\n",
    "print(f\"Diferencias total:    {diferencia_total7}\")\n",
    "\n",
    "diferencia_promedio7 = promedio_test7 - promedio_pred7\n",
    "print(f\"Diferencias promedio: {diferencia_promedio7}\")"
   ]
  },
  {
   "cell_type": "markdown",
   "metadata": {},
   "source": [
    "### Modelo OCHO resultados"
   ]
  },
  {
   "cell_type": "code",
   "execution_count": 159,
   "metadata": {},
   "outputs": [],
   "source": [
    "output_datastore_8.close()"
   ]
  },
  {
   "cell_type": "code",
   "execution_count": 160,
   "metadata": {},
   "outputs": [],
   "source": [
    "output_datastore_8 = pd.HDFStore(\"borrar_m8\", \"w\")\n",
    "#output_datastore_8.close()"
   ]
  },
  {
   "cell_type": "code",
   "execution_count": 161,
   "metadata": {},
   "outputs": [
    {
     "name": "stdout",
     "output_type": "stream",
     "text": [
      "New sensible chunk: 121483 size of data\n",
      "New sensible chunk: 112662 size of data\n",
      "New sensible chunk: 87771 size of data\n",
      "New sensible chunk: 54085 size of data\n",
      "New sensible chunk: 2661 size of data\n",
      "New sensible chunk: 33514 size of data\n",
      "New sensible chunk: 138536 size of data\n",
      "New sensible chunk: 32515 size of data\n",
      "New sensible chunk: 27256 size of data\n",
      "New sensible chunk: 34834 size of data\n",
      "New sensible chunk: 100832 size of data\n"
     ]
    }
   ],
   "source": [
    "test_appliance = test_fridge_1\n",
    "process_test(good_sections, test_mains, test_appliance, bm8, output_datastore_8, sequence_length = 256)"
   ]
  },
  {
   "cell_type": "code",
   "execution_count": 162,
   "metadata": {},
   "outputs": [
    {
     "data": {
      "text/plain": [
       "<matplotlib.legend.Legend at 0x15e47003da0>"
      ]
     },
     "execution_count": 162,
     "metadata": {},
     "output_type": "execute_result"
    },
    {
     "data": {
      "image/png": "[encoded data removed]",
      "text/plain": [
       "<Figure size 432x288 with 1 Axes>"
      ]
     },
     "metadata": {
      "needs_background": "light"
     },
     "output_type": "display_data"
    }
   ],
   "source": [
    "plt.plot(output_datastore_8.get('/fridge_predict').iloc[:15000,:], color = 'red', label = 'predict')\n",
    "plt.legend()\n",
    "plt.plot(output_datastore_8.get('/fridge_test').iloc[:15000,:], color = 'blue', label = 'test')\n",
    "plt.legend()"
   ]
  },
  {
   "cell_type": "markdown",
   "metadata": {},
   "source": [
    "**CORRELACIÓN CRUZADA**"
   ]
  },
  {
   "cell_type": "code",
   "execution_count": 311,
   "metadata": {},
   "outputs": [
    {
     "name": "stdout",
     "output_type": "stream",
     "text": [
      "(746149, 1)\n",
      "746149\n"
     ]
    },
    {
     "data": {
      "text/plain": [
       "array([[1.        , 0.83563302],\n",
       "       [0.83563302, 1.        ]])"
      ]
     },
     "execution_count": 311,
     "metadata": {},
     "output_type": "execute_result"
    }
   ],
   "source": [
    "#Calculo de correlación cruzada\n",
    "predict8 = output_datastore_8.get('/fridge_predict')\n",
    "test8 = output_datastore_8.get('/fridge_test')\n",
    "print(predict8.shape)\n",
    "t8 = np.ravel(test8)\n",
    "p8 = np.ravel(predict8)\n",
    "print(len(t8))\n",
    "np.corrcoef(t8,p8)\n"
   ]
  },
  {
   "cell_type": "code",
   "execution_count": 312,
   "metadata": {},
   "outputs": [
    {
     "name": "stdout",
     "output_type": "stream",
     "text": [
      "Correlación 0.8356330216882936\n"
     ]
    }
   ],
   "source": [
    "print(f\"Correlación {np.corrcoef(t8,p8)[1,0]}\")"
   ]
  },
  {
   "cell_type": "markdown",
   "metadata": {},
   "source": [
    "**Potencia promedio de consumo**"
   ]
  },
  {
   "cell_type": "code",
   "execution_count": 313,
   "metadata": {},
   "outputs": [
    {
     "name": "stdout",
     "output_type": "stream",
     "text": [
      "Consumo test >>> TOTAL = 41746110.0         Promedio = 55.94875822389362\n",
      "Consumo pred >>> TOTAL = 32671105.70295438                Promedio = 43.78630233767569\n",
      "Diferencias total:    9075004.297045618\n",
      "Diferencias promedio: 12.162455886217927\n"
     ]
    }
   ],
   "source": [
    "total_consumo_test8 = sum(t8)\n",
    "promedio_test8 = total_consumo_test8 / len(t8)\n",
    "\n",
    "total_consumo_pred8 = sum(p8)\n",
    "promedio_pred8 = total_consumo_pred8 / len(p8)\n",
    "\n",
    "print(f\"Consumo test >>> TOTAL = {total_consumo_test8}         Promedio = {promedio_test8}\")\n",
    "print(f\"Consumo pred >>> TOTAL = {total_consumo_pred8}                Promedio = {promedio_pred8}\")\n",
    "\n",
    "diferencia_total8 = total_consumo_test8 - total_consumo_pred8\n",
    "print(f\"Diferencias total:    {diferencia_total8}\")\n",
    "\n",
    "diferencia_promedio8 = promedio_test8 - promedio_pred8\n",
    "print(f\"Diferencias promedio: {diferencia_promedio8}\")"
   ]
  },
  {
   "cell_type": "markdown",
   "metadata": {},
   "source": [
    "## Tabla resumen de resultados"
   ]
  },
  {
   "cell_type": "code",
   "execution_count": 273,
   "metadata": {},
   "outputs": [
    {
     "name": "stdout",
     "output_type": "stream",
     "text": [
      "Correlación 0.8329002100271483\n",
      "Consumo test >>> TOTAL = 41746110.0                   Promedio = 55.94875822389362\n",
      "Consumo pred >>> TOTAL = 35364748.77065284            Promedio = 47.39636288549986\n",
      "Diferencias total:    6381361.229347162\n",
      "Diferencias promedio: 8.552395338393758\n"
     ]
    }
   ],
   "source": [
    "print(f\"Correlación {np.corrcoef(t0,p0)[1,0]}\")\n",
    "print(f\"Consumo test >>> TOTAL = {total_consumo_test0}                   Promedio = {promedio_test0}\")\n",
    "print(f\"Consumo pred >>> TOTAL = {total_consumo_pred0}            Promedio = {promedio_pred0}\")\n",
    "print(f\"Diferencias total:    {diferencia_total0}\")\n",
    "print(f\"Diferencias promedio: {diferencia_promedio0}\")"
   ]
  },
  {
   "cell_type": "code",
   "execution_count": 274,
   "metadata": {},
   "outputs": [
    {
     "name": "stdout",
     "output_type": "stream",
     "text": [
      "Correlación 0.8329002100271483\n",
      "Consumo test >>> TOTAL = 41746110.0                  Promedio = 55.94875822389362\n",
      "Consumo pred >>> TOTAL = 35364748.77065284           Promedio = 47.39636288549986\n",
      "Diferencias total:    6381361.229347162\n",
      "Diferencias promedio: 8.552395338393758\n"
     ]
    }
   ],
   "source": [
    "print(f\"Correlación {np.corrcoef(t1,p1)[1,0]}\")\n",
    "print(f\"Consumo test >>> TOTAL = {total_consumo_test1}                  Promedio = {promedio_test1}\")\n",
    "print(f\"Consumo pred >>> TOTAL = {total_consumo_pred1}           Promedio = {promedio_pred1}\")\n",
    "print(f\"Diferencias total:    {diferencia_total1}\")\n",
    "print(f\"Diferencias promedio: {diferencia_promedio1}\")"
   ]
  },
  {
   "cell_type": "code",
   "execution_count": 275,
   "metadata": {},
   "outputs": [
    {
     "name": "stdout",
     "output_type": "stream",
     "text": [
      "Correlación 0.8766978154568824\n",
      "Consumo test >>> TOTAL = 41746110.0                   Promedio = 55.94875822389362\n",
      "Consumo pred >>> TOTAL = 47464447.0019809             Promedio = 63.61255862030359\n",
      "Diferencias total:    -5718337.001980901\n",
      "Diferencias promedio: -7.663800396409968\n"
     ]
    }
   ],
   "source": [
    "print(f\"Correlación {np.corrcoef(t2,p2)[1,0]}\")\n",
    "print(f\"Consumo test >>> TOTAL = {total_consumo_test2}                   Promedio = {promedio_test2}\")\n",
    "print(f\"Consumo pred >>> TOTAL = {total_consumo_pred2}             Promedio = {promedio_pred2}\")\n",
    "print(f\"Diferencias total:    {diferencia_total2}\")\n",
    "print(f\"Diferencias promedio: {diferencia_promedio2}\")"
   ]
  },
  {
   "cell_type": "code",
   "execution_count": 276,
   "metadata": {},
   "outputs": [
    {
     "name": "stdout",
     "output_type": "stream",
     "text": [
      "Correlación 0.8595733679881972\n",
      "Consumo test >>> TOTAL = 41746110.0                   Promedio = 55.94875822389362\n",
      "Consumo pred >>> TOTAL = 39287004.75410256            Promedio = 52.65302875712835\n",
      "Diferencias total:    2459105.245897442\n",
      "Diferencias promedio: 3.2957294667652732\n"
     ]
    }
   ],
   "source": [
    "print(f\"Correlación {np.corrcoef(t3,p3)[1,0]}\")\n",
    "print(f\"Consumo test >>> TOTAL = {total_consumo_test3}                   Promedio = {promedio_test3}\")\n",
    "print(f\"Consumo pred >>> TOTAL = {total_consumo_pred3}            Promedio = {promedio_pred3}\")\n",
    "print(f\"Diferencias total:    {diferencia_total3}\")\n",
    "print(f\"Diferencias promedio: {diferencia_promedio3}\")"
   ]
  },
  {
   "cell_type": "code",
   "execution_count": 277,
   "metadata": {},
   "outputs": [
    {
     "name": "stdout",
     "output_type": "stream",
     "text": [
      "Correlación 0.8837584839095108\n",
      "Consumo test >>> TOTAL = 41746110.0                 Promedio = 55.94875822389362\n",
      "Consumo pred >>> TOTAL = 45120391.22648903          Promedio = 60.471020166868854\n",
      "Diferencias total:    -3374281.22648903\n",
      "Diferencias promedio: -4.522261942975234\n"
     ]
    }
   ],
   "source": [
    "print(f\"Correlación {np.corrcoef(t4,p4)[1,0]}\")\n",
    "print(f\"Consumo test >>> TOTAL = {total_consumo_test4}                 Promedio = {promedio_test4}\")\n",
    "print(f\"Consumo pred >>> TOTAL = {total_consumo_pred4}          Promedio = {promedio_pred4}\")\n",
    "print(f\"Diferencias total:    {diferencia_total4}\")\n",
    "print(f\"Diferencias promedio: {diferencia_promedio4}\")"
   ]
  },
  {
   "cell_type": "code",
   "execution_count": 278,
   "metadata": {},
   "outputs": [
    {
     "name": "stdout",
     "output_type": "stream",
     "text": [
      "Correlación 0.8717554667491473\n",
      "Consumo test >>> TOTAL = 41746110.0                Promedio = 55.94875822389362\n",
      "Consumo pred >>> TOTAL = 34813839.56605143         Promedio = 46.65802616642444\n",
      "Diferencias total:    6932270.433948569\n",
      "Diferencias promedio: 9.290732057469178\n"
     ]
    }
   ],
   "source": [
    "print(f\"Correlación {np.corrcoef(t5,p5)[1,0]}\")\n",
    "print(f\"Consumo test >>> TOTAL = {total_consumo_test5}                Promedio = {promedio_test5}\")\n",
    "print(f\"Consumo pred >>> TOTAL = {total_consumo_pred5}         Promedio = {promedio_pred5}\")\n",
    "print(f\"Diferencias total:    {diferencia_total5}\")\n",
    "print(f\"Diferencias promedio: {diferencia_promedio5}\")"
   ]
  },
  {
   "cell_type": "code",
   "execution_count": 279,
   "metadata": {},
   "outputs": [
    {
     "name": "stdout",
     "output_type": "stream",
     "text": [
      "Correlación 0.8720367700559856\n",
      "Consumo test >>> TOTAL = 42639163.33209946         Promedio = 57.145641597186966\n",
      "Consumo pred >>> TOTAL = 41746110.0                Promedio = 55.94875822389362\n",
      "Diferencias total:    893053.3320994601\n",
      "Diferencias promedio: 1.1968833732933462\n"
     ]
    }
   ],
   "source": [
    "print(f\"Correlación {np.corrcoef(t6,p6)[1,0]}\")\n",
    "print(f\"Consumo test >>> TOTAL = {total_consumo_test6}         Promedio = {promedio_test6}\")\n",
    "print(f\"Consumo pred >>> TOTAL = {total_consumo_pred6}                Promedio = {promedio_pred6}\")\n",
    "print(f\"Diferencias total:    {diferencia_total6}\")\n",
    "print(f\"Diferencias promedio: {diferencia_promedio6}\")"
   ]
  },
  {
   "cell_type": "code",
   "execution_count": 280,
   "metadata": {},
   "outputs": [
    {
     "name": "stdout",
     "output_type": "stream",
     "text": [
      "Correlación 0.7939292401198401\n",
      "Consumo test >>> TOTAL = 35148099.69362114         Promedio = 47.10600656654521\n",
      "Consumo pred >>> TOTAL = 41746110.0                Promedio = 55.94875822389362\n",
      "Diferencias total:    -6598010.306378856\n",
      "Diferencias promedio: -8.842751657348408\n"
     ]
    }
   ],
   "source": [
    "print(f\"Correlación {np.corrcoef(t7,p7)[1,0]}\")\n",
    "print(f\"Consumo test >>> TOTAL = {total_consumo_test7}         Promedio = {promedio_test7}\")\n",
    "print(f\"Consumo pred >>> TOTAL = {total_consumo_pred7}                Promedio = {promedio_pred7}\")\n",
    "print(f\"Diferencias total:    {diferencia_total7}\")\n",
    "print(f\"Diferencias promedio: {diferencia_promedio7}\")"
   ]
  },
  {
   "cell_type": "code",
   "execution_count": 281,
   "metadata": {},
   "outputs": [
    {
     "name": "stdout",
     "output_type": "stream",
     "text": [
      "Correlación 0.8356330216882936\n",
      "Consumo test >>> TOTAL = 32671105.70295438         Promedio = 43.78630233767569\n",
      "Consumo pred >>> TOTAL = 41746110.0                Promedio = 55.94875822389362\n",
      "Diferencias total:    -9075004.297045618\n",
      "Diferencias promedio: -12.162455886217927\n"
     ]
    }
   ],
   "source": [
    "print(f\"Correlación {np.corrcoef(t8,p8)[1,0]}\")\n",
    "print(f\"Consumo test >>> TOTAL = {total_consumo_test8}         Promedio = {promedio_test8}\")\n",
    "print(f\"Consumo pred >>> TOTAL = {total_consumo_pred8}                Promedio = {promedio_pred8}\")\n",
    "print(f\"Diferencias total:    {diferencia_total8}\")\n",
    "print(f\"Diferencias promedio: {diferencia_promedio8}\")"
   ]
  },
  {
   "cell_type": "markdown",
   "metadata": {},
   "source": [
    "# Resumen de Resultados"
   ]
  },
  {
   "cell_type": "markdown",
   "metadata": {},
   "source": [
    "Consideraciones\n",
    "- Se han calculado los tiempos para 8.6 días correspondientes a los datos de test\n",
    "- Se tiene la información de diferencias tomadas para la potencia que es la medida registrada por los medidores de cada dispositivo.\n",
    "- Un valor negativo en las comparaciones entre la medida de test y la predicha significa que la predicción tomo valores por encima de lo real. \n",
    "- Un valor positivo significa que las predicciones calculdas tomaron valores por debajo de la medida real. \n",
    "\n",
    "|MODELO|Correlación|Consumo Total Test Watt|Consumo Total Pred Watt|Promedio Test Watt|Promedio Pred Watt|Dif Total Watt|Dif Prom Watt|\n",
    "|--|--|--|--|--|--|--|--|\n",
    "|DAE0|0.83|41746110|35364748.77|55.94|47.39|6381361.23|8.55|\n",
    "|1|0.83|41746110|35364748.77|55.94|47.40|6381361.22|8.55|\n",
    "|2|**0.88**|41746110|47464447.00|55.94|63.61|-5718337.00|-7.66|\n",
    "|**3**|0.86|41746110|39287004.75|55.94|52.65|**2459105.25**|**3.30**|\n",
    "|**4**|**0.88**|41746110|45120391.22|55.94|60.47|**-3374281.23**|**-4.52**|\n",
    "|5|0.87|41746110|34813839.57|55.94|46.66|6932270.43|9.29|\n",
    "|**6**|0.87|41746110|42639163.33|55.94|**57.14**|**-893053.33**|**-1.20**|\n",
    "|7|0.79|41746110|35148099.69|55.94|47.10|6598010.31|8.84|\n",
    "|8|0.84|41746110|32671105.71|55.94|43.79|9075004.30|12.16|"
   ]
  },
  {
   "cell_type": "markdown",
   "metadata": {},
   "source": [
    "- De acuerdo a la tabla los modelos con mejores aproximaciones entre los datos predichos y los valores reales o de test corresponden a los modelos **3,4 y 6**\n",
    "- Los modelos **3 y 4** presentan las mejores correlaciones entre la señal predicha y la señal de test. \n",
    "- El modelo con menor diferencia de potencia consumida predicha para el dispositivo es el **6** con un diferencia de **-893,053.33** \n",
    "- Este modelo en particular tiene una medida por encima de la potencia real de consumo. \n",
    "- Esta diferencia corresponde a un porcentaje de diferencia de **2.14%** entre las dos medidas."
   ]
  },
  {
   "cell_type": "code",
   "execution_count": null,
   "metadata": {},
   "outputs": [],
   "source": []
  }
 ],
 "metadata": {
  "kernelspec": {
   "display_name": "nilmtk",
   "language": "python",
   "name": "nilmtk"
  },
  "language_info": {
   "codemirror_mode": {
    "name": "ipython",
    "version": 3
   },
   "file_extension": ".py",
   "mimetype": "text/x-python",
   "name": "python",
   "nbconvert_exporter": "python",
   "pygments_lexer": "ipython3",
   "version": "3.6.11"
  }
 },
 "nbformat": 4,
 "nbformat_minor": 4
}
