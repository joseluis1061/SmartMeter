{
 "cells": [
  {
   "cell_type": "markdown",
   "metadata": {},
   "source": [
    "# Extracción de Bases de datos\n",
    "En este script extraeremos las bases de datos de las 6 viviendas. Las muestras seran cambiadas en su frecuencia tomando todos los datos cada segundo.\n",
    "\n",
    "Los medidores de dispositivo llenaran los valores faltantes tomando el ultimo valor de tiempo en el pasado antes del dato faltante.\n",
    "\n",
    "El relleno solo se aplica a las medidas de los electrodomesticos cuya frecuencia de muestreo es cada 3S, los medidores centrales tienen una frecuencia de muestreo de 1S por lo tanto sus valores no son modificados. \n",
    "\n",
    "Cuando un electrodomesticos es alimentado por dos fases del sistema de medición estos se aglomeran en un grupos, por ejemplo para la casa 1:\n",
    "\n",
    "MeterGroup(meters=\n",
    "\n",
    "    ElecMeter(instance=3, building=1, dataset='REDD', appliances=[Appliance(type='electric oven', instance=1)])\n",
    "    \n",
    "    ElecMeter(instance=4, building=1, dataset='REDD', appliances=[Appliance(type='electric oven', instance=1)])\n",
    "  )\n",
    "  \n",
    "En estos casos al cargar los datos se retorna una sola medida la cual es la suma de las dos registradas originalmente.\n",
    "\n",
    "Hay un id por medidor denominada instance, sin embargo tambien hay otro id por dispositivo denominado tambien instance al interior de la lista appliances. Este ultimo sirve como id en el caso cuando hay mas de un electrodomestico con un mismo nombre 'label'. \n",
    "\n",
    "En el caso que dos o mas dispositivos tengan el mismo 'label' la selección de uno en especifico se hace de la siguiente manera:\n",
    "\n",
    "house_1['sockets',2]\n",
    "\n",
    "En este ejemplo se selecciona el segundo conector de la casa 1. "
   ]
  },
  {
   "cell_type": "code",
   "execution_count": 1,
   "metadata": {},
   "outputs": [],
   "source": [
    "#0. Cargar las librerias \n",
    "from __future__ import print_function, division\n",
    "import time\n",
    "import nilmtk\n",
    "\n",
    "from matplotlib import rcParams\n",
    "import matplotlib.pyplot as plt\n",
    "import pandas as pd\n",
    "import numpy as np\n",
    "from six import iteritems\n",
    "\n",
    "from nilmtk import DataSet, TimeFrame, MeterGroup, HDFDataStore\n",
    "from nilmtk.legacy.disaggregate import CombinatorialOptimisation, FHMM\n",
    "import nilmtk.utils\n",
    "\n",
    "%matplotlib inline\n",
    "#Constante para el tamño de las imagenes\n",
    "rcParams['figure.figsize'] = (13, 6)\n"
   ]
  },
  {
   "cell_type": "code",
   "execution_count": 2,
   "metadata": {},
   "outputs": [],
   "source": [
    "# Periodo de muestreo\n",
    "load_kwargs = {'sample_period': 1}"
   ]
  },
  {
   "cell_type": "code",
   "execution_count": 3,
   "metadata": {},
   "outputs": [],
   "source": [
    "# Cargar Base de datos redd\n",
    "redd = DataSet('C:\\\\Users\\\\josel\\\\SmartMeter\\\\OrdenandoTodo\\\\redd.h5')"
   ]
  },
  {
   "cell_type": "code",
   "execution_count": 4,
   "metadata": {},
   "outputs": [],
   "source": [
    "# Cargar datos de las diferentes casas\n",
    "house_1 = redd.buildings[1].elec\n",
    "house_2 = redd.buildings[2].elec\n",
    "house_3 = redd.buildings[3].elec\n",
    "house_4 = redd.buildings[4].elec\n",
    "house_5 = redd.buildings[5].elec\n",
    "house_6 = redd.buildings[6].elec"
   ]
  },
  {
   "cell_type": "markdown",
   "metadata": {},
   "source": [
    "# HOUSE 1"
   ]
  },
  {
   "cell_type": "code",
   "execution_count": 110,
   "metadata": {},
   "outputs": [
    {
     "data": {
      "text/plain": [
       "MeterGroup(meters=\n",
       "  ElecMeter(instance=1, building=1, dataset='REDD', site_meter, appliances=[])\n",
       "  ElecMeter(instance=2, building=1, dataset='REDD', site_meter, appliances=[])\n",
       "  ElecMeter(instance=5, building=1, dataset='REDD', appliances=[Appliance(type='fridge', instance=1)])\n",
       "  ElecMeter(instance=6, building=1, dataset='REDD', appliances=[Appliance(type='dish washer', instance=1)])\n",
       "  ElecMeter(instance=7, building=1, dataset='REDD', appliances=[Appliance(type='sockets', instance=1)])\n",
       "  ElecMeter(instance=8, building=1, dataset='REDD', appliances=[Appliance(type='sockets', instance=2)])\n",
       "  ElecMeter(instance=9, building=1, dataset='REDD', appliances=[Appliance(type='light', instance=1)])\n",
       "  ElecMeter(instance=11, building=1, dataset='REDD', appliances=[Appliance(type='microwave', instance=1)])\n",
       "  ElecMeter(instance=12, building=1, dataset='REDD', appliances=[Appliance(type='unknown', instance=1)])\n",
       "  ElecMeter(instance=13, building=1, dataset='REDD', appliances=[Appliance(type='electric space heater', instance=1)])\n",
       "  ElecMeter(instance=14, building=1, dataset='REDD', appliances=[Appliance(type='electric stove', instance=1)])\n",
       "  ElecMeter(instance=15, building=1, dataset='REDD', appliances=[Appliance(type='sockets', instance=3)])\n",
       "  ElecMeter(instance=16, building=1, dataset='REDD', appliances=[Appliance(type='sockets', instance=4)])\n",
       "  ElecMeter(instance=17, building=1, dataset='REDD', appliances=[Appliance(type='light', instance=2)])\n",
       "  ElecMeter(instance=18, building=1, dataset='REDD', appliances=[Appliance(type='light', instance=3)])\n",
       "  ElecMeter(instance=19, building=1, dataset='REDD', appliances=[Appliance(type='unknown', instance=2)])\n",
       "  MeterGroup(meters=\n",
       "    ElecMeter(instance=3, building=1, dataset='REDD', appliances=[Appliance(type='electric oven', instance=1)])\n",
       "    ElecMeter(instance=4, building=1, dataset='REDD', appliances=[Appliance(type='electric oven', instance=1)])\n",
       "  )\n",
       "  MeterGroup(meters=\n",
       "    ElecMeter(instance=10, building=1, dataset='REDD', appliances=[Appliance(type='washer dryer', instance=1)])\n",
       "    ElecMeter(instance=20, building=1, dataset='REDD', appliances=[Appliance(type='washer dryer', instance=1)])\n",
       "  )\n",
       ")"
      ]
     },
     "execution_count": 110,
     "metadata": {},
     "output_type": "execute_result"
    }
   ],
   "source": [
    "house_1"
   ]
  },
  {
   "cell_type": "markdown",
   "metadata": {},
   "source": [
    "## Para House_1"
   ]
  },
  {
   "cell_type": "code",
   "execution_count": 272,
   "metadata": {},
   "outputs": [
    {
     "name": "stderr",
     "output_type": "stream",
     "text": [
      "C:\\Users\\josel\\Anaconda3\\envs\\nilmtk-env\\lib\\site-packages\\nilmtk\\elecmeter.py:446: UserWarning: The provided sample_period (1) is shorter than the meter's sample_period (3)\n",
      "  sample_period, default_sample_period\n"
     ]
    },
    {
     "name": "stdout",
     "output_type": "stream",
     "text": [
      "Loading data for meter ElecMeterID(instance=4, building=1, dataset='REDD')     \n",
      "Done loading data all meters for this chunk.\n",
      "Loading data for meter ElecMeterID(instance=20, building=1, dataset='REDD')     \n",
      "Done loading data all meters for this chunk.\n"
     ]
    }
   ],
   "source": [
    "# Cargar datos por dispositivo\n",
    "main_1 = house_1.mains()[1].power_series(**load_kwargs)\n",
    "main_1 = next(main_1)\n",
    "\n",
    "main_2 = house_1.mains()[2].power_series(**load_kwargs)\n",
    "main_2 = next(main_2)\n",
    "\n",
    "fridge_1 = house_1['fridge']\n",
    "fridge_1 = next(fridge_1.power_series(**load_kwargs))\n",
    "\n",
    "dish_washer_1 = house_1['dish washer']\n",
    "dish_washer_1 = next(dish_washer_1.power_series(**load_kwargs))\n",
    "\n",
    "sockets_1 = house_1['sockets',1]\n",
    "sockets_1 = next(sockets_1.power_series(**load_kwargs))\n",
    "\n",
    "sockets_2 = house_1['sockets',2]\n",
    "sockets_2 = next(sockets_2.power_series(**load_kwargs))\n",
    "\n",
    "light_1 = house_1['light',1]\n",
    "light_1 = next(light_1.power_series(**load_kwargs))\n",
    "\n",
    "microwave_1 = house_1['microwave']\n",
    "microwave_1 = next(microwave_1.power_series(**load_kwargs))\n",
    "\n",
    "unknown_1 = house_1['unknown',1]\n",
    "unknown_1 = next(unknown_1.power_series(**load_kwargs))\n",
    "\n",
    "electric_space_heater_1 = house_1['electric space heater'] \n",
    "electric_space_heater_1 = next(electric_space_heater_1.power_series(**load_kwargs))\n",
    "\n",
    "electric_stove_1 = house_1['electric stove']\n",
    "electric_stove_1 = next(electric_stove_1.power_series(**load_kwargs))\n",
    "\n",
    "sockets_3 = house_1['sockets',3]\n",
    "sockets_3 = next(sockets_3.power_series(**load_kwargs))\n",
    "\n",
    "sockets_4 = house_1['sockets',4]\n",
    "sockets_4 = next(sockets_4.power_series(**load_kwargs))\n",
    "\n",
    "light_2 = house_1['light',2]\n",
    "light_2 = next(light_2.power_series(**load_kwargs))\n",
    "\n",
    "light_3 = house_1['light',3]\n",
    "light_3 = next(light_3.power_series(**load_kwargs))\n",
    "\n",
    "unknown_2 = house_1['unknown',2]\n",
    "unknown_2 = next(unknown_2.power_series(**load_kwargs))\n",
    "\n",
    "electric_oven_1 = house_1['electric oven']\n",
    "electric_oven_1 = next(electric_oven_1.power_series(**load_kwargs))\n",
    "\n",
    "washer_dryer_1 = house_1['washer dryer']\n",
    "washer_dryer_1 = next(washer_dryer_1.power_series(**load_kwargs))"
   ]
  },
  {
   "cell_type": "code",
   "execution_count": 284,
   "metadata": {},
   "outputs": [],
   "source": [
    "label_h1 = ['main_1', 'main_2','fridge_1', 'dish washer_1', 'sockets_1','sockets_2', 'light_1', 'microwave_1', 'unknown_1',\n",
    "            'electric_space heater_1', 'electric_stove_1', 'sockets_3', 'sockets_4', 'light_2', 'light_3',\n",
    "            'unknown_2', 'electric_oven_1', 'washer_dryer_1']"
   ]
  },
  {
   "cell_type": "code",
   "execution_count": 285,
   "metadata": {},
   "outputs": [
    {
     "data": {
      "text/plain": [
       "18"
      ]
     },
     "execution_count": 285,
     "metadata": {},
     "output_type": "execute_result"
    }
   ],
   "source": [
    "len(label_h1)"
   ]
  },
  {
   "cell_type": "code",
   "execution_count": 279,
   "metadata": {},
   "outputs": [
    {
     "data": {
      "text/plain": [
       "pandas.core.series.Series"
      ]
     },
     "execution_count": 279,
     "metadata": {},
     "output_type": "execute_result"
    }
   ],
   "source": [
    "type(washer_dryer_1)"
   ]
  },
  {
   "cell_type": "code",
   "execution_count": 282,
   "metadata": {},
   "outputs": [
    {
     "name": "stderr",
     "output_type": "stream",
     "text": [
      "C:\\Users\\josel\\Anaconda3\\envs\\nilmtk-env\\lib\\site-packages\\ipykernel_launcher.py:2: FutureWarning: The signature of `Series.to_csv` was aligned to that of `DataFrame.to_csv`, and argument 'header' will change its default value from False to True: please pass an explicit value to suppress this warning.\n",
      "  \n"
     ]
    }
   ],
   "source": [
    "fridge_1.to_csv('C:\\\\Users\\\\josel\\\\nilmtk_work\\\\NILMTK_Repaso\\\\redd_low_frec\\\\house_1\\\\channel_3.csv', sep = r' ')"
   ]
  },
  {
   "cell_type": "code",
   "execution_count": 290,
   "metadata": {},
   "outputs": [
    {
     "name": "stderr",
     "output_type": "stream",
     "text": [
      "C:\\Users\\josel\\Anaconda3\\envs\\nilmtk-env\\lib\\site-packages\\ipykernel_launcher.py:1: FutureWarning: The signature of `Series.to_csv` was aligned to that of `DataFrame.to_csv`, and argument 'header' will change its default value from False to True: please pass an explicit value to suppress this warning.\n",
      "  \"\"\"Entry point for launching an IPython kernel.\n",
      "C:\\Users\\josel\\Anaconda3\\envs\\nilmtk-env\\lib\\site-packages\\ipykernel_launcher.py:3: FutureWarning: The signature of `Series.to_csv` was aligned to that of `DataFrame.to_csv`, and argument 'header' will change its default value from False to True: please pass an explicit value to suppress this warning.\n",
      "  This is separate from the ipykernel package so we can avoid doing imports until\n",
      "C:\\Users\\josel\\Anaconda3\\envs\\nilmtk-env\\lib\\site-packages\\ipykernel_launcher.py:5: FutureWarning: The signature of `Series.to_csv` was aligned to that of `DataFrame.to_csv`, and argument 'header' will change its default value from False to True: please pass an explicit value to suppress this warning.\n",
      "  \"\"\"\n",
      "C:\\Users\\josel\\Anaconda3\\envs\\nilmtk-env\\lib\\site-packages\\ipykernel_launcher.py:7: FutureWarning: The signature of `Series.to_csv` was aligned to that of `DataFrame.to_csv`, and argument 'header' will change its default value from False to True: please pass an explicit value to suppress this warning.\n",
      "  import sys\n",
      "C:\\Users\\josel\\Anaconda3\\envs\\nilmtk-env\\lib\\site-packages\\ipykernel_launcher.py:9: FutureWarning: The signature of `Series.to_csv` was aligned to that of `DataFrame.to_csv`, and argument 'header' will change its default value from False to True: please pass an explicit value to suppress this warning.\n",
      "  if __name__ == '__main__':\n",
      "C:\\Users\\josel\\Anaconda3\\envs\\nilmtk-env\\lib\\site-packages\\ipykernel_launcher.py:11: FutureWarning: The signature of `Series.to_csv` was aligned to that of `DataFrame.to_csv`, and argument 'header' will change its default value from False to True: please pass an explicit value to suppress this warning.\n",
      "  # This is added back by InteractiveShellApp.init_path()\n",
      "C:\\Users\\josel\\Anaconda3\\envs\\nilmtk-env\\lib\\site-packages\\ipykernel_launcher.py:13: FutureWarning: The signature of `Series.to_csv` was aligned to that of `DataFrame.to_csv`, and argument 'header' will change its default value from False to True: please pass an explicit value to suppress this warning.\n",
      "  del sys.path[0]\n",
      "C:\\Users\\josel\\Anaconda3\\envs\\nilmtk-env\\lib\\site-packages\\ipykernel_launcher.py:15: FutureWarning: The signature of `Series.to_csv` was aligned to that of `DataFrame.to_csv`, and argument 'header' will change its default value from False to True: please pass an explicit value to suppress this warning.\n",
      "  from ipykernel import kernelapp as app\n",
      "C:\\Users\\josel\\Anaconda3\\envs\\nilmtk-env\\lib\\site-packages\\ipykernel_launcher.py:17: FutureWarning: The signature of `Series.to_csv` was aligned to that of `DataFrame.to_csv`, and argument 'header' will change its default value from False to True: please pass an explicit value to suppress this warning.\n",
      "C:\\Users\\josel\\Anaconda3\\envs\\nilmtk-env\\lib\\site-packages\\ipykernel_launcher.py:19: FutureWarning: The signature of `Series.to_csv` was aligned to that of `DataFrame.to_csv`, and argument 'header' will change its default value from False to True: please pass an explicit value to suppress this warning.\n",
      "C:\\Users\\josel\\Anaconda3\\envs\\nilmtk-env\\lib\\site-packages\\ipykernel_launcher.py:21: FutureWarning: The signature of `Series.to_csv` was aligned to that of `DataFrame.to_csv`, and argument 'header' will change its default value from False to True: please pass an explicit value to suppress this warning.\n",
      "C:\\Users\\josel\\Anaconda3\\envs\\nilmtk-env\\lib\\site-packages\\ipykernel_launcher.py:23: FutureWarning: The signature of `Series.to_csv` was aligned to that of `DataFrame.to_csv`, and argument 'header' will change its default value from False to True: please pass an explicit value to suppress this warning.\n",
      "C:\\Users\\josel\\Anaconda3\\envs\\nilmtk-env\\lib\\site-packages\\ipykernel_launcher.py:25: FutureWarning: The signature of `Series.to_csv` was aligned to that of `DataFrame.to_csv`, and argument 'header' will change its default value from False to True: please pass an explicit value to suppress this warning.\n",
      "C:\\Users\\josel\\Anaconda3\\envs\\nilmtk-env\\lib\\site-packages\\ipykernel_launcher.py:27: FutureWarning: The signature of `Series.to_csv` was aligned to that of `DataFrame.to_csv`, and argument 'header' will change its default value from False to True: please pass an explicit value to suppress this warning.\n",
      "C:\\Users\\josel\\Anaconda3\\envs\\nilmtk-env\\lib\\site-packages\\ipykernel_launcher.py:29: FutureWarning: The signature of `Series.to_csv` was aligned to that of `DataFrame.to_csv`, and argument 'header' will change its default value from False to True: please pass an explicit value to suppress this warning.\n",
      "C:\\Users\\josel\\Anaconda3\\envs\\nilmtk-env\\lib\\site-packages\\ipykernel_launcher.py:31: FutureWarning: The signature of `Series.to_csv` was aligned to that of `DataFrame.to_csv`, and argument 'header' will change its default value from False to True: please pass an explicit value to suppress this warning.\n",
      "C:\\Users\\josel\\Anaconda3\\envs\\nilmtk-env\\lib\\site-packages\\ipykernel_launcher.py:33: FutureWarning: The signature of `Series.to_csv` was aligned to that of `DataFrame.to_csv`, and argument 'header' will change its default value from False to True: please pass an explicit value to suppress this warning.\n"
     ]
    }
   ],
   "source": [
    "main_1.to_csv('C:\\\\Users\\\\josel\\\\nilmtk_work\\\\NILMTK_Repaso\\\\redd_low_frec\\\\house_1\\\\channel_1.csv', sep = r' ')\n",
    "\n",
    "main_2.to_csv('C:\\\\Users\\\\josel\\\\nilmtk_work\\\\NILMTK_Repaso\\\\redd_low_frec\\\\house_1\\\\channel_2.csv', sep = r' ')\n",
    "\n",
    "dish_washer_1.to_csv('C:\\\\Users\\\\josel\\\\nilmtk_work\\\\NILMTK_Repaso\\\\redd_low_frec\\\\house_1\\\\channel_4.csv', sep = r' ') \n",
    "\n",
    "sockets_1.to_csv('C:\\\\Users\\\\josel\\\\nilmtk_work\\\\NILMTK_Repaso\\\\redd_low_frec\\\\house_1\\\\channel_5.csv', sep = r' ') \n",
    "\n",
    "sockets_2.to_csv('C:\\\\Users\\\\josel\\\\nilmtk_work\\\\NILMTK_Repaso\\\\redd_low_frec\\\\house_1\\\\channel_6.csv', sep = r' ')\n",
    "\n",
    "light_1.to_csv('C:\\\\Users\\\\josel\\\\nilmtk_work\\\\NILMTK_Repaso\\\\redd_low_frec\\\\house_1\\\\channel_7.csv', sep = r' ') \n",
    "\n",
    "microwave_1.to_csv('C:\\\\Users\\\\josel\\\\nilmtk_work\\\\NILMTK_Repaso\\\\redd_low_frec\\\\house_1\\\\channel_8.csv', sep = r' ') \n",
    "\n",
    "unknown_1.to_csv('C:\\\\Users\\\\josel\\\\nilmtk_work\\\\NILMTK_Repaso\\\\redd_low_frec\\\\house_1\\\\channel_9.csv', sep = r' ') \n",
    "\n",
    "electric_space_heater_1.to_csv('C:\\\\Users\\\\josel\\\\nilmtk_work\\\\NILMTK_Repaso\\\\redd_low_frec\\\\house_1\\\\channel_10.csv', sep = r' ') \n",
    "\n",
    "electric_stove_1.to_csv('C:\\\\Users\\\\josel\\\\nilmtk_work\\\\NILMTK_Repaso\\\\redd_low_frec\\\\house_1\\\\channel_11.csv', sep = r' ') \n",
    "\n",
    "sockets_3.to_csv('C:\\\\Users\\\\josel\\\\nilmtk_work\\\\NILMTK_Repaso\\\\redd_low_frec\\\\house_1\\\\channel_12.csv', sep = r' ')\n",
    "\n",
    "sockets_4.to_csv('C:\\\\Users\\\\josel\\\\nilmtk_work\\\\NILMTK_Repaso\\\\redd_low_frec\\\\house_1\\\\channel_13.csv', sep = r' ') \n",
    "\n",
    "light_2.to_csv('C:\\\\Users\\\\josel\\\\nilmtk_work\\\\NILMTK_Repaso\\\\redd_low_frec\\\\house_1\\\\channel_14.csv', sep = r' ')\n",
    "\n",
    "light_3.to_csv('C:\\\\Users\\\\josel\\\\nilmtk_work\\\\NILMTK_Repaso\\\\redd_low_frec\\\\house_1\\\\channel_15.csv', sep = r' ')\n",
    "\n",
    "unknown_2.to_csv('C:\\\\Users\\\\josel\\\\nilmtk_work\\\\NILMTK_Repaso\\\\redd_low_frec\\\\house_1\\\\channel_16.csv', sep = r' ')\n",
    "\n",
    "electric_oven_1.to_csv('C:\\\\Users\\\\josel\\\\nilmtk_work\\\\NILMTK_Repaso\\\\redd_low_frec\\\\house_1\\\\channel_17.csv', sep = r' ')\n",
    "\n",
    "washer_dryer_1.to_csv('C:\\\\Users\\\\josel\\\\nilmtk_work\\\\NILMTK_Repaso\\\\redd_low_frec\\\\house_1\\\\channel_18.csv', sep = r' ')"
   ]
  },
  {
   "cell_type": "code",
   "execution_count": 292,
   "metadata": {},
   "outputs": [],
   "source": [
    "label_h1 = pd.DataFrame(label_h1)\n",
    "label_h1.to_csv('C:\\\\Users\\\\josel\\\\nilmtk_work\\\\NILMTK_Repaso\\\\redd_low_frec\\\\house_1\\\\labels.csv', sep = r' ',header = None)"
   ]
  },
  {
   "cell_type": "markdown",
   "metadata": {},
   "source": [
    "# HOUSE_2"
   ]
  },
  {
   "cell_type": "code",
   "execution_count": 312,
   "metadata": {},
   "outputs": [
    {
     "data": {
      "text/plain": [
       "MeterGroup(meters=\n",
       "  ElecMeter(instance=1, building=2, dataset='REDD', site_meter, appliances=[])\n",
       "  ElecMeter(instance=2, building=2, dataset='REDD', site_meter, appliances=[])\n",
       "  ElecMeter(instance=3, building=2, dataset='REDD', appliances=[Appliance(type='sockets', instance=1)])\n",
       "  ElecMeter(instance=4, building=2, dataset='REDD', appliances=[Appliance(type='light', instance=1)])\n",
       "  ElecMeter(instance=5, building=2, dataset='REDD', appliances=[Appliance(type='electric stove', instance=1)])\n",
       "  ElecMeter(instance=6, building=2, dataset='REDD', appliances=[Appliance(type='microwave', instance=1)])\n",
       "  ElecMeter(instance=7, building=2, dataset='REDD', appliances=[Appliance(type='washer dryer', instance=1)])\n",
       "  ElecMeter(instance=8, building=2, dataset='REDD', appliances=[Appliance(type='sockets', instance=2)])\n",
       "  ElecMeter(instance=9, building=2, dataset='REDD', appliances=[Appliance(type='fridge', instance=1)])\n",
       "  ElecMeter(instance=10, building=2, dataset='REDD', appliances=[Appliance(type='dish washer', instance=1)])\n",
       "  ElecMeter(instance=11, building=2, dataset='REDD', appliances=[Appliance(type='waste disposal unit', instance=1)])\n",
       ")"
      ]
     },
     "execution_count": 312,
     "metadata": {},
     "output_type": "execute_result"
    }
   ],
   "source": [
    "house_2"
   ]
  },
  {
   "cell_type": "code",
   "execution_count": 313,
   "metadata": {},
   "outputs": [
    {
     "data": {
      "text/plain": [
       "11"
      ]
     },
     "execution_count": 313,
     "metadata": {},
     "output_type": "execute_result"
    }
   ],
   "source": [
    "label_h2 = ['main_1', \n",
    "            'main_2',\n",
    "            'sockets_1',\n",
    "            'light_1',\n",
    "            'electric_stove_1',\n",
    "            'microwave_1',\n",
    "            'washer_dryer_1',\n",
    "            'sockets_2',\n",
    "            'fridge_1',\n",
    "            'dish_washer_1',\n",
    "            'waste_disposal_unit_1']\n",
    "len(label_h2)"
   ]
  },
  {
   "cell_type": "code",
   "execution_count": 314,
   "metadata": {},
   "outputs": [],
   "source": [
    "main_1 = house_2.mains()[1].power_series(**load_kwargs)\n",
    "main_1 = next(main_1)\n",
    "main_2 = house_2.mains()[2].power_series(**load_kwargs)\n",
    "main_2 = next(main_2)"
   ]
  },
  {
   "cell_type": "code",
   "execution_count": 315,
   "metadata": {},
   "outputs": [
    {
     "name": "stderr",
     "output_type": "stream",
     "text": [
      "C:\\Users\\josel\\Anaconda3\\envs\\nilmtk-env\\lib\\site-packages\\nilmtk\\elecmeter.py:446: UserWarning: The provided sample_period (1) is shorter than the meter's sample_period (3)\n",
      "  sample_period, default_sample_period\n"
     ]
    }
   ],
   "source": [
    "sockets_1 = next(house_2['sockets',1].power_series(**load_kwargs))\n",
    "\n",
    "light_1 = next(house_2['light'].power_series(**load_kwargs))\n",
    "\n",
    "electric_stove_1 = next(house_2['electric stove'].power_series(**load_kwargs))\n",
    "\n",
    "microwave_1 = next(house_2['microwave'].power_series(**load_kwargs))\n",
    "\n",
    "washer_dryer_1 = next(house_2['washer dryer'].power_series(**load_kwargs))\n",
    "\n",
    "sockets_2 = next(house_2['sockets',2].power_series(**load_kwargs))\n",
    "\n",
    "fridge_1 = next(house_2['fridge'].power_series(**load_kwargs))\n",
    "\n",
    "dish_washer_1 = next(house_2['dish washer'].power_series(**load_kwargs))\n",
    "\n",
    "waste_disposal_unit_1 = next(house_2['waste disposal unit'].power_series(**load_kwargs))"
   ]
  },
  {
   "cell_type": "code",
   "execution_count": 316,
   "metadata": {},
   "outputs": [
    {
     "name": "stderr",
     "output_type": "stream",
     "text": [
      "C:\\Users\\josel\\Anaconda3\\envs\\nilmtk-env\\lib\\site-packages\\ipykernel_launcher.py:1: FutureWarning: The signature of `Series.to_csv` was aligned to that of `DataFrame.to_csv`, and argument 'header' will change its default value from False to True: please pass an explicit value to suppress this warning.\n",
      "  \"\"\"Entry point for launching an IPython kernel.\n",
      "C:\\Users\\josel\\Anaconda3\\envs\\nilmtk-env\\lib\\site-packages\\ipykernel_launcher.py:3: FutureWarning: The signature of `Series.to_csv` was aligned to that of `DataFrame.to_csv`, and argument 'header' will change its default value from False to True: please pass an explicit value to suppress this warning.\n",
      "  This is separate from the ipykernel package so we can avoid doing imports until\n",
      "C:\\Users\\josel\\Anaconda3\\envs\\nilmtk-env\\lib\\site-packages\\ipykernel_launcher.py:5: FutureWarning: The signature of `Series.to_csv` was aligned to that of `DataFrame.to_csv`, and argument 'header' will change its default value from False to True: please pass an explicit value to suppress this warning.\n",
      "  \"\"\"\n",
      "C:\\Users\\josel\\Anaconda3\\envs\\nilmtk-env\\lib\\site-packages\\ipykernel_launcher.py:7: FutureWarning: The signature of `Series.to_csv` was aligned to that of `DataFrame.to_csv`, and argument 'header' will change its default value from False to True: please pass an explicit value to suppress this warning.\n",
      "  import sys\n",
      "C:\\Users\\josel\\Anaconda3\\envs\\nilmtk-env\\lib\\site-packages\\ipykernel_launcher.py:9: FutureWarning: The signature of `Series.to_csv` was aligned to that of `DataFrame.to_csv`, and argument 'header' will change its default value from False to True: please pass an explicit value to suppress this warning.\n",
      "  if __name__ == '__main__':\n",
      "C:\\Users\\josel\\Anaconda3\\envs\\nilmtk-env\\lib\\site-packages\\ipykernel_launcher.py:11: FutureWarning: The signature of `Series.to_csv` was aligned to that of `DataFrame.to_csv`, and argument 'header' will change its default value from False to True: please pass an explicit value to suppress this warning.\n",
      "  # This is added back by InteractiveShellApp.init_path()\n",
      "C:\\Users\\josel\\Anaconda3\\envs\\nilmtk-env\\lib\\site-packages\\ipykernel_launcher.py:13: FutureWarning: The signature of `Series.to_csv` was aligned to that of `DataFrame.to_csv`, and argument 'header' will change its default value from False to True: please pass an explicit value to suppress this warning.\n",
      "  del sys.path[0]\n",
      "C:\\Users\\josel\\Anaconda3\\envs\\nilmtk-env\\lib\\site-packages\\ipykernel_launcher.py:15: FutureWarning: The signature of `Series.to_csv` was aligned to that of `DataFrame.to_csv`, and argument 'header' will change its default value from False to True: please pass an explicit value to suppress this warning.\n",
      "  from ipykernel import kernelapp as app\n",
      "C:\\Users\\josel\\Anaconda3\\envs\\nilmtk-env\\lib\\site-packages\\ipykernel_launcher.py:17: FutureWarning: The signature of `Series.to_csv` was aligned to that of `DataFrame.to_csv`, and argument 'header' will change its default value from False to True: please pass an explicit value to suppress this warning.\n",
      "C:\\Users\\josel\\Anaconda3\\envs\\nilmtk-env\\lib\\site-packages\\ipykernel_launcher.py:19: FutureWarning: The signature of `Series.to_csv` was aligned to that of `DataFrame.to_csv`, and argument 'header' will change its default value from False to True: please pass an explicit value to suppress this warning.\n",
      "C:\\Users\\josel\\Anaconda3\\envs\\nilmtk-env\\lib\\site-packages\\ipykernel_launcher.py:21: FutureWarning: The signature of `Series.to_csv` was aligned to that of `DataFrame.to_csv`, and argument 'header' will change its default value from False to True: please pass an explicit value to suppress this warning.\n"
     ]
    }
   ],
   "source": [
    "main_1.to_csv('C:\\\\Users\\\\josel\\\\nilmtk_work\\\\NILMTK_Repaso\\\\redd_low_frec\\\\house_2\\\\channel_1.csv', sep = r' ')\n",
    "\n",
    "main_2.to_csv('C:\\\\Users\\\\josel\\\\nilmtk_work\\\\NILMTK_Repaso\\\\redd_low_frec\\\\house_2\\\\channel_2.csv', sep = r' ')\n",
    "\n",
    "sockets_1.to_csv('C:\\\\Users\\\\josel\\\\nilmtk_work\\\\NILMTK_Repaso\\\\redd_low_frec\\\\house_2\\\\channel_3.csv', sep = r' ')\n",
    "\n",
    "light_1.to_csv('C:\\\\Users\\\\josel\\\\nilmtk_work\\\\NILMTK_Repaso\\\\redd_low_frec\\\\house_2\\\\channel_4.csv', sep = r' ')\n",
    "\n",
    "electric_stove_1.to_csv('C:\\\\Users\\\\josel\\\\nilmtk_work\\\\NILMTK_Repaso\\\\redd_low_frec\\\\house_2\\\\channel_5.csv', sep = r' ')\n",
    "\n",
    "microwave_1.to_csv('C:\\\\Users\\\\josel\\\\nilmtk_work\\\\NILMTK_Repaso\\\\redd_low_frec\\\\house_2\\\\channel_6.csv', sep = r' ')\n",
    "\n",
    "washer_dryer_1.to_csv('C:\\\\Users\\\\josel\\\\nilmtk_work\\\\NILMTK_Repaso\\\\redd_low_frec\\\\house_2\\\\channel_7.csv', sep = r' ')\n",
    "\n",
    "sockets_2.to_csv('C:\\\\Users\\\\josel\\\\nilmtk_work\\\\NILMTK_Repaso\\\\redd_low_frec\\\\house_2\\\\channel_8.csv', sep = r' ')\n",
    "\n",
    "fridge_1.to_csv('C:\\\\Users\\\\josel\\\\nilmtk_work\\\\NILMTK_Repaso\\\\redd_low_frec\\\\house_2\\\\channel_9.csv', sep = r' ')\n",
    "\n",
    "dish_washer_1.to_csv('C:\\\\Users\\\\josel\\\\nilmtk_work\\\\NILMTK_Repaso\\\\redd_low_frec\\\\house_2\\\\channel_10.csv', sep = r' ')\n",
    "\n",
    "waste_disposal_unit_1.to_csv('C:\\\\Users\\\\josel\\\\nilmtk_work\\\\NILMTK_Repaso\\\\redd_low_frec\\\\house_2\\\\channel_11.csv', sep = r' ')"
   ]
  },
  {
   "cell_type": "code",
   "execution_count": 317,
   "metadata": {},
   "outputs": [],
   "source": [
    "label_h2 = pd.DataFrame(label_h2)\n",
    "label_h2.to_csv('C:\\\\Users\\\\josel\\\\nilmtk_work\\\\NILMTK_Repaso\\\\redd_low_frec\\\\house_2\\\\labels.csv', sep = r' ',header = None)"
   ]
  },
  {
   "cell_type": "code",
   "execution_count": null,
   "metadata": {},
   "outputs": [],
   "source": []
  },
  {
   "cell_type": "markdown",
   "metadata": {},
   "source": [
    "# HOUSE 3"
   ]
  },
  {
   "cell_type": "code",
   "execution_count": 318,
   "metadata": {},
   "outputs": [
    {
     "data": {
      "text/plain": [
       "MeterGroup(meters=\n",
       "  ElecMeter(instance=1, building=3, dataset='REDD', site_meter, appliances=[])\n",
       "  ElecMeter(instance=2, building=3, dataset='REDD', site_meter, appliances=[])\n",
       "  ElecMeter(instance=3, building=3, dataset='REDD', appliances=[Appliance(type='sockets', instance=1)])\n",
       "  ElecMeter(instance=4, building=3, dataset='REDD', appliances=[Appliance(type='sockets', instance=2)])\n",
       "  ElecMeter(instance=5, building=3, dataset='REDD', appliances=[Appliance(type='light', instance=1)])\n",
       "  ElecMeter(instance=6, building=3, dataset='REDD', appliances=[Appliance(type='CE appliance', instance=1)])\n",
       "  ElecMeter(instance=7, building=3, dataset='REDD', appliances=[Appliance(type='fridge', instance=1)])\n",
       "  ElecMeter(instance=8, building=3, dataset='REDD', appliances=[Appliance(type='waste disposal unit', instance=1)])\n",
       "  ElecMeter(instance=9, building=3, dataset='REDD', appliances=[Appliance(type='dish washer', instance=1)])\n",
       "  ElecMeter(instance=10, building=3, dataset='REDD', appliances=[Appliance(type='electric furnace', instance=1)])\n",
       "  ElecMeter(instance=11, building=3, dataset='REDD', appliances=[Appliance(type='light', instance=2)])\n",
       "  ElecMeter(instance=12, building=3, dataset='REDD', appliances=[Appliance(type='sockets', instance=3)])\n",
       "  ElecMeter(instance=15, building=3, dataset='REDD', appliances=[Appliance(type='light', instance=3)])\n",
       "  ElecMeter(instance=16, building=3, dataset='REDD', appliances=[Appliance(type='microwave', instance=1)])\n",
       "  ElecMeter(instance=17, building=3, dataset='REDD', appliances=[Appliance(type='light', instance=4)])\n",
       "  ElecMeter(instance=18, building=3, dataset='REDD', appliances=[Appliance(type='smoke alarm', instance=1)])\n",
       "  ElecMeter(instance=19, building=3, dataset='REDD', appliances=[Appliance(type='light', instance=5)])\n",
       "  ElecMeter(instance=20, building=3, dataset='REDD', appliances=[Appliance(type='unknown', instance=1)])\n",
       "  ElecMeter(instance=21, building=3, dataset='REDD', appliances=[Appliance(type='sockets', instance=4)])\n",
       "  ElecMeter(instance=22, building=3, dataset='REDD', appliances=[Appliance(type='sockets', instance=5)])\n",
       "  MeterGroup(meters=\n",
       "    ElecMeter(instance=13, building=3, dataset='REDD', appliances=[Appliance(type='washer dryer', instance=1)])\n",
       "    ElecMeter(instance=14, building=3, dataset='REDD', appliances=[Appliance(type='washer dryer', instance=1)])\n",
       "  )\n",
       ")"
      ]
     },
     "execution_count": 318,
     "metadata": {},
     "output_type": "execute_result"
    }
   ],
   "source": [
    "house_3"
   ]
  },
  {
   "cell_type": "code",
   "execution_count": 319,
   "metadata": {},
   "outputs": [
    {
     "data": {
      "text/plain": [
       "21"
      ]
     },
     "execution_count": 319,
     "metadata": {},
     "output_type": "execute_result"
    }
   ],
   "source": [
    "label_h3 = ['main_1','main_2',\n",
    "'sockets_1',\n",
    "'sockets_2',\n",
    "'light_1',\n",
    "'CE_appliance_1',\n",
    "'fridge_1',\n",
    "'waste_disposal_unit_1',\n",
    "'dish_washer_1',\n",
    "'electric_furnace_1',\n",
    "'light_2',\n",
    "'sockets_3',\n",
    "'light_3',\n",
    "'microwave_1',\n",
    "'light_4',\n",
    "'smoke_alarm_1',\n",
    "'light_5',\n",
    "'unknown_1',\n",
    "'sockets_4',\n",
    "'sockets_5',\n",
    "'washer_dryer_1']\n",
    "len(label_h3)"
   ]
  },
  {
   "cell_type": "code",
   "execution_count": 320,
   "metadata": {},
   "outputs": [
    {
     "name": "stderr",
     "output_type": "stream",
     "text": [
      "C:\\Users\\josel\\Anaconda3\\envs\\nilmtk-env\\lib\\site-packages\\nilmtk\\elecmeter.py:446: UserWarning: The provided sample_period (1) is shorter than the meter's sample_period (3)\n",
      "  sample_period, default_sample_period\n"
     ]
    },
    {
     "name": "stdout",
     "output_type": "stream",
     "text": [
      "Loading data for meter ElecMeterID(instance=14, building=3, dataset='REDD')     \n",
      "Done loading data all meters for this chunk.\n"
     ]
    }
   ],
   "source": [
    "sockets_1 =  next(house_3['sockets',1].power_series(**load_kwargs))\n",
    "\n",
    "sockets_2 = next(house_3['sockets',2].power_series(**load_kwargs))\n",
    "\n",
    "light_1 = next(house_3['light',1].power_series(**load_kwargs))\n",
    "\n",
    "CE_appliance_1 = next(house_3['CE appliance'].power_series(**load_kwargs))\n",
    "\n",
    "fridge_1 = next(house_3['fridge'].power_series(**load_kwargs))\n",
    "\n",
    "waste_disposal_unit_1 = next(house_3['waste disposal unit'].power_series(**load_kwargs))\n",
    "\n",
    "dish_washer_1 = next(house_3['dish washer'].power_series(**load_kwargs))\n",
    "\n",
    "electric_furnace_1 = next(house_3['electric furnace'].power_series(**load_kwargs))\n",
    "\n",
    "light_2 = next(house_3['light',2].power_series(**load_kwargs))\n",
    "\n",
    "sockets_3 = next(house_3['sockets',3].power_series(**load_kwargs))\n",
    "\n",
    "light_3 = next(house_3['light',3].power_series(**load_kwargs))\n",
    "\n",
    "microwave_1 = next(house_3['microwave'].power_series(**load_kwargs))\n",
    "\n",
    "light_4 = next(house_3['light',4].power_series(**load_kwargs))\n",
    "\n",
    "smoke_alarm_1 = next(house_3['smoke alarm'].power_series(**load_kwargs))\n",
    "\n",
    "light_5 = next(house_3['light',5].power_series(**load_kwargs))\n",
    "\n",
    "unknown_1 = next(house_3['unknown'].power_series(**load_kwargs))\n",
    "\n",
    "sockets_4 = next(house_3['sockets',4].power_series(**load_kwargs))\n",
    "\n",
    "sockets_5 = next(house_3['sockets',5].power_series(**load_kwargs))\n",
    "\n",
    "washer_dryer_1 = next(house_3['washer dryer'].power_series(**load_kwargs))\n"
   ]
  },
  {
   "cell_type": "code",
   "execution_count": 321,
   "metadata": {},
   "outputs": [
    {
     "name": "stderr",
     "output_type": "stream",
     "text": [
      "C:\\Users\\josel\\Anaconda3\\envs\\nilmtk-env\\lib\\site-packages\\ipykernel_launcher.py:1: FutureWarning: The signature of `Series.to_csv` was aligned to that of `DataFrame.to_csv`, and argument 'header' will change its default value from False to True: please pass an explicit value to suppress this warning.\n",
      "  \"\"\"Entry point for launching an IPython kernel.\n",
      "C:\\Users\\josel\\Anaconda3\\envs\\nilmtk-env\\lib\\site-packages\\ipykernel_launcher.py:3: FutureWarning: The signature of `Series.to_csv` was aligned to that of `DataFrame.to_csv`, and argument 'header' will change its default value from False to True: please pass an explicit value to suppress this warning.\n",
      "  This is separate from the ipykernel package so we can avoid doing imports until\n",
      "C:\\Users\\josel\\Anaconda3\\envs\\nilmtk-env\\lib\\site-packages\\ipykernel_launcher.py:5: FutureWarning: The signature of `Series.to_csv` was aligned to that of `DataFrame.to_csv`, and argument 'header' will change its default value from False to True: please pass an explicit value to suppress this warning.\n",
      "  \"\"\"\n",
      "C:\\Users\\josel\\Anaconda3\\envs\\nilmtk-env\\lib\\site-packages\\ipykernel_launcher.py:7: FutureWarning: The signature of `Series.to_csv` was aligned to that of `DataFrame.to_csv`, and argument 'header' will change its default value from False to True: please pass an explicit value to suppress this warning.\n",
      "  import sys\n",
      "C:\\Users\\josel\\Anaconda3\\envs\\nilmtk-env\\lib\\site-packages\\ipykernel_launcher.py:9: FutureWarning: The signature of `Series.to_csv` was aligned to that of `DataFrame.to_csv`, and argument 'header' will change its default value from False to True: please pass an explicit value to suppress this warning.\n",
      "  if __name__ == '__main__':\n",
      "C:\\Users\\josel\\Anaconda3\\envs\\nilmtk-env\\lib\\site-packages\\ipykernel_launcher.py:11: FutureWarning: The signature of `Series.to_csv` was aligned to that of `DataFrame.to_csv`, and argument 'header' will change its default value from False to True: please pass an explicit value to suppress this warning.\n",
      "  # This is added back by InteractiveShellApp.init_path()\n",
      "C:\\Users\\josel\\Anaconda3\\envs\\nilmtk-env\\lib\\site-packages\\ipykernel_launcher.py:13: FutureWarning: The signature of `Series.to_csv` was aligned to that of `DataFrame.to_csv`, and argument 'header' will change its default value from False to True: please pass an explicit value to suppress this warning.\n",
      "  del sys.path[0]\n",
      "C:\\Users\\josel\\Anaconda3\\envs\\nilmtk-env\\lib\\site-packages\\ipykernel_launcher.py:15: FutureWarning: The signature of `Series.to_csv` was aligned to that of `DataFrame.to_csv`, and argument 'header' will change its default value from False to True: please pass an explicit value to suppress this warning.\n",
      "  from ipykernel import kernelapp as app\n",
      "C:\\Users\\josel\\Anaconda3\\envs\\nilmtk-env\\lib\\site-packages\\ipykernel_launcher.py:17: FutureWarning: The signature of `Series.to_csv` was aligned to that of `DataFrame.to_csv`, and argument 'header' will change its default value from False to True: please pass an explicit value to suppress this warning.\n",
      "C:\\Users\\josel\\Anaconda3\\envs\\nilmtk-env\\lib\\site-packages\\ipykernel_launcher.py:19: FutureWarning: The signature of `Series.to_csv` was aligned to that of `DataFrame.to_csv`, and argument 'header' will change its default value from False to True: please pass an explicit value to suppress this warning.\n",
      "C:\\Users\\josel\\Anaconda3\\envs\\nilmtk-env\\lib\\site-packages\\ipykernel_launcher.py:21: FutureWarning: The signature of `Series.to_csv` was aligned to that of `DataFrame.to_csv`, and argument 'header' will change its default value from False to True: please pass an explicit value to suppress this warning.\n",
      "C:\\Users\\josel\\Anaconda3\\envs\\nilmtk-env\\lib\\site-packages\\ipykernel_launcher.py:23: FutureWarning: The signature of `Series.to_csv` was aligned to that of `DataFrame.to_csv`, and argument 'header' will change its default value from False to True: please pass an explicit value to suppress this warning.\n",
      "C:\\Users\\josel\\Anaconda3\\envs\\nilmtk-env\\lib\\site-packages\\ipykernel_launcher.py:25: FutureWarning: The signature of `Series.to_csv` was aligned to that of `DataFrame.to_csv`, and argument 'header' will change its default value from False to True: please pass an explicit value to suppress this warning.\n",
      "C:\\Users\\josel\\Anaconda3\\envs\\nilmtk-env\\lib\\site-packages\\ipykernel_launcher.py:27: FutureWarning: The signature of `Series.to_csv` was aligned to that of `DataFrame.to_csv`, and argument 'header' will change its default value from False to True: please pass an explicit value to suppress this warning.\n",
      "C:\\Users\\josel\\Anaconda3\\envs\\nilmtk-env\\lib\\site-packages\\ipykernel_launcher.py:29: FutureWarning: The signature of `Series.to_csv` was aligned to that of `DataFrame.to_csv`, and argument 'header' will change its default value from False to True: please pass an explicit value to suppress this warning.\n",
      "C:\\Users\\josel\\Anaconda3\\envs\\nilmtk-env\\lib\\site-packages\\ipykernel_launcher.py:31: FutureWarning: The signature of `Series.to_csv` was aligned to that of `DataFrame.to_csv`, and argument 'header' will change its default value from False to True: please pass an explicit value to suppress this warning.\n",
      "C:\\Users\\josel\\Anaconda3\\envs\\nilmtk-env\\lib\\site-packages\\ipykernel_launcher.py:33: FutureWarning: The signature of `Series.to_csv` was aligned to that of `DataFrame.to_csv`, and argument 'header' will change its default value from False to True: please pass an explicit value to suppress this warning.\n",
      "C:\\Users\\josel\\Anaconda3\\envs\\nilmtk-env\\lib\\site-packages\\ipykernel_launcher.py:35: FutureWarning: The signature of `Series.to_csv` was aligned to that of `DataFrame.to_csv`, and argument 'header' will change its default value from False to True: please pass an explicit value to suppress this warning.\n",
      "C:\\Users\\josel\\Anaconda3\\envs\\nilmtk-env\\lib\\site-packages\\ipykernel_launcher.py:37: FutureWarning: The signature of `Series.to_csv` was aligned to that of `DataFrame.to_csv`, and argument 'header' will change its default value from False to True: please pass an explicit value to suppress this warning.\n",
      "C:\\Users\\josel\\Anaconda3\\envs\\nilmtk-env\\lib\\site-packages\\ipykernel_launcher.py:39: FutureWarning: The signature of `Series.to_csv` was aligned to that of `DataFrame.to_csv`, and argument 'header' will change its default value from False to True: please pass an explicit value to suppress this warning.\n",
      "C:\\Users\\josel\\Anaconda3\\envs\\nilmtk-env\\lib\\site-packages\\ipykernel_launcher.py:41: FutureWarning: The signature of `Series.to_csv` was aligned to that of `DataFrame.to_csv`, and argument 'header' will change its default value from False to True: please pass an explicit value to suppress this warning.\n"
     ]
    }
   ],
   "source": [
    "main_1.to_csv('C:\\\\Users\\\\josel\\\\nilmtk_work\\\\NILMTK_Repaso\\\\redd_low_frec\\\\house_3\\\\channel_1.csv', sep = r' ')\n",
    "\n",
    "main_2.to_csv('C:\\\\Users\\\\josel\\\\nilmtk_work\\\\NILMTK_Repaso\\\\redd_low_frec\\\\house_3\\\\channel_2.csv', sep = r' ')\n",
    "\n",
    "sockets_1.to_csv('C:\\\\Users\\\\josel\\\\nilmtk_work\\\\NILMTK_Repaso\\\\redd_low_frec\\\\house_3\\\\channel_3.csv', sep = r' ')\n",
    "\n",
    "sockets_2.to_csv('C:\\\\Users\\\\josel\\\\nilmtk_work\\\\NILMTK_Repaso\\\\redd_low_frec\\\\house_3\\\\channel_4.csv', sep = r' ')\n",
    "\n",
    "light_1.to_csv('C:\\\\Users\\\\josel\\\\nilmtk_work\\\\NILMTK_Repaso\\\\redd_low_frec\\\\house_3\\\\channel_5.csv', sep = r' ')\n",
    "\n",
    "CE_appliance_1.to_csv('C:\\\\Users\\\\josel\\\\nilmtk_work\\\\NILMTK_Repaso\\\\redd_low_frec\\\\house_3\\\\channel_6.csv', sep = r' ')\n",
    "\n",
    "fridge_1.to_csv('C:\\\\Users\\\\josel\\\\nilmtk_work\\\\NILMTK_Repaso\\\\redd_low_frec\\\\house_3\\\\channel_7.csv', sep = r' ')\n",
    "\n",
    "waste_disposal_unit_1.to_csv('C:\\\\Users\\\\josel\\\\nilmtk_work\\\\NILMTK_Repaso\\\\redd_low_frec\\\\house_3\\\\channel_8.csv', sep = r' ')\n",
    "\n",
    "dish_washer_1.to_csv('C:\\\\Users\\\\josel\\\\nilmtk_work\\\\NILMTK_Repaso\\\\redd_low_frec\\\\house_3\\\\channel_9.csv', sep = r' ')\n",
    "\n",
    "electric_furnace_1.to_csv('C:\\\\Users\\\\josel\\\\nilmtk_work\\\\NILMTK_Repaso\\\\redd_low_frec\\\\house_3\\\\channel_10.csv', sep = r' ')\n",
    "\n",
    "light_2.to_csv('C:\\\\Users\\\\josel\\\\nilmtk_work\\\\NILMTK_Repaso\\\\redd_low_frec\\\\house_3\\\\channel_11.csv', sep = r' ')\n",
    "\n",
    "sockets_3.to_csv('C:\\\\Users\\\\josel\\\\nilmtk_work\\\\NILMTK_Repaso\\\\redd_low_frec\\\\house_3\\\\channel_12.csv', sep = r' ')\n",
    "\n",
    "light_3.to_csv('C:\\\\Users\\\\josel\\\\nilmtk_work\\\\NILMTK_Repaso\\\\redd_low_frec\\\\house_3\\\\channel_13.csv', sep = r' ')\n",
    "\n",
    "microwave_1.to_csv('C:\\\\Users\\\\josel\\\\nilmtk_work\\\\NILMTK_Repaso\\\\redd_low_frec\\\\house_3\\\\channel_14.csv', sep = r' ')\n",
    "\n",
    "light_4.to_csv('C:\\\\Users\\\\josel\\\\nilmtk_work\\\\NILMTK_Repaso\\\\redd_low_frec\\\\house_3\\\\channel_15.csv', sep = r' ')\n",
    "\n",
    "smoke_alarm_1.to_csv('C:\\\\Users\\\\josel\\\\nilmtk_work\\\\NILMTK_Repaso\\\\redd_low_frec\\\\house_3\\\\channel_16.csv', sep = r' ')\n",
    "\n",
    "light_5.to_csv('C:\\\\Users\\\\josel\\\\nilmtk_work\\\\NILMTK_Repaso\\\\redd_low_frec\\\\house_3\\\\channel_17.csv', sep = r' ')\n",
    "\n",
    "unknown_1.to_csv('C:\\\\Users\\\\josel\\\\nilmtk_work\\\\NILMTK_Repaso\\\\redd_low_frec\\\\house_3\\\\channel_18.csv', sep = r' ')\n",
    "\n",
    "sockets_4.to_csv('C:\\\\Users\\\\josel\\\\nilmtk_work\\\\NILMTK_Repaso\\\\redd_low_frec\\\\house_3\\\\channel_19.csv', sep = r' ')\n",
    "\n",
    "sockets_5.to_csv('C:\\\\Users\\\\josel\\\\nilmtk_work\\\\NILMTK_Repaso\\\\redd_low_frec\\\\house_3\\\\channel_20.csv', sep = r' ')\n",
    "\n",
    "washer_dryer_1.to_csv('C:\\\\Users\\\\josel\\\\nilmtk_work\\\\NILMTK_Repaso\\\\redd_low_frec\\\\house_3\\\\channel_21.csv', sep = r' ')"
   ]
  },
  {
   "cell_type": "code",
   "execution_count": 322,
   "metadata": {},
   "outputs": [],
   "source": [
    "label_h3 = pd.DataFrame(label_h3)\n",
    "label_h3.to_csv('C:\\\\Users\\\\josel\\\\nilmtk_work\\\\NILMTK_Repaso\\\\redd_low_frec\\\\house_3\\\\labels.csv', sep = r' ',header = None)"
   ]
  },
  {
   "cell_type": "markdown",
   "metadata": {},
   "source": [
    "# HOUSE 4"
   ]
  },
  {
   "cell_type": "code",
   "execution_count": null,
   "metadata": {},
   "outputs": [],
   "source": [
    "house_4"
   ]
  },
  {
   "cell_type": "code",
   "execution_count": 311,
   "metadata": {},
   "outputs": [
    {
     "data": {
      "text/plain": [
       "19"
      ]
     },
     "execution_count": 311,
     "metadata": {},
     "output_type": "execute_result"
    }
   ],
   "source": [
    "label_h4 = ['main_1',\n",
    "'main_2',\n",
    "'light_1',\n",
    "'electric_furnace_1',\n",
    "'sockets_1',\n",
    "'sockets_2',\n",
    "'washer_dryer_1', \n",
    "'electric_stove_1', \n",
    "'unknown_1',\n",
    "'smoke_alarm_1',\n",
    "'light_1',\n",
    "'sockets_3',\n",
    "'dish_washer_1',\n",
    "'unknown_2',\n",
    "'unknown_3',\n",
    "'light_3', \n",
    "'light_4', \n",
    "'air_conditioner_2', \n",
    "'air_conditioner_1']\n",
    "len(label_h4)"
   ]
  },
  {
   "cell_type": "code",
   "execution_count": 328,
   "metadata": {},
   "outputs": [
    {
     "name": "stderr",
     "output_type": "stream",
     "text": [
      "C:\\Users\\josel\\Anaconda3\\envs\\nilmtk-env\\lib\\site-packages\\nilmtk\\elecmeter.py:446: UserWarning: The provided sample_period (1) is shorter than the meter's sample_period (3)\n",
      "  sample_period, default_sample_period\n"
     ]
    },
    {
     "name": "stdout",
     "output_type": "stream",
     "text": [
      "Loading data for meter ElecMeterID(instance=10, building=4, dataset='REDD')     \n",
      "Done loading data all meters for this chunk.\n"
     ]
    }
   ],
   "source": [
    "main_1 = next(house_4.mains()[1].power_series(**load_kwargs))\n",
    "\n",
    "main_2 = next(house_4.mains()[2].power_series(**load_kwargs))\n",
    "\n",
    "light_1 = next(house_4['light',1].power_series(**load_kwargs))\n",
    "\n",
    "electric_furnace_1 = next(house_4['electric furnace'].power_series(**load_kwargs))\n",
    "\n",
    "sockets_1 = next(house_4['sockets',1].power_series(**load_kwargs))\n",
    "\n",
    "sockets_2 = next(house_4['sockets',2].power_series(**load_kwargs))\n",
    "\n",
    "washer_dryer_1 =  next(house_4['washer dryer'].power_series(**load_kwargs))\n",
    "\n",
    "electric_stove_1 =  next(house_4['electric stove'].power_series(**load_kwargs))\n",
    "\n",
    "unknown_1 = next(house_4['unknown', 1].power_series(**load_kwargs))\n",
    "\n",
    "smoke_alarm_1 = next(house_4['smoke alarm'].power_series(**load_kwargs))\n",
    "\n",
    "light_1 = next(house_4['light',2].power_series(**load_kwargs))\n",
    "\n",
    "sockets_3 = next(house_4['sockets',3].power_series(**load_kwargs))\n",
    "\n",
    "dish_washer_1 = next(house_4['dish washer'].power_series(**load_kwargs))\n",
    "\n",
    "unknown_2 = next(house_4['unknown',2].power_series(**load_kwargs))\n",
    "\n",
    "unknown_3 = next(house_4['unknown',3].power_series(**load_kwargs))\n",
    "\n",
    "light_3 = next(house_4['light', 3].power_series(**load_kwargs))\n",
    "\n",
    "light_4 = next(house_4['light', 4].power_series(**load_kwargs)) \n",
    "\n",
    "air_conditioner_2 = next(house_4['air conditioner', 2].power_series(**load_kwargs))\n",
    "\n",
    "air_conditioner_1 = next(house_4['air conditioner', 1].power_series(**load_kwargs))"
   ]
  },
  {
   "cell_type": "code",
   "execution_count": null,
   "metadata": {},
   "outputs": [],
   "source": [
    "main_1.to_csv('C:\\\\Users\\\\josel\\\\nilmtk_work\\\\NILMTK_Repaso\\\\redd_low_frec\\\\house_4\\\\channel_1.csv', sep = r' ')\n",
    "\n",
    "main_2.to_csv('C:\\\\Users\\\\josel\\\\nilmtk_work\\\\NILMTK_Repaso\\\\redd_low_frec\\\\house_4\\\\channel_2.csv', sep = r' ')\n",
    "\n",
    "light_1.to_csv('C:\\\\Users\\\\josel\\\\nilmtk_work\\\\NILMTK_Repaso\\\\redd_low_frec\\\\house_4\\\\channel_3.csv', sep = r' ')\n",
    "\n",
    "electric_furnace_1.to_csv('C:\\\\Users\\\\josel\\\\nilmtk_work\\\\NILMTK_Repaso\\\\redd_low_frec\\\\house_4\\\\channel_4.csv', sep = r' ')\n",
    "\n",
    "sockets_1.to_csv('C:\\\\Users\\\\josel\\\\nilmtk_work\\\\NILMTK_Repaso\\\\redd_low_frec\\\\house_4\\\\channel_5.csv', sep = r' ')\n",
    "\n",
    "sockets_2.to_csv('C:\\\\Users\\\\josel\\\\nilmtk_work\\\\NILMTK_Repaso\\\\redd_low_frec\\\\house_4\\\\channel_6.csv', sep = r' ')\n",
    "\n",
    "washer_dryer_1.to_csv('C:\\\\Users\\\\josel\\\\nilmtk_work\\\\NILMTK_Repaso\\\\redd_low_frec\\\\house_4\\\\channel_7.csv', sep = r' ')\n",
    "\n",
    "electric_stove_1.to_csv('C:\\\\Users\\\\josel\\\\nilmtk_work\\\\NILMTK_Repaso\\\\redd_low_frec\\\\house_4\\\\channel_8.csv', sep = r' ')\n",
    "\n",
    "unknown_1.to_csv('C:\\\\Users\\\\josel\\\\nilmtk_work\\\\NILMTK_Repaso\\\\redd_low_frec\\\\house_4\\\\channel_9.csv', sep = r' ')\n",
    "\n",
    "smoke_alarm_1.to_csv('C:\\\\Users\\\\josel\\\\nilmtk_work\\\\NILMTK_Repaso\\\\redd_low_frec\\\\house_4\\\\channel_10.csv', sep = r' ')\n",
    "\n",
    "light_1.to_csv('C:\\\\Users\\\\josel\\\\nilmtk_work\\\\NILMTK_Repaso\\\\redd_low_frec\\\\house_4\\\\channel_11.csv', sep = r' ')\n",
    "\n",
    "sockets_3.to_csv('C:\\\\Users\\\\josel\\\\nilmtk_work\\\\NILMTK_Repaso\\\\redd_low_frec\\\\house_4\\\\channel_12.csv', sep = r' ')\n",
    "\n",
    "dish_washer_1.to_csv('C:\\\\Users\\\\josel\\\\nilmtk_work\\\\NILMTK_Repaso\\\\redd_low_frec\\\\house_4\\\\channel_13.csv', sep = r' ')\n",
    "\n",
    "unknown_2.to_csv('C:\\\\Users\\\\josel\\\\nilmtk_work\\\\NILMTK_Repaso\\\\redd_low_frec\\\\house_4\\\\channel_14.csv', sep = r' ')"
   ]
  },
  {
   "cell_type": "code",
   "execution_count": 329,
   "metadata": {},
   "outputs": [
    {
     "name": "stderr",
     "output_type": "stream",
     "text": [
      "C:\\Users\\josel\\Anaconda3\\envs\\nilmtk-env\\lib\\site-packages\\ipykernel_launcher.py:1: FutureWarning: The signature of `Series.to_csv` was aligned to that of `DataFrame.to_csv`, and argument 'header' will change its default value from False to True: please pass an explicit value to suppress this warning.\n",
      "  \"\"\"Entry point for launching an IPython kernel.\n",
      "C:\\Users\\josel\\Anaconda3\\envs\\nilmtk-env\\lib\\site-packages\\ipykernel_launcher.py:3: FutureWarning: The signature of `Series.to_csv` was aligned to that of `DataFrame.to_csv`, and argument 'header' will change its default value from False to True: please pass an explicit value to suppress this warning.\n",
      "  This is separate from the ipykernel package so we can avoid doing imports until\n",
      "C:\\Users\\josel\\Anaconda3\\envs\\nilmtk-env\\lib\\site-packages\\ipykernel_launcher.py:5: FutureWarning: The signature of `Series.to_csv` was aligned to that of `DataFrame.to_csv`, and argument 'header' will change its default value from False to True: please pass an explicit value to suppress this warning.\n",
      "  \"\"\"\n",
      "C:\\Users\\josel\\Anaconda3\\envs\\nilmtk-env\\lib\\site-packages\\ipykernel_launcher.py:7: FutureWarning: The signature of `Series.to_csv` was aligned to that of `DataFrame.to_csv`, and argument 'header' will change its default value from False to True: please pass an explicit value to suppress this warning.\n",
      "  import sys\n",
      "C:\\Users\\josel\\Anaconda3\\envs\\nilmtk-env\\lib\\site-packages\\ipykernel_launcher.py:9: FutureWarning: The signature of `Series.to_csv` was aligned to that of `DataFrame.to_csv`, and argument 'header' will change its default value from False to True: please pass an explicit value to suppress this warning.\n",
      "  if __name__ == '__main__':\n"
     ]
    }
   ],
   "source": [
    "unknown_3.to_csv('C:\\\\Users\\\\josel\\\\nilmtk_work\\\\NILMTK_Repaso\\\\redd_low_frec\\\\house_4\\\\channel_15.csv', sep = r' ')\n",
    "\n",
    "light_3.to_csv('C:\\\\Users\\\\josel\\\\nilmtk_work\\\\NILMTK_Repaso\\\\redd_low_frec\\\\house_4\\\\channel_16.csv', sep = r' ')\n",
    "\n",
    "light_4.to_csv('C:\\\\Users\\\\josel\\\\nilmtk_work\\\\NILMTK_Repaso\\\\redd_low_frec\\\\house_4\\\\channel_17.csv', sep = r' ')\n",
    "\n",
    "air_conditioner_2.to_csv('C:\\\\Users\\\\josel\\\\nilmtk_work\\\\NILMTK_Repaso\\\\redd_low_frec\\\\house_4\\\\channel_18.csv', sep = r' ')\n",
    "\n",
    "air_conditioner_1.to_csv('C:\\\\Users\\\\josel\\\\nilmtk_work\\\\NILMTK_Repaso\\\\redd_low_frec\\\\house_4\\\\channel_19.csv', sep = r' ')"
   ]
  },
  {
   "cell_type": "code",
   "execution_count": 330,
   "metadata": {},
   "outputs": [],
   "source": [
    "label_h4 = pd.DataFrame(label_h4)\n",
    "label_h4.to_csv('C:\\\\Users\\\\josel\\\\nilmtk_work\\\\NILMTK_Repaso\\\\redd_low_frec\\\\house_4\\\\labels.csv', sep = r' ',header = None)"
   ]
  },
  {
   "cell_type": "code",
   "execution_count": null,
   "metadata": {},
   "outputs": [],
   "source": []
  },
  {
   "cell_type": "markdown",
   "metadata": {},
   "source": [
    "# HOUSE 5"
   ]
  },
  {
   "cell_type": "code",
   "execution_count": 331,
   "metadata": {},
   "outputs": [
    {
     "data": {
      "text/plain": [
       "MeterGroup(meters=\n",
       "  ElecMeter(instance=1, building=5, dataset='REDD', site_meter, appliances=[])\n",
       "  ElecMeter(instance=2, building=5, dataset='REDD', site_meter, appliances=[])\n",
       "  ElecMeter(instance=3, building=5, dataset='REDD', appliances=[Appliance(type='microwave', instance=1)])\n",
       "  ElecMeter(instance=4, building=5, dataset='REDD', appliances=[Appliance(type='light', instance=1)])\n",
       "  ElecMeter(instance=5, building=5, dataset='REDD', appliances=[Appliance(type='sockets', instance=1)])\n",
       "  ElecMeter(instance=6, building=5, dataset='REDD', appliances=[Appliance(type='electric furnace', instance=1)])\n",
       "  ElecMeter(instance=7, building=5, dataset='REDD', appliances=[Appliance(type='sockets', instance=2)])\n",
       "  ElecMeter(instance=10, building=5, dataset='REDD', appliances=[Appliance(type='subpanel', instance=1)])\n",
       "  ElecMeter(instance=11, building=5, dataset='REDD', appliances=[Appliance(type='subpanel', instance=2)])\n",
       "  ElecMeter(instance=14, building=5, dataset='REDD', appliances=[Appliance(type='light', instance=2)])\n",
       "  ElecMeter(instance=15, building=5, dataset='REDD', appliances=[Appliance(type='sockets', instance=3)])\n",
       "  ElecMeter(instance=16, building=5, dataset='REDD', appliances=[Appliance(type='unknown', instance=1)])\n",
       "  ElecMeter(instance=17, building=5, dataset='REDD', appliances=[Appliance(type='light', instance=3)])\n",
       "  ElecMeter(instance=18, building=5, dataset='REDD', appliances=[Appliance(type='fridge', instance=1)])\n",
       "  ElecMeter(instance=19, building=5, dataset='REDD', appliances=[Appliance(type='light', instance=4)])\n",
       "  ElecMeter(instance=20, building=5, dataset='REDD', appliances=[Appliance(type='dish washer', instance=1)])\n",
       "  ElecMeter(instance=21, building=5, dataset='REDD', appliances=[Appliance(type='waste disposal unit', instance=1)])\n",
       "  ElecMeter(instance=22, building=5, dataset='REDD', appliances=[Appliance(type='CE appliance', instance=1)])\n",
       "  ElecMeter(instance=23, building=5, dataset='REDD', appliances=[Appliance(type='light', instance=5)])\n",
       "  ElecMeter(instance=24, building=5, dataset='REDD', appliances=[Appliance(type='sockets', instance=4)])\n",
       "  ElecMeter(instance=25, building=5, dataset='REDD', appliances=[Appliance(type='sockets', instance=5)])\n",
       "  ElecMeter(instance=26, building=5, dataset='REDD', appliances=[Appliance(type='sockets', instance=6)])\n",
       "  MeterGroup(meters=\n",
       "    ElecMeter(instance=8, building=5, dataset='REDD', appliances=[Appliance(type='washer dryer', instance=1)])\n",
       "    ElecMeter(instance=9, building=5, dataset='REDD', appliances=[Appliance(type='washer dryer', instance=1)])\n",
       "  )\n",
       "  MeterGroup(meters=\n",
       "    ElecMeter(instance=12, building=5, dataset='REDD', appliances=[Appliance(type='electric space heater', instance=1)])\n",
       "    ElecMeter(instance=13, building=5, dataset='REDD', appliances=[Appliance(type='electric space heater', instance=1)])\n",
       "  )\n",
       ")"
      ]
     },
     "execution_count": 331,
     "metadata": {},
     "output_type": "execute_result"
    }
   ],
   "source": [
    "house_5"
   ]
  },
  {
   "cell_type": "code",
   "execution_count": 332,
   "metadata": {},
   "outputs": [
    {
     "data": {
      "text/plain": [
       "24"
      ]
     },
     "execution_count": 332,
     "metadata": {},
     "output_type": "execute_result"
    }
   ],
   "source": [
    "label_h5 = [\n",
    "'main_1',\n",
    "'main_2',\n",
    "'microwave_1',\n",
    "'light_1',  \n",
    "'sockets_1', \n",
    "'electric_furnace_1',\n",
    "'sockets_2',\n",
    "'subpanel_1',\n",
    "'subpanel_2',\n",
    "'light_2',\n",
    "'sockets_3',\n",
    "'unknown_1',\n",
    "'light_3',\n",
    "'fridge_1',\n",
    "'light_4',\n",
    "'dish_washer_1',\n",
    "'waste_disposal_unit_1',\n",
    "'CE_appliance_1',\n",
    "'light_5',\n",
    "'sockets_4',\n",
    "'sockets_5',\n",
    "'sockets_6',\n",
    "'washer_dryer_1', \n",
    "'electric_space_heater_1']\n",
    "len(label_h5)"
   ]
  },
  {
   "cell_type": "code",
   "execution_count": 333,
   "metadata": {},
   "outputs": [
    {
     "name": "stderr",
     "output_type": "stream",
     "text": [
      "C:\\Users\\josel\\Anaconda3\\envs\\nilmtk-env\\lib\\site-packages\\nilmtk\\elecmeter.py:446: UserWarning: The provided sample_period (1) is shorter than the meter's sample_period (3)\n",
      "  sample_period, default_sample_period\n"
     ]
    },
    {
     "name": "stdout",
     "output_type": "stream",
     "text": [
      "Loading data for meter ElecMeterID(instance=9, building=5, dataset='REDD')     \n",
      "Done loading data all meters for this chunk.\n",
      "Loading data for meter ElecMeterID(instance=13, building=5, dataset='REDD')     \n",
      "Done loading data all meters for this chunk.\n"
     ]
    }
   ],
   "source": [
    "main_1 = next(house_5.mains()[1].power_series(**load_kwargs))\n",
    "main_2 = next(house_5.mains()[2].power_series(**load_kwargs))\n",
    "\n",
    "microwave_1 = next(house_5['microwave'].power_series(**load_kwargs))\n",
    "\n",
    "light_1 = next(house_5['light', 1].power_series(**load_kwargs))\n",
    "\n",
    "sockets_1 = next(house_5['sockets',1].power_series(**load_kwargs))\n",
    "\n",
    "electric_furnace_1 = next(house_5['electric furnace'].power_series(**load_kwargs))\n",
    "\n",
    "sockets_2 = next(house_5['sockets',2].power_series(**load_kwargs))\n",
    "\n",
    "subpanel_1 =  next(house_5['subpanel', 1].power_series(**load_kwargs))\n",
    "\n",
    "subpanel_2 =  next(house_5['subpanel', 2].power_series(**load_kwargs))\n",
    "\n",
    "light_2 =  next(house_5['light', 2].power_series(**load_kwargs))\n",
    "\n",
    "sockets_3 =  next(house_5['sockets', 3].power_series(**load_kwargs))\n",
    "\n",
    "unknown_1 =  next(house_5['unknown'].power_series(**load_kwargs))\n",
    "\n",
    "light_3 =  next(house_5['light', 3].power_series(**load_kwargs))\n",
    "\n",
    "fridge_1 = next(house_5['fridge'].power_series(**load_kwargs)) \n",
    "\n",
    "light_4 = next(house_5['light', 4].power_series(**load_kwargs)) \n",
    "\n",
    "dish_washer_1 = next(house_5['dish washer'].power_series(**load_kwargs))\n",
    "\n",
    "waste_disposal_unit_1 =  next(house_5['waste disposal unit'].power_series(**load_kwargs))\n",
    "\n",
    "CE_appliance_1 =  next(house_5['CE appliance'].power_series(**load_kwargs))\n",
    "\n",
    "light_5 = next(house_5['light', 5].power_series(**load_kwargs))\n",
    "\n",
    "sockets_4 = next(house_5['sockets', 4].power_series(**load_kwargs))\n",
    "\n",
    "sockets_5 = next(house_5['sockets', 5].power_series(**load_kwargs))\n",
    "\n",
    "sockets_6 = next(house_5['sockets', 6].power_series(**load_kwargs))\n",
    "\n",
    "washer_dryer_1 = next(house_5['washer dryer'].power_series(**load_kwargs)) \n",
    "\n",
    "electric_space_heater_1 = next(house_5['electric space heater'].power_series(**load_kwargs))"
   ]
  },
  {
   "cell_type": "code",
   "execution_count": 334,
   "metadata": {},
   "outputs": [
    {
     "name": "stderr",
     "output_type": "stream",
     "text": [
      "C:\\Users\\josel\\Anaconda3\\envs\\nilmtk-env\\lib\\site-packages\\ipykernel_launcher.py:1: FutureWarning: The signature of `Series.to_csv` was aligned to that of `DataFrame.to_csv`, and argument 'header' will change its default value from False to True: please pass an explicit value to suppress this warning.\n",
      "  \"\"\"Entry point for launching an IPython kernel.\n",
      "C:\\Users\\josel\\Anaconda3\\envs\\nilmtk-env\\lib\\site-packages\\ipykernel_launcher.py:2: FutureWarning: The signature of `Series.to_csv` was aligned to that of `DataFrame.to_csv`, and argument 'header' will change its default value from False to True: please pass an explicit value to suppress this warning.\n",
      "  \n",
      "C:\\Users\\josel\\Anaconda3\\envs\\nilmtk-env\\lib\\site-packages\\ipykernel_launcher.py:3: FutureWarning: The signature of `Series.to_csv` was aligned to that of `DataFrame.to_csv`, and argument 'header' will change its default value from False to True: please pass an explicit value to suppress this warning.\n",
      "  This is separate from the ipykernel package so we can avoid doing imports until\n",
      "C:\\Users\\josel\\Anaconda3\\envs\\nilmtk-env\\lib\\site-packages\\ipykernel_launcher.py:4: FutureWarning: The signature of `Series.to_csv` was aligned to that of `DataFrame.to_csv`, and argument 'header' will change its default value from False to True: please pass an explicit value to suppress this warning.\n",
      "  after removing the cwd from sys.path.\n",
      "C:\\Users\\josel\\Anaconda3\\envs\\nilmtk-env\\lib\\site-packages\\ipykernel_launcher.py:5: FutureWarning: The signature of `Series.to_csv` was aligned to that of `DataFrame.to_csv`, and argument 'header' will change its default value from False to True: please pass an explicit value to suppress this warning.\n",
      "  \"\"\"\n",
      "C:\\Users\\josel\\Anaconda3\\envs\\nilmtk-env\\lib\\site-packages\\ipykernel_launcher.py:6: FutureWarning: The signature of `Series.to_csv` was aligned to that of `DataFrame.to_csv`, and argument 'header' will change its default value from False to True: please pass an explicit value to suppress this warning.\n",
      "  \n",
      "C:\\Users\\josel\\Anaconda3\\envs\\nilmtk-env\\lib\\site-packages\\ipykernel_launcher.py:7: FutureWarning: The signature of `Series.to_csv` was aligned to that of `DataFrame.to_csv`, and argument 'header' will change its default value from False to True: please pass an explicit value to suppress this warning.\n",
      "  import sys\n",
      "C:\\Users\\josel\\Anaconda3\\envs\\nilmtk-env\\lib\\site-packages\\ipykernel_launcher.py:8: FutureWarning: The signature of `Series.to_csv` was aligned to that of `DataFrame.to_csv`, and argument 'header' will change its default value from False to True: please pass an explicit value to suppress this warning.\n",
      "  \n",
      "C:\\Users\\josel\\Anaconda3\\envs\\nilmtk-env\\lib\\site-packages\\ipykernel_launcher.py:9: FutureWarning: The signature of `Series.to_csv` was aligned to that of `DataFrame.to_csv`, and argument 'header' will change its default value from False to True: please pass an explicit value to suppress this warning.\n",
      "  if __name__ == '__main__':\n",
      "C:\\Users\\josel\\Anaconda3\\envs\\nilmtk-env\\lib\\site-packages\\ipykernel_launcher.py:10: FutureWarning: The signature of `Series.to_csv` was aligned to that of `DataFrame.to_csv`, and argument 'header' will change its default value from False to True: please pass an explicit value to suppress this warning.\n",
      "  # Remove the CWD from sys.path while we load stuff.\n",
      "C:\\Users\\josel\\Anaconda3\\envs\\nilmtk-env\\lib\\site-packages\\ipykernel_launcher.py:11: FutureWarning: The signature of `Series.to_csv` was aligned to that of `DataFrame.to_csv`, and argument 'header' will change its default value from False to True: please pass an explicit value to suppress this warning.\n",
      "  # This is added back by InteractiveShellApp.init_path()\n",
      "C:\\Users\\josel\\Anaconda3\\envs\\nilmtk-env\\lib\\site-packages\\ipykernel_launcher.py:12: FutureWarning: The signature of `Series.to_csv` was aligned to that of `DataFrame.to_csv`, and argument 'header' will change its default value from False to True: please pass an explicit value to suppress this warning.\n",
      "  if sys.path[0] == '':\n",
      "C:\\Users\\josel\\Anaconda3\\envs\\nilmtk-env\\lib\\site-packages\\ipykernel_launcher.py:13: FutureWarning: The signature of `Series.to_csv` was aligned to that of `DataFrame.to_csv`, and argument 'header' will change its default value from False to True: please pass an explicit value to suppress this warning.\n",
      "  del sys.path[0]\n",
      "C:\\Users\\josel\\Anaconda3\\envs\\nilmtk-env\\lib\\site-packages\\ipykernel_launcher.py:14: FutureWarning: The signature of `Series.to_csv` was aligned to that of `DataFrame.to_csv`, and argument 'header' will change its default value from False to True: please pass an explicit value to suppress this warning.\n",
      "  \n",
      "C:\\Users\\josel\\Anaconda3\\envs\\nilmtk-env\\lib\\site-packages\\ipykernel_launcher.py:15: FutureWarning: The signature of `Series.to_csv` was aligned to that of `DataFrame.to_csv`, and argument 'header' will change its default value from False to True: please pass an explicit value to suppress this warning.\n",
      "  from ipykernel import kernelapp as app\n",
      "C:\\Users\\josel\\Anaconda3\\envs\\nilmtk-env\\lib\\site-packages\\ipykernel_launcher.py:16: FutureWarning: The signature of `Series.to_csv` was aligned to that of `DataFrame.to_csv`, and argument 'header' will change its default value from False to True: please pass an explicit value to suppress this warning.\n",
      "  app.launch_new_instance()\n",
      "C:\\Users\\josel\\Anaconda3\\envs\\nilmtk-env\\lib\\site-packages\\ipykernel_launcher.py:17: FutureWarning: The signature of `Series.to_csv` was aligned to that of `DataFrame.to_csv`, and argument 'header' will change its default value from False to True: please pass an explicit value to suppress this warning.\n",
      "C:\\Users\\josel\\Anaconda3\\envs\\nilmtk-env\\lib\\site-packages\\ipykernel_launcher.py:18: FutureWarning: The signature of `Series.to_csv` was aligned to that of `DataFrame.to_csv`, and argument 'header' will change its default value from False to True: please pass an explicit value to suppress this warning.\n",
      "C:\\Users\\josel\\Anaconda3\\envs\\nilmtk-env\\lib\\site-packages\\ipykernel_launcher.py:19: FutureWarning: The signature of `Series.to_csv` was aligned to that of `DataFrame.to_csv`, and argument 'header' will change its default value from False to True: please pass an explicit value to suppress this warning.\n",
      "C:\\Users\\josel\\Anaconda3\\envs\\nilmtk-env\\lib\\site-packages\\ipykernel_launcher.py:20: FutureWarning: The signature of `Series.to_csv` was aligned to that of `DataFrame.to_csv`, and argument 'header' will change its default value from False to True: please pass an explicit value to suppress this warning.\n",
      "C:\\Users\\josel\\Anaconda3\\envs\\nilmtk-env\\lib\\site-packages\\ipykernel_launcher.py:21: FutureWarning: The signature of `Series.to_csv` was aligned to that of `DataFrame.to_csv`, and argument 'header' will change its default value from False to True: please pass an explicit value to suppress this warning.\n",
      "C:\\Users\\josel\\Anaconda3\\envs\\nilmtk-env\\lib\\site-packages\\ipykernel_launcher.py:22: FutureWarning: The signature of `Series.to_csv` was aligned to that of `DataFrame.to_csv`, and argument 'header' will change its default value from False to True: please pass an explicit value to suppress this warning.\n",
      "C:\\Users\\josel\\Anaconda3\\envs\\nilmtk-env\\lib\\site-packages\\ipykernel_launcher.py:23: FutureWarning: The signature of `Series.to_csv` was aligned to that of `DataFrame.to_csv`, and argument 'header' will change its default value from False to True: please pass an explicit value to suppress this warning.\n",
      "C:\\Users\\josel\\Anaconda3\\envs\\nilmtk-env\\lib\\site-packages\\ipykernel_launcher.py:24: FutureWarning: The signature of `Series.to_csv` was aligned to that of `DataFrame.to_csv`, and argument 'header' will change its default value from False to True: please pass an explicit value to suppress this warning.\n"
     ]
    }
   ],
   "source": [
    "main_1.to_csv('C:\\\\Users\\\\josel\\\\nilmtk_work\\\\NILMTK_Repaso\\\\redd_low_frec\\\\house_5\\\\channel_1.csv', sep = r' ')\n",
    "main_2.to_csv('C:\\\\Users\\\\josel\\\\nilmtk_work\\\\NILMTK_Repaso\\\\redd_low_frec\\\\house_5\\\\channel_2.csv', sep = r' ')\n",
    "microwave_1.to_csv('C:\\\\Users\\\\josel\\\\nilmtk_work\\\\NILMTK_Repaso\\\\redd_low_frec\\\\house_5\\\\channel_3.csv', sep = r' ')\n",
    "light_1.to_csv('C:\\\\Users\\\\josel\\\\nilmtk_work\\\\NILMTK_Repaso\\\\redd_low_frec\\\\house_5\\\\channel_4.csv', sep = r' ')\n",
    "sockets_1.to_csv('C:\\\\Users\\\\josel\\\\nilmtk_work\\\\NILMTK_Repaso\\\\redd_low_frec\\\\house_5\\\\channel_5.csv', sep = r' ')\n",
    "electric_furnace_1.to_csv('C:\\\\Users\\\\josel\\\\nilmtk_work\\\\NILMTK_Repaso\\\\redd_low_frec\\\\house_5\\\\channel_6.csv', sep = r' ')\n",
    "sockets_2.to_csv('C:\\\\Users\\\\josel\\\\nilmtk_work\\\\NILMTK_Repaso\\\\redd_low_frec\\\\house_5\\\\channel_7.csv', sep = r' ')\n",
    "subpanel_1.to_csv('C:\\\\Users\\\\josel\\\\nilmtk_work\\\\NILMTK_Repaso\\\\redd_low_frec\\\\house_5\\\\channel_8.csv', sep = r' ')\n",
    "subpanel_2.to_csv('C:\\\\Users\\\\josel\\\\nilmtk_work\\\\NILMTK_Repaso\\\\redd_low_frec\\\\house_5\\\\channel_9.csv', sep = r' ')\n",
    "light_2.to_csv('C:\\\\Users\\\\josel\\\\nilmtk_work\\\\NILMTK_Repaso\\\\redd_low_frec\\\\house_5\\\\channel_10.csv', sep = r' ')\n",
    "sockets_3.to_csv('C:\\\\Users\\\\josel\\\\nilmtk_work\\\\NILMTK_Repaso\\\\redd_low_frec\\\\house_5\\\\channel_11.csv', sep = r' ')\n",
    "unknown_1.to_csv('C:\\\\Users\\\\josel\\\\nilmtk_work\\\\NILMTK_Repaso\\\\redd_low_frec\\\\house_5\\\\channel_12.csv', sep = r' ')\n",
    "light_3.to_csv('C:\\\\Users\\\\josel\\\\nilmtk_work\\\\NILMTK_Repaso\\\\redd_low_frec\\\\house_5\\\\channel_13.csv', sep = r' ')\n",
    "fridge_1.to_csv('C:\\\\Users\\\\josel\\\\nilmtk_work\\\\NILMTK_Repaso\\\\redd_low_frec\\\\house_5\\\\channel_14.csv', sep = r' ')\n",
    "light_4.to_csv('C:\\\\Users\\\\josel\\\\nilmtk_work\\\\NILMTK_Repaso\\\\redd_low_frec\\\\house_5\\\\channel_15.csv', sep = r' ')\n",
    "dish_washer_1.to_csv('C:\\\\Users\\\\josel\\\\nilmtk_work\\\\NILMTK_Repaso\\\\redd_low_frec\\\\house_5\\\\channel_16.csv', sep = r' ')\n",
    "waste_disposal_unit_1.to_csv('C:\\\\Users\\\\josel\\\\nilmtk_work\\\\NILMTK_Repaso\\\\redd_low_frec\\\\house_5\\\\channel_17.csv', sep = r' ')\n",
    "CE_appliance_1.to_csv('C:\\\\Users\\\\josel\\\\nilmtk_work\\\\NILMTK_Repaso\\\\redd_low_frec\\\\house_5\\\\channel_18.csv', sep = r' ')\n",
    "light_5.to_csv('C:\\\\Users\\\\josel\\\\nilmtk_work\\\\NILMTK_Repaso\\\\redd_low_frec\\\\house_5\\\\channel_19.csv', sep = r' ')\n",
    "sockets_4.to_csv('C:\\\\Users\\\\josel\\\\nilmtk_work\\\\NILMTK_Repaso\\\\redd_low_frec\\\\house_5\\\\channel_20.csv', sep = r' ')\n",
    "sockets_5.to_csv('C:\\\\Users\\\\josel\\\\nilmtk_work\\\\NILMTK_Repaso\\\\redd_low_frec\\\\house_5\\\\channel_21.csv', sep = r' ')\n",
    "sockets_6.to_csv('C:\\\\Users\\\\josel\\\\nilmtk_work\\\\NILMTK_Repaso\\\\redd_low_frec\\\\house_5\\\\channel_22.csv', sep = r' ')\n",
    "washer_dryer_1.to_csv('C:\\\\Users\\\\josel\\\\nilmtk_work\\\\NILMTK_Repaso\\\\redd_low_frec\\\\house_5\\\\channel_23.csv', sep = r' ')\n",
    "electric_space_heater_1.to_csv('C:\\\\Users\\\\josel\\\\nilmtk_work\\\\NILMTK_Repaso\\\\redd_low_frec\\\\house_5\\\\channel_24.csv', sep = r' ')"
   ]
  },
  {
   "cell_type": "code",
   "execution_count": 335,
   "metadata": {},
   "outputs": [],
   "source": [
    "label_h5 = pd.DataFrame(label_h5)\n",
    "label_h5.to_csv('C:\\\\Users\\\\josel\\\\nilmtk_work\\\\NILMTK_Repaso\\\\redd_low_frec\\\\house_5\\\\labels.csv', sep = r' ',header = None)"
   ]
  },
  {
   "cell_type": "code",
   "execution_count": null,
   "metadata": {},
   "outputs": [],
   "source": []
  },
  {
   "cell_type": "markdown",
   "metadata": {},
   "source": [
    "# HOUSE 6"
   ]
  },
  {
   "cell_type": "code",
   "execution_count": 336,
   "metadata": {},
   "outputs": [
    {
     "data": {
      "text/plain": [
       "MeterGroup(meters=\n",
       "  ElecMeter(instance=1, building=6, dataset='REDD', site_meter, appliances=[])\n",
       "  ElecMeter(instance=2, building=6, dataset='REDD', site_meter, appliances=[])\n",
       "  ElecMeter(instance=3, building=6, dataset='REDD', appliances=[Appliance(type='sockets', instance=1)])\n",
       "  ElecMeter(instance=4, building=6, dataset='REDD', appliances=[Appliance(type='washer dryer', instance=1)])\n",
       "  ElecMeter(instance=5, building=6, dataset='REDD', appliances=[Appliance(type='electric stove', instance=1)])\n",
       "  ElecMeter(instance=6, building=6, dataset='REDD', appliances=[Appliance(type='CE appliance', instance=1)])\n",
       "  ElecMeter(instance=7, building=6, dataset='REDD', appliances=[Appliance(type='unknown', instance=1)])\n",
       "  ElecMeter(instance=8, building=6, dataset='REDD', appliances=[Appliance(type='fridge', instance=1)])\n",
       "  ElecMeter(instance=9, building=6, dataset='REDD', appliances=[Appliance(type='dish washer', instance=1)])\n",
       "  ElecMeter(instance=10, building=6, dataset='REDD', appliances=[Appliance(type='sockets', instance=2)])\n",
       "  ElecMeter(instance=11, building=6, dataset='REDD', appliances=[Appliance(type='sockets', instance=3)])\n",
       "  ElecMeter(instance=12, building=6, dataset='REDD', appliances=[Appliance(type='electric space heater', instance=1)])\n",
       "  ElecMeter(instance=13, building=6, dataset='REDD', appliances=[Appliance(type='sockets', instance=4)])\n",
       "  ElecMeter(instance=14, building=6, dataset='REDD', appliances=[Appliance(type='light', instance=1)])\n",
       "  ElecMeter(instance=15, building=6, dataset='REDD', appliances=[Appliance(type='air handling unit', instance=1)])\n",
       "  MeterGroup(meters=\n",
       "    ElecMeter(instance=16, building=6, dataset='REDD', appliances=[Appliance(type='air conditioner', instance=1)])\n",
       "    ElecMeter(instance=17, building=6, dataset='REDD', appliances=[Appliance(type='air conditioner', instance=1)])\n",
       "  )\n",
       ")"
      ]
     },
     "execution_count": 336,
     "metadata": {},
     "output_type": "execute_result"
    }
   ],
   "source": [
    "house_6"
   ]
  },
  {
   "cell_type": "code",
   "execution_count": 6,
   "metadata": {},
   "outputs": [
    {
     "data": {
      "text/plain": [
       "16"
      ]
     },
     "execution_count": 6,
     "metadata": {},
     "output_type": "execute_result"
    }
   ],
   "source": [
    "labels_h6 = [\n",
    "'main_1',\n",
    "'main_2',\n",
    "'sockets_1',\n",
    "'washer_dryer_1',\n",
    "'electric_stove_1',\n",
    "'CE_appliance_1',\n",
    "'unknown_1',\n",
    "'fridge_1',\n",
    "'dish_washer_1', \n",
    "'sockets_2',\n",
    "'sockets_3',\n",
    "'electric_space_heater_1',\n",
    "'sockets_4',\n",
    "'light_1', \n",
    "'air_handling_unit_1',\n",
    "'air_conditioner_1'\n",
    "]\n",
    "len(labels_h6)"
   ]
  },
  {
   "cell_type": "code",
   "execution_count": 338,
   "metadata": {},
   "outputs": [
    {
     "name": "stderr",
     "output_type": "stream",
     "text": [
      "C:\\Users\\josel\\Anaconda3\\envs\\nilmtk-env\\lib\\site-packages\\nilmtk\\elecmeter.py:446: UserWarning: The provided sample_period (1) is shorter than the meter's sample_period (3)\n",
      "  sample_period, default_sample_period\n"
     ]
    },
    {
     "name": "stdout",
     "output_type": "stream",
     "text": [
      "Loading data for meter ElecMeterID(instance=17, building=6, dataset='REDD')     \n",
      "Done loading data all meters for this chunk.\n"
     ]
    }
   ],
   "source": [
    "main_1 = next(house_6.mains()[1].power_series(**load_kwargs))\n",
    "\n",
    "main_2 = next(house_6.mains()[2].power_series(**load_kwargs))\n",
    "\n",
    "sockets_1 = next(house_6['sockets', 1].power_series(**load_kwargs))\n",
    "\n",
    "washer_dryer_1 = next(house_6['washer dryer'].power_series(**load_kwargs))\n",
    "\n",
    "electric_stove_1 = next(house_6['electric stove'].power_series(**load_kwargs))\n",
    "\n",
    "CE_appliance_1 = next(house_6['CE appliance'].power_series(**load_kwargs))\n",
    "\n",
    "unknown_1 = next(house_6['unknown'].power_series(**load_kwargs))\n",
    "\n",
    "fridge_1 = next(house_6['fridge'].power_series(**load_kwargs))\n",
    "\n",
    "dish_washer_1 =  next(house_6['dish washer'].power_series(**load_kwargs))\n",
    "\n",
    "sockets_2 = next(house_6['sockets', 2].power_series(**load_kwargs))\n",
    "\n",
    "sockets_3 = next(house_6['sockets', 3].power_series(**load_kwargs))\n",
    "\n",
    "electric_space_heater_1 = next(house_6['electric space heater'].power_series(**load_kwargs))\n",
    "\n",
    "sockets_4 = next(house_6['sockets', 4].power_series(**load_kwargs))\n",
    "\n",
    "light_1 = next(house_6['light'].power_series(**load_kwargs))\n",
    "\n",
    "air_handling_unit_1 = next(house_6['air handling unit'].power_series(**load_kwargs))\n",
    "\n",
    "air_conditioner_1 = next(house_6['air conditioner'].power_series(**load_kwargs))"
   ]
  },
  {
   "cell_type": "code",
   "execution_count": 339,
   "metadata": {},
   "outputs": [
    {
     "name": "stderr",
     "output_type": "stream",
     "text": [
      "C:\\Users\\josel\\Anaconda3\\envs\\nilmtk-env\\lib\\site-packages\\ipykernel_launcher.py:1: FutureWarning: The signature of `Series.to_csv` was aligned to that of `DataFrame.to_csv`, and argument 'header' will change its default value from False to True: please pass an explicit value to suppress this warning.\n",
      "  \"\"\"Entry point for launching an IPython kernel.\n",
      "C:\\Users\\josel\\Anaconda3\\envs\\nilmtk-env\\lib\\site-packages\\ipykernel_launcher.py:3: FutureWarning: The signature of `Series.to_csv` was aligned to that of `DataFrame.to_csv`, and argument 'header' will change its default value from False to True: please pass an explicit value to suppress this warning.\n",
      "  This is separate from the ipykernel package so we can avoid doing imports until\n",
      "C:\\Users\\josel\\Anaconda3\\envs\\nilmtk-env\\lib\\site-packages\\ipykernel_launcher.py:5: FutureWarning: The signature of `Series.to_csv` was aligned to that of `DataFrame.to_csv`, and argument 'header' will change its default value from False to True: please pass an explicit value to suppress this warning.\n",
      "  \"\"\"\n",
      "C:\\Users\\josel\\Anaconda3\\envs\\nilmtk-env\\lib\\site-packages\\ipykernel_launcher.py:7: FutureWarning: The signature of `Series.to_csv` was aligned to that of `DataFrame.to_csv`, and argument 'header' will change its default value from False to True: please pass an explicit value to suppress this warning.\n",
      "  import sys\n",
      "C:\\Users\\josel\\Anaconda3\\envs\\nilmtk-env\\lib\\site-packages\\ipykernel_launcher.py:9: FutureWarning: The signature of `Series.to_csv` was aligned to that of `DataFrame.to_csv`, and argument 'header' will change its default value from False to True: please pass an explicit value to suppress this warning.\n",
      "  if __name__ == '__main__':\n",
      "C:\\Users\\josel\\Anaconda3\\envs\\nilmtk-env\\lib\\site-packages\\ipykernel_launcher.py:11: FutureWarning: The signature of `Series.to_csv` was aligned to that of `DataFrame.to_csv`, and argument 'header' will change its default value from False to True: please pass an explicit value to suppress this warning.\n",
      "  # This is added back by InteractiveShellApp.init_path()\n",
      "C:\\Users\\josel\\Anaconda3\\envs\\nilmtk-env\\lib\\site-packages\\ipykernel_launcher.py:13: FutureWarning: The signature of `Series.to_csv` was aligned to that of `DataFrame.to_csv`, and argument 'header' will change its default value from False to True: please pass an explicit value to suppress this warning.\n",
      "  del sys.path[0]\n",
      "C:\\Users\\josel\\Anaconda3\\envs\\nilmtk-env\\lib\\site-packages\\ipykernel_launcher.py:15: FutureWarning: The signature of `Series.to_csv` was aligned to that of `DataFrame.to_csv`, and argument 'header' will change its default value from False to True: please pass an explicit value to suppress this warning.\n",
      "  from ipykernel import kernelapp as app\n",
      "C:\\Users\\josel\\Anaconda3\\envs\\nilmtk-env\\lib\\site-packages\\ipykernel_launcher.py:17: FutureWarning: The signature of `Series.to_csv` was aligned to that of `DataFrame.to_csv`, and argument 'header' will change its default value from False to True: please pass an explicit value to suppress this warning.\n",
      "C:\\Users\\josel\\Anaconda3\\envs\\nilmtk-env\\lib\\site-packages\\ipykernel_launcher.py:19: FutureWarning: The signature of `Series.to_csv` was aligned to that of `DataFrame.to_csv`, and argument 'header' will change its default value from False to True: please pass an explicit value to suppress this warning.\n",
      "C:\\Users\\josel\\Anaconda3\\envs\\nilmtk-env\\lib\\site-packages\\ipykernel_launcher.py:21: FutureWarning: The signature of `Series.to_csv` was aligned to that of `DataFrame.to_csv`, and argument 'header' will change its default value from False to True: please pass an explicit value to suppress this warning.\n",
      "C:\\Users\\josel\\Anaconda3\\envs\\nilmtk-env\\lib\\site-packages\\ipykernel_launcher.py:23: FutureWarning: The signature of `Series.to_csv` was aligned to that of `DataFrame.to_csv`, and argument 'header' will change its default value from False to True: please pass an explicit value to suppress this warning.\n",
      "C:\\Users\\josel\\Anaconda3\\envs\\nilmtk-env\\lib\\site-packages\\ipykernel_launcher.py:25: FutureWarning: The signature of `Series.to_csv` was aligned to that of `DataFrame.to_csv`, and argument 'header' will change its default value from False to True: please pass an explicit value to suppress this warning.\n",
      "C:\\Users\\josel\\Anaconda3\\envs\\nilmtk-env\\lib\\site-packages\\ipykernel_launcher.py:27: FutureWarning: The signature of `Series.to_csv` was aligned to that of `DataFrame.to_csv`, and argument 'header' will change its default value from False to True: please pass an explicit value to suppress this warning.\n",
      "C:\\Users\\josel\\Anaconda3\\envs\\nilmtk-env\\lib\\site-packages\\ipykernel_launcher.py:29: FutureWarning: The signature of `Series.to_csv` was aligned to that of `DataFrame.to_csv`, and argument 'header' will change its default value from False to True: please pass an explicit value to suppress this warning.\n",
      "C:\\Users\\josel\\Anaconda3\\envs\\nilmtk-env\\lib\\site-packages\\ipykernel_launcher.py:31: FutureWarning: The signature of `Series.to_csv` was aligned to that of `DataFrame.to_csv`, and argument 'header' will change its default value from False to True: please pass an explicit value to suppress this warning.\n"
     ]
    }
   ],
   "source": [
    "main_1.to_csv('C:\\\\Users\\\\josel\\\\nilmtk_work\\\\NILMTK_Repaso\\\\redd_low_frec\\\\house_6\\\\channel_1.csv', sep = r' ')\n",
    "\n",
    "main_2.to_csv('C:\\\\Users\\\\josel\\\\nilmtk_work\\\\NILMTK_Repaso\\\\redd_low_frec\\\\house_6\\\\channel_2.csv', sep = r' ')\n",
    "\n",
    "sockets_1.to_csv('C:\\\\Users\\\\josel\\\\nilmtk_work\\\\NILMTK_Repaso\\\\redd_low_frec\\\\house_6\\\\channel_3.csv', sep = r' ')\n",
    "\n",
    "washer_dryer_1.to_csv('C:\\\\Users\\\\josel\\\\nilmtk_work\\\\NILMTK_Repaso\\\\redd_low_frec\\\\house_6\\\\channel_4.csv', sep = r' ')\n",
    "\n",
    "electric_stove_1.to_csv('C:\\\\Users\\\\josel\\\\nilmtk_work\\\\NILMTK_Repaso\\\\redd_low_frec\\\\house_6\\\\channel_5.csv', sep = r' ')\n",
    "\n",
    "CE_appliance_1.to_csv('C:\\\\Users\\\\josel\\\\nilmtk_work\\\\NILMTK_Repaso\\\\redd_low_frec\\\\house_6\\\\channel_6.csv', sep = r' ')\n",
    "\n",
    "unknown_1.to_csv('C:\\\\Users\\\\josel\\\\nilmtk_work\\\\NILMTK_Repaso\\\\redd_low_frec\\\\house_6\\\\channel_7.csv', sep = r' ')\n",
    "\n",
    "fridge_1.to_csv('C:\\\\Users\\\\josel\\\\nilmtk_work\\\\NILMTK_Repaso\\\\redd_low_frec\\\\house_6\\\\channel_8.csv', sep = r' ')\n",
    "\n",
    "dish_washer_1.to_csv('C:\\\\Users\\\\josel\\\\nilmtk_work\\\\NILMTK_Repaso\\\\redd_low_frec\\\\house_6\\\\channel_9.csv', sep = r' ')\n",
    "\n",
    "sockets_2.to_csv('C:\\\\Users\\\\josel\\\\nilmtk_work\\\\NILMTK_Repaso\\\\redd_low_frec\\\\house_6\\\\channel_10.csv', sep = r' ')\n",
    "\n",
    "sockets_3.to_csv('C:\\\\Users\\\\josel\\\\nilmtk_work\\\\NILMTK_Repaso\\\\redd_low_frec\\\\house_6\\\\channel_11.csv', sep = r' ')\n",
    "\n",
    "electric_space_heater_1.to_csv('C:\\\\Users\\\\josel\\\\nilmtk_work\\\\NILMTK_Repaso\\\\redd_low_frec\\\\house_6\\\\channel_12.csv', sep = r' ')\n",
    "\n",
    "sockets_4.to_csv('C:\\\\Users\\\\josel\\\\nilmtk_work\\\\NILMTK_Repaso\\\\redd_low_frec\\\\house_6\\\\channel_13.csv', sep = r' ')\n",
    "\n",
    "light_1.to_csv('C:\\\\Users\\\\josel\\\\nilmtk_work\\\\NILMTK_Repaso\\\\redd_low_frec\\\\house_6\\\\channel_14.csv', sep = r' ')\n",
    "\n",
    "air_handling_unit_1.to_csv('C:\\\\Users\\\\josel\\\\nilmtk_work\\\\NILMTK_Repaso\\\\redd_low_frec\\\\house_6\\\\channel_15.csv', sep = r' ')\n",
    "\n",
    "air_conditioner_1.to_csv('C:\\\\Users\\\\josel\\\\nilmtk_work\\\\NILMTK_Repaso\\\\redd_low_frec\\\\house_6\\\\channel_16.csv', sep = r' ')"
   ]
  },
  {
   "cell_type": "code",
   "execution_count": 7,
   "metadata": {},
   "outputs": [],
   "source": [
    "labels_h6 = pd.DataFrame(labels_h6)\n",
    "labels_h6.to_csv('C:\\\\Users\\\\josel\\\\nilmtk_work\\\\NILMTK_Repaso\\\\redd_low_frec\\\\house_6\\\\labels.csv', sep = r' ',header = None)"
   ]
  },
  {
   "cell_type": "code",
   "execution_count": null,
   "metadata": {},
   "outputs": [],
   "source": []
  }
 ],
 "metadata": {
  "kernelspec": {
   "display_name": "nilmtk",
   "language": "python",
   "name": "nilmtk"
  },
  "language_info": {
   "codemirror_mode": {
    "name": "ipython",
    "version": 3
   },
   "file_extension": ".py",
   "mimetype": "text/x-python",
   "name": "python",
   "nbconvert_exporter": "python",
   "pygments_lexer": "ipython3",
   "version": "3.6.11"
  }
 },
 "nbformat": 4,
 "nbformat_minor": 4
}
