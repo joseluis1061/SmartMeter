{
 "cells": [
  {
   "cell_type": "markdown",
   "metadata": {},
   "source": [
    "# P0_Redd Carga de Datos, Limpieza y unión  \n",
    "La base de datos se encuentra fraccionada en archivos de medida para cada dipositivo, y dos medidas de la red general de la casa.\n",
    "Se uniran estos datos en un solo dataframe, con la finalidad de tener medidas ocurridas en el mismo instante de tiempo.  \n",
    "Para esto se usara el metodo merge de la libreria pandas.  \n",
    "Los nuevos dataframes se guardaran en nuevos archivos .csv para evitar este proceso en tareas futuras. "
   ]
  },
  {
   "cell_type": "code",
   "execution_count": 1,
   "metadata": {},
   "outputs": [],
   "source": [
    "#Librerias \n",
    "import pandas as pd\n",
    "import os"
   ]
  },
  {
   "cell_type": "code",
   "execution_count": 2,
   "metadata": {},
   "outputs": [
    {
     "name": "stdout",
     "output_type": "stream",
     "text": [
      "C:\\Users\\josel\\REDD_Pruebas\\low_freq\n",
      "['.ipynb_checkpoints', 'casas.csv', 'casasJRus.pkl', 'data_casas', 'house_1', 'house_2', 'house_3', 'house_4', 'house_5', 'house_6']\n"
     ]
    }
   ],
   "source": [
    "#Ruta de la carpeta base\n",
    "wdirectory = os.getcwd()\n",
    "wdirectory = wdirectory + '\\low_freq'\n",
    "print(f'{wdirectory}')\n",
    "list_dir = os.listdir(wdirectory)\n",
    "print(list_dir)"
   ]
  },
  {
   "cell_type": "code",
   "execution_count": 3,
   "metadata": {},
   "outputs": [
    {
     "name": "stdout",
     "output_type": "stream",
     "text": [
      "['house_1', 'house_2', 'house_3', 'house_4', 'house_5', 'house_6']\n"
     ]
    }
   ],
   "source": [
    "#Casas en low_freq\n",
    "casas = [casa for casa in list_dir if casa.find('house_', 0, len(casa)) != -1]\n",
    "print(casas)"
   ]
  },
  {
   "cell_type": "code",
   "execution_count": 4,
   "metadata": {},
   "outputs": [
    {
     "name": "stdout",
     "output_type": "stream",
     "text": [
      "['C:\\\\Users\\\\josel\\\\REDD_Pruebas\\\\low_freq\\\\house_1', 'C:\\\\Users\\\\josel\\\\REDD_Pruebas\\\\low_freq\\\\house_2', 'C:\\\\Users\\\\josel\\\\REDD_Pruebas\\\\low_freq\\\\house_3', 'C:\\\\Users\\\\josel\\\\REDD_Pruebas\\\\low_freq\\\\house_4', 'C:\\\\Users\\\\josel\\\\REDD_Pruebas\\\\low_freq\\\\house_5', 'C:\\\\Users\\\\josel\\\\REDD_Pruebas\\\\low_freq\\\\house_6']\n"
     ]
    }
   ],
   "source": [
    "#Guardar direcciones de cada casa\n",
    "dir_casas = [os.path.join(wdirectory, casa) for casa in casas]\n",
    "print(dir_casas)"
   ]
  },
  {
   "cell_type": "code",
   "execution_count": 7,
   "metadata": {},
   "outputs": [],
   "source": [
    "#Guardar ruta de direcciones de los dispositivos chanel de cada casa\n",
    "def directorio_dispositivos(casa):\n",
    "    #Direccion de casa\n",
    "    list_devices = os.listdir(dir_casas[casa-1])\n",
    "    max = len(list_devices)\n",
    "    dir_devices = [os.path.join(dir_casas[casa-1], \"channel_\"+str(i) + \".dat\") for i in range(1,max)]\n",
    "    return dir_devices"
   ]
  },
  {
   "cell_type": "code",
   "execution_count": 16,
   "metadata": {},
   "outputs": [
    {
     "name": "stdout",
     "output_type": "stream",
     "text": [
      "['C:\\\\Users\\\\josel\\\\REDD_Pruebas\\\\low_freq\\\\house_1\\\\channel_1.dat', 'C:\\\\Users\\\\josel\\\\REDD_Pruebas\\\\low_freq\\\\house_1\\\\channel_2.dat', 'C:\\\\Users\\\\josel\\\\REDD_Pruebas\\\\low_freq\\\\house_1\\\\channel_3.dat', 'C:\\\\Users\\\\josel\\\\REDD_Pruebas\\\\low_freq\\\\house_1\\\\channel_4.dat', 'C:\\\\Users\\\\josel\\\\REDD_Pruebas\\\\low_freq\\\\house_1\\\\channel_5.dat', 'C:\\\\Users\\\\josel\\\\REDD_Pruebas\\\\low_freq\\\\house_1\\\\channel_6.dat', 'C:\\\\Users\\\\josel\\\\REDD_Pruebas\\\\low_freq\\\\house_1\\\\channel_7.dat', 'C:\\\\Users\\\\josel\\\\REDD_Pruebas\\\\low_freq\\\\house_1\\\\channel_8.dat', 'C:\\\\Users\\\\josel\\\\REDD_Pruebas\\\\low_freq\\\\house_1\\\\channel_9.dat', 'C:\\\\Users\\\\josel\\\\REDD_Pruebas\\\\low_freq\\\\house_1\\\\channel_10.dat', 'C:\\\\Users\\\\josel\\\\REDD_Pruebas\\\\low_freq\\\\house_1\\\\channel_11.dat', 'C:\\\\Users\\\\josel\\\\REDD_Pruebas\\\\low_freq\\\\house_1\\\\channel_12.dat', 'C:\\\\Users\\\\josel\\\\REDD_Pruebas\\\\low_freq\\\\house_1\\\\channel_13.dat', 'C:\\\\Users\\\\josel\\\\REDD_Pruebas\\\\low_freq\\\\house_1\\\\channel_14.dat', 'C:\\\\Users\\\\josel\\\\REDD_Pruebas\\\\low_freq\\\\house_1\\\\channel_15.dat', 'C:\\\\Users\\\\josel\\\\REDD_Pruebas\\\\low_freq\\\\house_1\\\\channel_16.dat', 'C:\\\\Users\\\\josel\\\\REDD_Pruebas\\\\low_freq\\\\house_1\\\\channel_17.dat', 'C:\\\\Users\\\\josel\\\\REDD_Pruebas\\\\low_freq\\\\house_1\\\\channel_18.dat', 'C:\\\\Users\\\\josel\\\\REDD_Pruebas\\\\low_freq\\\\house_1\\\\channel_19.dat', 'C:\\\\Users\\\\josel\\\\REDD_Pruebas\\\\low_freq\\\\house_1\\\\channel_20.dat']\n"
     ]
    }
   ],
   "source": [
    "casa_1 = directorio_dispositivos(1)\n",
    "casa_2 = directorio_dispositivos(2)\n",
    "casa_3 = directorio_dispositivos(3)\n",
    "casa_4 = directorio_dispositivos(4)\n",
    "casa_5 = directorio_dispositivos(5)\n",
    "casa_6 = directorio_dispositivos(6)\n",
    "print(casa_1)"
   ]
  },
  {
   "cell_type": "code",
   "execution_count": 21,
   "metadata": {},
   "outputs": [],
   "source": [
    "#Funcion que lee los nombres de dispositivos en cada casa\n",
    "def nombre_dispositivos(casa):\n",
    "    #directorio de la casa con etiquetas\n",
    "    dir_casa = dir_casas[casa-1] + \"\\\\labels.dat\"    \n",
    "    #Diccionario con nombres dispositivos\n",
    "    label = {}\n",
    "    #Carga el directorio\n",
    "    with open(dir_casa) as f:\n",
    "        #Lee el archivo\n",
    "        for line in f:\n",
    "            #Separo las palabras mediante espacios quedando indice y nombre\n",
    "            splitted_line = line.split(' ')\n",
    "            #Guarda las palabras encontradas usando el indice como key y el nombre como value\n",
    "            label[int(splitted_line[0])] = splitted_line[1].strip() + '_' + splitted_line[0]\n",
    "    #Retorna el diccionario con las etiquetas\n",
    "    return label\n",
    "labels_casa_1 = nombre_dispositivos(1)\n",
    "labels_casa_2 = nombre_dispositivos(2)\n",
    "labels_casa_3 = nombre_dispositivos(3)\n",
    "labels_casa_4 = nombre_dispositivos(4)\n",
    "labels_casa_5 = nombre_dispositivos(5)\n",
    "labels_casa_6 = nombre_dispositivos(6)"
   ]
  },
  {
   "cell_type": "code",
   "execution_count": 22,
   "metadata": {},
   "outputs": [
    {
     "data": {
      "text/plain": [
       "{1: 'mains_1',\n",
       " 2: 'mains_2',\n",
       " 3: 'kitchen_outlets_3',\n",
       " 4: 'washer_dryer_4',\n",
       " 5: 'stove_5',\n",
       " 6: 'electronics_6',\n",
       " 7: 'bathroom_gfi_7',\n",
       " 8: 'refrigerator_8',\n",
       " 9: 'dishwaser_9',\n",
       " 10: 'outlets_unknown_10',\n",
       " 11: 'outlets_unknown_11',\n",
       " 12: 'electric_heat_12',\n",
       " 13: 'kitchen_outlets_13',\n",
       " 14: 'lighting_14',\n",
       " 15: 'air_conditioning_15',\n",
       " 16: 'air_conditioning_16',\n",
       " 17: 'air_conditioning_17'}"
      ]
     },
     "execution_count": 22,
     "metadata": {},
     "output_type": "execute_result"
    }
   ],
   "source": [
    "labels_casa_6"
   ]
  },
  {
   "cell_type": "markdown",
   "metadata": {},
   "source": [
    "## Uniendo Dataframes\n",
    "https://www.analyticslane.com/2018/09/10/unir-y-combinar-dataframes-con-pandas-en-python/"
   ]
  },
  {
   "cell_type": "code",
   "execution_count": 23,
   "metadata": {},
   "outputs": [],
   "source": [
    "#Prueba para una sola casa unir dos canales de casa 1\n",
    "#channel_1 = pd.read_csv(casa_1[0],sep=r' ',encoding='utf-8',names=['UTC_Unix',labels_casa_1[1]],header=None)\n",
    "#channel_2 = pd.read_csv(casa_1[0],sep=r' ',encoding='utf-8',names=['UTC_Unix',labels_casa_1[2]],header=None)\n",
    "#Unir dos dataframes usando como clave el tiempo Unix\n",
    "#nuevo = pd.merge(channel_1, channel_2, how = 'inner', on = 'UTC_Unix')\n",
    "#print(nuevo)"
   ]
  },
  {
   "cell_type": "code",
   "execution_count": 24,
   "metadata": {},
   "outputs": [],
   "source": [
    "#Función para leer y unir dataframes\n",
    "def unir_data(casa, label_casa):\n",
    "\n",
    "    #Cargo la primera columna para tener un valor inicial#\n",
    "    channel_inicial = pd.read_csv(casa[0],sep=r' ',encoding='utf-8',names=['UTC_Unix',label_casa[1]],header=None)\n",
    "\n",
    "    num_devices = len(label_casa)\n",
    "    for device in range(1, num_devices):\n",
    "\n",
    "        channel_A = pd.read_csv(casa[device],sep=r' ',encoding='utf-8',names=['UTC_Unix',label_casa[device+1]],header=None)\n",
    "\n",
    "        channel_inicial = pd.merge(channel_inicial, channel_A,  how = 'inner', on = 'UTC_Unix')\n",
    "\n",
    "        if device == num_devices-1:\n",
    "            #Modificar el formato Utc_time a fecha\n",
    "            channel_inicial[\"UTC_Unix\"] = channel_inicial['UTC_Unix'].astype(\"datetime64[s]\")\n",
    "            #Usar el tiempo como indice del dataset\n",
    "            channel_inicial = channel_inicial.set_index(channel_inicial['UTC_Unix'].values)\n",
    "            #Eliminado el tiempo como columna de los datos\n",
    "            channel_inicial.drop([\"UTC_Unix\"], axis=1, inplace=True)\n",
    "            return channel_inicial\n",
    "            break        "
   ]
  },
  {
   "cell_type": "markdown",
   "metadata": {},
   "source": [
    "Creando los conjuntos para las 6 casas"
   ]
  },
  {
   "cell_type": "code",
   "execution_count": 25,
   "metadata": {},
   "outputs": [],
   "source": [
    "data_casa_1 = unir_data(casa_1, labels_casa_1)\n",
    "data_casa_2 = unir_data(casa_2, labels_casa_2)\n",
    "data_casa_3 = unir_data(casa_3, labels_casa_3)\n",
    "data_casa_4 = unir_data(casa_4, labels_casa_4)\n",
    "data_casa_5 = unir_data(casa_5, labels_casa_5)\n",
    "data_casa_6 = unir_data(casa_6, labels_casa_6)"
   ]
  },
  {
   "cell_type": "code",
   "execution_count": 26,
   "metadata": {},
   "outputs": [
    {
     "name": "stdout",
     "output_type": "stream",
     "text": [
      "Casa 1: <class 'pandas.core.frame.DataFrame'>, (406748, 20)\n",
      "Casa 2: <class 'pandas.core.frame.DataFrame'>, (316840, 11)\n",
      "Casa 3: <class 'pandas.core.frame.DataFrame'>, (376150, 22)\n",
      "Casa 4: <class 'pandas.core.frame.DataFrame'>, (428076, 20)\n",
      "Casa 5: <class 'pandas.core.frame.DataFrame'>, (77451, 26)\n",
      "Casa 6: <class 'pandas.core.frame.DataFrame'>, (192192, 17)\n"
     ]
    }
   ],
   "source": [
    "print(f'Casa 1: {type(data_casa_1)}, {data_casa_1.shape}')\n",
    "print(f'Casa 2: {type(data_casa_2)}, {data_casa_2.shape}')\n",
    "print(f'Casa 3: {type(data_casa_3)}, {data_casa_3.shape}')\n",
    "print(f'Casa 4: {type(data_casa_4)}, {data_casa_4.shape}')\n",
    "print(f'Casa 5: {type(data_casa_5)}, {data_casa_5.shape}')\n",
    "print(f'Casa 6: {type(data_casa_6)}, {data_casa_6.shape}')"
   ]
  },
  {
   "cell_type": "markdown",
   "metadata": {},
   "source": [
    "## Verificando si hay valores NaN\n",
    "En este caso estos valores los tomaremos como 0.  \n",
    "La siguiente función entrega el número de valores NaN en el dataframe"
   ]
  },
  {
   "cell_type": "code",
   "execution_count": 27,
   "metadata": {},
   "outputs": [
    {
     "name": "stdout",
     "output_type": "stream",
     "text": [
      "0\n",
      "0\n",
      "0\n",
      "0\n",
      "0\n",
      "0\n"
     ]
    }
   ],
   "source": [
    "print(data_casa_1.isnull().sum().sum())\n",
    "print(data_casa_2.isnull().sum().sum())\n",
    "print(data_casa_3.isnull().sum().sum())\n",
    "print(data_casa_4.isnull().sum().sum())\n",
    "print(data_casa_5.isnull().sum().sum())\n",
    "print(data_casa_6.isnull().sum().sum())"
   ]
  },
  {
   "cell_type": "markdown",
   "metadata": {},
   "source": [
    "En caso de encontrar alguno lo remplazamos por 0.0, en esta oportunidad no los hay. La siguiente linea de código se usaria para este fin. "
   ]
  },
  {
   "cell_type": "code",
   "execution_count": 28,
   "metadata": {},
   "outputs": [],
   "source": [
    "#data_casa_1.fillna(0.0)"
   ]
  },
  {
   "cell_type": "markdown",
   "metadata": {},
   "source": [
    "## Guardar conjuntos de datos\n",
    "Se hace para evitar el poceso de Unión ya que consume tiempo  \n",
    "https://recursospython.com/guias-y-manuales/os-shutil-archivos-carpetas/"
   ]
  },
  {
   "cell_type": "code",
   "execution_count": null,
   "metadata": {},
   "outputs": [],
   "source": [
    "#Crear carpeta para los archivos condensados de cada casa\n",
    "new_directory = os.getcwd()\n",
    "#print(new_directory + \"\\\\low_freq\\\\data_casas\")\n",
    "os.makedirs(new_directory + \"\\\\low_freq\\\\data_casas\")"
   ]
  },
  {
   "cell_type": "code",
   "execution_count": null,
   "metadata": {},
   "outputs": [],
   "source": [
    "#os.removedirs(new_directory + \"\\\\low_freq\\\\data_casas\")"
   ]
  },
  {
   "cell_type": "markdown",
   "metadata": {},
   "source": [
    "Guardando los datos en formato csv con encabezado e indice  \n",
    "https://pandas.pydata.org/pandas-docs/stable/reference/api/pandas.read_csv.html"
   ]
  },
  {
   "cell_type": "code",
   "execution_count": null,
   "metadata": {},
   "outputs": [],
   "source": [
    "data_casa_1.to_csv(new_directory + \"\\\\low_freq\\\\data_casas\\\\data_casa_1.csv\", index=True,sep=r' ',header=True, encoding='utf-8')\n",
    "data_casa_2.to_csv(new_directory + \"\\\\low_freq\\\\data_casas\\\\data_casa_2.csv\", index=True,sep=r' ',header=True, encoding='utf-8')\n",
    "data_casa_3.to_csv(new_directory + \"\\\\low_freq\\\\data_casas\\\\data_casa_3.csv\", index=True,sep=r' ',header=True, encoding='utf-8')\n",
    "data_casa_4.to_csv(new_directory + \"\\\\low_freq\\\\data_casas\\\\data_casa_4.csv\", index=True,sep=r' ',header=True, encoding='utf-8')\n",
    "data_casa_5.to_csv(new_directory + \"\\\\low_freq\\\\data_casas\\\\data_casa_5.csv\", index=True,sep=r' ',header=True, encoding='utf-8')\n",
    "data_casa_6.to_csv(new_directory + \"\\\\low_freq\\\\data_casas\\\\data_casa_6.csv\", index=True,sep=r' ',header=True, encoding='utf-8')"
   ]
  },
  {
   "cell_type": "markdown",
   "metadata": {},
   "source": [
    "Probando que los archivos se guardaron de manera correcta y conservan la información"
   ]
  },
  {
   "cell_type": "code",
   "execution_count": null,
   "metadata": {},
   "outputs": [],
   "source": [
    "data_casa_1 = pd.read_csv(new_directory + \"\\\\low_freq\\\\data_casas\\\\data_casa_1.csv\",sep=r' ',encoding='utf-8',header=0, index_col = 0)\n",
    "data_casa_2 = pd.read_csv(new_directory + \"\\\\low_freq\\\\data_casas\\\\data_casa_2.csv\",sep=r' ',encoding='utf-8',header=0, index_col = 0)\n",
    "data_casa_3 = pd.read_csv(new_directory + \"\\\\low_freq\\\\data_casas\\\\data_casa_3.csv\",sep=r' ',encoding='utf-8',header=0, index_col = 0)\n",
    "data_casa_4 = pd.read_csv(new_directory + \"\\\\low_freq\\\\data_casas\\\\data_casa_4.csv\",sep=r' ',encoding='utf-8',header=0, index_col = 0)\n",
    "data_casa_5 = pd.read_csv(new_directory + \"\\\\low_freq\\\\data_casas\\\\data_casa_5.csv\",sep=r' ',encoding='utf-8',header=0, index_col = 0)\n",
    "data_casa_6 = pd.read_csv(new_directory + \"\\\\low_freq\\\\data_casas\\\\data_casa_6.csv\",sep=r' ',encoding='utf-8',header=0, index_col = 0)\n"
   ]
  },
  {
   "cell_type": "code",
   "execution_count": 30,
   "metadata": {},
   "outputs": [
    {
     "data": {
      "text/html": [
       "<div>\n",
       "<style scoped>\n",
       "    .dataframe tbody tr th:only-of-type {\n",
       "        vertical-align: middle;\n",
       "    }\n",
       "\n",
       "    .dataframe tbody tr th {\n",
       "        vertical-align: top;\n",
       "    }\n",
       "\n",
       "    .dataframe thead th {\n",
       "        text-align: right;\n",
       "    }\n",
       "</style>\n",
       "<table border=\"1\" class=\"dataframe\">\n",
       "  <thead>\n",
       "    <tr style=\"text-align: right;\">\n",
       "      <th></th>\n",
       "      <th>mains_1</th>\n",
       "      <th>mains_2</th>\n",
       "      <th>oven_3</th>\n",
       "      <th>oven_4</th>\n",
       "      <th>refrigerator_5</th>\n",
       "      <th>dishwaser_6</th>\n",
       "      <th>kitchen_outlets_7</th>\n",
       "      <th>kitchen_outlets_8</th>\n",
       "      <th>lighting_9</th>\n",
       "      <th>washer_dryer_10</th>\n",
       "      <th>microwave_11</th>\n",
       "      <th>bathroom_gfi_12</th>\n",
       "      <th>electric_heat_13</th>\n",
       "      <th>stove_14</th>\n",
       "      <th>kitchen_outlets_15</th>\n",
       "      <th>kitchen_outlets_16</th>\n",
       "      <th>lighting_17</th>\n",
       "      <th>lighting_18</th>\n",
       "      <th>washer_dryer_19</th>\n",
       "      <th>washer_dryer_20</th>\n",
       "    </tr>\n",
       "  </thead>\n",
       "  <tbody>\n",
       "    <tr>\n",
       "      <th>2011-04-18 13:22:13</th>\n",
       "      <td>222.20</td>\n",
       "      <td>118.83</td>\n",
       "      <td>0.0</td>\n",
       "      <td>0.0</td>\n",
       "      <td>6.0</td>\n",
       "      <td>0.0</td>\n",
       "      <td>34.0</td>\n",
       "      <td>21.0</td>\n",
       "      <td>81.0</td>\n",
       "      <td>0.0</td>\n",
       "      <td>5.0</td>\n",
       "      <td>1.0</td>\n",
       "      <td>0.0</td>\n",
       "      <td>0.0</td>\n",
       "      <td>2.0</td>\n",
       "      <td>0.0</td>\n",
       "      <td>65.0</td>\n",
       "      <td>46.0</td>\n",
       "      <td>0.0</td>\n",
       "      <td>0.0</td>\n",
       "    </tr>\n",
       "    <tr>\n",
       "      <th>2011-04-18 13:22:16</th>\n",
       "      <td>223.17</td>\n",
       "      <td>119.19</td>\n",
       "      <td>0.0</td>\n",
       "      <td>0.0</td>\n",
       "      <td>6.0</td>\n",
       "      <td>0.0</td>\n",
       "      <td>34.0</td>\n",
       "      <td>21.0</td>\n",
       "      <td>81.0</td>\n",
       "      <td>0.0</td>\n",
       "      <td>5.0</td>\n",
       "      <td>1.0</td>\n",
       "      <td>0.0</td>\n",
       "      <td>0.0</td>\n",
       "      <td>2.0</td>\n",
       "      <td>0.0</td>\n",
       "      <td>65.0</td>\n",
       "      <td>46.0</td>\n",
       "      <td>0.0</td>\n",
       "      <td>0.0</td>\n",
       "    </tr>\n",
       "    <tr>\n",
       "      <th>2011-04-18 13:22:20</th>\n",
       "      <td>223.60</td>\n",
       "      <td>118.92</td>\n",
       "      <td>0.0</td>\n",
       "      <td>0.0</td>\n",
       "      <td>6.0</td>\n",
       "      <td>0.0</td>\n",
       "      <td>34.0</td>\n",
       "      <td>22.0</td>\n",
       "      <td>81.0</td>\n",
       "      <td>0.0</td>\n",
       "      <td>5.0</td>\n",
       "      <td>1.0</td>\n",
       "      <td>0.0</td>\n",
       "      <td>0.0</td>\n",
       "      <td>2.0</td>\n",
       "      <td>0.0</td>\n",
       "      <td>65.0</td>\n",
       "      <td>46.0</td>\n",
       "      <td>0.0</td>\n",
       "      <td>0.0</td>\n",
       "    </tr>\n",
       "    <tr>\n",
       "      <th>2011-04-18 13:22:23</th>\n",
       "      <td>222.91</td>\n",
       "      <td>119.16</td>\n",
       "      <td>0.0</td>\n",
       "      <td>0.0</td>\n",
       "      <td>6.0</td>\n",
       "      <td>1.0</td>\n",
       "      <td>35.0</td>\n",
       "      <td>21.0</td>\n",
       "      <td>81.0</td>\n",
       "      <td>0.0</td>\n",
       "      <td>5.0</td>\n",
       "      <td>1.0</td>\n",
       "      <td>0.0</td>\n",
       "      <td>0.0</td>\n",
       "      <td>1.0</td>\n",
       "      <td>0.0</td>\n",
       "      <td>65.0</td>\n",
       "      <td>46.0</td>\n",
       "      <td>0.0</td>\n",
       "      <td>0.0</td>\n",
       "    </tr>\n",
       "    <tr>\n",
       "      <th>2011-04-18 13:22:26</th>\n",
       "      <td>222.94</td>\n",
       "      <td>118.83</td>\n",
       "      <td>0.0</td>\n",
       "      <td>0.0</td>\n",
       "      <td>6.0</td>\n",
       "      <td>0.0</td>\n",
       "      <td>34.0</td>\n",
       "      <td>21.0</td>\n",
       "      <td>81.0</td>\n",
       "      <td>0.0</td>\n",
       "      <td>5.0</td>\n",
       "      <td>1.0</td>\n",
       "      <td>0.0</td>\n",
       "      <td>0.0</td>\n",
       "      <td>2.0</td>\n",
       "      <td>0.0</td>\n",
       "      <td>65.0</td>\n",
       "      <td>46.0</td>\n",
       "      <td>0.0</td>\n",
       "      <td>0.0</td>\n",
       "    </tr>\n",
       "  </tbody>\n",
       "</table>\n",
       "</div>"
      ],
      "text/plain": [
       "                     mains_1  mains_2  oven_3  oven_4  refrigerator_5  \\\n",
       "2011-04-18 13:22:13   222.20   118.83     0.0     0.0             6.0   \n",
       "2011-04-18 13:22:16   223.17   119.19     0.0     0.0             6.0   \n",
       "2011-04-18 13:22:20   223.60   118.92     0.0     0.0             6.0   \n",
       "2011-04-18 13:22:23   222.91   119.16     0.0     0.0             6.0   \n",
       "2011-04-18 13:22:26   222.94   118.83     0.0     0.0             6.0   \n",
       "\n",
       "                     dishwaser_6  kitchen_outlets_7  kitchen_outlets_8  \\\n",
       "2011-04-18 13:22:13          0.0               34.0               21.0   \n",
       "2011-04-18 13:22:16          0.0               34.0               21.0   \n",
       "2011-04-18 13:22:20          0.0               34.0               22.0   \n",
       "2011-04-18 13:22:23          1.0               35.0               21.0   \n",
       "2011-04-18 13:22:26          0.0               34.0               21.0   \n",
       "\n",
       "                     lighting_9  washer_dryer_10  microwave_11  \\\n",
       "2011-04-18 13:22:13        81.0              0.0           5.0   \n",
       "2011-04-18 13:22:16        81.0              0.0           5.0   \n",
       "2011-04-18 13:22:20        81.0              0.0           5.0   \n",
       "2011-04-18 13:22:23        81.0              0.0           5.0   \n",
       "2011-04-18 13:22:26        81.0              0.0           5.0   \n",
       "\n",
       "                     bathroom_gfi_12  electric_heat_13  stove_14  \\\n",
       "2011-04-18 13:22:13              1.0               0.0       0.0   \n",
       "2011-04-18 13:22:16              1.0               0.0       0.0   \n",
       "2011-04-18 13:22:20              1.0               0.0       0.0   \n",
       "2011-04-18 13:22:23              1.0               0.0       0.0   \n",
       "2011-04-18 13:22:26              1.0               0.0       0.0   \n",
       "\n",
       "                     kitchen_outlets_15  kitchen_outlets_16  lighting_17  \\\n",
       "2011-04-18 13:22:13                 2.0                 0.0         65.0   \n",
       "2011-04-18 13:22:16                 2.0                 0.0         65.0   \n",
       "2011-04-18 13:22:20                 2.0                 0.0         65.0   \n",
       "2011-04-18 13:22:23                 1.0                 0.0         65.0   \n",
       "2011-04-18 13:22:26                 2.0                 0.0         65.0   \n",
       "\n",
       "                     lighting_18  washer_dryer_19  washer_dryer_20  \n",
       "2011-04-18 13:22:13         46.0              0.0              0.0  \n",
       "2011-04-18 13:22:16         46.0              0.0              0.0  \n",
       "2011-04-18 13:22:20         46.0              0.0              0.0  \n",
       "2011-04-18 13:22:23         46.0              0.0              0.0  \n",
       "2011-04-18 13:22:26         46.0              0.0              0.0  "
      ]
     },
     "execution_count": 30,
     "metadata": {},
     "output_type": "execute_result"
    }
   ],
   "source": [
    "data_casa_1.head()"
   ]
  },
  {
   "cell_type": "markdown",
   "metadata": {},
   "source": [
    "Análisis de datos\n",
    "https://datacarpentry.org/python-ecology-lesson-es/02-starting-with-data/"
   ]
  },
  {
   "cell_type": "markdown",
   "metadata": {},
   "source": [
    "## Normalizar datos matriciales y guardar datos \n",
    "\n",
    "La normalización de los datos en forma de mátriz se usara posteriormente para mejorar el comportamiento de los algoritmos y mejorar la precisión de los resultados.  \n",
    "La normalización consiste en tener valores entre cero y uno, donde cero representa el menor valor de los datos y uno representa el mayor valor en el rango de valores de los datos. \n",
    "\n",
    "$X_{norm}$ = $\\frac{X - X_{min}}{X_{max} - X{min}}$\n",
    "\n",
    "En este caso se normalizara toda la matriz de datos y no se tomara la normalización por columnas, debido a que los datos se relacionan directamente entre ellos"
   ]
  },
  {
   "cell_type": "code",
   "execution_count": 54,
   "metadata": {},
   "outputs": [],
   "source": [
    "#Función de normalizacion matricial\n",
    "def normalizacion_matricial(matriz):\n",
    "    maximo = matriz.max()\n",
    "    minimo = matriz.min()\n",
    "    #print(f'maximo {maximo}')\n",
    "    #print(f'minimo {minimo}')\n",
    "    #print((matriz -  minimo) / (maximo - minimo))\n",
    "    return (matriz -  minimo) / (maximo - minimo)"
   ]
  },
  {
   "cell_type": "code",
   "execution_count": 55,
   "metadata": {},
   "outputs": [],
   "source": [
    "casa_1Norm = normalizacion_matricial(data_casa_1)\n",
    "casa_2Norm = normalizacion_matricial(data_casa_2)\n",
    "casa_3Norm = normalizacion_matricial(data_casa_3)\n",
    "casa_4Norm = normalizacion_matricial(data_casa_4)\n",
    "casa_5Norm = normalizacion_matricial(data_casa_5)\n",
    "casa_6Norm = normalizacion_matricial(data_casa_6)"
   ]
  },
  {
   "cell_type": "code",
   "execution_count": 56,
   "metadata": {},
   "outputs": [
    {
     "data": {
      "text/html": [
       "<div>\n",
       "<style scoped>\n",
       "    .dataframe tbody tr th:only-of-type {\n",
       "        vertical-align: middle;\n",
       "    }\n",
       "\n",
       "    .dataframe tbody tr th {\n",
       "        vertical-align: top;\n",
       "    }\n",
       "\n",
       "    .dataframe thead th {\n",
       "        text-align: right;\n",
       "    }\n",
       "</style>\n",
       "<table border=\"1\" class=\"dataframe\">\n",
       "  <thead>\n",
       "    <tr style=\"text-align: right;\">\n",
       "      <th></th>\n",
       "      <th>mains_1</th>\n",
       "      <th>mains_2</th>\n",
       "      <th>oven_3</th>\n",
       "      <th>oven_4</th>\n",
       "      <th>refrigerator_5</th>\n",
       "      <th>dishwaser_6</th>\n",
       "      <th>kitchen_outlets_7</th>\n",
       "      <th>kitchen_outlets_8</th>\n",
       "      <th>lighting_9</th>\n",
       "      <th>washer_dryer_10</th>\n",
       "      <th>microwave_11</th>\n",
       "      <th>bathroom_gfi_12</th>\n",
       "      <th>electric_heat_13</th>\n",
       "      <th>stove_14</th>\n",
       "      <th>kitchen_outlets_15</th>\n",
       "      <th>kitchen_outlets_16</th>\n",
       "      <th>lighting_17</th>\n",
       "      <th>lighting_18</th>\n",
       "      <th>washer_dryer_19</th>\n",
       "      <th>washer_dryer_20</th>\n",
       "    </tr>\n",
       "  </thead>\n",
       "  <tbody>\n",
       "    <tr>\n",
       "      <th>2011-04-18 13:22:13</th>\n",
       "      <td>0.028249</td>\n",
       "      <td>0.013134</td>\n",
       "      <td>0.0</td>\n",
       "      <td>0.0</td>\n",
       "      <td>0.002543</td>\n",
       "      <td>0.000000</td>\n",
       "      <td>0.519231</td>\n",
       "      <td>0.011635</td>\n",
       "      <td>0.22314</td>\n",
       "      <td>0.0</td>\n",
       "      <td>0.001377</td>\n",
       "      <td>0.000593</td>\n",
       "      <td>0.0</td>\n",
       "      <td>0.0</td>\n",
       "      <td>0.001789</td>\n",
       "      <td>0.0</td>\n",
       "      <td>0.580357</td>\n",
       "      <td>0.511111</td>\n",
       "      <td>0.0</td>\n",
       "      <td>0.0</td>\n",
       "    </tr>\n",
       "    <tr>\n",
       "      <th>2011-04-18 13:22:16</th>\n",
       "      <td>0.028410</td>\n",
       "      <td>0.013192</td>\n",
       "      <td>0.0</td>\n",
       "      <td>0.0</td>\n",
       "      <td>0.002543</td>\n",
       "      <td>0.000000</td>\n",
       "      <td>0.519231</td>\n",
       "      <td>0.011635</td>\n",
       "      <td>0.22314</td>\n",
       "      <td>0.0</td>\n",
       "      <td>0.001377</td>\n",
       "      <td>0.000593</td>\n",
       "      <td>0.0</td>\n",
       "      <td>0.0</td>\n",
       "      <td>0.001789</td>\n",
       "      <td>0.0</td>\n",
       "      <td>0.580357</td>\n",
       "      <td>0.511111</td>\n",
       "      <td>0.0</td>\n",
       "      <td>0.0</td>\n",
       "    </tr>\n",
       "    <tr>\n",
       "      <th>2011-04-18 13:22:20</th>\n",
       "      <td>0.028482</td>\n",
       "      <td>0.013148</td>\n",
       "      <td>0.0</td>\n",
       "      <td>0.0</td>\n",
       "      <td>0.002543</td>\n",
       "      <td>0.000000</td>\n",
       "      <td>0.519231</td>\n",
       "      <td>0.012282</td>\n",
       "      <td>0.22314</td>\n",
       "      <td>0.0</td>\n",
       "      <td>0.001377</td>\n",
       "      <td>0.000593</td>\n",
       "      <td>0.0</td>\n",
       "      <td>0.0</td>\n",
       "      <td>0.001789</td>\n",
       "      <td>0.0</td>\n",
       "      <td>0.580357</td>\n",
       "      <td>0.511111</td>\n",
       "      <td>0.0</td>\n",
       "      <td>0.0</td>\n",
       "    </tr>\n",
       "    <tr>\n",
       "      <th>2011-04-18 13:22:23</th>\n",
       "      <td>0.028367</td>\n",
       "      <td>0.013187</td>\n",
       "      <td>0.0</td>\n",
       "      <td>0.0</td>\n",
       "      <td>0.002543</td>\n",
       "      <td>0.000703</td>\n",
       "      <td>0.538462</td>\n",
       "      <td>0.011635</td>\n",
       "      <td>0.22314</td>\n",
       "      <td>0.0</td>\n",
       "      <td>0.001377</td>\n",
       "      <td>0.000593</td>\n",
       "      <td>0.0</td>\n",
       "      <td>0.0</td>\n",
       "      <td>0.000894</td>\n",
       "      <td>0.0</td>\n",
       "      <td>0.580357</td>\n",
       "      <td>0.511111</td>\n",
       "      <td>0.0</td>\n",
       "      <td>0.0</td>\n",
       "    </tr>\n",
       "    <tr>\n",
       "      <th>2011-04-18 13:22:26</th>\n",
       "      <td>0.028372</td>\n",
       "      <td>0.013134</td>\n",
       "      <td>0.0</td>\n",
       "      <td>0.0</td>\n",
       "      <td>0.002543</td>\n",
       "      <td>0.000000</td>\n",
       "      <td>0.519231</td>\n",
       "      <td>0.011635</td>\n",
       "      <td>0.22314</td>\n",
       "      <td>0.0</td>\n",
       "      <td>0.001377</td>\n",
       "      <td>0.000593</td>\n",
       "      <td>0.0</td>\n",
       "      <td>0.0</td>\n",
       "      <td>0.001789</td>\n",
       "      <td>0.0</td>\n",
       "      <td>0.580357</td>\n",
       "      <td>0.511111</td>\n",
       "      <td>0.0</td>\n",
       "      <td>0.0</td>\n",
       "    </tr>\n",
       "  </tbody>\n",
       "</table>\n",
       "</div>"
      ],
      "text/plain": [
       "                      mains_1   mains_2  oven_3  oven_4  refrigerator_5  \\\n",
       "2011-04-18 13:22:13  0.028249  0.013134     0.0     0.0        0.002543   \n",
       "2011-04-18 13:22:16  0.028410  0.013192     0.0     0.0        0.002543   \n",
       "2011-04-18 13:22:20  0.028482  0.013148     0.0     0.0        0.002543   \n",
       "2011-04-18 13:22:23  0.028367  0.013187     0.0     0.0        0.002543   \n",
       "2011-04-18 13:22:26  0.028372  0.013134     0.0     0.0        0.002543   \n",
       "\n",
       "                     dishwaser_6  kitchen_outlets_7  kitchen_outlets_8  \\\n",
       "2011-04-18 13:22:13     0.000000           0.519231           0.011635   \n",
       "2011-04-18 13:22:16     0.000000           0.519231           0.011635   \n",
       "2011-04-18 13:22:20     0.000000           0.519231           0.012282   \n",
       "2011-04-18 13:22:23     0.000703           0.538462           0.011635   \n",
       "2011-04-18 13:22:26     0.000000           0.519231           0.011635   \n",
       "\n",
       "                     lighting_9  washer_dryer_10  microwave_11  \\\n",
       "2011-04-18 13:22:13     0.22314              0.0      0.001377   \n",
       "2011-04-18 13:22:16     0.22314              0.0      0.001377   \n",
       "2011-04-18 13:22:20     0.22314              0.0      0.001377   \n",
       "2011-04-18 13:22:23     0.22314              0.0      0.001377   \n",
       "2011-04-18 13:22:26     0.22314              0.0      0.001377   \n",
       "\n",
       "                     bathroom_gfi_12  electric_heat_13  stove_14  \\\n",
       "2011-04-18 13:22:13         0.000593               0.0       0.0   \n",
       "2011-04-18 13:22:16         0.000593               0.0       0.0   \n",
       "2011-04-18 13:22:20         0.000593               0.0       0.0   \n",
       "2011-04-18 13:22:23         0.000593               0.0       0.0   \n",
       "2011-04-18 13:22:26         0.000593               0.0       0.0   \n",
       "\n",
       "                     kitchen_outlets_15  kitchen_outlets_16  lighting_17  \\\n",
       "2011-04-18 13:22:13            0.001789                 0.0     0.580357   \n",
       "2011-04-18 13:22:16            0.001789                 0.0     0.580357   \n",
       "2011-04-18 13:22:20            0.001789                 0.0     0.580357   \n",
       "2011-04-18 13:22:23            0.000894                 0.0     0.580357   \n",
       "2011-04-18 13:22:26            0.001789                 0.0     0.580357   \n",
       "\n",
       "                     lighting_18  washer_dryer_19  washer_dryer_20  \n",
       "2011-04-18 13:22:13     0.511111              0.0              0.0  \n",
       "2011-04-18 13:22:16     0.511111              0.0              0.0  \n",
       "2011-04-18 13:22:20     0.511111              0.0              0.0  \n",
       "2011-04-18 13:22:23     0.511111              0.0              0.0  \n",
       "2011-04-18 13:22:26     0.511111              0.0              0.0  "
      ]
     },
     "execution_count": 56,
     "metadata": {},
     "output_type": "execute_result"
    }
   ],
   "source": [
    "casa_1Norm.head()"
   ]
  },
  {
   "cell_type": "markdown",
   "metadata": {},
   "source": [
    "### Guardar datos normalizados"
   ]
  },
  {
   "cell_type": "code",
   "execution_count": 57,
   "metadata": {},
   "outputs": [],
   "source": [
    "#Crear carpeta para los archivos condensados de cada casa\n",
    "new_directory = os.getcwd()\n",
    "#print(new_directory + \"\\\\low_freq\\\\data_casas\")\n",
    "os.makedirs(new_directory + \"\\\\low_freq\\\\data_casas_norm\")"
   ]
  },
  {
   "cell_type": "markdown",
   "metadata": {},
   "source": [
    "Guardando los datos con encabezado e indice"
   ]
  },
  {
   "cell_type": "code",
   "execution_count": 58,
   "metadata": {},
   "outputs": [],
   "source": [
    "data_casa_1.to_csv(new_directory + \"\\\\low_freq\\\\data_casas_norm\\\\data_casa__norm_1.csv\", index=True,sep=r' ',header=True, encoding='utf-8')\n",
    "data_casa_2.to_csv(new_directory + \"\\\\low_freq\\\\data_casas_norm\\\\data_casa__norm_2.csv\", index=True,sep=r' ',header=True, encoding='utf-8')\n",
    "data_casa_3.to_csv(new_directory + \"\\\\low_freq\\\\data_casas_norm\\\\data_casa__norm_3.csv\", index=True,sep=r' ',header=True, encoding='utf-8')\n",
    "data_casa_4.to_csv(new_directory + \"\\\\low_freq\\\\data_casas_norm\\\\data_casa__norm__4.csv\", index=True,sep=r' ',header=True, encoding='utf-8')\n",
    "data_casa_5.to_csv(new_directory + \"\\\\low_freq\\\\data_casas_norm\\\\data_casa__norm_5.csv\", index=True,sep=r' ',header=True, encoding='utf-8')\n",
    "data_casa_6.to_csv(new_directory + \"\\\\low_freq\\\\data_casas_norm\\\\data_casa__norm_6.csv\", index=True,sep=r' ',header=True, encoding='utf-8')"
   ]
  },
  {
   "cell_type": "markdown",
   "metadata": {},
   "source": [
    "## Estandarización de los datos\n",
    "El proceso de estandarización se centra en aglutinar datos en torno a la media, formando una campana de Gauss. Los datos mas alejados de la media tienden a tener valores mayores a uno y apesar de ser atipicos pueden llegar a ser cercanos a 3. \n",
    "\n",
    "$X_{Stand}$ = $\\frac{X - mean{X}}{Desviación estandar de X}$"
   ]
  },
  {
   "cell_type": "code",
   "execution_count": null,
   "metadata": {},
   "outputs": [],
   "source": []
  }
 ],
 "metadata": {
  "kernelspec": {
   "display_name": "Python 3",
   "language": "python",
   "name": "python3"
  },
  "language_info": {
   "codemirror_mode": {
    "name": "ipython",
    "version": 3
   },
   "file_extension": ".py",
   "mimetype": "text/x-python",
   "name": "python",
   "nbconvert_exporter": "python",
   "pygments_lexer": "ipython3",
   "version": "3.8.3"
  }
 },
 "nbformat": 4,
 "nbformat_minor": 4
}
