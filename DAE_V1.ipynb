{
 "cells": [
  {
   "cell_type": "code",
   "execution_count": 1,
   "metadata": {},
   "outputs": [],
   "source": [
    "from __future__ import print_function, division\n",
    "import time\n",
    "\n",
    "from matplotlib import rcParams\n",
    "import matplotlib.pyplot as plt\n",
    "import pandas as pd\n",
    "import numpy as np\n",
    "from six import iteritems\n",
    "\n",
    "from nilmtk import DataSet, TimeFrame, MeterGroup, HDFDataStore\n",
    "from nilmtk.legacy.disaggregate import CombinatorialOptimisation, FHMM\n",
    "import nilmtk.utils\n",
    "\n",
    "%matplotlib inline\n",
    "#Constante para el tamño de las imagenes\n",
    "rcParams['figure.figsize'] = (13, 6)"
   ]
  },
  {
   "cell_type": "code",
   "execution_count": 2,
   "metadata": {},
   "outputs": [],
   "source": [
    "# 1. Cargar los datos para entrenamiento\n",
    "train = DataSet('C:\\\\Users\\\\josel\\\\SmartMeter\\\\OrdenandoTodo\\\\redd.h5')\n",
    "train.set_window(end=\"30-4-2011\")      # Usando como final el 30 de abril\n",
    "train_elec = train.buildings[1].elec"
   ]
  },
  {
   "cell_type": "code",
   "execution_count": 3,
   "metadata": {},
   "outputs": [
    {
     "name": "stderr",
     "output_type": "stream",
     "text": [
      "C:\\Users\\josel\\Anaconda3\\envs\\nilmtk-env\\lib\\site-packages\\h5py\\__init__.py:40: UserWarning: h5py is running against HDF5 1.10.6 when it was built against 1.10.5, this may cause problems\n",
      "  '{0}.{1}.{2}'.format(*version.hdf5_built_version_tuple)\n"
     ]
    }
   ],
   "source": [
    "from daedisaggregator import DAEDisaggregator\n",
    "dae = DAEDisaggregator(256)"
   ]
  },
  {
   "cell_type": "code",
   "execution_count": 4,
   "metadata": {},
   "outputs": [],
   "source": [
    "train_mains = train_elec.mains().all_meters()[0] # The aggregated meter that provides the input\n",
    "train_meter = train_elec.submeters()['fridge'] # The microwave meter that is used as a training target"
   ]
  },
  {
   "cell_type": "code",
   "execution_count": 5,
   "metadata": {},
   "outputs": [
    {
     "name": "stderr",
     "output_type": "stream",
     "text": [
      "C:\\Users\\josel\\Anaconda3\\envs\\nilmtk-env\\lib\\site-packages\\nilmtk\\elecmeter.py:446: UserWarning: The provided sample_period (1) is shorter than the meter's sample_period (3)\n",
      "  sample_period, default_sample_period\n"
     ]
    },
    {
     "name": "stdout",
     "output_type": "stream",
     "text": [
      "Epoch 1/2\n",
      "245/245 [==============================] - 11s 42ms/step - loss: 4.1325e-04\n",
      "Epoch 2/2\n",
      "245/245 [==============================] - 10s 41ms/step - loss: 3.6590e-04\n"
     ]
    }
   ],
   "source": [
    "dae.train(train_mains, train_meter, epochs=2, sample_period=1)\n",
    "dae.export_model(\"model-redd100.h5\")"
   ]
  },
  {
   "cell_type": "code",
   "execution_count": 6,
   "metadata": {},
   "outputs": [],
   "source": [
    "test = DataSet('C:\\\\Users\\\\josel\\\\SmartMeter\\\\OrdenandoTodo\\\\redd.h5')\n",
    "test.set_window(start=\"30-4-2011\")\n",
    "test_elec = test.buildings[1].elec\n",
    "test_mains = test_elec.mains().all_meters()[0]\n",
    "\n",
    "# Crea un archivo hdf5. Claves ['/building1/elec/meter1', '/building1/elec/meter5']\n",
    "# Contiene los grupos:\n",
    "#[/building1/elec/meter1 (Group) ''\n",
    "#   children := ['table' (Table)], /building1/elec/meter5 (Group) ''\n",
    "#   children := ['table' (Table)]]\n",
    "\n",
    "\n",
    "#disag_filename = 'disag-out.h5' # The filename of the resulting datastore\n",
    "disag_filename = 'Prueba_out.h5' # The filename of the resulting datastore\n",
    "from nilmtk.datastore import HDFDataStore\n",
    "output = HDFDataStore(disag_filename, 'w')"
   ]
  },
  {
   "cell_type": "code",
   "execution_count": 7,
   "metadata": {},
   "outputs": [
    {
     "name": "stdout",
     "output_type": "stream",
     "text": [
      "New sensible chunk: 121482 size of data\n",
      "New sensible chunk: 112661 size of data\n",
      "New sensible chunk: 87770 size of data\n",
      "New sensible chunk: 54084 size of data\n",
      "New sensible chunk: 2660 size of data\n",
      "New sensible chunk: 33513 size of data\n",
      "New sensible chunk: 138535 size of data\n",
      "New sensible chunk: 32514 size of data\n",
      "New sensible chunk: 27255 size of data\n",
      "New sensible chunk: 34833 size of data\n",
      "New sensible chunk: 100831 size of data\n"
     ]
    }
   ],
   "source": [
    "# test_mains: The aggregated signal meter\n",
    "# output: The output datastore\n",
    "# train_meter: This is used in order to copy the metadata of the train meter into the datastore\n",
    "dae.disaggregate(test_mains, output, train_meter, sample_period=1)"
   ]
  },
  {
   "cell_type": "code",
   "execution_count": 8,
   "metadata": {},
   "outputs": [],
   "source": [
    "dae.disaggregate?"
   ]
  },
  {
   "cell_type": "code",
   "execution_count": 8,
   "metadata": {},
   "outputs": [
    {
     "data": {
      "image/png": "[encoded data removed]",
      "text/plain": [
       "<Figure size 432x288 with 1 Axes>"
      ]
     },
     "metadata": {
      "needs_background": "light"
     },
     "output_type": "display_data"
    }
   ],
   "source": [
    "result = DataSet(disag_filename)\n",
    "res_elec = result.buildings[1].elec\n",
    "predicted = res_elec['fridge']\n",
    "ground_truth = test_elec['fridge']\n",
    "\n",
    "import matplotlib.pyplot as plt\n",
    "predicted.plot()\n",
    "ground_truth.plot()\n",
    "plt.show()"
   ]
  },
  {
   "cell_type": "code",
   "execution_count": 8,
   "metadata": {},
   "outputs": [
    {
     "name": "stdout",
     "output_type": "stream",
     "text": [
      "============ Recall: 0.3692196783833122\n",
      "============ Precision: 0.9493298938251147\n",
      "============ Accuracy: 0.4751476958377115\n",
      "============ F1 Score: 0.5316618888900848\n",
      "============ Relative error in total energy: 0.6671692265211046\n",
      "============ Mean absolute error(in Watts): 38.074252370842885\n"
     ]
    }
   ],
   "source": [
    "import metrics\n",
    "rpaf = metrics.recall_precision_accuracy_f1(predicted, ground_truth)\n",
    "print(\"============ Recall: {}\".format(rpaf[0]))\n",
    "print(\"============ Precision: {}\".format(rpaf[1]))\n",
    "print(\"============ Accuracy: {}\".format(rpaf[2]))\n",
    "print(\"============ F1 Score: {}\".format(rpaf[3]))\n",
    "\n",
    "print(\"============ Relative error in total energy: {}\".format(metrics.relative_error_total_energy(predicted, ground_truth)))\n",
    "print(\"============ Mean absolute error(in Watts): {}\".format(metrics.mean_absolute_error(predicted, ground_truth)))"
   ]
  },
  {
   "cell_type": "markdown",
   "metadata": {},
   "source": [
    "# Estructura propia"
   ]
  },
  {
   "cell_type": "code",
   "execution_count": 12,
   "metadata": {},
   "outputs": [],
   "source": [
    "hdf = pd.HDFStore(\"Prueba_out.h5\")"
   ]
  },
  {
   "cell_type": "code",
   "execution_count": 13,
   "metadata": {},
   "outputs": [
    {
     "data": {
      "text/plain": [
       "['/building1/elec/meter1', '/building1/elec/meter5']"
      ]
     },
     "execution_count": 13,
     "metadata": {},
     "output_type": "execute_result"
    }
   ],
   "source": [
    "hdf.keys()"
   ]
  },
  {
   "cell_type": "code",
   "execution_count": 14,
   "metadata": {},
   "outputs": [
    {
     "data": {
      "text/plain": [
       "<generator object HDFStore.items at 0x00000243A63DDAF0>"
      ]
     },
     "execution_count": 14,
     "metadata": {},
     "output_type": "execute_result"
    }
   ],
   "source": [
    "hdf.items()"
   ]
  },
  {
   "cell_type": "code",
   "execution_count": 15,
   "metadata": {},
   "outputs": [
    {
     "data": {
      "text/plain": [
       "[/building1/elec/meter1 (Group) ''\n",
       "   children := ['table' (Table)], /building1/elec/meter5 (Group) ''\n",
       "   children := ['table' (Table)]]"
      ]
     },
     "execution_count": 15,
     "metadata": {},
     "output_type": "execute_result"
    }
   ],
   "source": [
    "hdf.groups()"
   ]
  },
  {
   "cell_type": "code",
   "execution_count": 17,
   "metadata": {},
   "outputs": [],
   "source": [
    "hdf.close()"
   ]
  },
  {
   "cell_type": "code",
   "execution_count": null,
   "metadata": {},
   "outputs": [],
   "source": []
  },
  {
   "cell_type": "code",
   "execution_count": null,
   "metadata": {},
   "outputs": [],
   "source": []
  },
  {
   "cell_type": "code",
   "execution_count": null,
   "metadata": {},
   "outputs": [],
   "source": []
  },
  {
   "cell_type": "code",
   "execution_count": null,
   "metadata": {},
   "outputs": [],
   "source": []
  }
 ],
 "metadata": {
  "kernelspec": {
   "display_name": "nilmtk",
   "language": "python",
   "name": "nilmtk"
  },
  "language_info": {
   "codemirror_mode": {
    "name": "ipython",
    "version": 3
   },
   "file_extension": ".py",
   "mimetype": "text/x-python",
   "name": "python",
   "nbconvert_exporter": "python",
   "pygments_lexer": "ipython3",
   "version": "3.6.11"
  }
 },
 "nbformat": 4,
 "nbformat_minor": 4
}
