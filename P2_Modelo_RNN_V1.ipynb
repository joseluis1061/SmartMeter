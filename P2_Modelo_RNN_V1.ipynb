{
 "cells": [
  {
   "cell_type": "markdown",
   "metadata": {},
   "source": [
    "# Modelo RNN  \n",
    "Este es el primer modelo de red neuronal implementado. Con el se busca establecer las bases de arquitecturas a implementar en modelos mas complejos que involucren las redes neuronales."
   ]
  },
  {
   "cell_type": "code",
   "execution_count": null,
   "metadata": {},
   "outputs": [],
   "source": [
    "#!pip install tensorflow\n",
    "#!pip install theano\n",
    "#!pip install keras"
   ]
  },
  {
   "cell_type": "code",
   "execution_count": 3,
   "metadata": {},
   "outputs": [],
   "source": [
    "#Librerias\n",
    "import numpy as np\n",
    "import pandas as pd\n",
    "import matplotlib.pyplot as plt\n",
    "%matplotlib inline\n",
    "from IPython.display import display\n",
    "import datetime\n",
    "import time\n",
    "import math\n",
    "import warnings\n",
    "from pathlib import Path # includes glob\n",
    "#import glob             # Unix pathname pattern expansion, Ex. glob.glob('**/*.txt', recursive=True)\n",
    "import pickle\n",
    "warnings.filterwarnings(\"ignore\")\n",
    "# import altair as alt\n",
    "import os\n",
    "import seaborn\n",
    "from tensorflow import keras\n",
    "from tensorflow.keras import layers\n",
    "import numpy as np\n",
    "import keras.backend as K\n",
    "from keras.layers import Dense, Input\n",
    "from keras.models import Model"
   ]
  },
  {
   "cell_type": "markdown",
   "metadata": {},
   "source": [
    "## Lectura de datos"
   ]
  },
  {
   "cell_type": "code",
   "execution_count": 4,
   "metadata": {},
   "outputs": [],
   "source": [
    "new_directory = os.getcwd()"
   ]
  },
  {
   "cell_type": "code",
   "execution_count": 5,
   "metadata": {},
   "outputs": [],
   "source": [
    "data_casa_1 = pd.read_csv(new_directory + \"\\\\low_freq\\\\data_casas\\\\data_casa_1.csv\",sep=r' ',encoding='utf-8',header=0, index_col = 0)\n",
    "data_casa_2 = pd.read_csv(new_directory + \"\\\\low_freq\\\\data_casas\\\\data_casa_2.csv\",sep=r' ',encoding='utf-8',header=0, index_col = 0)\n",
    "data_casa_3 = pd.read_csv(new_directory + \"\\\\low_freq\\\\data_casas\\\\data_casa_3.csv\",sep=r' ',encoding='utf-8',header=0, index_col = 0)\n",
    "data_casa_4 = pd.read_csv(new_directory + \"\\\\low_freq\\\\data_casas\\\\data_casa_4.csv\",sep=r' ',encoding='utf-8',header=0, index_col = 0)\n",
    "data_casa_5 = pd.read_csv(new_directory + \"\\\\low_freq\\\\data_casas\\\\data_casa_5.csv\",sep=r' ',encoding='utf-8',header=0, index_col = 0)\n",
    "data_casa_6 = pd.read_csv(new_directory + \"\\\\low_freq\\\\data_casas\\\\data_casa_6.csv\",sep=r' ',encoding='utf-8',header=0, index_col = 0)"
   ]
  },
  {
   "cell_type": "code",
   "execution_count": 6,
   "metadata": {},
   "outputs": [
    {
     "data": {
      "text/plain": [
       "Index(['mains_1', 'mains_2', 'oven_3', 'oven_4', 'refrigerator_5',\n",
       "       'dishwaser_6', 'kitchen_outlets_7', 'kitchen_outlets_8', 'lighting_9',\n",
       "       'washer_dryer_10', 'microwave_11', 'bathroom_gfi_12',\n",
       "       'electric_heat_13', 'stove_14', 'kitchen_outlets_15',\n",
       "       'kitchen_outlets_16', 'lighting_17', 'lighting_18', 'washer_dryer_19',\n",
       "       'washer_dryer_20'],\n",
       "      dtype='object')"
      ]
     },
     "execution_count": 6,
     "metadata": {},
     "output_type": "execute_result"
    }
   ],
   "source": [
    "data_casa_1.columns"
   ]
  },
  {
   "cell_type": "markdown",
   "metadata": {},
   "source": [
    "## División de los datos  \n",
    "La división de los datos es necesaria para evitar over fitting o sobre entrenamiento del model. De está manera el sistema tendra capacidad de generalizar.  \n",
    "Usaremos las casa 1 como base de datos de entrenamiento, debido a que cuenta con buena variabilidad de dispositivos y el mayor tamaño de datos.  \n",
    "Para este proceso en futuras bases de datos, tenga en cuenta, que es necesario normalizar los datos cuando las variables son de diferente naturaleza o rango de valor. Esto ayuda a que el proceso de aprendizaje sea más acertado, disminuya el tiempo de procesamiento y mejoren los resultados. En este caso no es necesario.  \n",
    "La división que se ha tomado es de 67% para el entrenamiento y 33% para test. Este valor es valido debido a que tenemos una buena cantidad de datos. "
   ]
  },
  {
   "cell_type": "code",
   "execution_count": 9,
   "metadata": {},
   "outputs": [
    {
     "name": "stdout",
     "output_type": "stream",
     "text": [
      "(406748, 20)\n"
     ]
    }
   ],
   "source": [
    "#Variables de entrada y salida\n",
    "dataset = data_casa_1\n",
    "print(dataset.shape)"
   ]
  },
  {
   "cell_type": "code",
   "execution_count": 10,
   "metadata": {},
   "outputs": [],
   "source": [
    "#from sklearn.model_selection import train_test_split\n",
    "#X = dataset.iloc[:, 0:2].values\n",
    "#y = dataset.iloc[:, 3:].values\n",
    "# Dividir el data set en conjunto de entrenamiento y conjunto de testing\n",
    "#from sklearn.model_selection import train_test_split\n",
    "#X_train, X_test, y_train, y_test = train_test_split(X, y, test_size = 0.2, random_state = 0)"
   ]
  },
  {
   "cell_type": "code",
   "execution_count": 11,
   "metadata": {},
   "outputs": [],
   "source": [
    "#Puntos de corte\n",
    "train_length = int(dataset.shape[0]*0.67) #Entrenamiento 67%\n",
    "test_length = int(dataset.shape[0] - train_length) #Prueba 33%\n",
    "total_length = train_length + test_length"
   ]
  },
  {
   "cell_type": "code",
   "execution_count": 12,
   "metadata": {},
   "outputs": [
    {
     "name": "stdout",
     "output_type": "stream",
     "text": [
      "Train (272521, 20)\n",
      "test (134227, 20)\n"
     ]
    }
   ],
   "source": [
    "#Train / Test\n",
    "train = data_casa_1[0: train_length]\n",
    "test = data_casa_1[train_length: total_length]\n",
    "print(f'Train {train.shape}')\n",
    "print(f'test {test.shape}')"
   ]
  },
  {
   "cell_type": "markdown",
   "metadata": {},
   "source": [
    "## Creando el modelo RNN Propio\n",
    "En esta sección se crearán las arquitecturas RNN para evaluar su rendimiento. Este primer modelo se tomara como base para la fabricación de redes LSTM y GRU.  \n",
    "El primer modelo sirve para evaluar si el modelo es capaz de predecir cuando se enciende el refrigerador usando como entrada del modelo las mediciones en la red general mains_1 y mains_2.\n",
    "El modelo cuenta con un dropout del 50%, este proceso desactiva temporalmente el 50% de capaz al azar. Este proceso evita la codependencia de las neuronas al ajustar su peso, mejorando la generalización."
   ]
  },
  {
   "cell_type": "code",
   "execution_count": 13,
   "metadata": {},
   "outputs": [],
   "source": [
    "from keras.layers.core import Dense, Activation, Dropout\n",
    "from keras.layers.recurrent import LSTM\n",
    "from keras.models import Sequential\n",
    "from keras.callbacks import ModelCheckpoint\n",
    "from keras.models import load_model\n",
    "from keras.optimizers import Adam\n",
    "from keras.regularizers import l2"
   ]
  },
  {
   "cell_type": "code",
   "execution_count": 65,
   "metadata": {},
   "outputs": [
    {
     "name": "stdout",
     "output_type": "stream",
     "text": [
      "X_train1 (272521, 2) y_train1 (272521, 18) X_test1 (134227, 2) y_test1 (134227, 18)\n"
     ]
    }
   ],
   "source": [
    "# Usando mains_1, mains_2 para predecir el uso del refrigerador\n",
    "X_train1 = train[['mains_1','mains_2']].values #Variables 2 de entrada\n",
    "y_train1 = train[['oven_3', 'oven_4', 'refrigerator_5',\n",
    "       'dishwaser_6', 'kitchen_outlets_7', 'kitchen_outlets_8', 'lighting_9',\n",
    "       'washer_dryer_10', 'microwave_11', 'bathroom_gfi_12',\n",
    "       'electric_heat_13', 'stove_14', 'kitchen_outlets_15',\n",
    "       'kitchen_outlets_16', 'lighting_17', 'lighting_18', 'washer_dryer_19',\n",
    "       'washer_dryer_20']].values #Etiquetas del refrigerador\n",
    "\n",
    "\n",
    "X_test1 = test[['mains_1','mains_2']].values #Variables 2 de entrada\n",
    "y_test1 = test[['oven_3', 'oven_4', 'refrigerator_5',\n",
    "       'dishwaser_6', 'kitchen_outlets_7', 'kitchen_outlets_8', 'lighting_9',\n",
    "       'washer_dryer_10', 'microwave_11', 'bathroom_gfi_12',\n",
    "       'electric_heat_13', 'stove_14', 'kitchen_outlets_15',\n",
    "       'kitchen_outlets_16', 'lighting_17', 'lighting_18', 'washer_dryer_19',\n",
    "       'washer_dryer_20']].values #Etiquetas del refrigerador\n",
    "\n",
    "print(\"X_train1\",X_train1.shape, \"y_train1\",y_train1.shape, \"X_test1\",X_test1.shape, \"y_test1\",y_test1.shape)"
   ]
  },
  {
   "cell_type": "markdown",
   "metadata": {},
   "source": [
    "#Puntos de corte datos de evaluacion\n",
    "train_length = int(X_train1.shape[0]*0.1) #Entrenamiento 10%\n",
    "test_length = int(y_train1.shape[0] - train_length) #Prueba \n",
    "total_length = train_length + test_length\n",
    "#Train / Test\n",
    "train = data_casa_1[0: train_length]\n",
    "test = data_casa_1[train_length: total_length]\n",
    "print(f'Train {train.shape}')\n",
    "print(f'test {test.shape}')"
   ]
  },
  {
   "cell_type": "code",
   "execution_count": 66,
   "metadata": {},
   "outputs": [
    {
     "name": "stdout",
     "output_type": "stream",
     "text": [
      "x_train (245268, 2), x_val (27253, 2), y_train (245268, 18), y_val (27253, 18)\n"
     ]
    }
   ],
   "source": [
    "# Dividir el data set en conjunto de entrenamiento y conjunto de testing\n",
    "from sklearn.model_selection import train_test_split\n",
    "X_train1, X_val1, y_train1, y_val1 = train_test_split(X_train1, y_train1, test_size = 0.1,  random_state = 2020)\n",
    "print(f'x_train {X_train1.shape}, x_val {X_val1.shape}, y_train {y_train1.shape}, y_val {y_val1.shape}')"
   ]
  },
  {
   "cell_type": "code",
   "execution_count": 67,
   "metadata": {},
   "outputs": [],
   "source": [
    "model = Sequential()\n",
    "model.add(Dense(256, input_dim = X_train1.shape[1], activation = 'relu'))\n",
    "model.add(Dropout(0.1))\n",
    "model.add(Dense(512, activation = 'relu'))\n",
    "model.add(Dropout(0.1))\n",
    "model.add(Dense(256, activation = 'relu'))\n",
    "model.add(Dropout(0.1))\n",
    "model.add(Dense(18, activation=\"softmax\"))\n",
    "#model.add(Dense(1, activation = 'sigmoid'))\n",
    "#compile(loss='binary_crossentropy', optimizer='adam')\n",
    "model.compile(loss='binary_crossentropy', optimizer='adam', metrics=['accuracy'])"
   ]
  },
  {
   "cell_type": "code",
   "execution_count": 68,
   "metadata": {},
   "outputs": [
    {
     "name": "stdout",
     "output_type": "stream",
     "text": [
      "Model: \"sequential_11\"\n",
      "_________________________________________________________________\n",
      "Layer (type)                 Output Shape              Param #   \n",
      "=================================================================\n",
      "dense_33 (Dense)             (None, 256)               768       \n",
      "_________________________________________________________________\n",
      "dropout_23 (Dropout)         (None, 256)               0         \n",
      "_________________________________________________________________\n",
      "dense_34 (Dense)             (None, 512)               131584    \n",
      "_________________________________________________________________\n",
      "dropout_24 (Dropout)         (None, 512)               0         \n",
      "_________________________________________________________________\n",
      "dense_35 (Dense)             (None, 256)               131328    \n",
      "_________________________________________________________________\n",
      "dropout_25 (Dropout)         (None, 256)               0         \n",
      "_________________________________________________________________\n",
      "dense_36 (Dense)             (None, 18)                4626      \n",
      "=================================================================\n",
      "Total params: 268,306\n",
      "Trainable params: 268,306\n",
      "Non-trainable params: 0\n",
      "_________________________________________________________________\n"
     ]
    }
   ],
   "source": [
    "model.summary(line_length=None, positions=None, print_fn=None)"
   ]
  },
  {
   "cell_type": "code",
   "execution_count": 69,
   "metadata": {},
   "outputs": [],
   "source": [
    "#X_train1 = X_train1.transpose()\n",
    "#y_train1 = (y_train1.transpose())"
   ]
  },
  {
   "cell_type": "code",
   "execution_count": 78,
   "metadata": {},
   "outputs": [
    {
     "name": "stdout",
     "output_type": "stream",
     "text": [
      "Epoch 1/50\n",
      "818/818 [==============================] - 6s 7ms/step - loss: -39.7679 - accuracy: 0.7980 - val_loss: -46.4825 - val_accuracy: 0.8206\n",
      "Epoch 2/50\n",
      "818/818 [==============================] - 5s 6ms/step - loss: -40.3024 - accuracy: 0.7988 - val_loss: -44.3557 - val_accuracy: 0.8207\n",
      "Epoch 3/50\n",
      "818/818 [==============================] - 5s 7ms/step - loss: -39.6050 - accuracy: 0.7979 - val_loss: -44.3055 - val_accuracy: 0.8095\n",
      "Epoch 4/50\n",
      "818/818 [==============================] - 5s 7ms/step - loss: -40.8934 - accuracy: 0.8045 - val_loss: -44.0668 - val_accuracy: 0.8115\n",
      "Epoch 5/50\n",
      "818/818 [==============================] - 6s 7ms/step - loss: -40.2799 - accuracy: 0.8009 - val_loss: -40.9203 - val_accuracy: 0.8315\n",
      "Epoch 6/50\n",
      "818/818 [==============================] - 6s 8ms/step - loss: -39.4350 - accuracy: 0.8018 - val_loss: -42.9615 - val_accuracy: 0.8071\n",
      "Epoch 7/50\n",
      "818/818 [==============================] - 6s 7ms/step - loss: -39.3086 - accuracy: 0.8051 - val_loss: -42.6456 - val_accuracy: 0.8050\n",
      "Epoch 8/50\n",
      "818/818 [==============================] - 6s 7ms/step - loss: -39.3505 - accuracy: 0.8045 - val_loss: -43.9039 - val_accuracy: 0.8168\n",
      "Epoch 9/50\n",
      "818/818 [==============================] - 6s 7ms/step - loss: -38.9147 - accuracy: 0.8037 - val_loss: -45.4725 - val_accuracy: 0.8179\n",
      "Epoch 10/50\n",
      "818/818 [==============================] - 6s 7ms/step - loss: -37.5284 - accuracy: 0.8048 - val_loss: -43.1939 - val_accuracy: 0.7964\n",
      "Epoch 11/50\n",
      "818/818 [==============================] - 6s 7ms/step - loss: -40.0974 - accuracy: 0.8014 - val_loss: -47.3006 - val_accuracy: 0.8228\n",
      "Epoch 12/50\n",
      "818/818 [==============================] - 6s 7ms/step - loss: -40.6879 - accuracy: 0.8026 - val_loss: -40.8121 - val_accuracy: 0.8165\n",
      "Epoch 13/50\n",
      "818/818 [==============================] - 6s 8ms/step - loss: -41.5493 - accuracy: 0.8078 - val_loss: -45.2858 - val_accuracy: 0.8205\n",
      "Epoch 14/50\n",
      "818/818 [==============================] - 6s 7ms/step - loss: -40.5292 - accuracy: 0.8081 - val_loss: -44.9903 - val_accuracy: 0.8103\n",
      "Epoch 15/50\n",
      "818/818 [==============================] - 6s 7ms/step - loss: -40.9528 - accuracy: 0.8067 - val_loss: -45.1773 - val_accuracy: 0.8165\n",
      "Epoch 16/50\n",
      "818/818 [==============================] - 6s 8ms/step - loss: -41.1799 - accuracy: 0.8043 - val_loss: -45.5733 - val_accuracy: 0.8147\n",
      "Epoch 17/50\n",
      "818/818 [==============================] - 6s 7ms/step - loss: -40.6303 - accuracy: 0.8073 - val_loss: -45.4548 - val_accuracy: 0.8126\n",
      "Epoch 18/50\n",
      "818/818 [==============================] - 6s 8ms/step - loss: -41.5374 - accuracy: 0.8107 - val_loss: -36.9640 - val_accuracy: 0.7862\n",
      "Epoch 19/50\n",
      "818/818 [==============================] - 6s 8ms/step - loss: -41.0456 - accuracy: 0.8094 - val_loss: -44.6258 - val_accuracy: 0.8145\n",
      "Epoch 20/50\n",
      "818/818 [==============================] - 6s 7ms/step - loss: -41.4157 - accuracy: 0.8090 - val_loss: -36.3345 - val_accuracy: 0.7799\n",
      "Epoch 21/50\n",
      "818/818 [==============================] - 6s 7ms/step - loss: -41.7025 - accuracy: 0.8141 - val_loss: -45.1382 - val_accuracy: 0.8173\n",
      "Epoch 22/50\n",
      "818/818 [==============================] - 5s 7ms/step - loss: -41.2271 - accuracy: 0.8096 - val_loss: -48.0653 - val_accuracy: 0.8323\n",
      "Epoch 23/50\n",
      "818/818 [==============================] - 6s 7ms/step - loss: -41.4034 - accuracy: 0.8085 - val_loss: -47.8104 - val_accuracy: 0.7973\n",
      "Epoch 24/50\n",
      "818/818 [==============================] - 6s 8ms/step - loss: -42.0562 - accuracy: 0.8092 - val_loss: -49.0392 - val_accuracy: 0.8098\n",
      "Epoch 25/50\n",
      "818/818 [==============================] - 7s 8ms/step - loss: -42.0744 - accuracy: 0.8078 - val_loss: -47.8201 - val_accuracy: 0.8221\n",
      "Epoch 26/50\n",
      "818/818 [==============================] - 7s 9ms/step - loss: -42.3074 - accuracy: 0.8078 - val_loss: -44.7096 - val_accuracy: 0.7994\n",
      "Epoch 27/50\n",
      "818/818 [==============================] - 6s 7ms/step - loss: -42.2024 - accuracy: 0.8092 - val_loss: -45.2832 - val_accuracy: 0.8243\n",
      "Epoch 28/50\n",
      "818/818 [==============================] - 5s 7ms/step - loss: -42.3304 - accuracy: 0.8115 - val_loss: -44.2312 - val_accuracy: 0.8246\n",
      "Epoch 29/50\n",
      "818/818 [==============================] - 5s 7ms/step - loss: -41.6775 - accuracy: 0.8103 - val_loss: -44.5064 - val_accuracy: 0.8066\n",
      "Epoch 30/50\n",
      "818/818 [==============================] - 6s 7ms/step - loss: -40.7396 - accuracy: 0.8128 - val_loss: -42.3854 - val_accuracy: 0.8252\n",
      "Epoch 31/50\n",
      "818/818 [==============================] - 7s 9ms/step - loss: -40.6529 - accuracy: 0.8073 - val_loss: -39.7714 - val_accuracy: 0.8071\n",
      "Epoch 32/50\n",
      "818/818 [==============================] - 6s 8ms/step - loss: -40.2975 - accuracy: 0.8119 - val_loss: -43.7053 - val_accuracy: 0.8147\n",
      "Epoch 33/50\n",
      "818/818 [==============================] - 6s 8ms/step - loss: -40.5338 - accuracy: 0.8090 - val_loss: -45.6954 - val_accuracy: 0.8253\n",
      "Epoch 34/50\n",
      "818/818 [==============================] - 6s 7ms/step - loss: -40.9637 - accuracy: 0.8092 - val_loss: -45.2884 - val_accuracy: 0.8339\n",
      "Epoch 35/50\n",
      "818/818 [==============================] - 6s 7ms/step - loss: -41.0987 - accuracy: 0.8079 - val_loss: -42.0902 - val_accuracy: 0.7996\n",
      "Epoch 36/50\n",
      "818/818 [==============================] - 7s 9ms/step - loss: -41.4786 - accuracy: 0.8103 - val_loss: -43.4613 - val_accuracy: 0.8172\n",
      "Epoch 37/50\n",
      "818/818 [==============================] - 7s 8ms/step - loss: -41.2520 - accuracy: 0.8084 - val_loss: -42.5631 - val_accuracy: 0.8132\n",
      "Epoch 38/50\n",
      "818/818 [==============================] - 6s 7ms/step - loss: -41.4179 - accuracy: 0.8110 - val_loss: -37.0162 - val_accuracy: 0.7063\n",
      "Epoch 39/50\n",
      "818/818 [==============================] - 6s 7ms/step - loss: -41.5411 - accuracy: 0.8145 - val_loss: -40.9493 - val_accuracy: 0.8137\n",
      "Epoch 40/50\n",
      "818/818 [==============================] - 6s 7ms/step - loss: -40.7463 - accuracy: 0.8121 - val_loss: -40.4930 - val_accuracy: 0.8100\n",
      "Epoch 41/50\n",
      "818/818 [==============================] - 6s 8ms/step - loss: -40.9119 - accuracy: 0.8134 - val_loss: -44.1348 - val_accuracy: 0.8348\n",
      "Epoch 42/50\n",
      "818/818 [==============================] - 6s 7ms/step - loss: -39.7397 - accuracy: 0.8057 - val_loss: -44.5809 - val_accuracy: 0.8230\n",
      "Epoch 43/50\n",
      "818/818 [==============================] - 6s 7ms/step - loss: -39.8945 - accuracy: 0.8085 - val_loss: -42.9015 - val_accuracy: 0.8075\n",
      "Epoch 44/50\n",
      "818/818 [==============================] - 6s 8ms/step - loss: -40.1545 - accuracy: 0.8111 - val_loss: -41.7183 - val_accuracy: 0.8230\n",
      "Epoch 45/50\n",
      "818/818 [==============================] - 6s 8ms/step - loss: -39.3932 - accuracy: 0.8068 - val_loss: -37.6437 - val_accuracy: 0.8110\n",
      "Epoch 46/50\n",
      "818/818 [==============================] - 6s 8ms/step - loss: -40.2890 - accuracy: 0.8106 - val_loss: -43.1083 - val_accuracy: 0.8302\n",
      "Epoch 47/50\n",
      "818/818 [==============================] - 6s 7ms/step - loss: -40.3020 - accuracy: 0.8127 - val_loss: -42.1779 - val_accuracy: 0.8146\n",
      "Epoch 48/50\n",
      "818/818 [==============================] - 6s 7ms/step - loss: -40.0749 - accuracy: 0.8117 - val_loss: -43.4177 - val_accuracy: 0.8246\n",
      "Epoch 49/50\n",
      "818/818 [==============================] - 6s 7ms/step - loss: -39.6075 - accuracy: 0.8107 - val_loss: -42.8928 - val_accuracy: 0.8211\n",
      "Epoch 50/50\n",
      "818/818 [==============================] - 6s 7ms/step - loss: -39.4285 - accuracy: 0.8104 - val_loss: -43.7543 - val_accuracy: 0.8143\n"
     ]
    }
   ],
   "source": [
    "history = model.fit(X_train1, y_train1, validation_data = (X_val1, y_val1), epochs = 50, batch_size =  300, verbose = 1)"
   ]
  },
  {
   "cell_type": "code",
   "execution_count": 79,
   "metadata": {},
   "outputs": [
    {
     "name": "stdout",
     "output_type": "stream",
     "text": [
      "4195/4195 [==============================] - 4s 841us/step - loss: -9.9602 - accuracy: 0.6102\n",
      "Metrics loss = -9.96\n",
      "Metrics accuracy = 0.61\n"
     ]
    }
   ],
   "source": [
    "#Evaluando el modelo\n",
    "result = model.evaluate(X_test1, y_test1)\n",
    "for i in range(len(model.metrics_names)):\n",
    "    print(f'Metrics {model.metrics_names[i]} = {round(result[i],2)}')"
   ]
  },
  {
   "cell_type": "code",
   "execution_count": 80,
   "metadata": {},
   "outputs": [
    {
     "data": {
      "image/png": "[encoded data removed]",
      "text/plain": [
       "<Figure size 936x432 with 1 Axes>"
      ]
     },
     "metadata": {
      "needs_background": "light"
     },
     "output_type": "display_data"
    }
   ],
   "source": [
    "plt.figure(figsize = (13,6))\n",
    "plt.plot(history.history['loss'])\n",
    "plt.plot(history.history['val_loss'])\n",
    "plt.title('Perdidas del modelo con set de entrenamiento y pruebas por época')\n",
    "plt.ylabel('Perdidas')\n",
    "plt.xlabel('Epocas')\n",
    "plt.legend(['Entrenamiento', 'Validación'], loc='upper right')\n",
    "plt.show()"
   ]
  },
  {
   "cell_type": "code",
   "execution_count": 81,
   "metadata": {},
   "outputs": [
    {
     "name": "stdout",
     "output_type": "stream",
     "text": [
      "Epoch 1/15\n",
      "818/818 [==============================] - 5s 7ms/step - loss: -39.5943 - accuracy: 0.8082 - val_loss: -41.2002 - val_accuracy: 0.8230\n",
      "Epoch 2/15\n",
      "818/818 [==============================] - 5s 6ms/step - loss: -39.2179 - accuracy: 0.8074 - val_loss: -42.8264 - val_accuracy: 0.8286\n",
      "Epoch 3/15\n",
      "818/818 [==============================] - 5s 7ms/step - loss: -39.5065 - accuracy: 0.8007 - val_loss: -40.5206 - val_accuracy: 0.8117\n",
      "Epoch 4/15\n",
      "818/818 [==============================] - 5s 7ms/step - loss: -39.4086 - accuracy: 0.8069 - val_loss: -43.4423 - val_accuracy: 0.8132\n",
      "Epoch 5/15\n",
      "818/818 [==============================] - 5s 7ms/step - loss: -39.8409 - accuracy: 0.8116 - val_loss: -42.0355 - val_accuracy: 0.8025\n",
      "Epoch 6/15\n",
      "818/818 [==============================] - 6s 8ms/step - loss: -39.2940 - accuracy: 0.8076 - val_loss: -45.7876 - val_accuracy: 0.8421\n",
      "Epoch 7/15\n",
      "818/818 [==============================] - 6s 7ms/step - loss: -40.0614 - accuracy: 0.8048 - val_loss: -37.9327 - val_accuracy: 0.7528\n",
      "Epoch 8/15\n",
      "818/818 [==============================] - 6s 7ms/step - loss: -41.9633 - accuracy: 0.8047 - val_loss: -42.5193 - val_accuracy: 0.8037\n",
      "Epoch 9/15\n",
      "818/818 [==============================] - 6s 7ms/step - loss: -42.7023 - accuracy: 0.8039 - val_loss: -39.5481 - val_accuracy: 0.7989\n",
      "Epoch 10/15\n",
      "818/818 [==============================] - 6s 7ms/step - loss: -43.5834 - accuracy: 0.8057 - val_loss: -49.6418 - val_accuracy: 0.8328\n",
      "Epoch 11/15\n",
      "818/818 [==============================] - 6s 7ms/step - loss: -45.0015 - accuracy: 0.8105 - val_loss: -40.7959 - val_accuracy: 0.6617\n",
      "Epoch 12/15\n",
      "818/818 [==============================] - 6s 7ms/step - loss: -44.1406 - accuracy: 0.8091 - val_loss: -37.7521 - val_accuracy: 0.6317\n",
      "Epoch 13/15\n",
      "818/818 [==============================] - 6s 7ms/step - loss: -43.7915 - accuracy: 0.8099 - val_loss: -48.4313 - val_accuracy: 0.8406\n",
      "Epoch 14/15\n",
      "818/818 [==============================] - 6s 7ms/step - loss: -43.8314 - accuracy: 0.8104 - val_loss: -49.6794 - val_accuracy: 0.8042\n",
      "Epoch 15/15\n",
      "818/818 [==============================] - 6s 7ms/step - loss: -43.7492 - accuracy: 0.8102 - val_loss: -47.3939 - val_accuracy: 0.8198\n"
     ]
    }
   ],
   "source": [
    "history = model.fit(X_train1, y_train1, validation_data = (X_val1, y_val1), epochs = 15, batch_size =  300, verbose = 1)"
   ]
  },
  {
   "cell_type": "code",
   "execution_count": 82,
   "metadata": {},
   "outputs": [
    {
     "name": "stdout",
     "output_type": "stream",
     "text": [
      "4195/4195 [==============================] - 3s 812us/step - loss: -22.0641 - accuracy: 0.6187\n",
      "Metrics loss = -22.06\n",
      "Metrics accuracy = 0.62\n"
     ]
    }
   ],
   "source": [
    "#Evaluando el modelo\n",
    "result = model.evaluate(X_test1, y_test1)\n",
    "for i in range(len(model.metrics_names)):\n",
    "    print(f'Metrics {model.metrics_names[i]} = {round(result[i],2)}')"
   ]
  },
  {
   "cell_type": "code",
   "execution_count": 83,
   "metadata": {},
   "outputs": [
    {
     "data": {
      "image/png": "[encoded data removed]",
      "text/plain": [
       "<Figure size 936x432 with 1 Axes>"
      ]
     },
     "metadata": {
      "needs_background": "light"
     },
     "output_type": "display_data"
    }
   ],
   "source": [
    "plt.figure(figsize = (13,6))\n",
    "plt.plot(history.history['loss'])\n",
    "plt.plot(history.history['val_loss'])\n",
    "plt.title('Perdidas del modelo con set de entrenamiento y pruebas por época')\n",
    "plt.ylabel('Perdidas')\n",
    "plt.xlabel('Epocas')\n",
    "plt.legend(['Entrenamiento', 'Validación'], loc='upper right')\n",
    "plt.show()"
   ]
  },
  {
   "cell_type": "code",
   "execution_count": null,
   "metadata": {},
   "outputs": [],
   "source": [
    "n_steps=9\n",
    "x_lab1=[]\n",
    "#Carga los datos originales\n",
    "for i in range(dataset.shape[0]):\n",
    "    x_lab1.append(i)\n",
    "x_lab2=[]\n",
    "for i in range(X_train1.shape[0]):\n",
    "    x_lab2.append(i)\n",
    "x_lab3=[]\n",
    "#for i in range(X_test.shape[0]+19,trainN.shape[0]+1):\n",
    "for i in range(trainN.shape[0],values.shape[0]-n_steps-n_steps_out):\n",
    "    x_lab3.append(i)\n",
    "plt.plot(x_lab1,polucion, alpha=1, label='Original series');\n",
    "plt.plot(x_lab2,trainPredict1,alpha=0.6, label='train prediction');\n",
    "plt.plot(x_lab3,testPredict1, alpha=0.6, label='test prediction');\n",
    "plt.title(\"prediction for look_back= 9 including pollution RNN\")\n",
    "plt.legend();"
   ]
  },
  {
   "cell_type": "code",
   "execution_count": null,
   "metadata": {},
   "outputs": [],
   "source": []
  },
  {
   "cell_type": "markdown",
   "metadata": {},
   "source": [
    "## Matriz de confusión"
   ]
  },
  {
   "cell_type": "code",
   "execution_count": null,
   "metadata": {},
   "outputs": [],
   "source": [
    "# Matriz de confusión\n",
    "from sklearn.metrics import confusion_matrix\n",
    " \n",
    "expected = [1, 1, 0, 1, 0, 0, 1, 0, 0, 0]\n",
    "predicted = [1, 0, 0, 1, 0, 0, 1, 1, 1, 0]\n",
    "results = confusion_matrix(expected, predicted)\n",
    "print(results)"
   ]
  },
  {
   "cell_type": "code",
   "execution_count": null,
   "metadata": {},
   "outputs": [],
   "source": []
  },
  {
   "cell_type": "code",
   "execution_count": null,
   "metadata": {},
   "outputs": [],
   "source": []
  },
  {
   "cell_type": "code",
   "execution_count": null,
   "metadata": {},
   "outputs": [],
   "source": []
  },
  {
   "cell_type": "code",
   "execution_count": null,
   "metadata": {},
   "outputs": [],
   "source": []
  },
  {
   "cell_type": "code",
   "execution_count": null,
   "metadata": {},
   "outputs": [],
   "source": []
  },
  {
   "cell_type": "code",
   "execution_count": null,
   "metadata": {},
   "outputs": [],
   "source": []
  },
  {
   "cell_type": "code",
   "execution_count": null,
   "metadata": {},
   "outputs": [],
   "source": []
  },
  {
   "cell_type": "markdown",
   "metadata": {},
   "source": [
    "def build_fc_model(layers):\n",
    "    fc_model = Sequential() #Crea un objeto vacio que contendra el modelo\n",
    "    for i in range(len(layers)-1):\n",
    "        #print(f'input_dim = {layers[i]}')\n",
    "        #print(f'output_dim = {layers[i+1]}')\n",
    "        \n",
    "        #Para evitar problemas defina los valores de las neuronas por fuera de Dense\n",
    "        output_dim = layers[i+1]\n",
    "        input_dim = layers[i]\n",
    "        fc_model.add(Dense(layers[i+1], input_dim = layers[i]))              \n",
    "        fc_model.add(Dropout(0.25))\n",
    "        if i < (len(layers) - 2):\n",
    "            fc_model.add( Activation('relu'))\n",
    "            #model.add(Dense(4, activation=\"softmax\", kernel_initializer=init))\n",
    "        #else:\n",
    "        #    fc_model.add( Activation('sigmoid'))\n",
    "    fc_model.summary()\n",
    "    \n",
    "    return fc_model\n",
    "\n",
    "fc_model_1 = build_fc_model([2, 512, 512, 1024, 1])"
   ]
  },
  {
   "cell_type": "code",
   "execution_count": null,
   "metadata": {},
   "outputs": [],
   "source": [
    "adam = Adam(lr = 1e-5) #Optimizador con learnig rate de 1e-5\n",
    "fc_model_1.compile(loss='mean_squared_error', optimizer=adam, metrics=['binary_accuracy']) \n",
    "#Guarda los pesos del entrenamiento en ciertos puntos para continuar el entrenamiento o guardar el modelo\n",
    "checkpointer = ModelCheckpoint(filepath=\"./fc_refrig_h1_2.hdf5\", verbose=0, save_best_only=True)\n",
    "hist_fc_1 = fc_model_1.fit( X_train1, y_train1, batch_size=300, verbose=1, epochs=20, validation_split=0.33, callbacks=[checkpointer])\n"
   ]
  },
  {
   "cell_type": "code",
   "execution_count": null,
   "metadata": {},
   "outputs": [],
   "source": [
    "train_loss = hist_fc_1.history['loss']\n",
    "val_loss = hist_fc_1.history['val_loss']\n",
    "def plot_losses(train_loss, val_loss):\n",
    "    plt.rcParams[\"figure.figsize\"] = [24,10]\n",
    "    plt.title('Mean squared error of train and val set on house 1')\n",
    "    plt.plot( range(len(train_loss)), train_loss, color = 'b', alpha = 0.6, label='train_loss' )\n",
    "    plt.plot( range(len( val_loss )), val_loss, color = 'r', alpha = 0.6, label='val_loss' )\n",
    "    plt.xlabel( 'epoch' )\n",
    "    plt.ylabel( 'loss' )\n",
    "    plt.legend()\n",
    "\n",
    "plot_losses(train_loss, val_loss)"
   ]
  },
  {
   "cell_type": "markdown",
   "metadata": {},
   "source": [
    "### Validando el modelo"
   ]
  },
  {
   "cell_type": "code",
   "execution_count": null,
   "metadata": {},
   "outputs": [],
   "source": [
    "scores = fc_model_1.evaluate(X_test1, y_test1)\n",
    "print(\"\\n%s: %.2f%%\" % (fc_model_1.metrics_names[1], scores[1]*100))"
   ]
  },
  {
   "cell_type": "markdown",
   "metadata": {},
   "source": [
    "## Creando una nueva arquitectura"
   ]
  },
  {
   "cell_type": "markdown",
   "metadata": {},
   "source": [
    "### División de los datos usando sklearn\n",
    "- Como entrada usaremos los datos main_1 y main_2 correspondientes a las columnas 0 y 1\n",
    "- Como layer usaremos el refrigerador \n",
    "- Las proporciones seran de 80 y 20%"
   ]
  },
  {
   "cell_type": "code",
   "execution_count": null,
   "metadata": {},
   "outputs": [],
   "source": [
    "variables = data_casa_1[['mains_1','mains_2']].values\n",
    "objetivos = data_casa_1['refrigerator_5'].values"
   ]
  },
  {
   "cell_type": "code",
   "execution_count": null,
   "metadata": {},
   "outputs": [],
   "source": [
    "from sklearn.model_selection import train_test_split\n",
    "x_train, x_test, y_train, y_test = train_test_split(variables, objetivos, test_size = 0.2,  random_state = 2020)\n",
    "print(f'x_train {x_train.shape}, x_test {x_test.shape}, y_train {y_train.shape}, y_test {y_test.shape}')"
   ]
  },
  {
   "cell_type": "markdown",
   "metadata": {},
   "source": [
    "Se creara un grupo de control o evaluación para el conjunto de datos. Este conjunto sera extraido del conjunto de datos de train definidos en la línea anterior.  \n",
    "En estos casos se toma la división en proporción 90 y 10%"
   ]
  },
  {
   "cell_type": "code",
   "execution_count": null,
   "metadata": {},
   "outputs": [],
   "source": [
    "x_train, x_val, y_train, y_val = train_test_split(x_train, y_train, test_size = 0.1,  random_state = 2020)\n",
    "print(f'x_train {x_train.shape}, x_val {x_val.shape}, y_train {y_train.shape}, y_val {y_val.shape}')"
   ]
  },
  {
   "cell_type": "code",
   "execution_count": null,
   "metadata": {},
   "outputs": [],
   "source": [
    "from keras.models import Sequential\n",
    "from keras.layers import Dense"
   ]
  },
  {
   "cell_type": "markdown",
   "metadata": {},
   "source": [
    "Por convension se toman valores multiplos de 2.  \n",
    "loss = 'binary_crossentropy'"
   ]
  },
  {
   "cell_type": "code",
   "execution_count": null,
   "metadata": {},
   "outputs": [],
   "source": [
    "model = Sequential()\n",
    "model.add(Dense(256, input_dim = x_train.shape[1], activation = 'relu'))\n",
    "model.add(Dense(512, activation = 'relu'))\n",
    "model.add(Dense(256, activation = 'relu'))\n",
    "model.add(Dense(1, activation = 'sigmoid'))\n",
    "model.compile(optimizer = 'Adam', loss = 'mse', metrics=['accuracy'])"
   ]
  },
  {
   "cell_type": "code",
   "execution_count": null,
   "metadata": {},
   "outputs": [],
   "source": [
    "#pip install pydot"
   ]
  },
  {
   "cell_type": "code",
   "execution_count": null,
   "metadata": {},
   "outputs": [],
   "source": [
    "#from keras.utils import plot_model\n",
    "#plot_model(model, to_file='model.png',show_shapes=True)"
   ]
  },
  {
   "cell_type": "code",
   "execution_count": null,
   "metadata": {},
   "outputs": [],
   "source": [
    "model.fit(x_train, y_train, validation_data = (x_val, y_val), epochs = 5, batch_size =  300, verbose = 1)"
   ]
  },
  {
   "cell_type": "markdown",
   "metadata": {},
   "source": [
    "- Nuevamente se observa que el accuracy y la función de perdida no tienen ningún cambio o mejora a pesar de agregar capas ocultas y aumentar el número de neuronas. \n",
    "- Intentaremos mejorar los resultados normalizando los datos. "
   ]
  },
  {
   "cell_type": "markdown",
   "metadata": {},
   "source": [
    "### Normalizando los datos\n",
    "Primero se hacemos una inspección visual para determinar si la base de datos tiene rangos de valores demasiado grandes entre ellos. "
   ]
  },
  {
   "cell_type": "code",
   "execution_count": null,
   "metadata": {},
   "outputs": [],
   "source": [
    "data_casa_1.head(10)"
   ]
  },
  {
   "cell_type": "code",
   "execution_count": null,
   "metadata": {},
   "outputs": [],
   "source": [
    "etiquetas = list(data_casa_1)\n",
    "for i in range(len(etiquetas)):\n",
    "    print(f'{etiquetas[i]} max =  {data_casa_1[etiquetas[i]].max()} {etiquetas[i]} min =  {data_casa_1[etiquetas[i]].min()}')\n",
    "\n",
    "#print(f'mains_1 max =  {data_casa_1[\"mains_1\"].max()} mains_1 min =  {data_casa_1[\"mains_1\"].min()}')"
   ]
  },
  {
   "cell_type": "markdown",
   "metadata": {},
   "source": [
    "- Los datos estan demasiado separados variando desde decimales a miles\n",
    "- Como se mensiono probaremos si el modelo mejora al normalizar los datos, si bien las medidas maximas tomadas del refrigerador estan en el mismo orden de magnitud de las medidas de las líneas se probara como primer aproximación. "
   ]
  },
  {
   "cell_type": "code",
   "execution_count": null,
   "metadata": {},
   "outputs": [],
   "source": [
    "from sklearn.preprocessing import StandardScaler\n",
    "scaler = StandardScaler()\n",
    "scaler.fit(x_train)\n",
    "x_train_scaled = scaler.transform(x_train)\n",
    "x_val_scaled = scaler.transform(x_val)\n",
    "scaler2 = StandardScaler()\n",
    "ytrainRS = y_train.reshape(-1,1)\n",
    "yvalRS = y_val.reshape(-1,1)\n",
    "scaler2.fit(ytrainRS)\n",
    "y_train_scaled = scaler2.transform(ytrainRS)\n",
    "y_val_scaled = scaler2.transform(yvalRS)"
   ]
  },
  {
   "cell_type": "code",
   "execution_count": null,
   "metadata": {},
   "outputs": [],
   "source": [
    "#Se va a normalisar el conjunto de datos total\n",
    "from sklearn import preprocessing\n",
    "df_n1 = data_casa_1\n",
    "scaler = preprocessing.Normalizer(norm = 'l2', copy=True)\n",
    "df_n1 = scaler.fit_transform(df_n1)"
   ]
  },
  {
   "cell_type": "code",
   "execution_count": null,
   "metadata": {},
   "outputs": [],
   "source": [
    "variables = df_n1[:,:1]\n",
    "objetivos = df_n1[:,2]"
   ]
  },
  {
   "cell_type": "code",
   "execution_count": null,
   "metadata": {},
   "outputs": [],
   "source": [
    "from sklearn.model_selection import train_test_split\n",
    "x_train_norm, x_test_norm, y_train_norm, y_test_norm = train_test_split(variables, objetivos, test_size = 0.2,  random_state = 2020)\n",
    "print(f'x_train_norm {x_train_norm.shape}, x_test_norm {x_test_norm.shape}, y_train_norm {y_train_norm.shape}, y_test_norm {y_test_norm.shape}')\n",
    "\n",
    "x_train_norm, x_val_norm, y_train_norm, y_val_norm = train_test_split(x_train_norm, y_train_norm, test_size = 0.1,  random_state = 2020)\n",
    "print(f'x_train {x_train_norm.shape}, x_val {x_val_norm.shape}, y_train {y_train_norm.shape}, y_val {y_val_norm.shape}')"
   ]
  },
  {
   "cell_type": "code",
   "execution_count": null,
   "metadata": {},
   "outputs": [],
   "source": [
    "model = Sequential()\n",
    "model.add(Dense(256, input_dim = x_train_norm.shape[1], activation = 'relu'))\n",
    "model.add(Dense(512, activation = 'relu'))\n",
    "model.add(Dense(256, activation = 'relu'))\n",
    "model.add(Dense(1, activation = 'sigmoid'))\n",
    "model.compile(optimizer = 'Adam', loss = 'mse', metrics=['accuracy'])\n",
    "model.fit(x_train_norm, y_train_norm, validation_data = (x_val_norm, y_val_norm), epochs = 200, batch_size =  300, verbose = 1)"
   ]
  },
  {
   "cell_type": "code",
   "execution_count": null,
   "metadata": {},
   "outputs": [],
   "source": [
    "model = Sequential()\n",
    "model.add(Dense(256, input_dim = x_train_norm.shape[1], activation = 'relu'))\n",
    "model.add(Dense(512, activation = 'relu'))\n",
    "model.add(Dense(256, activation = 'relu'))\n",
    "model.add(Dense(1, activation = 'sigmoid'))\n",
    "model.compile(optimizer = 'Adam', loss = 'mse', metrics=['accuracy'])\n",
    "history = model.fit(x_train_norm, y_train_norm, validation_data = (x_val_norm, y_val_norm), epochs = 200, batch_size =  300, verbose = 0)"
   ]
  },
  {
   "cell_type": "markdown",
   "metadata": {},
   "source": [
    "- En apariencia la arquitectura ha mejorado radicalmente su funcionamiento\n",
    "- Debemos evaluar de manera grafica el proceso de entrenamiento"
   ]
  },
  {
   "cell_type": "markdown",
   "metadata": {},
   "source": [
    "### Evaluando el desempeño del modelo\n",
    "- Vamos a verificar que los resultados entre el set de entrenamiento y el de pruebas no difieran demasiado.\n",
    "- Si difieren demasiado sera un indicativo que el modelo tiene problemas (sobre entrenamiento) para generalizar su respuesta a nuevos datos de entrada. "
   ]
  },
  {
   "cell_type": "code",
   "execution_count": null,
   "metadata": {},
   "outputs": [],
   "source": [
    "result = model.evaluate(x_test_norm, y_test_norm)\n",
    "for i in range(len(model.metrics_names)):\n",
    "    print(f'Metrics {model.metrics_names[i]} = {round(result[i],2)}')"
   ]
  },
  {
   "cell_type": "markdown",
   "metadata": {},
   "source": [
    "Las perdidas obtenidas el valor obtenido fue de aproximadamente cero y el la presición del modelo fue cercana al 97%, similar al obtenido con el set de entrenamiento. "
   ]
  },
  {
   "cell_type": "markdown",
   "metadata": {},
   "source": [
    "#### Evaluación grafica"
   ]
  },
  {
   "cell_type": "code",
   "execution_count": null,
   "metadata": {},
   "outputs": [],
   "source": [
    "plt.figure(figsize = (13,6))\n",
    "plt.plot(history.history['loss'])\n",
    "plt.plot(history.history['val_loss'])\n",
    "plt.title('Perdidas del modelo con set de entrenamiento y pruebas por época')\n",
    "plt.ylabel('Perdidas')\n",
    "plt.xlabel('Epocas')\n",
    "plt.legend(['Entrenamiento', 'Validación'], loc='upper right')\n",
    "plt.show()"
   ]
  },
  {
   "cell_type": "markdown",
   "metadata": {},
   "source": [
    "- Podemos observar como la función de perdida fue disminuyendo en cada epoca, tanto con los volores de entrenamiento como los de test. \n",
    "- Como el gap entre las dos líneas no es pronunciado, podemos inferir que nuestro modelo está funcionando de manera adecuada"
   ]
  },
  {
   "cell_type": "code",
   "execution_count": null,
   "metadata": {},
   "outputs": [],
   "source": [
    "plt.figure(figsize=(13,6))\n",
    "plt.plot(history.history['accuracy'])\n",
    "plt.plot(history.history['val_accuracy'])\n",
    "plt.title(\"Pérdidas del modelo con set de entrenamiento y pruebas por época\")\n",
    "plt.ylabel('Accuracy')\n",
    "plt.xlabel('Épocas')\n",
    "plt.legend(['Entrenamiento', 'Validación'], loc='upper right')\n",
    "plt.show()"
   ]
  },
  {
   "cell_type": "markdown",
   "metadata": {},
   "source": [
    "Nuevamente vemos comportamientos similares en los resultados obtenidos. \n",
    "Esta grafica muestra como el modelo ha mejorado su presición entre las diferentes epocas.  \n",
    "El proximo paso sera probar este modelo con los datos provenientes de otras casas"
   ]
  },
  {
   "cell_type": "markdown",
   "metadata": {},
   "source": [
    "## Ajuste de redes neuronales: overfitting y regularización"
   ]
  },
  {
   "cell_type": "markdown",
   "metadata": {},
   "source": [
    "**Overfitting:** El sobre entrenamiento o sobre ajuste hace referencia a que la curva se ajusta de tal manera que cada punto del data set es cruzado por la función modelo\n",
    "- Este fenomeno ocurre cuando entrenamos el modelo con información no apropiada o si exageramos la cantidad de epocas.  \n",
    "- Esto ocasiona que el modelo memorice los datos, lo cual provoca que el modelo no sepa como interpretar datos que no ha visto en la etapa de aprendizaje.\n",
    "- La grafica muestra la complejidad en el eje x y el error en el eje y. Se muestra como el error disminuye a medida que aumentamos la complejidad del entrenamiento. Pero llega un punto donde la prueba del modelo con los datos de test, deja de disminuir el error e inicia a aumentarlo. Este es un caso de sobre entrenamiento.\n",
    "- Una opción para evitar este fallo es detener el proceso de entrenamiento cuando detectamos que el gap entre el set de entrenamiento y prueba son demasiado pronunciados o amplios. \n",
    "- Matematicamente cuando existe una alta varianza y un bajo baias es un indicador de overfitting.\n",
    "- El estremo contrario es un indicador de sub entrenamiento. "
   ]
  },
  {
   "cell_type": "markdown",
   "metadata": {},
   "source": [
    "**Regularización:** La regularización es un método que nos ayuda a evitar el overfitting. Lo hace penalizando o minimizando la complejidad de la red neuronal. Esta penalización consiste en identificar la variables que no aportan o aportan poco a la identificación de la variable obetivo. Existen diferentes métodos de regularización:\n",
    "\n",
    "- Regularización Lasso ó L1: Penaliza la suma de los valores absolutos de los pesos. Genera un modelo mas simple e interpretable. Es robusto a los outliers. \n",
    "\n",
    "- Regularización Ridge ó L2: Penaliza la suma de cuadrados de los valores de los pesos. El parametro lambda suele ser pequeño. Útil para aprender patrones complejos de los datos. No es robustoa outliers. Permite encontrar correlaciones entre datos de multiples variables. Por esto da valores altos a los pesos. \n",
    "\n",
    "- Regularización ElasticNet: Combina ambos beneficios de regularización Lx: L1: eliminar pesos no significativos L2: eliminar pesos correlacionados. Es muy util cuando tenemos multiples variables que se correlacionan entre si y otros que no son muy utiles entre sí. Requiere de dos parametros lambda correspondientes a las dos regularizaciones que lo conforman.\n",
    "\n",
    "- Regulación dropout: Consiste en apagar de manera aleatoria un porcentaje de neuronas en cada capa. Esto ayuda a aumentar el tiempo de entrenamiento, al disminuir el número de neuronas en el modelo. Pero su aporte más importante, consiste en que las neuronas subsiguientes no dependeran absolutamente de los resultados de las neuronas que lo preceden. Disminuyendo el overfitting. En Keras se instancia despues de crear una capa indicando en sus parametros el % de neuronas a apagar. \n",
    "\n",
    "- BatchNorm: Este se considera una inovación clave en el deep learning moderno (2016). Similar a la normalización de los inputs, pero en capas intermedias. Consiste en tomar un batch de datos calcular su media y varianza, actualizar los datos restandolos por su media y dividiendo por su varianza a esto sumarle la constante epsilon, para luego aplicarle una transformación. Más información en este link:\n",
    "https://towardsdatascience.com/batch-normalization-and-dropout-in-neural-networks-explained-with-pytorch-47d7a8459bcd\n",
    "\n",
    "- Data Augmentation: Esta técnica es simple pero elgante y se aplica bastante en imagenes, consiste en rotar la imagen o hacerle un zoom e incluir esta matriz en el algoritmo, ya sea el de una red generativa o convolucional. Es la misma imagen pero su matriz de datos no es la misma."
   ]
  },
  {
   "cell_type": "code",
   "execution_count": null,
   "metadata": {},
   "outputs": [],
   "source": [
    "'''\n",
    "#Ejemplo de regularización usando Keras\n",
    "\n",
    "from keras import regularizers, Sequential\n",
    "model = Sequential()\n",
    "#Usando una regularización L1\n",
    "model.add(Dense(24, input_dim = Numero_Variables,\n",
    "                kernel_regularizaers = regularizaers.l1(0.01) #El parametro es el valor de lambda \n",
    "))\n",
    "\n",
    "#Usando una regularización L2\n",
    "model.add(Dense(24, input_dim = Numero_Variables,\n",
    "                kernel_regularizaers = regularizaers.l2(0.01) #El parametro es el valor de lambda \n",
    "))\n",
    "\n",
    "#Usando una regularización elastic net lx\n",
    "model.add(Dense(24, input_dim = Numero_Variables,\n",
    "                kernel_regularizaers = regularizaers.l1_l2(l1=0.01, l2 = 0.01) #El parametro es el valor de lambda \n",
    "))\n",
    "\n",
    "#Usando regularización dropout, requiere el porcentaje de neuronas a apagar\n",
    "model.add(Dropout(0.2))\n",
    "'''"
   ]
  },
  {
   "cell_type": "markdown",
   "metadata": {},
   "source": [
    "# Ajuste de redes neuronales: Hiper parámetros\n",
    "\n",
    "Los parametros nos ayudan a ajustar los pesos sinapticos entre las neuronas. Es decir los pesos sinapticos que hacen la multiplicación entre las entradas y las funciones de activación para obtener la salida entre las capas.  \n",
    "Adicionalmente existen los hiperparametros, que se refieren a las caracteristicas de configuración para ajustar el modelo de red neuronal, no existe un metodo que indique cuales son los valores adecuados para encontrar estos datos de ajuste. Sin embargo, si hay una serie de pasos logicos que ayudan a encontrar aproximaciones con buenos resultados. "
   ]
  },
  {
   "cell_type": "markdown",
   "metadata": {},
   "source": [
    "### Numero de capas y neuronas por capa:\n",
    "\n",
    "**Numero de capas:** Al aumentar el numero de capas se aumenta el tiempo de entrenamiento y la complejidad del modelo. Pero a su vez, el modelo es capaz de aprender comportamientos muy complejos. La recomendación es iniciar con una pequeña arquitectura e ir aumentando poco a poco hasta encontrar una cantidad adecuada de capas. \n",
    "\n",
    "**Número de neuronas:** Este valor acompaña directamente el número de capas del modelo. Por convensión se inicia la primera capa como:  \n",
    "Número de neuronas = Potencia de dos mas cercana a 2 * (número de neuronas).  \n",
    "\n",
    "Por ejemplo: Variables = 30 entradas -> 30 * 2 = 60, la potencia mas cercana a 60 es 2^6 = 64  \n",
    "\n",
    "Es aconsejable iniciar la primera capa con 64 neuronas. Las siguientes capas, generalmente tienen menos neuronas respecto a la primera, esta disminución debe hacerse tambien en potencias de dos. Por ejemplo 2^5 = 32 neuronas-"
   ]
  },
  {
   "cell_type": "markdown",
   "metadata": {},
   "source": [
    "### Épocas e inicializadores \n",
    "\n",
    "**Epocas:** A medida que se va entrenando el modelo (mas epocas), la función de error va disminuyendo. Pero llega un punto donde la función de error para el set de entrenamiento sigue disminuyendo pero para el set de prueba aumenta. En este punto las dos graficas divergen y podemos usar este punto como metodo de regularización. A este punto se le denomina early termination y servira para ajustar este modelo hasta esta cantidad de epocas. \n",
    "\n",
    "**Inicializadores:** La inicialización glorot es ampliamente usada y generalmente acertada para inicializar los pesos de nuestra red neuronal. \n",
    "\n",
    "**Taza de aprendizaje o learning rate:** El optimizador de adam tiene un valor por defecto para inicializar\n",
    "\n",
    "**Batch o lote de datos:** Sirve para entregar un lote de datos por partes, este tamaño se recomienda pasarlo en función de una potencia de dos. Si aumentamos el tamaño de batch el entrenamiento sera mas preciso pero más lento de entrenar. Si el batch es pequeño, el modelo entrenara mas rapido pero pierde presición."
   ]
  },
  {
   "cell_type": "markdown",
   "metadata": {},
   "source": [
    "## Funciones de activación y perdida:\n",
    "\n",
    "Elegir una de ellas esta ligado a si tenemos una regresión o una clasificación. La siguiente tabla resume las recomendaciones para elegir la función de perdida y la función de activación de la ultima capa según el tipo de salida que tenemos como resultado de nuestro modelo. Para las capas ocultas es recomendable usar relu y comunmente MSE \n",
    "\n",
    "| Tipo de problema| Tipo de salida                         | Función de activación final | Función de perdidas    |\n",
    "| :-------------: | :------------------------------------: | :-------------------------: | :--------------------: |\n",
    "| Regresión       | Valor numerico                         | Linear                      | Mean Square Error      |\n",
    "| Clasificación   | Salida Binaria                         | Sigmoid                     | Binary cross entropy   |\n",
    "| Clasificación   | Unica etiqueta, multiples clases       | Softmax                     | Cross entropy          |\n",
    "| Clasificación   | Multiples etiquetas, multiples clases  | Sigmoid                     | Binary cross entropy   |"
   ]
  },
  {
   "cell_type": "markdown",
   "metadata": {},
   "source": [
    "## Librerias de ajuste y optimización de hiperparametros en Keras\n",
    "\n",
    "- Hiperopt -> Libreria popular de Python enfocada en optimizar todo tipo de espacios de busqueda, incluyendo espacios reales como las tasa de aprendizaje, o valores discretos como el número de capas. \n",
    "- Hyperast, kopt o talos -> Librerias de optimización de modelos implementados en keras\n",
    "- Scikit optimize (Skopt) -> Hace una busqueda de hiperparametros en modalidad de grilla. Evalundo diferentes combinacioenes hasta optener un punto optimo. "
   ]
  },
  {
   "cell_type": "markdown",
   "metadata": {},
   "source": [
    "En cuanto a keras existen algo conocido como callbacks que son procesos que se aplican dentro del entrenamiento y mejoran estos hiperparametros, en el orden del video que conozca existen:\n",
    "\n",
    "**EarlyStopping**\n",
    "Este detiene el entrenamiento al no ver mejora en una metrica como la perdidad, error, loss, val_loss, entre otras, cuenta con un parametro paciencia que permite ajustar a las epocas de no ver mejoria en el entrenamiento parara.\n",
    "\n",
    "**ModelCheckpoint**\n",
    "Este callback guarda los pesos y estructura del modelo entrenado por cada epoca, tambien se puede configurar para que guarde solo si el modelo ha mejorado en la epoca actual.\n",
    "\n",
    "**ReduceLROnPlateau**\n",
    "Tiene la funcion de monitorear una metrica de mejora configurada por el usuario y cuando no vea mejora reduce la taza de aprendizaje(Learning Rate) lo que le permite frenar el paso cada vez mas y encontrar el minimo local o global.\n",
    "\n",
    "**Tensorboard**\n",
    "Es un dashboard con toda la informacion y metricas pertinentes configurada en uno o varios modelos, es un tablero superdinamico que permite comparar modelos y configuraciones."
   ]
  },
  {
   "cell_type": "markdown",
   "metadata": {},
   "source": [
    "# La normalización ha fracasado investigar como se normaliza de manera correcta una señal"
   ]
  },
  {
   "cell_type": "code",
   "execution_count": null,
   "metadata": {},
   "outputs": [],
   "source": [
    "from keras.models import Sequential from keras.layers import Dense, Activation model = Sequential() model.add(Dense(102, input_dim=102, kernel_initializer='normal',activation='relu')) model.add(Dense(30, kernel_initializer='normal',activation='relu')) model.add(Dense(10, kernel_initializer='normal',activation='relu')) model.add(Dense(3, kernel_initializer='normal')) model.compile(loss='mean_squared_error', optimizer='adam',metrics=['mean_absolute_percentage_error'])"
   ]
  }
 ],
 "metadata": {
  "kernelspec": {
   "display_name": "Python 3",
   "language": "python",
   "name": "python3"
  },
  "language_info": {
   "codemirror_mode": {
    "name": "ipython",
    "version": 3
   },
   "file_extension": ".py",
   "mimetype": "text/x-python",
   "name": "python",
   "nbconvert_exporter": "python",
   "pygments_lexer": "ipython3",
   "version": "3.8.3"
  }
 },
 "nbformat": 4,
 "nbformat_minor": 4
}
