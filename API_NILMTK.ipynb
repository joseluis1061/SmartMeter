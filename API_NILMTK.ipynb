{
 "cells": [
  {
   "cell_type": "markdown",
   "metadata": {},
   "source": [
    "# Convert data to NILMTK format and load into NILMTK\n",
    "# Convierta los datos al formato NILMTK y cárguelos en NILMTK"
   ]
  },
  {
   "cell_type": "code",
   "execution_count": 1,
   "metadata": {},
   "outputs": [],
   "source": [
    "import nilmtk\n",
    "import matplotlib.pyplot as plt\n",
    "import pandas as pd\n",
    "import numpy as np"
   ]
  },
  {
   "cell_type": "markdown",
   "metadata": {},
   "source": [
    "NILMTK utiliza un formato de archivo abierto basado en el formato de archivo binario HDF5 para almacenar tanto los datos de energía como los metadatos. El primer paso al utilizar NILMTK es convertir su conjunto de datos al formato de archivo NILMTK HDF5."
   ]
  },
  {
   "cell_type": "markdown",
   "metadata": {},
   "source": [
    "** NOTA**: Si está en Windows, recuerde escapar de las barras invertidas, use barras inclinadas hacia adelante o use cadenas sin procesar cuando pase rutas en Python, p. Ej. uno de los siguientes funcionaría:\n",
    "\n",
    "```python\n",
    "convert_redd('c:\\\\data\\\\REDD\\\\low_freq', r'c:\\\\data\\\\redd.h5')\n",
    "convert_redd('c:/data/REDD/low_freq', 'c:/data/redd.h5')\n",
    "convert_redd(r'c:\\data\\REDD\\low_freq', r'c:\\data\\redd.h5')\n",
    "```"
   ]
  },
  {
   "cell_type": "markdown",
   "metadata": {},
   "source": [
    "## REDD"
   ]
  },
  {
   "cell_type": "markdown",
   "metadata": {},
   "source": [
    "Convertir el conjunto de datos REDD como una estructura de datos .h5 es fácil:\n",
    "\n",
    "**Nota** Solo ejecutar en caso que el archivo de datos redd.h5 este roto o no lo encuentre en sus archivos"
   ]
  },
  {
   "cell_type": "code",
   "execution_count": 2,
   "metadata": {},
   "outputs": [],
   "source": [
    "from nilmtk.dataset_converters import convert_redd\n",
    "#Guardar en formato h5\n",
    "#convert_redd('C:\\\\Users\\\\josel\\\\SmartMeter\\\\OrdenandoTodo\\\\low_freq', 'C:\\\\Users\\\\josel\\\\SmartMeter\\\\OrdenandoTodo\\\\redd.h5')\n",
    "#Guardar en formato en csv\n",
    "#convert_redd('C:\\\\Users\\\\josel\\\\SmartMeter\\\\OrdenandoTodo\\\\low_freq', 'C:\\\\Users\\\\josel\\\\SmartMeter\\\\OrdenandoTodo\\\\redd_LF.csv', 'CSV')"
   ]
  },
  {
   "cell_type": "markdown",
   "metadata": {},
   "source": [
    "Ahora `redd.h5` contiene todos los datos de energía de REDD y todos los metadatos relevantes. En NILMTK v0.2, esta conversión solo usa una pequeña fracción de la memoria del sistema (a diferencia de NILMTK v0.1 que consumiría ~ 1 GByte de RAM solo para hacer la conversión del conjunto de datos).\n",
    "\n",
    "Por supuesto, si desea ejecutar `convert_redd` en su propia máquina, primero debe descargar [REDD] (http://redd.csail.mit.edu), descomprimirlo y pasar los correspondientes` source_directory` y ʻoutput_filename `a` convert_redd () `."
   ]
  },
  {
   "cell_type": "markdown",
   "metadata": {},
   "source": [
    "## Otros DataSet\n"
   ]
  },
  {
   "cell_type": "markdown",
   "metadata": {},
   "source": [
    "En el momento de escribir este artículo, [NILMTK contiene convertidores para 8 conjuntos de datos] (https://github.com/nilmtk/nilmtk/tree/master/nilmtk/dataset_converters).\n",
    "\n",
    "¡Contribuir con un nuevo convertidor es fácil y muy recomendable! [Aprenda a escribir un convertidor de conjuntos de datos] (https://github.com/nilmtk/nilmtk/blob/master/docs/manual/development_guide/writing_a_dataset_converter.md)."
   ]
  },
  {
   "cell_type": "markdown",
   "metadata": {},
   "source": [
    "## Abrir HDF5 en NILMTK"
   ]
  },
  {
   "cell_type": "code",
   "execution_count": 3,
   "metadata": {
    "scrolled": false
   },
   "outputs": [],
   "source": [
    "from nilmtk import DataSet\n",
    "from nilmtk.utils import print_dict\n",
    "directorio = ('C:\\\\Users\\\\josel\\\\SmartMeter\\\\OrdenandoTodo\\\\redd.h5')\n",
    "redd = DataSet('C:\\\\Users\\\\josel\\\\SmartMeter\\\\OrdenandoTodo\\\\redd.h5') #Puede cargarlo como csv"
   ]
  },
  {
   "cell_type": "markdown",
   "metadata": {},
   "source": [
    "En este punto, todos los metadatos se han cargado en la memoria, pero no se ha cargado ninguno de los datos de energía. Este es nuestro primer encuentro con una diferencia fundamental entre NILMTK v0.1 y v0.2 +: NILMTK v0.1 solía cargar con entusiasmo todo el conjunto de datos en la memoria antes de que usted hiciera ningún trabajo real en los datos. ¡NILMTK v0.2 + es perezoso! No cargará datos en la memoria hasta que le diga lo que quiere hacer con los datos (e, incluso entonces, se cargarán grandes conjuntos de datos en trozos que quepan en la memoria). Esto permite que NILMTK v0.2 + funcione con conjuntos de datos arbitrariamente grandes (conjuntos de datos demasiado grandes para caber en la memoria) sin ahogar su sistema."
   ]
  },
  {
   "cell_type": "markdown",
   "metadata": {},
   "source": [
    "### Explorando el objeto `DataSet`"
   ]
  },
  {
   "cell_type": "markdown",
   "metadata": {},
   "source": [
    "Echemos un vistazo rápido para ver qué hay en este objeto `redd` ...\n",
    "\n",
    "Hay muchos metadatos asociados con el conjunto de datos, incluida información sobre los dos modelos de dispositivo de medición que los autores utilizaron para registrar REDD:"
   ]
  },
  {
   "cell_type": "code",
   "execution_count": 4,
   "metadata": {},
   "outputs": [
    {
     "data": {
      "text/html": [
       "<ul><li><strong>name</strong>: REDD</li><li><strong>long_name</strong>: The Reference Energy Disaggregation Data set</li><li><strong>creators</strong>: <ul><li>Kolter, Zico</li><li>Johnson, Matthew</li></ul></li><li><strong>publication_date</strong>: 2011</li><li><strong>institution</strong>: Massachusetts Institute of Technology (MIT)</li><li><strong>contact</strong>: zkolter@cs.cmu.edu</li><li><strong>description</strong>: Several weeks of power data for 6 different homes.</li><li><strong>subject</strong>: Disaggregated power demand from domestic buildings.</li><li><strong>number_of_buildings</strong>: 6</li><li><strong>timezone</strong>: US/Eastern</li><li><strong>geo_location</strong>: <ul><li><strong>locality</strong>: Massachusetts</li><li><strong>country</strong>: US</li><li><strong>latitude</strong>: 42.360091</li><li><strong>longitude</strong>: -71.09416</li></ul></li><li><strong>related_documents</strong>: <ul><li><a href=\"http://redd.csail.mit.edu\">http://redd.csail.mit.edu</a></li><li>J. Zico Kolter and Matthew J. Johnson. REDD: A public data set for energy disaggregation research. In proceedings of the SustKDD workshop on Data Mining Applications in Sustainability, 2011. <a href=\"http://redd.csail.mit.edu/kolter-kddsust11.pdf\">http://redd.csail.mit.edu/kolter-kddsust11.pdf</a>\n",
       "</li></ul></li><li><strong>schema</strong>: <a href=\"https://github.com/nilmtk/nilm_metadata/tree/v0.2\">https://github.com/nilmtk/nilm_metadata/tree/v0.2</a></li><li><strong>meter_devices</strong>: <ul><li><strong>eMonitor</strong>: <ul><li><strong>model</strong>: eMonitor</li><li><strong>manufacturer</strong>: Powerhouse Dynamics</li><li><strong>manufacturer_url</strong>: <a href=\"http://powerhousedynamics.com\">http://powerhousedynamics.com</a></li><li><strong>description</strong>: Measures circuit-level power demand.  Comes with 24 CTs. This FAQ page suggests the eMonitor measures real (active) power: <a href=\"http://www.energycircle.com/node/14103\">http://www.energycircle.com/node/14103</a>  although the REDD readme.txt says all channels record apparent power.\n",
       "</li><li><strong>sample_period</strong>: 3</li><li><strong>max_sample_period</strong>: 50</li><li><strong>measurements</strong>: <ul><li>{'physical_quantity': 'power', 'type': 'active', 'upper_limit': 5000, 'lower_limit': 0}</li></ul></li><li><strong>wireless</strong>: False</li></ul></li><li><strong>REDD_whole_house</strong>: <ul><li><strong>description</strong>: REDD's DIY power meter used to measure whole-home AC waveforms at high frequency.  To quote from their paper: \"CTs from TED (<a href=\"http://www.theenergydetective.com\">http://www.theenergydetective.com</a>) to measure current in the power mains, a Pico TA041 oscilloscope probe (<a href=\"http://www.picotechnologies.com\">http://www.picotechnologies.com</a>) to measure voltage for one of the two phases in the home, and a National Instruments NI-9239 analog to digital converter to transform both these analog signals to digital readings. This A/D converter has 24 bit resolution with noise of approximately 70 µV, which determines the noise level of our current and voltage readings: the TED CTs are rated for 200 amp circuits and a maximum of 3 volts, so we are able to differentiate between currents of approximately ((200))(70 × 10−6)/(3) = 4.66mA, corresponding to power changes of about 0.5 watts. Similarly, since we use a 1:100 voltage stepdown in the oscilloscope probe, we can detect voltage differences of about 7mV.\"\n",
       "</li><li><strong>sample_period</strong>: 1</li><li><strong>max_sample_period</strong>: 30</li><li><strong>measurements</strong>: <ul><li>{'physical_quantity': 'power', 'type': 'apparent', 'upper_limit': 50000, 'lower_limit': 0}</li></ul></li><li><strong>wireless</strong>: False</li></ul></li></ul></li></ul>"
      ],
      "text/plain": [
       "<IPython.core.display.HTML object>"
      ]
     },
     "metadata": {},
     "output_type": "display_data"
    }
   ],
   "source": [
    "print_dict(redd.metadata)"
   ]
  },
  {
   "cell_type": "markdown",
   "metadata": {},
   "source": [
    "También tenemos todos los edificios disponibles como [OrderedDict](https://docs.python.org/2/library/collections.html#collections.OrderedDict) (indexados desde 1 y no 0 porque cada conjunto de datos que conocemos comienza a numerar los edificios desde 1 y no con un 0)"
   ]
  },
  {
   "cell_type": "code",
   "execution_count": 5,
   "metadata": {},
   "outputs": [
    {
     "data": {
      "text/html": [
       "<ul><li><strong>1</strong>: Building(instance=1, dataset='REDD')</li><li><strong>2</strong>: Building(instance=2, dataset='REDD')</li><li><strong>3</strong>: Building(instance=3, dataset='REDD')</li><li><strong>4</strong>: Building(instance=4, dataset='REDD')</li><li><strong>5</strong>: Building(instance=5, dataset='REDD')</li><li><strong>6</strong>: Building(instance=6, dataset='REDD')</li></ul>"
      ],
      "text/plain": [
       "<IPython.core.display.HTML object>"
      ]
     },
     "metadata": {},
     "output_type": "display_data"
    }
   ],
   "source": [
    "#print_dict imprime los valores de anidados en un diccionario\n",
    "print_dict(redd.buildings)"
   ]
  },
  {
   "cell_type": "markdown",
   "metadata": {},
   "source": [
    "Cada edificio tiene un poco de metadatos asociados (no hay muchos metadatos específicos del edificio en REDD):"
   ]
  },
  {
   "cell_type": "code",
   "execution_count": 4,
   "metadata": {},
   "outputs": [
    {
     "data": {
      "text/html": [
       "<ul><li><strong>instance</strong>: 1</li><li><strong>original_name</strong>: house_1</li><li><strong>dataset</strong>: REDD</li></ul>"
      ],
      "text/plain": [
       "<IPython.core.display.HTML object>"
      ]
     },
     "metadata": {},
     "output_type": "display_data"
    }
   ],
   "source": [
    "print_dict(redd.buildings[1].metadata)"
   ]
  },
  {
   "cell_type": "markdown",
   "metadata": {},
   "source": [
    "Cada edificio tiene un atributo ʻelec` que es un objeto `MeterGroup` (¡mucho más sobre estos pronto!)"
   ]
  },
  {
   "cell_type": "code",
   "execution_count": 5,
   "metadata": {},
   "outputs": [
    {
     "data": {
      "text/plain": [
       "MeterGroup(meters=\n",
       "  ElecMeter(instance=1, building=1, dataset='REDD', site_meter, appliances=[])\n",
       "  ElecMeter(instance=2, building=1, dataset='REDD', site_meter, appliances=[])\n",
       "  ElecMeter(instance=5, building=1, dataset='REDD', appliances=[Appliance(type='fridge', instance=1)])\n",
       "  ElecMeter(instance=6, building=1, dataset='REDD', appliances=[Appliance(type='dish washer', instance=1)])\n",
       "  ElecMeter(instance=7, building=1, dataset='REDD', appliances=[Appliance(type='sockets', instance=1)])\n",
       "  ElecMeter(instance=8, building=1, dataset='REDD', appliances=[Appliance(type='sockets', instance=2)])\n",
       "  ElecMeter(instance=9, building=1, dataset='REDD', appliances=[Appliance(type='light', instance=1)])\n",
       "  ElecMeter(instance=11, building=1, dataset='REDD', appliances=[Appliance(type='microwave', instance=1)])\n",
       "  ElecMeter(instance=12, building=1, dataset='REDD', appliances=[Appliance(type='unknown', instance=1)])\n",
       "  ElecMeter(instance=13, building=1, dataset='REDD', appliances=[Appliance(type='electric space heater', instance=1)])\n",
       "  ElecMeter(instance=14, building=1, dataset='REDD', appliances=[Appliance(type='electric stove', instance=1)])\n",
       "  ElecMeter(instance=15, building=1, dataset='REDD', appliances=[Appliance(type='sockets', instance=3)])\n",
       "  ElecMeter(instance=16, building=1, dataset='REDD', appliances=[Appliance(type='sockets', instance=4)])\n",
       "  ElecMeter(instance=17, building=1, dataset='REDD', appliances=[Appliance(type='light', instance=2)])\n",
       "  ElecMeter(instance=18, building=1, dataset='REDD', appliances=[Appliance(type='light', instance=3)])\n",
       "  ElecMeter(instance=19, building=1, dataset='REDD', appliances=[Appliance(type='unknown', instance=2)])\n",
       "  MeterGroup(meters=\n",
       "    ElecMeter(instance=3, building=1, dataset='REDD', appliances=[Appliance(type='electric oven', instance=1)])\n",
       "    ElecMeter(instance=4, building=1, dataset='REDD', appliances=[Appliance(type='electric oven', instance=1)])\n",
       "  )\n",
       "  MeterGroup(meters=\n",
       "    ElecMeter(instance=10, building=1, dataset='REDD', appliances=[Appliance(type='washer dryer', instance=1)])\n",
       "    ElecMeter(instance=20, building=1, dataset='REDD', appliances=[Appliance(type='washer dryer', instance=1)])\n",
       "  )\n",
       ")"
      ]
     },
     "execution_count": 5,
     "metadata": {},
     "output_type": "execute_result"
    }
   ],
   "source": [
    "redd.buildings[1].elec"
   ]
  },
  {
   "cell_type": "markdown",
   "metadata": {},
   "source": [
    "¡Sí, ahí es donde está toda la carne!"
   ]
  },
  {
   "cell_type": "markdown",
   "metadata": {},
   "source": [
    "# Carga de datos en la memoria"
   ]
  },
  {
   "cell_type": "markdown",
   "metadata": {},
   "source": [
    "La carga de API es fundamental para muchas operaciones nilmtk y proporciona una gran flexibilidad. Veamos las formas en las que podemos cargar datos de un NILMTK DataStore en la memoria. Para ver la gama completa de consultas posibles, usaremos el [conjunto de datos iAWE] (http://iawe.github.io) (cuyo archivo HDF5 se puede descargar [aquí] (https://copy.com/C2sIt1UfDx1mfPlC )).\n",
    "\n",
    "La función `load` devuelve un *generador* de DataFrames cargados desde DataStore según las condiciones especificadas. Si no se especifican condiciones, se cargan todos los datos de todas las columnas. (Si no ha encontrado generadores de Python, podría valer la pena leer [esta guía rápida de generadores de Python] (http://stackoverflow.com/a/1756156/732596).)"
   ]
  },
  {
   "cell_type": "markdown",
   "metadata": {},
   "source": [
    "**NOTA**: Si está en Windows, recuerde evitar de las barras invertidas, use barras inclinadas hacia adelante o use cadenas sin procesar cuando pase rutas en Python, p. Ej. uno de los siguientes funcionaría:\n",
    "\n",
    "```python\n",
    "iawe = DataSet('c:\\\\data\\\\iawe.h5')\n",
    "iawe = DataSet('c:/data/iawe.h5')\n",
    "iawe = DataSet(r'c:\\data\\iawe.h5')\n",
    "```"
   ]
  },
  {
   "cell_type": "markdown",
   "metadata": {},
   "source": [
    "#Lineas de código original, en nuestro caso ya cargamos los datos de REDD\n",
    "from nilmtk import DataSet\n",
    "\n",
    "iawe = DataSet('/data/iawe.h5') \n",
    "\n",
    "elec = iawe.buildings[1].elec \n",
    "\n",
    "elec"
   ]
  },
  {
   "cell_type": "code",
   "execution_count": 6,
   "metadata": {},
   "outputs": [
    {
     "data": {
      "text/plain": [
       "nilmtk.metergroup.MeterGroup"
      ]
     },
     "execution_count": 6,
     "metadata": {},
     "output_type": "execute_result"
    }
   ],
   "source": [
    "type(redd.buildings[1].elec)"
   ]
  },
  {
   "cell_type": "markdown",
   "metadata": {},
   "source": [
    "Podemos seleccionar los electrodomesticos de un edificio con la función .building el cual es una colección de datos divididos, para seleccionar un edificio en particular escribirmos entre corchetes nuestro edificio objetivo. \n",
    "\n",
    "Las colecciones estan conformadas por objetos nilmtk.metergroup.MeterGroup que en este caso agrupan dispositivos por edificio, para seleccionar una colección de electrodomesticos basta con invocar el metodo .elec"
   ]
  },
  {
   "cell_type": "code",
   "execution_count": 7,
   "metadata": {},
   "outputs": [
    {
     "data": {
      "text/plain": [
       "MeterGroup(meters=\n",
       "  ElecMeter(instance=1, building=1, dataset='REDD', site_meter, appliances=[])\n",
       "  ElecMeter(instance=2, building=1, dataset='REDD', site_meter, appliances=[])\n",
       "  ElecMeter(instance=5, building=1, dataset='REDD', appliances=[Appliance(type='fridge', instance=1)])\n",
       "  ElecMeter(instance=6, building=1, dataset='REDD', appliances=[Appliance(type='dish washer', instance=1)])\n",
       "  ElecMeter(instance=7, building=1, dataset='REDD', appliances=[Appliance(type='sockets', instance=1)])\n",
       "  ElecMeter(instance=8, building=1, dataset='REDD', appliances=[Appliance(type='sockets', instance=2)])\n",
       "  ElecMeter(instance=9, building=1, dataset='REDD', appliances=[Appliance(type='light', instance=1)])\n",
       "  ElecMeter(instance=11, building=1, dataset='REDD', appliances=[Appliance(type='microwave', instance=1)])\n",
       "  ElecMeter(instance=12, building=1, dataset='REDD', appliances=[Appliance(type='unknown', instance=1)])\n",
       "  ElecMeter(instance=13, building=1, dataset='REDD', appliances=[Appliance(type='electric space heater', instance=1)])\n",
       "  ElecMeter(instance=14, building=1, dataset='REDD', appliances=[Appliance(type='electric stove', instance=1)])\n",
       "  ElecMeter(instance=15, building=1, dataset='REDD', appliances=[Appliance(type='sockets', instance=3)])\n",
       "  ElecMeter(instance=16, building=1, dataset='REDD', appliances=[Appliance(type='sockets', instance=4)])\n",
       "  ElecMeter(instance=17, building=1, dataset='REDD', appliances=[Appliance(type='light', instance=2)])\n",
       "  ElecMeter(instance=18, building=1, dataset='REDD', appliances=[Appliance(type='light', instance=3)])\n",
       "  ElecMeter(instance=19, building=1, dataset='REDD', appliances=[Appliance(type='unknown', instance=2)])\n",
       "  MeterGroup(meters=\n",
       "    ElecMeter(instance=3, building=1, dataset='REDD', appliances=[Appliance(type='electric oven', instance=1)])\n",
       "    ElecMeter(instance=4, building=1, dataset='REDD', appliances=[Appliance(type='electric oven', instance=1)])\n",
       "  )\n",
       "  MeterGroup(meters=\n",
       "    ElecMeter(instance=10, building=1, dataset='REDD', appliances=[Appliance(type='washer dryer', instance=1)])\n",
       "    ElecMeter(instance=20, building=1, dataset='REDD', appliances=[Appliance(type='washer dryer', instance=1)])\n",
       "  )\n",
       ")"
      ]
     },
     "execution_count": 7,
     "metadata": {},
     "output_type": "execute_result"
    }
   ],
   "source": [
    "#elec = redd.buildings[2].elec \n",
    "elec = redd.buildings[1].elec \n",
    "elec"
   ]
  },
  {
   "cell_type": "markdown",
   "metadata": {},
   "source": [
    "**.elec** nos da información de los metadatos y algunas estadisticas basicas a partir de las medidas como: correlación entre medidas, suma de señales, instantes de tiempo donde el medidor funciono de manera correcta"
   ]
  },
  {
   "cell_type": "markdown",
   "metadata": {},
   "source": [
    "Para seleccionar un dispositivo en particular lo hacemos invocando el dispositivo por medio de su etiqueta.\n",
    "\n",
    "Veamos que medidas tenemos para la nevera:"
   ]
  },
  {
   "cell_type": "code",
   "execution_count": 8,
   "metadata": {},
   "outputs": [
    {
     "data": {
      "text/plain": [
       "[('power', 'active')]"
      ]
     },
     "execution_count": 8,
     "metadata": {},
     "output_type": "execute_result"
    }
   ],
   "source": [
    "fridge = elec['fridge']\n",
    "fridge.available_columns()"
   ]
  },
  {
   "cell_type": "markdown",
   "metadata": {},
   "source": [
    "Despues de seleccionar un dispositivo podemos acceder a las activaciones aisladas para dicho dispositivo por medio del método: .activation_series ()\n",
    "\n",
    "### Firma: elec.activation_series (* args, ** kwargs)\n",
    "Docstring:\n",
    "Devuelve ejecuciones de un dispositivo.\n",
    "\n",
    "La mayoría de los electrodomésticos pasan gran parte de su tiempo apagados. Esta función busca períodos en los que el aparato está encendido.\n",
    "\n",
    "#### Parámetros\n",
    "----------\n",
    "**min_off_duration: int**\n",
    "    Si min_off_duration> 0, ignore los períodos de 'apagado' inferiores a min_off_duration segundos de consumo de energía por debajo del umbral\n",
    "    (Por ejemplo, es posible que una lavadora no consuma energía durante un período breve mientras la ropa se remoja). Valor predeterminado de los metadatos o, si no hay metadatos, el valor predeterminado es 0.\n",
    "    \n",
    "**min_on_duration: int**\n",
    "    Se ignorará cualquier activación que dure menos de segundos que min_on_duration. Valor predeterminado de los metadatos o, si no hay metadatos, el valor predeterminado es 0.\n",
    "    \n",
    "**borde: int**\n",
    "    Número de filas para incluir antes y después de la activación detectada on_power_threshold: int o float\n",
    "    Por defecto es self.on_power_threshold ()\n",
    "    \n",
    "**kwargs : kwargs for self.power_series()**\n",
    "\n",
    "#### Devoluciones\n",
    "-------\n",
    "lista de pd.Series. Cada serie contiene una activación.\n",
    "\n",
    ".. nota :: Obsoleto\n",
    "\n",
    "  Se eliminará la `serie_activación` en NILMTK v0.3.\n",
    "  \n",
    "  En su lugar, utilice `get_activations`.\n",
    "  \n",
    "Archivo: c: \\ users \\ josel \\ anaconda3 \\ envs \\ nilmtk-env \\ lib \\ site-packages \\ nilmtk \\ electric.py\n",
    "\n",
    "Tipo: método"
   ]
  },
  {
   "cell_type": "code",
   "execution_count": 9,
   "metadata": {},
   "outputs": [],
   "source": [
    "señales_refrigerador = fridge.activation_series()"
   ]
  },
  {
   "cell_type": "code",
   "execution_count": 10,
   "metadata": {
    "scrolled": true
   },
   "outputs": [
    {
     "name": "stdout",
     "output_type": "stream",
     "text": [
      "2011-04-18 10:17:36-04:00\n",
      "2011-04-18 10:42:57-04:00\n",
      "Número de señales: 727\n",
      "tipo inicio <class 'pandas._libs.tslibs.timestamps.Timestamp'>\n",
      "tipo fin <class 'pandas._libs.tslibs.timestamps.Timestamp'>\n"
     ]
    }
   ],
   "source": [
    "id_senial = 0\n",
    "inicio = pd.to_datetime(señales_refrigerador[id_senial].index[0])\n",
    "fin = pd.to_datetime(señales_refrigerador[id_senial].index[len(señales_refrigerador[0])-1])\n",
    "\n",
    "print(f'{señales_refrigerador[id_senial].index[0]}')\n",
    "print(f'{señales_refrigerador[id_senial].index[len(señales_refrigerador[0])-1]}')\n",
    "print(f'Número de señales: {len(señales_refrigerador)}')\n",
    "print(f'tipo inicio {type(inicio)}')\n",
    "print(f'tipo fin {type(fin)}')"
   ]
  },
  {
   "cell_type": "code",
   "execution_count": 15,
   "metadata": {},
   "outputs": [
    {
     "data": {
      "text/plain": [
       "[<matplotlib.lines.Line2D at 0x198c01a9cc0>]"
      ]
     },
     "execution_count": 15,
     "metadata": {},
     "output_type": "execute_result"
    },
    {
     "data": {
      "image/png": "[encoded data removed]",
      "text/plain": [
       "<Figure size 432x288 with 1 Axes>"
      ]
     },
     "metadata": {
      "needs_background": "light"
     },
     "output_type": "display_data"
    }
   ],
   "source": [
    "id_senial = 0\n",
    "plt.plot(señales_refrigerador[id_senial])"
   ]
  },
  {
   "cell_type": "markdown",
   "metadata": {},
   "source": [
    "Verificando si las señales coinciden entre las tomadas en el medidor del dispositivo y las que se aislaron mediante la libreria. "
   ]
  },
  {
   "cell_type": "code",
   "execution_count": 46,
   "metadata": {},
   "outputs": [
    {
     "data": {
      "text/html": [
       "<div>\n",
       "<style scoped>\n",
       "    .dataframe tbody tr th:only-of-type {\n",
       "        vertical-align: middle;\n",
       "    }\n",
       "\n",
       "    .dataframe tbody tr th {\n",
       "        vertical-align: top;\n",
       "    }\n",
       "\n",
       "    .dataframe thead th {\n",
       "        text-align: right;\n",
       "    }\n",
       "</style>\n",
       "<table border=\"1\" class=\"dataframe\">\n",
       "  <thead>\n",
       "    <tr style=\"text-align: right;\">\n",
       "      <th></th>\n",
       "      <th>power</th>\n",
       "    </tr>\n",
       "    <tr>\n",
       "      <th>time</th>\n",
       "      <th></th>\n",
       "    </tr>\n",
       "  </thead>\n",
       "  <tbody>\n",
       "    <tr>\n",
       "      <th>2011-04-18 01:31:40-04:00</th>\n",
       "      <td>6</td>\n",
       "    </tr>\n",
       "    <tr>\n",
       "      <th>2011-04-18 01:31:44-04:00</th>\n",
       "      <td>6</td>\n",
       "    </tr>\n",
       "    <tr>\n",
       "      <th>2011-04-18 01:31:47-04:00</th>\n",
       "      <td>6</td>\n",
       "    </tr>\n",
       "    <tr>\n",
       "      <th>2011-04-18 01:31:50-04:00</th>\n",
       "      <td>7</td>\n",
       "    </tr>\n",
       "    <tr>\n",
       "      <th>2011-04-18 01:32:05-04:00</th>\n",
       "      <td>7</td>\n",
       "    </tr>\n",
       "    <tr>\n",
       "      <th>...</th>\n",
       "      <td>...</td>\n",
       "    </tr>\n",
       "    <tr>\n",
       "      <th>2011-05-22 19:58:54-04:00</th>\n",
       "      <td>159</td>\n",
       "    </tr>\n",
       "    <tr>\n",
       "      <th>2011-05-22 19:58:57-04:00</th>\n",
       "      <td>158</td>\n",
       "    </tr>\n",
       "    <tr>\n",
       "      <th>2011-05-22 19:59:01-04:00</th>\n",
       "      <td>158</td>\n",
       "    </tr>\n",
       "    <tr>\n",
       "      <th>2011-05-22 19:59:04-04:00</th>\n",
       "      <td>160</td>\n",
       "    </tr>\n",
       "    <tr>\n",
       "      <th>2011-05-22 19:59:08-04:00</th>\n",
       "      <td>157</td>\n",
       "    </tr>\n",
       "  </tbody>\n",
       "</table>\n",
       "<p>318759 rows × 1 columns</p>\n",
       "</div>"
      ],
      "text/plain": [
       "                          power\n",
       "time                           \n",
       "2011-04-18 01:31:40-04:00     6\n",
       "2011-04-18 01:31:44-04:00     6\n",
       "2011-04-18 01:31:47-04:00     6\n",
       "2011-04-18 01:31:50-04:00     7\n",
       "2011-04-18 01:32:05-04:00     7\n",
       "...                         ...\n",
       "2011-05-22 19:58:54-04:00   159\n",
       "2011-05-22 19:58:57-04:00   158\n",
       "2011-05-22 19:59:01-04:00   158\n",
       "2011-05-22 19:59:04-04:00   160\n",
       "2011-05-22 19:59:08-04:00   157\n",
       "\n",
       "[318759 rows x 1 columns]"
      ]
     },
     "execution_count": 46,
     "metadata": {},
     "output_type": "execute_result"
    }
   ],
   "source": [
    "c2_refrigerador = pd.read_csv('C://Users//josel//SmartMeter//OrdenandoTodo//redd_LF//building2//elec//meter9.csv', \n",
    "                              header=[0,1])#, index_col=0)\n",
    "c2_refrigerador = c5_refrigerador.iloc[0:,:].values\n",
    "c2_refrigerador = pd.DataFrame(c5_refrigerador)\n",
    "c2_refrigerador.rename(columns={0:'time', 1:'power'}, inplace=True)\n",
    "#Cambiar a datos en formato de tiempo\n",
    "c2_refrigerador['time'] = pd.to_datetime(c2_refrigerador['time'])\n",
    "c2_refrigerador.set_index('time', inplace= True)\n",
    "c2_refrigerador"
   ]
  },
  {
   "cell_type": "code",
   "execution_count": 79,
   "metadata": {},
   "outputs": [],
   "source": [
    "#Tomar solo los datos para poder graficar\n",
    "datos = c2_refrigerador.loc[inicio:fin, 'power'].values\n",
    "print(f'Numero de datos en la señal {len(c2_refrigerador.loc[inicio:fin])}')"
   ]
  },
  {
   "cell_type": "code",
   "execution_count": 91,
   "metadata": {},
   "outputs": [
    {
     "data": {
      "text/html": [
       "<div>\n",
       "<style scoped>\n",
       "    .dataframe tbody tr th:only-of-type {\n",
       "        vertical-align: middle;\n",
       "    }\n",
       "\n",
       "    .dataframe tbody tr th {\n",
       "        vertical-align: top;\n",
       "    }\n",
       "\n",
       "    .dataframe thead th {\n",
       "        text-align: right;\n",
       "    }\n",
       "</style>\n",
       "<table border=\"1\" class=\"dataframe\">\n",
       "  <thead>\n",
       "    <tr style=\"text-align: right;\">\n",
       "      <th></th>\n",
       "      <th>power</th>\n",
       "    </tr>\n",
       "    <tr>\n",
       "      <th>time</th>\n",
       "      <th></th>\n",
       "    </tr>\n",
       "  </thead>\n",
       "  <tbody>\n",
       "    <tr>\n",
       "      <th>2011-04-19 13:41:06-04:00</th>\n",
       "      <td>6</td>\n",
       "    </tr>\n",
       "    <tr>\n",
       "      <th>2011-04-19 13:41:14-04:00</th>\n",
       "      <td>180</td>\n",
       "    </tr>\n",
       "    <tr>\n",
       "      <th>2011-04-19 13:41:18-04:00</th>\n",
       "      <td>182</td>\n",
       "    </tr>\n",
       "    <tr>\n",
       "      <th>2011-04-19 13:41:21-04:00</th>\n",
       "      <td>183</td>\n",
       "    </tr>\n",
       "    <tr>\n",
       "      <th>2011-04-19 13:41:25-04:00</th>\n",
       "      <td>186</td>\n",
       "    </tr>\n",
       "    <tr>\n",
       "      <th>...</th>\n",
       "      <td>...</td>\n",
       "    </tr>\n",
       "    <tr>\n",
       "      <th>2011-04-19 14:00:53-04:00</th>\n",
       "      <td>155</td>\n",
       "    </tr>\n",
       "    <tr>\n",
       "      <th>2011-04-19 14:00:56-04:00</th>\n",
       "      <td>155</td>\n",
       "    </tr>\n",
       "    <tr>\n",
       "      <th>2011-04-19 14:01:00-04:00</th>\n",
       "      <td>157</td>\n",
       "    </tr>\n",
       "    <tr>\n",
       "      <th>2011-04-19 14:01:03-04:00</th>\n",
       "      <td>159</td>\n",
       "    </tr>\n",
       "    <tr>\n",
       "      <th>2011-04-19 14:01:07-04:00</th>\n",
       "      <td>155</td>\n",
       "    </tr>\n",
       "  </tbody>\n",
       "</table>\n",
       "<p>320 rows × 1 columns</p>\n",
       "</div>"
      ],
      "text/plain": [
       "                          power\n",
       "time                           \n",
       "2011-04-19 13:41:06-04:00     6\n",
       "2011-04-19 13:41:14-04:00   180\n",
       "2011-04-19 13:41:18-04:00   182\n",
       "2011-04-19 13:41:21-04:00   183\n",
       "2011-04-19 13:41:25-04:00   186\n",
       "...                         ...\n",
       "2011-04-19 14:00:53-04:00   155\n",
       "2011-04-19 14:00:56-04:00   155\n",
       "2011-04-19 14:01:00-04:00   157\n",
       "2011-04-19 14:01:03-04:00   159\n",
       "2011-04-19 14:01:07-04:00   155\n",
       "\n",
       "[320 rows x 1 columns]"
      ]
     },
     "execution_count": 91,
     "metadata": {},
     "output_type": "execute_result"
    }
   ],
   "source": [
    "#Corroborar las datos en la sección cortada\n",
    "c2_refrigerador.loc[inicio:fin]"
   ]
  },
  {
   "cell_type": "code",
   "execution_count": 92,
   "metadata": {},
   "outputs": [
    {
     "data": {
      "text/plain": [
       "[<matplotlib.lines.Line2D at 0x20e87316898>]"
      ]
     },
     "execution_count": 92,
     "metadata": {},
     "output_type": "execute_result"
    },
    {
     "data": {
      "image/png": "[encoded data removed]",
      "text/plain": [
       "<Figure size 432x288 with 1 Axes>"
      ]
     },
     "metadata": {
      "needs_background": "light"
     },
     "output_type": "display_data"
    }
   ],
   "source": [
    "#Graficar los datos\n",
    "plt.plot(datos)"
   ]
  },
  {
   "cell_type": "markdown",
   "metadata": {},
   "source": [
    "Carguemos las señales del medidor central para ver que tipo de señal es la que se encuentra en el instante de tiempo en la que el refrigerador se enciende"
   ]
  },
  {
   "cell_type": "code",
   "execution_count": 97,
   "metadata": {},
   "outputs": [],
   "source": [
    "c2_medidor1 = pd.read_csv('C://Users//josel//SmartMeter//OrdenandoTodo//redd_LF//building2//elec//meter1.csv', \n",
    "                              header=[0,1])#, index_col=0)\n",
    "c2_medidor1 = c2_medidor1.iloc[0:,:].values\n",
    "c2_medidor1 = pd.DataFrame(c2_medidor1)\n",
    "c2_medidor1.rename(columns={0:'time', 1:'power'}, inplace=True)\n",
    "\n",
    "\n",
    "c2_medidor2 = pd.read_csv('C://Users//josel//SmartMeter//OrdenandoTodo//redd_LF//building2//elec//meter2.csv', \n",
    "                              header=[0,1])#, index_col=0)\n",
    "c2_medidor2 = c2_medidor2.iloc[0:,:].values\n",
    "c2_medidor2 = pd.DataFrame(c2_medidor2)\n",
    "c2_medidor2.rename(columns={0:'time', 1:'power'}, inplace=True)"
   ]
  },
  {
   "cell_type": "code",
   "execution_count": 98,
   "metadata": {},
   "outputs": [
    {
     "data": {
      "text/html": [
       "<div>\n",
       "<style scoped>\n",
       "    .dataframe tbody tr th:only-of-type {\n",
       "        vertical-align: middle;\n",
       "    }\n",
       "\n",
       "    .dataframe tbody tr th {\n",
       "        vertical-align: top;\n",
       "    }\n",
       "\n",
       "    .dataframe thead th {\n",
       "        text-align: right;\n",
       "    }\n",
       "</style>\n",
       "<table border=\"1\" class=\"dataframe\">\n",
       "  <thead>\n",
       "    <tr style=\"text-align: right;\">\n",
       "      <th></th>\n",
       "      <th>power</th>\n",
       "    </tr>\n",
       "    <tr>\n",
       "      <th>time</th>\n",
       "      <th></th>\n",
       "    </tr>\n",
       "  </thead>\n",
       "  <tbody>\n",
       "    <tr>\n",
       "      <th>2011-04-17 19:18:27-04:00</th>\n",
       "      <td>290.24</td>\n",
       "    </tr>\n",
       "    <tr>\n",
       "      <th>2011-04-17 19:18:28-04:00</th>\n",
       "      <td>289.77</td>\n",
       "    </tr>\n",
       "    <tr>\n",
       "      <th>2011-04-17 19:18:29-04:00</th>\n",
       "      <td>289.76</td>\n",
       "    </tr>\n",
       "    <tr>\n",
       "      <th>2011-04-17 19:18:30-04:00</th>\n",
       "      <td>289.15</td>\n",
       "    </tr>\n",
       "    <tr>\n",
       "      <th>2011-04-17 19:18:31-04:00</th>\n",
       "      <td>304.64</td>\n",
       "    </tr>\n",
       "    <tr>\n",
       "      <th>...</th>\n",
       "      <td>...</td>\n",
       "    </tr>\n",
       "    <tr>\n",
       "      <th>2011-05-22 19:59:12-04:00</th>\n",
       "      <td>251.34</td>\n",
       "    </tr>\n",
       "    <tr>\n",
       "      <th>2011-05-22 19:59:13-04:00</th>\n",
       "      <td>251.72</td>\n",
       "    </tr>\n",
       "    <tr>\n",
       "      <th>2011-05-22 19:59:14-04:00</th>\n",
       "      <td>252.11</td>\n",
       "    </tr>\n",
       "    <tr>\n",
       "      <th>2011-05-22 19:59:15-04:00</th>\n",
       "      <td>251.76</td>\n",
       "    </tr>\n",
       "    <tr>\n",
       "      <th>2011-05-22 19:59:16-04:00</th>\n",
       "      <td>251.35</td>\n",
       "    </tr>\n",
       "  </tbody>\n",
       "</table>\n",
       "<p>1198534 rows × 1 columns</p>\n",
       "</div>"
      ],
      "text/plain": [
       "                            power\n",
       "time                             \n",
       "2011-04-17 19:18:27-04:00  290.24\n",
       "2011-04-17 19:18:28-04:00  289.77\n",
       "2011-04-17 19:18:29-04:00  289.76\n",
       "2011-04-17 19:18:30-04:00  289.15\n",
       "2011-04-17 19:18:31-04:00  304.64\n",
       "...                           ...\n",
       "2011-05-22 19:59:12-04:00  251.34\n",
       "2011-05-22 19:59:13-04:00  251.72\n",
       "2011-05-22 19:59:14-04:00  252.11\n",
       "2011-05-22 19:59:15-04:00  251.76\n",
       "2011-05-22 19:59:16-04:00  251.35\n",
       "\n",
       "[1198534 rows x 1 columns]"
      ]
     },
     "execution_count": 98,
     "metadata": {},
     "output_type": "execute_result"
    }
   ],
   "source": [
    "#Cambiar a datos en formato de tiempo\n",
    "c2_medidor1['time'] = pd.to_datetime(c2_medidor1['time'])\n",
    "#Dejar el tiempo como indice de los datos\n",
    "c2_medidor1.set_index('time', inplace= True)\n",
    "c2_medidor1\n",
    "\n",
    "#Cambiar a datos en formato de tiempo\n",
    "c2_medidor2['time'] = pd.to_datetime(c2_medidor2['time'])\n",
    "#Dejar el tiempo como indice de los datos\n",
    "c2_medidor2.set_index('time', inplace= True)\n",
    "c2_medidor2"
   ]
  },
  {
   "cell_type": "code",
   "execution_count": 99,
   "metadata": {},
   "outputs": [
    {
     "name": "stdout",
     "output_type": "stream",
     "text": [
      "Numero de datos en la señal 1207\n",
      "Numero de datos en la señal 1207\n"
     ]
    }
   ],
   "source": [
    "#Tomar solo los datos para poder graficar\n",
    "datos2 = c2_medidor1.loc[inicio:fin, 'power'].values\n",
    "print(f'Numero de datos en la señal {len(c2_medidor1.loc[inicio:fin])}')\n",
    "\n",
    "#Tomar solo los datos para poder graficar\n",
    "datos3 = c2_medidor2.loc[inicio:fin, 'power'].values\n",
    "print(f'Numero de datos en la señal {len(c2_medidor2.loc[inicio:fin])}')"
   ]
  },
  {
   "cell_type": "code",
   "execution_count": 100,
   "metadata": {},
   "outputs": [
    {
     "data": {
      "text/html": [
       "<div>\n",
       "<style scoped>\n",
       "    .dataframe tbody tr th:only-of-type {\n",
       "        vertical-align: middle;\n",
       "    }\n",
       "\n",
       "    .dataframe tbody tr th {\n",
       "        vertical-align: top;\n",
       "    }\n",
       "\n",
       "    .dataframe thead th {\n",
       "        text-align: right;\n",
       "    }\n",
       "</style>\n",
       "<table border=\"1\" class=\"dataframe\">\n",
       "  <thead>\n",
       "    <tr style=\"text-align: right;\">\n",
       "      <th></th>\n",
       "      <th>power</th>\n",
       "    </tr>\n",
       "    <tr>\n",
       "      <th>time</th>\n",
       "      <th></th>\n",
       "    </tr>\n",
       "  </thead>\n",
       "  <tbody>\n",
       "    <tr>\n",
       "      <th>2011-04-19 13:41:06-04:00</th>\n",
       "      <td>805.87</td>\n",
       "    </tr>\n",
       "    <tr>\n",
       "      <th>2011-04-19 13:41:07-04:00</th>\n",
       "      <td>814.33</td>\n",
       "    </tr>\n",
       "    <tr>\n",
       "      <th>2011-04-19 13:41:08-04:00</th>\n",
       "      <td>806.5</td>\n",
       "    </tr>\n",
       "    <tr>\n",
       "      <th>2011-04-19 13:41:09-04:00</th>\n",
       "      <td>808.44</td>\n",
       "    </tr>\n",
       "    <tr>\n",
       "      <th>2011-04-19 13:41:10-04:00</th>\n",
       "      <td>808.34</td>\n",
       "    </tr>\n",
       "    <tr>\n",
       "      <th>...</th>\n",
       "      <td>...</td>\n",
       "    </tr>\n",
       "    <tr>\n",
       "      <th>2011-04-19 14:01:08-04:00</th>\n",
       "      <td>14.6</td>\n",
       "    </tr>\n",
       "    <tr>\n",
       "      <th>2011-04-19 14:01:09-04:00</th>\n",
       "      <td>14.58</td>\n",
       "    </tr>\n",
       "    <tr>\n",
       "      <th>2011-04-19 14:01:10-04:00</th>\n",
       "      <td>14.6</td>\n",
       "    </tr>\n",
       "    <tr>\n",
       "      <th>2011-04-19 14:01:11-04:00</th>\n",
       "      <td>14.6</td>\n",
       "    </tr>\n",
       "    <tr>\n",
       "      <th>2011-04-19 14:01:12-04:00</th>\n",
       "      <td>14.6</td>\n",
       "    </tr>\n",
       "  </tbody>\n",
       "</table>\n",
       "<p>1207 rows × 1 columns</p>\n",
       "</div>"
      ],
      "text/plain": [
       "                            power\n",
       "time                             \n",
       "2011-04-19 13:41:06-04:00  805.87\n",
       "2011-04-19 13:41:07-04:00  814.33\n",
       "2011-04-19 13:41:08-04:00   806.5\n",
       "2011-04-19 13:41:09-04:00  808.44\n",
       "2011-04-19 13:41:10-04:00  808.34\n",
       "...                           ...\n",
       "2011-04-19 14:01:08-04:00    14.6\n",
       "2011-04-19 14:01:09-04:00   14.58\n",
       "2011-04-19 14:01:10-04:00    14.6\n",
       "2011-04-19 14:01:11-04:00    14.6\n",
       "2011-04-19 14:01:12-04:00    14.6\n",
       "\n",
       "[1207 rows x 1 columns]"
      ]
     },
     "execution_count": 100,
     "metadata": {},
     "output_type": "execute_result"
    }
   ],
   "source": [
    "c2_medidor1.loc[inicio:fin]"
   ]
  },
  {
   "cell_type": "code",
   "execution_count": 101,
   "metadata": {},
   "outputs": [
    {
     "data": {
      "text/html": [
       "<div>\n",
       "<style scoped>\n",
       "    .dataframe tbody tr th:only-of-type {\n",
       "        vertical-align: middle;\n",
       "    }\n",
       "\n",
       "    .dataframe tbody tr th {\n",
       "        vertical-align: top;\n",
       "    }\n",
       "\n",
       "    .dataframe thead th {\n",
       "        text-align: right;\n",
       "    }\n",
       "</style>\n",
       "<table border=\"1\" class=\"dataframe\">\n",
       "  <thead>\n",
       "    <tr style=\"text-align: right;\">\n",
       "      <th></th>\n",
       "      <th>power</th>\n",
       "    </tr>\n",
       "    <tr>\n",
       "      <th>time</th>\n",
       "      <th></th>\n",
       "    </tr>\n",
       "  </thead>\n",
       "  <tbody>\n",
       "    <tr>\n",
       "      <th>2011-04-19 13:41:06-04:00</th>\n",
       "      <td>23.97</td>\n",
       "    </tr>\n",
       "    <tr>\n",
       "      <th>2011-04-19 13:41:07-04:00</th>\n",
       "      <td>1222.78</td>\n",
       "    </tr>\n",
       "    <tr>\n",
       "      <th>2011-04-19 13:41:08-04:00</th>\n",
       "      <td>271.52</td>\n",
       "    </tr>\n",
       "    <tr>\n",
       "      <th>2011-04-19 13:41:09-04:00</th>\n",
       "      <td>268.13</td>\n",
       "    </tr>\n",
       "    <tr>\n",
       "      <th>2011-04-19 13:41:10-04:00</th>\n",
       "      <td>270.36</td>\n",
       "    </tr>\n",
       "    <tr>\n",
       "      <th>...</th>\n",
       "      <td>...</td>\n",
       "    </tr>\n",
       "    <tr>\n",
       "      <th>2011-04-19 14:01:08-04:00</th>\n",
       "      <td>251.78</td>\n",
       "    </tr>\n",
       "    <tr>\n",
       "      <th>2011-04-19 14:01:09-04:00</th>\n",
       "      <td>252.58</td>\n",
       "    </tr>\n",
       "    <tr>\n",
       "      <th>2011-04-19 14:01:10-04:00</th>\n",
       "      <td>252.61</td>\n",
       "    </tr>\n",
       "    <tr>\n",
       "      <th>2011-04-19 14:01:11-04:00</th>\n",
       "      <td>252.18</td>\n",
       "    </tr>\n",
       "    <tr>\n",
       "      <th>2011-04-19 14:01:12-04:00</th>\n",
       "      <td>252.19</td>\n",
       "    </tr>\n",
       "  </tbody>\n",
       "</table>\n",
       "<p>1207 rows × 1 columns</p>\n",
       "</div>"
      ],
      "text/plain": [
       "                             power\n",
       "time                              \n",
       "2011-04-19 13:41:06-04:00    23.97\n",
       "2011-04-19 13:41:07-04:00  1222.78\n",
       "2011-04-19 13:41:08-04:00   271.52\n",
       "2011-04-19 13:41:09-04:00   268.13\n",
       "2011-04-19 13:41:10-04:00   270.36\n",
       "...                            ...\n",
       "2011-04-19 14:01:08-04:00   251.78\n",
       "2011-04-19 14:01:09-04:00   252.58\n",
       "2011-04-19 14:01:10-04:00   252.61\n",
       "2011-04-19 14:01:11-04:00   252.18\n",
       "2011-04-19 14:01:12-04:00   252.19\n",
       "\n",
       "[1207 rows x 1 columns]"
      ]
     },
     "execution_count": 101,
     "metadata": {},
     "output_type": "execute_result"
    }
   ],
   "source": [
    "c2_medidor2.loc[inicio:fin]"
   ]
  },
  {
   "cell_type": "code",
   "execution_count": 102,
   "metadata": {},
   "outputs": [
    {
     "name": "stdout",
     "output_type": "stream",
     "text": [
      "inicio 2011-04-19 13:41:06-04:00 fin 2011-04-19 14:01:12-04:00\n"
     ]
    },
    {
     "data": {
      "text/plain": [
       "[<matplotlib.lines.Line2D at 0x20e84185780>]"
      ]
     },
     "execution_count": 102,
     "metadata": {},
     "output_type": "execute_result"
    },
    {
     "data": {
      "image/png": "[encoded data removed]",
      "text/plain": [
       "<Figure size 432x288 with 1 Axes>"
      ]
     },
     "metadata": {
      "needs_background": "light"
     },
     "output_type": "display_data"
    }
   ],
   "source": [
    "print(f'inicio {inicio} fin {fin}')\n",
    "plt.plot(datos2)"
   ]
  },
  {
   "cell_type": "code",
   "execution_count": 103,
   "metadata": {},
   "outputs": [
    {
     "name": "stdout",
     "output_type": "stream",
     "text": [
      "inicio 2011-04-19 13:41:06-04:00 fin 2011-04-19 14:01:12-04:00\n"
     ]
    },
    {
     "data": {
      "text/plain": [
       "[<matplotlib.lines.Line2D at 0x20eecf83a58>]"
      ]
     },
     "execution_count": 103,
     "metadata": {},
     "output_type": "execute_result"
    },
    {
     "data": {
      "image/png": "[encoded data removed]",
      "text/plain": [
       "<Figure size 432x288 with 1 Axes>"
      ]
     },
     "metadata": {
      "needs_background": "light"
     },
     "output_type": "display_data"
    }
   ],
   "source": [
    "print(f'inicio {inicio} fin {fin}')\n",
    "plt.plot(datos3)"
   ]
  },
  {
   "cell_type": "markdown",
   "metadata": {},
   "source": [
    "## Cargando datos"
   ]
  },
  {
   "cell_type": "markdown",
   "metadata": {},
   "source": [
    "### Cargar todas las columnas (predeterminado)"
   ]
  },
  {
   "cell_type": "code",
   "execution_count": null,
   "metadata": {},
   "outputs": [],
   "source": [
    "df = next(fridge.load())\n",
    "df.head()"
   ]
  },
  {
   "cell_type": "markdown",
   "metadata": {},
   "source": [
    "### Carga una sola columna de datos de energía\n",
    "\n",
    "Utilice `fridge.power_series ()` que devuelve un generador de objetos `pandas.Series` unidimensionales, cada uno de los cuales contiene datos de energía utilizando el tipo de CA más 'sensible':"
   ]
  },
  {
   "cell_type": "code",
   "execution_count": null,
   "metadata": {},
   "outputs": [],
   "source": [
    "series = next(fridge.power_series())\n",
    "series.head()"
   ]
  },
  {
   "cell_type": "markdown",
   "metadata": {},
   "source": [
    "o, para obtener potencia activa:"
   ]
  },
  {
   "cell_type": "code",
   "execution_count": null,
   "metadata": {},
   "outputs": [],
   "source": [
    "series = next(fridge.power_series(ac_type='active'))\n",
    "series.head()"
   ]
  },
  {
   "cell_type": "markdown",
   "metadata": {},
   "source": [
    "# MeterGroup, ElecMeter, selección y estadísticas básicas"
   ]
  },
  {
   "cell_type": "markdown",
   "metadata": {},
   "source": [
    "Todos los conjuntos de datos de NILM consisten en varios grupos de medidores de electricidad. Podemos agrupar los contadores por casa. O por el tipo de aparato al que están conectados directamente. O por frecuencia de muestreo. O si el medidor es un \"medidor de sitio\" para toda la casa o un submedidor a nivel de electrodomésticos, o un submedidor a nivel de circuito.\n",
    "\n",
    "En NILMTK, una de las clases clave es `MeterGroup` que almacena una lista de` medidores` y nos permite seleccionar un subconjunto de medidores, la potencia agregada de todos los medidores y muchas otras funciones.\n",
    "\n",
    "Cuando abrimos por primera vez un `DataSet`, NILMTK crea varios objetos` MeterGroup`. Hay `nilmtk.global_meter_group` que contiene todos los medidores cargados actualmente (incluso de varios conjuntos de datos si ha abierto más de un conjunto de datos). También hay un `MeterGroup` por edificio (que vive en el atributo` Building.elec`). También anidamos \"MeterGroups\" para agregar redes de fase dividida, red trifásica y aparatos de suministro dual (240 voltios) en conjuntos de datos de América del Norte y Canadá. Por ejemplo, aquí está el `MeterGroup` para el edificio 1 en REDD:"
   ]
  },
  {
   "cell_type": "markdown",
   "metadata": {},
   "source": [
    "**NOTA**: Si está en Windows, recuerde evitar las barras invertidas, use barras inclinadas hacia adelante o use cadenas sin procesar cuando pase rutas en Python, p. Ej. uno de los siguientes funcionaría:\n",
    "\n",
    "```python\n",
    "redd = DataSet('c:\\\\data\\\\redd.h5')\n",
    "redd = DataSet('c:/data/redd.h5')\n",
    "redd = DataSet(r'c:\\data\\redd.h5')\n",
    "```"
   ]
  },
  {
   "cell_type": "code",
   "execution_count": null,
   "metadata": {},
   "outputs": [],
   "source": [
    "%matplotlib inline"
   ]
  },
  {
   "cell_type": "code",
   "execution_count": null,
   "metadata": {},
   "outputs": [],
   "source": [
    "from matplotlib import rcParams\n",
    "import matplotlib.pyplot as plt\n",
    "import pandas as pd\n",
    "import nilmtk\n",
    "from nilmtk import DataSet, MeterGroup\n",
    "\n",
    "plt.style.use('ggplot')\n",
    "rcParams['figure.figsize'] = (13, 10)\n",
    "\n",
    "#redd = DataSet('/data/redd.h5')\n",
    "elec = redd.buildings[1].elec\n",
    "elec"
   ]
  },
  {
   "cell_type": "markdown",
   "metadata": {},
   "source": [
    "Tenga en cuenta que hay dos `MeterGroups` anidados: uno para el horno eléctrico y otro para la lavadora secadora (ambos son electrodomésticos de 240 voltios y tienen dos medidores por electrodoméstico):"
   ]
  },
  {
   "cell_type": "code",
   "execution_count": null,
   "metadata": {},
   "outputs": [],
   "source": [
    "elec.nested_metergroups()"
   ]
  },
  {
   "cell_type": "markdown",
   "metadata": {},
   "source": [
    "Poner estos medidores en un \"MeterGroup\" nos permite sumar fácilmente la demanda de energía registrada por ambos medidores para obtener la demanda de energía total para todo el aparato (pero también es muy fácil ver la demanda de energía del medidor individual)."
   ]
  },
  {
   "cell_type": "markdown",
   "metadata": {},
   "source": [
    "Podemos obtener fácilmente un grupo de medidores de los submedidores o de la red:"
   ]
  },
  {
   "cell_type": "code",
   "execution_count": null,
   "metadata": {},
   "outputs": [],
   "source": [
    "elec.mains()"
   ]
  },
  {
   "cell_type": "markdown",
   "metadata": {},
   "source": [
    "Podemos obtener fácilmente la suma de los datos de potencia de ambos medidores de red:"
   ]
  },
  {
   "cell_type": "code",
   "execution_count": null,
   "metadata": {},
   "outputs": [],
   "source": [
    "elec.mains().power_series_all_data().head()"
   ]
  },
  {
   "cell_type": "code",
   "execution_count": null,
   "metadata": {},
   "outputs": [],
   "source": [
    "elec.submeters()"
   ]
  },
  {
   "cell_type": "markdown",
   "metadata": {},
   "source": [
    "## Estadísticas para grupos de medidores"
   ]
  },
  {
   "cell_type": "markdown",
   "metadata": {},
   "source": [
    "### Proporción de energía submedida"
   ]
  },
  {
   "cell_type": "markdown",
   "metadata": {},
   "source": [
    "Calculemos la proporción de energía submedida en el edificio 1 de REDD:"
   ]
  },
  {
   "cell_type": "code",
   "execution_count": null,
   "metadata": {},
   "outputs": [],
   "source": [
    "elec.proportion_of_energy_submetered()"
   ]
  },
  {
   "cell_type": "markdown",
   "metadata": {},
   "source": [
    "Tenga en cuenta que NILMTK ha emitido una advertencia de que Mains usa un tipo diferente de medición de potencia que todos los submedidores, por lo que no es una comparación del todo precisa. Lo que plantea la pregunta: ¿qué tipo de medidas de potencia se utilizan para la red y los submedidores? Vamos a averiguar..."
   ]
  },
  {
   "cell_type": "markdown",
   "metadata": {},
   "source": [
    "### Potencia activa, aparente y reactiva"
   ]
  },
  {
   "cell_type": "code",
   "execution_count": null,
   "metadata": {},
   "outputs": [],
   "source": [
    "mains = elec.mains()"
   ]
  },
  {
   "cell_type": "code",
   "execution_count": null,
   "metadata": {},
   "outputs": [],
   "source": [
    "mains.available_ac_types('power')"
   ]
  },
  {
   "cell_type": "code",
   "execution_count": null,
   "metadata": {},
   "outputs": [],
   "source": [
    "elec.submeters().available_ac_types('power')"
   ]
  },
  {
   "cell_type": "code",
   "execution_count": null,
   "metadata": {},
   "outputs": [],
   "source": [
    "next(elec.load())"
   ]
  },
  {
   "cell_type": "markdown",
   "metadata": {},
   "source": [
    "### Energía total"
   ]
  },
  {
   "cell_type": "code",
   "execution_count": null,
   "metadata": {},
   "outputs": [],
   "source": [
    "elec.mains().total_energy() # retorna kWh"
   ]
  },
  {
   "cell_type": "markdown",
   "metadata": {},
   "source": [
    "### Energy per submeter"
   ]
  },
  {
   "cell_type": "code",
   "execution_count": null,
   "metadata": {},
   "outputs": [],
   "source": [
    "energy_per_meter = elec.submeters().energy_per_meter() # kWh, again\n",
    "energy_per_meter"
   ]
  },
  {
   "cell_type": "markdown",
   "metadata": {},
   "source": [
    "los encabezados de columna son los números de instancia de ElecMeter."
   ]
  },
  {
   "cell_type": "markdown",
   "metadata": {},
   "source": [
    "La función `fracción_por_metro` hace lo mismo que ʻenergía por submímetro` pero devuelve la fracción de energía por metro."
   ]
  },
  {
   "cell_type": "markdown",
   "metadata": {},
   "source": [
    "### Seleccionar contadores en función de su consumo de energía"
   ]
  },
  {
   "cell_type": "markdown",
   "metadata": {},
   "source": [
    "Hagamos un nuevo MeterGroup que solo contenga los ElecMeters que usaron más de 20 kWh:"
   ]
  },
  {
   "cell_type": "code",
   "execution_count": null,
   "metadata": {},
   "outputs": [],
   "source": [
    "# energy_per_meter es un DataFrame donde cada fila \n",
    "#es un tipo de potencia ('activa', 'reactiva' o 'aparente'). \n",
    "#Todos los medidores de electrodomésticos en REDD están registrados \n",
    "#como 'activos', así que simplemente seleccione la fila 'activo':\n",
    "energy_per_meter = energy_per_meter.loc['active']\n",
    "more_than_20 = energy_per_meter[energy_per_meter > 20]\n",
    "more_than_20"
   ]
  },
  {
   "cell_type": "code",
   "execution_count": null,
   "metadata": {},
   "outputs": [],
   "source": [
    "instances = more_than_20.index\n",
    "instances"
   ]
  },
  {
   "cell_type": "markdown",
   "metadata": {},
   "source": [
    "## Grafica la fracción del consumo de energía de cada aparato"
   ]
  },
  {
   "cell_type": "code",
   "execution_count": null,
   "metadata": {},
   "outputs": [],
   "source": [
    "fraction = elec.submeters().fraction_per_meter().dropna()"
   ]
  },
  {
   "cell_type": "code",
   "execution_count": null,
   "metadata": {},
   "outputs": [],
   "source": [
    "# Crea etiquetas convenientes\n",
    "labels = elec.get_labels(fraction.index)\n",
    "plt.figure(figsize=(10,30))\n",
    "fraction.plot(kind='pie', labels=labels);"
   ]
  },
  {
   "cell_type": "markdown",
   "metadata": {},
   "source": [
    "### Dibujar diagrama de cableado\n",
    "Podemos obtener el diagrama de cableado para MeterGroup:"
   ]
  },
  {
   "cell_type": "code",
   "execution_count": null,
   "metadata": {},
   "outputs": [],
   "source": [
    "elec.draw_wiring_graph()"
   ]
  },
  {
   "cell_type": "markdown",
   "metadata": {},
   "source": [
    "No es muy bonito, pero muestra que los medidores (1,2) (los medidores del sitio) están aguas arriba de todos los demás medidores."
   ]
  },
  {
   "cell_type": "markdown",
   "metadata": {},
   "source": [
    "Los edificios en REDD tienen solo dos niveles en su jerarquía de medidores (red y submedidores). Si hubiera más de dos niveles, podría ser útil obtener solo los medidores inmediatamente aguas abajo de la red:"
   ]
  },
  {
   "cell_type": "code",
   "execution_count": null,
   "metadata": {},
   "outputs": [],
   "source": [
    "elec.meters_directly_downstream_of_mains()"
   ]
  },
  {
   "cell_type": "markdown",
   "metadata": {},
   "source": [
    "### Traza los aparatos cuando están en uso"
   ]
  },
  {
   "cell_type": "code",
   "execution_count": null,
   "metadata": {},
   "outputs": [],
   "source": [
    "# sns.set_palette (\"Set3\", n_colors = 12)\n",
    "# Establezca un umbral para eliminar el ruido de energía residual cuando los dispositivos están apagados\n",
    "elec.plot_when_on(on_power_threshold = 40)"
   ]
  },
  {
   "cell_type": "markdown",
   "metadata": {},
   "source": [
    "## Estadísticas e información para medidores individuales"
   ]
  },
  {
   "cell_type": "markdown",
   "metadata": {},
   "source": [
    "La clase ʻElecMeter` representa un solo medidor de electricidad. Cada ʻElecMeter` tiene una lista de objetos ʻAppliance` asociados. ʻElecMeter` tiene muchos de los mismos métodos de estadísticas que `MeterGroup`, como` total_energy` y ʻavailable_power_ac_types` y `power_series` y` power_series_all_data`. Ahora exploraremos algunas funciones de estadísticas más (muchas de las cuales también están disponibles en `MeterGroup`) ..."
   ]
  },
  {
   "cell_type": "code",
   "execution_count": null,
   "metadata": {},
   "outputs": [],
   "source": [
    "#Verifiquemos el refrigerador\n",
    "fridge_meter = elec['fridge']"
   ]
  },
  {
   "cell_type": "markdown",
   "metadata": {},
   "source": [
    "### Obtener medidor de aguas arriba"
   ]
  },
  {
   "cell_type": "code",
   "execution_count": null,
   "metadata": {},
   "outputs": [],
   "source": [
    "fridge_meter.upstream_meter() # resulta ser el grupo de medidores de red!"
   ]
  },
  {
   "cell_type": "markdown",
   "metadata": {},
   "source": [
    "### Metadatos sobre la clase de medidor"
   ]
  },
  {
   "cell_type": "code",
   "execution_count": null,
   "metadata": {},
   "outputs": [],
   "source": [
    "fridge_meter.device"
   ]
  },
  {
   "cell_type": "markdown",
   "metadata": {},
   "source": [
    "### Aparato dominante"
   ]
  },
  {
   "cell_type": "markdown",
   "metadata": {},
   "source": [
    "Si los metadatos especifican que un medidor tiene varios medidores conectados, entonces uno de ellos puede especificarse como el dispositivo 'dominante', y este dispositivo puede recuperarse con este método:"
   ]
  },
  {
   "cell_type": "code",
   "execution_count": null,
   "metadata": {},
   "outputs": [],
   "source": [
    "fridge_meter.dominant_appliance()"
   ]
  },
  {
   "cell_type": "markdown",
   "metadata": {},
   "source": [
    "### Energía total"
   ]
  },
  {
   "cell_type": "code",
   "execution_count": null,
   "metadata": {},
   "outputs": [],
   "source": [
    "fridge_meter.total_energy() # kWh"
   ]
  },
  {
   "cell_type": "markdown",
   "metadata": {},
   "source": [
    "### Obtén buenas secciones"
   ]
  },
  {
   "cell_type": "markdown",
   "metadata": {},
   "source": [
    "Si trazamos los datos de potencia sin procesar, vemos que hay una gran brecha donde, supuestamente, el sistema de medición no estaba funcionando. (si tuviéramos que acercarnos, también veríamos muchos espacios más pequeños):"
   ]
  },
  {
   "cell_type": "code",
   "execution_count": null,
   "metadata": {},
   "outputs": [],
   "source": [
    "fridge_meter.plot()"
   ]
  },
  {
   "cell_type": "markdown",
   "metadata": {},
   "source": [
    "Podemos identificar automáticamente las 'secciones buenas' (es decir, las secciones en las que cada par de muestras consecutivas es menor que 'max_sample_period` especificado en los metadatos del conjunto de datos):"
   ]
  },
  {
   "cell_type": "code",
   "execution_count": null,
   "metadata": {},
   "outputs": [],
   "source": [
    "good_sections = fridge_meter.good_sections(full_results=True)\n",
    "# especificar full_results = False nos daría una lista simple de TimeFrames. \n",
    "#Pero queremos el objeto GoodSectionsResults completo para poder trazar las secciones buenas ..."
   ]
  },
  {
   "cell_type": "code",
   "execution_count": null,
   "metadata": {},
   "outputs": [],
   "source": [
    "good_sections.timeframes()"
   ]
  },
  {
   "cell_type": "code",
   "execution_count": null,
   "metadata": {},
   "outputs": [],
   "source": [
    "good_sections.plot()"
   ]
  },
  {
   "cell_type": "markdown",
   "metadata": {},
   "source": [
    "Los trozos azules muestran dónde son buenos los datos. La brecha blanca es la gran brecha que se observa en los datos de potencia bruta. Hay muchos huecos más pequeños que no podemos ver en este nivel de zoom."
   ]
  },
  {
   "cell_type": "markdown",
   "metadata": {},
   "source": [
    "También podemos ver las secciones exactas identificadas:"
   ]
  },
  {
   "cell_type": "code",
   "execution_count": null,
   "metadata": {},
   "outputs": [],
   "source": [
    "good_sections.combined()"
   ]
  },
  {
   "cell_type": "code",
   "execution_count": null,
   "metadata": {},
   "outputs": [],
   "source": [
    "#Para un medidor central 1\n",
    "#Verifiquemos el refrigerador\n",
    "siteMeter = elec.mains()[1]\n",
    "siteMeter.plot()"
   ]
  },
  {
   "cell_type": "code",
   "execution_count": null,
   "metadata": {},
   "outputs": [],
   "source": [
    "#Seleccionar secciones de buen funcionamiento\n",
    "good_sections_main1 = siteMeter.good_sections(full_results=True)\n",
    "#Graficar \n",
    "good_sections_main1.plot()"
   ]
  },
  {
   "cell_type": "code",
   "execution_count": null,
   "metadata": {},
   "outputs": [],
   "source": [
    "#Ver todos los intervalos de buen funcionamiento\n",
    "good_sections_main1.combined()"
   ]
  },
  {
   "cell_type": "markdown",
   "metadata": {},
   "source": [
    "### Taza de abando o faltante"
   ]
  },
  {
   "cell_type": "markdown",
   "metadata": {},
   "source": [
    "Además de la aparición de grandes lagunas debido a que todo el sistema está inactivo, también obtenemos pequeñas lagunas frecuentes de los sensores inalámbricos que arrojan datos. A esto a veces se le llama \"abandono\". La tasa de abandono es un número entre 0 y 1 que especifica la proporción de muestras faltantes. Una tasa de abandono de 0 significa que no faltan muestras. Un valor de 1 significaría que faltan todas las muestras:"
   ]
  },
  {
   "cell_type": "code",
   "execution_count": null,
   "metadata": {},
   "outputs": [],
   "source": [
    "fridge_meter.dropout_rate()"
   ]
  },
  {
   "cell_type": "markdown",
   "metadata": {},
   "source": [
    "Tenga en cuenta que la tasa de deserción ha disminuido (¡lo cual es bueno!) Ahora que estamos ignorando las brechas. Este valor probablemente sea más representativo del rendimiento del sistema inalámbrico."
   ]
  },
  {
   "cell_type": "markdown",
   "metadata": {},
   "source": [
    "## Seleccionar subgrupos de medidores"
   ]
  },
  {
   "cell_type": "markdown",
   "metadata": {},
   "source": [
    "Usamos ʻElecMeter.select_using_appliances () `para seleccionar un nuevo MeterGroup usando un campo de metadatos. Por ejemplo, para obtener todas las lavadoras secadoras del conjunto de datos REDD:"
   ]
  },
  {
   "cell_type": "code",
   "execution_count": null,
   "metadata": {},
   "outputs": [],
   "source": [
    "import nilmtk\n",
    "nilmtk.global_meter_group.select_using_appliances(type='washer dryer')"
   ]
  },
  {
   "cell_type": "markdown",
   "metadata": {},
   "source": [
    "O seleccione varios tipos de dispositivos:"
   ]
  },
  {
   "cell_type": "code",
   "execution_count": null,
   "metadata": {},
   "outputs": [],
   "source": [
    "elec.select_using_appliances(type=['fridge', 'microwave'])"
   ]
  },
  {
   "cell_type": "markdown",
   "metadata": {},
   "source": [
    "O todos los electrodomésticos de la categoría 'calefacción':"
   ]
  },
  {
   "cell_type": "code",
   "execution_count": null,
   "metadata": {},
   "outputs": [],
   "source": [
    "nilmtk.global_meter_group.select_using_appliances(category='heating')"
   ]
  },
  {
   "cell_type": "markdown",
   "metadata": {},
   "source": [
    "O todos los electrodomésticos del edificio 1 con motor de inducción monofásico (!):"
   ]
  },
  {
   "cell_type": "code",
   "execution_count": null,
   "metadata": {},
   "outputs": [],
   "source": [
    "nilmtk.global_meter_group.select_using_appliances(building=1, category='single-phase induction motor')"
   ]
  },
  {
   "cell_type": "markdown",
   "metadata": {},
   "source": [
    "(NILMTK importa los 'metadatos comunes' del proyecto de metadatos NILM, que incluye una amplia gama de diferentes [taxonomías de categoría] (http://nilm-metadata.readthedocs.org/en/latest/central_metadata.html#appliancetype))"
   ]
  },
  {
   "cell_type": "code",
   "execution_count": null,
   "metadata": {},
   "outputs": [],
   "source": [
    "nilmtk.global_meter_group.select_using_appliances(building=2, category='laundry appliances')"
   ]
  },
  {
   "cell_type": "markdown",
   "metadata": {},
   "source": [
    "### Seleccione un grupo de medidores de las propiedades de los medidores (no de los electrodomésticos)"
   ]
  },
  {
   "cell_type": "code",
   "execution_count": null,
   "metadata": {},
   "outputs": [],
   "source": [
    "elec.select(device_model='REDD_whole_house')"
   ]
  },
  {
   "cell_type": "code",
   "execution_count": null,
   "metadata": {},
   "outputs": [],
   "source": [
    "elec.select(sample_period=3)"
   ]
  },
  {
   "cell_type": "markdown",
   "metadata": {},
   "source": [
    "## Seleccione un solo medidor de un grupo de medidores"
   ]
  },
  {
   "cell_type": "markdown",
   "metadata": {},
   "source": [
    "Usamos \"[]\" para recuperar un solo \"Medidor eléctrico\" de un \"Grupo de medidores\"."
   ]
  },
  {
   "cell_type": "markdown",
   "metadata": {},
   "source": [
    "### Busque un medidor usando aparatos conectados a cada medidor"
   ]
  },
  {
   "cell_type": "code",
   "execution_count": null,
   "metadata": {},
   "outputs": [],
   "source": [
    "elec['fridge']"
   ]
  },
  {
   "cell_type": "markdown",
   "metadata": {},
   "source": [
    "Los electrodomésticos se identifican de forma única dentro de un edificio por un \"tipo\" (nevera, hervidor, televisión, etc.) y un número de \"instancia\". Si no especificamos un número de instancia, entonces ʻlecMeter` recupera la instancia 1 (la numeración de instancias comienza desde 1). Si desea una instancia diferente, simplemente haga esto:"
   ]
  },
  {
   "cell_type": "markdown",
   "metadata": {},
   "source": [
    "**Nota:** Instancia hace referencia a la casa donde se tomo la medida"
   ]
  },
  {
   "cell_type": "code",
   "execution_count": null,
   "metadata": {},
   "outputs": [],
   "source": [
    "elec.select_using_appliances(type='fridge')"
   ]
  },
  {
   "cell_type": "code",
   "execution_count": null,
   "metadata": {},
   "outputs": [],
   "source": [
    "elec['light', 2]"
   ]
  },
  {
   "cell_type": "markdown",
   "metadata": {},
   "source": [
    "Para identificar de forma única un dispositivo en `nilmtk.global_meter_group`, debemos especificar el nombre del conjunto de datos, el número de instancia del edificio, el tipo de dispositivo y la instancia del dispositivo en un dict:"
   ]
  },
  {
   "cell_type": "code",
   "execution_count": null,
   "metadata": {},
   "outputs": [],
   "source": [
    "import nilmtk\n",
    "nilmtk.global_meter_group[{'dataset': 'REDD', 'building': 1, 'type': 'fridge', 'instance': 1}]"
   ]
  },
  {
   "cell_type": "markdown",
   "metadata": {},
   "source": [
    "### Busque un medidor usando los detalles del ElecMeter\n",
    "obtener ElecMeter con instancia = 1:"
   ]
  },
  {
   "cell_type": "code",
   "execution_count": null,
   "metadata": {},
   "outputs": [],
   "source": [
    "elec[1]"
   ]
  },
  {
   "cell_type": "markdown",
   "metadata": {},
   "source": [
    "### Numeración de instancias\n",
    "Los números de instancia de ElecMeter y Appliance identifican de manera única el tipo de medidor o dispositivo dentro del *edificio*, no globalmente. Para identificar de forma única un medidor a nivel global, necesitamos tres claves:"
   ]
  },
  {
   "cell_type": "code",
   "execution_count": null,
   "metadata": {},
   "outputs": [],
   "source": [
    "from nilmtk.elecmeter import ElecMeterID \n",
    "# ElecMeterID es una tupla con nombre para identificar de forma única cada ElecMeter\n",
    "\n",
    "nilmtk.global_meter_group[ElecMeterID(instance=8, building=1, dataset='REDD')]"
   ]
  },
  {
   "cell_type": "markdown",
   "metadata": {},
   "source": [
    "### Seleccione MeterGroup anidado\n",
    "También podemos seleccionar un solo MeterGroup anidado existente. Hay dos formas de especificar un MeterGroup anidado:"
   ]
  },
  {
   "cell_type": "code",
   "execution_count": null,
   "metadata": {},
   "outputs": [],
   "source": [
    "elec[[ElecMeterID(instance=3, building=1, dataset='REDD'), \n",
    "      ElecMeterID(instance=4, building=1, dataset='REDD')]]"
   ]
  },
  {
   "cell_type": "code",
   "execution_count": null,
   "metadata": {},
   "outputs": [],
   "source": [
    "elec[ElecMeterID(instance=(3,4), building=1, dataset='REDD')]"
   ]
  },
  {
   "cell_type": "markdown",
   "metadata": {},
   "source": [
    "También podemos especificar la red solicitando la instancia de medidor 0:"
   ]
  },
  {
   "cell_type": "code",
   "execution_count": null,
   "metadata": {},
   "outputs": [],
   "source": [
    "elec[ElecMeterID(instance=0, building=1, dataset='REDD')]"
   ]
  },
  {
   "cell_type": "markdown",
   "metadata": {},
   "source": [
    "que es equivalente a elec.mains ():"
   ]
  },
  {
   "cell_type": "code",
   "execution_count": null,
   "metadata": {},
   "outputs": [],
   "source": [
    "elec.mains() == elec[ElecMeterID(instance=0, building=1, dataset='REDD')]"
   ]
  },
  {
   "cell_type": "markdown",
   "metadata": {},
   "source": [
    "## Grafica datos submedidos para un solo día"
   ]
  },
  {
   "cell_type": "code",
   "execution_count": null,
   "metadata": {},
   "outputs": [],
   "source": [
    "redd.set_window(start='2011-04-21', end='2011-04-22')\n",
    "elec.plot();\n",
    "plt.xlabel(\"Time\");"
   ]
  },
  {
   "cell_type": "markdown",
   "metadata": {},
   "source": [
    "## Gráfico de autocorrelación"
   ]
  },
  {
   "cell_type": "code",
   "execution_count": null,
   "metadata": {},
   "outputs": [],
   "source": [
    "from pandas.plotting import autocorrelation_plot"
   ]
  },
  {
   "cell_type": "code",
   "execution_count": null,
   "metadata": {},
   "outputs": [],
   "source": [
    "elec.mains().plot_autocorrelation();"
   ]
  },
  {
   "cell_type": "markdown",
   "metadata": {},
   "source": [
    "## Consumo diario de energía en todos los frigoríficos del conjunto de datos"
   ]
  },
  {
   "cell_type": "code",
   "execution_count": null,
   "metadata": {},
   "outputs": [],
   "source": [
    "fridges_restricted = nilmtk.global_meter_group.select_using_appliances(type='fridge')\n",
    "daily_energy = pd.Series([meter.average_energy_per_period(offset_alias='D') \n",
    "                          for meter in fridges_restricted.meters])\n",
    "\n",
    "# daily_energy.plot(kind='hist');\n",
    "# plt.title('Histogram of daily fridge energy');\n",
    "# plt.xlabel('energy (kWh)');\n",
    "# plt.ylabel('occurences');\n",
    "# plt.legend().set_visible(False)\n",
    "\n",
    "daily_energy"
   ]
  },
  {
   "cell_type": "markdown",
   "metadata": {},
   "source": [
    "## Dataframe de correlación de los dispositivos"
   ]
  },
  {
   "cell_type": "code",
   "execution_count": null,
   "metadata": {},
   "outputs": [],
   "source": [
    "correlation_df = elec.pairwise_correlation()\n",
    "correlation_df"
   ]
  },
  {
   "cell_type": "markdown",
   "metadata": {},
   "source": [
    "# API de experimentación rápida NILMTK"
   ]
  },
  {
   "cell_type": "markdown",
   "metadata": {},
   "source": [
    "### Este cuaderno demuestra el uso de ExperimentAPI de NILMTK, una nueva interfaz NILMTK que permite a los usuarios de NILMTK centrarse en qué experimentos ejecutar en lugar del código necesario para ejecutar dichos experimentos."
   ]
  },
  {
   "cell_type": "markdown",
   "metadata": {},
   "source": [
    "Es importante tener en cuenta que entregar tanta flexibilidad al usuario requiere que el usuario esté algo familiarizado con el conjunto de datos, pero esta parte del proceso es compatible con NILMTK ya que la exploración de datos es simple y está bien documentada."
   ]
  },
  {
   "cell_type": "markdown",
   "metadata": {},
   "source": [
    "Comencemos con un experimento muy simple para demostrar el uso de la API para múltiples dispositivos en un caso de uso mínimo. Este experimento muestra cómo el usuario puede seleccionar los dispositivos en el conjunto de datos en los que se realizará la desagregación."
   ]
  },
  {
   "cell_type": "markdown",
   "metadata": {},
   "source": [
    "Importando la API:"
   ]
  },
  {
   "cell_type": "code",
   "execution_count": null,
   "metadata": {},
   "outputs": [],
   "source": [
    "from nilmtk.api import API\n",
    "import warnings\n",
    "warnings.filterwarnings(\"ignore\")"
   ]
  },
  {
   "cell_type": "markdown",
   "metadata": {},
   "source": [
    "A continuación, importamos los algoritmos necesarios en los que deseamos ejecutar los experimentos."
   ]
  },
  {
   "cell_type": "code",
   "execution_count": null,
   "metadata": {},
   "outputs": [],
   "source": [
    "from nilmtk.disaggregate import CO"
   ]
  },
  {
   "cell_type": "markdown",
   "metadata": {},
   "source": [
    "A continuación, ingresamos los valores para los diferentes parámetros en el diccionario. Dado que necesitamos varios dispositivos, ingresamos los nombres de todos los dispositivos necesarios en el parámetro _'appliances'_."
   ]
  },
  {
   "cell_type": "code",
   "execution_count": null,
   "metadata": {},
   "outputs": [],
   "source": [
    "experiment1 = {\n",
    "  'power': {'mains': ['apparent','active'],'appliance': ['apparent','active']},\n",
    "  'sample_rate': 60,\n",
    "  'appliances': ['washing machine','fridge'],\n",
    "  'methods': {\"CO\":CO({})},\n",
    "  'train': {    \n",
    "    'datasets': {\n",
    "        'REDD': {\n",
    "            #'path': 'data/dataport.hdf5',\n",
    "            'path':  'C:\\\\Users\\\\josel\\\\SmartMeter\\\\OrdenandoTodo\\\\redd.h5',\n",
    "            'buildings': {\n",
    "                #10: {\n",
    "                1: {\n",
    "                    #'start_time': '2015-04-04',\n",
    "                    #'end_time': '2015-04-06'\n",
    "                    'start_time': '2011-04-17',\n",
    "                    'end_time': '2011-04-27'\n",
    "                    }\n",
    "                }                \n",
    "            }\n",
    "        }\n",
    "    },\n",
    "  'test': {\n",
    "    'datasets': {\n",
    "        'REDD': {\n",
    "            #'path': 'data/dataport.hdf5',\n",
    "            'path':  'C:\\\\Users\\\\josel\\\\SmartMeter\\\\OrdenandoTodo\\\\redd.h5',\n",
    "            'buildings': {\n",
    "                1: {\n",
    "                #10: {\n",
    "                    #'start_time': '2015-04-25',\n",
    "                    #'end_time': '2015-04-26'\n",
    "                    'start_time': '2011-04-18',\n",
    "                    'end_time' : '2011-04-19'\n",
    "                    }\n",
    "                }\n",
    "            }\n",
    "        },\n",
    "        'metrics':['rmse']\n",
    "    }\n",
    "}"
   ]
  },
  {
   "cell_type": "markdown",
   "metadata": {},
   "source": [
    "En esta configuración experimental de ejemplo, hemos establecido el _sample rate_ en 60Hz. Usamos la optimización combinatoria para desagregar los dispositivos requeridos del edificio 1, en el conjunto de datos del REDD. Con la métrica _RMSE_ para medir la precisión. También especificamos las fechas para la formación y las pruebas.\n",
    "\n",
    "A continuación, proporcionamos este diccionario de experimentos como entrada a la API."
   ]
  },
  {
   "cell_type": "code",
   "execution_count": null,
   "metadata": {},
   "outputs": [],
   "source": [
    "api_results_experiment_1 = API(experiment1)"
   ]
  },
  {
   "cell_type": "markdown",
   "metadata": {},
   "source": [
    "Podemos observar las gráficas de predicción versus verdad en la celda anterior. Se puede acceder a las métricas de precisión mediante los siguientes comandos:"
   ]
  },
  {
   "cell_type": "code",
   "execution_count": null,
   "metadata": {},
   "outputs": [],
   "source": [
    "errors_keys = api_results_experiment_1.errors_keys\n",
    "errors = api_results_experiment_1.errors\n",
    "for i in range(len(errors)):\n",
    "    print (errors_keys[i])\n",
    "    print (errors[i])\n",
    "    print (\"\\n\\n\")"
   ]
  },
  {
   "cell_type": "markdown",
   "metadata": {},
   "source": [
    "Este fue un experimento trivial que solo rasca la superficie del verdadero potencial de esta API."
   ]
  },
  {
   "cell_type": "markdown",
   "metadata": {},
   "source": [
    "En el próximo experimento, ejecutaremos una versión cada vez más compleja del experimento anterior. Aquí usaremos varios modelos para desagregar las lecturas del dispositivo con los modelos que tienen sus propios conjuntos de parámetros que los usuarios pueden establecer dentro del diccionario experimental para ajustar los experimentos."
   ]
  },
  {
   "cell_type": "markdown",
   "metadata": {},
   "source": [
    "También importamos los algoritmos necesarios para los próximos experimentos."
   ]
  },
  {
   "cell_type": "code",
   "execution_count": null,
   "metadata": {},
   "outputs": [],
   "source": [
    "from nilmtk.disaggregate import fhmm_exact, Mean"
   ]
  },
  {
   "cell_type": "code",
   "execution_count": null,
   "metadata": {},
   "outputs": [],
   "source": [
    "experiment2 = {\n",
    "  'power': {'mains': ['apparent','active'],'appliance': ['apparent','active']},\n",
    "  'sample_rate': 60,\n",
    "  #'appliances': ['fridge','dish washer', 'microwave'], \n",
    "  'appliances': ['fridge','dish washer', 'unknown'],\n",
    "  #'methods': {\"Mean\":Mean({}),\"FHMM_EXACT\":fhmm_exact({'num_of_states':2}), \"CombinatorialOptimisation\":CO({})},\n",
    "    'methods': {\"Mean\":Mean({}), \"CombinatorialOptimisation\":CO({})},\n",
    "  'train': {    \n",
    "    'datasets': {\n",
    "        'REDD': {\n",
    "            'path':  'C:\\\\Users\\\\josel\\\\SmartMeter\\\\OrdenandoTodo\\\\redd.h5',\n",
    "            'buildings': {\n",
    "                1: {\n",
    "                    'start_time': '2011-04-17',\n",
    "                    'end_time': '2011-04-27'\n",
    "                    }\n",
    "                }                \n",
    "            }\n",
    "        }\n",
    "    },\n",
    "  'test': {\n",
    "    'datasets': {\n",
    "        'REDD': {\n",
    "            'path':  'C:\\\\Users\\\\josel\\\\SmartMeter\\\\OrdenandoTodo\\\\redd.h5',\n",
    "            'buildings': {\n",
    "                1: {\n",
    "                    'start_time': '2011-04-18',\n",
    "                    'end_time' : '2011-04-19'\n",
    "                    }\n",
    "                }\n",
    "            }\n",
    "        },\n",
    "        'metrics':['mae', 'rmse']\n",
    "    }\n",
    "}"
   ]
  },
  {
   "cell_type": "code",
   "execution_count": null,
   "metadata": {},
   "outputs": [],
   "source": [
    "api_results_experiment_2 = API(experiment2)"
   ]
  },
  {
   "cell_type": "code",
   "execution_count": null,
   "metadata": {},
   "outputs": [],
   "source": [
    "api_results_experiment_2.errors"
   ]
  },
  {
   "cell_type": "code",
   "execution_count": null,
   "metadata": {},
   "outputs": [],
   "source": [
    "errors_keys = api_results_experiment_2.errors_keys\n",
    "errors = api_results_experiment_2.errors\n",
    "for i in range(len(errors)):\n",
    "    print (errors_keys[i])\n",
    "    print (errors[i])\n",
    "    print (\"\\n\\n\")"
   ]
  },
  {
   "cell_type": "markdown",
   "metadata": {},
   "source": [
    "La API hace que la ejecución de experimentos sea extremadamente rápida y eficiente, con el énfasis en la creación de experimentos reproducibles finamente ajustados donde el rendimiento del modelo y los parámetros se puede evaluar fácilmente de un vistazo."
   ]
  },
  {
   "cell_type": "markdown",
   "metadata": {},
   "source": [
    "En la siguiente iteración de este experimento, introducimos más parámetros _chunksize_, _DROP_ALL_NANS_ y _artificial_aggregate_ y agregamos otro algoritmo de desagregación (_Hart85_). También entrenamos y probamos datos de varios edificios del mismo conjunto de datos."
   ]
  },
  {
   "cell_type": "markdown",
   "metadata": {},
   "source": [
    "También importamos el algoritmo de Hart para el próximo experimento"
   ]
  },
  {
   "cell_type": "code",
   "execution_count": null,
   "metadata": {},
   "outputs": [],
   "source": [
    "from nilmtk.disaggregate import Hart85\n"
   ]
  },
  {
   "cell_type": "markdown",
   "metadata": {},
   "source": [
    "... Se suspende esta parte no me aporta nada a mi trabajo "
   ]
  },
  {
   "cell_type": "markdown",
   "metadata": {},
   "source": [
    "Al igual que los experimentos anteriores, cualquier usuario puede configurar otros experimentos muy rápidamente."
   ]
  },
  {
   "cell_type": "markdown",
   "metadata": {},
   "source": [
    "# Desagregación"
   ]
  },
  {
   "cell_type": "code",
   "execution_count": null,
   "metadata": {},
   "outputs": [],
   "source": [
    "from __future__ import print_function, division\n",
    "import time\n",
    "\n",
    "from matplotlib import rcParams\n",
    "import matplotlib.pyplot as plt\n",
    "import pandas as pd\n",
    "import numpy as np\n",
    "from six import iteritems\n",
    "\n",
    "from nilmtk import DataSet, TimeFrame, MeterGroup, HDFDataStore\n",
    "from nilmtk.legacy.disaggregate import CombinatorialOptimisation, FHMM\n",
    "import nilmtk.utils\n",
    "\n",
    "%matplotlib inline"
   ]
  },
  {
   "cell_type": "code",
   "execution_count": null,
   "metadata": {},
   "outputs": [],
   "source": [
    "rcParams['figure.figsize'] = (13, 6)"
   ]
  },
  {
   "cell_type": "markdown",
   "metadata": {},
   "source": [
    "### División de datos en tren y conjunto de prueba"
   ]
  },
  {
   "cell_type": "code",
   "execution_count": null,
   "metadata": {},
   "outputs": [],
   "source": [
    "train = DataSet('C:\\\\Users\\\\josel\\\\SmartMeter\\\\OrdenandoTodo\\\\redd.h5')\n",
    "test = DataSet('C:\\\\Users\\\\josel\\\\SmartMeter\\\\OrdenandoTodo\\\\redd.h5')"
   ]
  },
  {
   "cell_type": "markdown",
   "metadata": {},
   "source": [
    "Usemos el edificio 1 con fines de demostración"
   ]
  },
  {
   "cell_type": "code",
   "execution_count": null,
   "metadata": {},
   "outputs": [],
   "source": [
    "building = 1"
   ]
  },
  {
   "cell_type": "markdown",
   "metadata": {},
   "source": [
    "Dividamos los datos el 30 de abril"
   ]
  },
  {
   "cell_type": "code",
   "execution_count": null,
   "metadata": {},
   "outputs": [],
   "source": [
    "train.set_window(end=\"2011-04-30\")\n",
    "test.set_window(start=\"2011-04-30\")\n",
    "\n",
    "train_elec = train.buildings[1].elec\n",
    "test_elec = test.buildings[1].elec"
   ]
  },
  {
   "cell_type": "markdown",
   "metadata": {},
   "source": [
    "### Visualizando los datos"
   ]
  },
  {
   "cell_type": "code",
   "execution_count": null,
   "metadata": {},
   "outputs": [],
   "source": [
    "train_elec.plot()"
   ]
  },
  {
   "cell_type": "code",
   "execution_count": null,
   "metadata": {},
   "outputs": [],
   "source": [
    "test_elec.mains().plot()"
   ]
  },
  {
   "cell_type": "markdown",
   "metadata": {},
   "source": [
    "El conjunto de datos REDD tiene datos de nivel de electrodomésticos muestreados cada 3 o 4 segundos y datos de red tomados cada segundo. Comprobemos lo mismo."
   ]
  },
  {
   "cell_type": "code",
   "execution_count": null,
   "metadata": {},
   "outputs": [],
   "source": [
    "fridge_meter = train_elec['fridge']"
   ]
  },
  {
   "cell_type": "code",
   "execution_count": null,
   "metadata": {},
   "outputs": [],
   "source": [
    "fridge_df = next(fridge_meter.load())"
   ]
  },
  {
   "cell_type": "code",
   "execution_count": null,
   "metadata": {},
   "outputs": [],
   "source": [
    "fridge_df.head()"
   ]
  },
  {
   "cell_type": "code",
   "execution_count": null,
   "metadata": {},
   "outputs": [],
   "source": [
    "mains = train_elec.mains()"
   ]
  },
  {
   "cell_type": "code",
   "execution_count": null,
   "metadata": {},
   "outputs": [],
   "source": [
    "mains_df = next(mains.load())"
   ]
  },
  {
   "cell_type": "code",
   "execution_count": null,
   "metadata": {},
   "outputs": [],
   "source": [
    "mains_df.head()"
   ]
  },
  {
   "cell_type": "markdown",
   "metadata": {},
   "source": [
    "Dado que ambos se muestrean a diferentes frecuencias, reduciremos la resolución de ambos a una resolución de 1 minuto. También seleccionaremos los 5 mejores electrodomésticos en términos de consumo de energía y los usaremos para entrenar nuestros modelos FHMM y CO."
   ]
  },
  {
   "cell_type": "markdown",
   "metadata": {},
   "source": [
    "### Selección de los 5 mejores electrodomésticos"
   ]
  },
  {
   "cell_type": "code",
   "execution_count": null,
   "metadata": {},
   "outputs": [],
   "source": [
    "top_5_train_elec = train_elec.submeters().select_top_k(k=5)"
   ]
  },
  {
   "cell_type": "code",
   "execution_count": null,
   "metadata": {},
   "outputs": [],
   "source": [
    "top_5_train_elec"
   ]
  },
  {
   "cell_type": "markdown",
   "metadata": {},
   "source": [
    "### Capacitación y desagregación"
   ]
  },
  {
   "cell_type": "markdown",
   "metadata": {},
   "source": [
    "#### Una función para desagregar los datos de la red a los electrodomésticos constituyentes y devolver las predicciones"
   ]
  },
  {
   "cell_type": "code",
   "execution_count": null,
   "metadata": {},
   "outputs": [],
   "source": [
    "def predict(clf, test_elec, sample_period, timezone):\n",
    "    pred = {}\n",
    "    gt= {}\n",
    "    \n",
    "    # \"ac_type\" varies according to the dataset used. \n",
    "    # Make sure to use the correct ac_type before using the default parameters in this code.    \n",
    "    # \"ac_type\" varía según el conjunto de datos utilizado.\n",
    "    # Asegúrese de usar el ac_type correcto antes de usar los parámetros predeterminados en este código.\n",
    "    for i, chunk in enumerate(test_elec.mains().load(physical_quantity = 'power', ac_type = 'apparent', sample_period=sample_period)):\n",
    "        chunk_drop_na = chunk.dropna()\n",
    "        pred[i] = clf.disaggregate_chunk(chunk_drop_na)\n",
    "        gt[i]={}\n",
    "\n",
    "        for meter in test_elec.submeters().meters:\n",
    "            # Only use the meters that we trained on (this saves time!)    \n",
    "            gt[i][meter] = next(meter.load(physical_quantity = 'power', ac_type = 'active', sample_period=sample_period))\n",
    "        gt[i] = pd.DataFrame({k:v.squeeze() for k,v in iteritems(gt[i]) if len(v)}, index=next(iter(gt[i].values())).index).dropna()\n",
    "        \n",
    "    # If everything can fit in memory\n",
    "    gt_overall = pd.concat(gt)\n",
    "    gt_overall.index = gt_overall.index.droplevel()\n",
    "    pred_overall = pd.concat(pred)\n",
    "    pred_overall.index = pred_overall.index.droplevel()\n",
    "\n",
    "    # Having the same order of columns\n",
    "    gt_overall = gt_overall[pred_overall.columns]\n",
    "    \n",
    "    #Intersection of index\n",
    "    gt_index_utc = gt_overall.index.tz_convert(\"UTC\")\n",
    "    pred_index_utc = pred_overall.index.tz_convert(\"UTC\")\n",
    "    common_index_utc = gt_index_utc.intersection(pred_index_utc)\n",
    "    \n",
    "    common_index_local = common_index_utc.tz_convert(timezone)\n",
    "    gt_overall = gt_overall.loc[common_index_local]\n",
    "    pred_overall = pred_overall.loc[common_index_local]\n",
    "    appliance_labels = [m for m in gt_overall.columns.values]\n",
    "    gt_overall.columns = appliance_labels\n",
    "    pred_overall.columns = appliance_labels\n",
    "    return gt_overall, pred_overall"
   ]
  },
  {
   "cell_type": "markdown",
   "metadata": {},
   "source": [
    "#### Entrena usando 2 algoritmos de evaluación comparativa: Optimización combinatoria (CO) y Modelo de Markov oculto factorial (FHMM)"
   ]
  },
  {
   "cell_type": "code",
   "execution_count": null,
   "metadata": {},
   "outputs": [],
   "source": [
    "classifiers = {'CO':CombinatorialOptimisation(), 'FHMM':FHMM()}\n",
    "predictions = {}\n",
    "sample_period = 120\n",
    "for clf_name, clf in classifiers.items():\n",
    "    print(\"*\"*20)\n",
    "    print(clf_name)\n",
    "    print(\"*\" *20)\n",
    "    start = time.time()\n",
    "    # Note that we have given the sample period to downsample the data to 1 minute. \n",
    "    # If instead of top_5 we wanted to train on all appliance, we would write \n",
    "    # fhmm.train(train_elec, sample_period=60)\n",
    "    clf.train(top_5_train_elec, sample_period=sample_period)\n",
    "    end = time.time()\n",
    "    print(\"Runtime =\", end-start, \"seconds.\")\n",
    "    gt, predictions[clf_name] = predict(clf, test_elec, sample_period, train.metadata['timezone'])"
   ]
  },
  {
   "cell_type": "markdown",
   "metadata": {},
   "source": [
    "¡Usando etiquetas más bonitas!"
   ]
  },
  {
   "cell_type": "code",
   "execution_count": null,
   "metadata": {},
   "outputs": [],
   "source": [
    "appliance_labels = [m.label() for m in gt.columns.values]"
   ]
  },
  {
   "cell_type": "code",
   "execution_count": null,
   "metadata": {},
   "outputs": [],
   "source": [
    "gt.columns = appliance_labels\n",
    "predictions['CO'].columns = appliance_labels\n",
    "predictions['FHMM'].columns = appliance_labels"
   ]
  },
  {
   "cell_type": "markdown",
   "metadata": {},
   "source": [
    "#### Echa un vistazo a la verdad básica del consumo de energía de los 5 principales dispositivos"
   ]
  },
  {
   "cell_type": "code",
   "execution_count": null,
   "metadata": {},
   "outputs": [],
   "source": [
    "gt.head()"
   ]
  },
  {
   "cell_type": "code",
   "execution_count": null,
   "metadata": {},
   "outputs": [],
   "source": [
    "predictions['CO'].head()"
   ]
  },
  {
   "cell_type": "code",
   "execution_count": null,
   "metadata": {},
   "outputs": [],
   "source": [
    "predictions['FHMM'].head()"
   ]
  },
  {
   "cell_type": "markdown",
   "metadata": {},
   "source": [
    "### Trazar las predicciones contra el uso real"
   ]
  },
  {
   "cell_type": "code",
   "execution_count": null,
   "metadata": {},
   "outputs": [],
   "source": [
    "predictions['CO']['Fridge'].head(300).plot(label=\"Pred\")\n",
    "gt['Fridge'].head(300).plot(label=\"GT\")\n",
    "plt.legend()"
   ]
  },
  {
   "cell_type": "code",
   "execution_count": null,
   "metadata": {},
   "outputs": [],
   "source": [
    "predictions['FHMM']['Fridge'].head(300).plot(label=\"Pred\")\n",
    "gt['Fridge'].head(300).plot(label=\"GT\")\n",
    "plt.legend()"
   ]
  },
  {
   "cell_type": "markdown",
   "metadata": {},
   "source": [
    "### Comparación de algoritmos NILM (CO vs FHMM)"
   ]
  },
  {
   "cell_type": "markdown",
   "metadata": {},
   "source": [
    "`nilmtk.utils.compute_rmse` es una extensión de lo siguiente, que maneja mejor tanto los valores perdidos como las etiquetas: \n",
    "\n",
    "```python\n",
    "def compute_rmse(gt, pred):\n",
    "    from sklearn.metrics import mean_squared_error\n",
    "    rms_error = {}\n",
    "    for appliance in gt.columns:\n",
    "        rms_error[appliance] = np.sqrt(mean_squared_error(gt[appliance], pred[appliance]))\n",
    "    return pd.Series(rms_error)\n",
    "```"
   ]
  },
  {
   "cell_type": "code",
   "execution_count": null,
   "metadata": {},
   "outputs": [],
   "source": [
    "#? nilmtk.utils.compute_rmse"
   ]
  },
  {
   "cell_type": "code",
   "execution_count": null,
   "metadata": {},
   "outputs": [],
   "source": [
    "rmse = {}\n",
    "for clf_name in classifiers.keys():\n",
    "    rmse[clf_name] = nilmtk.utils.compute_rmse(gt, predictions[clf_name])\n",
    "\n",
    "rmse = pd.DataFrame(rmse)\n",
    "rmse"
   ]
  },
  {
   "cell_type": "markdown",
   "metadata": {},
   "source": [
    "# Diasagregue los datos del medidor de red de su hogar / edificio"
   ]
  },
  {
   "cell_type": "markdown",
   "metadata": {},
   "source": [
    "Este cuaderno demuestra el uso de siteonlyapi, una nueva interfaz NILMTK que es una modificación de ExperimentAPI de NILMTK. Permite a los usuarios de NILMTK obtener las demandas de energía de sus hogares / edificios para diferentes electrodomésticos potenciales.\n",
    "\n",
    "Comencemos con un experimento muy simple para demostrar el uso de esta API. Este experimento muestra cómo el usuario puede convertir los datos de su medidor en el formato REDD adecuado y llamar a la API para desagregar la energía en las demandas de los electrodomésticos según el conjunto de capacitación.\n",
    "\n",
    "Convierta los datos del medidor al formato adecuado"
   ]
  }
 ],
 "metadata": {
  "kernelspec": {
   "display_name": "nilmtk",
   "language": "python",
   "name": "nilmtk"
  },
  "language_info": {
   "codemirror_mode": {
    "name": "ipython",
    "version": 3
   },
   "file_extension": ".py",
   "mimetype": "text/x-python",
   "name": "python",
   "nbconvert_exporter": "python",
   "pygments_lexer": "ipython3",
   "version": "3.6.11"
  }
 },
 "nbformat": 4,
 "nbformat_minor": 1
}
