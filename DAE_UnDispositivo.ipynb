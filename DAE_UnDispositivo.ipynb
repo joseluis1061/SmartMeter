{
 "cells": [
  {
   "cell_type": "markdown",
   "metadata": {},
   "source": [
    "# Autoencoder Denoising con NILMTK\n",
    "Este es un ejemplo de cómo entrenar y usar el desagregador del Autoencoder Denoising (DAE) en el conjunto de datos REDD usando NILMTK."
   ]
  },
  {
   "cell_type": "code",
   "execution_count": 1,
   "metadata": {},
   "outputs": [],
   "source": [
    "from __future__ import print_function, division\n",
    "import time\n",
    "\n",
    "from matplotlib import rcParams\n",
    "import matplotlib.pyplot as plt\n",
    "import pandas as pd\n",
    "import numpy as np\n",
    "from six import iteritems\n",
    "\n",
    "from nilmtk import DataSet, TimeFrame, MeterGroup, HDFDataStore\n",
    "from nilmtk.legacy.disaggregate import CombinatorialOptimisation, FHMM\n",
    "import nilmtk.utils\n",
    "\n",
    "%matplotlib inline\n",
    "#Constante para el tamño de las imagenes\n",
    "rcParams['figure.figsize'] = (13, 6)"
   ]
  },
  {
   "cell_type": "code",
   "execution_count": 2,
   "metadata": {},
   "outputs": [],
   "source": [
    "# 1. Cargar los datos para entrenamiento\n",
    "train = DataSet('C:\\\\Users\\\\josel\\\\SmartMeter\\\\OrdenandoTodo\\\\redd.h5')\n",
    "train.set_window(end=\"30-4-2011\")      # Usando como final el 30 de abril\n",
    "train_elec = train.buildings[1].elec"
   ]
  },
  {
   "cell_type": "markdown",
   "metadata": {},
   "source": [
    "A continuación, necesitamos definir el modelo de desagregación. Para este ejemplo, la ventana de entrada tendrá un tamaño de 256 muestras."
   ]
  },
  {
   "cell_type": "code",
   "execution_count": 3,
   "metadata": {},
   "outputs": [],
   "source": [
    "#2. Una estructura con 256 pasos en el tamaño de la muestra\n",
    "sequence_length = 256"
   ]
  },
  {
   "cell_type": "code",
   "execution_count": 4,
   "metadata": {},
   "outputs": [],
   "source": [
    "#3.. Carga como medidor de entrenamiento el medidor central y el medidor para un dispositivo Fridge\n",
    "train_mains = train_elec.mains().all_meters()[0] # El medidor agregado o central que proporciona la entrada\n",
    "train_meter = train_elec.submeters()['fridge'] # El medidor de microondas que se utiliza como objetivo de entrenamiento."
   ]
  },
  {
   "cell_type": "code",
   "execution_count": 5,
   "metadata": {},
   "outputs": [],
   "source": [
    "#4. Cargar los datos de las series definidas\n",
    "# Frecuencia de la muestra\n",
    "load_kwargs = {'sample_period': 1}\n",
    "# Esta función crea un generador de datos, si es necesario la remuestrea\n",
    "# al periodo de tiempo definida por el usuario\n",
    "main_power_series = train_mains.power_series(**load_kwargs)\n",
    "meter_power_series = train_meter.power_series(**load_kwargs)"
   ]
  },
  {
   "cell_type": "code",
   "execution_count": 6,
   "metadata": {},
   "outputs": [
    {
     "name": "stderr",
     "output_type": "stream",
     "text": [
      "C:\\Users\\josel\\Anaconda3\\envs\\nilmtk-env\\lib\\site-packages\\nilmtk\\elecmeter.py:446: UserWarning: The provided sample_period (1) is shorter than the meter's sample_period (3)\n",
      "  sample_period, default_sample_period\n"
     ]
    },
    {
     "name": "stdout",
     "output_type": "stream",
     "text": [
      "mainchunk tipo = <class 'pandas.core.series.Series'> tamaño = (1003071,)\n",
      "meterchunk tipo = <class 'pandas.core.series.Series'> tamaño = (1003066,)\n"
     ]
    }
   ],
   "source": [
    "#5. Con next des empaqueta los datos en series de pandas antes definidas por un generador\n",
    "mainchunk = next(main_power_series)          # Datos del medidor central\n",
    "meterchunk = next(meter_power_series)        # Datos del electrodomestico\n",
    "\n",
    "print(f\"mainchunk tipo = {type(mainchunk)} tamaño = {mainchunk.shape}\")\n",
    "print(f\"meterchunk tipo = {type(meterchunk)} tamaño = {meterchunk.shape}\")"
   ]
  },
  {
   "cell_type": "code",
   "execution_count": 7,
   "metadata": {},
   "outputs": [
    {
     "data": {
      "text/plain": [
       "2011-04-18 09:22:09-04:00    224.190002\n",
       "2011-04-18 09:22:10-04:00    225.570007\n",
       "2011-04-18 09:22:11-04:00    226.089996\n",
       "2011-04-18 09:22:12-04:00    222.740005\n",
       "2011-04-18 09:22:13-04:00    222.199997\n",
       "Freq: S, Name: (power, apparent), dtype: float32"
      ]
     },
     "execution_count": 7,
     "metadata": {},
     "output_type": "execute_result"
    }
   ],
   "source": [
    "mainchunk.head(5)"
   ]
  },
  {
   "cell_type": "markdown",
   "metadata": {},
   "source": [
    "### Procesamiento de los datos antes de entrenar"
   ]
  },
  {
   "cell_type": "code",
   "execution_count": 8,
   "metadata": {},
   "outputs": [
    {
     "data": {
      "text/plain": [
       "4521.0400390625"
      ]
     },
     "execution_count": 8,
     "metadata": {},
     "output_type": "execute_result"
    }
   ],
   "source": [
    "#8. Calcula el valor maximo del medidor central\n",
    "mmax = None\n",
    "if mmax == None:\n",
    "    mmax = mainchunk.max()\n",
    "mmax"
   ]
  },
  {
   "cell_type": "code",
   "execution_count": 9,
   "metadata": {},
   "outputs": [],
   "source": [
    "#9. Funciones para normalizar los datos\n",
    "# Normaliza las series de tiempo teniendo en cuenta el valor maximo\n",
    "# mmax medido por el medidor central\n",
    "def _normalize(chunk, mmax):\n",
    "    tchunk = chunk / mmax\n",
    "    return tchunk\n",
    "\n",
    "# Des Normaliza las series de tiempo teniendo en cuenta el valor maximo\n",
    "# mmax medido por el medidor central\n",
    "def _denormalize(chunk, mmax):\n",
    "    tchunk = chunk * mmax\n",
    "    return tchunk"
   ]
  },
  {
   "cell_type": "code",
   "execution_count": 10,
   "metadata": {},
   "outputs": [
    {
     "data": {
      "text/plain": [
       "2011-04-18 09:22:09-04:00    0.049588\n",
       "2011-04-18 09:22:10-04:00    0.049893\n",
       "2011-04-18 09:22:11-04:00    0.050008\n",
       "2011-04-18 09:22:12-04:00    0.049267\n",
       "2011-04-18 09:22:13-04:00    0.049148\n",
       "Freq: S, Name: (power, apparent), dtype: float64"
      ]
     },
     "execution_count": 10,
     "metadata": {},
     "output_type": "execute_result"
    }
   ],
   "source": [
    "# 10. #Normaliza las series\n",
    "mainchunk = _normalize(mainchunk, mmax)\n",
    "meterchunk = _normalize(meterchunk, mmax)\n",
    "mainchunk.head(5)"
   ]
  },
  {
   "cell_type": "code",
   "execution_count": null,
   "metadata": {},
   "outputs": [],
   "source": []
  },
  {
   "cell_type": "code",
   "execution_count": 11,
   "metadata": {},
   "outputs": [],
   "source": [
    "#11. Tamaño de la secuencia definida para el modelo\n",
    "s = sequence_length\n",
    "#12. Remplaza valores NaNs con 0s\n",
    "mainchunk.fillna(0, inplace=True)\n",
    "meterchunk.fillna(0, inplace=True)"
   ]
  },
  {
   "cell_type": "code",
   "execution_count": 12,
   "metadata": {},
   "outputs": [
    {
     "name": "stdout",
     "output_type": "stream",
     "text": [
      "DatetimeIndex(['2011-04-18 09:22:13-04:00', '2011-04-18 09:22:14-04:00',\n",
      "               '2011-04-18 09:22:15-04:00', '2011-04-18 09:22:16-04:00',\n",
      "               '2011-04-18 09:22:17-04:00', '2011-04-18 09:22:18-04:00',\n",
      "               '2011-04-18 09:22:19-04:00', '2011-04-18 09:22:20-04:00',\n",
      "               '2011-04-18 09:22:21-04:00', '2011-04-18 09:22:22-04:00',\n",
      "               ...\n",
      "               '2011-04-29 23:59:49-04:00', '2011-04-29 23:59:50-04:00',\n",
      "               '2011-04-29 23:59:51-04:00', '2011-04-29 23:59:52-04:00',\n",
      "               '2011-04-29 23:59:53-04:00', '2011-04-29 23:59:54-04:00',\n",
      "               '2011-04-29 23:59:55-04:00', '2011-04-29 23:59:56-04:00',\n",
      "               '2011-04-29 23:59:57-04:00', '2011-04-29 23:59:58-04:00'],\n",
      "              dtype='datetime64[ns, US/Eastern]', length=1003066, freq='S')\n"
     ]
    }
   ],
   "source": [
    "#12. Une los indices comunes a las dos series de dispositivo y medidor\n",
    "# Retorna una serie con los indices comunes en fechas\n",
    "ix = mainchunk.index.intersection(meterchunk.index)\n",
    "print(ix)"
   ]
  },
  {
   "cell_type": "code",
   "execution_count": 13,
   "metadata": {},
   "outputs": [],
   "source": [
    "# Toma los datos en las fechas coincidentes y descarta las demas\n",
    "# seleccionando por medio de los indices contenidos en ix\n",
    "mainchunk = mainchunk[ix]\n",
    "meterchunk = meterchunk[ix]"
   ]
  },
  {
   "cell_type": "markdown",
   "metadata": {},
   "source": [
    "Este modelo cuenta con método de ventaneo para entrenar. Al hacer el ventaneo existe la posibilidad que la ultima ventana de tiempo quede incompleta. Es necesario rellenar los dato faltantes con ceros que no afectarán los pesos de las neuronas al entrenar, esto se debe a que un valor cero es similar a una neurona inactiva."
   ]
  },
  {
   "cell_type": "code",
   "execution_count": 14,
   "metadata": {},
   "outputs": [],
   "source": [
    "#13. Tamaño del batch de ceros\n",
    "adicion = s - (len(ix) % s)\n",
    "#A cada serie de medidor se le agrega el batch\n",
    "#Se definen en función del tamaño de la muestra\n",
    "#Esta operación elimina el indice de tipo tiempo\n",
    "X_batch = np.append(mainchunk, np.zeros(adicion))    # Medidor central\n",
    "Y_batch = np.append(meterchunk, np.zeros(adicion))   # Medidor de dispositivo"
   ]
  },
  {
   "cell_type": "code",
   "execution_count": 15,
   "metadata": {},
   "outputs": [
    {
     "name": "stdout",
     "output_type": "stream",
     "text": [
      "X_batch (3919, 256, 1)\n",
      "Y_batch (3919, 256, 1)\n"
     ]
    }
   ],
   "source": [
    "#14. Cambia la forma de los datos quedando la señal en tramos de 256 puntos chunk\n",
    "#Para el ventanas de 256 seran (muestras = 3919, ventana = 256, Caracteristica = 1)\n",
    "X_batch = np.reshape(X_batch, (int(len(X_batch) / s), s, 1))\n",
    "Y_batch = np.reshape(Y_batch, (int(len(Y_batch) / s), s, 1))\n",
    "print(f\"X_batch {X_batch.shape}\")\n",
    "print(f\"Y_batch {Y_batch.shape}\")"
   ]
  },
  {
   "cell_type": "markdown",
   "metadata": {},
   "source": [
    "## Modelo"
   ]
  },
  {
   "cell_type": "code",
   "execution_count": 16,
   "metadata": {},
   "outputs": [
    {
     "name": "stderr",
     "output_type": "stream",
     "text": [
      "C:\\Users\\josel\\Anaconda3\\envs\\nilmtk-env\\lib\\site-packages\\h5py\\__init__.py:40: UserWarning: h5py is running against HDF5 1.10.6 when it was built against 1.10.5, this may cause problems\n",
      "  '{0}.{1}.{2}'.format(*version.hdf5_built_version_tuple)\n"
     ]
    }
   ],
   "source": [
    "#15. Creamos el modelo de auto encoder\n",
    "from keras.models import load_model\n",
    "from keras.models import Sequential\n",
    "from keras.layers import Dense, Flatten, Conv1D, Reshape, Dropout\n",
    "from keras.utils import plot_model"
   ]
  },
  {
   "cell_type": "code",
   "execution_count": 17,
   "metadata": {},
   "outputs": [
    {
     "name": "stdout",
     "output_type": "stream",
     "text": [
      "Model: \"sequential\"\n",
      "_________________________________________________________________\n",
      "Layer (type)                 Output Shape              Param #   \n",
      "=================================================================\n",
      "conv1d (Conv1D)              (None, 256, 8)            40        \n",
      "_________________________________________________________________\n",
      "flatten (Flatten)            (None, 2048)              0         \n",
      "_________________________________________________________________\n",
      "dropout (Dropout)            (None, 2048)              0         \n",
      "_________________________________________________________________\n",
      "dense (Dense)                (None, 2048)              4196352   \n",
      "_________________________________________________________________\n",
      "dropout_1 (Dropout)          (None, 2048)              0         \n",
      "_________________________________________________________________\n",
      "dense_1 (Dense)              (None, 128)               262272    \n",
      "_________________________________________________________________\n",
      "dropout_2 (Dropout)          (None, 128)               0         \n",
      "_________________________________________________________________\n",
      "dense_2 (Dense)              (None, 2048)              264192    \n",
      "_________________________________________________________________\n",
      "dropout_3 (Dropout)          (None, 2048)              0         \n",
      "_________________________________________________________________\n",
      "reshape (Reshape)            (None, 256, 8)            0         \n",
      "_________________________________________________________________\n",
      "conv1d_1 (Conv1D)            (None, 256, 1)            33        \n",
      "=================================================================\n",
      "Total params: 4,722,889\n",
      "Trainable params: 4,722,889\n",
      "Non-trainable params: 0\n",
      "_________________________________________________________________\n"
     ]
    }
   ],
   "source": [
    "#16. Estructura del modelo\n",
    "#Crea el contenedor del modelo\n",
    "model = Sequential()\n",
    "\n",
    "# 1D Conv filtros = 8, kernel = 4, entrada 256 pasos de 1 feature, padding igual, paso en 1\n",
    "model.add(Conv1D(8, 4, activation=\"linear\", input_shape=(sequence_length, 1), padding=\"same\", strides=1))\n",
    "#Aplanar la salida\n",
    "model.add(Flatten())\n",
    "\n",
    "#Auto encoder\n",
    "# Fully Connected Layers abandono del 20%\n",
    "model.add(Dropout(0.2))\n",
    "# Neuronas 8 veces el tamaño de la ventana de tiempo = 2048 nodos\n",
    "model.add(Dense((sequence_length-0)*8, activation='relu'))\n",
    "#Abandono del 20% capa con 128 neuronas\n",
    "model.add(Dropout(0.2))\n",
    "model.add(Dense(128, activation='relu'))\n",
    "#Abandono del 20% capa con 2048 nodos\n",
    "model.add(Dropout(0.2))\n",
    "model.add(Dense((sequence_length-0)*8, activation='relu'))\n",
    "\n",
    "model.add(Dropout(0.2))\n",
    "\n",
    "# 1D Conv\n",
    "# La salida de la capa anterior es una secuencia aplanada. Es necesario cambiar\n",
    "# el formato de los datos de salida para obtener datos de forma 256,8 similar\n",
    "# a los pasos y filtros de la primer convolución\n",
    "model.add(Reshape(((sequence_length-0), 8)))\n",
    "#Entrega estos datos a una nueva capa convolucional 1 filtro con kernel = 4\n",
    "#Supongo es de un solo filtro debido a que deseamos obtener una sola serie. \n",
    "model.add(Conv1D(1, 4, activation=\"linear\", padding=\"same\", strides=1))\n",
    "#Compila el modelo con perdida mse y optimizador de adam\n",
    "model.compile(loss='mse', optimizer='adam')\n",
    "#Grafico del modelo para exportar\n",
    "model.summary()"
   ]
  },
  {
   "cell_type": "code",
   "execution_count": 18,
   "metadata": {},
   "outputs": [
    {
     "name": "stdout",
     "output_type": "stream",
     "text": [
      "Epoch 1/4\n",
      "245/245 [==============================] - 10s 39ms/step - loss: 3.7288e-04\n",
      "Epoch 2/4\n",
      "245/245 [==============================] - 10s 41ms/step - loss: 2.7700e-04\n",
      "Epoch 3/4\n",
      "245/245 [==============================] - 10s 39ms/step - loss: 2.7215e-04\n",
      "Epoch 4/4\n",
      "245/245 [==============================] - 9s 38ms/step - loss: 2.5371e-04\n"
     ]
    },
    {
     "data": {
      "text/plain": [
       "<tensorflow.python.keras.callbacks.History at 0x2330bbf30f0>"
      ]
     },
     "execution_count": 18,
     "metadata": {},
     "output_type": "execute_result"
    }
   ],
   "source": [
    "#17. Entrenando el modelo\n",
    "batch_size = 16\n",
    "epochs = 4\n",
    "model.fit(X_batch, Y_batch, batch_size=batch_size, epochs=epochs, shuffle=True)"
   ]
  },
  {
   "cell_type": "code",
   "execution_count": 18,
   "metadata": {},
   "outputs": [],
   "source": [
    "#Función para exportar el modelo en .h5\n",
    "def export_model(filename):\n",
    "    '''Guarda el modelo en .h5\n",
    "\n",
    "    Parameters\n",
    "    ----------\n",
    "    filename : Nombre del archivo\n",
    "    '''\n",
    "    #Guardar el modelo. Requiere el nombre filename del archivo de salida, como opcional\n",
    "    #inputs=inputs capa de entrada, outputs=outputs capa de salida es como hacer un corte\n",
    "    model.save(filename)\n",
    "    #Carga el archivo para lectura\n",
    "    with h5py.File(filename, 'a') as hf:\n",
    "        #Los grupos son la forma en la que se organizan los archivos h5\n",
    "        #son similares a un diccionario. Las claves son los miembros del grupo\n",
    "        #y los valores son los grupos. **Creo que sol los dataset**\n",
    "        gr = hf.create_group('disaggregator-data')\n",
    "        #Crea un nuevo dataset con metadotos nombre del conjunto de \n",
    "        #datos y matriz numpy con los datos\n",
    "        gr.create_dataset('mmax', data = [mmax])"
   ]
  },
  {
   "cell_type": "code",
   "execution_count": 19,
   "metadata": {},
   "outputs": [],
   "source": [
    "#export_model(\"model-redd100.h5\")   "
   ]
  },
  {
   "cell_type": "markdown",
   "metadata": {},
   "source": [
    "## Test de comportamiento"
   ]
  },
  {
   "cell_type": "code",
   "execution_count": 20,
   "metadata": {},
   "outputs": [],
   "source": [
    "#18. Carga los datos completos\n",
    "test = DataSet('C:\\\\Users\\\\josel\\\\SmartMeter\\\\OrdenandoTodo\\\\redd.h5')\n",
    "#9. Define el tamaño de la muestra de test\n",
    "test.set_window(start=\"30-4-2011\") \n",
    "#10. Selecciona los electrodomesticos de un edificio\n",
    "test_elec = test.buildings[1].elec\n",
    "#11. Selecciona el medidor central\n",
    "test_mains = test_elec.mains().all_meters()[0]"
   ]
  },
  {
   "cell_type": "code",
   "execution_count": 21,
   "metadata": {},
   "outputs": [],
   "source": [
    "#19. Definir una base de datos para guardar los resultados\n",
    "from nilmtk.datastore import HDFDataStore\n",
    "#20. Crea un archivo para guardar las series calculadas\n",
    "disag_filename = 'disag-out.h5' \n",
    "#21. Define el archivo como lectura\n",
    "output = HDFDataStore(disag_filename, 'w')"
   ]
  },
  {
   "cell_type": "code",
   "execution_count": 25,
   "metadata": {},
   "outputs": [],
   "source": [
    "nilmtk.datastore?"
   ]
  },
  {
   "cell_type": "code",
   "execution_count": 22,
   "metadata": {},
   "outputs": [],
   "source": [
    "#23. Define un array para timeframes vacio\n",
    "timeframes = []\n",
    "\n",
    "#24. Crea un string con el nombre del edificio mas el id del edificio que lo\n",
    "#toma desde los metadatos \n",
    "#ejemplo building1\n",
    "building_path = '/building{}'.format(test_mains.building())\n",
    "#25. Ahora crea el nombre de la ruta al medidor 1 del edificio en cuestión\n",
    "#Pej.  building1/elec/meter1\n",
    "mains_data_location = building_path + '/elec/meter1'\n",
    "\n",
    "#Variable de control datos estan disponibles\n",
    "data_is_available = False"
   ]
  },
  {
   "cell_type": "code",
   "execution_count": 23,
   "metadata": {},
   "outputs": [],
   "source": [
    "from nilmtk.utils import find_nearest\n",
    "from nilmtk.feature_detectors import cluster\n",
    "from nilmtk.legacy.disaggregate import Disaggregator\n",
    "from nilmtk.datastore import HDFDataStore"
   ]
  },
  {
   "cell_type": "code",
   "execution_count": 24,
   "metadata": {},
   "outputs": [],
   "source": [
    "# Esta función es la encargada de calcular la serie de datos predicha por el modelo\n",
    "# para cada tramo de los datos de test del medidor central. Estos tramos son los tomados\n",
    "# solo en los casos donde el medidor funciono de manera adecuada. Al final retorna un\n",
    "# df con los datos predichos por el modelo antes entrenado. \n",
    "def disaggregate_chunk(mains):\n",
    "    ''' Desagregación en memoria.\n",
    "\n",
    "     Parámetros\n",
    "     ----------\n",
    "     mains: pd. serie para desagregar\n",
    "     Returns\n",
    "     -------\n",
    "     appliance_powers: pd.DataFrame donde cada columna representa un\n",
    "         aparato desagregado. Los nombres de las columnas son el índice entero\n",
    "         en `model` para el aparato en cuestión.\n",
    "    '''\n",
    "    # Tamaño de las ventanas de entrenamiento\n",
    "    s = sequence_length\n",
    "    # Tamaño de la sección de la serie que se cargada\n",
    "    # según los instantes de buen funcionamiento del medidor\n",
    "    up_limit = len(mains)\n",
    "    # Rellenar los valores Nan con ceros\n",
    "    mains.fillna(0, inplace=True)\n",
    "    # Calcular la cantidad de ceros que deben llenarse \n",
    "    # para crear un batch que permita que los datos al \n",
    "    # dividirse mantengan el tamaño para todos los datos\n",
    "    additional = s - (up_limit % s)\n",
    "    # Crear series de datos con los batch de ceros al final\n",
    "    X_batch = np.append(mains, np.zeros(additional))\n",
    "    #Cambiar el formato de los datos como: numero de muestras\n",
    "    # ventanas de tiempo = 256, y una caracteristica\n",
    "    X_batch = np.reshape(X_batch, (int(len(X_batch) / s), s ,1))\n",
    "    # Calcula la predicción para esta serie de tiempo en particular\n",
    "    # En este punto tenemos datos con forma: (Muestras, ventana = 256, caracteristicas = 1)\n",
    "    # Que es lo que retorna el modelo al predecir\n",
    "    pred = model.predict(X_batch)\n",
    "    # Ahora une todas las salidas en ventanas a una serie completa, de los cuales solo toma\n",
    "    # los datos hasta donde la serie original tenia datos. Los datos restantes\n",
    "    # son los tomados por el batch de ceros, por lo tanto, se eliminan de la predicción\n",
    "    pred = np.reshape(pred, (up_limit + additional))[:up_limit]\n",
    "    # Crea una serie de pandas, con los datos de pred, usa como indice los mismos indices de \n",
    "    # tiempo que tenia la serie original y como nombre la llama 0 este es un metadato\n",
    "    column = pd.Series(pred, index=mains.index, name=0)\n",
    "\n",
    "    # Crea un diccionario vacio con el creara un dataframe posteriormente\n",
    "    # donde la clave key = 0 tendra como valor value la columna de datos predichos\n",
    "    appliance_powers_dict = {}\n",
    "    appliance_powers_dict[0] = column\n",
    "    # Transforma el diccionario a un dataframe de pandas de esta manera \n",
    "    # agrega la dimension de las columnas = 1. Tal que (muestras, 1)\n",
    "    appliance_powers = pd.DataFrame(appliance_powers_dict)\n",
    "    # Y es este dataframe el que retorna\n",
    "    return appliance_powers"
   ]
  },
  {
   "cell_type": "code",
   "execution_count": 25,
   "metadata": {},
   "outputs": [],
   "source": [
    "# Al ejecutar el ciclo carga las series de datos remuestradas segun lo definido en \n",
    "# load_kwargs =  {'sample_period': 1, 'sections': [TimeFrame(start='2011-04-30 00:00:00-04:00', end='2011-05-01 09:44:42-04:00', empty=False)...]}\n",
    "# Dedusco que solo tomara los datos que se encuentren en las secciones buenas del medidor.\n",
    "# Cada chunk es una serie de pandas pandas.core.series.Series\n",
    "MIN_CHUNK_LENGTH = 256\n",
    "\n",
    "def disaggregate(mains, output_datastore, meter_metadata, **load_kwargs):\n",
    "    #22. Cargar los instantentes donde el medidor central funciona de manera adecuada mains = test_mains\n",
    "    load_kwargs.setdefault('sections', test_mains.good_sections())\n",
    "    # Recorre cada sección de buen funcionamiento y para cada \n",
    "    # una calcula la prediccion del modelo\n",
    "    print(f\"meter_metadata {meter_metadata}\")\n",
    "    \n",
    "    #cols = pd.MultiIndex.from_tuples([('power', 'apparent')])\n",
    "    cont = 0\n",
    "    datos = {}\n",
    "    for chunk in mains.power_series(**load_kwargs):\n",
    "\n",
    "        #Si el tamaño de la serie cargada es menor al de las ventanas se descarta\n",
    "        if len(chunk) < MIN_CHUNK_LENGTH:\n",
    "            continue\n",
    "            \n",
    "        #Imprime el tamaño de los tramos de series cargados\n",
    "        print(\"Serie cargada: {}\".format(len(chunk)))\n",
    "\n",
    "        #Nombre de las columnas de series de datos ('power', 'apparent')\n",
    "        measurement = chunk.name\n",
    "\n",
    "        #Normaliza la serie cargada y la guarda en una nueva variable usando como\n",
    "        #maximo el valor del medidor centrar de entrenamiento\n",
    "        chunk2 = _normalize(chunk, mmax)\n",
    "\n",
    "        # Predice para cada tramo la salida que debe tener el medidor del dispositivo\n",
    "        # enviando el tramo de datos del medidor central. Retorna un dataframe de pandas.\n",
    "        appliance_power = disaggregate_chunk(chunk2)\n",
    "        \n",
    "        # TOdo valor negativo calculado lo iguala a cero\n",
    "        appliance_power[appliance_power < 0] = 0\n",
    "        # Calcula el valor real mediante la desnormalización de los datos\n",
    "        appliance_power = _denormalize(appliance_power, mmax)\n",
    "        #print(f\"appliance_power ****** \\n {type(appliance_power)}\")\n",
    "        \n",
    "        # Agregar predicción a la salida\n",
    "        # En este punto tendremos datos disponibles predichos\n",
    "        data_is_available = True\n",
    "        # chunk.name = ('power', 'apparent') \n",
    "        # Convierte lista de tuplas a MultiIndex osea una estructura que contiene\n",
    "        # multiples indices. Lons nombres estan dados pos la serie original\n",
    "        # cols = MultiIndex([('power', 'apparent')]\n",
    "        cols = pd.MultiIndex.from_tuples([chunk.name])\n",
    "        # De los metadatos extrae el valor de la instancia de la medida\n",
    "        # que en si es como el id del dispositivo por ejemplo 5 para refrigerador\n",
    "        # en el edificio 1\n",
    "        meter_instance = meter_metadata.instance()\n",
    "        # Ahora crea un df para cada serie predicha chunk con: \n",
    "        # appliance_power.values = los valores de la serie predicha\n",
    "        # index=appliance_power.index con indice el tiempo de dicha serie\n",
    "        # columns=cols da el nombre de las columnas ('power', 'apparent') es el nombre \n",
    "        # de la columna de medidas, el indice no tiene nombre\n",
    "        # y define los datos como  de punto flotante\n",
    "        df = pd.DataFrame(\n",
    "            appliance_power.values, index=appliance_power.index,\n",
    "            columns=cols, dtype=\"float32\")\n",
    "        #Define el nombre de la ruta de cada dispositivo /building1/elec/meter5\n",
    "        key = '{}/elec/meter{}'.format(building_path, meter_instance)\n",
    "        # En el archivo output_datastore se agregaran los datos calculados en \n",
    "        # cada predicción \n",
    "        output_datastore.append(key, df)\n",
    "\n",
    "        # Append aggregate data to output / Agregar datos agregados a la salida\n",
    "        #Crea un dataframe para la serie de datos del medidor original\n",
    "        mains_df = pd.DataFrame(chunk, columns=cols, dtype=\"float32\")\n",
    "        # Y tambien la agrega al archivo de salidas calculadas quedando en orden\n",
    "        # datos predichos y luego datos originales del medidor\n",
    "        output_datastore.append(key=mains_data_location, value=mains_df)\n",
    "        \n",
    "        datos[cont] =  appliance_power\n",
    "        cont += 1\n",
    "        '''\n",
    "        if cont == 0:\n",
    "            df_pred = mains_df.copy()\n",
    "            cont += 1\n",
    "        else:\n",
    "            df_pred = pd.merge(df_pred, mains_df) \n",
    "        '''\n",
    "    #return datos \n",
    "    return mains_df\n"
   ]
  },
  {
   "cell_type": "code",
   "execution_count": null,
   "metadata": {},
   "outputs": [],
   "source": []
  },
  {
   "cell_type": "code",
   "execution_count": 26,
   "metadata": {},
   "outputs": [
    {
     "name": "stdout",
     "output_type": "stream",
     "text": [
      "meter_metadata ElecMeter(instance=5, building=1, dataset='REDD', appliances=[Appliance(type='fridge', instance=1)])\n",
      "Serie cargada: 121482\n",
      "Serie cargada: 112661\n",
      "Serie cargada: 87770\n",
      "Serie cargada: 54084\n",
      "Serie cargada: 2660\n",
      "Serie cargada: 33513\n",
      "Serie cargada: 138535\n",
      "Serie cargada: 32514\n",
      "Serie cargada: 27255\n",
      "Serie cargada: 34833\n",
      "Serie cargada: 100831\n"
     ]
    }
   ],
   "source": [
    "# Esta función calcula las predicciones para los datos de test\n",
    "dae = disaggregate(test_mains, output, train_meter, sample_period=1)"
   ]
  },
  {
   "cell_type": "code",
   "execution_count": 27,
   "metadata": {},
   "outputs": [],
   "source": [
    "#Cargando los datos de test"
   ]
  },
  {
   "cell_type": "code",
   "execution_count": 28,
   "metadata": {},
   "outputs": [],
   "source": [
    "test = test_elec.submeters()['fridge']\n",
    "test = next(test.power_series())"
   ]
  },
  {
   "cell_type": "markdown",
   "metadata": {},
   "source": [
    "En este punto los valores predichos tienen menor cantidad a los originales"
   ]
  },
  {
   "cell_type": "code",
   "execution_count": 29,
   "metadata": {},
   "outputs": [
    {
     "data": {
      "text/plain": [
       "DatetimeIndex(['2011-04-30 00:00:01-04:00', '2011-04-30 00:00:05-04:00',\n",
       "               '2011-04-30 00:00:09-04:00', '2011-04-30 00:00:12-04:00',\n",
       "               '2011-04-30 00:00:16-04:00', '2011-04-30 00:00:20-04:00',\n",
       "               '2011-04-30 00:00:24-04:00', '2011-04-30 00:00:27-04:00',\n",
       "               '2011-04-30 00:00:31-04:00', '2011-04-30 00:00:35-04:00',\n",
       "               ...\n",
       "               '2011-05-24 15:56:03-04:00', '2011-05-24 15:56:06-04:00',\n",
       "               '2011-05-24 15:56:10-04:00', '2011-05-24 15:56:13-04:00',\n",
       "               '2011-05-24 15:56:17-04:00', '2011-05-24 15:56:20-04:00',\n",
       "               '2011-05-24 15:56:23-04:00', '2011-05-24 15:56:27-04:00',\n",
       "               '2011-05-24 15:56:30-04:00', '2011-05-24 15:56:34-04:00'],\n",
       "              dtype='datetime64[ns, US/Eastern]', length=489198, freq=None)"
      ]
     },
     "execution_count": 29,
     "metadata": {},
     "output_type": "execute_result"
    }
   ],
   "source": [
    "test.index"
   ]
  },
  {
   "cell_type": "code",
   "execution_count": 30,
   "metadata": {},
   "outputs": [
    {
     "data": {
      "text/plain": [
       "DatetimeIndex(['2011-05-23 10:31:34-04:00', '2011-05-23 10:31:35-04:00',\n",
       "               '2011-05-23 10:31:36-04:00', '2011-05-23 10:31:37-04:00',\n",
       "               '2011-05-23 10:31:38-04:00', '2011-05-23 10:31:39-04:00',\n",
       "               '2011-05-23 10:31:40-04:00', '2011-05-23 10:31:41-04:00',\n",
       "               '2011-05-23 10:31:42-04:00', '2011-05-23 10:31:43-04:00',\n",
       "               ...\n",
       "               '2011-05-24 14:31:55-04:00', '2011-05-24 14:31:56-04:00',\n",
       "               '2011-05-24 14:31:57-04:00', '2011-05-24 14:31:58-04:00',\n",
       "               '2011-05-24 14:31:59-04:00', '2011-05-24 14:32:00-04:00',\n",
       "               '2011-05-24 14:32:01-04:00', '2011-05-24 14:32:02-04:00',\n",
       "               '2011-05-24 14:32:03-04:00', '2011-05-24 14:32:04-04:00'],\n",
       "              dtype='datetime64[ns, US/Eastern]', length=100831, freq='S')"
      ]
     },
     "execution_count": 30,
     "metadata": {},
     "output_type": "execute_result"
    }
   ],
   "source": [
    "dae.index"
   ]
  },
  {
   "cell_type": "code",
   "execution_count": 31,
   "metadata": {},
   "outputs": [],
   "source": [
    "sections = [TimeFrame(start='2011-04-30 00:00:00-04:00', \n",
    "                                    end='2011-05-01 09:44:42-04:00'), \n",
    "                          TimeFrame(start='2011-05-01 09:47:18-04:00', \n",
    "                                    end='2011-05-02 17:04:59-04:00'), \n",
    "                          TimeFrame(start='2011-05-02 17:07:27-04:00', \n",
    "                                    end='2011-05-03 17:30:17-04:00'), \n",
    "                          TimeFrame(start='2011-05-03 17:32:49-04:00', \n",
    "                                    end='2011-05-03 17:33:44-04:00'), \n",
    "                          TimeFrame(start='2011-05-06 10:51:46-04:00', \n",
    "                                    end='2011-05-07 01:53:10-04:00'), \n",
    "                          TimeFrame(start='2011-05-07 01:53:55-04:00', \n",
    "                                    end='2011-05-07 02:38:15-04:00'), \n",
    "                          TimeFrame(start='2011-05-07 02:40:43-04:00', \n",
    "                                    end='2011-05-07 11:59:16-04:00'), \n",
    "                          TimeFrame(start='2011-05-11 03:19:43-04:00', \n",
    "                                    end='2011-05-12 17:48:38-04:00'), \n",
    "                          TimeFrame(start='2011-05-12 20:14:30-04:00', \n",
    "                                    end='2011-05-13 05:16:24-04:00'), \n",
    "                          TimeFrame(start='2011-05-22 16:04:46-04:00', \n",
    "                                    end='2011-05-22 23:39:01-04:00'), \n",
    "                          TimeFrame(start='2011-05-22 23:41:35-04:00', \n",
    "                                    end='2011-05-23 09:22:08-04:00'), \n",
    "                          TimeFrame(start='2011-05-23 10:31:34-04:00', \n",
    "                                    end='2011-05-24 14:32:05-04:00'), \n",
    "                          TimeFrame(start='2011-05-24 15:55:33-04:00', \n",
    "                                    end='2011-05-24 15:57:02-04:00')]"
   ]
  },
  {
   "cell_type": "code",
   "execution_count": 32,
   "metadata": {},
   "outputs": [
    {
     "name": "stderr",
     "output_type": "stream",
     "text": [
      "C:\\Users\\josel\\Anaconda3\\envs\\nilmtk-env\\lib\\site-packages\\pandas\\plotting\\_matplotlib\\converter.py:103: FutureWarning: Using an implicitly registered datetime converter for a matplotlib plotting method. The converter was registered by pandas on import. Future versions of pandas will require you to explicitly register matplotlib converters.\n",
      "\n",
      "To register the converters:\n",
      "\t>>> from pandas.plotting import register_matplotlib_converters\n",
      "\t>>> register_matplotlib_converters()\n",
      "  warnings.warn(msg, FutureWarning)\n"
     ]
    },
    {
     "data": {
      "text/plain": [
       "[<matplotlib.lines.Line2D at 0x260085b41d0>]"
      ]
     },
     "execution_count": 32,
     "metadata": {},
     "output_type": "execute_result"
    },
    {
     "data": {
      "image/png": "[encoded data removed]",
      "text/plain": [
       "<Figure size 432x288 with 1 Axes>"
      ]
     },
     "metadata": {
      "needs_background": "light"
     },
     "output_type": "display_data"
    }
   ],
   "source": [
    "#Test\n",
    "id = 11\n",
    "plt.plot(test[sections[id].start:sections[id].end])"
   ]
  },
  {
   "cell_type": "code",
   "execution_count": 33,
   "metadata": {},
   "outputs": [
    {
     "data": {
      "text/plain": [
       "[<matplotlib.lines.Line2D at 0x26008724a90>]"
      ]
     },
     "execution_count": 33,
     "metadata": {},
     "output_type": "execute_result"
    },
    {
     "data": {
      "image/png": "[encoded data removed]",
      "text/plain": [
       "<Figure size 432x288 with 1 Axes>"
      ]
     },
     "metadata": {
      "needs_background": "light"
     },
     "output_type": "display_data"
    }
   ],
   "source": [
    "#Predict\n",
    "id = 11\n",
    "plt.plot(dae[sections[id].start:sections[id].end])"
   ]
  },
  {
   "cell_type": "code",
   "execution_count": 34,
   "metadata": {},
   "outputs": [
    {
     "data": {
      "image/png": "[encoded data removed]",
      "text/plain": [
       "<Figure size 432x288 with 1 Axes>"
      ]
     },
     "metadata": {
      "needs_background": "light"
     },
     "output_type": "display_data"
    }
   ],
   "source": [
    "id = 11\n",
    "plt.plot(test[sections[id].start:sections[id].end])\n",
    "plt.plot(dae[sections[id].start:sections[id].end])\n",
    "plt.show()"
   ]
  },
  {
   "cell_type": "markdown",
   "metadata": {},
   "source": [
    "## Metricas"
   ]
  },
  {
   "cell_type": "code",
   "execution_count": 131,
   "metadata": {},
   "outputs": [],
   "source": [
    "#31. Metricas de rendimiento: Comparación entre lo predicho y lo real\n",
    "#32. Calcula los valores de tp, fp, fn, tn \n",
    "def tp_tn_fp_fn(states_pred, states_ground):\n",
    "    # Calcula los estados logicos con comparadores and 1 and 1 = True\n",
    "    tp = np.sum(np.logical_and(states_pred == 1, states_ground == 1))\n",
    "    fp = np.sum(np.logical_and(states_pred == 1, states_ground == 0))\n",
    "    fn = np.sum(np.logical_and(states_pred == 0, states_ground == 1))\n",
    "    tn = np.sum(np.logical_and(states_pred == 0, states_ground == 0))\n",
    "    return tp, tn, fp, fn"
   ]
  },
  {
   "cell_type": "code",
   "execution_count": 132,
   "metadata": {},
   "outputs": [],
   "source": [
    "#33. Calcula el recall\n",
    "def recall(tp,fn):\n",
    "    return tp/float(tp+fn)\n",
    "#34. La precision\n",
    "def precision(tp,fp):\n",
    "    return tp/float(tp+fp)\n",
    "#35. El valor f1\n",
    "def f1(prec,rec):\n",
    "    return 2 * (prec*rec) / float(prec+rec)\n",
    "#36. El accuracy\n",
    "def accuracy(tp, tn, p, n):\n",
    "    return (tp + tn) / float(p + n)"
   ]
  },
  {
   "cell_type": "code",
   "execution_count": 133,
   "metadata": {},
   "outputs": [],
   "source": [
    "#37. Umbral donde se determina que el dispositivo esta encendido\n",
    "# para el refrigerador se puede tomar un valor = 20W\n",
    "threshold = 10"
   ]
  },
  {
   "cell_type": "code",
   "execution_count": 134,
   "metadata": {},
   "outputs": [],
   "source": [
    "#38. Defino los datos de predicción y test como padans.df\n",
    "prediccion = test[sections[id].start:sections[id].end]\n",
    "real = dae[sections[id].start:sections[id].end]"
   ]
  },
  {
   "cell_type": "code",
   "execution_count": 164,
   "metadata": {},
   "outputs": [
    {
     "data": {
      "text/plain": [
       "DatetimeIndex(['2011-05-23 10:31:34-04:00', '2011-05-23 10:31:38-04:00',\n",
       "               '2011-05-23 10:31:41-04:00', '2011-05-23 10:31:45-04:00',\n",
       "               '2011-05-23 10:31:48-04:00', '2011-05-23 10:31:52-04:00',\n",
       "               '2011-05-23 10:31:55-04:00', '2011-05-23 10:31:58-04:00',\n",
       "               '2011-05-23 10:32:02-04:00', '2011-05-23 10:32:05-04:00',\n",
       "               ...\n",
       "               '2011-05-24 14:31:25-04:00', '2011-05-24 14:31:34-04:00',\n",
       "               '2011-05-24 14:31:37-04:00', '2011-05-24 14:31:41-04:00',\n",
       "               '2011-05-24 14:31:44-04:00', '2011-05-24 14:31:48-04:00',\n",
       "               '2011-05-24 14:31:51-04:00', '2011-05-24 14:31:55-04:00',\n",
       "               '2011-05-24 14:31:58-04:00', '2011-05-24 14:32:01-04:00'],\n",
       "              dtype='datetime64[ns, US/Eastern]', length=26220, freq=None)"
      ]
     },
     "execution_count": 164,
     "metadata": {},
     "output_type": "execute_result"
    }
   ],
   "source": [
    "#12. Une los indices comunes a las dos series de dispositivo y medidor\n",
    "# Retorna una serie con los indices comunes\n",
    "ix = prediccion.index.intersection(real.index)\n",
    "ix"
   ]
  },
  {
   "cell_type": "code",
   "execution_count": 166,
   "metadata": {},
   "outputs": [],
   "source": [
    "#39. Detección de encendido para lo predicho y lo real\n",
    "pr = np.array([0 if (p)<threshold else 1 for p in prediccion.values])  #Maestro predicho\n",
    "gr = np.array([0 if p<threshold else 1 for p in real.values])    #Esclavo real"
   ]
  },
  {
   "cell_type": "code",
   "execution_count": null,
   "metadata": {},
   "outputs": [],
   "source": [
    "#40. Calculo de verdaderos positivos, verdaderos negativos, \n",
    "# falsos positivos, falsos negativos, para el estado de encendido\n",
    "tp, tn, fp, fn = tp_tn_fp_fn(pr,gr)"
   ]
  },
  {
   "cell_type": "code",
   "execution_count": null,
   "metadata": {},
   "outputs": [],
   "source": [
    "# 41. Calculo del total de encendidos\n",
    "# Suma de todos los 1 en pr o predicho\n",
    "p = sum(pr)\n",
    "#42. Calculo del total de apagados\n",
    "# n es tamaño de pr - p que es su suma\n",
    "n = len(pr) - p"
   ]
  },
  {
   "cell_type": "code",
   "execution_count": null,
   "metadata": {},
   "outputs": [],
   "source": [
    "#43. Calculo el rendimiento mediante funciones propias de cada medida \n",
    "res_recall = recall(tp,fn)              # recall\n",
    "res_precision = precision(tp,fp)        # precision\n",
    "res_f1 = f1(res_precision,res_recall)   # f1 \n",
    "res_accuracy = accuracy(tp,tn,p,n)      # accuracy"
   ]
  },
  {
   "cell_type": "code",
   "execution_count": 11,
   "metadata": {},
   "outputs": [
    {
     "name": "stdout",
     "output_type": "stream",
     "text": [
      "res_recall -------0.9995930374521819\n",
      "res_precision ----0.8068757458333892\n",
      "res_f1 -----------0.8066296935646431\n",
      "res_accuracy -----0.8066296935646431\n"
     ]
    }
   ],
   "source": [
    "#44. Imprimir los valores resultantes\n",
    "print(f\"res_recall -------{rpaf[0]}\")\n",
    "print(f\"res_precision ----{rpaf[1]}\")\n",
    "print(f\"res_f1 -----------{rpaf[2]}\")\n",
    "print(f\"res_accuracy -----{rpaf[2]}\")"
   ]
  },
  {
   "cell_type": "code",
   "execution_count": null,
   "metadata": {},
   "outputs": [],
   "source": []
  },
  {
   "cell_type": "code",
   "execution_count": 169,
   "metadata": {},
   "outputs": [],
   "source": [
    "#Micro Ondas"
   ]
  },
  {
   "cell_type": "code",
   "execution_count": 35,
   "metadata": {},
   "outputs": [],
   "source": [
    "#0. Cargar las librerias\n",
    "import numpy as np\n",
    "import matplotlib.pyplot as plt\n",
    "%matplotlib inline\n",
    "import pandas as pd\n",
    "import warnings; warnings.filterwarnings('ignore')\n",
    "from nilmtk import DataSet"
   ]
  },
  {
   "cell_type": "code",
   "execution_count": 36,
   "metadata": {},
   "outputs": [],
   "source": [
    "#1. Cargar los datos\n",
    "train = DataSet('C:\\\\Users\\\\josel\\\\SmartMeter\\\\OrdenandoTodo\\\\redd.h5')\n",
    "#train.set_window(end=\"30-4-2011\") #Use data only until 4/30/2011\n",
    "#2. define el tamaño de los datos de entrenamiento\n",
    "train.set_window(end=\"2011-04-30\")\n",
    "#3. Toma todos los medidores del edificio home = 1\n",
    "home = 1\n",
    "train_elec = train.buildings[home].elec"
   ]
  },
  {
   "cell_type": "code",
   "execution_count": 37,
   "metadata": {},
   "outputs": [],
   "source": [
    "#4. Carga la libreria que define el modelo para una\n",
    "#ventana de tiempo de 256 puntos por muestra\n",
    "from daedisaggregator import DAEDisaggregator\n",
    "dae = DAEDisaggregator(256) "
   ]
  },
  {
   "cell_type": "code",
   "execution_count": 38,
   "metadata": {},
   "outputs": [],
   "source": [
    "#5. Carga como medidor de entrenamiento el medidor central y el medidor para un dispositivo Fridge\n",
    "train_mains = train_elec.mains().all_meters()[0] # El medidor agregado o central que proporciona la entrada\n",
    "train_meter = train_elec.submeters()['microwave'] # El medidor de microondas que se utiliza como objetivo de entrenamiento."
   ]
  },
  {
   "cell_type": "code",
   "execution_count": 39,
   "metadata": {},
   "outputs": [
    {
     "name": "stdout",
     "output_type": "stream",
     "text": [
      "Epoch 1/25\n",
      "245/245 [==============================] - 9s 36ms/step - loss: 0.0017\n",
      "Epoch 2/25\n",
      "245/245 [==============================] - 9s 36ms/step - loss: 0.0016\n",
      "Epoch 3/25\n",
      "245/245 [==============================] - 9s 37ms/step - loss: 0.0015\n",
      "Epoch 4/25\n",
      "245/245 [==============================] - 9s 37ms/step - loss: 0.0015\n",
      "Epoch 5/25\n",
      "245/245 [==============================] - 9s 37ms/step - loss: 0.0016\n",
      "Epoch 6/25\n",
      "245/245 [==============================] - 9s 38ms/step - loss: 0.0015\n",
      "Epoch 7/25\n",
      "245/245 [==============================] - 9s 38ms/step - loss: 0.0015\n",
      "Epoch 8/25\n",
      "245/245 [==============================] - 9s 38ms/step - loss: 0.0015\n",
      "Epoch 9/25\n",
      "245/245 [==============================] - 9s 38ms/step - loss: 0.0013\n",
      "Epoch 10/25\n",
      "245/245 [==============================] - 9s 38ms/step - loss: 0.0012\n",
      "Epoch 11/25\n",
      "245/245 [==============================] - 11s 43ms/step - loss: 0.0014\n",
      "Epoch 12/25\n",
      "245/245 [==============================] - 10s 40ms/step - loss: 0.0010\n",
      "Epoch 13/25\n",
      "245/245 [==============================] - 10s 42ms/step - loss: 0.0013\n",
      "Epoch 14/25\n",
      "245/245 [==============================] - 10s 40ms/step - loss: 0.0011\n",
      "Epoch 15/25\n",
      "245/245 [==============================] - 10s 39ms/step - loss: 9.3162e-04\n",
      "Epoch 16/25\n",
      "245/245 [==============================] - 10s 39ms/step - loss: 8.8687e-04\n",
      "Epoch 17/25\n",
      "245/245 [==============================] - 9s 36ms/step - loss: 7.8379e-04\n",
      "Epoch 18/25\n",
      "245/245 [==============================] - 9s 35ms/step - loss: 9.9860e-04\n",
      "Epoch 19/25\n",
      "245/245 [==============================] - 9s 36ms/step - loss: 7.5609e-04\n",
      "Epoch 20/25\n",
      "245/245 [==============================] - 9s 37ms/step - loss: 0.0011\n",
      "Epoch 21/25\n",
      "245/245 [==============================] - 9s 37ms/step - loss: 8.6023e-04\n",
      "Epoch 22/25\n",
      "245/245 [==============================] - 9s 37ms/step - loss: 6.7401e-04\n",
      "Epoch 23/25\n",
      "245/245 [==============================] - 9s 37ms/step - loss: 7.7836e-04\n",
      "Epoch 24/25\n",
      "245/245 [==============================] - 9s 37ms/step - loss: 6.0171e-04\n",
      "Epoch 25/25\n",
      "245/245 [==============================] - 9s 37ms/step - loss: 7.3049e-04\n"
     ]
    }
   ],
   "source": [
    "#6. Llama la función de entrenamiento de la libreria\n",
    "#para los medidores central y el de dispositivo, define el numero de epocas\n",
    "#para el entrenamiento y el periodo de muestreo\n",
    "dae.train(train_mains, train_meter, epochs=25, sample_period=1) # Entrena el modelo\n",
    "dae.export_model(\"model-redd100.h5\")                           # Exportar el modelo"
   ]
  },
  {
   "cell_type": "code",
   "execution_count": 40,
   "metadata": {},
   "outputs": [],
   "source": [
    "#7. Pruebas con los datos de test\n",
    "\n",
    "#8. Carga los datos completos\n",
    "test = DataSet('C:\\\\Users\\\\josel\\\\SmartMeter\\\\OrdenandoTodo\\\\redd.h5')\n",
    "#9. Define el tamaño de la muestra de test\n",
    "test.set_window(start=\"30-4-2011\")\n",
    "#10. Selecciona los electrodomesticos de un edificio\n",
    "test_elec = test.buildings[1].elec\n",
    "#11. Selecciona el medidor central\n",
    "test_mains = test_elec.mains().all_meters()[0]"
   ]
  },
  {
   "cell_type": "code",
   "execution_count": 41,
   "metadata": {},
   "outputs": [],
   "source": [
    "from nilmtk.datastore import HDFDataStore\n",
    "#12. Carga el archivo del modelo entrenado\n",
    "disag_filename = 'disag-out_2.h5' \n",
    "#13. Define el archivo como lectura\n",
    "output = HDFDataStore(disag_filename, 'w')"
   ]
  },
  {
   "cell_type": "code",
   "execution_count": 42,
   "metadata": {},
   "outputs": [
    {
     "name": "stdout",
     "output_type": "stream",
     "text": [
      "New sensible chunk: 121482 size of data\n",
      "New sensible chunk: 112661 size of data\n",
      "New sensible chunk: 87770 size of data\n",
      "New sensible chunk: 54084 size of data\n",
      "New sensible chunk: 2660 size of data\n",
      "New sensible chunk: 33513 size of data\n",
      "New sensible chunk: 138535 size of data\n",
      "New sensible chunk: 32514 size of data\n",
      "New sensible chunk: 27255 size of data\n",
      "New sensible chunk: 34833 size of data\n",
      "New sensible chunk: 100831 size of data\n"
     ]
    }
   ],
   "source": [
    "#14. Disgregar el modelo segun el modelo entrenado\n",
    "# test_mains: el medidor de señal agregado\n",
    "# output: el almacén de datos de salida\n",
    "# train_meter: se utiliza para copiar los metadatos del medidor de train en el almacén de datos. Esta serie se definio\n",
    "# para el refrigerador\n",
    "dae.disaggregate(test_mains, output, train_meter, sample_period=1)"
   ]
  },
  {
   "cell_type": "code",
   "execution_count": 43,
   "metadata": {},
   "outputs": [
    {
     "data": {
      "image/png": "[encoded data removed]",
      "text/plain": [
       "<Figure size 432x288 with 1 Axes>"
      ]
     },
     "metadata": {
      "needs_background": "light"
     },
     "output_type": "display_data"
    }
   ],
   "source": [
    "result = DataSet(disag_filename)\n",
    "res_elec = result.buildings[1].elec\n",
    "predicted = res_elec['microwave']\n",
    "ground_truth = test_elec['microwave']\n",
    "import metrics\n",
    "import matplotlib.pyplot as plt\n",
    "predicted.plot()\n",
    "ground_truth.plot()\n",
    "plt.show()"
   ]
  },
  {
   "cell_type": "code",
   "execution_count": 46,
   "metadata": {},
   "outputs": [
    {
     "name": "stdout",
     "output_type": "stream",
     "text": [
      "res_recall -------0.9999350147660893\n",
      "res_precision ----0.7424549683884051\n",
      "res_f1 -----------0.7424208714858577\n",
      "res_accuracy -----0.7424208714858577\n"
     ]
    }
   ],
   "source": [
    "rpaf = metrics.recall_precision_accuracy_f1(predicted, ground_truth)\n",
    "#44. Imprimir los valores resultantes\n",
    "print(f\"res_recall -------{rpaf[0]}\")\n",
    "print(f\"res_precision ----{rpaf[1]}\")\n",
    "print(f\"res_f1 -----------{rpaf[2]}\")\n",
    "print(f\"res_accuracy -----{rpaf[2]}\")"
   ]
  },
  {
   "cell_type": "markdown",
   "metadata": {},
   "source": [
    "# Segundo Intento\n",
    "Que funciones, es hora de descanzar de esto..."
   ]
  },
  {
   "cell_type": "code",
   "execution_count": 22,
   "metadata": {},
   "outputs": [],
   "source": [
    "#0. Cargar funciones\n",
    "from __future__ import print_function, division\n",
    "import time\n",
    "\n",
    "from matplotlib import rcParams\n",
    "import matplotlib.pyplot as plt\n",
    "import pandas as pd\n",
    "import numpy as np\n",
    "from six import iteritems\n",
    "\n",
    "from nilmtk import DataSet, TimeFrame, MeterGroup, HDFDataStore\n",
    "from nilmtk.legacy.disaggregate import CombinatorialOptimisation, FHMM\n",
    "import nilmtk.utils\n",
    "\n",
    "%matplotlib inline\n",
    "#Constante para el tamño de las imagenes\n",
    "rcParams['figure.figsize'] = (16, 6)"
   ]
  },
  {
   "cell_type": "code",
   "execution_count": 23,
   "metadata": {},
   "outputs": [],
   "source": [
    "# 1. Cargar los datos para entrenamiento. Uso todos los datos y los divido \n",
    "# segun una fecha definida por el usuario\n",
    "train = DataSet('C:\\\\Users\\\\josel\\\\SmartMeter\\\\OrdenandoTodo\\\\redd.h5')\n",
    "train.set_window(end=\"30-4-2011\")      # Usando como final el 30 de abril\n",
    "train_elec = train.buildings[1].elec   # Selecciono el edificio 1"
   ]
  },
  {
   "cell_type": "markdown",
   "metadata": {},
   "source": [
    "A continuación, necesitamos definir el modelo de desagregación. Para este ejemplo, la ventana de entrada tendrá un tamaño de 256 muestras."
   ]
  },
  {
   "cell_type": "code",
   "execution_count": 24,
   "metadata": {},
   "outputs": [],
   "source": [
    "#Una estructura con 256 pasos en el tamaño de la muestra\n",
    "sequence_length = 256"
   ]
  },
  {
   "cell_type": "code",
   "execution_count": 25,
   "metadata": {},
   "outputs": [],
   "source": [
    "#5. Carga como medidor de entrenamiento el medidor central y el medidor para un dispositivo Fridge\n",
    "train_mains = train_elec.mains().all_meters()[0] # El medidor agregado o central que proporciona la entrada\n",
    "train_meter = train_elec.submeters()['microwave'] # El medidor de microondas que se utiliza como objetivo de entrenamiento."
   ]
  },
  {
   "cell_type": "code",
   "execution_count": 32,
   "metadata": {},
   "outputs": [],
   "source": [
    "#6. Cargar los datos de las series definidas\n",
    "# Frecuencia de la muestra\n",
    "load_kwargs = {'sample_period': 1}\n",
    "# Esta función crea un generador de datos, si es necesario la remuestrea\n",
    "# al periodo de tiempo definida por el usuario, en el caso de los medidores\n",
    "# individuales rellena los espacios faltantes en el tiempo debido a que\n",
    "# estan muestreados cada 3S.\n",
    "main_power_series = train_mains.power_series(**load_kwargs)\n",
    "meter_power_series = train_meter.power_series(**load_kwargs)"
   ]
  },
  {
   "cell_type": "code",
   "execution_count": 33,
   "metadata": {},
   "outputs": [
    {
     "name": "stderr",
     "output_type": "stream",
     "text": [
      "C:\\Users\\josel\\Anaconda3\\envs\\nilmtk-env\\lib\\site-packages\\nilmtk\\elecmeter.py:446: UserWarning: The provided sample_period (1) is shorter than the meter's sample_period (3)\n",
      "  sample_period, default_sample_period\n"
     ]
    },
    {
     "name": "stdout",
     "output_type": "stream",
     "text": [
      "mainchunk tipo = <class 'pandas.core.series.Series'> tamaño = (1003071,)\n",
      "meterchunk tipo = <class 'pandas.core.series.Series'> tamaño = (1003066,)\n"
     ]
    }
   ],
   "source": [
    "#7. Con next des empaqueta los datos en series de pandas antes definidas por un generador\n",
    "mainchunk = next(main_power_series)          # Datos del medidor central\n",
    "meterchunk = next(meter_power_series)        # Datos del electrodomestico\n",
    "\n",
    "print(f\"mainchunk tipo = {type(mainchunk)} tamaño = {mainchunk.shape}\")\n",
    "print(f\"meterchunk tipo = {type(meterchunk)} tamaño = {meterchunk.shape}\")"
   ]
  },
  {
   "cell_type": "code",
   "execution_count": 34,
   "metadata": {},
   "outputs": [
    {
     "data": {
      "text/plain": [
       "2011-04-18 09:22:09-04:00    224.190002\n",
       "2011-04-18 09:22:10-04:00    225.570007\n",
       "2011-04-18 09:22:11-04:00    226.089996\n",
       "2011-04-18 09:22:12-04:00    222.740005\n",
       "2011-04-18 09:22:13-04:00    222.199997\n",
       "Freq: S, Name: (power, apparent), dtype: float32"
      ]
     },
     "execution_count": 34,
     "metadata": {},
     "output_type": "execute_result"
    }
   ],
   "source": [
    "mainchunk.head(5)"
   ]
  },
  {
   "cell_type": "code",
   "execution_count": 35,
   "metadata": {},
   "outputs": [
    {
     "data": {
      "text/plain": [
       "2011-04-18 09:22:13-04:00    5.0\n",
       "2011-04-18 09:22:14-04:00    5.0\n",
       "2011-04-18 09:22:15-04:00    5.0\n",
       "2011-04-18 09:22:16-04:00    5.0\n",
       "2011-04-18 09:22:17-04:00    5.0\n",
       "Freq: S, Name: (power, active), dtype: float32"
      ]
     },
     "execution_count": 35,
     "metadata": {},
     "output_type": "execute_result"
    }
   ],
   "source": [
    "meterchunk.head(5)"
   ]
  },
  {
   "cell_type": "markdown",
   "metadata": {},
   "source": [
    "### Procesamiento de los datos antes de entrenar"
   ]
  },
  {
   "cell_type": "code",
   "execution_count": 36,
   "metadata": {},
   "outputs": [
    {
     "data": {
      "text/plain": [
       "4521.0400390625"
      ]
     },
     "execution_count": 36,
     "metadata": {},
     "output_type": "execute_result"
    }
   ],
   "source": [
    "# 8. Calcula el valor maximo del medidor central, con este valor se hace \n",
    "# la normalización de las series\n",
    "mmax = None\n",
    "if mmax == None:\n",
    "    mmax = mainchunk.max()\n",
    "mmax"
   ]
  },
  {
   "cell_type": "code",
   "execution_count": 37,
   "metadata": {},
   "outputs": [],
   "source": [
    "# 9. Funciones para normalizar los datos con valores entre 0 y 1\n",
    "\n",
    "# Normaliza las series de tiempo teniendo en cuenta el valor maximo\n",
    "# mmax medido por el medidor central. \n",
    "def _normalize(chunk, mmax):\n",
    "    tchunk = chunk / mmax\n",
    "    return tchunk\n",
    "\n",
    "# Des Normaliza las series de tiempo teniendo en cuenta el valor maximo\n",
    "# mmax medido por el medidor central\n",
    "def _denormalize(chunk, mmax):\n",
    "    tchunk = chunk * mmax\n",
    "    return tchunk"
   ]
  },
  {
   "cell_type": "code",
   "execution_count": 38,
   "metadata": {},
   "outputs": [],
   "source": [
    "# 10. #Normaliza las series\n",
    "mainchunk = _normalize(mainchunk, mmax)\n",
    "meterchunk = _normalize(meterchunk, mmax)"
   ]
  },
  {
   "cell_type": "code",
   "execution_count": 39,
   "metadata": {},
   "outputs": [
    {
     "data": {
      "text/plain": [
       "2011-04-18 09:22:09-04:00    0.049588\n",
       "2011-04-18 09:22:10-04:00    0.049893\n",
       "2011-04-18 09:22:11-04:00    0.050008\n",
       "2011-04-18 09:22:12-04:00    0.049267\n",
       "2011-04-18 09:22:13-04:00    0.049148\n",
       "Freq: S, Name: (power, apparent), dtype: float64"
      ]
     },
     "execution_count": 39,
     "metadata": {},
     "output_type": "execute_result"
    }
   ],
   "source": [
    "mainchunk.head(5)"
   ]
  },
  {
   "cell_type": "code",
   "execution_count": 40,
   "metadata": {},
   "outputs": [
    {
     "data": {
      "text/plain": [
       "2011-04-18 09:22:13-04:00    0.001106\n",
       "2011-04-18 09:22:14-04:00    0.001106\n",
       "2011-04-18 09:22:15-04:00    0.001106\n",
       "2011-04-18 09:22:16-04:00    0.001106\n",
       "2011-04-18 09:22:17-04:00    0.001106\n",
       "Freq: S, Name: (power, active), dtype: float64"
      ]
     },
     "execution_count": 40,
     "metadata": {},
     "output_type": "execute_result"
    }
   ],
   "source": [
    "meterchunk.head(5)"
   ]
  },
  {
   "cell_type": "code",
   "execution_count": 41,
   "metadata": {},
   "outputs": [],
   "source": [
    "#11. Tamaño de la secuencia definida para el modelo\n",
    "s = sequence_length\n",
    "#12. Remplaza valores NaNs con 0s\n",
    "mainchunk.fillna(0, inplace=True)\n",
    "meterchunk.fillna(0, inplace=True)"
   ]
  },
  {
   "cell_type": "code",
   "execution_count": 42,
   "metadata": {},
   "outputs": [
    {
     "name": "stdout",
     "output_type": "stream",
     "text": [
      "DatetimeIndex(['2011-04-18 09:22:13-04:00', '2011-04-18 09:22:14-04:00',\n",
      "               '2011-04-18 09:22:15-04:00', '2011-04-18 09:22:16-04:00',\n",
      "               '2011-04-18 09:22:17-04:00', '2011-04-18 09:22:18-04:00',\n",
      "               '2011-04-18 09:22:19-04:00', '2011-04-18 09:22:20-04:00',\n",
      "               '2011-04-18 09:22:21-04:00', '2011-04-18 09:22:22-04:00',\n",
      "               ...\n",
      "               '2011-04-29 23:59:49-04:00', '2011-04-29 23:59:50-04:00',\n",
      "               '2011-04-29 23:59:51-04:00', '2011-04-29 23:59:52-04:00',\n",
      "               '2011-04-29 23:59:53-04:00', '2011-04-29 23:59:54-04:00',\n",
      "               '2011-04-29 23:59:55-04:00', '2011-04-29 23:59:56-04:00',\n",
      "               '2011-04-29 23:59:57-04:00', '2011-04-29 23:59:58-04:00'],\n",
      "              dtype='datetime64[ns, US/Eastern]', length=1003066, freq='S')\n"
     ]
    }
   ],
   "source": [
    "# 12. Une los indices comunes a las dos series de dispositivo y medidor\n",
    "# Retorna una serie con los indices comunes en fechas\n",
    "ix = mainchunk.index.intersection(meterchunk.index)\n",
    "print(ix)"
   ]
  },
  {
   "cell_type": "code",
   "execution_count": 43,
   "metadata": {},
   "outputs": [],
   "source": [
    "# 13. Toma los datos en las fechas coincidentes y descarta las demas\n",
    "# seleccionando por medio de los indices definidos en ix\n",
    "mainchunk = mainchunk[ix]\n",
    "meterchunk = meterchunk[ix]"
   ]
  },
  {
   "cell_type": "code",
   "execution_count": 44,
   "metadata": {},
   "outputs": [
    {
     "name": "stdout",
     "output_type": "stream",
     "text": [
      "mainchunk  (1003066,)\n",
      "meterchunk (1003066,)\n"
     ]
    }
   ],
   "source": [
    "print(f\"mainchunk  {mainchunk.shape}\")\n",
    "print(f\"meterchunk {meterchunk.shape}\")"
   ]
  },
  {
   "cell_type": "markdown",
   "metadata": {},
   "source": [
    "Este modelo cuenta con método de ventaneo para entrenar. Al hacer el ventaneo existe la posibilidad que la ultima ventana de tiempo quede incompleta. Es necesario rellenar los dato faltantes con ceros que no afectarán los pesos de las neuronas al entrenar, esto se debe a que un valor cero es similar a una neurona inactiva."
   ]
  },
  {
   "cell_type": "code",
   "execution_count": 45,
   "metadata": {},
   "outputs": [],
   "source": [
    "#14. Tamaño del batch de ceros\n",
    "adicion = s - (len(ix) % s)\n",
    "#A cada serie de medidor se le agrega el batch\n",
    "#Se definen en función del tamaño de la muestra\n",
    "#Esta operación elimina el indice de tipo tiempo\n",
    "X_batch = np.append(mainchunk, np.zeros(adicion))    # Medidor central\n",
    "Y_batch = np.append(meterchunk, np.zeros(adicion))   # Medidor de dispositivo"
   ]
  },
  {
   "cell_type": "code",
   "execution_count": 46,
   "metadata": {},
   "outputs": [
    {
     "name": "stdout",
     "output_type": "stream",
     "text": [
      "X_batch (3919, 256, 1)\n",
      "Y_batch (3919, 256, 1)\n"
     ]
    }
   ],
   "source": [
    "#15. Cambia la forma de los datos quedando la señal en tramos de 256 puntos chunk\n",
    "#Para el ventanas de 256 seran (muestras = 3919, ventana = 256, Caracteristica = 1)\n",
    "X_batch = np.reshape(X_batch, (int(len(X_batch) / s), s, 1))\n",
    "Y_batch = np.reshape(Y_batch, (int(len(Y_batch) / s), s, 1))\n",
    "print(f\"X_batch {X_batch.shape}\")\n",
    "print(f\"Y_batch {Y_batch.shape}\")"
   ]
  },
  {
   "cell_type": "markdown",
   "metadata": {},
   "source": [
    "**NOta:** En este punto ya tenemos los datos de entrenamiento y objetivo listos para ser ingresados a cualquier modelo definido por nosotros."
   ]
  },
  {
   "cell_type": "markdown",
   "metadata": {},
   "source": [
    "## Modelo"
   ]
  },
  {
   "cell_type": "code",
   "execution_count": 48,
   "metadata": {},
   "outputs": [],
   "source": [
    "#15. Creamos el modelo de auto encoder\n",
    "from keras.models import load_model\n",
    "from keras.models import Sequential\n",
    "from keras.layers import Dense, Flatten, Conv1D, Reshape, Dropout\n",
    "from keras.utils import plot_model"
   ]
  },
  {
   "cell_type": "code",
   "execution_count": 49,
   "metadata": {},
   "outputs": [
    {
     "name": "stdout",
     "output_type": "stream",
     "text": [
      "Model: \"sequential_1\"\n",
      "_________________________________________________________________\n",
      "Layer (type)                 Output Shape              Param #   \n",
      "=================================================================\n",
      "conv1d_2 (Conv1D)            (None, 256, 8)            40        \n",
      "_________________________________________________________________\n",
      "flatten_1 (Flatten)          (None, 2048)              0         \n",
      "_________________________________________________________________\n",
      "dropout_4 (Dropout)          (None, 2048)              0         \n",
      "_________________________________________________________________\n",
      "dense_3 (Dense)              (None, 2048)              4196352   \n",
      "_________________________________________________________________\n",
      "dropout_5 (Dropout)          (None, 2048)              0         \n",
      "_________________________________________________________________\n",
      "dense_4 (Dense)              (None, 128)               262272    \n",
      "_________________________________________________________________\n",
      "dropout_6 (Dropout)          (None, 128)               0         \n",
      "_________________________________________________________________\n",
      "dense_5 (Dense)              (None, 2048)              264192    \n",
      "_________________________________________________________________\n",
      "dropout_7 (Dropout)          (None, 2048)              0         \n",
      "_________________________________________________________________\n",
      "reshape_1 (Reshape)          (None, 256, 8)            0         \n",
      "_________________________________________________________________\n",
      "conv1d_3 (Conv1D)            (None, 256, 1)            33        \n",
      "=================================================================\n",
      "Total params: 4,722,889\n",
      "Trainable params: 4,722,889\n",
      "Non-trainable params: 0\n",
      "_________________________________________________________________\n"
     ]
    }
   ],
   "source": [
    "#16. Estructura del modelo\n",
    "#Crea el contenedor del modelo\n",
    "model = Sequential()\n",
    "\n",
    "# 1D Conv filtros = 8, kernel = 4, entrada 256 pasos de 1 feature, padding igual, paso en 1\n",
    "model.add(Conv1D(8, 4, activation=\"linear\", input_shape=(sequence_length, 1), padding=\"same\", strides=1))\n",
    "#Aplanar la salida\n",
    "model.add(Flatten())\n",
    "\n",
    "#Auto encoder\n",
    "# Fully Connected Layers abandono del 20%\n",
    "model.add(Dropout(0.2))\n",
    "# Neuronas 8 veces el tamaño de la ventana de tiempo = 2048 nodos\n",
    "model.add(Dense((sequence_length-0)*8, activation='relu'))\n",
    "#Abandono del 20% capa con 128 neuronas\n",
    "model.add(Dropout(0.2))\n",
    "model.add(Dense(128, activation='relu'))\n",
    "#Abandono del 20% capa con 2048 nodos\n",
    "model.add(Dropout(0.2))\n",
    "model.add(Dense((sequence_length-0)*8, activation='relu'))\n",
    "\n",
    "model.add(Dropout(0.2))\n",
    "\n",
    "# 1D Conv\n",
    "# La salida de la capa anterior es una secuencia aplanada. Es necesario cambiar\n",
    "# el formato de los datos de salida para obtener datos de forma 256,8 similar\n",
    "# a los pasos y filtros de la primer convolución\n",
    "model.add(Reshape(((sequence_length-0), 8)))\n",
    "#Entrega estos datos a una nueva capa convolucional 1 filtro con kernel = 4\n",
    "#Supongo es de un solo filtro debido a que deseamos obtener una sola serie. \n",
    "model.add(Conv1D(1, 4, activation=\"linear\", padding=\"same\", strides=1))\n",
    "#Compila el modelo con perdida mse y optimizador de adam\n",
    "model.compile(loss='mse', optimizer='adam')\n",
    "#Grafico del modelo para exportar\n",
    "model.summary()"
   ]
  },
  {
   "cell_type": "code",
   "execution_count": 51,
   "metadata": {},
   "outputs": [
    {
     "name": "stdout",
     "output_type": "stream",
     "text": [
      "Epoch 1/3\n",
      "245/245 [==============================] - 10s 41ms/step - loss: 0.0015\n",
      "Epoch 2/3\n",
      "245/245 [==============================] - 10s 41ms/step - loss: 0.0014\n",
      "Epoch 3/3\n",
      "245/245 [==============================] - 10s 41ms/step - loss: 0.0014\n"
     ]
    },
    {
     "data": {
      "text/plain": [
       "<tensorflow.python.keras.callbacks.History at 0x23305739630>"
      ]
     },
     "execution_count": 51,
     "metadata": {},
     "output_type": "execute_result"
    }
   ],
   "source": [
    "#17. Entrenando el modelo\n",
    "batch_size = 16\n",
    "epochs = 3\n",
    "model.fit(X_batch, Y_batch, batch_size=batch_size, epochs=epochs, shuffle=True)"
   ]
  },
  {
   "cell_type": "code",
   "execution_count": 18,
   "metadata": {},
   "outputs": [],
   "source": [
    "#Función para exportar el modelo en .h5\n",
    "def export_model(filename):\n",
    "    '''Guarda el modelo en .h5\n",
    "\n",
    "    Parameters\n",
    "    ----------\n",
    "    filename : Nombre del archivo\n",
    "    '''\n",
    "    #Guardar el modelo. Requiere el nombre filename del archivo de salida, como opcional\n",
    "    #inputs=inputs capa de entrada, outputs=outputs capa de salida es como hacer un corte\n",
    "    model.save(filename)\n",
    "    #Carga el archivo para lectura\n",
    "    with h5py.File(filename, 'a') as hf:\n",
    "        #Los grupos son la forma en la que se organizan los archivos h5\n",
    "        #son similares a un diccionario. Las claves son los miembros del grupo\n",
    "        #y los valores son los grupos. **Creo que sol los dataset**\n",
    "        gr = hf.create_group('disaggregator-data')\n",
    "        #Crea un nuevo dataset con metadotos nombre del conjunto de \n",
    "        #datos y matriz numpy con los datos\n",
    "        gr.create_dataset('mmax', data = [mmax])"
   ]
  },
  {
   "cell_type": "code",
   "execution_count": 19,
   "metadata": {},
   "outputs": [],
   "source": [
    "#export_model(\"model-redd100.h5\")   "
   ]
  },
  {
   "cell_type": "markdown",
   "metadata": {},
   "source": [
    "## Test de comportamiento"
   ]
  },
  {
   "cell_type": "code",
   "execution_count": 52,
   "metadata": {},
   "outputs": [],
   "source": [
    "#18. Carga los datos completos\n",
    "test = DataSet('C:\\\\Users\\\\josel\\\\SmartMeter\\\\OrdenandoTodo\\\\redd.h5')\n",
    "#19. Define el tamaño de la muestra de test\n",
    "test.set_window(start=\"30-4-2011\") \n",
    "#20. Selecciona los electrodomesticos de un edificio\n",
    "test_elec = test.buildings[1].elec\n",
    "#21. Selecciona el medidor central en las fechas de test\n",
    "test_mains = test_elec.mains().all_meters()[0]"
   ]
  },
  {
   "cell_type": "code",
   "execution_count": 53,
   "metadata": {},
   "outputs": [],
   "source": [
    "#19. Definir una base de datos para guardar los resultados\n",
    "from nilmtk.datastore import HDFDataStore\n",
    "#20. Crea un archivo para guardar las series calculadas\n",
    "disag_filename = 'disag-out.h5' \n",
    "#21. Define el archivo como lectura\n",
    "output = HDFDataStore(disag_filename, 'w')"
   ]
  },
  {
   "cell_type": "markdown",
   "metadata": {},
   "source": [
    "# INICIO CAMBIAR DATOS SI NO SIRVE BORRAR"
   ]
  },
  {
   "cell_type": "markdown",
   "metadata": {},
   "source": [
    "En este punto los creadores de NILMTK hacen uso de su función desaggregator para re estructurar las muestras con las que se va a hacer el test. Este proceso consta de los siguientes pasos:\n",
    "1. Para el objeto DAE que es de la clase DAEDisaggregator llama su función .disaggregate\n",
    "2. Esta función recibe los siguientes parametros:\n",
    "    - test_mains, series de test del medidor central\n",
    "    - output, hdf5 en el que se guardan los resultados de predicción del modelo\n",
    "    - train_meter, es la misma serie de cargada para el medidor objetivo solo se requieren sus metadatos\n",
    "    - sample_period=1, es el periodo de muestreo de los datos."
   ]
  },
  {
   "cell_type": "markdown",
   "metadata": {},
   "source": [
    "Los procesos que se hacen dentro de esta función son los siguientes:\n",
    "1. Verifica que antes de llamar esta función se haya hecho un entrenamiento de un modelo.\n",
    "2. Verifica que se haya definido un valor del periodo de muestreo, si no se ha definido lo define por defecto a muestras de 60S: 'sample_period', 60\n",
    "3. En load_kwargs establece los tiempos donde el medidor central funciono de manera adecuada, solo para el periodo de tiempo de test. En total hay 13 tiempos con su punto de inicio y fin: test_mains.good_sections()\n",
    "4. Define un array para indices timeframes vacio:  timeframes = []\n",
    "5. Define dos string que en un futuro serán las claves para guardar los metadatos de las predicciones que guardaremos en el archivo hdf5:\n",
    "    -  building_path = '/building{}'.format(mains.building())  # /building1\n",
    "    -  mains_data_location = building_path + '/elec/meter1'    # /building1/elec/meter1\n",
    "6. Define una variable de control para verificar que ya hay metadatos para un grupo de datos creado: data_is_available = False\n",
    "7. Recorre cada tramo de datos donde el medidor central funciono de forma correcta:\n",
    "\n",
    "for chunk in mains.power_series(**load_kwargs):"
   ]
  },
  {
   "cell_type": "markdown",
   "metadata": {},
   "source": [
    "**Parte 1**\n",
    "\n",
    "Proceso para el bucle for chunk in mains.power_series(**load_kwargs):\n",
    "\n",
    "1. Verifica la cantidad de datos en cada periodo de tiempo donde el medidor central funciono de manera adecuada. Si la longitud de los datos es menor al de las ventanas de tiempo del modelo, se descartan. Si no se sigue su procesamiento.\n",
    "\n",
    "if len(chunk) < self.MIN_CHUNK_LENGTH:\n",
    "2. Los tiempos que sean mayores a la ventana se guardan en una lista que se definio antes de este bucle:\n",
    "\n",
    "timeframes.append(chunk.timeframe)\n",
    "3. Define el nombre de las columnas de las series de datos ('power', 'apparent') en el iterador\n",
    "\n",
    "measurement = chunk.name\n",
    "4. Normaliza el tramo de serie del medidor y lo guarda en una nueva variable\n",
    "\n",
    "chunk2 = self._normalize(chunk, self.mmax)\n",
    "5. Ahora hace la predicción para esa serie de datos mediante otra función:\n",
    "appliance_power = self.disaggregate_chunk(chunk2)   "
   ]
  },
  {
   "cell_type": "markdown",
   "metadata": {},
   "source": [
    "Analisis disaggregate_chunk, esta función es la que calcula los datos disgregados para la entrada, retorna un df del mismo tamaño de los datos de entrada.\n",
    "\n",
    "1. Recibe el tramo del medidor central mains (chunk2)\n",
    "2. Define cual es el tamaño de los pasos de entrenamiento s = self.sequence_length\n",
    "3. Define cual es el tamaño de los datos que ha recibido up_limit = len(mains)\n",
    "4. Deja los valores nan como 0: mains.fillna(0, inplace=True)\n",
    "5. Define el tamaño del batch de ceros para que todas las muestras sean del mismo tamaño additional = s - (up_limit % s) \n",
    "6. Crea la serie uniendo los datos al batch X_batch = np.append(mains, np.zeros(additional))\n",
    "7. Crea las ventanas de tiempo X_batch = np.reshape(X_batch, (int(len(X_batch) / s), s ,1))\n",
    "8. Mediante el modelo antes procesado calcula las predicciones para los datos de entrada que se definen en 7:\n",
    "\n",
    "pred = self.model.predict(X_batch)\n",
    "9. Cada predicción corresponde a una ventana de tiempo. Para retornan una sola serie une cada predicción hecha en un vector\n",
    "\n",
    "pred = np.reshape(pred, (up_limit + additional))[:up_limit]\n",
    "\n",
    "Descarta los datos de batch 0s que se agregaron a la ultima ventana.\n",
    "10. Ahora une estos datos en un df.pandas el cual tiene como indice el indice de tiempo de la serie que se le entrego antes\n",
    "\n",
    "column = pd.Series(pred, index=mains.index, name=0)\n",
    "11. Ahora para no retornar una serie si no un df:\n",
    "    - Define un diccionario vacio\n",
    "      appliance_powers_dict = {}       \n",
    "    - Ahora a una clave 0 le entregara la serie\n",
    "      appliance_powers_dict[0] = column\n",
    "    - Crea un df.pandas con este diccionario\n",
    "      appliance_powers = pd.DataFrame(appliance_powers_dict)\n",
    "12. Retorna este df"
   ]
  },
  {
   "cell_type": "markdown",
   "metadata": {},
   "source": [
    "**Parte 2**\n",
    "Proceso para el bucle for chunk in mains.power_series(**load_kwargs):\n",
    "\n",
    "6. Al df de predicción calculado le elimina cualquier valor negativo tomandolos como 0s:\n",
    "    \n",
    "    appliance_power[appliance_power < 0] = 0\n",
    "7. Calcula el valor real eliminando la normalización de los datos\n",
    "\n",
    "appliance_power = self._denormalize(appliance_power, self.mmax)\n",
    "8. En este punto ya tenemos el calculo de predicciones de una serie y la variable de control de datos disponibles cambia de estado:\n",
    "\n",
    "data_is_available = True\n",
    "9. Obtiene el nombre para las columnas de medida para cada serie cols = MultiIndex([('power', 'apparent')]\n",
    "\n",
    "cols = pd.MultiIndex.from_tuples([chunk.name])\n",
    "10. Define el id del medidor central por ejemplo para el refrigerador es el numero 5\n",
    "\n",
    "meter_instance = meter_metadata.instance()\n",
    "11. Crea un df mas completo con los valores de la serie predicha.\n",
    "\n",
    "df = pd.DataFrame(\n",
    "                appliance_power.values, index=appliance_power.index,\n",
    "                columns=cols, dtype=\"float32\")\n",
    "12. Define el nombre de la clave con la cual se guardara este df en un archivo hdf5 /building1/elec/meter5 esta clave es la misma para cada tramo chunk que se use para hacer una predicción. \n",
    "\n",
    "key = '{}/elec/meter{}'.format(building_path, meter_instance)\n",
    "13. Agrega el df al archivo hdf5 con la clave antes definida\n",
    "\n",
    "output_datastore.append(key, df)\n",
    "14. Ahora crea un df para el tramo de chunk del medidor central correspondiente a esta predicción\n",
    "\n",
    "mains_df = pd.DataFrame(chunk, columns=cols, dtype=\"float32\")\n",
    "15. Con la clave del medidor central antes definida '/building1/elec/meter1'\n",
    "\n",
    "16. Agrega el df del chunk del medidor central al archivo hdf5 pero con la clave para el medidor central\n",
    "\n",
    "output_datastore.append(key=mains_data_location, value=mains_df)\n",
    "\n",
    "**NOTA:** De esta manera cada df del medidor central y la predicción para el dispositivo se guardan de manera paralela en un solo archivo hdf5. \n",
    "\n",
    "17. Finalmente agrega metadatos al archivo hdf5 que permiten la navegación por ellos de manera mas ordenada mediante la función self._save_metadata_for_disaggregation() la idea es contruir una propia e ignorar la forma en que la hacen en la libreria. Pues el proceso no es transparente para mi y no me permite corroborar de manera directa el proceso que se ejecuto en estos algoritmos. "
   ]
  },
  {
   "cell_type": "code",
   "execution_count": null,
   "metadata": {},
   "outputs": [],
   "source": []
  },
  {
   "cell_type": "code",
   "execution_count": null,
   "metadata": {},
   "outputs": [],
   "source": []
  },
  {
   "cell_type": "code",
   "execution_count": null,
   "metadata": {},
   "outputs": [],
   "source": []
  },
  {
   "cell_type": "markdown",
   "metadata": {},
   "source": [
    "# FIN CAMBIAR DATOS SI NO SIRVE BORRAR"
   ]
  },
  {
   "cell_type": "code",
   "execution_count": 25,
   "metadata": {},
   "outputs": [],
   "source": [
    "nilmtk.datastore?"
   ]
  },
  {
   "cell_type": "code",
   "execution_count": 22,
   "metadata": {},
   "outputs": [],
   "source": [
    "#23. Define un array para timeframes vacio\n",
    "timeframes = []\n",
    "\n",
    "#24. Crea un string con el nombre del edificio mas el id del edificio que lo\n",
    "#toma desde los metadatos \n",
    "#ejemplo building1\n",
    "building_path = '/building{}'.format(test_mains.building())\n",
    "#25. Ahora crea el nombre de la ruta al medidor 1 del edificio en cuestión\n",
    "#Pej.  building1/elec/meter1\n",
    "mains_data_location = building_path + '/elec/meter1'\n",
    "\n",
    "#Variable de control datos estan disponibles\n",
    "data_is_available = False"
   ]
  },
  {
   "cell_type": "code",
   "execution_count": 23,
   "metadata": {},
   "outputs": [],
   "source": [
    "from nilmtk.utils import find_nearest\n",
    "from nilmtk.feature_detectors import cluster\n",
    "from nilmtk.legacy.disaggregate import Disaggregator\n",
    "from nilmtk.datastore import HDFDataStore"
   ]
  },
  {
   "cell_type": "code",
   "execution_count": 24,
   "metadata": {},
   "outputs": [],
   "source": [
    "# Esta función es la encargada de calcular la serie de datos predicha por el modelo\n",
    "# para cada tramo de los datos de test del medidor central. Estos tramos son los tomados\n",
    "# solo en los casos donde el medidor funciono de manera adecuada. Al final retorna un\n",
    "# df con los datos predichos por el modelo antes entrenado. \n",
    "def disaggregate_chunk(mains):\n",
    "    ''' Desagregación en memoria.\n",
    "\n",
    "     Parámetros\n",
    "     ----------\n",
    "     mains: pd. serie para desagregar\n",
    "     Returns\n",
    "     -------\n",
    "     appliance_powers: pd.DataFrame donde cada columna representa un\n",
    "         aparato desagregado. Los nombres de las columnas son el índice entero\n",
    "         en `model` para el aparato en cuestión.\n",
    "    '''\n",
    "    # Tamaño de las ventanas de entrenamiento\n",
    "    s = sequence_length\n",
    "    # Tamaño de la sección de la serie que se cargada\n",
    "    # según los instantes de buen funcionamiento del medidor\n",
    "    up_limit = len(mains)\n",
    "    # Rellenar los valores Nan con ceros\n",
    "    mains.fillna(0, inplace=True)\n",
    "    # Calcular la cantidad de ceros que deben llenarse \n",
    "    # para crear un batch que permita que los datos al \n",
    "    # dividirse mantengan el tamaño para todos los datos\n",
    "    additional = s - (up_limit % s)\n",
    "    # Crear series de datos con los batch de ceros al final\n",
    "    X_batch = np.append(mains, np.zeros(additional))\n",
    "    #Cambiar el formato de los datos como: numero de muestras\n",
    "    # ventanas de tiempo = 256, y una caracteristica\n",
    "    X_batch = np.reshape(X_batch, (int(len(X_batch) / s), s ,1))\n",
    "    # Calcula la predicción para esta serie de tiempo en particular\n",
    "    # En este punto tenemos datos con forma: (Muestras, ventana = 256, caracteristicas = 1)\n",
    "    # Que es lo que retorna el modelo al predecir\n",
    "    pred = model.predict(X_batch)\n",
    "    # Ahora une todas las salidas en ventanas a una serie completa, de los cuales solo toma\n",
    "    # los datos hasta donde la serie original tenia datos. Los datos restantes\n",
    "    # son los tomados por el batch de ceros, por lo tanto, se eliminan de la predicción\n",
    "    pred = np.reshape(pred, (up_limit + additional))[:up_limit]\n",
    "    # Crea una serie de pandas, con los datos de pred, usa como indice los mismos indices de \n",
    "    # tiempo que tenia la serie original y como nombre la llama 0 este es un metadato\n",
    "    column = pd.Series(pred, index=mains.index, name=0)\n",
    "\n",
    "    # Crea un diccionario vacio con el creara un dataframe posteriormente\n",
    "    # donde la clave key = 0 tendra como valor value la columna de datos predichos\n",
    "    appliance_powers_dict = {}\n",
    "    appliance_powers_dict[0] = column\n",
    "    # Transforma el diccionario a un dataframe de pandas de esta manera \n",
    "    # agrega la dimension de las columnas = 1. Tal que (muestras, 1)\n",
    "    appliance_powers = pd.DataFrame(appliance_powers_dict)\n",
    "    # Y es este dataframe el que retorna\n",
    "    return appliance_powers"
   ]
  },
  {
   "cell_type": "code",
   "execution_count": 25,
   "metadata": {},
   "outputs": [],
   "source": [
    "# Al ejecutar el ciclo carga las series de datos remuestradas segun lo definido en \n",
    "# load_kwargs =  {'sample_period': 1, 'sections': [TimeFrame(start='2011-04-30 00:00:00-04:00', end='2011-05-01 09:44:42-04:00', empty=False)...]}\n",
    "# Dedusco que solo tomara los datos que se encuentren en las secciones buenas del medidor.\n",
    "# Cada chunk es una serie de pandas pandas.core.series.Series\n",
    "MIN_CHUNK_LENGTH = 256\n",
    "\n",
    "def disaggregate(mains, output_datastore, meter_metadata, **load_kwargs):\n",
    "    #22. Cargar los instantentes donde el medidor central funciona de manera adecuada mains = test_mains\n",
    "    load_kwargs.setdefault('sections', test_mains.good_sections())\n",
    "    # Recorre cada sección de buen funcionamiento y para cada \n",
    "    # una calcula la prediccion del modelo\n",
    "    print(f\"meter_metadata {meter_metadata}\")\n",
    "    \n",
    "    #cols = pd.MultiIndex.from_tuples([('power', 'apparent')])\n",
    "    cont = 0\n",
    "    datos = {}\n",
    "    for chunk in mains.power_series(**load_kwargs):\n",
    "\n",
    "        #Si el tamaño de la serie cargada es menor al de las ventanas se descarta\n",
    "        if len(chunk) < MIN_CHUNK_LENGTH:\n",
    "            continue\n",
    "            \n",
    "        #Imprime el tamaño de los tramos de series cargados\n",
    "        print(\"Serie cargada: {}\".format(len(chunk)))\n",
    "\n",
    "        #Nombre de las columnas de series de datos ('power', 'apparent')\n",
    "        measurement = chunk.name\n",
    "\n",
    "        #Normaliza la serie cargada y la guarda en una nueva variable usando como\n",
    "        #maximo el valor del medidor centrar de entrenamiento\n",
    "        chunk2 = _normalize(chunk, mmax)\n",
    "\n",
    "        # Predice para cada tramo la salida que debe tener el medidor del dispositivo\n",
    "        # enviando el tramo de datos del medidor central. Retorna un dataframe de pandas.\n",
    "        appliance_power = disaggregate_chunk(chunk2)\n",
    "        \n",
    "        # TOdo valor negativo calculado lo iguala a cero\n",
    "        appliance_power[appliance_power < 0] = 0\n",
    "        # Calcula el valor real mediante la desnormalización de los datos\n",
    "        appliance_power = _denormalize(appliance_power, mmax)\n",
    "        #print(f\"appliance_power ****** \\n {type(appliance_power)}\")\n",
    "        \n",
    "        # Agregar predicción a la salida\n",
    "        # En este punto tendremos datos disponibles predichos\n",
    "        data_is_available = True\n",
    "        # chunk.name = ('power', 'apparent') \n",
    "        # Convierte lista de tuplas a MultiIndex osea una estructura que contiene\n",
    "        # multiples indices. Lons nombres estan dados pos la serie original\n",
    "        # cols = MultiIndex([('power', 'apparent')]\n",
    "        cols = pd.MultiIndex.from_tuples([chunk.name])\n",
    "        # De los metadatos extrae el valor de la instancia de la medida\n",
    "        # que en si es como el id del dispositivo por ejemplo 5 para refrigerador\n",
    "        # en el edificio 1\n",
    "        meter_instance = meter_metadata.instance()\n",
    "        # Ahora crea un df para cada serie predicha chunk con: \n",
    "        # appliance_power.values = los valores de la serie predicha\n",
    "        # index=appliance_power.index con indice el tiempo de dicha serie\n",
    "        # columns=cols da el nombre de las columnas ('power', 'apparent') es el nombre \n",
    "        # de la columna de medidas, el indice no tiene nombre\n",
    "        # y define los datos como  de punto flotante\n",
    "        df = pd.DataFrame(\n",
    "            appliance_power.values, index=appliance_power.index,\n",
    "            columns=cols, dtype=\"float32\")\n",
    "        #Define el nombre de la ruta de cada dispositivo /building1/elec/meter5\n",
    "        key = '{}/elec/meter{}'.format(building_path, meter_instance)\n",
    "        # En el archivo output_datastore se agregaran los datos calculados en \n",
    "        # cada predicción \n",
    "        output_datastore.append(key, df)\n",
    "\n",
    "        # Append aggregate data to output / Agregar datos agregados a la salida\n",
    "        #Crea un dataframe para la serie de datos del medidor original\n",
    "        mains_df = pd.DataFrame(chunk, columns=cols, dtype=\"float32\")\n",
    "        # Y tambien la agrega al archivo de salidas calculadas quedando en orden\n",
    "        # datos predichos y luego datos originales del medidor\n",
    "        output_datastore.append(key=mains_data_location, value=mains_df)\n",
    "        \n",
    "        datos[cont] =  appliance_power\n",
    "        cont += 1\n",
    "        '''\n",
    "        if cont == 0:\n",
    "            df_pred = mains_df.copy()\n",
    "            cont += 1\n",
    "        else:\n",
    "            df_pred = pd.merge(df_pred, mains_df) \n",
    "        '''\n",
    "    #return datos \n",
    "    return mains_df\n"
   ]
  },
  {
   "cell_type": "code",
   "execution_count": null,
   "metadata": {},
   "outputs": [],
   "source": []
  },
  {
   "cell_type": "code",
   "execution_count": 26,
   "metadata": {},
   "outputs": [
    {
     "name": "stdout",
     "output_type": "stream",
     "text": [
      "meter_metadata ElecMeter(instance=5, building=1, dataset='REDD', appliances=[Appliance(type='fridge', instance=1)])\n",
      "Serie cargada: 121482\n",
      "Serie cargada: 112661\n",
      "Serie cargada: 87770\n",
      "Serie cargada: 54084\n",
      "Serie cargada: 2660\n",
      "Serie cargada: 33513\n",
      "Serie cargada: 138535\n",
      "Serie cargada: 32514\n",
      "Serie cargada: 27255\n",
      "Serie cargada: 34833\n",
      "Serie cargada: 100831\n"
     ]
    }
   ],
   "source": [
    "# Esta función calcula las predicciones para los datos de test\n",
    "dae = disaggregate(test_mains, output, train_meter, sample_period=1)"
   ]
  },
  {
   "cell_type": "code",
   "execution_count": 27,
   "metadata": {},
   "outputs": [],
   "source": [
    "#Cargando los datos de test"
   ]
  },
  {
   "cell_type": "code",
   "execution_count": 28,
   "metadata": {},
   "outputs": [],
   "source": [
    "test = test_elec.submeters()['fridge']\n",
    "test = next(test.power_series())"
   ]
  },
  {
   "cell_type": "markdown",
   "metadata": {},
   "source": [
    "En este punto los valores predichos tienen menor cantidad a los originales"
   ]
  },
  {
   "cell_type": "code",
   "execution_count": 29,
   "metadata": {},
   "outputs": [
    {
     "data": {
      "text/plain": [
       "DatetimeIndex(['2011-04-30 00:00:01-04:00', '2011-04-30 00:00:05-04:00',\n",
       "               '2011-04-30 00:00:09-04:00', '2011-04-30 00:00:12-04:00',\n",
       "               '2011-04-30 00:00:16-04:00', '2011-04-30 00:00:20-04:00',\n",
       "               '2011-04-30 00:00:24-04:00', '2011-04-30 00:00:27-04:00',\n",
       "               '2011-04-30 00:00:31-04:00', '2011-04-30 00:00:35-04:00',\n",
       "               ...\n",
       "               '2011-05-24 15:56:03-04:00', '2011-05-24 15:56:06-04:00',\n",
       "               '2011-05-24 15:56:10-04:00', '2011-05-24 15:56:13-04:00',\n",
       "               '2011-05-24 15:56:17-04:00', '2011-05-24 15:56:20-04:00',\n",
       "               '2011-05-24 15:56:23-04:00', '2011-05-24 15:56:27-04:00',\n",
       "               '2011-05-24 15:56:30-04:00', '2011-05-24 15:56:34-04:00'],\n",
       "              dtype='datetime64[ns, US/Eastern]', length=489198, freq=None)"
      ]
     },
     "execution_count": 29,
     "metadata": {},
     "output_type": "execute_result"
    }
   ],
   "source": [
    "test.index"
   ]
  },
  {
   "cell_type": "code",
   "execution_count": 30,
   "metadata": {},
   "outputs": [
    {
     "data": {
      "text/plain": [
       "DatetimeIndex(['2011-05-23 10:31:34-04:00', '2011-05-23 10:31:35-04:00',\n",
       "               '2011-05-23 10:31:36-04:00', '2011-05-23 10:31:37-04:00',\n",
       "               '2011-05-23 10:31:38-04:00', '2011-05-23 10:31:39-04:00',\n",
       "               '2011-05-23 10:31:40-04:00', '2011-05-23 10:31:41-04:00',\n",
       "               '2011-05-23 10:31:42-04:00', '2011-05-23 10:31:43-04:00',\n",
       "               ...\n",
       "               '2011-05-24 14:31:55-04:00', '2011-05-24 14:31:56-04:00',\n",
       "               '2011-05-24 14:31:57-04:00', '2011-05-24 14:31:58-04:00',\n",
       "               '2011-05-24 14:31:59-04:00', '2011-05-24 14:32:00-04:00',\n",
       "               '2011-05-24 14:32:01-04:00', '2011-05-24 14:32:02-04:00',\n",
       "               '2011-05-24 14:32:03-04:00', '2011-05-24 14:32:04-04:00'],\n",
       "              dtype='datetime64[ns, US/Eastern]', length=100831, freq='S')"
      ]
     },
     "execution_count": 30,
     "metadata": {},
     "output_type": "execute_result"
    }
   ],
   "source": [
    "dae.index"
   ]
  },
  {
   "cell_type": "code",
   "execution_count": 31,
   "metadata": {},
   "outputs": [],
   "source": [
    "sections = [TimeFrame(start='2011-04-30 00:00:00-04:00', \n",
    "                                    end='2011-05-01 09:44:42-04:00'), \n",
    "                          TimeFrame(start='2011-05-01 09:47:18-04:00', \n",
    "                                    end='2011-05-02 17:04:59-04:00'), \n",
    "                          TimeFrame(start='2011-05-02 17:07:27-04:00', \n",
    "                                    end='2011-05-03 17:30:17-04:00'), \n",
    "                          TimeFrame(start='2011-05-03 17:32:49-04:00', \n",
    "                                    end='2011-05-03 17:33:44-04:00'), \n",
    "                          TimeFrame(start='2011-05-06 10:51:46-04:00', \n",
    "                                    end='2011-05-07 01:53:10-04:00'), \n",
    "                          TimeFrame(start='2011-05-07 01:53:55-04:00', \n",
    "                                    end='2011-05-07 02:38:15-04:00'), \n",
    "                          TimeFrame(start='2011-05-07 02:40:43-04:00', \n",
    "                                    end='2011-05-07 11:59:16-04:00'), \n",
    "                          TimeFrame(start='2011-05-11 03:19:43-04:00', \n",
    "                                    end='2011-05-12 17:48:38-04:00'), \n",
    "                          TimeFrame(start='2011-05-12 20:14:30-04:00', \n",
    "                                    end='2011-05-13 05:16:24-04:00'), \n",
    "                          TimeFrame(start='2011-05-22 16:04:46-04:00', \n",
    "                                    end='2011-05-22 23:39:01-04:00'), \n",
    "                          TimeFrame(start='2011-05-22 23:41:35-04:00', \n",
    "                                    end='2011-05-23 09:22:08-04:00'), \n",
    "                          TimeFrame(start='2011-05-23 10:31:34-04:00', \n",
    "                                    end='2011-05-24 14:32:05-04:00'), \n",
    "                          TimeFrame(start='2011-05-24 15:55:33-04:00', \n",
    "                                    end='2011-05-24 15:57:02-04:00')]"
   ]
  },
  {
   "cell_type": "code",
   "execution_count": 32,
   "metadata": {},
   "outputs": [
    {
     "name": "stderr",
     "output_type": "stream",
     "text": [
      "C:\\Users\\josel\\Anaconda3\\envs\\nilmtk-env\\lib\\site-packages\\pandas\\plotting\\_matplotlib\\converter.py:103: FutureWarning: Using an implicitly registered datetime converter for a matplotlib plotting method. The converter was registered by pandas on import. Future versions of pandas will require you to explicitly register matplotlib converters.\n",
      "\n",
      "To register the converters:\n",
      "\t>>> from pandas.plotting import register_matplotlib_converters\n",
      "\t>>> register_matplotlib_converters()\n",
      "  warnings.warn(msg, FutureWarning)\n"
     ]
    },
    {
     "data": {
      "text/plain": [
       "[<matplotlib.lines.Line2D at 0x260085b41d0>]"
      ]
     },
     "execution_count": 32,
     "metadata": {},
     "output_type": "execute_result"
    },
    {
     "data": {
      "image/png": "[encoded data removed]",
      "text/plain": [
       "<Figure size 432x288 with 1 Axes>"
      ]
     },
     "metadata": {
      "needs_background": "light"
     },
     "output_type": "display_data"
    }
   ],
   "source": [
    "#Test\n",
    "id = 11\n",
    "plt.plot(test[sections[id].start:sections[id].end])"
   ]
  },
  {
   "cell_type": "code",
   "execution_count": 33,
   "metadata": {},
   "outputs": [
    {
     "data": {
      "text/plain": [
       "[<matplotlib.lines.Line2D at 0x26008724a90>]"
      ]
     },
     "execution_count": 33,
     "metadata": {},
     "output_type": "execute_result"
    },
    {
     "data": {
      "image/png": "[encoded data removed]",
      "text/plain": [
       "<Figure size 432x288 with 1 Axes>"
      ]
     },
     "metadata": {
      "needs_background": "light"
     },
     "output_type": "display_data"
    }
   ],
   "source": [
    "#Predict\n",
    "id = 11\n",
    "plt.plot(dae[sections[id].start:sections[id].end])"
   ]
  },
  {
   "cell_type": "code",
   "execution_count": 34,
   "metadata": {},
   "outputs": [
    {
     "data": {
      "image/png": "[encoded data removed]",
      "text/plain": [
       "<Figure size 432x288 with 1 Axes>"
      ]
     },
     "metadata": {
      "needs_background": "light"
     },
     "output_type": "display_data"
    }
   ],
   "source": [
    "id = 11\n",
    "plt.plot(test[sections[id].start:sections[id].end])\n",
    "plt.plot(dae[sections[id].start:sections[id].end])\n",
    "plt.show()"
   ]
  },
  {
   "cell_type": "markdown",
   "metadata": {},
   "source": [
    "## Metricas"
   ]
  },
  {
   "cell_type": "code",
   "execution_count": 131,
   "metadata": {},
   "outputs": [],
   "source": [
    "#31. Metricas de rendimiento: Comparación entre lo predicho y lo real\n",
    "#32. Calcula los valores de tp, fp, fn, tn \n",
    "def tp_tn_fp_fn(states_pred, states_ground):\n",
    "    # Calcula los estados logicos con comparadores and 1 and 1 = True\n",
    "    tp = np.sum(np.logical_and(states_pred == 1, states_ground == 1))\n",
    "    fp = np.sum(np.logical_and(states_pred == 1, states_ground == 0))\n",
    "    fn = np.sum(np.logical_and(states_pred == 0, states_ground == 1))\n",
    "    tn = np.sum(np.logical_and(states_pred == 0, states_ground == 0))\n",
    "    return tp, tn, fp, fn"
   ]
  },
  {
   "cell_type": "code",
   "execution_count": 132,
   "metadata": {},
   "outputs": [],
   "source": [
    "#33. Calcula el recall\n",
    "def recall(tp,fn):\n",
    "    return tp/float(tp+fn)\n",
    "#34. La precision\n",
    "def precision(tp,fp):\n",
    "    return tp/float(tp+fp)\n",
    "#35. El valor f1\n",
    "def f1(prec,rec):\n",
    "    return 2 * (prec*rec) / float(prec+rec)\n",
    "#36. El accuracy\n",
    "def accuracy(tp, tn, p, n):\n",
    "    return (tp + tn) / float(p + n)"
   ]
  },
  {
   "cell_type": "code",
   "execution_count": 133,
   "metadata": {},
   "outputs": [],
   "source": [
    "#37. Umbral donde se determina que el dispositivo esta encendido\n",
    "# para el refrigerador se puede tomar un valor = 20W\n",
    "threshold = 10"
   ]
  },
  {
   "cell_type": "code",
   "execution_count": 134,
   "metadata": {},
   "outputs": [],
   "source": [
    "#38. Defino los datos de predicción y test como padans.df\n",
    "prediccion = test[sections[id].start:sections[id].end]\n",
    "real = dae[sections[id].start:sections[id].end]"
   ]
  },
  {
   "cell_type": "code",
   "execution_count": 164,
   "metadata": {},
   "outputs": [
    {
     "data": {
      "text/plain": [
       "DatetimeIndex(['2011-05-23 10:31:34-04:00', '2011-05-23 10:31:38-04:00',\n",
       "               '2011-05-23 10:31:41-04:00', '2011-05-23 10:31:45-04:00',\n",
       "               '2011-05-23 10:31:48-04:00', '2011-05-23 10:31:52-04:00',\n",
       "               '2011-05-23 10:31:55-04:00', '2011-05-23 10:31:58-04:00',\n",
       "               '2011-05-23 10:32:02-04:00', '2011-05-23 10:32:05-04:00',\n",
       "               ...\n",
       "               '2011-05-24 14:31:25-04:00', '2011-05-24 14:31:34-04:00',\n",
       "               '2011-05-24 14:31:37-04:00', '2011-05-24 14:31:41-04:00',\n",
       "               '2011-05-24 14:31:44-04:00', '2011-05-24 14:31:48-04:00',\n",
       "               '2011-05-24 14:31:51-04:00', '2011-05-24 14:31:55-04:00',\n",
       "               '2011-05-24 14:31:58-04:00', '2011-05-24 14:32:01-04:00'],\n",
       "              dtype='datetime64[ns, US/Eastern]', length=26220, freq=None)"
      ]
     },
     "execution_count": 164,
     "metadata": {},
     "output_type": "execute_result"
    }
   ],
   "source": [
    "#12. Une los indices comunes a las dos series de dispositivo y medidor\n",
    "# Retorna una serie con los indices comunes\n",
    "ix = prediccion.index.intersection(real.index)\n",
    "ix"
   ]
  },
  {
   "cell_type": "code",
   "execution_count": 166,
   "metadata": {},
   "outputs": [],
   "source": [
    "#39. Detección de encendido para lo predicho y lo real\n",
    "pr = np.array([0 if (p)<threshold else 1 for p in prediccion.values])  #Maestro predicho\n",
    "gr = np.array([0 if p<threshold else 1 for p in real.values])    #Esclavo real"
   ]
  },
  {
   "cell_type": "code",
   "execution_count": null,
   "metadata": {},
   "outputs": [],
   "source": [
    "#40. Calculo de verdaderos positivos, verdaderos negativos, \n",
    "# falsos positivos, falsos negativos, para el estado de encendido\n",
    "tp, tn, fp, fn = tp_tn_fp_fn(pr,gr)"
   ]
  },
  {
   "cell_type": "code",
   "execution_count": null,
   "metadata": {},
   "outputs": [],
   "source": [
    "# 41. Calculo del total de encendidos\n",
    "# Suma de todos los 1 en pr o predicho\n",
    "p = sum(pr)\n",
    "#42. Calculo del total de apagados\n",
    "# n es tamaño de pr - p que es su suma\n",
    "n = len(pr) - p"
   ]
  },
  {
   "cell_type": "code",
   "execution_count": null,
   "metadata": {},
   "outputs": [],
   "source": [
    "#43. Calculo el rendimiento mediante funciones propias de cada medida \n",
    "res_recall = recall(tp,fn)              # recall\n",
    "res_precision = precision(tp,fp)        # precision\n",
    "res_f1 = f1(res_precision,res_recall)   # f1 \n",
    "res_accuracy = accuracy(tp,tn,p,n)      # accuracy"
   ]
  },
  {
   "cell_type": "code",
   "execution_count": 11,
   "metadata": {},
   "outputs": [
    {
     "name": "stdout",
     "output_type": "stream",
     "text": [
      "res_recall -------0.9995930374521819\n",
      "res_precision ----0.8068757458333892\n",
      "res_f1 -----------0.8066296935646431\n",
      "res_accuracy -----0.8066296935646431\n"
     ]
    }
   ],
   "source": [
    "#44. Imprimir los valores resultantes\n",
    "print(f\"res_recall -------{rpaf[0]}\")\n",
    "print(f\"res_precision ----{rpaf[1]}\")\n",
    "print(f\"res_f1 -----------{rpaf[2]}\")\n",
    "print(f\"res_accuracy -----{rpaf[2]}\")"
   ]
  },
  {
   "cell_type": "code",
   "execution_count": null,
   "metadata": {},
   "outputs": [],
   "source": []
  },
  {
   "cell_type": "code",
   "execution_count": null,
   "metadata": {},
   "outputs": [],
   "source": []
  },
  {
   "cell_type": "code",
   "execution_count": null,
   "metadata": {},
   "outputs": [],
   "source": []
  },
  {
   "cell_type": "code",
   "execution_count": null,
   "metadata": {},
   "outputs": [],
   "source": []
  },
  {
   "cell_type": "code",
   "execution_count": null,
   "metadata": {},
   "outputs": [],
   "source": []
  }
 ],
 "metadata": {
  "kernelspec": {
   "display_name": "nilmtk",
   "language": "python",
   "name": "nilmtk"
  },
  "language_info": {
   "codemirror_mode": {
    "name": "ipython",
    "version": 3
   },
   "file_extension": ".py",
   "mimetype": "text/x-python",
   "name": "python",
   "nbconvert_exporter": "python",
   "pygments_lexer": "ipython3",
   "version": "3.6.11"
  }
 },
 "nbformat": 4,
 "nbformat_minor": 4
}
