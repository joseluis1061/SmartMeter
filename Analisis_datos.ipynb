{
 "cells": [
  {
   "cell_type": "code",
   "execution_count": null,
   "metadata": {},
   "outputs": [],
   "source": [
    "#Cargar los datos\n",
    "#Librerias \n",
    "#Cargar las librerias para procesar los datos\n",
    "import os\n",
    "import numpy as np\n",
    "import pandas as pd\n",
    "import matplotlib.pyplot as plt\n",
    "import seaborn\n",
    "%matplotlib inline\n",
    "import time\n",
    "from tensorflow import keras\n",
    "from tensorflow.keras import layers\n",
    "import scipy\n",
    "import statsmodels\n",
    "import sklearn\n",
    "import seaborn as sns"
   ]
  },
  {
   "cell_type": "code",
   "execution_count": null,
   "metadata": {},
   "outputs": [],
   "source": [
    "#Ruta de la carpeta base\n",
    "wdirectory = os.getcwd()\n",
    "wdirectory = wdirectory + '\\low_freq'\n",
    "print(f'{wdirectory}')\n",
    "list_dir = os.listdir(wdirectory)\n",
    "print(list_dir)"
   ]
  },
  {
   "cell_type": "code",
   "execution_count": null,
   "metadata": {},
   "outputs": [],
   "source": [
    "#Casas en low_freq\n",
    "casas = [casa for casa in list_dir if casa.find('house_', 0, len(casa)) != -1]\n",
    "print(casas)"
   ]
  },
  {
   "cell_type": "code",
   "execution_count": null,
   "metadata": {},
   "outputs": [],
   "source": [
    "#Guardar direcciones de cada casa\n",
    "dir_casas = [os.path.join(wdirectory, casa) for casa in casas]\n",
    "print(dir_casas)"
   ]
  },
  {
   "cell_type": "code",
   "execution_count": null,
   "metadata": {},
   "outputs": [],
   "source": [
    "#Guardar ruta de direcciones de los dispositivos chanel de cada casa\n",
    "def directorio_dispositivos(casa):\n",
    "    #Direccion de casa\n",
    "    list_devices = os.listdir(dir_casas[casa-1])\n",
    "    max = len(list_devices)\n",
    "    dir_devices = [os.path.join(dir_casas[casa-1], \"channel_\"+str(i) + \".dat\") for i in range(1,max)]\n",
    "    return dir_devices"
   ]
  },
  {
   "cell_type": "code",
   "execution_count": null,
   "metadata": {},
   "outputs": [],
   "source": [
    "#Listas con direcciones de dispositivos por cada casa\n",
    "casa_1 = directorio_dispositivos(1)\n",
    "casa_2 = directorio_dispositivos(2)\n",
    "casa_3 = directorio_dispositivos(3)\n",
    "casa_4 = directorio_dispositivos(4)\n",
    "casa_5 = directorio_dispositivos(5)\n",
    "casa_6 = directorio_dispositivos(6)"
   ]
  },
  {
   "cell_type": "code",
   "execution_count": null,
   "metadata": {},
   "outputs": [],
   "source": [
    "def imprimir_rutas(directorio):\n",
    "    i = 0\n",
    "    for dispositivo in directorio:\n",
    "        i += 1\n",
    "        print(dispositivo)\n",
    "    print(f'Dispositivos totales {i} \\n')\n",
    "print(\"House_1\")\n",
    "imprimir_rutas(casa_1)\n",
    "print(\"House_2\\n\")\n",
    "imprimir_rutas(casa_2)\n",
    "print(\"House_3\\n\")\n",
    "imprimir_rutas(casa_3)\n",
    "print(\"House_4\\n\")\n",
    "imprimir_rutas(casa_4)\n",
    "print(\"House_5\\n\")\n",
    "imprimir_rutas(casa_5)"
   ]
  },
  {
   "cell_type": "code",
   "execution_count": null,
   "metadata": {},
   "outputs": [],
   "source": [
    "#Extraccion de nombres de etiquetas de dipositivo por cada casa\n",
    "def nombre_dispositivos(casa):\n",
    "    #directorio de la casa con etiquetas\n",
    "    dir_casa = dir_casas[casa-1] + \"\\\\labels.dat\"    \n",
    "    #Diccionario con nombres dispositivos\n",
    "    label = {}\n",
    "    #Carga el directorio\n",
    "    with open(dir_casa) as f:\n",
    "        #Lee el archivo\n",
    "        for line in f:\n",
    "            #Separo las palabras mediante espacios quedando indice y nombre\n",
    "            splitted_line = line.split(' ')\n",
    "            #Guarda las palabras encontradas usando el indice como key y el nombre como value\n",
    "            label[int(splitted_line[0])] = splitted_line[1].strip() + '_' + splitted_line[0]\n",
    "    #Retorna el diccionario con las etiquetas\n",
    "    return label\n"
   ]
  },
  {
   "cell_type": "code",
   "execution_count": null,
   "metadata": {},
   "outputs": [],
   "source": [
    "labels_casa_1 = nombre_dispositivos(1)\n",
    "labels_casa_2 = nombre_dispositivos(2)\n",
    "labels_casa_3 = nombre_dispositivos(3)\n",
    "labels_casa_4 = nombre_dispositivos(4)\n",
    "labels_casa_5 = nombre_dispositivos(5)\n",
    "labels_casa_6 = nombre_dispositivos(6)"
   ]
  },
  {
   "cell_type": "code",
   "execution_count": null,
   "metadata": {},
   "outputs": [],
   "source": [
    "print('Casa 1\\n')\n",
    "print(labels_casa_1)\n",
    "print(f'\\nCasa 2\\n')\n",
    "print(labels_casa_2)\n",
    "print(f'\\nCasa 3\\n')\n",
    "print(labels_casa_3)\n",
    "print(f'\\nCasa 4\\n')\n",
    "print(labels_casa_4)\n",
    "print(f'\\nCasa 5\\n')\n",
    "print(labels_casa_5)"
   ]
  },
  {
   "cell_type": "markdown",
   "metadata": {},
   "source": [
    "## Verificando datos faltantes por casa\n",
    "Los valores de tiempo son consecutivos y por segundos. El objetivo ahora es verificar si hay tiempos de medida muertos, osea que los instantes en lo que se mide entre un punto y otro no son consecutivos. \n",
    "- Buscamos datos con diferencia entre medidas menores a 20 segundos. En este caso se propone rellenar los datos con el dato anterior al gap. \n",
    "- El siguiente paso consiste en remuestrear los datos cada 4 segundos, tomando la media de estos valores como dato que remplazara el original."
   ]
  },
  {
   "cell_type": "code",
   "execution_count": null,
   "metadata": {},
   "outputs": [],
   "source": [
    "#channel_A = pd.read_csv(casa[device],sep=r' ',encoding='utf-8',names=['UTC_Unix',label_casa[device+1]],header=None)\n",
    "dispositivo_c1d1 = pd.read_csv(casa_1[0], sep=r' ', encoding='utf-8', names=['UTC_Unix',labels_casa_1[1]], header=None)"
   ]
  },
  {
   "cell_type": "code",
   "execution_count": null,
   "metadata": {},
   "outputs": [],
   "source": [
    "dispositivo_c1d1.head()"
   ]
  },
  {
   "cell_type": "code",
   "execution_count": null,
   "metadata": {},
   "outputs": [],
   "source": [
    "dispositivo_c1d1.isnull().sum()"
   ]
  },
  {
   "cell_type": "code",
   "execution_count": null,
   "metadata": {},
   "outputs": [],
   "source": [
    "ts1 = 1284101485\n",
    "for i in range(60):\n",
    "    print(ts1)\n",
    "    print(datetime.utcfromtimestamp(ts1).strftime('%Y-%m-%d %H:%M:%S'))\n",
    "    ts1 = ts1 + 1"
   ]
  },
  {
   "cell_type": "code",
   "execution_count": null,
   "metadata": {},
   "outputs": [],
   "source": [
    "tiempo = dispositivo_c1d1.iloc[:,0]"
   ]
  },
  {
   "cell_type": "code",
   "execution_count": 711,
   "metadata": {},
   "outputs": [],
   "source": [
    "#Inserta el gap de valores llenos al dataframe inicial\n",
    "def insert_row(idx, df, df_insert):\n",
    "    dfA = df.iloc[:idx, ]\n",
    "    #print(f'dfA = {dfA}')\n",
    "    dfB = df.iloc[idx:, ]\n",
    "    #print(f'dfB = {dfB}')\n",
    "    df = dfA.append(df_insert).append(dfB).reset_index(drop = True)\n",
    "    return df"
   ]
  },
  {
   "cell_type": "code",
   "execution_count": 712,
   "metadata": {},
   "outputs": [],
   "source": [
    "#Función para crear los valores vacios del gap\n",
    "def llenar_gaps(intervalo, valor_tiempo, valor_potencia):\n",
    "    op = True\n",
    "    #Primer dato que inicializa el nuevo df\n",
    "    new = pd.DataFrame([[valor_tiempo,valor_potencia]],columns=['Tiempo', 'dato'])\n",
    "    #Si solo necesitamos uno salimos de la funcion\n",
    "    if(intervalo <= 1):\n",
    "        op = False\n",
    "    intervalo -= 1\n",
    "    #Para crear mas de un valor\n",
    "    while(op):\n",
    "        valor_tiempo += 1\n",
    "        new = new.append({'Tiempo': valor_tiempo, 'dato': valor_potencia}, ignore_index=True)\n",
    "        intervalo -= 1\n",
    "        #if intervalo == 0:\n",
    "        if intervalo < 1:\n",
    "            op=False\n",
    "    return new"
   ]
  },
  {
   "cell_type": "code",
   "execution_count": 771,
   "metadata": {},
   "outputs": [],
   "source": [
    "#Busca los gaps en el dataframe\n",
    "def detectar_gaps(df_dispositivo):\n",
    "    op = True\n",
    "    i= 0\n",
    "    tiempo = df_dispositivo.iloc[:,0]\n",
    "    while (op):\n",
    "        if(i==len(df_dispositivo)-1):\n",
    "            #op = False\n",
    "            break #Rompe de manera inmediata el ciclo\n",
    "        #Comparo si los intervalos de tiempo superan gaps entre 2 y 20 segundos\n",
    "        #if(tiempo[i+1] - tiempo[i]) > 1 and (tiempo[i+1] - tiempo[i]) <= 20:\n",
    "        if(tiempo[i+1] - tiempo[i]) > 1 and (tiempo[i+1] - tiempo[i]) <= 6:\n",
    "            t1 = tiempo[i] #Al sumar 1 indica el siguiente instante de tiempo faltante\n",
    "            diferencia = tiempo[i+1] - tiempo[i] - 1 #Son la cantidad faltante de datos en el gap\n",
    "            relleno = df_dispositivo.iloc[i,1] #Dato con el que se rellena los espacios faltantes\n",
    "            gap_lleno = llenar_gaps(diferencia, t1+1, relleno)                                          \n",
    "            df_dispositivo = insert_row(i+1, df_dispositivo, gap_lleno)\n",
    "            i = i+ diferencia - 1 \n",
    "            tiempo = df_dispositivo.iloc[:,0]\n",
    "        i+=1\n",
    "    return df_dispositivo\n",
    "#detectar_gaps(dispositivo_c1d1)"
   ]
  },
  {
   "cell_type": "code",
   "execution_count": 780,
   "metadata": {},
   "outputs": [
    {
     "data": {
      "text/html": [
       "<div>\n",
       "<style scoped>\n",
       "    .dataframe tbody tr th:only-of-type {\n",
       "        vertical-align: middle;\n",
       "    }\n",
       "\n",
       "    .dataframe tbody tr th {\n",
       "        vertical-align: top;\n",
       "    }\n",
       "\n",
       "    .dataframe thead th {\n",
       "        text-align: right;\n",
       "    }\n",
       "</style>\n",
       "<table border=\"1\" class=\"dataframe\">\n",
       "  <thead>\n",
       "    <tr style=\"text-align: right;\">\n",
       "      <th></th>\n",
       "      <th>Tiempo</th>\n",
       "      <th>dato</th>\n",
       "    </tr>\n",
       "  </thead>\n",
       "  <tbody>\n",
       "    <tr>\n",
       "      <th>0</th>\n",
       "      <td>1</td>\n",
       "      <td>100</td>\n",
       "    </tr>\n",
       "    <tr>\n",
       "      <th>1</th>\n",
       "      <td>3</td>\n",
       "      <td>101</td>\n",
       "    </tr>\n",
       "    <tr>\n",
       "      <th>2</th>\n",
       "      <td>4</td>\n",
       "      <td>102</td>\n",
       "    </tr>\n",
       "    <tr>\n",
       "      <th>3</th>\n",
       "      <td>8</td>\n",
       "      <td>103</td>\n",
       "    </tr>\n",
       "    <tr>\n",
       "      <th>4</th>\n",
       "      <td>9</td>\n",
       "      <td>104</td>\n",
       "    </tr>\n",
       "    <tr>\n",
       "      <th>5</th>\n",
       "      <td>12</td>\n",
       "      <td>105</td>\n",
       "    </tr>\n",
       "    <tr>\n",
       "      <th>6</th>\n",
       "      <td>13</td>\n",
       "      <td>106</td>\n",
       "    </tr>\n",
       "    <tr>\n",
       "      <th>7</th>\n",
       "      <td>14</td>\n",
       "      <td>107</td>\n",
       "    </tr>\n",
       "    <tr>\n",
       "      <th>8</th>\n",
       "      <td>24</td>\n",
       "      <td>108</td>\n",
       "    </tr>\n",
       "    <tr>\n",
       "      <th>9</th>\n",
       "      <td>25</td>\n",
       "      <td>109</td>\n",
       "    </tr>\n",
       "    <tr>\n",
       "      <th>10</th>\n",
       "      <td>27</td>\n",
       "      <td>110</td>\n",
       "    </tr>\n",
       "    <tr>\n",
       "      <th>11</th>\n",
       "      <td>28</td>\n",
       "      <td>111</td>\n",
       "    </tr>\n",
       "    <tr>\n",
       "      <th>12</th>\n",
       "      <td>30</td>\n",
       "      <td>112</td>\n",
       "    </tr>\n",
       "  </tbody>\n",
       "</table>\n",
       "</div>"
      ],
      "text/plain": [
       "    Tiempo  dato\n",
       "0        1   100\n",
       "1        3   101\n",
       "2        4   102\n",
       "3        8   103\n",
       "4        9   104\n",
       "5       12   105\n",
       "6       13   106\n",
       "7       14   107\n",
       "8       24   108\n",
       "9       25   109\n",
       "10      27   110\n",
       "11      28   111\n",
       "12      30   112"
      ]
     },
     "execution_count": 780,
     "metadata": {},
     "output_type": "execute_result"
    }
   ],
   "source": [
    "num = pd.DataFrame({'Tiempo': [1,3,4,8,9,12,13,14,24,25,27,28,30], \"dato\" : [100,101,102,103,104,105,106,107,108,109,110,111,112]})\n",
    "num"
   ]
  },
  {
   "cell_type": "code",
   "execution_count": 781,
   "metadata": {},
   "outputs": [
    {
     "data": {
      "text/html": [
       "<div>\n",
       "<style scoped>\n",
       "    .dataframe tbody tr th:only-of-type {\n",
       "        vertical-align: middle;\n",
       "    }\n",
       "\n",
       "    .dataframe tbody tr th {\n",
       "        vertical-align: top;\n",
       "    }\n",
       "\n",
       "    .dataframe thead th {\n",
       "        text-align: right;\n",
       "    }\n",
       "</style>\n",
       "<table border=\"1\" class=\"dataframe\">\n",
       "  <thead>\n",
       "    <tr style=\"text-align: right;\">\n",
       "      <th></th>\n",
       "      <th>Tiempo</th>\n",
       "      <th>dato</th>\n",
       "    </tr>\n",
       "  </thead>\n",
       "  <tbody>\n",
       "    <tr>\n",
       "      <th>0</th>\n",
       "      <td>1</td>\n",
       "      <td>100</td>\n",
       "    </tr>\n",
       "    <tr>\n",
       "      <th>1</th>\n",
       "      <td>2</td>\n",
       "      <td>100</td>\n",
       "    </tr>\n",
       "    <tr>\n",
       "      <th>2</th>\n",
       "      <td>3</td>\n",
       "      <td>101</td>\n",
       "    </tr>\n",
       "    <tr>\n",
       "      <th>3</th>\n",
       "      <td>4</td>\n",
       "      <td>102</td>\n",
       "    </tr>\n",
       "    <tr>\n",
       "      <th>4</th>\n",
       "      <td>5</td>\n",
       "      <td>102</td>\n",
       "    </tr>\n",
       "    <tr>\n",
       "      <th>5</th>\n",
       "      <td>6</td>\n",
       "      <td>102</td>\n",
       "    </tr>\n",
       "    <tr>\n",
       "      <th>6</th>\n",
       "      <td>7</td>\n",
       "      <td>102</td>\n",
       "    </tr>\n",
       "    <tr>\n",
       "      <th>7</th>\n",
       "      <td>8</td>\n",
       "      <td>103</td>\n",
       "    </tr>\n",
       "    <tr>\n",
       "      <th>8</th>\n",
       "      <td>9</td>\n",
       "      <td>104</td>\n",
       "    </tr>\n",
       "    <tr>\n",
       "      <th>9</th>\n",
       "      <td>10</td>\n",
       "      <td>104</td>\n",
       "    </tr>\n",
       "    <tr>\n",
       "      <th>10</th>\n",
       "      <td>11</td>\n",
       "      <td>104</td>\n",
       "    </tr>\n",
       "    <tr>\n",
       "      <th>11</th>\n",
       "      <td>12</td>\n",
       "      <td>105</td>\n",
       "    </tr>\n",
       "    <tr>\n",
       "      <th>12</th>\n",
       "      <td>13</td>\n",
       "      <td>106</td>\n",
       "    </tr>\n",
       "    <tr>\n",
       "      <th>13</th>\n",
       "      <td>14</td>\n",
       "      <td>107</td>\n",
       "    </tr>\n",
       "    <tr>\n",
       "      <th>14</th>\n",
       "      <td>24</td>\n",
       "      <td>108</td>\n",
       "    </tr>\n",
       "    <tr>\n",
       "      <th>15</th>\n",
       "      <td>25</td>\n",
       "      <td>109</td>\n",
       "    </tr>\n",
       "    <tr>\n",
       "      <th>16</th>\n",
       "      <td>26</td>\n",
       "      <td>109</td>\n",
       "    </tr>\n",
       "    <tr>\n",
       "      <th>17</th>\n",
       "      <td>27</td>\n",
       "      <td>110</td>\n",
       "    </tr>\n",
       "    <tr>\n",
       "      <th>18</th>\n",
       "      <td>28</td>\n",
       "      <td>111</td>\n",
       "    </tr>\n",
       "    <tr>\n",
       "      <th>19</th>\n",
       "      <td>29</td>\n",
       "      <td>111</td>\n",
       "    </tr>\n",
       "    <tr>\n",
       "      <th>20</th>\n",
       "      <td>30</td>\n",
       "      <td>112</td>\n",
       "    </tr>\n",
       "  </tbody>\n",
       "</table>\n",
       "</div>"
      ],
      "text/plain": [
       "    Tiempo  dato\n",
       "0        1   100\n",
       "1        2   100\n",
       "2        3   101\n",
       "3        4   102\n",
       "4        5   102\n",
       "5        6   102\n",
       "6        7   102\n",
       "7        8   103\n",
       "8        9   104\n",
       "9       10   104\n",
       "10      11   104\n",
       "11      12   105\n",
       "12      13   106\n",
       "13      14   107\n",
       "14      24   108\n",
       "15      25   109\n",
       "16      26   109\n",
       "17      27   110\n",
       "18      28   111\n",
       "19      29   111\n",
       "20      30   112"
      ]
     },
     "execution_count": 781,
     "metadata": {},
     "output_type": "execute_result"
    }
   ],
   "source": [
    "num = detectar_gaps(num)\n",
    "num"
   ]
  },
  {
   "cell_type": "markdown",
   "metadata": {},
   "source": [
    "## Función de suavisado\n",
    "Los datos de REDD son demasiado ruidosos, por lo tanto Nascimiento propone remuestrear los datos cada 4 segundos, tomando\n",
    "como valor el intervalo de la media"
   ]
  },
  {
   "cell_type": "code",
   "execution_count": 798,
   "metadata": {},
   "outputs": [
    {
     "name": "stdout",
     "output_type": "stream",
     "text": [
      "tiempo[fin] = 4 tiempo[inicio] = 1 diferencia = 3\n",
      "Ingreso i = 0\n",
      "media = 100.75\n",
      "inicio = 4 y fin = 8 tamaño = 21\n",
      "tiempo[fin] = 12 tiempo[inicio] = 5 diferencia = 7\n",
      "inicio = 8 y fin = 12 tamaño = 21\n",
      "tiempo[fin] = 29 tiempo[inicio] = 9 diferencia = 20\n",
      "inicio = 12 y fin = 16 tamaño = 21\n"
     ]
    },
    {
     "ename": "KeyError",
     "evalue": "27",
     "output_type": "error",
     "traceback": [
      "\u001b[1;31m---------------------------------------------------------------------------\u001b[0m",
      "\u001b[1;31mKeyError\u001b[0m                                  Traceback (most recent call last)",
      "\u001b[1;32m<ipython-input-798-637eb0ef1d11>\u001b[0m in \u001b[0;36m<module>\u001b[1;34m\u001b[0m\n\u001b[0;32m     20\u001b[0m     \u001b[0mprint\u001b[0m\u001b[1;33m(\u001b[0m\u001b[0mdf\u001b[0m\u001b[1;33m)\u001b[0m\u001b[1;33m\u001b[0m\u001b[1;33m\u001b[0m\u001b[0m\n\u001b[0;32m     21\u001b[0m \u001b[1;33m\u001b[0m\u001b[0m\n\u001b[1;32m---> 22\u001b[1;33m \u001b[0mremuestreo\u001b[0m\u001b[1;33m(\u001b[0m\u001b[0mnum\u001b[0m\u001b[1;33m)\u001b[0m\u001b[1;33m\u001b[0m\u001b[1;33m\u001b[0m\u001b[0m\n\u001b[0m",
      "\u001b[1;32m<ipython-input-798-637eb0ef1d11>\u001b[0m in \u001b[0;36mremuestreo\u001b[1;34m(df, intervalo)\u001b[0m\n\u001b[0;32m      5\u001b[0m \u001b[1;33m\u001b[0m\u001b[0m\n\u001b[0;32m      6\u001b[0m     \u001b[1;32mfor\u001b[0m \u001b[0mi\u001b[0m \u001b[1;32min\u001b[0m \u001b[0mrange\u001b[0m\u001b[1;33m(\u001b[0m\u001b[0mlen\u001b[0m\u001b[1;33m(\u001b[0m\u001b[0mdf\u001b[0m\u001b[1;33m)\u001b[0m\u001b[1;33m)\u001b[0m\u001b[1;33m:\u001b[0m\u001b[1;33m\u001b[0m\u001b[1;33m\u001b[0m\u001b[0m\n\u001b[1;32m----> 7\u001b[1;33m         \u001b[0mprint\u001b[0m\u001b[1;33m(\u001b[0m\u001b[1;34mf'tiempo[fin] = {tiempo[inicio+fin-1]} tiempo[inicio] = {tiempo[inicio]} diferencia = {tiempo[inicio+fin-1] - tiempo[inicio]}'\u001b[0m\u001b[1;33m)\u001b[0m\u001b[1;33m\u001b[0m\u001b[1;33m\u001b[0m\u001b[0m\n\u001b[0m\u001b[0;32m      8\u001b[0m         \u001b[1;32mif\u001b[0m\u001b[1;33m(\u001b[0m\u001b[0mtiempo\u001b[0m\u001b[1;33m[\u001b[0m\u001b[0minicio\u001b[0m\u001b[1;33m+\u001b[0m\u001b[0mfin\u001b[0m\u001b[1;33m-\u001b[0m\u001b[1;36m1\u001b[0m\u001b[1;33m]\u001b[0m \u001b[1;33m-\u001b[0m \u001b[0mtiempo\u001b[0m\u001b[1;33m[\u001b[0m\u001b[0minicio\u001b[0m\u001b[1;33m]\u001b[0m\u001b[1;33m)\u001b[0m \u001b[1;33m<=\u001b[0m \u001b[1;36m6\u001b[0m\u001b[1;33m:\u001b[0m\u001b[1;33m\u001b[0m\u001b[1;33m\u001b[0m\u001b[0m\n\u001b[0;32m      9\u001b[0m             \u001b[0mprint\u001b[0m\u001b[1;33m(\u001b[0m\u001b[1;34mf'Ingreso i = {i}'\u001b[0m\u001b[1;33m)\u001b[0m\u001b[1;33m\u001b[0m\u001b[1;33m\u001b[0m\u001b[0m\n",
      "\u001b[1;32m~\\Anaconda3\\lib\\site-packages\\pandas\\core\\series.py\u001b[0m in \u001b[0;36m__getitem__\u001b[1;34m(self, key)\u001b[0m\n\u001b[0;32m    869\u001b[0m         \u001b[0mkey\u001b[0m \u001b[1;33m=\u001b[0m \u001b[0mcom\u001b[0m\u001b[1;33m.\u001b[0m\u001b[0mapply_if_callable\u001b[0m\u001b[1;33m(\u001b[0m\u001b[0mkey\u001b[0m\u001b[1;33m,\u001b[0m \u001b[0mself\u001b[0m\u001b[1;33m)\u001b[0m\u001b[1;33m\u001b[0m\u001b[1;33m\u001b[0m\u001b[0m\n\u001b[0;32m    870\u001b[0m         \u001b[1;32mtry\u001b[0m\u001b[1;33m:\u001b[0m\u001b[1;33m\u001b[0m\u001b[1;33m\u001b[0m\u001b[0m\n\u001b[1;32m--> 871\u001b[1;33m             \u001b[0mresult\u001b[0m \u001b[1;33m=\u001b[0m \u001b[0mself\u001b[0m\u001b[1;33m.\u001b[0m\u001b[0mindex\u001b[0m\u001b[1;33m.\u001b[0m\u001b[0mget_value\u001b[0m\u001b[1;33m(\u001b[0m\u001b[0mself\u001b[0m\u001b[1;33m,\u001b[0m \u001b[0mkey\u001b[0m\u001b[1;33m)\u001b[0m\u001b[1;33m\u001b[0m\u001b[1;33m\u001b[0m\u001b[0m\n\u001b[0m\u001b[0;32m    872\u001b[0m \u001b[1;33m\u001b[0m\u001b[0m\n\u001b[0;32m    873\u001b[0m             \u001b[1;32mif\u001b[0m \u001b[1;32mnot\u001b[0m \u001b[0mis_scalar\u001b[0m\u001b[1;33m(\u001b[0m\u001b[0mresult\u001b[0m\u001b[1;33m)\u001b[0m\u001b[1;33m:\u001b[0m\u001b[1;33m\u001b[0m\u001b[1;33m\u001b[0m\u001b[0m\n",
      "\u001b[1;32m~\\Anaconda3\\lib\\site-packages\\pandas\\core\\indexes\\base.py\u001b[0m in \u001b[0;36mget_value\u001b[1;34m(self, series, key)\u001b[0m\n\u001b[0;32m   4403\u001b[0m         \u001b[0mk\u001b[0m \u001b[1;33m=\u001b[0m \u001b[0mself\u001b[0m\u001b[1;33m.\u001b[0m\u001b[0m_convert_scalar_indexer\u001b[0m\u001b[1;33m(\u001b[0m\u001b[0mk\u001b[0m\u001b[1;33m,\u001b[0m \u001b[0mkind\u001b[0m\u001b[1;33m=\u001b[0m\u001b[1;34m\"getitem\"\u001b[0m\u001b[1;33m)\u001b[0m\u001b[1;33m\u001b[0m\u001b[1;33m\u001b[0m\u001b[0m\n\u001b[0;32m   4404\u001b[0m         \u001b[1;32mtry\u001b[0m\u001b[1;33m:\u001b[0m\u001b[1;33m\u001b[0m\u001b[1;33m\u001b[0m\u001b[0m\n\u001b[1;32m-> 4405\u001b[1;33m             \u001b[1;32mreturn\u001b[0m \u001b[0mself\u001b[0m\u001b[1;33m.\u001b[0m\u001b[0m_engine\u001b[0m\u001b[1;33m.\u001b[0m\u001b[0mget_value\u001b[0m\u001b[1;33m(\u001b[0m\u001b[0ms\u001b[0m\u001b[1;33m,\u001b[0m \u001b[0mk\u001b[0m\u001b[1;33m,\u001b[0m \u001b[0mtz\u001b[0m\u001b[1;33m=\u001b[0m\u001b[0mgetattr\u001b[0m\u001b[1;33m(\u001b[0m\u001b[0mseries\u001b[0m\u001b[1;33m.\u001b[0m\u001b[0mdtype\u001b[0m\u001b[1;33m,\u001b[0m \u001b[1;34m\"tz\"\u001b[0m\u001b[1;33m,\u001b[0m \u001b[1;32mNone\u001b[0m\u001b[1;33m)\u001b[0m\u001b[1;33m)\u001b[0m\u001b[1;33m\u001b[0m\u001b[1;33m\u001b[0m\u001b[0m\n\u001b[0m\u001b[0;32m   4406\u001b[0m         \u001b[1;32mexcept\u001b[0m \u001b[0mKeyError\u001b[0m \u001b[1;32mas\u001b[0m \u001b[0me1\u001b[0m\u001b[1;33m:\u001b[0m\u001b[1;33m\u001b[0m\u001b[1;33m\u001b[0m\u001b[0m\n\u001b[0;32m   4407\u001b[0m             \u001b[1;32mif\u001b[0m \u001b[0mlen\u001b[0m\u001b[1;33m(\u001b[0m\u001b[0mself\u001b[0m\u001b[1;33m)\u001b[0m \u001b[1;33m>\u001b[0m \u001b[1;36m0\u001b[0m \u001b[1;32mand\u001b[0m \u001b[1;33m(\u001b[0m\u001b[0mself\u001b[0m\u001b[1;33m.\u001b[0m\u001b[0mholds_integer\u001b[0m\u001b[1;33m(\u001b[0m\u001b[1;33m)\u001b[0m \u001b[1;32mor\u001b[0m \u001b[0mself\u001b[0m\u001b[1;33m.\u001b[0m\u001b[0mis_boolean\u001b[0m\u001b[1;33m(\u001b[0m\u001b[1;33m)\u001b[0m\u001b[1;33m)\u001b[0m\u001b[1;33m:\u001b[0m\u001b[1;33m\u001b[0m\u001b[1;33m\u001b[0m\u001b[0m\n",
      "\u001b[1;32mpandas\\_libs\\index.pyx\u001b[0m in \u001b[0;36mpandas._libs.index.IndexEngine.get_value\u001b[1;34m()\u001b[0m\n",
      "\u001b[1;32mpandas\\_libs\\index.pyx\u001b[0m in \u001b[0;36mpandas._libs.index.IndexEngine.get_value\u001b[1;34m()\u001b[0m\n",
      "\u001b[1;32mpandas\\_libs\\index.pyx\u001b[0m in \u001b[0;36mpandas._libs.index.IndexEngine.get_loc\u001b[1;34m()\u001b[0m\n",
      "\u001b[1;32mpandas\\_libs\\hashtable_class_helper.pxi\u001b[0m in \u001b[0;36mpandas._libs.hashtable.Int64HashTable.get_item\u001b[1;34m()\u001b[0m\n",
      "\u001b[1;32mpandas\\_libs\\hashtable_class_helper.pxi\u001b[0m in \u001b[0;36mpandas._libs.hashtable.Int64HashTable.get_item\u001b[1;34m()\u001b[0m\n",
      "\u001b[1;31mKeyError\u001b[0m: 27"
     ]
    }
   ],
   "source": [
    "def remuestreo(df, intervalo = 4):\n",
    "    inicio = 0\n",
    "    fin = intervalo\n",
    "    tiempo = df.iloc[:,0]\n",
    "\n",
    "    for i in range(len(df)):\n",
    "        print(f'tiempo[fin] = {tiempo[inicio+fin-1]} tiempo[inicio] = {tiempo[inicio]} diferencia = {tiempo[inicio+fin-1] - tiempo[inicio]}')\n",
    "        #if(tiempo[inicio+fin-1] - tiempo[inicio]) <= 6:\n",
    "        if(tiempo[i+1] - tiempo[i]) > 1 and (tiempo[i+1] - tiempo[i]) <= 6:\n",
    "            print(f'Ingreso i = {i}')\n",
    "            aux = df.iloc[inicio:fin, 1]\n",
    "            media = aux.mean()\n",
    "            print(f'media = {media}')\n",
    "            df.iloc[inicio:fin, 1] = media\n",
    "        inicio = fin\n",
    "        fin = fin + intervalo\n",
    "        print(f'inicio = {inicio} y fin = {fin} tamaño = {len(df)}')\n",
    "        if fin > len(df):\n",
    "            print(\"Break\")\n",
    "            break\n",
    "    print(df)\n",
    "        \n",
    "remuestreo(num)"
   ]
  },
  {
   "cell_type": "code",
   "execution_count": null,
   "metadata": {},
   "outputs": [],
   "source": []
  },
  {
   "cell_type": "code",
   "execution_count": null,
   "metadata": {},
   "outputs": [],
   "source": []
  },
  {
   "cell_type": "code",
   "execution_count": null,
   "metadata": {},
   "outputs": [],
   "source": [
    "from datetime import datetime\n",
    "ts1 = int(\"1284101485\")\n",
    "ts2 = int(\"1284101486\")\n",
    "ts3 = int(\"1284101487\")\n",
    "# if you encounter a \"year is out of range\" error the timestamp\n",
    "# may be in milliseconds, try `ts /= 1000` in that case\n",
    "print(datetime.utcfromtimestamp(ts1).strftime('%Y-%m-%d %H:%M:%S'))\n",
    "print(datetime.utcfromtimestamp(ts2).strftime('%Y-%m-%d %H:%M:%S'))\n",
    "print(datetime.utcfromtimestamp(ts3).strftime('%Y-%m-%d %H:%M:%S'))"
   ]
  },
  {
   "cell_type": "code",
   "execution_count": null,
   "metadata": {},
   "outputs": [],
   "source": []
  },
  {
   "cell_type": "code",
   "execution_count": null,
   "metadata": {},
   "outputs": [],
   "source": []
  },
  {
   "cell_type": "code",
   "execution_count": null,
   "metadata": {},
   "outputs": [],
   "source": []
  },
  {
   "cell_type": "code",
   "execution_count": null,
   "metadata": {},
   "outputs": [],
   "source": []
  },
  {
   "cell_type": "code",
   "execution_count": null,
   "metadata": {},
   "outputs": [],
   "source": []
  },
  {
   "cell_type": "code",
   "execution_count": null,
   "metadata": {},
   "outputs": [],
   "source": []
  },
  {
   "cell_type": "code",
   "execution_count": null,
   "metadata": {},
   "outputs": [],
   "source": []
  },
  {
   "cell_type": "code",
   "execution_count": null,
   "metadata": {},
   "outputs": [],
   "source": []
  }
 ],
 "metadata": {
  "kernelspec": {
   "display_name": "Python 3",
   "language": "python",
   "name": "python3"
  },
  "language_info": {
   "codemirror_mode": {
    "name": "ipython",
    "version": 3
   },
   "file_extension": ".py",
   "mimetype": "text/x-python",
   "name": "python",
   "nbconvert_exporter": "python",
   "pygments_lexer": "ipython3",
   "version": "3.8.3"
  }
 },
 "nbformat": 4,
 "nbformat_minor": 4
}
