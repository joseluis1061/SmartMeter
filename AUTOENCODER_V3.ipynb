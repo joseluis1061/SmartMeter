{
 "cells": [
  {
   "cell_type": "markdown",
   "metadata": {},
   "source": [
    "# AutoEncoder V3\n",
    "En este script tratare de hacer el entrenamiento para diferentes dispositivos usando arquitecturas de auto encoders para cada dispositivo. Despues de hacer este entrenamiento la idea es generar un algoritmo que tenga una entrada común a todos ellos pero que cada cual la procese de acuerdo al dispositivo objetivo para el que se ha entrenado. "
   ]
  },
  {
   "cell_type": "code",
   "execution_count": 1,
   "metadata": {},
   "outputs": [],
   "source": [
    "#0. Cargar las librerias \n",
    "from __future__ import print_function, division\n",
    "import time\n",
    "\n",
    "from matplotlib import rcParams\n",
    "import matplotlib.pyplot as plt\n",
    "import pandas as pd\n",
    "import numpy as np\n",
    "from six import iteritems\n",
    "\n",
    "from nilmtk import DataSet, TimeFrame, MeterGroup, HDFDataStore\n",
    "from nilmtk.legacy.disaggregate import CombinatorialOptimisation, FHMM\n",
    "import nilmtk.utils\n",
    "\n",
    "%matplotlib inline\n",
    "#Constante para el tamño de las imagenes\n",
    "rcParams['figure.figsize'] = (13, 6)"
   ]
  },
  {
   "cell_type": "markdown",
   "metadata": {},
   "source": [
    "# Datos de entrenamiento"
   ]
  },
  {
   "cell_type": "code",
   "execution_count": 2,
   "metadata": {},
   "outputs": [],
   "source": [
    "#1. Cargar los datos para entrenamiento\n",
    "train = DataSet('C:\\\\Users\\\\josel\\\\SmartMeter\\\\OrdenandoTodo\\\\redd.h5')\n",
    "train.set_window(end=\"30-4-2011\")      # Usando como final el 30 de abril\n",
    "train_elec = train.buildings[1].elec"
   ]
  },
  {
   "cell_type": "code",
   "execution_count": 7,
   "metadata": {},
   "outputs": [],
   "source": [
    "#2. Una estructura con 256 pasos en el tamaño de la muestra\n",
    "sequence_length = 512"
   ]
  },
  {
   "cell_type": "code",
   "execution_count": 8,
   "metadata": {},
   "outputs": [],
   "source": [
    "#3. Carga como medidor de entrenamiento el medidor central y el medidor para un dispositivo Fridge\n",
    "train_mains = train_elec.mains().all_meters()[0] # El medidor agregado o central que proporciona la entrada solo el cero\n",
    "train_meter = train_elec.submeters()['fridge'] # El medidor de microondas que se utiliza como objetivo de entrenamiento."
   ]
  },
  {
   "cell_type": "code",
   "execution_count": 9,
   "metadata": {},
   "outputs": [],
   "source": [
    "#4. Cargar los datos de las series definidas\n",
    "# Frecuencia de la muestra\n",
    "load_kwargs = {'sample_period': 1}\n",
    "# Esta función crea un generador de datos, si es necesario la remuestrea\n",
    "# al periodo de tiempo definida por el usuario\n",
    "main_power_series = train_mains.power_series(**load_kwargs)\n",
    "meter_power_series = train_meter.power_series(**load_kwargs)"
   ]
  },
  {
   "cell_type": "code",
   "execution_count": 10,
   "metadata": {},
   "outputs": [
    {
     "name": "stderr",
     "output_type": "stream",
     "text": [
      "C:\\Users\\josel\\Anaconda3\\envs\\nilmtk-env\\lib\\site-packages\\nilmtk\\elecmeter.py:446: UserWarning: The provided sample_period (1) is shorter than the meter's sample_period (3)\n",
      "  sample_period, default_sample_period\n"
     ]
    },
    {
     "name": "stdout",
     "output_type": "stream",
     "text": [
      "mainchunk tipo = <class 'pandas.core.series.Series'> tamaño = (1003071,)\n",
      "meterchunk tipo = <class 'pandas.core.series.Series'> tamaño = (1003066,)\n"
     ]
    }
   ],
   "source": [
    "#5. Con next des empaqueta los datos en series de pandas antes definidas por un generador\n",
    "mainchunk = next(main_power_series)          # Datos del medidor central\n",
    "meterchunk = next(meter_power_series)        # Datos del electrodomestico\n",
    "\n",
    "print(f\"mainchunk tipo = {type(mainchunk)} tamaño = {mainchunk.shape}\")\n",
    "print(f\"meterchunk tipo = {type(meterchunk)} tamaño = {meterchunk.shape}\")"
   ]
  },
  {
   "cell_type": "code",
   "execution_count": 11,
   "metadata": {},
   "outputs": [
    {
     "data": {
      "text/plain": [
       "2011-04-18 09:22:09-04:00    224.190002\n",
       "2011-04-18 09:22:10-04:00    225.570007\n",
       "2011-04-18 09:22:11-04:00    226.089996\n",
       "2011-04-18 09:22:12-04:00    222.740005\n",
       "2011-04-18 09:22:13-04:00    222.199997\n",
       "Freq: S, Name: (power, apparent), dtype: float32"
      ]
     },
     "execution_count": 11,
     "metadata": {},
     "output_type": "execute_result"
    }
   ],
   "source": [
    "mainchunk.head(5)"
   ]
  },
  {
   "cell_type": "code",
   "execution_count": 12,
   "metadata": {},
   "outputs": [
    {
     "data": {
      "text/plain": [
       "4521.0400390625"
      ]
     },
     "execution_count": 12,
     "metadata": {},
     "output_type": "execute_result"
    }
   ],
   "source": [
    "#6. Calcula el valor maximo del medidor central\n",
    "mmax = None\n",
    "if mmax == None:\n",
    "    mmax = mainchunk.max()\n",
    "mmax"
   ]
  },
  {
   "cell_type": "code",
   "execution_count": 13,
   "metadata": {},
   "outputs": [],
   "source": [
    "#7. Funciones para normalizar los datos\n",
    "# Normaliza las series de tiempo teniendo en cuenta el valor maximo\n",
    "# mmax medido por el medidor central\n",
    "def _normalize(chunk, mmax):\n",
    "    tchunk = chunk / mmax\n",
    "    return tchunk\n",
    "\n",
    "# Des Normaliza las series de tiempo teniendo en cuenta el valor maximo\n",
    "# mmax medido por el medidor central\n",
    "def _denormalize(chunk, mmax):\n",
    "    tchunk = chunk * mmax\n",
    "    return tchunk"
   ]
  },
  {
   "cell_type": "code",
   "execution_count": 14,
   "metadata": {},
   "outputs": [
    {
     "data": {
      "text/plain": [
       "2011-04-18 09:22:09-04:00    0.049588\n",
       "2011-04-18 09:22:10-04:00    0.049893\n",
       "2011-04-18 09:22:11-04:00    0.050008\n",
       "2011-04-18 09:22:12-04:00    0.049267\n",
       "2011-04-18 09:22:13-04:00    0.049148\n",
       "Freq: S, Name: (power, apparent), dtype: float64"
      ]
     },
     "execution_count": 14,
     "metadata": {},
     "output_type": "execute_result"
    }
   ],
   "source": [
    "#8. #Normaliza las series\n",
    "mainchunk = _normalize(mainchunk, mmax)\n",
    "meterchunk = _normalize(meterchunk, mmax)\n",
    "mainchunk.head(5)"
   ]
  },
  {
   "cell_type": "code",
   "execution_count": 15,
   "metadata": {},
   "outputs": [],
   "source": [
    "#9. Tamaño de la secuencia definida para el modelo\n",
    "s = sequence_length\n",
    "#10. Remplaza valores NaNs con 0s\n",
    "mainchunk.fillna(0, inplace=True)\n",
    "meterchunk.fillna(0, inplace=True)"
   ]
  },
  {
   "cell_type": "code",
   "execution_count": 16,
   "metadata": {},
   "outputs": [
    {
     "name": "stdout",
     "output_type": "stream",
     "text": [
      "DatetimeIndex(['2011-04-18 09:22:13-04:00', '2011-04-18 09:22:14-04:00',\n",
      "               '2011-04-18 09:22:15-04:00', '2011-04-18 09:22:16-04:00',\n",
      "               '2011-04-18 09:22:17-04:00', '2011-04-18 09:22:18-04:00',\n",
      "               '2011-04-18 09:22:19-04:00', '2011-04-18 09:22:20-04:00',\n",
      "               '2011-04-18 09:22:21-04:00', '2011-04-18 09:22:22-04:00',\n",
      "               ...\n",
      "               '2011-04-29 23:59:49-04:00', '2011-04-29 23:59:50-04:00',\n",
      "               '2011-04-29 23:59:51-04:00', '2011-04-29 23:59:52-04:00',\n",
      "               '2011-04-29 23:59:53-04:00', '2011-04-29 23:59:54-04:00',\n",
      "               '2011-04-29 23:59:55-04:00', '2011-04-29 23:59:56-04:00',\n",
      "               '2011-04-29 23:59:57-04:00', '2011-04-29 23:59:58-04:00'],\n",
      "              dtype='datetime64[ns, US/Eastern]', length=1003066, freq='S')\n"
     ]
    }
   ],
   "source": [
    "#11. Une los indices comunes a las dos series de dispositivo y medidor\n",
    "# Retorna una serie con los indices comunes en fechas\n",
    "ix = mainchunk.index.intersection(meterchunk.index)\n",
    "print(ix)"
   ]
  },
  {
   "cell_type": "code",
   "execution_count": 17,
   "metadata": {},
   "outputs": [],
   "source": [
    "#11. Toma los datos en las fechas coincidentes y descarta las demas\n",
    "# seleccionando por medio de los indices contenidos en ix\n",
    "mainchunk = mainchunk[ix]\n",
    "meterchunk = meterchunk[ix]"
   ]
  },
  {
   "cell_type": "code",
   "execution_count": 18,
   "metadata": {},
   "outputs": [],
   "source": [
    "#12. Tamaño del batch de ceros\n",
    "adicion = s - (len(ix) % s)\n",
    "#A cada serie de medidor se le agrega el batch\n",
    "#Se definen en función del tamaño de la muestra\n",
    "#Esta operación elimina el indice de tipo tiempo\n",
    "X_batch = np.append(mainchunk, np.zeros(adicion))    # Medidor central\n",
    "Y_batch = np.append(meterchunk, np.zeros(adicion))   # Medidor de dispositivo"
   ]
  },
  {
   "cell_type": "code",
   "execution_count": 19,
   "metadata": {},
   "outputs": [
    {
     "name": "stdout",
     "output_type": "stream",
     "text": [
      "X_batch (1960, 512, 1)\n",
      "Y_batch (1960, 512, 1)\n"
     ]
    }
   ],
   "source": [
    "#13. Cambia la forma de los datos quedando la señal en tramos de 256 puntos chunk\n",
    "#Para el ventanas de 256 seran (muestras = 3919, ventana = 256, Caracteristica = 1)\n",
    "X_batch = np.reshape(X_batch, (int(len(X_batch) / s), s, 1))\n",
    "Y_batch = np.reshape(Y_batch, (int(len(Y_batch) / s), s, 1))\n",
    "print(f\"X_batch {X_batch.shape}\")\n",
    "print(f\"Y_batch {Y_batch.shape}\")"
   ]
  },
  {
   "cell_type": "code",
   "execution_count": 20,
   "metadata": {},
   "outputs": [
    {
     "name": "stdout",
     "output_type": "stream",
     "text": [
      "X_batch <class 'numpy.ndarray'>\n"
     ]
    }
   ],
   "source": [
    "print(f\"X_batch {type(X_batch)}\")"
   ]
  },
  {
   "cell_type": "markdown",
   "metadata": {},
   "source": [
    "**NOTA:** En este punto ya se han definido las series de datos de entrenamiento para los modelos."
   ]
  },
  {
   "cell_type": "markdown",
   "metadata": {},
   "source": [
    "# Modelo\n",
    "Por dinamismo creare los modelos a modo de funciones, de esta manera puedo guardar un modelo dentro de una variable que puedo invocar dentro de otras funciones. "
   ]
  },
  {
   "cell_type": "code",
   "execution_count": 17,
   "metadata": {},
   "outputs": [
    {
     "name": "stderr",
     "output_type": "stream",
     "text": [
      "C:\\Users\\josel\\Anaconda3\\envs\\nilmtk-env\\lib\\site-packages\\h5py\\__init__.py:40: UserWarning: h5py is running against HDF5 1.10.6 when it was built against 1.10.5, this may cause problems\n",
      "  '{0}.{1}.{2}'.format(*version.hdf5_built_version_tuple)\n"
     ]
    }
   ],
   "source": [
    "# Librerias para modelos\n",
    "from keras.models import load_model\n",
    "from keras.models import Sequential\n",
    "from keras.layers import Dense, Flatten, Conv1D, Reshape, Dropout\n",
    "from keras.utils import plot_model"
   ]
  },
  {
   "cell_type": "code",
   "execution_count": 18,
   "metadata": {},
   "outputs": [],
   "source": [
    "def auto_encoder1(sequence_len):\n",
    "    '''Crear el modulo Auto encoder descrito en el articulo\n",
    "    '''\n",
    "    #Crea el contenedor del modelo\n",
    "    model = Sequential()\n",
    "\n",
    "    # 1D Conv filtros = 8, kernel = 4, entrada 256 pasos de 1 feature, padding igual, paso en 1\n",
    "    model.add(Conv1D(8, 4, activation=\"linear\", input_shape=(sequence_len, 1), padding=\"same\", strides=1))\n",
    "    #Aplanar la salida\n",
    "    model.add(Flatten())\n",
    "\n",
    "    #Auto encoder\n",
    "    # Fully Connected Layers abandono del 20%\n",
    "    model.add(Dropout(0.2))\n",
    "    # Neuronas 8 veces el tamaño de la ventana de tiempo = 2048 nodos\n",
    "    model.add(Dense((sequence_len-0)*8, activation='relu'))\n",
    "    #Abandono del 20% capa con 128 neuronas\n",
    "    model.add(Dropout(0.2))\n",
    "    model.add(Dense(128, activation='relu'))\n",
    "    #Abandono del 20% capa con 2048 nodos\n",
    "    model.add(Dropout(0.2))\n",
    "    model.add(Dense((sequence_len-0)*8, activation='relu'))\n",
    "\n",
    "    model.add(Dropout(0.2))\n",
    "\n",
    "    # 1D Conv\n",
    "    # La salida de la capa anterior es una secuencia aplanada. Es necesario cambiar\n",
    "    # el formato de los datos de salida para obtener datos de forma 256,8 similar\n",
    "    # a los pasos y filtros de la primer convolución\n",
    "    model.add(Reshape(((sequence_len-0), 8)))\n",
    "    #Entrega estos datos a una nueva capa convolucional 1 filtro con kernel = 4\n",
    "    #Supongo es de un solo filtro debido a que deseamos obtener una sola serie. \n",
    "    model.add(Conv1D(1, 4, activation=\"linear\", padding=\"same\", strides=1))\n",
    "    #Compila el modelo con perdida mse y optimizador de adam\n",
    "    model.compile(loss='mse', optimizer='adam')\n",
    "    #Grafico del modelo para exportar\n",
    "    #plot_model(model, to_file='model.png', show_shapes=True)\n",
    "\n",
    "    return model"
   ]
  },
  {
   "cell_type": "code",
   "execution_count": 19,
   "metadata": {},
   "outputs": [],
   "source": [
    "dae = auto_encoder1(sequence_length)"
   ]
  },
  {
   "cell_type": "code",
   "execution_count": 20,
   "metadata": {},
   "outputs": [
    {
     "name": "stdout",
     "output_type": "stream",
     "text": [
      "Epoch 1/25\n",
      "62/62 [==============================] - 8s 125ms/step - loss: 4.3865e-04\n",
      "Epoch 2/25\n",
      "62/62 [==============================] - 8s 123ms/step - loss: 3.6886e-04\n",
      "Epoch 3/25\n",
      "62/62 [==============================] - 8s 123ms/step - loss: 2.8307e-04\n",
      "Epoch 4/25\n",
      "62/62 [==============================] - 8s 124ms/step - loss: 2.6407e-04\n",
      "Epoch 5/25\n",
      "62/62 [==============================] - 8s 125ms/step - loss: 2.4402e-04\n",
      "Epoch 6/25\n",
      "62/62 [==============================] - 8s 124ms/step - loss: 2.5090e-04\n",
      "Epoch 7/25\n",
      "62/62 [==============================] - 8s 124ms/step - loss: 2.3455e-04\n",
      "Epoch 8/25\n",
      "62/62 [==============================] - 8s 125ms/step - loss: 2.1951e-04\n",
      "Epoch 9/25\n",
      "62/62 [==============================] - 8s 121ms/step - loss: 2.5264e-04\n",
      "Epoch 10/25\n",
      "62/62 [==============================] - 8s 128ms/step - loss: 2.1428e-04\n",
      "Epoch 11/25\n",
      "62/62 [==============================] - 9s 142ms/step - loss: 2.2915e-04\n",
      "Epoch 12/25\n",
      "62/62 [==============================] - 8s 124ms/step - loss: 2.2438e-04\n",
      "Epoch 13/25\n",
      "62/62 [==============================] - 7s 119ms/step - loss: 2.1586e-04\n",
      "Epoch 14/25\n",
      "62/62 [==============================] - 7s 120ms/step - loss: 2.2514e-04\n",
      "Epoch 15/25\n",
      "62/62 [==============================] - 8s 133ms/step - loss: 2.0006e-04\n",
      "Epoch 16/25\n",
      "62/62 [==============================] - 8s 135ms/step - loss: 2.2335e-04\n",
      "Epoch 17/25\n",
      "62/62 [==============================] - 8s 134ms/step - loss: 2.2365e-04\n",
      "Epoch 18/25\n",
      "62/62 [==============================] - 8s 135ms/step - loss: 2.1558e-04\n",
      "Epoch 19/25\n",
      "62/62 [==============================] - 8s 128ms/step - loss: 2.2468e-04\n",
      "Epoch 20/25\n",
      "62/62 [==============================] - 7s 118ms/step - loss: 1.8734e-04\n",
      "Epoch 21/25\n",
      "62/62 [==============================] - 8s 134ms/step - loss: 2.1449e-04\n",
      "Epoch 22/25\n",
      "62/62 [==============================] - 9s 137ms/step - loss: 2.1153e-04\n",
      "Epoch 23/25\n",
      "62/62 [==============================] - 8s 131ms/step - loss: 1.8720e-04\n",
      "Epoch 24/25\n",
      "62/62 [==============================] - 7s 120ms/step - loss: 2.0536e-04\n",
      "Epoch 25/25\n",
      "62/62 [==============================] - 8s 122ms/step - loss: 1.9706e-04\n"
     ]
    }
   ],
   "source": [
    "# Entrenar el modelo\n",
    "train_mains = X_batch \n",
    "train_meter = Y_batch \n",
    "modelo_entrenado = dae.fit(train_mains, train_meter, epochs=25)"
   ]
  },
  {
   "cell_type": "code",
   "execution_count": 21,
   "metadata": {},
   "outputs": [
    {
     "name": "stdout",
     "output_type": "stream",
     "text": [
      "Model: \"sequential\"\n",
      "_________________________________________________________________\n",
      "Layer (type)                 Output Shape              Param #   \n",
      "=================================================================\n",
      "conv1d (Conv1D)              (None, 512, 8)            40        \n",
      "_________________________________________________________________\n",
      "flatten (Flatten)            (None, 4096)              0         \n",
      "_________________________________________________________________\n",
      "dropout (Dropout)            (None, 4096)              0         \n",
      "_________________________________________________________________\n",
      "dense (Dense)                (None, 4096)              16781312  \n",
      "_________________________________________________________________\n",
      "dropout_1 (Dropout)          (None, 4096)              0         \n",
      "_________________________________________________________________\n",
      "dense_1 (Dense)              (None, 128)               524416    \n",
      "_________________________________________________________________\n",
      "dropout_2 (Dropout)          (None, 128)               0         \n",
      "_________________________________________________________________\n",
      "dense_2 (Dense)              (None, 4096)              528384    \n",
      "_________________________________________________________________\n",
      "dropout_3 (Dropout)          (None, 4096)              0         \n",
      "_________________________________________________________________\n",
      "reshape (Reshape)            (None, 512, 8)            0         \n",
      "_________________________________________________________________\n",
      "conv1d_1 (Conv1D)            (None, 512, 1)            33        \n",
      "=================================================================\n",
      "Total params: 17,834,185\n",
      "Trainable params: 17,834,185\n",
      "Non-trainable params: 0\n",
      "_________________________________________________________________\n"
     ]
    }
   ],
   "source": [
    "dae.summary()"
   ]
  },
  {
   "cell_type": "markdown",
   "metadata": {},
   "source": [
    "# Datos de test"
   ]
  },
  {
   "cell_type": "code",
   "execution_count": 22,
   "metadata": {},
   "outputs": [],
   "source": [
    "#14. Carga los datos completos\n",
    "test = DataSet('C:\\\\Users\\\\josel\\\\SmartMeter\\\\OrdenandoTodo\\\\redd.h5')\n",
    "#15. Define el tamaño de la muestra de test iniciando justo donde termina el train\n",
    "test.set_window(start=\"30-4-2011\") \n",
    "#16. Selecciona los electrodomesticos del primer edificio\n",
    "test_elec = test.buildings[1].elec\n",
    "#17. Selecciona el medidor central del edificio\n",
    "test_mains = test_elec.mains().all_meters()[0]\n",
    "test_meter = test_elec.submeters()['fridge']"
   ]
  },
  {
   "cell_type": "markdown",
   "metadata": {},
   "source": [
    "Par hacer el correcto entrenamiento es necesario procesar los datos de test, de tal manera que tengamos solo los datos cuando el medidor central funciono de manera adecuada. "
   ]
  },
  {
   "cell_type": "code",
   "execution_count": 23,
   "metadata": {},
   "outputs": [],
   "source": [
    "#18. Define un array para timeframes vacio en este almacenare\n",
    "# los tiempos donde el medidor estaba en buen funcionamiento\n",
    "timeframes = []\n",
    "\n",
    "#19. Crea un string con el nombre del edificio mas el id del edificio que lo\n",
    "#toma desde los metadatos \n",
    "#ejemplo building1\n",
    "building_path = '/building{}'.format(test_mains.building())\n",
    "#20. Ahora crea el nombre de la ruta al medidor 1 del edificio en cuestión\n",
    "#Pej.  building1/elec/meter1\n",
    "mains_data_location = building_path + '/elec/meter1'\n",
    "\n",
    "#21. Variable de control datos estan disponibles\n",
    "data_is_available = False"
   ]
  },
  {
   "cell_type": "code",
   "execution_count": 24,
   "metadata": {},
   "outputs": [
    {
     "data": {
      "text/plain": [
       "[TimeFrame(start='2011-04-30 00:00:00-04:00', end='2011-05-01 09:44:42-04:00', empty=False),\n",
       " TimeFrame(start='2011-05-01 09:47:18-04:00', end='2011-05-02 17:04:59-04:00', empty=False),\n",
       " TimeFrame(start='2011-05-02 17:07:27-04:00', end='2011-05-03 17:30:17-04:00', empty=False),\n",
       " TimeFrame(start='2011-05-03 17:32:49-04:00', end='2011-05-03 17:33:44-04:00', empty=False),\n",
       " TimeFrame(start='2011-05-06 10:51:46-04:00', end='2011-05-07 01:53:10-04:00', empty=False),\n",
       " TimeFrame(start='2011-05-07 01:53:55-04:00', end='2011-05-07 02:38:15-04:00', empty=False),\n",
       " TimeFrame(start='2011-05-07 02:40:43-04:00', end='2011-05-07 11:59:16-04:00', empty=False),\n",
       " TimeFrame(start='2011-05-11 03:19:43-04:00', end='2011-05-12 17:48:38-04:00', empty=False),\n",
       " TimeFrame(start='2011-05-12 20:14:30-04:00', end='2011-05-13 05:16:24-04:00', empty=False),\n",
       " TimeFrame(start='2011-05-22 16:04:46-04:00', end='2011-05-22 23:39:01-04:00', empty=False),\n",
       " TimeFrame(start='2011-05-22 23:41:35-04:00', end='2011-05-23 09:22:08-04:00', empty=False),\n",
       " TimeFrame(start='2011-05-23 10:31:34-04:00', end='2011-05-24 14:32:05-04:00', empty=False),\n",
       " TimeFrame(start='2011-05-24 15:55:33-04:00', end='2011-05-24 15:57:02-04:00', empty=False)]"
      ]
     },
     "execution_count": 24,
     "metadata": {},
     "output_type": "execute_result"
    }
   ],
   "source": [
    "#22. Verificar los tiempos de buen funcionamiento del medidor central\n",
    "load_kwargs.setdefault('sections', test_mains.good_sections())"
   ]
  },
  {
   "cell_type": "code",
   "execution_count": 25,
   "metadata": {},
   "outputs": [],
   "source": [
    "#23. Defino una lista que contendra los instantes de buen funcionamiento \n",
    "# que cumplan con el tamaño de muestra\n",
    "timeframes = []"
   ]
  },
  {
   "cell_type": "markdown",
   "metadata": {},
   "source": [
    "Cada tramo de datos que se cargue para test se procesara de manera independiente como una base de datos unica, por lo tanto se deben crear bases para los tramos donde el medidor central funciono bien y tenian datos suficientes para crear al menos una ventana de tiempo con ellos."
   ]
  },
  {
   "cell_type": "code",
   "execution_count": 26,
   "metadata": {},
   "outputs": [],
   "source": [
    "def data_predict(mains, id_serie, modelo):\n",
    "    #Cantidad de pasos en la ventana\n",
    "    s = sequence_length\n",
    "    # Tamaño de la sección de la serie que se cargada\n",
    "    # según los instantes de buen funcionamiento del medidor\n",
    "    up_limit = len(mains)\n",
    "    # Rellenar los valores Nan con ceros\n",
    "    mains.fillna(0, inplace=True)\n",
    "    # Calcular la cantidad de ceros que deben llenarse \n",
    "    # para crear un batch que permita que los datos al \n",
    "    # dividirse mantengan el tamaño para todos los datos\n",
    "    additional = s - (up_limit % s)\n",
    "    # Crear series de datos con los batch de ceros al final\n",
    "    X_batch = np.append(mains, np.zeros(additional))\n",
    "    #Cambiar el formato de los datos como: numero de muestras\n",
    "    # ventanas de tiempo = 256, y una caracteristica\n",
    "    X_batch = np.reshape(X_batch, (int(len(X_batch) / s), s ,1))\n",
    "    #Calcular la prediccion para el modelo\n",
    "    pred = modelo.predict(X_batch)\n",
    "    # Ahora une todas las salidas en ventanas a una serie completa, de los cuales solo toma\n",
    "    # los datos hasta donde la serie original tenia datos. Los datos restantes\n",
    "    # son los tomados por el batch de ceros, por lo tanto, se eliminan de la predicción\n",
    "    pred = np.reshape(pred, (up_limit + additional))[:up_limit]\n",
    "    # Crea una serie de pandas, con los datos de pred, usa como indice los mismos indices de \n",
    "    # tiempo que tenia la serie original y como nombre la llama 0 este es un metadato\n",
    "    column = pd.Series(pred, index=mains.index, name=0)\n",
    "\n",
    "    # Crea un diccionario vacio con el creara un dataframe posteriormente\n",
    "    # donde la clave key = 0 tendra como valor value la columna de datos predichos\n",
    "    appliance_powers_dict = {}\n",
    "    appliance_powers_dict[0] = column\n",
    "    # Transforma el diccionario a un dataframe de pandas de esta manera \n",
    "    # agrega la dimension de las columnas = 1. Tal que (muestras, 1)\n",
    "    appliance_powers = pd.DataFrame(appliance_powers_dict)\n",
    "    # Y es este dataframe el que retorna\n",
    "    return appliance_powers"
   ]
  },
  {
   "cell_type": "code",
   "execution_count": 28,
   "metadata": {},
   "outputs": [],
   "source": [
    "output_datastore = pd.HDFStore(\"predict_V3.h5\", \"w\")\n",
    "#output_datastore.close()"
   ]
  },
  {
   "cell_type": "code",
   "execution_count": 29,
   "metadata": {},
   "outputs": [
    {
     "name": "stdout",
     "output_type": "stream",
     "text": [
      "New sensible chunk: 121482 size of data\n",
      "New sensible chunk: 112661 size of data\n",
      "New sensible chunk: 87770 size of data\n",
      "New sensible chunk: 54084 size of data\n",
      "New sensible chunk: 2660 size of data\n",
      "New sensible chunk: 33513 size of data\n",
      "New sensible chunk: 138535 size of data\n",
      "New sensible chunk: 32514 size of data\n",
      "New sensible chunk: 27255 size of data\n",
      "New sensible chunk: 34833 size of data\n",
      "New sensible chunk: 100831 size of data\n"
     ]
    }
   ],
   "source": [
    "#24. Recorro todas los tramos de test para el medidor central en buen funcionamiento\n",
    "MIN_CHUNK_LENGTH = sequence_length #Tamaño del paso de ventana\n",
    "id_serie = 0\n",
    "for chunk in test_mains.power_series(**load_kwargs):\n",
    "    #25. Si el tamaño de la serie cargada es menor al de las ventanas se descarta\n",
    "    if len(chunk) < MIN_CHUNK_LENGTH:\n",
    "        continue\n",
    "    #26. Imprime el tamaño de los tramos de series cargados\n",
    "    print(\"New sensible chunk: {} size of data\".format(len(chunk)))\n",
    "    \n",
    "    # Se guarda cada tramo de tiempo seleccionado\n",
    "    timeframes.append(chunk.timeframe)\n",
    "    # Nombre de las columnas de series de datos ('power', 'apparent')\n",
    "    measurement = chunk.name\n",
    "    \n",
    "    # Normaliza la serie chunk del medidor central cargada y la guarda en una nueva variable usando como\n",
    "    # maximo el valor del medidor centrar de entrenamiento\n",
    "    chunk2 = _normalize(chunk, mmax)\n",
    "\n",
    "    #Ahora debo crear una base de datos con las formas adecuadas para cada chunk\n",
    "    #cree una función que guarda las series en un archivo hdf5\n",
    "    #requiere el numero de la serie iniciando en 0 para usarla como id\n",
    "    \n",
    "    #llamar funcion, pasar chunk2 y el id_serie\n",
    "    appliance_power = data_predict(chunk2, id_serie, dae)\n",
    "    \n",
    "    # Todo valor negativo calculado lo iguala a cero\n",
    "    appliance_power[appliance_power < 0] = 0\n",
    "    \n",
    "    # Calcula el valor real mediante la desnormalización de los datos\n",
    "    appliance_power = _denormalize(appliance_power, mmax)\n",
    "    \n",
    "    # Convierte lista de tuplas a MultiIndex osea una estructura que contiene\n",
    "    # multiples indices. Lons nombres estan dados pos la serie main original\n",
    "    # chunk.name = ('power', 'apparent') \n",
    "    # cols = MultiIndex([('power', 'apparent')]\n",
    "    cols = pd.MultiIndex.from_tuples([chunk.name])\n",
    "    \n",
    "    # De los metadatos extrae el valor de la instancia de la medida\n",
    "    # que en si es como el id del dispositivo por ejemplo 5 para refrigerador\n",
    "    # en el edificio 1. Siempre es el del electrodomestico\n",
    "    meter_instance = test_meter.instance()\n",
    "    \n",
    "    # Ahora crea un df para cada serie predicha chunk con: \n",
    "    # appliance_power.values = los valores de la serie predicha\n",
    "    # index=appliance_power.index con indice el tiempo de dicha serie\n",
    "    # columns=cols da el nombre de las columnas ('power', 'apparent') es el nombre \n",
    "    # de la columna de medidas, el indice no tiene nombre\n",
    "    # y define los datos como  de punto flotante\n",
    "    df = pd.DataFrame(\n",
    "        appliance_power.values, index=appliance_power.index,\n",
    "        columns=cols, dtype=\"float32\")\n",
    "\n",
    "    # Define el nombre de la ruta de cada dispositivo /building1/elec/meter5 predicho\n",
    "    # Esta es la clave de los datos procesados para guardar en el h5 \n",
    "    # Esta clave se mantiene igual para cada tramo chunk que se haga la predicción\n",
    "    key = '{}/elec/meter{}'.format(building_path, meter_instance)\n",
    "\n",
    "    # En el archivo output_datastore se agregaran los datos calculados en \n",
    "    # cada predicción es el archivo hdf5 definido en el programa principal\n",
    "    # Para cada clave '/building1/elec/meter5' agrega el df\n",
    "    # Primero para la serie calculada para el electrodomestico '/building1/elec/meter5'\n",
    "    output_datastore.append(key, df)\n",
    "    \n",
    "    # Ahora tomo los datos del medidor objetivo pero de test\n",
    "    \n",
    "    \n",
    "\n",
    "    # Append aggregate data to output / Agregar datos agregados a la salida\n",
    "    # Crea un dataframe para la serie de datos del medidor central original\n",
    "    mains_df = pd.DataFrame(chunk, columns=cols, dtype=\"float32\")\n",
    "    # Y tambien la agrega al archivo de salidas calculadas quedando en orden\n",
    "    # datos predichos y luego datos originales del medidor con clave '/building1/elec/meter1'\n",
    "    # Al hacerlo de este modo cada nuevo df se agrega debajo del anterior segun el nombre de sus\n",
    "    # columnas. Deben tener el mismo nombre y orden para que se haga el match\n",
    "    output_datastore.append(key=mains_data_location, value=mains_df)"
   ]
  },
  {
   "cell_type": "code",
   "execution_count": null,
   "metadata": {},
   "outputs": [],
   "source": []
  },
  {
   "cell_type": "code",
   "execution_count": null,
   "metadata": {},
   "outputs": [],
   "source": []
  },
  {
   "cell_type": "code",
   "execution_count": null,
   "metadata": {},
   "outputs": [],
   "source": []
  },
  {
   "cell_type": "code",
   "execution_count": 30,
   "metadata": {},
   "outputs": [
    {
     "name": "stdout",
     "output_type": "stream",
     "text": [
      "output_datastore.keys() ['/building1/elec/meter1', '/building1/elec/meter5']\n",
      "type(t2) <class 'pandas.core.frame.DataFrame'>\n",
      "t2.shape (746138, 1)\n"
     ]
    }
   ],
   "source": [
    "print(f\"output_datastore.keys() {output_datastore.keys()}\")\n",
    "t1 = output_datastore.get('/building1/elec/meter1')\n",
    "t2 = output_datastore.get('/building1/elec/meter5') #Prediccion\n",
    "print(f\"type(t2) {type(t2)}\")\n",
    "print(f\"t2.shape {t2.shape}\")"
   ]
  },
  {
   "cell_type": "code",
   "execution_count": 31,
   "metadata": {},
   "outputs": [
    {
     "name": "stderr",
     "output_type": "stream",
     "text": [
      "C:\\Users\\josel\\Anaconda3\\envs\\nilmtk-env\\lib\\site-packages\\pandas\\plotting\\_matplotlib\\converter.py:103: FutureWarning: Using an implicitly registered datetime converter for a matplotlib plotting method. The converter was registered by pandas on import. Future versions of pandas will require you to explicitly register matplotlib converters.\n",
      "\n",
      "To register the converters:\n",
      "\t>>> from pandas.plotting import register_matplotlib_converters\n",
      "\t>>> register_matplotlib_converters()\n",
      "  warnings.warn(msg, FutureWarning)\n"
     ]
    },
    {
     "data": {
      "text/plain": [
       "[<matplotlib.lines.Line2D at 0x172485548d0>]"
      ]
     },
     "execution_count": 31,
     "metadata": {},
     "output_type": "execute_result"
    },
    {
     "data": {
      "image/png": "[encoded data removed]",
      "text/plain": [
       "<Figure size 432x288 with 1 Axes>"
      ]
     },
     "metadata": {
      "needs_background": "light"
     },
     "output_type": "display_data"
    }
   ],
   "source": [
    "plt.plot(t2[:28000])"
   ]
  },
  {
   "cell_type": "code",
   "execution_count": 32,
   "metadata": {},
   "outputs": [
    {
     "name": "stdout",
     "output_type": "stream",
     "text": [
      "type(test_meter_medidor) <class 'pandas.core.series.Series'>\n"
     ]
    },
    {
     "name": "stderr",
     "output_type": "stream",
     "text": [
      "C:\\Users\\josel\\Anaconda3\\envs\\nilmtk-env\\lib\\site-packages\\nilmtk\\elecmeter.py:446: UserWarning: The provided sample_period (1) is shorter than the meter's sample_period (3)\n",
      "  sample_period, default_sample_period\n"
     ]
    }
   ],
   "source": [
    "test_meter_medidor = test_meter.power_series(**load_kwargs) #Real\n",
    "test_meter_medidor = next(test_meter_medidor)\n",
    "print(f\"type(test_meter_medidor) {type(test_meter_medidor)}\")"
   ]
  },
  {
   "cell_type": "code",
   "execution_count": 33,
   "metadata": {},
   "outputs": [
    {
     "data": {
      "text/plain": [
       "[<matplotlib.lines.Line2D at 0x17248622240>]"
      ]
     },
     "execution_count": 33,
     "metadata": {},
     "output_type": "execute_result"
    },
    {
     "data": {
      "image/png": "[encoded data removed]",
      "text/plain": [
       "<Figure size 432x288 with 1 Axes>"
      ]
     },
     "metadata": {
      "needs_background": "light"
     },
     "output_type": "display_data"
    }
   ],
   "source": [
    "plt.plot(t2[:28000])\n",
    "plt.plot(test_meter_medidor[:28000])"
   ]
  },
  {
   "cell_type": "markdown",
   "metadata": {},
   "source": [
    "# 256 pasos en la ventana"
   ]
  },
  {
   "cell_type": "code",
   "execution_count": 34,
   "metadata": {},
   "outputs": [],
   "source": [
    "# Una estructura con 256 pasos en el tamaño de la muestra\n",
    "sequence_length = 256"
   ]
  },
  {
   "cell_type": "code",
   "execution_count": 35,
   "metadata": {},
   "outputs": [
    {
     "name": "stderr",
     "output_type": "stream",
     "text": [
      "C:\\Users\\josel\\Anaconda3\\envs\\nilmtk-env\\lib\\site-packages\\nilmtk\\elecmeter.py:446: UserWarning: The provided sample_period (1) is shorter than the meter's sample_period (3)\n",
      "  sample_period, default_sample_period\n"
     ]
    },
    {
     "name": "stdout",
     "output_type": "stream",
     "text": [
      "mainchunk tipo = <class 'pandas.core.series.Series'> tamaño = (1003071,)\n",
      "meterchunk tipo = <class 'pandas.core.series.Series'> tamaño = (1003066,)\n",
      "DatetimeIndex(['2011-04-18 09:22:13-04:00', '2011-04-18 09:22:14-04:00',\n",
      "               '2011-04-18 09:22:15-04:00', '2011-04-18 09:22:16-04:00',\n",
      "               '2011-04-18 09:22:17-04:00', '2011-04-18 09:22:18-04:00',\n",
      "               '2011-04-18 09:22:19-04:00', '2011-04-18 09:22:20-04:00',\n",
      "               '2011-04-18 09:22:21-04:00', '2011-04-18 09:22:22-04:00',\n",
      "               ...\n",
      "               '2011-04-29 23:59:49-04:00', '2011-04-29 23:59:50-04:00',\n",
      "               '2011-04-29 23:59:51-04:00', '2011-04-29 23:59:52-04:00',\n",
      "               '2011-04-29 23:59:53-04:00', '2011-04-29 23:59:54-04:00',\n",
      "               '2011-04-29 23:59:55-04:00', '2011-04-29 23:59:56-04:00',\n",
      "               '2011-04-29 23:59:57-04:00', '2011-04-29 23:59:58-04:00'],\n",
      "              dtype='datetime64[ns, US/Eastern]', length=1003066, freq='S')\n",
      "X_batch (3919, 256, 1)\n",
      "Y_batch (3919, 256, 1)\n"
     ]
    }
   ],
   "source": [
    "#1. Cargar los datos para entrenamiento\n",
    "train = DataSet('C:\\\\Users\\\\josel\\\\SmartMeter\\\\OrdenandoTodo\\\\redd.h5')\n",
    "train.set_window(end=\"30-4-2011\")      # Usando como final el 30 de abril\n",
    "train_elec = train.buildings[1].elec\n",
    "\n",
    "#3. Carga como medidor de entrenamiento el medidor central y el medidor para un dispositivo Fridge\n",
    "train_mains = train_elec.mains().all_meters()[0] # El medidor agregado o central que proporciona la entrada\n",
    "train_meter = train_elec.submeters()['fridge'] # El medidor de microondas que se utiliza como objetivo de entrenamiento.\n",
    "#4. Cargar los datos de las series definidas\n",
    "# Frecuencia de la muestra\n",
    "load_kwargs = {'sample_period': 1}\n",
    "# Esta función crea un generador de datos, si es necesario la remuestrea\n",
    "# al periodo de tiempo definida por el usuario\n",
    "main_power_series = train_mains.power_series(**load_kwargs)\n",
    "meter_power_series = train_meter.power_series(**load_kwargs)\n",
    "\n",
    "#5. Con next des empaqueta los datos en series de pandas antes definidas por un generador\n",
    "mainchunk = next(main_power_series)          # Datos del medidor central\n",
    "meterchunk = next(meter_power_series)        # Datos del electrodomestico\n",
    "\n",
    "print(f\"mainchunk tipo = {type(mainchunk)} tamaño = {mainchunk.shape}\")\n",
    "print(f\"meterchunk tipo = {type(meterchunk)} tamaño = {meterchunk.shape}\")\n",
    "\n",
    "#6. Calcula el valor maximo del medidor central\n",
    "mmax = None\n",
    "if mmax == None:\n",
    "    mmax = mainchunk.max()\n",
    "mmax\n",
    "\n",
    "#7. Funciones para normalizar los datos\n",
    "# Normaliza las series de tiempo teniendo en cuenta el valor maximo\n",
    "# mmax medido por el medidor central\n",
    "def _normalize(chunk, mmax):\n",
    "    tchunk = chunk / mmax\n",
    "    return tchunk\n",
    "\n",
    "# Des Normaliza las series de tiempo teniendo en cuenta el valor maximo\n",
    "# mmax medido por el medidor central\n",
    "def _denormalize(chunk, mmax):\n",
    "    tchunk = chunk * mmax\n",
    "    return tchunk\n",
    "\n",
    "#8. #Normaliza las series\n",
    "mainchunk = _normalize(mainchunk, mmax)\n",
    "meterchunk = _normalize(meterchunk, mmax)\n",
    "mainchunk.head(5)\n",
    "\n",
    "#9. Tamaño de la secuencia definida para el modelo\n",
    "s = sequence_length\n",
    "#10. Remplaza valores NaNs con 0s\n",
    "mainchunk.fillna(0, inplace=True)\n",
    "meterchunk.fillna(0, inplace=True)\n",
    "\n",
    "#11. Une los indices comunes a las dos series de dispositivo y medidor\n",
    "# Retorna una serie con los indices comunes en fechas\n",
    "ix = mainchunk.index.intersection(meterchunk.index)\n",
    "print(ix)\n",
    "\n",
    "#11. Toma los datos en las fechas coincidentes y descarta las demas\n",
    "# seleccionando por medio de los indices contenidos en ix\n",
    "mainchunk = mainchunk[ix]\n",
    "meterchunk = meterchunk[ix]\n",
    "\n",
    "#12. Tamaño del batch de ceros\n",
    "adicion = s - (len(ix) % s)\n",
    "#A cada serie de medidor se le agrega el batch\n",
    "#Se definen en función del tamaño de la muestra\n",
    "#Esta operación elimina el indice de tipo tiempo\n",
    "X_batch = np.append(mainchunk, np.zeros(adicion))    # Medidor central\n",
    "Y_batch = np.append(meterchunk, np.zeros(adicion))   # Medidor de dispositivo\n",
    "\n",
    "#13. Cambia la forma de los datos quedando la señal en tramos de 256 puntos chunk\n",
    "#Para el ventanas de 256 seran (muestras = 3919, ventana = 256, Caracteristica = 1)\n",
    "X_batch = np.reshape(X_batch, (int(len(X_batch) / s), s, 1))\n",
    "Y_batch = np.reshape(Y_batch, (int(len(Y_batch) / s), s, 1))\n",
    "print(f\"X_batch {X_batch.shape}\")\n",
    "print(f\"Y_batch {Y_batch.shape}\")"
   ]
  },
  {
   "cell_type": "markdown",
   "metadata": {},
   "source": [
    "## Modelo 2\n",
    "Por dinamismo creare los modelos a modo de funciones, de esta manera puedo guardar un modelo dentro de una variable que puedo invocar dentro de otras funciones. Modifique el numero de filtros al doble."
   ]
  },
  {
   "cell_type": "code",
   "execution_count": 40,
   "metadata": {},
   "outputs": [],
   "source": [
    "def auto_encoder2(sequence_len):\n",
    "    '''Crear el modulo Auto encoder descrito en el articulo\n",
    "    '''\n",
    "    #Crea el contenedor del modelo\n",
    "    model = Sequential()\n",
    "\n",
    "    # 1D Conv filtros = 8, kernel = 4, entrada 256 pasos de 1 feature, padding igual, paso en 1\n",
    "    model.add(Conv1D(16, 4, activation=\"linear\", input_shape=(sequence_len, 1), padding=\"same\", strides=1))\n",
    "    #Aplanar la salida\n",
    "    model.add(Flatten())\n",
    "\n",
    "    #Auto encoder\n",
    "    # Fully Connected Layers abandono del 20%\n",
    "    model.add(Dropout(0.2))\n",
    "    # Neuronas 8 veces el tamaño de la ventana de tiempo = 2048 nodos\n",
    "    model.add(Dense((sequence_len-0)*8, activation='relu'))\n",
    "    #Abandono del 20% capa con 128 neuronas\n",
    "    model.add(Dropout(0.2))\n",
    "    model.add(Dense(128, activation='relu'))\n",
    "    #Abandono del 20% capa con 2048 nodos\n",
    "    model.add(Dropout(0.2))\n",
    "    model.add(Dense((sequence_len-0)*16, activation='relu'))\n",
    "\n",
    "    model.add(Dropout(0.2))\n",
    "\n",
    "    # 1D Conv\n",
    "    # La salida de la capa anterior es una secuencia aplanada. Es necesario cambiar\n",
    "    # el formato de los datos de salida para obtener datos de forma 256,8 similar\n",
    "    # a los pasos y filtros de la primer convolución\n",
    "    model.add(Reshape(((sequence_len-0), 16)))\n",
    "    #Entrega estos datos a una nueva capa convolucional 1 filtro con kernel = 4\n",
    "    #Un solo filtro debido a que deseamos obtener una sola serie. \n",
    "    model.add(Conv1D(1, 4, activation=\"linear\", padding=\"same\", strides=1))\n",
    "    #Compila el modelo con perdida mse y optimizador de adam\n",
    "    model.compile(loss='mse', optimizer='adam')\n",
    "    #Grafico del modelo para exportar\n",
    "    #plot_model(model, to_file='model.png', show_shapes=True)\n",
    "\n",
    "    return model"
   ]
  },
  {
   "cell_type": "code",
   "execution_count": 41,
   "metadata": {},
   "outputs": [],
   "source": [
    "dae2 = auto_encoder2(sequence_length)"
   ]
  },
  {
   "cell_type": "code",
   "execution_count": 43,
   "metadata": {},
   "outputs": [
    {
     "name": "stdout",
     "output_type": "stream",
     "text": [
      "Epoch 1/25\n",
      "123/123 [==============================] - 9s 73ms/step - loss: 2.4146e-04\n",
      "Epoch 2/25\n",
      "123/123 [==============================] - 9s 73ms/step - loss: 2.3299e-04\n",
      "Epoch 3/25\n",
      "123/123 [==============================] - 9s 74ms/step - loss: 2.2337e-04\n",
      "Epoch 4/25\n",
      "123/123 [==============================] - 9s 74ms/step - loss: 2.1869e-04\n",
      "Epoch 5/25\n",
      "123/123 [==============================] - 9s 72ms/step - loss: 2.1247e-04\n",
      "Epoch 6/25\n",
      "123/123 [==============================] - 9s 72ms/step - loss: 2.1490e-04\n",
      "Epoch 7/25\n",
      "123/123 [==============================] - 9s 72ms/step - loss: 2.1343e-04\n",
      "Epoch 8/25\n",
      "123/123 [==============================] - 9s 72ms/step - loss: 2.1769e-04\n",
      "Epoch 9/25\n",
      "123/123 [==============================] - 9s 73ms/step - loss: 2.1586e-04\n",
      "Epoch 10/25\n",
      "123/123 [==============================] - 9s 72ms/step - loss: 2.0911e-04\n",
      "Epoch 11/25\n",
      "123/123 [==============================] - 9s 72ms/step - loss: 1.9864e-04\n",
      "Epoch 12/25\n",
      "123/123 [==============================] - 9s 73ms/step - loss: 2.0859e-04\n",
      "Epoch 13/25\n",
      "123/123 [==============================] - 9s 74ms/step - loss: 2.0515e-04\n",
      "Epoch 14/25\n",
      "123/123 [==============================] - 9s 73ms/step - loss: 1.9864e-04\n",
      "Epoch 15/25\n",
      "123/123 [==============================] - 9s 73ms/step - loss: 1.9605e-04\n",
      "Epoch 16/25\n",
      "123/123 [==============================] - 9s 73ms/step - loss: 1.9144e-04\n",
      "Epoch 17/25\n",
      "123/123 [==============================] - 9s 73ms/step - loss: 1.9780e-04\n",
      "Epoch 18/25\n",
      "123/123 [==============================] - 9s 74ms/step - loss: 1.9333e-04\n",
      "Epoch 19/25\n",
      "123/123 [==============================] - 9s 73ms/step - loss: 2.0147e-04\n",
      "Epoch 20/25\n",
      "123/123 [==============================] - 9s 73ms/step - loss: 1.9523e-04\n",
      "Epoch 21/25\n",
      "123/123 [==============================] - 9s 73ms/step - loss: 2.0396e-04\n",
      "Epoch 22/25\n",
      "123/123 [==============================] - 9s 73ms/step - loss: 2.0432e-04\n",
      "Epoch 23/25\n",
      "123/123 [==============================] - 9s 73ms/step - loss: 1.8834e-04\n",
      "Epoch 24/25\n",
      "123/123 [==============================] - 9s 73ms/step - loss: 1.8645e-04\n",
      "Epoch 25/25\n",
      "123/123 [==============================] - 9s 74ms/step - loss: 1.9438e-04\n"
     ]
    }
   ],
   "source": [
    "# Entrenar el modelo\n",
    "train_mains = X_batch \n",
    "train_meter = Y_batch \n",
    "modelo_entrenado = dae2.fit(train_mains, train_meter, epochs=25)"
   ]
  },
  {
   "cell_type": "code",
   "execution_count": 44,
   "metadata": {},
   "outputs": [
    {
     "name": "stdout",
     "output_type": "stream",
     "text": [
      "Model: \"sequential_2\"\n",
      "_________________________________________________________________\n",
      "Layer (type)                 Output Shape              Param #   \n",
      "=================================================================\n",
      "conv1d_4 (Conv1D)            (None, 256, 16)           80        \n",
      "_________________________________________________________________\n",
      "flatten_2 (Flatten)          (None, 4096)              0         \n",
      "_________________________________________________________________\n",
      "dropout_8 (Dropout)          (None, 4096)              0         \n",
      "_________________________________________________________________\n",
      "dense_6 (Dense)              (None, 2048)              8390656   \n",
      "_________________________________________________________________\n",
      "dropout_9 (Dropout)          (None, 2048)              0         \n",
      "_________________________________________________________________\n",
      "dense_7 (Dense)              (None, 128)               262272    \n",
      "_________________________________________________________________\n",
      "dropout_10 (Dropout)         (None, 128)               0         \n",
      "_________________________________________________________________\n",
      "dense_8 (Dense)              (None, 4096)              528384    \n",
      "_________________________________________________________________\n",
      "dropout_11 (Dropout)         (None, 4096)              0         \n",
      "_________________________________________________________________\n",
      "reshape_2 (Reshape)          (None, 256, 16)           0         \n",
      "_________________________________________________________________\n",
      "conv1d_5 (Conv1D)            (None, 256, 1)            65        \n",
      "=================================================================\n",
      "Total params: 9,181,457\n",
      "Trainable params: 9,181,457\n",
      "Non-trainable params: 0\n",
      "_________________________________________________________________\n"
     ]
    }
   ],
   "source": [
    "dae2.summary()"
   ]
  },
  {
   "cell_type": "markdown",
   "metadata": {},
   "source": [
    "# Datos de test"
   ]
  },
  {
   "cell_type": "code",
   "execution_count": 45,
   "metadata": {},
   "outputs": [],
   "source": [
    "#14. Carga los datos completos\n",
    "test = DataSet('C:\\\\Users\\\\josel\\\\SmartMeter\\\\OrdenandoTodo\\\\redd.h5')\n",
    "#15. Define el tamaño de la muestra de test iniciando justo donde termina el train\n",
    "test.set_window(start=\"30-4-2011\") \n",
    "#16. Selecciona los electrodomesticos del primer edificio\n",
    "test_elec = test.buildings[1].elec\n",
    "#17. Selecciona el medidor central del edificio\n",
    "test_mains = test_elec.mains().all_meters()[0]\n",
    "test_meter = test_elec.submeters()['fridge']"
   ]
  },
  {
   "cell_type": "code",
   "execution_count": 46,
   "metadata": {},
   "outputs": [],
   "source": [
    "#18. Define un array para timeframes vacio en este almacenare\n",
    "# los tiempos donde el medidor estaba en buen funcionamiento\n",
    "timeframes = []\n",
    "\n",
    "#19. Crea un string con el nombre del edificio mas el id del edificio que lo\n",
    "#toma desde los metadatos \n",
    "#ejemplo building1\n",
    "building_path = '/building{}'.format(test_mains.building())\n",
    "#20. Ahora crea el nombre de la ruta al medidor 1 del edificio en cuestión\n",
    "#Pej.  building1/elec/meter1\n",
    "mains_data_location = building_path + '/elec/meter1'\n",
    "\n",
    "#21. Variable de control datos estan disponibles\n",
    "data_is_available = False"
   ]
  },
  {
   "cell_type": "code",
   "execution_count": 47,
   "metadata": {},
   "outputs": [
    {
     "data": {
      "text/plain": [
       "[TimeFrame(start='2011-04-30 00:00:00-04:00', end='2011-05-01 09:44:42-04:00', empty=False),\n",
       " TimeFrame(start='2011-05-01 09:47:18-04:00', end='2011-05-02 17:04:59-04:00', empty=False),\n",
       " TimeFrame(start='2011-05-02 17:07:27-04:00', end='2011-05-03 17:30:17-04:00', empty=False),\n",
       " TimeFrame(start='2011-05-03 17:32:49-04:00', end='2011-05-03 17:33:44-04:00', empty=False),\n",
       " TimeFrame(start='2011-05-06 10:51:46-04:00', end='2011-05-07 01:53:10-04:00', empty=False),\n",
       " TimeFrame(start='2011-05-07 01:53:55-04:00', end='2011-05-07 02:38:15-04:00', empty=False),\n",
       " TimeFrame(start='2011-05-07 02:40:43-04:00', end='2011-05-07 11:59:16-04:00', empty=False),\n",
       " TimeFrame(start='2011-05-11 03:19:43-04:00', end='2011-05-12 17:48:38-04:00', empty=False),\n",
       " TimeFrame(start='2011-05-12 20:14:30-04:00', end='2011-05-13 05:16:24-04:00', empty=False),\n",
       " TimeFrame(start='2011-05-22 16:04:46-04:00', end='2011-05-22 23:39:01-04:00', empty=False),\n",
       " TimeFrame(start='2011-05-22 23:41:35-04:00', end='2011-05-23 09:22:08-04:00', empty=False),\n",
       " TimeFrame(start='2011-05-23 10:31:34-04:00', end='2011-05-24 14:32:05-04:00', empty=False),\n",
       " TimeFrame(start='2011-05-24 15:55:33-04:00', end='2011-05-24 15:57:02-04:00', empty=False)]"
      ]
     },
     "execution_count": 47,
     "metadata": {},
     "output_type": "execute_result"
    }
   ],
   "source": [
    "#22. Verificar los tiempos de buen funcionamiento del medidor central\n",
    "load_kwargs.setdefault('sections', test_mains.good_sections())"
   ]
  },
  {
   "cell_type": "code",
   "execution_count": 48,
   "metadata": {},
   "outputs": [],
   "source": [
    "#23. Defino una lista que contendra los instantes de buen funcionamiento \n",
    "# que cumplan con el tamaño de muestra\n",
    "timeframes = []"
   ]
  },
  {
   "cell_type": "code",
   "execution_count": 50,
   "metadata": {},
   "outputs": [],
   "source": [
    "output_datastore2 = pd.HDFStore(\"predict2_V3.h5\", \"w\")\n",
    "#output_datastore.close()"
   ]
  },
  {
   "cell_type": "code",
   "execution_count": 51,
   "metadata": {},
   "outputs": [
    {
     "name": "stdout",
     "output_type": "stream",
     "text": [
      "New sensible chunk: 121482 size of data\n",
      "New sensible chunk: 112661 size of data\n",
      "New sensible chunk: 87770 size of data\n",
      "New sensible chunk: 54084 size of data\n",
      "New sensible chunk: 2660 size of data\n",
      "New sensible chunk: 33513 size of data\n",
      "New sensible chunk: 138535 size of data\n",
      "New sensible chunk: 32514 size of data\n",
      "New sensible chunk: 27255 size of data\n",
      "New sensible chunk: 34833 size of data\n",
      "New sensible chunk: 100831 size of data\n"
     ]
    }
   ],
   "source": [
    "#24. Recorro todas los tramos de test para el medidor central en buen funcionamiento\n",
    "MIN_CHUNK_LENGTH = sequence_length #Tamaño del paso de ventana\n",
    "id_serie = 0\n",
    "for chunk in test_mains.power_series(**load_kwargs):\n",
    "    #25. Si el tamaño de la serie cargada es menor al de las ventanas se descarta\n",
    "    if len(chunk) < MIN_CHUNK_LENGTH:\n",
    "        continue\n",
    "    #26. Imprime el tamaño de los tramos de series cargados\n",
    "    print(\"New sensible chunk: {} size of data\".format(len(chunk)))\n",
    "    \n",
    "    # Se guarda cada tramo de tiempo seleccionado\n",
    "    timeframes.append(chunk.timeframe)\n",
    "    # Nombre de las columnas de series de datos ('power', 'apparent')\n",
    "    measurement = chunk.name\n",
    "    \n",
    "    # Normaliza la serie chunk del medidor central cargada y la guarda en una nueva variable usando como\n",
    "    # maximo el valor del medidor centrar de entrenamiento\n",
    "    chunk2 = _normalize(chunk, mmax)\n",
    "\n",
    "    #Ahora debo crear una base de datos con las formas adecuadas para cada chunk\n",
    "    #cree una función que guarda las series en un archivo hdf5\n",
    "    #requiere el numero de la serie iniciando en 0 para usarla como id\n",
    "    \n",
    "    #llamar funcion, pasar chunk2 y el id_serie >>>>>>>>>>>>>>>>>>>\n",
    "    appliance_power = data_predict(chunk2, id_serie, dae2)\n",
    "    \n",
    "    # Todo valor negativo calculado lo iguala a cero\n",
    "    appliance_power[appliance_power < 0] = 0\n",
    "    \n",
    "    # Calcula el valor real mediante la desnormalización de los datos\n",
    "    appliance_power = _denormalize(appliance_power, mmax)\n",
    "    \n",
    "    # Convierte lista de tuplas a MultiIndex osea una estructura que contiene\n",
    "    # multiples indices. Lons nombres estan dados pos la serie main original\n",
    "    # chunk.name = ('power', 'apparent') \n",
    "    # cols = MultiIndex([('power', 'apparent')]\n",
    "    cols = pd.MultiIndex.from_tuples([chunk.name])\n",
    "    \n",
    "    # De los metadatos extrae el valor de la instancia de la medida\n",
    "    # que en si es como el id del dispositivo por ejemplo 5 para refrigerador\n",
    "    # en el edificio 1. Siempre es el del electrodomestico\n",
    "    meter_instance = test_meter.instance()\n",
    "    \n",
    "    # Ahora crea un df para cada serie predicha chunk con: \n",
    "    # appliance_power.values = los valores de la serie predicha\n",
    "    # index=appliance_power.index con indice el tiempo de dicha serie\n",
    "    # columns=cols da el nombre de las columnas ('power', 'apparent') es el nombre \n",
    "    # de la columna de medidas, el indice no tiene nombre\n",
    "    # y define los datos como  de punto flotante\n",
    "    df = pd.DataFrame(\n",
    "        appliance_power.values, index=appliance_power.index,\n",
    "        columns=cols, dtype=\"float32\")\n",
    "\n",
    "    # Define el nombre de la ruta de cada dispositivo /building1/elec/meter5 predicho\n",
    "    # Esta es la clave de los datos procesados para guardar en el h5 \n",
    "    # Esta clave se mantiene igual para cada tramo chunk que se haga la predicción\n",
    "    key = '{}/elec/meter{}'.format(building_path, meter_instance)\n",
    "\n",
    "    # En el archivo output_datastore2 se agregaran los datos calculados en \n",
    "    # cada predicción es el archivo hdf5 definido en el programa principal\n",
    "    # Para cada clave '/building1/elec/meter5' agrega el df\n",
    "    # Primero para la serie calculada para el electrodomestico '/building1/elec/meter5'\n",
    "    output_datastore2.append(key, df)\n",
    "    \n",
    "    # Ahora tomo los datos del medidor objetivo pero de test\n",
    "    \n",
    "    \n",
    "\n",
    "    # Append aggregate data to output / Agregar datos agregados a la salida\n",
    "    # Crea un dataframe para la serie de datos del medidor central original\n",
    "    mains_df = pd.DataFrame(chunk, columns=cols, dtype=\"float32\")\n",
    "    # Y tambien la agrega al archivo de salidas calculadas quedando en orden\n",
    "    # datos predichos y luego datos originales del medidor con clave '/building1/elec/meter1'\n",
    "    # Al hacerlo de este modo cada nuevo df se agrega debajo del anterior segun el nombre de sus\n",
    "    # columnas. Deben tener el mismo nombre y orden para que se haga el match\n",
    "    output_datastore2.append(key=mains_data_location, value=mains_df)"
   ]
  },
  {
   "cell_type": "code",
   "execution_count": 52,
   "metadata": {},
   "outputs": [
    {
     "name": "stdout",
     "output_type": "stream",
     "text": [
      "output_datastore.keys() ['/building1/elec/meter1', '/building1/elec/meter5']\n",
      "type(t4) <class 'pandas.core.frame.DataFrame'>\n",
      "t4.shape (746138, 1)\n"
     ]
    }
   ],
   "source": [
    "print(f\"output_datastore.keys() {output_datastore2.keys()}\")\n",
    "t3 = output_datastore2.get('/building1/elec/meter1')\n",
    "t4 = output_datastore2.get('/building1/elec/meter5') #Prediccion\n",
    "print(f\"type(t4) {type(t4)}\")\n",
    "print(f\"t4.shape {t4.shape}\")"
   ]
  },
  {
   "cell_type": "code",
   "execution_count": 53,
   "metadata": {},
   "outputs": [
    {
     "name": "stdout",
     "output_type": "stream",
     "text": [
      "type(test_meter_medidor) <class 'pandas.core.series.Series'>\n"
     ]
    },
    {
     "name": "stderr",
     "output_type": "stream",
     "text": [
      "C:\\Users\\josel\\Anaconda3\\envs\\nilmtk-env\\lib\\site-packages\\nilmtk\\elecmeter.py:446: UserWarning: The provided sample_period (1) is shorter than the meter's sample_period (3)\n",
      "  sample_period, default_sample_period\n"
     ]
    }
   ],
   "source": [
    "test_meter_medidor = test_meter.power_series(**load_kwargs) #Real\n",
    "test_meter_medidor = next(test_meter_medidor)\n",
    "print(f\"type(test_meter_medidor) {type(test_meter_medidor)}\")"
   ]
  },
  {
   "cell_type": "code",
   "execution_count": 54,
   "metadata": {
    "scrolled": true
   },
   "outputs": [
    {
     "data": {
      "text/plain": [
       "[<matplotlib.lines.Line2D at 0x17241c5fe80>]"
      ]
     },
     "execution_count": 54,
     "metadata": {},
     "output_type": "execute_result"
    },
    {
     "data": {
      "image/png": "[encoded data removed]",
      "text/plain": [
       "<Figure size 432x288 with 1 Axes>"
      ]
     },
     "metadata": {
      "needs_background": "light"
     },
     "output_type": "display_data"
    }
   ],
   "source": [
    "plt.plot(t4[:28000])\n",
    "plt.plot(test_meter_medidor[:28000])"
   ]
  },
  {
   "cell_type": "code",
   "execution_count": null,
   "metadata": {},
   "outputs": [],
   "source": []
  },
  {
   "cell_type": "markdown",
   "metadata": {},
   "source": [
    "# Cambiando filtros"
   ]
  },
  {
   "cell_type": "code",
   "execution_count": 72,
   "metadata": {},
   "outputs": [],
   "source": [
    "# Una estructura con 256 pasos en el tamaño de la muestra\n",
    "sequence_length = 256"
   ]
  },
  {
   "cell_type": "code",
   "execution_count": 73,
   "metadata": {},
   "outputs": [
    {
     "name": "stderr",
     "output_type": "stream",
     "text": [
      "C:\\Users\\josel\\Anaconda3\\envs\\nilmtk-env\\lib\\site-packages\\nilmtk\\elecmeter.py:446: UserWarning: The provided sample_period (1) is shorter than the meter's sample_period (3)\n",
      "  sample_period, default_sample_period\n"
     ]
    },
    {
     "name": "stdout",
     "output_type": "stream",
     "text": [
      "mainchunk tipo = <class 'pandas.core.series.Series'> tamaño = (1003071,)\n",
      "meterchunk tipo = <class 'pandas.core.series.Series'> tamaño = (1003066,)\n",
      "DatetimeIndex(['2011-04-18 09:22:13-04:00', '2011-04-18 09:22:14-04:00',\n",
      "               '2011-04-18 09:22:15-04:00', '2011-04-18 09:22:16-04:00',\n",
      "               '2011-04-18 09:22:17-04:00', '2011-04-18 09:22:18-04:00',\n",
      "               '2011-04-18 09:22:19-04:00', '2011-04-18 09:22:20-04:00',\n",
      "               '2011-04-18 09:22:21-04:00', '2011-04-18 09:22:22-04:00',\n",
      "               ...\n",
      "               '2011-04-29 23:59:49-04:00', '2011-04-29 23:59:50-04:00',\n",
      "               '2011-04-29 23:59:51-04:00', '2011-04-29 23:59:52-04:00',\n",
      "               '2011-04-29 23:59:53-04:00', '2011-04-29 23:59:54-04:00',\n",
      "               '2011-04-29 23:59:55-04:00', '2011-04-29 23:59:56-04:00',\n",
      "               '2011-04-29 23:59:57-04:00', '2011-04-29 23:59:58-04:00'],\n",
      "              dtype='datetime64[ns, US/Eastern]', length=1003066, freq='S')\n",
      "X_batch (3919, 256, 1)\n",
      "Y_batch (3919, 256, 1)\n"
     ]
    }
   ],
   "source": [
    "#1. Cargar los datos para entrenamiento\n",
    "train = DataSet('C:\\\\Users\\\\josel\\\\SmartMeter\\\\OrdenandoTodo\\\\redd.h5')\n",
    "train.set_window(end=\"30-4-2011\")      # Usando como final el 30 de abril\n",
    "train_elec = train.buildings[1].elec\n",
    "\n",
    "#3. Carga como medidor de entrenamiento el medidor central y el medidor para un dispositivo Fridge\n",
    "train_mains = train_elec.mains().all_meters()[0] # El medidor agregado o central que proporciona la entrada\n",
    "train_meter = train_elec.submeters()['fridge'] # El medidor de microondas que se utiliza como objetivo de entrenamiento.\n",
    "#4. Cargar los datos de las series definidas\n",
    "# Frecuencia de la muestra\n",
    "load_kwargs = {'sample_period': 1}\n",
    "# Esta función crea un generador de datos, si es necesario la remuestrea\n",
    "# al periodo de tiempo definida por el usuario\n",
    "main_power_series = train_mains.power_series(**load_kwargs)\n",
    "meter_power_series = train_meter.power_series(**load_kwargs)\n",
    "\n",
    "#5. Con next des empaqueta los datos en series de pandas antes definidas por un generador\n",
    "mainchunk = next(main_power_series)          # Datos del medidor central\n",
    "meterchunk = next(meter_power_series)        # Datos del electrodomestico\n",
    "\n",
    "print(f\"mainchunk tipo = {type(mainchunk)} tamaño = {mainchunk.shape}\")\n",
    "print(f\"meterchunk tipo = {type(meterchunk)} tamaño = {meterchunk.shape}\")\n",
    "\n",
    "#6. Calcula el valor maximo del medidor central\n",
    "mmax = None\n",
    "if mmax == None:\n",
    "    mmax = mainchunk.max()\n",
    "mmax\n",
    "\n",
    "#7. Funciones para normalizar los datos\n",
    "# Normaliza las series de tiempo teniendo en cuenta el valor maximo\n",
    "# mmax medido por el medidor central\n",
    "def _normalize(chunk, mmax):\n",
    "    tchunk = chunk / mmax\n",
    "    return tchunk\n",
    "\n",
    "# Des Normaliza las series de tiempo teniendo en cuenta el valor maximo\n",
    "# mmax medido por el medidor central\n",
    "def _denormalize(chunk, mmax):\n",
    "    tchunk = chunk * mmax\n",
    "    return tchunk\n",
    "\n",
    "#8. #Normaliza las series\n",
    "mainchunk = _normalize(mainchunk, mmax)\n",
    "meterchunk = _normalize(meterchunk, mmax)\n",
    "mainchunk.head(5)\n",
    "\n",
    "#9. Tamaño de la secuencia definida para el modelo\n",
    "s = sequence_length\n",
    "#10. Remplaza valores NaNs con 0s\n",
    "mainchunk.fillna(0, inplace=True)\n",
    "meterchunk.fillna(0, inplace=True)\n",
    "\n",
    "#11. Une los indices comunes a las dos series de dispositivo y medidor\n",
    "# Retorna una serie con los indices comunes en fechas\n",
    "ix = mainchunk.index.intersection(meterchunk.index)\n",
    "print(ix)\n",
    "\n",
    "#11. Toma los datos en las fechas coincidentes y descarta las demas\n",
    "# seleccionando por medio de los indices contenidos en ix\n",
    "mainchunk = mainchunk[ix]\n",
    "meterchunk = meterchunk[ix]\n",
    "\n",
    "#12. Tamaño del batch de ceros\n",
    "adicion = s - (len(ix) % s)\n",
    "#A cada serie de medidor se le agrega el batch\n",
    "#Se definen en función del tamaño de la muestra\n",
    "#Esta operación elimina el indice de tipo tiempo\n",
    "X_batch = np.append(mainchunk, np.zeros(adicion))    # Medidor central\n",
    "Y_batch = np.append(meterchunk, np.zeros(adicion))   # Medidor de dispositivo\n",
    "\n",
    "#13. Cambia la forma de los datos quedando la señal en tramos de 256 puntos chunk\n",
    "#Para el ventanas de 256 seran (muestras = 3919, ventana = 256, Caracteristica = 1)\n",
    "X_batch = np.reshape(X_batch, (int(len(X_batch) / s), s, 1))\n",
    "Y_batch = np.reshape(Y_batch, (int(len(Y_batch) / s), s, 1))\n",
    "print(f\"X_batch {X_batch.shape}\")\n",
    "print(f\"Y_batch {Y_batch.shape}\")"
   ]
  },
  {
   "cell_type": "markdown",
   "metadata": {},
   "source": [
    "## Modelo 4\n",
    "Por dinamismo creare los modelos a modo de funciones, de esta manera puedo guardar un modelo dentro de una variable que puedo invocar dentro de otras funciones. \n",
    "\n",
    "Agregando mas capas densas intermedias"
   ]
  },
  {
   "cell_type": "code",
   "execution_count": 120,
   "metadata": {},
   "outputs": [],
   "source": [
    "def auto_encoder4(sequence_len):\n",
    "    '''Crear el modulo Auto encoder descrito en el articulo\n",
    "    '''\n",
    "    #Crea el contenedor del modelo\n",
    "    model = Sequential()\n",
    "\n",
    "    # 1D Conv filtros = 8, kernel = 4, entrada 256 pasos de 1 feature, padding igual, paso en 1\n",
    "    model.add(Conv1D(16, 4, activation=\"linear\", input_shape=(sequence_len, 1), padding=\"same\", strides=1))\n",
    "    model.add(Dropout(0.1))\n",
    "    model.add(Dense(8, activation = 'linear'))\n",
    "    model.add(Dropout(0.1))    \n",
    "    #Aplanar la salida\n",
    "    model.add(Flatten())\n",
    "    \n",
    "\n",
    "    #Auto encoder\n",
    "    # Fully Connected Layers abandono del 20%\n",
    "    model.add(Dropout(0.2))\n",
    "    # Neuronas 16 veces el tamaño de la ventana de tiempo = 2048 nodos\n",
    "    model.add(Dense((sequence_len-0)*16, activation='relu'))\n",
    "    #Abandono del 20% capa con 128 neuronas\n",
    "    model.add(Dropout(0.2))\n",
    "    model.add(Dense(128, activation='relu'))\n",
    "    #Abandono del 20% capa con 2048 nodos\n",
    "    model.add(Dropout(0.2))\n",
    "    \n",
    "    model.add(Dense(256, activation='relu'))\n",
    "    #Abandono del 20% capa con 2048 nodos\n",
    "    model.add(Dropout(0.2))\n",
    "    \n",
    "    model.add(Dense(128, activation='relu'))\n",
    "    #Abandono del 20% capa con 2048 nodos\n",
    "    model.add(Dropout(0.2))\n",
    "    \n",
    "    \n",
    "    model.add(Dense((sequence_len-0)*16, activation='relu'))\n",
    "    model.add(Dropout(0.2))\n",
    "\n",
    "    # 1D Conv\n",
    "    # La salida de la capa anterior es una secuencia aplanada. Es necesario cambiar\n",
    "    # el formato de los datos de salida para obtener datos de forma 256,8 similar\n",
    "    # a los pasos y filtros de la primer convolución\n",
    "    model.add(Reshape(((sequence_len-0), 16)))\n",
    "    #Entrega estos datos a una nueva capa convolucional 1 filtro con kernel = 4\n",
    "    #Es un solo filtro debido a que deseamos obtener una sola serie. \n",
    "    model.add(Conv1D(1, 4, activation=\"linear\", padding=\"same\", strides=1))\n",
    "    #Compila el modelo con perdida mse y optimizador de adam\n",
    "    model.compile(loss='mse', optimizer='adam')\n",
    "    #Grafico del modelo para exportar\n",
    "    #plot_model(model, to_file='model.png', show_shapes=True)\n",
    "\n",
    "    return model"
   ]
  },
  {
   "cell_type": "code",
   "execution_count": 121,
   "metadata": {},
   "outputs": [],
   "source": [
    "#<<<<\n",
    "dae4 = auto_encoder4(sequence_length)"
   ]
  },
  {
   "cell_type": "code",
   "execution_count": 122,
   "metadata": {},
   "outputs": [
    {
     "name": "stdout",
     "output_type": "stream",
     "text": [
      "Epoch 1/25\n",
      "123/123 [==============================] - 10s 75ms/step - loss: 3.7556e-04\n",
      "Epoch 2/25\n",
      "123/123 [==============================] - 9s 77ms/step - loss: 2.7479e-04\n",
      "Epoch 3/25\n",
      "123/123 [==============================] - 9s 77ms/step - loss: 2.7014e-04\n",
      "Epoch 4/25\n",
      "123/123 [==============================] - 10s 79ms/step - loss: 2.3845e-04\n",
      "Epoch 5/25\n",
      "123/123 [==============================] - 9s 77ms/step - loss: 2.3720e-04\n",
      "Epoch 6/25\n",
      "123/123 [==============================] - 9s 77ms/step - loss: 2.4003e-04\n",
      "Epoch 7/25\n",
      "123/123 [==============================] - 9s 77ms/step - loss: 2.2195e-04\n",
      "Epoch 8/25\n",
      "123/123 [==============================] - 9s 77ms/step - loss: 2.1215e-04\n",
      "Epoch 9/25\n",
      "123/123 [==============================] - 9s 77ms/step - loss: 2.3794e-04\n",
      "Epoch 10/25\n",
      "123/123 [==============================] - 9s 77ms/step - loss: 2.4044e-04\n",
      "Epoch 11/25\n",
      "123/123 [==============================] - 9s 77ms/step - loss: 2.2663e-04\n",
      "Epoch 12/25\n",
      "123/123 [==============================] - 10s 78ms/step - loss: 2.3871e-04\n",
      "Epoch 13/25\n",
      "123/123 [==============================] - 10s 78ms/step - loss: 2.2506e-04\n",
      "Epoch 14/25\n",
      "123/123 [==============================] - 10s 78ms/step - loss: 2.4744e-04\n",
      "Epoch 15/25\n",
      "123/123 [==============================] - 10s 78ms/step - loss: 2.0337e-04\n",
      "Epoch 16/25\n",
      "123/123 [==============================] - 10s 78ms/step - loss: 2.1200e-04\n",
      "Epoch 17/25\n",
      "123/123 [==============================] - 10s 77ms/step - loss: 2.2938e-04\n",
      "Epoch 18/25\n",
      "123/123 [==============================] - 10s 78ms/step - loss: 2.1444e-04\n",
      "Epoch 19/25\n",
      "123/123 [==============================] - 9s 77ms/step - loss: 2.0690e-04\n",
      "Epoch 20/25\n",
      "123/123 [==============================] - 10s 78ms/step - loss: 2.0460e-04\n",
      "Epoch 21/25\n",
      "123/123 [==============================] - 10s 79ms/step - loss: 2.2781e-04\n",
      "Epoch 22/25\n",
      "123/123 [==============================] - 10s 79ms/step - loss: 2.2872e-04\n",
      "Epoch 23/25\n",
      "123/123 [==============================] - 10s 78ms/step - loss: 2.0874e-04\n",
      "Epoch 24/25\n",
      "123/123 [==============================] - 10s 78ms/step - loss: 1.9981e-04\n",
      "Epoch 25/25\n",
      "123/123 [==============================] - 9s 77ms/step - loss: 1.9057e-04\n"
     ]
    }
   ],
   "source": [
    "# Entrenar el modelo\n",
    "train_mains = X_batch \n",
    "train_meter = Y_batch \n",
    "#<<<<\n",
    "modelo_entrenado4 = dae4.fit(train_mains, train_meter, epochs=25)"
   ]
  },
  {
   "cell_type": "code",
   "execution_count": 123,
   "metadata": {},
   "outputs": [
    {
     "name": "stdout",
     "output_type": "stream",
     "text": [
      "Model: \"sequential_7\"\n",
      "_________________________________________________________________\n",
      "Layer (type)                 Output Shape              Param #   \n",
      "=================================================================\n",
      "conv1d_13 (Conv1D)           (None, 256, 16)           80        \n",
      "_________________________________________________________________\n",
      "dropout_32 (Dropout)         (None, 256, 16)           0         \n",
      "_________________________________________________________________\n",
      "dense_23 (Dense)             (None, 256, 8)            136       \n",
      "_________________________________________________________________\n",
      "dropout_33 (Dropout)         (None, 256, 8)            0         \n",
      "_________________________________________________________________\n",
      "flatten_7 (Flatten)          (None, 2048)              0         \n",
      "_________________________________________________________________\n",
      "dropout_34 (Dropout)         (None, 2048)              0         \n",
      "_________________________________________________________________\n",
      "dense_24 (Dense)             (None, 4096)              8392704   \n",
      "_________________________________________________________________\n",
      "dropout_35 (Dropout)         (None, 4096)              0         \n",
      "_________________________________________________________________\n",
      "dense_25 (Dense)             (None, 128)               524416    \n",
      "_________________________________________________________________\n",
      "dropout_36 (Dropout)         (None, 128)               0         \n",
      "_________________________________________________________________\n",
      "dense_26 (Dense)             (None, 256)               33024     \n",
      "_________________________________________________________________\n",
      "dropout_37 (Dropout)         (None, 256)               0         \n",
      "_________________________________________________________________\n",
      "dense_27 (Dense)             (None, 128)               32896     \n",
      "_________________________________________________________________\n",
      "dropout_38 (Dropout)         (None, 128)               0         \n",
      "_________________________________________________________________\n",
      "dense_28 (Dense)             (None, 4096)              528384    \n",
      "_________________________________________________________________\n",
      "dropout_39 (Dropout)         (None, 4096)              0         \n",
      "_________________________________________________________________\n",
      "reshape_7 (Reshape)          (None, 256, 16)           0         \n",
      "_________________________________________________________________\n",
      "conv1d_14 (Conv1D)           (None, 256, 1)            65        \n",
      "=================================================================\n",
      "Total params: 9,511,705\n",
      "Trainable params: 9,511,705\n",
      "Non-trainable params: 0\n",
      "_________________________________________________________________\n"
     ]
    }
   ],
   "source": [
    "#<<<<<<\n",
    "dae4.summary()"
   ]
  },
  {
   "cell_type": "markdown",
   "metadata": {},
   "source": [
    "# Datos de test"
   ]
  },
  {
   "cell_type": "code",
   "execution_count": 124,
   "metadata": {},
   "outputs": [],
   "source": [
    "#14. Carga los datos completos\n",
    "test = DataSet('C:\\\\Users\\\\josel\\\\SmartMeter\\\\OrdenandoTodo\\\\redd.h5')\n",
    "#15. Define el tamaño de la muestra de test iniciando justo donde termina el train\n",
    "test.set_window(start=\"30-4-2011\") \n",
    "#16. Selecciona los electrodomesticos del primer edificio\n",
    "test_elec = test.buildings[1].elec\n",
    "#17. Selecciona el medidor central del edificio\n",
    "test_mains = test_elec.mains().all_meters()[0]\n",
    "test_meter = test_elec.submeters()['fridge']"
   ]
  },
  {
   "cell_type": "code",
   "execution_count": 125,
   "metadata": {},
   "outputs": [],
   "source": [
    "#18. Define un array para timeframes vacio en este almacenare\n",
    "# los tiempos donde el medidor estaba en buen funcionamiento\n",
    "timeframes = []\n",
    "\n",
    "#19. Crea un string con el nombre del edificio mas el id del edificio que lo\n",
    "#toma desde los metadatos \n",
    "#ejemplo building1\n",
    "building_path = '/building{}'.format(test_mains.building())\n",
    "#20. Ahora crea el nombre de la ruta al medidor 1 del edificio en cuestión\n",
    "#Pej.  building1/elec/meter1\n",
    "mains_data_location = building_path + '/elec/meter1'\n",
    "\n",
    "#21. Variable de control datos estan disponibles\n",
    "data_is_available = False"
   ]
  },
  {
   "cell_type": "code",
   "execution_count": 126,
   "metadata": {},
   "outputs": [
    {
     "data": {
      "text/plain": [
       "[TimeFrame(start='2011-04-30 00:00:00-04:00', end='2011-05-01 09:44:42-04:00', empty=False),\n",
       " TimeFrame(start='2011-05-01 09:47:18-04:00', end='2011-05-02 17:04:59-04:00', empty=False),\n",
       " TimeFrame(start='2011-05-02 17:07:27-04:00', end='2011-05-03 17:30:17-04:00', empty=False),\n",
       " TimeFrame(start='2011-05-03 17:32:49-04:00', end='2011-05-03 17:33:44-04:00', empty=False),\n",
       " TimeFrame(start='2011-05-06 10:51:46-04:00', end='2011-05-07 01:53:10-04:00', empty=False),\n",
       " TimeFrame(start='2011-05-07 01:53:55-04:00', end='2011-05-07 02:38:15-04:00', empty=False),\n",
       " TimeFrame(start='2011-05-07 02:40:43-04:00', end='2011-05-07 11:59:16-04:00', empty=False),\n",
       " TimeFrame(start='2011-05-11 03:19:43-04:00', end='2011-05-12 17:48:38-04:00', empty=False),\n",
       " TimeFrame(start='2011-05-12 20:14:30-04:00', end='2011-05-13 05:16:24-04:00', empty=False),\n",
       " TimeFrame(start='2011-05-22 16:04:46-04:00', end='2011-05-22 23:39:01-04:00', empty=False),\n",
       " TimeFrame(start='2011-05-22 23:41:35-04:00', end='2011-05-23 09:22:08-04:00', empty=False),\n",
       " TimeFrame(start='2011-05-23 10:31:34-04:00', end='2011-05-24 14:32:05-04:00', empty=False),\n",
       " TimeFrame(start='2011-05-24 15:55:33-04:00', end='2011-05-24 15:57:02-04:00', empty=False)]"
      ]
     },
     "execution_count": 126,
     "metadata": {},
     "output_type": "execute_result"
    }
   ],
   "source": [
    "#22. Verificar los tiempos de buen funcionamiento del medidor central\n",
    "load_kwargs.setdefault('sections', test_mains.good_sections())"
   ]
  },
  {
   "cell_type": "code",
   "execution_count": 127,
   "metadata": {},
   "outputs": [],
   "source": [
    "#23. Defino una lista que contendra los instantes de buen funcionamiento \n",
    "# que cumplan con el tamaño de muestra\n",
    "timeframes = []"
   ]
  },
  {
   "cell_type": "code",
   "execution_count": 128,
   "metadata": {},
   "outputs": [],
   "source": [
    "#output_datastore4.close()"
   ]
  },
  {
   "cell_type": "code",
   "execution_count": 129,
   "metadata": {},
   "outputs": [],
   "source": [
    "#<<<<<<<\n",
    "output_datastore4 = pd.HDFStore(\"predict4_V3.h5\", \"w\")\n",
    "#output_datastore4.close()"
   ]
  },
  {
   "cell_type": "code",
   "execution_count": 130,
   "metadata": {},
   "outputs": [
    {
     "name": "stdout",
     "output_type": "stream",
     "text": [
      "New sensible chunk: 121482 size of data\n",
      "New sensible chunk: 112661 size of data\n",
      "New sensible chunk: 87770 size of data\n",
      "New sensible chunk: 54084 size of data\n",
      "New sensible chunk: 2660 size of data\n",
      "New sensible chunk: 33513 size of data\n",
      "New sensible chunk: 138535 size of data\n",
      "New sensible chunk: 32514 size of data\n",
      "New sensible chunk: 27255 size of data\n",
      "New sensible chunk: 34833 size of data\n",
      "New sensible chunk: 100831 size of data\n"
     ]
    }
   ],
   "source": [
    "#24. Recorro todas los tramos de test para el medidor central en buen funcionamiento\n",
    "MIN_CHUNK_LENGTH = sequence_length #Tamaño del paso de ventana\n",
    "id_serie = 0\n",
    "for chunk in test_mains.power_series(**load_kwargs):\n",
    "    #25. Si el tamaño de la serie cargada es menor al de las ventanas se descarta\n",
    "    if len(chunk) < MIN_CHUNK_LENGTH:\n",
    "        continue\n",
    "    #26. Imprime el tamaño de los tramos de series cargados\n",
    "    print(\"New sensible chunk: {} size of data\".format(len(chunk)))\n",
    "    \n",
    "    # Se guarda cada tramo de tiempo seleccionado\n",
    "    timeframes.append(chunk.timeframe)\n",
    "    # Nombre de las columnas de series de datos ('power', 'apparent')\n",
    "    measurement = chunk.name\n",
    "    \n",
    "    # Normaliza la serie chunk del medidor central cargada y la guarda en una nueva variable usando como\n",
    "    # maximo el valor del medidor centrar de entrenamiento\n",
    "    chunk2 = _normalize(chunk, mmax)\n",
    "\n",
    "    #Ahora debo crear una base de datos con las formas adecuadas para cada chunk\n",
    "    #cree una función que guarda las series en un archivo hdf5\n",
    "    #requiere el numero de la serie iniciando en 0 para usarla como id\n",
    "    \n",
    "    #llamar funcion, pasar chunk2 y el id_serie >>>>>>>>>>>>>>>>>>>\n",
    "    appliance_power = data_predict(chunk2, id_serie, dae4)\n",
    "    \n",
    "    # Todo valor negativo calculado lo iguala a cero\n",
    "    appliance_power[appliance_power < 0] = 0\n",
    "    \n",
    "    # Calcula el valor real mediante la desnormalización de los datos\n",
    "    appliance_power = _denormalize(appliance_power, mmax)\n",
    "    \n",
    "    # Convierte lista de tuplas a MultiIndex osea una estructura que contiene\n",
    "    # multiples indices. Lons nombres estan dados pos la serie main original\n",
    "    # chunk.name = ('power', 'apparent') \n",
    "    # cols = MultiIndex([('power', 'apparent')]\n",
    "    cols = pd.MultiIndex.from_tuples([chunk.name])\n",
    "    \n",
    "    # De los metadatos extrae el valor de la instancia de la medida\n",
    "    # que en si es como el id del dispositivo por ejemplo 5 para refrigerador\n",
    "    # en el edificio 1. Siempre es el del electrodomestico\n",
    "    meter_instance = test_meter.instance()\n",
    "    \n",
    "    # Ahora crea un df para cada serie predicha chunk con: \n",
    "    # appliance_power.values = los valores de la serie predicha\n",
    "    # index=appliance_power.index con indice el tiempo de dicha serie\n",
    "    # columns=cols da el nombre de las columnas ('power', 'apparent') es el nombre \n",
    "    # de la columna de medidas, el indice no tiene nombre\n",
    "    # y define los datos como  de punto flotante\n",
    "    df = pd.DataFrame(\n",
    "        appliance_power.values, index=appliance_power.index,\n",
    "        columns=cols, dtype=\"float32\")\n",
    "\n",
    "    # Define el nombre de la ruta de cada dispositivo /building1/elec/meter5 predicho\n",
    "    # Esta es la clave de los datos procesados para guardar en el h5 \n",
    "    # Esta clave se mantiene igual para cada tramo chunk que se haga la predicción\n",
    "    key = '{}/elec/meter{}'.format(building_path, meter_instance)\n",
    "\n",
    "    # En el archivo output_datastore4 se agregaran los datos calculados en \n",
    "    # cada predicción es el archivo hdf5 definido en el programa principal\n",
    "    # Para cada clave '/building1/elec/meter5' agrega el df\n",
    "    # Primero para la serie calculada para el electrodomestico '/building1/elec/meter5'\n",
    "    #<<<<<<<\n",
    "    output_datastore4.append(key, df)\n",
    "    \n",
    "    # Ahora tomo los datos del medidor objetivo pero de test\n",
    "    \n",
    "    \n",
    "\n",
    "    # Append aggregate data to output / Agregar datos agregados a la salida\n",
    "    # Crea un dataframe para la serie de datos del medidor central original\n",
    "    mains_df = pd.DataFrame(chunk, columns=cols, dtype=\"float32\")\n",
    "    # Y tambien la agrega al archivo de salidas calculadas quedando en orden\n",
    "    # datos predichos y luego datos originales del medidor con clave '/building1/elec/meter1'\n",
    "    # Al hacerlo de este modo cada nuevo df se agrega debajo del anterior segun el nombre de sus\n",
    "    # columnas. Deben tener el mismo nombre y orden para que se haga el match\n",
    "    #<<<<<<<\n",
    "    output_datastore4.append(key=mains_data_location, value=mains_df)"
   ]
  },
  {
   "cell_type": "code",
   "execution_count": 131,
   "metadata": {},
   "outputs": [
    {
     "name": "stdout",
     "output_type": "stream",
     "text": [
      "output_datastore.keys() ['/building1/elec/meter1', '/building1/elec/meter5']\n",
      "type(t6) <class 'pandas.core.frame.DataFrame'>\n",
      "t6.shape (746138, 1)\n"
     ]
    }
   ],
   "source": [
    "#<<<<<<<\n",
    "print(f\"output_datastore.keys() {output_datastore4.keys()}\")\n",
    "t7 = output_datastore4.get('/building1/elec/meter1')\n",
    "t8 = output_datastore4.get('/building1/elec/meter5') #Prediccion\n",
    "print(f\"type(t6) {type(t8)}\")\n",
    "print(f\"t6.shape {t8.shape}\")"
   ]
  },
  {
   "cell_type": "code",
   "execution_count": 132,
   "metadata": {},
   "outputs": [
    {
     "name": "stdout",
     "output_type": "stream",
     "text": [
      "type(test_meter_medidor) <class 'pandas.core.series.Series'>\n"
     ]
    },
    {
     "name": "stderr",
     "output_type": "stream",
     "text": [
      "C:\\Users\\josel\\Anaconda3\\envs\\nilmtk-env\\lib\\site-packages\\nilmtk\\elecmeter.py:446: UserWarning: The provided sample_period (1) is shorter than the meter's sample_period (3)\n",
      "  sample_period, default_sample_period\n"
     ]
    }
   ],
   "source": [
    "test_meter_medidor = test_meter.power_series(**load_kwargs) #Real\n",
    "test_meter_medidor = next(test_meter_medidor)\n",
    "print(f\"type(test_meter_medidor) {type(test_meter_medidor)}\")"
   ]
  },
  {
   "cell_type": "code",
   "execution_count": 133,
   "metadata": {
    "scrolled": false
   },
   "outputs": [
    {
     "data": {
      "text/plain": [
       "[<matplotlib.lines.Line2D at 0x17241e3a8d0>]"
      ]
     },
     "execution_count": 133,
     "metadata": {},
     "output_type": "execute_result"
    },
    {
     "data": {
      "image/png": "[encoded data removed]",
      "text/plain": [
       "<Figure size 432x288 with 1 Axes>"
      ]
     },
     "metadata": {
      "needs_background": "light"
     },
     "output_type": "display_data"
    }
   ],
   "source": [
    "plt.plot(t8[:28000])\n",
    "plt.plot(test_meter_medidor[:28000])"
   ]
  },
  {
   "cell_type": "markdown",
   "metadata": {},
   "source": [
    "### Metricas"
   ]
  },
  {
   "cell_type": "code",
   "execution_count": 109,
   "metadata": {},
   "outputs": [],
   "source": [
    "sections = [TimeFrame(start='2011-04-30 00:00:00-04:00', \n",
    "                                    end='2011-05-01 09:44:42-04:00'), \n",
    "                          TimeFrame(start='2011-05-01 09:47:18-04:00', \n",
    "                                    end='2011-05-02 17:04:59-04:00'), \n",
    "                          TimeFrame(start='2011-05-02 17:07:27-04:00', \n",
    "                                    end='2011-05-03 17:30:17-04:00'), \n",
    "                          TimeFrame(start='2011-05-03 17:32:49-04:00', \n",
    "                                    end='2011-05-03 17:33:44-04:00'), \n",
    "                          TimeFrame(start='2011-05-06 10:51:46-04:00', \n",
    "                                    end='2011-05-07 01:53:10-04:00'), \n",
    "                          TimeFrame(start='2011-05-07 01:53:55-04:00', \n",
    "                                    end='2011-05-07 02:38:15-04:00'), \n",
    "                          TimeFrame(start='2011-05-07 02:40:43-04:00', \n",
    "                                    end='2011-05-07 11:59:16-04:00'), \n",
    "                          TimeFrame(start='2011-05-11 03:19:43-04:00', \n",
    "                                    end='2011-05-12 17:48:38-04:00'), \n",
    "                          TimeFrame(start='2011-05-12 20:14:30-04:00', \n",
    "                                    end='2011-05-13 05:16:24-04:00'), \n",
    "                          TimeFrame(start='2011-05-22 16:04:46-04:00', \n",
    "                                    end='2011-05-22 23:39:01-04:00'), \n",
    "                          TimeFrame(start='2011-05-22 23:41:35-04:00', \n",
    "                                    end='2011-05-23 09:22:08-04:00'), \n",
    "                          TimeFrame(start='2011-05-23 10:31:34-04:00', \n",
    "                                    end='2011-05-24 14:32:05-04:00'), \n",
    "                          TimeFrame(start='2011-05-24 15:55:33-04:00', \n",
    "                                    end='2011-05-24 15:57:02-04:00')]"
   ]
  },
  {
   "cell_type": "code",
   "execution_count": 110,
   "metadata": {},
   "outputs": [],
   "source": [
    "#31. Metricas de rendimiento: Comparación entre lo predicho y lo real\n",
    "#32. Calcula los valores de tp, fp, fn, tn \n",
    "def tp_tn_fp_fn(states_pred, states_ground):\n",
    "    # Calcula los estados logicos con comparadores and 1 and 1 = True\n",
    "    tp = np.sum(np.logical_and(states_pred == 1, states_ground == 1))\n",
    "    fp = np.sum(np.logical_and(states_pred == 1, states_ground == 0))\n",
    "    fn = np.sum(np.logical_and(states_pred == 0, states_ground == 1))\n",
    "    tn = np.sum(np.logical_and(states_pred == 0, states_ground == 0))\n",
    "    return tp, tn, fp, fn\n",
    "\n",
    "#33. Calcula el recall\n",
    "def recall(tp,fn):\n",
    "    return tp/float(tp+fn)\n",
    "#34. La precision\n",
    "def precision(tp,fp):\n",
    "    return tp/float(tp+fp)\n",
    "#35. El valor f1\n",
    "def f1(prec,rec):\n",
    "    return 2 * (prec*rec) / float(prec+rec)\n",
    "#36. El accuracy\n",
    "def accuracy(tp, tn, p, n):\n",
    "    return (tp + tn) / float(p + n)\n",
    "\n",
    "#37. Umbral donde se determina que el dispositivo esta encendido\n",
    "# para el refrigerador se puede tomar un valor = 20W\n",
    "threshold = 10"
   ]
  },
  {
   "cell_type": "code",
   "execution_count": 114,
   "metadata": {},
   "outputs": [
    {
     "data": {
      "text/plain": [
       "DatetimeIndex(['2011-04-30 00:00:01-04:00', '2011-04-30 00:00:02-04:00',\n",
       "               '2011-04-30 00:00:03-04:00', '2011-04-30 00:00:04-04:00',\n",
       "               '2011-04-30 00:00:05-04:00', '2011-04-30 00:00:06-04:00',\n",
       "               '2011-04-30 00:00:07-04:00', '2011-04-30 00:00:08-04:00',\n",
       "               '2011-04-30 00:00:09-04:00', '2011-04-30 00:00:10-04:00',\n",
       "               ...\n",
       "               '2011-05-01 09:44:27-04:00', '2011-05-01 09:44:28-04:00',\n",
       "               '2011-05-01 09:44:29-04:00', '2011-05-01 09:44:30-04:00',\n",
       "               '2011-05-01 09:44:31-04:00', '2011-05-01 09:44:32-04:00',\n",
       "               '2011-05-01 09:44:33-04:00', '2011-05-01 09:44:34-04:00',\n",
       "               '2011-05-01 09:44:35-04:00', '2011-05-01 09:44:36-04:00'],\n",
       "              dtype='datetime64[ns, US/Eastern]', length=121476, freq='S')"
      ]
     },
     "execution_count": 114,
     "metadata": {},
     "output_type": "execute_result"
    }
   ],
   "source": [
    "#38. Defino los datos de predicción y test como padans.df\n",
    "id = 1\n",
    "#prediccion = t6[sections[id].start:sections[id].end]\n",
    "prediccion = t6\n",
    "#real = test_meter_medidor[sections[id].start:sections[id].end]\n",
    "real = test_meter_medidor\n",
    "#12. Une los indices comunes a las dos series de dispositivo y medidor\n",
    "# Retorna una serie con los indices comunes\n",
    "ix = prediccion.index.intersection(real.index)\n",
    "ix"
   ]
  },
  {
   "cell_type": "code",
   "execution_count": null,
   "metadata": {},
   "outputs": [],
   "source": [
    "#39. Detección de encendido para lo predicho y lo real\n",
    "pr = np.array([0 if (p)<threshold else 1 for p in prediccion.values])  #Maestro predicho\n",
    "gr = np.array([0 if p<threshold else 1 for p in real.values])    #Esclavo real\n",
    "\n",
    "#40. Calculo de verdaderos positivos, verdaderos negativos, \n",
    "# falsos positivos, falsos negativos, para el estado de encendido\n",
    "tp, tn, fp, fn = tp_tn_fp_fn(pr,gr)\n",
    "\n",
    "# 41. Calculo del total de encendidos\n",
    "# Suma de todos los 1 en pr o predicho\n",
    "p = sum(pr)\n",
    "#42. Calculo del total de apagados\n",
    "# n es tamaño de pr - p que es su suma\n",
    "n = len(pr) - p"
   ]
  },
  {
   "cell_type": "code",
   "execution_count": null,
   "metadata": {},
   "outputs": [],
   "source": [
    "#43. Calculo el rendimiento mediante funciones propias de cada medida \n",
    "res_recall = recall(tp,fn)              # recall\n",
    "res_precision = precision(tp,fp)        # precision\n",
    "res_f1 = f1(res_precision,res_recall)   # f1 \n",
    "res_accuracy = accuracy(tp,tn,p,n)      # accuracy\n",
    "\n",
    "#44. Imprimir los valores resultantes\n",
    "print(f\"res_recall -------{rpaf[0]}\")\n",
    "print(f\"res_precision ----{rpaf[1]}\")\n",
    "print(f\"res_f1 -----------{rpaf[2]}\")\n",
    "print(f\"res_accuracy -----{rpaf[2]}\")"
   ]
  },
  {
   "cell_type": "markdown",
   "metadata": {},
   "source": [
    "# Agregando mas capas intermedias"
   ]
  },
  {
   "cell_type": "code",
   "execution_count": 116,
   "metadata": {},
   "outputs": [],
   "source": [
    "# Una estructura con 256 pasos en el tamaño de la muestra\n",
    "sequence_length = 256"
   ]
  },
  {
   "cell_type": "code",
   "execution_count": 117,
   "metadata": {},
   "outputs": [
    {
     "name": "stderr",
     "output_type": "stream",
     "text": [
      "C:\\Users\\josel\\Anaconda3\\envs\\nilmtk-env\\lib\\site-packages\\nilmtk\\elecmeter.py:446: UserWarning: The provided sample_period (1) is shorter than the meter's sample_period (3)\n",
      "  sample_period, default_sample_period\n"
     ]
    },
    {
     "name": "stdout",
     "output_type": "stream",
     "text": [
      "mainchunk tipo = <class 'pandas.core.series.Series'> tamaño = (1003071,)\n",
      "meterchunk tipo = <class 'pandas.core.series.Series'> tamaño = (1003066,)\n",
      "DatetimeIndex(['2011-04-18 09:22:13-04:00', '2011-04-18 09:22:14-04:00',\n",
      "               '2011-04-18 09:22:15-04:00', '2011-04-18 09:22:16-04:00',\n",
      "               '2011-04-18 09:22:17-04:00', '2011-04-18 09:22:18-04:00',\n",
      "               '2011-04-18 09:22:19-04:00', '2011-04-18 09:22:20-04:00',\n",
      "               '2011-04-18 09:22:21-04:00', '2011-04-18 09:22:22-04:00',\n",
      "               ...\n",
      "               '2011-04-29 23:59:49-04:00', '2011-04-29 23:59:50-04:00',\n",
      "               '2011-04-29 23:59:51-04:00', '2011-04-29 23:59:52-04:00',\n",
      "               '2011-04-29 23:59:53-04:00', '2011-04-29 23:59:54-04:00',\n",
      "               '2011-04-29 23:59:55-04:00', '2011-04-29 23:59:56-04:00',\n",
      "               '2011-04-29 23:59:57-04:00', '2011-04-29 23:59:58-04:00'],\n",
      "              dtype='datetime64[ns, US/Eastern]', length=1003066, freq='S')\n",
      "X_batch (3919, 256, 1)\n",
      "Y_batch (3919, 256, 1)\n"
     ]
    }
   ],
   "source": [
    "#1. Cargar los datos para entrenamiento\n",
    "train = DataSet('C:\\\\Users\\\\josel\\\\SmartMeter\\\\OrdenandoTodo\\\\redd.h5')\n",
    "train.set_window(end=\"30-4-2011\")      # Usando como final el 30 de abril\n",
    "train_elec = train.buildings[1].elec\n",
    "\n",
    "#3. Carga como medidor de entrenamiento el medidor central y el medidor para un dispositivo Fridge\n",
    "train_mains = train_elec.mains().all_meters()[0] # El medidor agregado o central que proporciona la entrada\n",
    "train_meter = train_elec.submeters()['fridge'] # El medidor de microondas que se utiliza como objetivo de entrenamiento.\n",
    "#4. Cargar los datos de las series definidas\n",
    "# Frecuencia de la muestra\n",
    "load_kwargs = {'sample_period': 1}\n",
    "# Esta función crea un generador de datos, si es necesario la remuestrea\n",
    "# al periodo de tiempo definida por el usuario\n",
    "main_power_series = train_mains.power_series(**load_kwargs)\n",
    "meter_power_series = train_meter.power_series(**load_kwargs)\n",
    "\n",
    "#5. Con next des empaqueta los datos en series de pandas antes definidas por un generador\n",
    "mainchunk = next(main_power_series)          # Datos del medidor central\n",
    "meterchunk = next(meter_power_series)        # Datos del electrodomestico\n",
    "\n",
    "print(f\"mainchunk tipo = {type(mainchunk)} tamaño = {mainchunk.shape}\")\n",
    "print(f\"meterchunk tipo = {type(meterchunk)} tamaño = {meterchunk.shape}\")\n",
    "\n",
    "#6. Calcula el valor maximo del medidor central\n",
    "mmax = None\n",
    "if mmax == None:\n",
    "    mmax = mainchunk.max()\n",
    "mmax\n",
    "\n",
    "#7. Funciones para normalizar los datos\n",
    "# Normaliza las series de tiempo teniendo en cuenta el valor maximo\n",
    "# mmax medido por el medidor central\n",
    "def _normalize(chunk, mmax):\n",
    "    tchunk = chunk / mmax\n",
    "    return tchunk\n",
    "\n",
    "# Des Normaliza las series de tiempo teniendo en cuenta el valor maximo\n",
    "# mmax medido por el medidor central\n",
    "def _denormalize(chunk, mmax):\n",
    "    tchunk = chunk * mmax\n",
    "    return tchunk\n",
    "\n",
    "#8. #Normaliza las series\n",
    "mainchunk = _normalize(mainchunk, mmax)\n",
    "meterchunk = _normalize(meterchunk, mmax)\n",
    "mainchunk.head(5)\n",
    "\n",
    "#9. Tamaño de la secuencia definida para el modelo\n",
    "s = sequence_length\n",
    "#10. Remplaza valores NaNs con 0s\n",
    "mainchunk.fillna(0, inplace=True)\n",
    "meterchunk.fillna(0, inplace=True)\n",
    "\n",
    "#11. Une los indices comunes a las dos series de dispositivo y medidor\n",
    "# Retorna una serie con los indices comunes en fechas\n",
    "ix = mainchunk.index.intersection(meterchunk.index)\n",
    "print(ix)\n",
    "\n",
    "#11. Toma los datos en las fechas coincidentes y descarta las demas\n",
    "# seleccionando por medio de los indices contenidos en ix\n",
    "mainchunk = mainchunk[ix]\n",
    "meterchunk = meterchunk[ix]\n",
    "\n",
    "#12. Tamaño del batch de ceros\n",
    "adicion = s - (len(ix) % s)\n",
    "#A cada serie de medidor se le agrega el batch\n",
    "#Se definen en función del tamaño de la muestra\n",
    "#Esta operación elimina el indice de tipo tiempo\n",
    "X_batch = np.append(mainchunk, np.zeros(adicion))    # Medidor central\n",
    "Y_batch = np.append(meterchunk, np.zeros(adicion))   # Medidor de dispositivo\n",
    "\n",
    "#13. Cambia la forma de los datos quedando la señal en tramos de 256 puntos chunk\n",
    "#Para el ventanas de 256 seran (muestras = 3919, ventana = 256, Caracteristica = 1)\n",
    "X_batch = np.reshape(X_batch, (int(len(X_batch) / s), s, 1))\n",
    "Y_batch = np.reshape(Y_batch, (int(len(Y_batch) / s), s, 1))\n",
    "print(f\"X_batch {X_batch.shape}\")\n",
    "print(f\"Y_batch {Y_batch.shape}\")"
   ]
  },
  {
   "cell_type": "markdown",
   "metadata": {},
   "source": [
    "## Modelo 3\n",
    "Por dinamismo creare los modelos a modo de funciones, de esta manera puedo guardar un modelo dentro de una variable que puedo invocar dentro de otras funciones. "
   ]
  },
  {
   "cell_type": "code",
   "execution_count": 91,
   "metadata": {},
   "outputs": [],
   "source": [
    "def auto_encoder3(sequence_len):\n",
    "    '''Crear el modulo Auto encoder descrito en el articulo\n",
    "    '''\n",
    "    #Crea el contenedor del modelo\n",
    "    model = Sequential()\n",
    "\n",
    "    # 1D Conv filtros = 8, kernel = 4, entrada 256 pasos de 1 feature, padding igual, paso en 1\n",
    "    model.add(Conv1D(16, 4, activation=\"linear\", input_shape=(sequence_len, 1), padding=\"same\", strides=1))\n",
    "    model.add(Dropout(0.1))\n",
    "    model.add(Dense(8, activation = 'linear'))\n",
    "    model.add(Dropout(0.1))    \n",
    "    #Aplanar la salida\n",
    "    model.add(Flatten())\n",
    "    \n",
    "\n",
    "    #Auto encoder\n",
    "    # Fully Connected Layers abandono del 20%\n",
    "    model.add(Dropout(0.2))\n",
    "    # Neuronas 16 veces el tamaño de la ventana de tiempo = 2048 nodos\n",
    "    model.add(Dense((sequence_len-0)*16, activation='relu'))\n",
    "    #Abandono del 20% capa con 128 neuronas\n",
    "    model.add(Dropout(0.2))\n",
    "    model.add(Dense(128, activation='relu'))\n",
    "    #Abandono del 20% capa con 2048 nodos\n",
    "    model.add(Dropout(0.2))\n",
    "    model.add(Dense((sequence_len-0)*16, activation='relu'))\n",
    "    model.add(Dropout(0.2))\n",
    "\n",
    "    # 1D Conv\n",
    "    # La salida de la capa anterior es una secuencia aplanada. Es necesario cambiar\n",
    "    # el formato de los datos de salida para obtener datos de forma 256,8 similar\n",
    "    # a los pasos y filtros de la primer convolución\n",
    "    model.add(Reshape(((sequence_len-0), 16)))\n",
    "    #Entrega estos datos a una nueva capa convolucional 1 filtro con kernel = 4\n",
    "    #Es un solo filtro debido a que deseamos obtener una sola serie. \n",
    "    model.add(Conv1D(1, 4, activation=\"linear\", padding=\"same\", strides=1))\n",
    "    #Compila el modelo con perdida mse y optimizador de adam\n",
    "    model.compile(loss='mse', optimizer='adam')\n",
    "    #Grafico del modelo para exportar\n",
    "    #plot_model(model, to_file='model.png', show_shapes=True)\n",
    "\n",
    "    return model"
   ]
  },
  {
   "cell_type": "code",
   "execution_count": 92,
   "metadata": {},
   "outputs": [],
   "source": [
    "dae3 = auto_encoder3(sequence_length)"
   ]
  },
  {
   "cell_type": "code",
   "execution_count": 93,
   "metadata": {},
   "outputs": [
    {
     "name": "stdout",
     "output_type": "stream",
     "text": [
      "Epoch 1/25\n",
      "123/123 [==============================] - 10s 76ms/step - loss: 3.8558e-04\n",
      "Epoch 2/25\n",
      "123/123 [==============================] - 9s 75ms/step - loss: 2.6906e-04\n",
      "Epoch 3/25\n",
      "123/123 [==============================] - 9s 74ms/step - loss: 2.4375e-04\n",
      "Epoch 4/25\n",
      "123/123 [==============================] - 9s 76ms/step - loss: 2.4298e-04\n",
      "Epoch 5/25\n",
      "123/123 [==============================] - 9s 75ms/step - loss: 2.2671e-04\n",
      "Epoch 6/25\n",
      "123/123 [==============================] - 9s 75ms/step - loss: 2.5049e-04\n",
      "Epoch 7/25\n",
      "123/123 [==============================] - 9s 74ms/step - loss: 2.3668e-04\n",
      "Epoch 8/25\n",
      "123/123 [==============================] - 9s 74ms/step - loss: 2.3368e-04\n",
      "Epoch 9/25\n",
      "123/123 [==============================] - 9s 75ms/step - loss: 2.3725e-04\n",
      "Epoch 10/25\n",
      "123/123 [==============================] - 9s 76ms/step - loss: 2.4787e-04\n",
      "Epoch 11/25\n",
      "123/123 [==============================] - 9s 75ms/step - loss: 2.2195e-04\n",
      "Epoch 12/25\n",
      "123/123 [==============================] - 9s 74ms/step - loss: 2.6844e-04\n",
      "Epoch 13/25\n",
      "123/123 [==============================] - 9s 75ms/step - loss: 2.1687e-04\n",
      "Epoch 14/25\n",
      "123/123 [==============================] - 9s 75ms/step - loss: 1.9725e-04\n",
      "Epoch 15/25\n",
      "123/123 [==============================] - 9s 75ms/step - loss: 2.0619e-04\n",
      "Epoch 16/25\n",
      "123/123 [==============================] - 9s 75ms/step - loss: 1.9755e-04\n",
      "Epoch 17/25\n",
      "123/123 [==============================] - 9s 76ms/step - loss: 2.2952e-04\n",
      "Epoch 18/25\n",
      "123/123 [==============================] - 10s 79ms/step - loss: 2.4616e-04\n",
      "Epoch 19/25\n",
      "123/123 [==============================] - 10s 78ms/step - loss: 2.1355e-04\n",
      "Epoch 20/25\n",
      "123/123 [==============================] - 10s 78ms/step - loss: 2.1150e-04\n",
      "Epoch 21/25\n",
      "123/123 [==============================] - 9s 77ms/step - loss: 2.1006e-04\n",
      "Epoch 22/25\n",
      "123/123 [==============================] - 9s 77ms/step - loss: 2.1110e-04\n",
      "Epoch 23/25\n",
      "123/123 [==============================] - 9s 77ms/step - loss: 2.0218e-04\n",
      "Epoch 24/25\n",
      "123/123 [==============================] - 10s 77ms/step - loss: 2.2226e-04\n",
      "Epoch 25/25\n",
      "123/123 [==============================] - 10s 78ms/step - loss: 2.2496e-04\n"
     ]
    }
   ],
   "source": [
    "# Entrenar el modelo\n",
    "train_mains = X_batch \n",
    "train_meter = Y_batch \n",
    "modelo_entrenado = dae3.fit(train_mains, train_meter, epochs=25)"
   ]
  },
  {
   "cell_type": "code",
   "execution_count": 94,
   "metadata": {},
   "outputs": [
    {
     "name": "stdout",
     "output_type": "stream",
     "text": [
      "Model: \"sequential_6\"\n",
      "_________________________________________________________________\n",
      "Layer (type)                 Output Shape              Param #   \n",
      "=================================================================\n",
      "conv1d_11 (Conv1D)           (None, 256, 16)           80        \n",
      "_________________________________________________________________\n",
      "dropout_26 (Dropout)         (None, 256, 16)           0         \n",
      "_________________________________________________________________\n",
      "dense_19 (Dense)             (None, 256, 8)            136       \n",
      "_________________________________________________________________\n",
      "dropout_27 (Dropout)         (None, 256, 8)            0         \n",
      "_________________________________________________________________\n",
      "flatten_6 (Flatten)          (None, 2048)              0         \n",
      "_________________________________________________________________\n",
      "dropout_28 (Dropout)         (None, 2048)              0         \n",
      "_________________________________________________________________\n",
      "dense_20 (Dense)             (None, 4096)              8392704   \n",
      "_________________________________________________________________\n",
      "dropout_29 (Dropout)         (None, 4096)              0         \n",
      "_________________________________________________________________\n",
      "dense_21 (Dense)             (None, 128)               524416    \n",
      "_________________________________________________________________\n",
      "dropout_30 (Dropout)         (None, 128)               0         \n",
      "_________________________________________________________________\n",
      "dense_22 (Dense)             (None, 4096)              528384    \n",
      "_________________________________________________________________\n",
      "dropout_31 (Dropout)         (None, 4096)              0         \n",
      "_________________________________________________________________\n",
      "reshape_6 (Reshape)          (None, 256, 16)           0         \n",
      "_________________________________________________________________\n",
      "conv1d_12 (Conv1D)           (None, 256, 1)            65        \n",
      "=================================================================\n",
      "Total params: 9,445,785\n",
      "Trainable params: 9,445,785\n",
      "Non-trainable params: 0\n",
      "_________________________________________________________________\n"
     ]
    }
   ],
   "source": [
    "dae3.summary()"
   ]
  },
  {
   "cell_type": "markdown",
   "metadata": {},
   "source": [
    "# Datos de test"
   ]
  },
  {
   "cell_type": "code",
   "execution_count": 95,
   "metadata": {},
   "outputs": [],
   "source": [
    "#14. Carga los datos completos\n",
    "test = DataSet('C:\\\\Users\\\\josel\\\\SmartMeter\\\\OrdenandoTodo\\\\redd.h5')\n",
    "#15. Define el tamaño de la muestra de test iniciando justo donde termina el train\n",
    "test.set_window(start=\"30-4-2011\") \n",
    "#16. Selecciona los electrodomesticos del primer edificio\n",
    "test_elec = test.buildings[1].elec\n",
    "#17. Selecciona el medidor central del edificio\n",
    "test_mains = test_elec.mains().all_meters()[0]\n",
    "test_meter = test_elec.submeters()['fridge']"
   ]
  },
  {
   "cell_type": "code",
   "execution_count": 96,
   "metadata": {},
   "outputs": [],
   "source": [
    "#18. Define un array para timeframes vacio en este almacenare\n",
    "# los tiempos donde el medidor estaba en buen funcionamiento\n",
    "timeframes = []\n",
    "\n",
    "#19. Crea un string con el nombre del edificio mas el id del edificio que lo\n",
    "#toma desde los metadatos \n",
    "#ejemplo building1\n",
    "building_path = '/building{}'.format(test_mains.building())\n",
    "#20. Ahora crea el nombre de la ruta al medidor 1 del edificio en cuestión\n",
    "#Pej.  building1/elec/meter1\n",
    "mains_data_location = building_path + '/elec/meter1'\n",
    "\n",
    "#21. Variable de control datos estan disponibles\n",
    "data_is_available = False"
   ]
  },
  {
   "cell_type": "code",
   "execution_count": 97,
   "metadata": {},
   "outputs": [
    {
     "data": {
      "text/plain": [
       "[TimeFrame(start='2011-04-30 00:00:00-04:00', end='2011-05-01 09:44:42-04:00', empty=False),\n",
       " TimeFrame(start='2011-05-01 09:47:18-04:00', end='2011-05-02 17:04:59-04:00', empty=False),\n",
       " TimeFrame(start='2011-05-02 17:07:27-04:00', end='2011-05-03 17:30:17-04:00', empty=False),\n",
       " TimeFrame(start='2011-05-03 17:32:49-04:00', end='2011-05-03 17:33:44-04:00', empty=False),\n",
       " TimeFrame(start='2011-05-06 10:51:46-04:00', end='2011-05-07 01:53:10-04:00', empty=False),\n",
       " TimeFrame(start='2011-05-07 01:53:55-04:00', end='2011-05-07 02:38:15-04:00', empty=False),\n",
       " TimeFrame(start='2011-05-07 02:40:43-04:00', end='2011-05-07 11:59:16-04:00', empty=False),\n",
       " TimeFrame(start='2011-05-11 03:19:43-04:00', end='2011-05-12 17:48:38-04:00', empty=False),\n",
       " TimeFrame(start='2011-05-12 20:14:30-04:00', end='2011-05-13 05:16:24-04:00', empty=False),\n",
       " TimeFrame(start='2011-05-22 16:04:46-04:00', end='2011-05-22 23:39:01-04:00', empty=False),\n",
       " TimeFrame(start='2011-05-22 23:41:35-04:00', end='2011-05-23 09:22:08-04:00', empty=False),\n",
       " TimeFrame(start='2011-05-23 10:31:34-04:00', end='2011-05-24 14:32:05-04:00', empty=False),\n",
       " TimeFrame(start='2011-05-24 15:55:33-04:00', end='2011-05-24 15:57:02-04:00', empty=False)]"
      ]
     },
     "execution_count": 97,
     "metadata": {},
     "output_type": "execute_result"
    }
   ],
   "source": [
    "#22. Verificar los tiempos de buen funcionamiento del medidor central\n",
    "load_kwargs.setdefault('sections', test_mains.good_sections())"
   ]
  },
  {
   "cell_type": "code",
   "execution_count": 98,
   "metadata": {},
   "outputs": [],
   "source": [
    "#23. Defino una lista que contendra los instantes de buen funcionamiento \n",
    "# que cumplan con el tamaño de muestra\n",
    "timeframes = []"
   ]
  },
  {
   "cell_type": "code",
   "execution_count": 99,
   "metadata": {},
   "outputs": [],
   "source": [
    "#output_datastore3.close()"
   ]
  },
  {
   "cell_type": "code",
   "execution_count": 100,
   "metadata": {},
   "outputs": [],
   "source": [
    "output_datastore3 = pd.HDFStore(\"predict3_V3.h5\", \"w\")\n",
    "#output_datastore3.close()"
   ]
  },
  {
   "cell_type": "code",
   "execution_count": 101,
   "metadata": {},
   "outputs": [
    {
     "name": "stdout",
     "output_type": "stream",
     "text": [
      "New sensible chunk: 121482 size of data\n",
      "New sensible chunk: 112661 size of data\n",
      "New sensible chunk: 87770 size of data\n",
      "New sensible chunk: 54084 size of data\n",
      "New sensible chunk: 2660 size of data\n",
      "New sensible chunk: 33513 size of data\n",
      "New sensible chunk: 138535 size of data\n",
      "New sensible chunk: 32514 size of data\n",
      "New sensible chunk: 27255 size of data\n",
      "New sensible chunk: 34833 size of data\n",
      "New sensible chunk: 100831 size of data\n"
     ]
    }
   ],
   "source": [
    "#24. Recorro todas los tramos de test para el medidor central en buen funcionamiento\n",
    "MIN_CHUNK_LENGTH = sequence_length #Tamaño del paso de ventana\n",
    "id_serie = 0\n",
    "for chunk in test_mains.power_series(**load_kwargs):\n",
    "    #25. Si el tamaño de la serie cargada es menor al de las ventanas se descarta\n",
    "    if len(chunk) < MIN_CHUNK_LENGTH:\n",
    "        continue\n",
    "    #26. Imprime el tamaño de los tramos de series cargados\n",
    "    print(\"New sensible chunk: {} size of data\".format(len(chunk)))\n",
    "    \n",
    "    # Se guarda cada tramo de tiempo seleccionado\n",
    "    timeframes.append(chunk.timeframe)\n",
    "    # Nombre de las columnas de series de datos ('power', 'apparent')\n",
    "    measurement = chunk.name\n",
    "    \n",
    "    # Normaliza la serie chunk del medidor central cargada y la guarda en una nueva variable usando como\n",
    "    # maximo el valor del medidor centrar de entrenamiento\n",
    "    chunk2 = _normalize(chunk, mmax)\n",
    "\n",
    "    #Ahora debo crear una base de datos con las formas adecuadas para cada chunk\n",
    "    #cree una función que guarda las series en un archivo hdf5\n",
    "    #requiere el numero de la serie iniciando en 0 para usarla como id\n",
    "    \n",
    "    #llamar funcion, pasar chunk2 y el id_serie >>>>>>>>>>>>>>>>>>>\n",
    "    appliance_power = data_predict(chunk2, id_serie, dae3)\n",
    "    \n",
    "    # Todo valor negativo calculado lo iguala a cero\n",
    "    appliance_power[appliance_power < 0] = 0\n",
    "    \n",
    "    # Calcula el valor real mediante la desnormalización de los datos\n",
    "    appliance_power = _denormalize(appliance_power, mmax)\n",
    "    \n",
    "    # Convierte lista de tuplas a MultiIndex osea una estructura que contiene\n",
    "    # multiples indices. Lons nombres estan dados pos la serie main original\n",
    "    # chunk.name = ('power', 'apparent') \n",
    "    # cols = MultiIndex([('power', 'apparent')]\n",
    "    cols = pd.MultiIndex.from_tuples([chunk.name])\n",
    "    \n",
    "    # De los metadatos extrae el valor de la instancia de la medida\n",
    "    # que en si es como el id del dispositivo por ejemplo 5 para refrigerador\n",
    "    # en el edificio 1. Siempre es el del electrodomestico\n",
    "    meter_instance = test_meter.instance()\n",
    "    \n",
    "    # Ahora crea un df para cada serie predicha chunk con: \n",
    "    # appliance_power.values = los valores de la serie predicha\n",
    "    # index=appliance_power.index con indice el tiempo de dicha serie\n",
    "    # columns=cols da el nombre de las columnas ('power', 'apparent') es el nombre \n",
    "    # de la columna de medidas, el indice no tiene nombre\n",
    "    # y define los datos como  de punto flotante\n",
    "    df = pd.DataFrame(\n",
    "        appliance_power.values, index=appliance_power.index,\n",
    "        columns=cols, dtype=\"float32\")\n",
    "\n",
    "    # Define el nombre de la ruta de cada dispositivo /building1/elec/meter5 predicho\n",
    "    # Esta es la clave de los datos procesados para guardar en el h5 \n",
    "    # Esta clave se mantiene igual para cada tramo chunk que se haga la predicción\n",
    "    key = '{}/elec/meter{}'.format(building_path, meter_instance)\n",
    "\n",
    "    # En el archivo output_datastore2 se agregaran los datos calculados en \n",
    "    # cada predicción es el archivo hdf5 definido en el programa principal\n",
    "    # Para cada clave '/building1/elec/meter5' agrega el df\n",
    "    # Primero para la serie calculada para el electrodomestico '/building1/elec/meter5'\n",
    "    output_datastore3.append(key, df)\n",
    "    \n",
    "    # Ahora tomo los datos del medidor objetivo pero de test\n",
    "    \n",
    "    \n",
    "\n",
    "    # Append aggregate data to output / Agregar datos agregados a la salida\n",
    "    # Crea un dataframe para la serie de datos del medidor central original\n",
    "    mains_df = pd.DataFrame(chunk, columns=cols, dtype=\"float32\")\n",
    "    # Y tambien la agrega al archivo de salidas calculadas quedando en orden\n",
    "    # datos predichos y luego datos originales del medidor con clave '/building1/elec/meter1'\n",
    "    # Al hacerlo de este modo cada nuevo df se agrega debajo del anterior segun el nombre de sus\n",
    "    # columnas. Deben tener el mismo nombre y orden para que se haga el match\n",
    "    output_datastore3.append(key=mains_data_location, value=mains_df)"
   ]
  },
  {
   "cell_type": "code",
   "execution_count": 102,
   "metadata": {},
   "outputs": [
    {
     "name": "stdout",
     "output_type": "stream",
     "text": [
      "output_datastore.keys() ['/building1/elec/meter1', '/building1/elec/meter5']\n",
      "type(t6) <class 'pandas.core.frame.DataFrame'>\n",
      "t6.shape (746138, 1)\n"
     ]
    }
   ],
   "source": [
    "print(f\"output_datastore.keys() {output_datastore3.keys()}\")\n",
    "t5 = output_datastore3.get('/building1/elec/meter1')\n",
    "t6 = output_datastore3.get('/building1/elec/meter5') #Prediccion\n",
    "print(f\"type(t6) {type(t6)}\")\n",
    "print(f\"t6.shape {t6.shape}\")"
   ]
  },
  {
   "cell_type": "code",
   "execution_count": 103,
   "metadata": {},
   "outputs": [
    {
     "name": "stdout",
     "output_type": "stream",
     "text": [
      "type(test_meter_medidor) <class 'pandas.core.series.Series'>\n"
     ]
    },
    {
     "name": "stderr",
     "output_type": "stream",
     "text": [
      "C:\\Users\\josel\\Anaconda3\\envs\\nilmtk-env\\lib\\site-packages\\nilmtk\\elecmeter.py:446: UserWarning: The provided sample_period (1) is shorter than the meter's sample_period (3)\n",
      "  sample_period, default_sample_period\n"
     ]
    }
   ],
   "source": [
    "test_meter_medidor = test_meter.power_series(**load_kwargs) #Real\n",
    "test_meter_medidor = next(test_meter_medidor)\n",
    "print(f\"type(test_meter_medidor) {type(test_meter_medidor)}\")"
   ]
  },
  {
   "cell_type": "code",
   "execution_count": 104,
   "metadata": {
    "scrolled": false
   },
   "outputs": [
    {
     "data": {
      "text/plain": [
       "[<matplotlib.lines.Line2D at 0x1722e0736d8>]"
      ]
     },
     "execution_count": 104,
     "metadata": {},
     "output_type": "execute_result"
    },
    {
     "data": {
      "image/png": "[encoded data removed]",
      "text/plain": [
       "<Figure size 432x288 with 1 Axes>"
      ]
     },
     "metadata": {
      "needs_background": "light"
     },
     "output_type": "display_data"
    }
   ],
   "source": [
    "plt.plot(t6[:28000])\n",
    "plt.plot(test_meter_medidor[:28000])"
   ]
  },
  {
   "cell_type": "code",
   "execution_count": null,
   "metadata": {},
   "outputs": [],
   "source": []
  },
  {
   "cell_type": "code",
   "execution_count": null,
   "metadata": {},
   "outputs": [],
   "source": []
  },
  {
   "cell_type": "markdown",
   "metadata": {},
   "source": [
    "# Modelo 1 para micro ondas"
   ]
  },
  {
   "cell_type": "code",
   "execution_count": 191,
   "metadata": {},
   "outputs": [],
   "source": [
    "# Una estructura con 256 pasos en el tamaño de la muestra\n",
    "sequence_length = 256"
   ]
  },
  {
   "cell_type": "code",
   "execution_count": 192,
   "metadata": {},
   "outputs": [
    {
     "name": "stderr",
     "output_type": "stream",
     "text": [
      "C:\\Users\\josel\\Anaconda3\\envs\\nilmtk-env\\lib\\site-packages\\nilmtk\\elecmeter.py:446: UserWarning: The provided sample_period (1) is shorter than the meter's sample_period (3)\n",
      "  sample_period, default_sample_period\n"
     ]
    },
    {
     "name": "stdout",
     "output_type": "stream",
     "text": [
      "mainchunk tipo = <class 'pandas.core.series.Series'> tamaño = (1003071,)\n",
      "meterchunk tipo = <class 'pandas.core.series.Series'> tamaño = (1003066,)\n",
      "DatetimeIndex(['2011-04-18 09:22:13-04:00', '2011-04-18 09:22:14-04:00',\n",
      "               '2011-04-18 09:22:15-04:00', '2011-04-18 09:22:16-04:00',\n",
      "               '2011-04-18 09:22:17-04:00', '2011-04-18 09:22:18-04:00',\n",
      "               '2011-04-18 09:22:19-04:00', '2011-04-18 09:22:20-04:00',\n",
      "               '2011-04-18 09:22:21-04:00', '2011-04-18 09:22:22-04:00',\n",
      "               ...\n",
      "               '2011-04-29 23:59:49-04:00', '2011-04-29 23:59:50-04:00',\n",
      "               '2011-04-29 23:59:51-04:00', '2011-04-29 23:59:52-04:00',\n",
      "               '2011-04-29 23:59:53-04:00', '2011-04-29 23:59:54-04:00',\n",
      "               '2011-04-29 23:59:55-04:00', '2011-04-29 23:59:56-04:00',\n",
      "               '2011-04-29 23:59:57-04:00', '2011-04-29 23:59:58-04:00'],\n",
      "              dtype='datetime64[ns, US/Eastern]', length=1003066, freq='S')\n",
      "X_batch (3919, 256, 1)\n",
      "Y_batch (3919, 256, 1)\n"
     ]
    }
   ],
   "source": [
    "#1. Cargar los datos para entrenamiento\n",
    "train = DataSet('C:\\\\Users\\\\josel\\\\SmartMeter\\\\OrdenandoTodo\\\\redd.h5')\n",
    "train.set_window(end=\"30-4-2011\")      # Usando como final el 30 de abril\n",
    "train_elec = train.buildings[1].elec\n",
    "\n",
    "#3. Carga como medidor de entrenamiento el medidor central y el medidor para un dispositivo microwave\n",
    "train_mains = train_elec.mains().all_meters()[0] # El medidor agregado o central que proporciona la entrada\n",
    "train_meter = train_elec.submeters()['microwave'] # El medidor de microondas que se utiliza como objetivo de entrenamiento.\n",
    "#4. Cargar los datos de las series definidas\n",
    "# Frecuencia de la muestra\n",
    "load_kwargs = {'sample_period': 1}\n",
    "# Esta función crea un generador de datos, si es necesario la remuestrea\n",
    "# al periodo de tiempo definida por el usuario\n",
    "main_power_series = train_mains.power_series(**load_kwargs)\n",
    "meter_power_series = train_meter.power_series(**load_kwargs)\n",
    "\n",
    "#5. Con next des empaqueta los datos en series de pandas antes definidas por un generador\n",
    "mainchunk = next(main_power_series)          # Datos del medidor central\n",
    "meterchunk = next(meter_power_series)        # Datos del electrodomestico\n",
    "\n",
    "print(f\"mainchunk tipo = {type(mainchunk)} tamaño = {mainchunk.shape}\")\n",
    "print(f\"meterchunk tipo = {type(meterchunk)} tamaño = {meterchunk.shape}\")\n",
    "\n",
    "#6. Calcula el valor maximo del medidor central\n",
    "mmax = None\n",
    "if mmax == None:\n",
    "    mmax = mainchunk.max()\n",
    "mmax\n",
    "\n",
    "#7. Funciones para normalizar los datos\n",
    "# Normaliza las series de tiempo teniendo en cuenta el valor maximo\n",
    "# mmax medido por el medidor central\n",
    "def _normalize(chunk, mmax):\n",
    "    tchunk = chunk / mmax\n",
    "    return tchunk\n",
    "\n",
    "# Des Normaliza las series de tiempo teniendo en cuenta el valor maximo\n",
    "# mmax medido por el medidor central\n",
    "def _denormalize(chunk, mmax):\n",
    "    tchunk = chunk * mmax\n",
    "    return tchunk\n",
    "\n",
    "#8. #Normaliza las series\n",
    "mainchunk = _normalize(mainchunk, mmax)\n",
    "meterchunk = _normalize(meterchunk, mmax)\n",
    "mainchunk.head(5)\n",
    "\n",
    "#9. Tamaño de la secuencia definida para el modelo\n",
    "s = sequence_length\n",
    "#10. Remplaza valores NaNs con 0s\n",
    "mainchunk.fillna(0, inplace=True)\n",
    "meterchunk.fillna(0, inplace=True)\n",
    "\n",
    "#11. Une los indices comunes a las dos series de dispositivo y medidor\n",
    "# Retorna una serie con los indices comunes en fechas\n",
    "ix = mainchunk.index.intersection(meterchunk.index)\n",
    "print(ix)\n",
    "\n",
    "#11. Toma los datos en las fechas coincidentes y descarta las demas\n",
    "# seleccionando por medio de los indices contenidos en ix\n",
    "mainchunk = mainchunk[ix]\n",
    "meterchunk = meterchunk[ix]\n",
    "\n",
    "#12. Tamaño del batch de ceros\n",
    "adicion = s - (len(ix) % s)\n",
    "#A cada serie de medidor se le agrega el batch\n",
    "#Se definen en función del tamaño de la muestra\n",
    "#Esta operación elimina el indice de tipo tiempo\n",
    "X_batch = np.append(mainchunk, np.zeros(adicion))    # Medidor central\n",
    "Y_batch = np.append(meterchunk, np.zeros(adicion))   # Medidor de dispositivo\n",
    "\n",
    "#13. Cambia la forma de los datos quedando la señal en tramos de 256 puntos chunk\n",
    "#Para el ventanas de 256 seran (muestras = 3919, ventana = 256, Caracteristica = 1)\n",
    "X_batch = np.reshape(X_batch, (int(len(X_batch) / s), s, 1))\n",
    "Y_batch = np.reshape(Y_batch, (int(len(Y_batch) / s), s, 1))\n",
    "print(f\"X_batch {X_batch.shape}\")\n",
    "print(f\"Y_batch {Y_batch.shape}\")"
   ]
  },
  {
   "cell_type": "code",
   "execution_count": 193,
   "metadata": {},
   "outputs": [
    {
     "data": {
      "text/plain": [
       "ElecMeter(instance=11, building=1, dataset='REDD', appliances=[Appliance(type='microwave', instance=1)])"
      ]
     },
     "execution_count": 193,
     "metadata": {},
     "output_type": "execute_result"
    }
   ],
   "source": [
    "train_meter"
   ]
  },
  {
   "cell_type": "markdown",
   "metadata": {},
   "source": [
    "## Modelo 5\n",
    "Por dinamismo creare los modelos a modo de funciones, de esta manera puedo guardar un modelo dentro de una variable que puedo invocar dentro de otras funciones. \n",
    "\n",
    "Agregando mas capas densas intermedias"
   ]
  },
  {
   "cell_type": "code",
   "execution_count": 194,
   "metadata": {},
   "outputs": [],
   "source": [
    "def auto_encoder5(sequence_len):\n",
    "    '''Crear el modulo Auto encoder descrito en el articulo\n",
    "    '''\n",
    "    #Crea el contenedor del modelo\n",
    "    model = Sequential()\n",
    "\n",
    "    # 1D Conv filtros = 8, kernel = 4, entrada 256 pasos de 1 feature, padding igual, paso en 1\n",
    "    model.add(Conv1D(16, 4, activation=\"linear\", input_shape=(sequence_len, 1), padding=\"same\", strides=1))\n",
    "    model.add(Dropout(0.1))\n",
    "    model.add(Dense(8, activation = 'linear'))\n",
    "    model.add(Dropout(0.1))    \n",
    "    #Aplanar la salida\n",
    "    model.add(Flatten())\n",
    "    \n",
    "\n",
    "    #Auto encoder\n",
    "    # Fully Connected Layers abandono del 20%\n",
    "    model.add(Dropout(0.2))\n",
    "    # Neuronas 16 veces el tamaño de la ventana de tiempo = 2048 nodos\n",
    "    model.add(Dense((sequence_len-0)*16, activation='relu'))\n",
    "    #Abandono del 20% capa con 128 neuronas\n",
    "    model.add(Dropout(0.2))\n",
    "    model.add(Dense(128, activation='relu'))\n",
    "    #Abandono del 20% capa con 2048 nodos\n",
    "    model.add(Dropout(0.2))\n",
    "    \n",
    "    model.add(Dense(256, activation='relu'))\n",
    "    #Abandono del 20% capa con 2048 nodos\n",
    "    model.add(Dropout(0.2))\n",
    "    \n",
    "    model.add(Dense(128, activation='relu'))\n",
    "    #Abandono del 20% capa con 2048 nodos\n",
    "    model.add(Dropout(0.2))\n",
    "    \n",
    "    \n",
    "    model.add(Dense((sequence_len-0)*16, activation='relu'))\n",
    "    model.add(Dropout(0.2))\n",
    "\n",
    "    # 1D Conv\n",
    "    # La salida de la capa anterior es una secuencia aplanada. Es necesario cambiar\n",
    "    # el formato de los datos de salida para obtener datos de forma 256,8 similar\n",
    "    # a los pasos y filtros de la primer convolución\n",
    "    model.add(Reshape(((sequence_len-0), 16)))\n",
    "    #Entrega estos datos a una nueva capa convolucional 1 filtro con kernel = 4\n",
    "    #Es un solo filtro debido a que deseamos obtener una sola serie. \n",
    "    model.add(Conv1D(1, 4, activation=\"linear\", padding=\"same\", strides=1))\n",
    "    #Compila el modelo con perdida mse y optimizador de adam\n",
    "    model.compile(loss='mse', optimizer='adam')\n",
    "    #Grafico del modelo para exportar\n",
    "    #plot_model(model, to_file='model.png', show_shapes=True)\n",
    "\n",
    "    return model"
   ]
  },
  {
   "cell_type": "code",
   "execution_count": 174,
   "metadata": {},
   "outputs": [],
   "source": [
    "#<<<<\n",
    "dae5 = auto_encoder5(sequence_length)"
   ]
  },
  {
   "cell_type": "code",
   "execution_count": 195,
   "metadata": {},
   "outputs": [
    {
     "name": "stdout",
     "output_type": "stream",
     "text": [
      "Epoch 1/25\n",
      "123/123 [==============================] - 9s 76ms/step - loss: 0.0012\n",
      "Epoch 2/25\n",
      "123/123 [==============================] - 9s 77ms/step - loss: 0.0012\n",
      "Epoch 3/25\n",
      "123/123 [==============================] - 9s 76ms/step - loss: 0.0015\n",
      "Epoch 4/25\n",
      "123/123 [==============================] - 10s 79ms/step - loss: 0.0015\n",
      "Epoch 5/25\n",
      "123/123 [==============================] - 9s 77ms/step - loss: 0.0015\n",
      "Epoch 6/25\n",
      "123/123 [==============================] - 9s 76ms/step - loss: 0.0015\n",
      "Epoch 7/25\n",
      "123/123 [==============================] - 9s 76ms/step - loss: 0.0014\n",
      "Epoch 8/25\n",
      "123/123 [==============================] - 9s 77ms/step - loss: 0.0013\n",
      "Epoch 9/25\n",
      "123/123 [==============================] - 9s 77ms/step - loss: 0.0013\n",
      "Epoch 10/25\n",
      "123/123 [==============================] - 9s 76ms/step - loss: 0.0015\n",
      "Epoch 11/25\n",
      "123/123 [==============================] - 9s 76ms/step - loss: 0.0014\n",
      "Epoch 12/25\n",
      "123/123 [==============================] - 9s 77ms/step - loss: 0.0013\n",
      "Epoch 13/25\n",
      "123/123 [==============================] - 9s 76ms/step - loss: 0.0014\n",
      "Epoch 14/25\n",
      "123/123 [==============================] - 9s 77ms/step - loss: 0.0013\n",
      "Epoch 15/25\n",
      "123/123 [==============================] - 9s 77ms/step - loss: 0.0013\n",
      "Epoch 16/25\n",
      "123/123 [==============================] - 9s 77ms/step - loss: 0.0012\n",
      "Epoch 17/25\n",
      "123/123 [==============================] - 9s 77ms/step - loss: 0.0012\n",
      "Epoch 18/25\n",
      "123/123 [==============================] - 9s 77ms/step - loss: 0.0012\n",
      "Epoch 19/25\n",
      "123/123 [==============================] - 10s 77ms/step - loss: 0.0013\n",
      "Epoch 20/25\n",
      "123/123 [==============================] - 9s 77ms/step - loss: 0.0014\n",
      "Epoch 21/25\n",
      "123/123 [==============================] - 9s 76ms/step - loss: 0.0013\n",
      "Epoch 22/25\n",
      "123/123 [==============================] - 9s 76ms/step - loss: 0.0013\n",
      "Epoch 23/25\n",
      "123/123 [==============================] - 9s 76ms/step - loss: 0.0012\n",
      "Epoch 24/25\n",
      "123/123 [==============================] - 9s 76ms/step - loss: 0.0012\n",
      "Epoch 25/25\n",
      "123/123 [==============================] - 10s 77ms/step - loss: 0.0012\n"
     ]
    }
   ],
   "source": [
    "# Entrenar el modelo\n",
    "train_mains = X_batch \n",
    "train_meter = Y_batch \n",
    "#<<<<\n",
    "modelo_entrenado5 = dae5.fit(train_mains, train_meter, epochs=25)"
   ]
  },
  {
   "cell_type": "code",
   "execution_count": 196,
   "metadata": {},
   "outputs": [
    {
     "name": "stdout",
     "output_type": "stream",
     "text": [
      "Model: \"sequential_10\"\n",
      "_________________________________________________________________\n",
      "Layer (type)                 Output Shape              Param #   \n",
      "=================================================================\n",
      "conv1d_19 (Conv1D)           (None, 256, 16)           80        \n",
      "_________________________________________________________________\n",
      "dropout_56 (Dropout)         (None, 256, 16)           0         \n",
      "_________________________________________________________________\n",
      "dense_41 (Dense)             (None, 256, 8)            136       \n",
      "_________________________________________________________________\n",
      "dropout_57 (Dropout)         (None, 256, 8)            0         \n",
      "_________________________________________________________________\n",
      "flatten_10 (Flatten)         (None, 2048)              0         \n",
      "_________________________________________________________________\n",
      "dropout_58 (Dropout)         (None, 2048)              0         \n",
      "_________________________________________________________________\n",
      "dense_42 (Dense)             (None, 4096)              8392704   \n",
      "_________________________________________________________________\n",
      "dropout_59 (Dropout)         (None, 4096)              0         \n",
      "_________________________________________________________________\n",
      "dense_43 (Dense)             (None, 128)               524416    \n",
      "_________________________________________________________________\n",
      "dropout_60 (Dropout)         (None, 128)               0         \n",
      "_________________________________________________________________\n",
      "dense_44 (Dense)             (None, 256)               33024     \n",
      "_________________________________________________________________\n",
      "dropout_61 (Dropout)         (None, 256)               0         \n",
      "_________________________________________________________________\n",
      "dense_45 (Dense)             (None, 128)               32896     \n",
      "_________________________________________________________________\n",
      "dropout_62 (Dropout)         (None, 128)               0         \n",
      "_________________________________________________________________\n",
      "dense_46 (Dense)             (None, 4096)              528384    \n",
      "_________________________________________________________________\n",
      "dropout_63 (Dropout)         (None, 4096)              0         \n",
      "_________________________________________________________________\n",
      "reshape_10 (Reshape)         (None, 256, 16)           0         \n",
      "_________________________________________________________________\n",
      "conv1d_20 (Conv1D)           (None, 256, 1)            65        \n",
      "=================================================================\n",
      "Total params: 9,511,705\n",
      "Trainable params: 9,511,705\n",
      "Non-trainable params: 0\n",
      "_________________________________________________________________\n"
     ]
    }
   ],
   "source": [
    "#<<<<<<\n",
    "dae5.summary()"
   ]
  },
  {
   "cell_type": "markdown",
   "metadata": {},
   "source": [
    "### Datos de test"
   ]
  },
  {
   "cell_type": "code",
   "execution_count": 197,
   "metadata": {},
   "outputs": [],
   "source": [
    "#14. Carga los datos completos\n",
    "test = DataSet('C:\\\\Users\\\\josel\\\\SmartMeter\\\\OrdenandoTodo\\\\redd.h5')\n",
    "#15. Define el tamaño de la muestra de test iniciando justo donde termina el train\n",
    "test.set_window(start=\"30-4-2011\") \n",
    "#16. Selecciona los electrodomesticos del primer edificio\n",
    "test_elec = test.buildings[1].elec\n",
    "#17. Selecciona el medidor central del edificio\n",
    "test_mains = test_elec.mains().all_meters()[0]\n",
    "test_meter = test_elec.submeters()['microwave']"
   ]
  },
  {
   "cell_type": "code",
   "execution_count": 198,
   "metadata": {},
   "outputs": [
    {
     "data": {
      "text/plain": [
       "ElecMeter(instance=11, building=1, dataset='REDD', appliances=[Appliance(type='microwave', instance=1)])"
      ]
     },
     "execution_count": 198,
     "metadata": {},
     "output_type": "execute_result"
    }
   ],
   "source": [
    "test_meter"
   ]
  },
  {
   "cell_type": "code",
   "execution_count": 199,
   "metadata": {},
   "outputs": [],
   "source": [
    "#18. Define un array para timeframes vacio en este almacenare\n",
    "# los tiempos donde el medidor estaba en buen funcionamiento\n",
    "timeframes = []\n",
    "\n",
    "#19. Crea un string con el nombre del edificio mas el id del edificio que lo\n",
    "#toma desde los metadatos \n",
    "#ejemplo building1\n",
    "building_path = '/building{}'.format(test_mains.building())\n",
    "#20. Ahora crea el nombre de la ruta al medidor 1 del edificio en cuestión\n",
    "#Pej.  building1/elec/meter1\n",
    "mains_data_location = building_path + '/elec/meter1'\n",
    "\n",
    "#21. Variable de control datos estan disponibles\n",
    "data_is_available = False"
   ]
  },
  {
   "cell_type": "code",
   "execution_count": 200,
   "metadata": {},
   "outputs": [
    {
     "data": {
      "text/plain": [
       "[TimeFrame(start='2011-04-30 00:00:00-04:00', end='2011-05-01 09:44:42-04:00', empty=False),\n",
       " TimeFrame(start='2011-05-01 09:47:18-04:00', end='2011-05-02 17:04:59-04:00', empty=False),\n",
       " TimeFrame(start='2011-05-02 17:07:27-04:00', end='2011-05-03 17:30:17-04:00', empty=False),\n",
       " TimeFrame(start='2011-05-03 17:32:49-04:00', end='2011-05-03 17:33:44-04:00', empty=False),\n",
       " TimeFrame(start='2011-05-06 10:51:46-04:00', end='2011-05-07 01:53:10-04:00', empty=False),\n",
       " TimeFrame(start='2011-05-07 01:53:55-04:00', end='2011-05-07 02:38:15-04:00', empty=False),\n",
       " TimeFrame(start='2011-05-07 02:40:43-04:00', end='2011-05-07 11:59:16-04:00', empty=False),\n",
       " TimeFrame(start='2011-05-11 03:19:43-04:00', end='2011-05-12 17:48:38-04:00', empty=False),\n",
       " TimeFrame(start='2011-05-12 20:14:30-04:00', end='2011-05-13 05:16:24-04:00', empty=False),\n",
       " TimeFrame(start='2011-05-22 16:04:46-04:00', end='2011-05-22 23:39:01-04:00', empty=False),\n",
       " TimeFrame(start='2011-05-22 23:41:35-04:00', end='2011-05-23 09:22:08-04:00', empty=False),\n",
       " TimeFrame(start='2011-05-23 10:31:34-04:00', end='2011-05-24 14:32:05-04:00', empty=False),\n",
       " TimeFrame(start='2011-05-24 15:55:33-04:00', end='2011-05-24 15:57:02-04:00', empty=False)]"
      ]
     },
     "execution_count": 200,
     "metadata": {},
     "output_type": "execute_result"
    }
   ],
   "source": [
    "#22. Verificar los tiempos de buen funcionamiento del medidor central\n",
    "load_kwargs.setdefault('sections', test_mains.good_sections())"
   ]
  },
  {
   "cell_type": "code",
   "execution_count": 201,
   "metadata": {},
   "outputs": [],
   "source": [
    "#23. Defino una lista que contendra los instantes de buen funcionamiento \n",
    "# que cumplan con el tamaño de muestra\n",
    "timeframes = []"
   ]
  },
  {
   "cell_type": "code",
   "execution_count": 205,
   "metadata": {},
   "outputs": [],
   "source": [
    "#output_datastore5.close()"
   ]
  },
  {
   "cell_type": "code",
   "execution_count": 206,
   "metadata": {},
   "outputs": [],
   "source": [
    "#<<<<<<<\n",
    "output_datastore5 = pd.HDFStore(\"predict5_V3.h5\", \"w\")\n",
    "#output_datastore5.close()"
   ]
  },
  {
   "cell_type": "code",
   "execution_count": 207,
   "metadata": {},
   "outputs": [
    {
     "name": "stdout",
     "output_type": "stream",
     "text": [
      "New sensible chunk: 121482 size of data\n",
      "New sensible chunk: 112661 size of data\n",
      "New sensible chunk: 87770 size of data\n",
      "New sensible chunk: 54084 size of data\n",
      "New sensible chunk: 2660 size of data\n",
      "New sensible chunk: 33513 size of data\n",
      "New sensible chunk: 138535 size of data\n",
      "New sensible chunk: 32514 size of data\n",
      "New sensible chunk: 27255 size of data\n",
      "New sensible chunk: 34833 size of data\n",
      "New sensible chunk: 100831 size of data\n"
     ]
    }
   ],
   "source": [
    "#24. Recorro todas los tramos de test para el medidor central en buen funcionamiento\n",
    "MIN_CHUNK_LENGTH = sequence_length #Tamaño del paso de ventana\n",
    "id_serie = 0\n",
    "for chunk in test_mains.power_series(**load_kwargs):\n",
    "    #25. Si el tamaño de la serie cargada es menor al de las ventanas se descarta\n",
    "    if len(chunk) < MIN_CHUNK_LENGTH:\n",
    "        continue\n",
    "    #26. Imprime el tamaño de los tramos de series cargados\n",
    "    print(\"New sensible chunk: {} size of data\".format(len(chunk)))\n",
    "    \n",
    "    # Se guarda cada tramo de tiempo seleccionado\n",
    "    timeframes.append(chunk.timeframe)\n",
    "    # Nombre de las columnas de series de datos ('power', 'apparent')\n",
    "    measurement = chunk.name\n",
    "    \n",
    "    # Normaliza la serie chunk del medidor central cargada y la guarda en una nueva variable usando como\n",
    "    # maximo el valor del medidor centrar de entrenamiento\n",
    "    chunk2 = _normalize(chunk, mmax)\n",
    "\n",
    "    #Ahora debo crear una base de datos con las formas adecuadas para cada chunk\n",
    "    #cree una función que guarda las series en un archivo hdf5\n",
    "    #requiere el numero de la serie iniciando en 0 para usarla como id\n",
    "    \n",
    "    #llamar funcion, pasar chunk2 y el id_serie >>>>>>>>>>>>>>>>>>>\n",
    "    appliance_power = data_predict(chunk2, id_serie, dae5)\n",
    "    \n",
    "    # Todo valor negativo calculado lo iguala a cero\n",
    "    appliance_power[appliance_power < 0] = 0\n",
    "    \n",
    "    # Calcula el valor real mediante la desnormalización de los datos\n",
    "    appliance_power = _denormalize(appliance_power, mmax)\n",
    "    \n",
    "    # Convierte lista de tuplas a MultiIndex osea una estructura que contiene\n",
    "    # multiples indices. Lons nombres estan dados pos la serie main original\n",
    "    # chunk.name = ('power', 'apparent') \n",
    "    # cols = MultiIndex([('power', 'apparent')]\n",
    "    cols = pd.MultiIndex.from_tuples([chunk.name])\n",
    "    \n",
    "    # De los metadatos extrae el valor de la instancia de la medida\n",
    "    # que en si es como el id del dispositivo por ejemplo 5 para refrigerador\n",
    "    # en el edificio 1. Siempre es el del electrodomestico\n",
    "    meter_instance = test_meter.instance()\n",
    "    \n",
    "    # Ahora crea un df para cada serie predicha chunk con: \n",
    "    # appliance_power.values = los valores de la serie predicha\n",
    "    # index=appliance_power.index con indice el tiempo de dicha serie\n",
    "    # columns=cols da el nombre de las columnas ('power', 'apparent') es el nombre \n",
    "    # de la columna de medidas, el indice no tiene nombre\n",
    "    # y define los datos como  de punto flotante\n",
    "    df = pd.DataFrame(\n",
    "        appliance_power.values, index=appliance_power.index,\n",
    "        columns=cols, dtype=\"float32\")\n",
    "\n",
    "    # Define el nombre de la ruta de cada dispositivo /building1/elec/meter5 predicho\n",
    "    # Esta es la clave de los datos procesados para guardar en el h5 \n",
    "    # Esta clave se mantiene igual para cada tramo chunk que se haga la predicción\n",
    "    key = '{}/elec/meter{}'.format(building_path, meter_instance)\n",
    "\n",
    "    # En el archivo output_datastore4 se agregaran los datos calculados en \n",
    "    # cada predicción es el archivo hdf5 definido en el programa principal\n",
    "    # Para cada clave '/building1/elec/meter5' agrega el df\n",
    "    # Primero para la serie calculada para el electrodomestico '/building1/elec/meter5'\n",
    "    \n",
    "    #<<<<<<<\n",
    "    output_datastore5.append(key, df)\n",
    "    \n",
    "    # Ahora tomo los datos del medidor objetivo pero de test\n",
    "    \n",
    "    \n",
    "\n",
    "    # Append aggregate data to output / Agregar datos agregados a la salida\n",
    "    # Crea un dataframe para la serie de datos del medidor central original\n",
    "    mains_df = pd.DataFrame(chunk, columns=cols, dtype=\"float32\")\n",
    "    # Y tambien la agrega al archivo de salidas calculadas quedando en orden\n",
    "    # datos predichos y luego datos originales del medidor con clave '/building1/elec/meter1'\n",
    "    # Al hacerlo de este modo cada nuevo df se agrega debajo del anterior segun el nombre de sus\n",
    "    # columnas. Deben tener el mismo nombre y orden para que se haga el match\n",
    "    #<<<<<<<\n",
    "    output_datastore5.append(key=mains_data_location, value=mains_df)"
   ]
  },
  {
   "cell_type": "code",
   "execution_count": 208,
   "metadata": {},
   "outputs": [
    {
     "data": {
      "text/plain": [
       "11"
      ]
     },
     "execution_count": 208,
     "metadata": {},
     "output_type": "execute_result"
    }
   ],
   "source": [
    "test_meter.instance()"
   ]
  },
  {
   "cell_type": "code",
   "execution_count": 209,
   "metadata": {},
   "outputs": [
    {
     "name": "stdout",
     "output_type": "stream",
     "text": [
      "output_datastore.keys() ['/building1/elec/meter1', '/building1/elec/meter11']\n"
     ]
    }
   ],
   "source": [
    "#<<<<<<<\n",
    "print(f\"output_datastore.keys() {output_datastore5.keys()}\")"
   ]
  },
  {
   "cell_type": "code",
   "execution_count": 210,
   "metadata": {},
   "outputs": [
    {
     "name": "stdout",
     "output_type": "stream",
     "text": [
      "type(t6) <class 'pandas.core.frame.DataFrame'>\n",
      "t6.shape (746138, 1)\n"
     ]
    }
   ],
   "source": [
    "#<<<<<<<<\n",
    "t9 = output_datastore5.get('/building1/elec/meter1')\n",
    "t10 = output_datastore5.get('/building1/elec/meter11') #Prediccion\n",
    "print(f\"type(t6) {type(t8)}\")\n",
    "print(f\"t6.shape {t8.shape}\")"
   ]
  },
  {
   "cell_type": "code",
   "execution_count": 211,
   "metadata": {},
   "outputs": [
    {
     "name": "stdout",
     "output_type": "stream",
     "text": [
      "type(test_meter_medidor) <class 'pandas.core.series.Series'>\n"
     ]
    },
    {
     "name": "stderr",
     "output_type": "stream",
     "text": [
      "C:\\Users\\josel\\Anaconda3\\envs\\nilmtk-env\\lib\\site-packages\\nilmtk\\elecmeter.py:446: UserWarning: The provided sample_period (1) is shorter than the meter's sample_period (3)\n",
      "  sample_period, default_sample_period\n"
     ]
    }
   ],
   "source": [
    "test_meter_medidor = test_meter.power_series(**load_kwargs) #Real\n",
    "test_meter_medidor = next(test_meter_medidor)\n",
    "print(f\"type(test_meter_medidor) {type(test_meter_medidor)}\")"
   ]
  },
  {
   "cell_type": "code",
   "execution_count": 214,
   "metadata": {
    "scrolled": true
   },
   "outputs": [
    {
     "data": {
      "text/plain": [
       "[<matplotlib.lines.Line2D at 0x1720c87d7f0>]"
      ]
     },
     "execution_count": 214,
     "metadata": {},
     "output_type": "execute_result"
    },
    {
     "data": {
      "image/png": "[encoded data removed]",
      "text/plain": [
       "<Figure size 432x288 with 1 Axes>"
      ]
     },
     "metadata": {
      "needs_background": "light"
     },
     "output_type": "display_data"
    }
   ],
   "source": [
    "plt.plot(t10[28000:88000])\n",
    "plt.plot(test_meter_medidor[28000:88000])"
   ]
  },
  {
   "cell_type": "markdown",
   "metadata": {},
   "source": [
    "# V2 micro ondas"
   ]
  },
  {
   "cell_type": "code",
   "execution_count": 216,
   "metadata": {},
   "outputs": [],
   "source": [
    "# Una estructura con 256 pasos en el tamaño de la muestra\n",
    "sequence_length = 256"
   ]
  },
  {
   "cell_type": "code",
   "execution_count": 217,
   "metadata": {},
   "outputs": [
    {
     "name": "stderr",
     "output_type": "stream",
     "text": [
      "C:\\Users\\josel\\Anaconda3\\envs\\nilmtk-env\\lib\\site-packages\\nilmtk\\elecmeter.py:446: UserWarning: The provided sample_period (1) is shorter than the meter's sample_period (3)\n",
      "  sample_period, default_sample_period\n"
     ]
    },
    {
     "name": "stdout",
     "output_type": "stream",
     "text": [
      "mainchunk tipo = <class 'pandas.core.series.Series'> tamaño = (1003071,)\n",
      "meterchunk tipo = <class 'pandas.core.series.Series'> tamaño = (1003066,)\n",
      "DatetimeIndex(['2011-04-18 09:22:13-04:00', '2011-04-18 09:22:14-04:00',\n",
      "               '2011-04-18 09:22:15-04:00', '2011-04-18 09:22:16-04:00',\n",
      "               '2011-04-18 09:22:17-04:00', '2011-04-18 09:22:18-04:00',\n",
      "               '2011-04-18 09:22:19-04:00', '2011-04-18 09:22:20-04:00',\n",
      "               '2011-04-18 09:22:21-04:00', '2011-04-18 09:22:22-04:00',\n",
      "               ...\n",
      "               '2011-04-29 23:59:49-04:00', '2011-04-29 23:59:50-04:00',\n",
      "               '2011-04-29 23:59:51-04:00', '2011-04-29 23:59:52-04:00',\n",
      "               '2011-04-29 23:59:53-04:00', '2011-04-29 23:59:54-04:00',\n",
      "               '2011-04-29 23:59:55-04:00', '2011-04-29 23:59:56-04:00',\n",
      "               '2011-04-29 23:59:57-04:00', '2011-04-29 23:59:58-04:00'],\n",
      "              dtype='datetime64[ns, US/Eastern]', length=1003066, freq='S')\n",
      "X_batch (3919, 256, 1)\n",
      "Y_batch (3919, 256, 1)\n"
     ]
    }
   ],
   "source": [
    "#1. Cargar los datos para entrenamiento\n",
    "train = DataSet('C:\\\\Users\\\\josel\\\\SmartMeter\\\\OrdenandoTodo\\\\redd.h5')\n",
    "train.set_window(end=\"30-4-2011\")      # Usando como final el 30 de abril\n",
    "train_elec = train.buildings[1].elec\n",
    "\n",
    "#3. Carga como medidor de entrenamiento el medidor central y el medidor para un dispositivo Fridge\n",
    "train_mains = train_elec.mains().all_meters()[0] # El medidor agregado o central que proporciona la entrada\n",
    "train_meter = train_elec.submeters()['microwave'] # El medidor de microondas que se utiliza como objetivo de entrenamiento.\n",
    "#4. Cargar los datos de las series definidas\n",
    "# Frecuencia de la muestra\n",
    "load_kwargs = {'sample_period': 1}\n",
    "# Esta función crea un generador de datos, si es necesario la remuestrea\n",
    "# al periodo de tiempo definida por el usuario\n",
    "main_power_series = train_mains.power_series(**load_kwargs)\n",
    "meter_power_series = train_meter.power_series(**load_kwargs)\n",
    "\n",
    "#5. Con next des empaqueta los datos en series de pandas antes definidas por un generador\n",
    "mainchunk = next(main_power_series)          # Datos del medidor central\n",
    "meterchunk = next(meter_power_series)        # Datos del electrodomestico\n",
    "\n",
    "print(f\"mainchunk tipo = {type(mainchunk)} tamaño = {mainchunk.shape}\")\n",
    "print(f\"meterchunk tipo = {type(meterchunk)} tamaño = {meterchunk.shape}\")\n",
    "\n",
    "#6. Calcula el valor maximo del medidor central\n",
    "mmax = None\n",
    "if mmax == None:\n",
    "    mmax = mainchunk.max()\n",
    "mmax\n",
    "\n",
    "#7. Funciones para normalizar los datos\n",
    "# Normaliza las series de tiempo teniendo en cuenta el valor maximo\n",
    "# mmax medido por el medidor central\n",
    "def _normalize(chunk, mmax):\n",
    "    tchunk = chunk / mmax\n",
    "    return tchunk\n",
    "\n",
    "# Des Normaliza las series de tiempo teniendo en cuenta el valor maximo\n",
    "# mmax medido por el medidor central\n",
    "def _denormalize(chunk, mmax):\n",
    "    tchunk = chunk * mmax\n",
    "    return tchunk\n",
    "\n",
    "#8. #Normaliza las series\n",
    "mainchunk = _normalize(mainchunk, mmax)\n",
    "meterchunk = _normalize(meterchunk, mmax)\n",
    "mainchunk.head(5)\n",
    "\n",
    "#9. Tamaño de la secuencia definida para el modelo\n",
    "s = sequence_length\n",
    "#10. Remplaza valores NaNs con 0s\n",
    "mainchunk.fillna(0, inplace=True)\n",
    "meterchunk.fillna(0, inplace=True)\n",
    "\n",
    "#11. Une los indices comunes a las dos series de dispositivo y medidor\n",
    "# Retorna una serie con los indices comunes en fechas\n",
    "ix = mainchunk.index.intersection(meterchunk.index)\n",
    "print(ix)\n",
    "\n",
    "#11. Toma los datos en las fechas coincidentes y descarta las demas\n",
    "# seleccionando por medio de los indices contenidos en ix\n",
    "mainchunk = mainchunk[ix]\n",
    "meterchunk = meterchunk[ix]\n",
    "\n",
    "#12. Tamaño del batch de ceros\n",
    "adicion = s - (len(ix) % s)\n",
    "#A cada serie de medidor se le agrega el batch\n",
    "#Se definen en función del tamaño de la muestra\n",
    "#Esta operación elimina el indice de tipo tiempo\n",
    "X_batch = np.append(mainchunk, np.zeros(adicion))    # Medidor central\n",
    "Y_batch = np.append(meterchunk, np.zeros(adicion))   # Medidor de dispositivo\n",
    "\n",
    "#13. Cambia la forma de los datos quedando la señal en tramos de 256 puntos chunk\n",
    "#Para el ventanas de 256 seran (muestras = 3919, ventana = 256, Caracteristica = 1)\n",
    "X_batch = np.reshape(X_batch, (int(len(X_batch) / s), s, 1))\n",
    "Y_batch = np.reshape(Y_batch, (int(len(Y_batch) / s), s, 1))\n",
    "print(f\"X_batch {X_batch.shape}\")\n",
    "print(f\"Y_batch {Y_batch.shape}\")"
   ]
  },
  {
   "cell_type": "markdown",
   "metadata": {},
   "source": [
    "## Modelo 6\n",
    "Por dinamismo creare los modelos a modo de funciones, de esta manera puedo guardar un modelo dentro de una variable que puedo invocar dentro de otras funciones. \n",
    "\n",
    "Agregando mas capas densas intermedias"
   ]
  },
  {
   "cell_type": "code",
   "execution_count": 218,
   "metadata": {},
   "outputs": [],
   "source": [
    "def auto_encoder6(sequence_len):\n",
    "    '''Crear el modulo Auto encoder descrito en el articulo\n",
    "    '''\n",
    "    #Crea el contenedor del modelo\n",
    "    model = Sequential()\n",
    "\n",
    "    # 1D Conv filtros = 8, kernel = 4, entrada 256 pasos de 1 feature, padding igual, paso en 1\n",
    "    model.add(Conv1D(16, 4, activation=\"linear\", input_shape=(sequence_len, 1), padding=\"same\", strides=1))\n",
    "    model.add(Dropout(0.1))\n",
    "    model.add(Dense(8, activation = 'linear'))\n",
    "    model.add(Dropout(0.1))    \n",
    "    #Aplanar la salida\n",
    "    model.add(Flatten())\n",
    "    \n",
    "\n",
    "    #Auto encoder\n",
    "    # Fully Connected Layers abandono del 20%\n",
    "    model.add(Dropout(0.2))\n",
    "    # Neuronas 16 veces el tamaño de la ventana de tiempo = 2048 nodos\n",
    "    model.add(Dense((sequence_len-0)*16, activation='relu'))\n",
    "    #Abandono del 20% capa con 128 neuronas\n",
    "    model.add(Dropout(0.2))\n",
    "    model.add(Dense(128, activation='relu'))\n",
    "    #Abandono del 20% capa con 2048 nodos\n",
    "    model.add(Dropout(0.2))\n",
    "    \n",
    "    model.add(Dense(256, activation='relu'))\n",
    "    #Abandono del 20% capa con 2048 nodos\n",
    "    model.add(Dropout(0.2))\n",
    "    \n",
    "    model.add(Dense(128, activation='relu'))\n",
    "    #Abandono del 20% capa con 2048 nodos\n",
    "    model.add(Dropout(0.2))\n",
    "    \n",
    "    \n",
    "    model.add(Dense((sequence_len-0)*16, activation='relu'))\n",
    "    model.add(Dropout(0.2))\n",
    "\n",
    "    # 1D Conv\n",
    "    # La salida de la capa anterior es una secuencia aplanada. Es necesario cambiar\n",
    "    # el formato de los datos de salida para obtener datos de forma 256,8 similar\n",
    "    # a los pasos y filtros de la primer convolución\n",
    "    model.add(Reshape(((sequence_len-0), 16)))\n",
    "    #Entrega estos datos a una nueva capa convolucional 1 filtro con kernel = 4\n",
    "    #Es un solo filtro debido a que deseamos obtener una sola serie. \n",
    "    model.add(Conv1D(1, 4, activation=\"linear\", padding=\"same\", strides=1))\n",
    "    #Compila el modelo con perdida mse y optimizador de adam\n",
    "    model.compile(loss='mse', optimizer='adam')\n",
    "    #Grafico del modelo para exportar\n",
    "    #plot_model(model, to_file='model.png', show_shapes=True)\n",
    "\n",
    "    return model"
   ]
  },
  {
   "cell_type": "code",
   "execution_count": 219,
   "metadata": {},
   "outputs": [],
   "source": [
    "#<<<<\n",
    "dae6 = auto_encoder6(sequence_length)"
   ]
  },
  {
   "cell_type": "code",
   "execution_count": 220,
   "metadata": {},
   "outputs": [
    {
     "name": "stdout",
     "output_type": "stream",
     "text": [
      "Epoch 1/25\n",
      "123/123 [==============================] - 10s 76ms/step - loss: 0.0016\n",
      "Epoch 2/25\n",
      "123/123 [==============================] - 9s 76ms/step - loss: 0.0013\n",
      "Epoch 3/25\n",
      "123/123 [==============================] - 9s 76ms/step - loss: 0.0013\n",
      "Epoch 4/25\n",
      "123/123 [==============================] - 10s 78ms/step - loss: 0.0014\n",
      "Epoch 5/25\n",
      "123/123 [==============================] - 9s 76ms/step - loss: 9.8883e-04\n",
      "Epoch 6/25\n",
      "123/123 [==============================] - 9s 76ms/step - loss: 0.0011\n",
      "Epoch 7/25\n",
      "123/123 [==============================] - 9s 76ms/step - loss: 0.0013\n",
      "Epoch 8/25\n",
      "123/123 [==============================] - 9s 76ms/step - loss: 0.0015\n",
      "Epoch 9/25\n",
      "123/123 [==============================] - 9s 77ms/step - loss: 0.0017\n",
      "Epoch 10/25\n",
      "123/123 [==============================] - 9s 76ms/step - loss: 0.0016\n",
      "Epoch 11/25\n",
      "123/123 [==============================] - 9s 77ms/step - loss: 0.0016\n",
      "Epoch 12/25\n",
      "123/123 [==============================] - 9s 77ms/step - loss: 0.0016\n",
      "Epoch 13/25\n",
      "123/123 [==============================] - 10s 78ms/step - loss: 0.0015\n",
      "Epoch 14/25\n",
      "123/123 [==============================] - 9s 77ms/step - loss: 0.0015\n",
      "Epoch 15/25\n",
      "123/123 [==============================] - 10s 77ms/step - loss: 0.0013\n",
      "Epoch 16/25\n",
      "123/123 [==============================] - 9s 76ms/step - loss: 0.0017\n",
      "Epoch 17/25\n",
      "123/123 [==============================] - 9s 76ms/step - loss: 0.0012\n",
      "Epoch 18/25\n",
      "123/123 [==============================] - 9s 76ms/step - loss: 0.0013\n",
      "Epoch 19/25\n",
      "123/123 [==============================] - 9s 76ms/step - loss: 0.0018\n",
      "Epoch 20/25\n",
      "123/123 [==============================] - 9s 76ms/step - loss: 0.0017\n",
      "Epoch 21/25\n",
      "123/123 [==============================] - 9s 77ms/step - loss: 0.0013\n",
      "Epoch 22/25\n",
      "123/123 [==============================] - 9s 77ms/step - loss: 0.0016\n",
      "Epoch 23/25\n",
      "123/123 [==============================] - 9s 76ms/step - loss: 0.0015\n",
      "Epoch 24/25\n",
      "123/123 [==============================] - 10s 78ms/step - loss: 0.0015\n",
      "Epoch 25/25\n",
      "123/123 [==============================] - 9s 77ms/step - loss: 0.0017\n"
     ]
    }
   ],
   "source": [
    "# Entrenar el modelo\n",
    "train_mains = X_batch \n",
    "train_meter = Y_batch \n",
    "#<<<<\n",
    "modelo_entrenado6 = dae6.fit(train_mains, train_meter, epochs=25)"
   ]
  },
  {
   "cell_type": "code",
   "execution_count": 221,
   "metadata": {},
   "outputs": [
    {
     "name": "stdout",
     "output_type": "stream",
     "text": [
      "Model: \"sequential_11\"\n",
      "_________________________________________________________________\n",
      "Layer (type)                 Output Shape              Param #   \n",
      "=================================================================\n",
      "conv1d_21 (Conv1D)           (None, 256, 16)           80        \n",
      "_________________________________________________________________\n",
      "dropout_64 (Dropout)         (None, 256, 16)           0         \n",
      "_________________________________________________________________\n",
      "dense_47 (Dense)             (None, 256, 8)            136       \n",
      "_________________________________________________________________\n",
      "dropout_65 (Dropout)         (None, 256, 8)            0         \n",
      "_________________________________________________________________\n",
      "flatten_11 (Flatten)         (None, 2048)              0         \n",
      "_________________________________________________________________\n",
      "dropout_66 (Dropout)         (None, 2048)              0         \n",
      "_________________________________________________________________\n",
      "dense_48 (Dense)             (None, 4096)              8392704   \n",
      "_________________________________________________________________\n",
      "dropout_67 (Dropout)         (None, 4096)              0         \n",
      "_________________________________________________________________\n",
      "dense_49 (Dense)             (None, 128)               524416    \n",
      "_________________________________________________________________\n",
      "dropout_68 (Dropout)         (None, 128)               0         \n",
      "_________________________________________________________________\n",
      "dense_50 (Dense)             (None, 256)               33024     \n",
      "_________________________________________________________________\n",
      "dropout_69 (Dropout)         (None, 256)               0         \n",
      "_________________________________________________________________\n",
      "dense_51 (Dense)             (None, 128)               32896     \n",
      "_________________________________________________________________\n",
      "dropout_70 (Dropout)         (None, 128)               0         \n",
      "_________________________________________________________________\n",
      "dense_52 (Dense)             (None, 4096)              528384    \n",
      "_________________________________________________________________\n",
      "dropout_71 (Dropout)         (None, 4096)              0         \n",
      "_________________________________________________________________\n",
      "reshape_11 (Reshape)         (None, 256, 16)           0         \n",
      "_________________________________________________________________\n",
      "conv1d_22 (Conv1D)           (None, 256, 1)            65        \n",
      "=================================================================\n",
      "Total params: 9,511,705\n",
      "Trainable params: 9,511,705\n",
      "Non-trainable params: 0\n",
      "_________________________________________________________________\n"
     ]
    }
   ],
   "source": [
    "#<<<<<<\n",
    "dae6.summary()"
   ]
  },
  {
   "cell_type": "markdown",
   "metadata": {},
   "source": [
    "# Datos de test"
   ]
  },
  {
   "cell_type": "code",
   "execution_count": 222,
   "metadata": {},
   "outputs": [],
   "source": [
    "#14. Carga los datos completos\n",
    "test = DataSet('C:\\\\Users\\\\josel\\\\SmartMeter\\\\OrdenandoTodo\\\\redd.h5')\n",
    "#15. Define el tamaño de la muestra de test iniciando justo donde termina el train\n",
    "test.set_window(start=\"30-4-2011\") \n",
    "#16. Selecciona los electrodomesticos del primer edificio\n",
    "test_elec = test.buildings[1].elec\n",
    "#17. Selecciona el medidor central del edificio\n",
    "test_mains = test_elec.mains().all_meters()[0]\n",
    "test_meter = test_elec.submeters()['microwave']"
   ]
  },
  {
   "cell_type": "code",
   "execution_count": 223,
   "metadata": {},
   "outputs": [],
   "source": [
    "#18. Define un array para timeframes vacio en este almacenare\n",
    "# los tiempos donde el medidor estaba en buen funcionamiento\n",
    "timeframes = []\n",
    "\n",
    "#19. Crea un string con el nombre del edificio mas el id del edificio que lo\n",
    "#toma desde los metadatos \n",
    "#ejemplo building1\n",
    "building_path = '/building{}'.format(test_mains.building())\n",
    "#20. Ahora crea el nombre de la ruta al medidor 1 del edificio en cuestión\n",
    "#Pej.  building1/elec/meter1\n",
    "mains_data_location = building_path + '/elec/meter1'\n",
    "\n",
    "#21. Variable de control datos estan disponibles\n",
    "data_is_available = False"
   ]
  },
  {
   "cell_type": "code",
   "execution_count": 224,
   "metadata": {},
   "outputs": [
    {
     "data": {
      "text/plain": [
       "[TimeFrame(start='2011-04-30 00:00:00-04:00', end='2011-05-01 09:44:42-04:00', empty=False),\n",
       " TimeFrame(start='2011-05-01 09:47:18-04:00', end='2011-05-02 17:04:59-04:00', empty=False),\n",
       " TimeFrame(start='2011-05-02 17:07:27-04:00', end='2011-05-03 17:30:17-04:00', empty=False),\n",
       " TimeFrame(start='2011-05-03 17:32:49-04:00', end='2011-05-03 17:33:44-04:00', empty=False),\n",
       " TimeFrame(start='2011-05-06 10:51:46-04:00', end='2011-05-07 01:53:10-04:00', empty=False),\n",
       " TimeFrame(start='2011-05-07 01:53:55-04:00', end='2011-05-07 02:38:15-04:00', empty=False),\n",
       " TimeFrame(start='2011-05-07 02:40:43-04:00', end='2011-05-07 11:59:16-04:00', empty=False),\n",
       " TimeFrame(start='2011-05-11 03:19:43-04:00', end='2011-05-12 17:48:38-04:00', empty=False),\n",
       " TimeFrame(start='2011-05-12 20:14:30-04:00', end='2011-05-13 05:16:24-04:00', empty=False),\n",
       " TimeFrame(start='2011-05-22 16:04:46-04:00', end='2011-05-22 23:39:01-04:00', empty=False),\n",
       " TimeFrame(start='2011-05-22 23:41:35-04:00', end='2011-05-23 09:22:08-04:00', empty=False),\n",
       " TimeFrame(start='2011-05-23 10:31:34-04:00', end='2011-05-24 14:32:05-04:00', empty=False),\n",
       " TimeFrame(start='2011-05-24 15:55:33-04:00', end='2011-05-24 15:57:02-04:00', empty=False)]"
      ]
     },
     "execution_count": 224,
     "metadata": {},
     "output_type": "execute_result"
    }
   ],
   "source": [
    "#22. Verificar los tiempos de buen funcionamiento del medidor central\n",
    "load_kwargs.setdefault('sections', test_mains.good_sections())"
   ]
  },
  {
   "cell_type": "code",
   "execution_count": 225,
   "metadata": {},
   "outputs": [],
   "source": [
    "#23. Defino una lista que contendra los instantes de buen funcionamiento \n",
    "# que cumplan con el tamaño de muestra\n",
    "timeframes = []"
   ]
  },
  {
   "cell_type": "code",
   "execution_count": 226,
   "metadata": {},
   "outputs": [],
   "source": [
    "#output_datastore6.close()"
   ]
  },
  {
   "cell_type": "code",
   "execution_count": 227,
   "metadata": {},
   "outputs": [],
   "source": [
    "#<<<<<<<\n",
    "output_datastore6 = pd.HDFStore(\"predict6_V3.h5\", \"w\")"
   ]
  },
  {
   "cell_type": "code",
   "execution_count": 228,
   "metadata": {},
   "outputs": [
    {
     "name": "stdout",
     "output_type": "stream",
     "text": [
      "New sensible chunk: 121482 size of data\n",
      "New sensible chunk: 112661 size of data\n",
      "New sensible chunk: 87770 size of data\n",
      "New sensible chunk: 54084 size of data\n",
      "New sensible chunk: 2660 size of data\n",
      "New sensible chunk: 33513 size of data\n",
      "New sensible chunk: 138535 size of data\n",
      "New sensible chunk: 32514 size of data\n",
      "New sensible chunk: 27255 size of data\n",
      "New sensible chunk: 34833 size of data\n",
      "New sensible chunk: 100831 size of data\n"
     ]
    }
   ],
   "source": [
    "#24. Recorro todas los tramos de test para el medidor central en buen funcionamiento\n",
    "MIN_CHUNK_LENGTH = sequence_length #Tamaño del paso de ventana\n",
    "id_serie = 0\n",
    "for chunk in test_mains.power_series(**load_kwargs):\n",
    "    #25. Si el tamaño de la serie cargada es menor al de las ventanas se descarta\n",
    "    if len(chunk) < MIN_CHUNK_LENGTH:\n",
    "        continue\n",
    "    #26. Imprime el tamaño de los tramos de series cargados\n",
    "    print(\"New sensible chunk: {} size of data\".format(len(chunk)))\n",
    "    \n",
    "    # Se guarda cada tramo de tiempo seleccionado\n",
    "    timeframes.append(chunk.timeframe)\n",
    "    # Nombre de las columnas de series de datos ('power', 'apparent')\n",
    "    measurement = chunk.name\n",
    "    \n",
    "    # Normaliza la serie chunk del medidor central cargada y la guarda en una nueva variable usando como\n",
    "    # maximo el valor del medidor centrar de entrenamiento\n",
    "    chunk2 = _normalize(chunk, mmax)\n",
    "\n",
    "    #Ahora debo crear una base de datos con las formas adecuadas para cada chunk\n",
    "    #cree una función que guarda las series en un archivo hdf5\n",
    "    #requiere el numero de la serie iniciando en 0 para usarla como id\n",
    "    \n",
    "    #llamar funcion, pasar chunk2 y el id_serie \n",
    "    #>>>>>>>>>>>>>>>>>>>\n",
    "    appliance_power = data_predict(chunk2, id_serie, dae6)\n",
    "    \n",
    "    # Todo valor negativo calculado lo iguala a cero\n",
    "    appliance_power[appliance_power < 0] = 0\n",
    "    \n",
    "    # Calcula el valor real mediante la desnormalización de los datos\n",
    "    appliance_power = _denormalize(appliance_power, mmax)\n",
    "    \n",
    "    # Convierte lista de tuplas a MultiIndex osea una estructura que contiene\n",
    "    # multiples indices. Lons nombres estan dados pos la serie main original\n",
    "    # chunk.name = ('power', 'apparent') \n",
    "    # cols = MultiIndex([('power', 'apparent')]\n",
    "    cols = pd.MultiIndex.from_tuples([chunk.name])\n",
    "    \n",
    "    # De los metadatos extrae el valor de la instancia de la medida\n",
    "    # que en si es como el id del dispositivo por ejemplo 5 para refrigerador\n",
    "    # en el edificio 1. Siempre es el del electrodomestico\n",
    "    meter_instance = test_meter.instance()\n",
    "    \n",
    "    # Ahora crea un df para cada serie predicha chunk con: \n",
    "    # appliance_power.values = los valores de la serie predicha\n",
    "    # index=appliance_power.index con indice el tiempo de dicha serie\n",
    "    # columns=cols da el nombre de las columnas ('power', 'apparent') es el nombre \n",
    "    # de la columna de medidas, el indice no tiene nombre\n",
    "    # y define los datos como  de punto flotante\n",
    "    df = pd.DataFrame(\n",
    "        appliance_power.values, index=appliance_power.index,\n",
    "        columns=cols, dtype=\"float32\")\n",
    "\n",
    "    # Define el nombre de la ruta de cada dispositivo /building1/elec/meter5 predicho\n",
    "    # Esta es la clave de los datos procesados para guardar en el h5 \n",
    "    # Esta clave se mantiene igual para cada tramo chunk que se haga la predicción\n",
    "    key = '{}/elec/meter{}'.format(building_path, meter_instance)\n",
    "\n",
    "    # En el archivo output_datastore4 se agregaran los datos calculados en \n",
    "    # cada predicción es el archivo hdf5 definido en el programa principal\n",
    "    # Para cada clave '/building1/elec/meter5' agrega el df\n",
    "    # Primero para la serie calculada para el electrodomestico '/building1/elec/meter5'\n",
    "    #<<<<<<<\n",
    "    output_datastore6.append(key, df)\n",
    "    \n",
    "    # Ahora tomo los datos del medidor objetivo pero de test\n",
    "    \n",
    "    \n",
    "\n",
    "    # Append aggregate data to output / Agregar datos agregados a la salida\n",
    "    # Crea un dataframe para la serie de datos del medidor central original\n",
    "    mains_df = pd.DataFrame(chunk, columns=cols, dtype=\"float32\")\n",
    "    # Y tambien la agrega al archivo de salidas calculadas quedando en orden\n",
    "    # datos predichos y luego datos originales del medidor con clave '/building1/elec/meter1'\n",
    "    # Al hacerlo de este modo cada nuevo df se agrega debajo del anterior segun el nombre de sus\n",
    "    # columnas. Deben tener el mismo nombre y orden para que se haga el match\n",
    "    #<<<<<<<\n",
    "    output_datastore6.append(key=mains_data_location, value=mains_df)"
   ]
  },
  {
   "cell_type": "code",
   "execution_count": 230,
   "metadata": {},
   "outputs": [
    {
     "name": "stdout",
     "output_type": "stream",
     "text": [
      "output_datastore.keys() ['/building1/elec/meter1', '/building1/elec/meter11']\n"
     ]
    }
   ],
   "source": [
    "#<<<<<<<\n",
    "print(f\"output_datastore.keys() {output_datastore6.keys()}\")"
   ]
  },
  {
   "cell_type": "code",
   "execution_count": 231,
   "metadata": {},
   "outputs": [
    {
     "name": "stdout",
     "output_type": "stream",
     "text": [
      "type(t6) <class 'pandas.core.frame.DataFrame'>\n",
      "t6.shape (746138, 1)\n"
     ]
    }
   ],
   "source": [
    "t11 = output_datastore6.get('/building1/elec/meter1')\n",
    "t12 = output_datastore6.get('/building1/elec/meter11') #Prediccion\n",
    "print(f\"type(t6) {type(t12)}\")\n",
    "print(f\"t6.shape {t12.shape}\")"
   ]
  },
  {
   "cell_type": "code",
   "execution_count": 232,
   "metadata": {},
   "outputs": [
    {
     "name": "stdout",
     "output_type": "stream",
     "text": [
      "type(test_meter_medidor) <class 'pandas.core.series.Series'>\n"
     ]
    },
    {
     "name": "stderr",
     "output_type": "stream",
     "text": [
      "C:\\Users\\josel\\Anaconda3\\envs\\nilmtk-env\\lib\\site-packages\\nilmtk\\elecmeter.py:446: UserWarning: The provided sample_period (1) is shorter than the meter's sample_period (3)\n",
      "  sample_period, default_sample_period\n"
     ]
    }
   ],
   "source": [
    "test_meter_medidor = test_meter.power_series(**load_kwargs) #Real\n",
    "test_meter_medidor = next(test_meter_medidor)\n",
    "print(f\"type(test_meter_medidor) {type(test_meter_medidor)}\")"
   ]
  },
  {
   "cell_type": "code",
   "execution_count": 233,
   "metadata": {
    "scrolled": true
   },
   "outputs": [
    {
     "data": {
      "text/plain": [
       "[<matplotlib.lines.Line2D at 0x1720c3077b8>]"
      ]
     },
     "execution_count": 233,
     "metadata": {},
     "output_type": "execute_result"
    },
    {
     "data": {
      "image/png": "[encoded data removed]",
      "text/plain": [
       "<Figure size 432x288 with 1 Axes>"
      ]
     },
     "metadata": {
      "needs_background": "light"
     },
     "output_type": "display_data"
    }
   ],
   "source": [
    "plt.plot(t12[28000:88000])                   #Azul\n",
    "plt.plot(test_meter_medidor[28000:88000])   #Amarillo"
   ]
  },
  {
   "cell_type": "markdown",
   "metadata": {},
   "source": [
    "# V3 Micro Ondas"
   ]
  },
  {
   "cell_type": "code",
   "execution_count": 234,
   "metadata": {},
   "outputs": [],
   "source": [
    "# Una estructura con 256 pasos en el tamaño de la muestra\n",
    "sequence_length = 256"
   ]
  },
  {
   "cell_type": "code",
   "execution_count": 235,
   "metadata": {},
   "outputs": [
    {
     "name": "stderr",
     "output_type": "stream",
     "text": [
      "C:\\Users\\josel\\Anaconda3\\envs\\nilmtk-env\\lib\\site-packages\\nilmtk\\elecmeter.py:446: UserWarning: The provided sample_period (1) is shorter than the meter's sample_period (3)\n",
      "  sample_period, default_sample_period\n"
     ]
    },
    {
     "name": "stdout",
     "output_type": "stream",
     "text": [
      "mainchunk tipo = <class 'pandas.core.series.Series'> tamaño = (1003071,)\n",
      "meterchunk tipo = <class 'pandas.core.series.Series'> tamaño = (1003066,)\n",
      "DatetimeIndex(['2011-04-18 09:22:13-04:00', '2011-04-18 09:22:14-04:00',\n",
      "               '2011-04-18 09:22:15-04:00', '2011-04-18 09:22:16-04:00',\n",
      "               '2011-04-18 09:22:17-04:00', '2011-04-18 09:22:18-04:00',\n",
      "               '2011-04-18 09:22:19-04:00', '2011-04-18 09:22:20-04:00',\n",
      "               '2011-04-18 09:22:21-04:00', '2011-04-18 09:22:22-04:00',\n",
      "               ...\n",
      "               '2011-04-29 23:59:49-04:00', '2011-04-29 23:59:50-04:00',\n",
      "               '2011-04-29 23:59:51-04:00', '2011-04-29 23:59:52-04:00',\n",
      "               '2011-04-29 23:59:53-04:00', '2011-04-29 23:59:54-04:00',\n",
      "               '2011-04-29 23:59:55-04:00', '2011-04-29 23:59:56-04:00',\n",
      "               '2011-04-29 23:59:57-04:00', '2011-04-29 23:59:58-04:00'],\n",
      "              dtype='datetime64[ns, US/Eastern]', length=1003066, freq='S')\n",
      "X_batch (3919, 256, 1)\n",
      "Y_batch (3919, 256, 1)\n"
     ]
    }
   ],
   "source": [
    "#1. Cargar los datos para entrenamiento\n",
    "train = DataSet('C:\\\\Users\\\\josel\\\\SmartMeter\\\\OrdenandoTodo\\\\redd.h5')\n",
    "train.set_window(end=\"30-4-2011\")      # Usando como final el 30 de abril\n",
    "train_elec = train.buildings[1].elec\n",
    "\n",
    "#3. Carga como medidor de entrenamiento el medidor central y el medidor para un dispositivo Fridge\n",
    "train_mains = train_elec.mains().all_meters()[0] # El medidor agregado o central que proporciona la entrada\n",
    "train_meter = train_elec.submeters()['microwave'] # El medidor de microondas que se utiliza como objetivo de entrenamiento.\n",
    "#4. Cargar los datos de las series definidas\n",
    "# Frecuencia de la muestra\n",
    "load_kwargs = {'sample_period': 1}\n",
    "# Esta función crea un generador de datos, si es necesario la remuestrea\n",
    "# al periodo de tiempo definida por el usuario\n",
    "main_power_series = train_mains.power_series(**load_kwargs)\n",
    "meter_power_series = train_meter.power_series(**load_kwargs)\n",
    "\n",
    "#5. Con next des empaqueta los datos en series de pandas antes definidas por un generador\n",
    "mainchunk = next(main_power_series)          # Datos del medidor central\n",
    "meterchunk = next(meter_power_series)        # Datos del electrodomestico\n",
    "\n",
    "print(f\"mainchunk tipo = {type(mainchunk)} tamaño = {mainchunk.shape}\")\n",
    "print(f\"meterchunk tipo = {type(meterchunk)} tamaño = {meterchunk.shape}\")\n",
    "\n",
    "#6. Calcula el valor maximo del medidor central\n",
    "mmax = None\n",
    "if mmax == None:\n",
    "    mmax = mainchunk.max()\n",
    "mmax\n",
    "\n",
    "#7. Funciones para normalizar los datos\n",
    "# Normaliza las series de tiempo teniendo en cuenta el valor maximo\n",
    "# mmax medido por el medidor central\n",
    "def _normalize(chunk, mmax):\n",
    "    tchunk = chunk / mmax\n",
    "    return tchunk\n",
    "\n",
    "# Des Normaliza las series de tiempo teniendo en cuenta el valor maximo\n",
    "# mmax medido por el medidor central\n",
    "def _denormalize(chunk, mmax):\n",
    "    tchunk = chunk * mmax\n",
    "    return tchunk\n",
    "\n",
    "#8. #Normaliza las series\n",
    "mainchunk = _normalize(mainchunk, mmax)\n",
    "meterchunk = _normalize(meterchunk, mmax)\n",
    "mainchunk.head(5)\n",
    "\n",
    "#9. Tamaño de la secuencia definida para el modelo\n",
    "s = sequence_length\n",
    "#10. Remplaza valores NaNs con 0s\n",
    "mainchunk.fillna(0, inplace=True)\n",
    "meterchunk.fillna(0, inplace=True)\n",
    "\n",
    "#11. Une los indices comunes a las dos series de dispositivo y medidor\n",
    "# Retorna una serie con los indices comunes en fechas\n",
    "ix = mainchunk.index.intersection(meterchunk.index)\n",
    "print(ix)\n",
    "\n",
    "#11. Toma los datos en las fechas coincidentes y descarta las demas\n",
    "# seleccionando por medio de los indices contenidos en ix\n",
    "mainchunk = mainchunk[ix]\n",
    "meterchunk = meterchunk[ix]\n",
    "\n",
    "#12. Tamaño del batch de ceros\n",
    "adicion = s - (len(ix) % s)\n",
    "#A cada serie de medidor se le agrega el batch\n",
    "#Se definen en función del tamaño de la muestra\n",
    "#Esta operación elimina el indice de tipo tiempo\n",
    "X_batch = np.append(mainchunk, np.zeros(adicion))    # Medidor central\n",
    "Y_batch = np.append(meterchunk, np.zeros(adicion))   # Medidor de dispositivo\n",
    "\n",
    "#13. Cambia la forma de los datos quedando la señal en tramos de 256 puntos chunk\n",
    "#Para el ventanas de 256 seran (muestras = 3919, ventana = 256, Caracteristica = 1)\n",
    "X_batch = np.reshape(X_batch, (int(len(X_batch) / s), s, 1))\n",
    "Y_batch = np.reshape(Y_batch, (int(len(Y_batch) / s), s, 1))\n",
    "print(f\"X_batch {X_batch.shape}\")\n",
    "print(f\"Y_batch {Y_batch.shape}\")"
   ]
  },
  {
   "cell_type": "markdown",
   "metadata": {},
   "source": [
    "## Modelo 7\n",
    "Por dinamismo creare los modelos a modo de funciones, de esta manera puedo guardar un modelo dentro de una variable que puedo invocar dentro de otras funciones. \n",
    "\n",
    "Agregando mas capas densas intermedias"
   ]
  },
  {
   "cell_type": "code",
   "execution_count": 236,
   "metadata": {},
   "outputs": [],
   "source": [
    "def auto_encoder7(sequence_len):\n",
    "    '''Crear el modulo Auto encoder descrito en el articulo\n",
    "    '''\n",
    "    #Crea el contenedor del modelo\n",
    "    model = Sequential()\n",
    "\n",
    "    # 1D Conv filtros = 8, kernel = 4, entrada 256 pasos de 1 feature, padding igual, paso en 1\n",
    "    model.add(Conv1D(8, 4, activation=\"linear\", input_shape=(sequence_len, 1), padding=\"same\", strides=1))\n",
    "    #Aplanar la salida\n",
    "    model.add(Flatten())\n",
    "\n",
    "    #Auto encoder\n",
    "    # Fully Connected Layers abandono del 20%\n",
    "    model.add(Dropout(0.2))\n",
    "    # Neuronas 8 veces el tamaño de la ventana de tiempo = 2048 nodos\n",
    "    model.add(Dense((sequence_len-0)*8, activation='relu'))\n",
    "    #Abandono del 20% capa con 128 neuronas\n",
    "    model.add(Dropout(0.2))\n",
    "    model.add(Dense(128, activation='relu'))\n",
    "    #Abandono del 20% capa con 2048 nodos\n",
    "    model.add(Dropout(0.2))\n",
    "    model.add(Dense((sequence_len-0)*8, activation='relu'))\n",
    "\n",
    "    model.add(Dropout(0.2))\n",
    "\n",
    "    # 1D Conv\n",
    "    # La salida de la capa anterior es una secuencia aplanada. Es necesario cambiar\n",
    "    # el formato de los datos de salida para obtener datos de forma 256,8 similar\n",
    "    # a los pasos y filtros de la primer convolución\n",
    "    model.add(Reshape(((sequence_len-0), 8)))\n",
    "    #Entrega estos datos a una nueva capa convolucional 1 filtro con kernel = 4\n",
    "    #Supongo es de un solo filtro debido a que deseamos obtener una sola serie. \n",
    "    model.add(Conv1D(1, 4, activation=\"linear\", padding=\"same\", strides=1))\n",
    "    #Compila el modelo con perdida mse y optimizador de adam\n",
    "    model.compile(loss='mse', optimizer='adam')\n",
    "    #Grafico del modelo para exportar\n",
    "    #plot_model(model, to_file='model.png', show_shapes=True)\n",
    "\n",
    "    return model"
   ]
  },
  {
   "cell_type": "code",
   "execution_count": 237,
   "metadata": {},
   "outputs": [],
   "source": [
    "#<<<<\n",
    "dae7 = auto_encoder7(sequence_length)"
   ]
  },
  {
   "cell_type": "code",
   "execution_count": 238,
   "metadata": {},
   "outputs": [
    {
     "name": "stdout",
     "output_type": "stream",
     "text": [
      "Epoch 1/25\n",
      "123/123 [==============================] - 5s 39ms/step - loss: 0.0015\n",
      "Epoch 2/25\n",
      "123/123 [==============================] - 5s 40ms/step - loss: 0.0017\n",
      "Epoch 3/25\n",
      "123/123 [==============================] - 5s 40ms/step - loss: 0.0014\n",
      "Epoch 4/25\n",
      "123/123 [==============================] - 5s 40ms/step - loss: 0.0013\n",
      "Epoch 5/25\n",
      "123/123 [==============================] - 5s 41ms/step - loss: 0.0016\n",
      "Epoch 6/25\n",
      "123/123 [==============================] - 5s 41ms/step - loss: 0.0012\n",
      "Epoch 7/25\n",
      "123/123 [==============================] - 5s 41ms/step - loss: 0.0010\n",
      "Epoch 8/25\n",
      "123/123 [==============================] - 5s 41ms/step - loss: 9.9957e-04\n",
      "Epoch 9/25\n",
      "123/123 [==============================] - 5s 40ms/step - loss: 0.0014\n",
      "Epoch 10/25\n",
      "123/123 [==============================] - 5s 40ms/step - loss: 9.2122e-04\n",
      "Epoch 11/25\n",
      "123/123 [==============================] - 5s 40ms/step - loss: 7.2173e-04\n",
      "Epoch 12/25\n",
      "123/123 [==============================] - 5s 41ms/step - loss: 8.6265e-04\n",
      "Epoch 13/25\n",
      "123/123 [==============================] - 5s 41ms/step - loss: 8.1378e-04\n",
      "Epoch 14/25\n",
      "123/123 [==============================] - 5s 41ms/step - loss: 9.2235e-04\n",
      "Epoch 15/25\n",
      "123/123 [==============================] - 5s 41ms/step - loss: 7.5853e-04\n",
      "Epoch 16/25\n",
      "123/123 [==============================] - 5s 41ms/step - loss: 7.3978e-04\n",
      "Epoch 17/25\n",
      "123/123 [==============================] - 5s 41ms/step - loss: 5.2373e-04\n",
      "Epoch 18/25\n",
      "123/123 [==============================] - 5s 41ms/step - loss: 5.2187e-04\n",
      "Epoch 19/25\n",
      "123/123 [==============================] - 5s 41ms/step - loss: 6.1739e-04\n",
      "Epoch 20/25\n",
      "123/123 [==============================] - 5s 41ms/step - loss: 5.3070e-04\n",
      "Epoch 21/25\n",
      "123/123 [==============================] - 5s 41ms/step - loss: 8.5189e-04\n",
      "Epoch 22/25\n",
      "123/123 [==============================] - 5s 41ms/step - loss: 5.6953e-04\n",
      "Epoch 23/25\n",
      "123/123 [==============================] - 5s 41ms/step - loss: 5.5474e-04\n",
      "Epoch 24/25\n",
      "123/123 [==============================] - 5s 41ms/step - loss: 6.4802e-04\n",
      "Epoch 25/25\n",
      "123/123 [==============================] - 5s 41ms/step - loss: 6.4014e-04\n"
     ]
    }
   ],
   "source": [
    "# Entrenar el modelo\n",
    "train_mains = X_batch \n",
    "train_meter = Y_batch \n",
    "#<<<<\n",
    "modelo_entrenado7 = dae7.fit(train_mains, train_meter, epochs=25)"
   ]
  },
  {
   "cell_type": "code",
   "execution_count": 239,
   "metadata": {},
   "outputs": [
    {
     "name": "stdout",
     "output_type": "stream",
     "text": [
      "Model: \"sequential_12\"\n",
      "_________________________________________________________________\n",
      "Layer (type)                 Output Shape              Param #   \n",
      "=================================================================\n",
      "conv1d_23 (Conv1D)           (None, 256, 8)            40        \n",
      "_________________________________________________________________\n",
      "flatten_12 (Flatten)         (None, 2048)              0         \n",
      "_________________________________________________________________\n",
      "dropout_72 (Dropout)         (None, 2048)              0         \n",
      "_________________________________________________________________\n",
      "dense_53 (Dense)             (None, 2048)              4196352   \n",
      "_________________________________________________________________\n",
      "dropout_73 (Dropout)         (None, 2048)              0         \n",
      "_________________________________________________________________\n",
      "dense_54 (Dense)             (None, 128)               262272    \n",
      "_________________________________________________________________\n",
      "dropout_74 (Dropout)         (None, 128)               0         \n",
      "_________________________________________________________________\n",
      "dense_55 (Dense)             (None, 2048)              264192    \n",
      "_________________________________________________________________\n",
      "dropout_75 (Dropout)         (None, 2048)              0         \n",
      "_________________________________________________________________\n",
      "reshape_12 (Reshape)         (None, 256, 8)            0         \n",
      "_________________________________________________________________\n",
      "conv1d_24 (Conv1D)           (None, 256, 1)            33        \n",
      "=================================================================\n",
      "Total params: 4,722,889\n",
      "Trainable params: 4,722,889\n",
      "Non-trainable params: 0\n",
      "_________________________________________________________________\n"
     ]
    }
   ],
   "source": [
    "#<<<<<<\n",
    "dae7.summary()"
   ]
  },
  {
   "cell_type": "markdown",
   "metadata": {},
   "source": [
    "# Datos de test"
   ]
  },
  {
   "cell_type": "code",
   "execution_count": 240,
   "metadata": {},
   "outputs": [],
   "source": [
    "#14. Carga los datos completos\n",
    "test = DataSet('C:\\\\Users\\\\josel\\\\SmartMeter\\\\OrdenandoTodo\\\\redd.h5')\n",
    "#15. Define el tamaño de la muestra de test iniciando justo donde termina el train\n",
    "test.set_window(start=\"30-4-2011\") \n",
    "#16. Selecciona los electrodomesticos del primer edificio\n",
    "test_elec = test.buildings[1].elec\n",
    "#17. Selecciona el medidor central del edificio\n",
    "test_mains = test_elec.mains().all_meters()[0]\n",
    "test_meter = test_elec.submeters()['microwave']"
   ]
  },
  {
   "cell_type": "code",
   "execution_count": 241,
   "metadata": {},
   "outputs": [],
   "source": [
    "#18. Define un array para timeframes vacio en este almacenare\n",
    "# los tiempos donde el medidor estaba en buen funcionamiento\n",
    "timeframes = []\n",
    "\n",
    "#19. Crea un string con el nombre del edificio mas el id del edificio que lo\n",
    "#toma desde los metadatos \n",
    "#ejemplo building1\n",
    "building_path = '/building{}'.format(test_mains.building())\n",
    "#20. Ahora crea el nombre de la ruta al medidor 1 del edificio en cuestión\n",
    "#Pej.  building1/elec/meter1\n",
    "mains_data_location = building_path + '/elec/meter1'\n",
    "\n",
    "#21. Variable de control datos estan disponibles\n",
    "data_is_available = False"
   ]
  },
  {
   "cell_type": "code",
   "execution_count": 242,
   "metadata": {},
   "outputs": [
    {
     "data": {
      "text/plain": [
       "[TimeFrame(start='2011-04-30 00:00:00-04:00', end='2011-05-01 09:44:42-04:00', empty=False),\n",
       " TimeFrame(start='2011-05-01 09:47:18-04:00', end='2011-05-02 17:04:59-04:00', empty=False),\n",
       " TimeFrame(start='2011-05-02 17:07:27-04:00', end='2011-05-03 17:30:17-04:00', empty=False),\n",
       " TimeFrame(start='2011-05-03 17:32:49-04:00', end='2011-05-03 17:33:44-04:00', empty=False),\n",
       " TimeFrame(start='2011-05-06 10:51:46-04:00', end='2011-05-07 01:53:10-04:00', empty=False),\n",
       " TimeFrame(start='2011-05-07 01:53:55-04:00', end='2011-05-07 02:38:15-04:00', empty=False),\n",
       " TimeFrame(start='2011-05-07 02:40:43-04:00', end='2011-05-07 11:59:16-04:00', empty=False),\n",
       " TimeFrame(start='2011-05-11 03:19:43-04:00', end='2011-05-12 17:48:38-04:00', empty=False),\n",
       " TimeFrame(start='2011-05-12 20:14:30-04:00', end='2011-05-13 05:16:24-04:00', empty=False),\n",
       " TimeFrame(start='2011-05-22 16:04:46-04:00', end='2011-05-22 23:39:01-04:00', empty=False),\n",
       " TimeFrame(start='2011-05-22 23:41:35-04:00', end='2011-05-23 09:22:08-04:00', empty=False),\n",
       " TimeFrame(start='2011-05-23 10:31:34-04:00', end='2011-05-24 14:32:05-04:00', empty=False),\n",
       " TimeFrame(start='2011-05-24 15:55:33-04:00', end='2011-05-24 15:57:02-04:00', empty=False)]"
      ]
     },
     "execution_count": 242,
     "metadata": {},
     "output_type": "execute_result"
    }
   ],
   "source": [
    "#22. Verificar los tiempos de buen funcionamiento del medidor central\n",
    "load_kwargs.setdefault('sections', test_mains.good_sections())"
   ]
  },
  {
   "cell_type": "code",
   "execution_count": 243,
   "metadata": {},
   "outputs": [],
   "source": [
    "#23. Defino una lista que contendra los instantes de buen funcionamiento \n",
    "# que cumplan con el tamaño de muestra\n",
    "timeframes = []"
   ]
  },
  {
   "cell_type": "code",
   "execution_count": 244,
   "metadata": {},
   "outputs": [],
   "source": [
    "#output_datastore7.close()"
   ]
  },
  {
   "cell_type": "code",
   "execution_count": 245,
   "metadata": {},
   "outputs": [],
   "source": [
    "#<<<<<<<\n",
    "output_datastore7 = pd.HDFStore(\"predict7_V3.h5\", \"w\")"
   ]
  },
  {
   "cell_type": "code",
   "execution_count": 246,
   "metadata": {},
   "outputs": [
    {
     "name": "stdout",
     "output_type": "stream",
     "text": [
      "New sensible chunk: 121482 size of data\n",
      "New sensible chunk: 112661 size of data\n",
      "New sensible chunk: 87770 size of data\n",
      "New sensible chunk: 54084 size of data\n",
      "New sensible chunk: 2660 size of data\n",
      "New sensible chunk: 33513 size of data\n",
      "New sensible chunk: 138535 size of data\n",
      "New sensible chunk: 32514 size of data\n",
      "New sensible chunk: 27255 size of data\n",
      "New sensible chunk: 34833 size of data\n",
      "New sensible chunk: 100831 size of data\n"
     ]
    }
   ],
   "source": [
    "#24. Recorro todas los tramos de test para el medidor central en buen funcionamiento\n",
    "MIN_CHUNK_LENGTH = sequence_length #Tamaño del paso de ventana\n",
    "id_serie = 0\n",
    "for chunk in test_mains.power_series(**load_kwargs):\n",
    "    #25. Si el tamaño de la serie cargada es menor al de las ventanas se descarta\n",
    "    if len(chunk) < MIN_CHUNK_LENGTH:\n",
    "        continue\n",
    "    #26. Imprime el tamaño de los tramos de series cargados\n",
    "    print(\"New sensible chunk: {} size of data\".format(len(chunk)))\n",
    "    \n",
    "    # Se guarda cada tramo de tiempo seleccionado\n",
    "    timeframes.append(chunk.timeframe)\n",
    "    # Nombre de las columnas de series de datos ('power', 'apparent')\n",
    "    measurement = chunk.name\n",
    "    \n",
    "    # Normaliza la serie chunk del medidor central cargada y la guarda en una nueva variable usando como\n",
    "    # maximo el valor del medidor centrar de entrenamiento\n",
    "    chunk2 = _normalize(chunk, mmax)\n",
    "\n",
    "    #Ahora debo crear una base de datos con las formas adecuadas para cada chunk\n",
    "    #cree una función que guarda las series en un archivo hdf5\n",
    "    #requiere el numero de la serie iniciando en 0 para usarla como id\n",
    "    \n",
    "    #llamar funcion, pasar chunk2 y el id_serie \n",
    "    #>>>>>>>>>>>>>>>>>>>\n",
    "    appliance_power = data_predict(chunk2, id_serie, dae7)\n",
    "    \n",
    "    # Todo valor negativo calculado lo iguala a cero\n",
    "    appliance_power[appliance_power < 0] = 0\n",
    "    \n",
    "    # Calcula el valor real mediante la desnormalización de los datos\n",
    "    appliance_power = _denormalize(appliance_power, mmax)\n",
    "    \n",
    "    # Convierte lista de tuplas a MultiIndex osea una estructura que contiene\n",
    "    # multiples indices. Lons nombres estan dados pos la serie main original\n",
    "    # chunk.name = ('power', 'apparent') \n",
    "    # cols = MultiIndex([('power', 'apparent')]\n",
    "    cols = pd.MultiIndex.from_tuples([chunk.name])\n",
    "    \n",
    "    # De los metadatos extrae el valor de la instancia de la medida\n",
    "    # que en si es como el id del dispositivo por ejemplo 5 para refrigerador\n",
    "    # en el edificio 1. Siempre es el del electrodomestico\n",
    "    meter_instance = test_meter.instance()\n",
    "    \n",
    "    # Ahora crea un df para cada serie predicha chunk con: \n",
    "    # appliance_power.values = los valores de la serie predicha\n",
    "    # index=appliance_power.index con indice el tiempo de dicha serie\n",
    "    # columns=cols da el nombre de las columnas ('power', 'apparent') es el nombre \n",
    "    # de la columna de medidas, el indice no tiene nombre\n",
    "    # y define los datos como  de punto flotante\n",
    "    df = pd.DataFrame(\n",
    "        appliance_power.values, index=appliance_power.index,\n",
    "        columns=cols, dtype=\"float32\")\n",
    "\n",
    "    # Define el nombre de la ruta de cada dispositivo /building1/elec/meter5 predicho\n",
    "    # Esta es la clave de los datos procesados para guardar en el h5 \n",
    "    # Esta clave se mantiene igual para cada tramo chunk que se haga la predicción\n",
    "    key = '{}/elec/meter{}'.format(building_path, meter_instance)\n",
    "\n",
    "    # En el archivo output_datastore4 se agregaran los datos calculados en \n",
    "    # cada predicción es el archivo hdf5 definido en el programa principal\n",
    "    # Para cada clave '/building1/elec/meter5' agrega el df\n",
    "    # Primero para la serie calculada para el electrodomestico '/building1/elec/meter5'\n",
    "    #<<<<<<<\n",
    "    output_datastore7.append(key, df)\n",
    "    \n",
    "    # Ahora tomo los datos del medidor objetivo pero de test\n",
    "    \n",
    "    \n",
    "\n",
    "    # Append aggregate data to output / Agregar datos agregados a la salida\n",
    "    # Crea un dataframe para la serie de datos del medidor central original\n",
    "    mains_df = pd.DataFrame(chunk, columns=cols, dtype=\"float32\")\n",
    "    # Y tambien la agrega al archivo de salidas calculadas quedando en orden\n",
    "    # datos predichos y luego datos originales del medidor con clave '/building1/elec/meter1'\n",
    "    # Al hacerlo de este modo cada nuevo df se agrega debajo del anterior segun el nombre de sus\n",
    "    # columnas. Deben tener el mismo nombre y orden para que se haga el match\n",
    "    #<<<<<<<\n",
    "    output_datastore7.append(key=mains_data_location, value=mains_df)"
   ]
  },
  {
   "cell_type": "code",
   "execution_count": 247,
   "metadata": {},
   "outputs": [
    {
     "name": "stdout",
     "output_type": "stream",
     "text": [
      "output_datastore.keys() ['/building1/elec/meter1', '/building1/elec/meter11']\n"
     ]
    }
   ],
   "source": [
    "#<<<<<<<\n",
    "print(f\"output_datastore.keys() {output_datastore7.keys()}\")"
   ]
  },
  {
   "cell_type": "code",
   "execution_count": 248,
   "metadata": {},
   "outputs": [
    {
     "name": "stdout",
     "output_type": "stream",
     "text": [
      "type(t6) <class 'pandas.core.frame.DataFrame'>\n",
      "t6.shape (746138, 1)\n"
     ]
    }
   ],
   "source": [
    "t13 = output_datastore7.get('/building1/elec/meter1')\n",
    "t14 = output_datastore7.get('/building1/elec/meter11') #Prediccion\n",
    "print(f\"type(t6) {type(t12)}\")\n",
    "print(f\"t6.shape {t12.shape}\")"
   ]
  },
  {
   "cell_type": "code",
   "execution_count": 249,
   "metadata": {},
   "outputs": [
    {
     "name": "stdout",
     "output_type": "stream",
     "text": [
      "type(test_meter_medidor) <class 'pandas.core.series.Series'>\n"
     ]
    },
    {
     "name": "stderr",
     "output_type": "stream",
     "text": [
      "C:\\Users\\josel\\Anaconda3\\envs\\nilmtk-env\\lib\\site-packages\\nilmtk\\elecmeter.py:446: UserWarning: The provided sample_period (1) is shorter than the meter's sample_period (3)\n",
      "  sample_period, default_sample_period\n"
     ]
    }
   ],
   "source": [
    "test_meter_medidor = test_meter.power_series(**load_kwargs) #Real\n",
    "test_meter_medidor = next(test_meter_medidor)\n",
    "print(f\"type(test_meter_medidor) {type(test_meter_medidor)}\")"
   ]
  },
  {
   "cell_type": "code",
   "execution_count": 250,
   "metadata": {
    "scrolled": false
   },
   "outputs": [
    {
     "data": {
      "text/plain": [
       "[<matplotlib.lines.Line2D at 0x1720c55db38>]"
      ]
     },
     "execution_count": 250,
     "metadata": {},
     "output_type": "execute_result"
    },
    {
     "data": {
      "image/png": "[encoded data removed]",
      "text/plain": [
       "<Figure size 432x288 with 1 Axes>"
      ]
     },
     "metadata": {
      "needs_background": "light"
     },
     "output_type": "display_data"
    }
   ],
   "source": [
    "plt.plot(t14[28000:88000])\n",
    "plt.plot(test_meter_medidor[28000:88000])"
   ]
  },
  {
   "cell_type": "code",
   "execution_count": null,
   "metadata": {},
   "outputs": [],
   "source": []
  },
  {
   "cell_type": "code",
   "execution_count": null,
   "metadata": {},
   "outputs": [],
   "source": []
  },
  {
   "cell_type": "markdown",
   "metadata": {},
   "source": [
    "# washer dryer"
   ]
  },
  {
   "cell_type": "markdown",
   "metadata": {},
   "source": [
    "### V1 washer dryer"
   ]
  },
  {
   "cell_type": "code",
   "execution_count": 269,
   "metadata": {},
   "outputs": [],
   "source": [
    "# Una estructura con 256 pasos en el tamaño de la muestra\n",
    "sequence_length = 256"
   ]
  },
  {
   "cell_type": "code",
   "execution_count": 270,
   "metadata": {},
   "outputs": [
    {
     "name": "stdout",
     "output_type": "stream",
     "text": [
      "\r",
      "Loading data for meter ElecMeterID(instance=10, building=1, dataset='REDD')     "
     ]
    },
    {
     "name": "stderr",
     "output_type": "stream",
     "text": [
      "C:\\Users\\josel\\Anaconda3\\envs\\nilmtk-env\\lib\\site-packages\\nilmtk\\elecmeter.py:446: UserWarning: The provided sample_period (1) is shorter than the meter's sample_period (3)\n",
      "  sample_period, default_sample_period\n"
     ]
    },
    {
     "name": "stdout",
     "output_type": "stream",
     "text": [
      "Loading data for meter ElecMeterID(instance=20, building=1, dataset='REDD')     \n",
      "Done loading data all meters for this chunk.\n",
      "mainchunk tipo = <class 'pandas.core.series.Series'> tamaño = (1003071,)\n",
      "meterchunk tipo = <class 'pandas.core.series.Series'> tamaño = (1003067,)\n",
      "DatetimeIndex(['2011-04-18 09:22:13-04:00', '2011-04-18 09:22:14-04:00',\n",
      "               '2011-04-18 09:22:15-04:00', '2011-04-18 09:22:16-04:00',\n",
      "               '2011-04-18 09:22:17-04:00', '2011-04-18 09:22:18-04:00',\n",
      "               '2011-04-18 09:22:19-04:00', '2011-04-18 09:22:20-04:00',\n",
      "               '2011-04-18 09:22:21-04:00', '2011-04-18 09:22:22-04:00',\n",
      "               ...\n",
      "               '2011-04-29 23:59:50-04:00', '2011-04-29 23:59:51-04:00',\n",
      "               '2011-04-29 23:59:52-04:00', '2011-04-29 23:59:53-04:00',\n",
      "               '2011-04-29 23:59:54-04:00', '2011-04-29 23:59:55-04:00',\n",
      "               '2011-04-29 23:59:56-04:00', '2011-04-29 23:59:57-04:00',\n",
      "               '2011-04-29 23:59:58-04:00', '2011-04-29 23:59:59-04:00'],\n",
      "              dtype='datetime64[ns, US/Eastern]', length=1003067, freq='S')\n",
      "X_batch (3919, 256, 1)\n",
      "Y_batch (3919, 256, 1)\n"
     ]
    }
   ],
   "source": [
    "#1. Cargar los datos para entrenamiento\n",
    "train = DataSet('C:\\\\Users\\\\josel\\\\SmartMeter\\\\OrdenandoTodo\\\\redd.h5')\n",
    "train.set_window(end=\"30-4-2011\")      # Usando como final el 30 de abril\n",
    "train_elec = train.buildings[1].elec\n",
    "\n",
    "#3. Carga como medidor de entrenamiento el medidor central y el medidor para un dispositivo Fridge\n",
    "train_mains = train_elec.mains().all_meters()[0] # El medidor agregado o central que proporciona la entrada\n",
    "train_meter = train_elec.submeters()['washer dryer'] # El medidor de microondas que se utiliza como objetivo de entrenamiento.\n",
    "#4. Cargar los datos de las series definidas\n",
    "# Frecuencia de la muestra\n",
    "load_kwargs = {'sample_period': 1}\n",
    "# Esta función crea un generador de datos, si es necesario la remuestrea\n",
    "# al periodo de tiempo definida por el usuario\n",
    "main_power_series = train_mains.power_series(**load_kwargs)\n",
    "meter_power_series = train_meter.power_series(**load_kwargs)\n",
    "\n",
    "#5. Con next des empaqueta los datos en series de pandas antes definidas por un generador\n",
    "mainchunk = next(main_power_series)          # Datos del medidor central\n",
    "meterchunk = next(meter_power_series)        # Datos del electrodomestico\n",
    "\n",
    "print(f\"mainchunk tipo = {type(mainchunk)} tamaño = {mainchunk.shape}\")\n",
    "print(f\"meterchunk tipo = {type(meterchunk)} tamaño = {meterchunk.shape}\")\n",
    "\n",
    "#6. Calcula el valor maximo del medidor central\n",
    "mmax = None\n",
    "if mmax == None:\n",
    "    mmax = mainchunk.max()\n",
    "mmax\n",
    "\n",
    "#7. Funciones para normalizar los datos\n",
    "# Normaliza las series de tiempo teniendo en cuenta el valor maximo\n",
    "# mmax medido por el medidor central\n",
    "def _normalize(chunk, mmax):\n",
    "    tchunk = chunk / mmax\n",
    "    return tchunk\n",
    "\n",
    "# Des Normaliza las series de tiempo teniendo en cuenta el valor maximo\n",
    "# mmax medido por el medidor central\n",
    "def _denormalize(chunk, mmax):\n",
    "    tchunk = chunk * mmax\n",
    "    return tchunk\n",
    "\n",
    "#8. #Normaliza las series\n",
    "mainchunk = _normalize(mainchunk, mmax)\n",
    "meterchunk = _normalize(meterchunk, mmax)\n",
    "mainchunk.head(5)\n",
    "\n",
    "#9. Tamaño de la secuencia definida para el modelo\n",
    "s = sequence_length\n",
    "#10. Remplaza valores NaNs con 0s\n",
    "mainchunk.fillna(0, inplace=True)\n",
    "meterchunk.fillna(0, inplace=True)\n",
    "\n",
    "#11. Une los indices comunes a las dos series de dispositivo y medidor\n",
    "# Retorna una serie con los indices comunes en fechas\n",
    "ix = mainchunk.index.intersection(meterchunk.index)\n",
    "print(ix)\n",
    "\n",
    "#11. Toma los datos en las fechas coincidentes y descarta las demas\n",
    "# seleccionando por medio de los indices contenidos en ix\n",
    "mainchunk = mainchunk[ix]\n",
    "meterchunk = meterchunk[ix]\n",
    "\n",
    "#12. Tamaño del batch de ceros\n",
    "adicion = s - (len(ix) % s)\n",
    "#A cada serie de medidor se le agrega el batch\n",
    "#Se definen en función del tamaño de la muestra\n",
    "#Esta operación elimina el indice de tipo tiempo\n",
    "X_batch = np.append(mainchunk, np.zeros(adicion))    # Medidor central\n",
    "Y_batch = np.append(meterchunk, np.zeros(adicion))   # Medidor de dispositivo\n",
    "\n",
    "#13. Cambia la forma de los datos quedando la señal en tramos de 256 puntos chunk\n",
    "#Para el ventanas de 256 seran (muestras = 3919, ventana = 256, Caracteristica = 1)\n",
    "X_batch = np.reshape(X_batch, (int(len(X_batch) / s), s, 1))\n",
    "Y_batch = np.reshape(Y_batch, (int(len(Y_batch) / s), s, 1))\n",
    "print(f\"X_batch {X_batch.shape}\")\n",
    "print(f\"Y_batch {Y_batch.shape}\")"
   ]
  },
  {
   "cell_type": "markdown",
   "metadata": {},
   "source": [
    "## Modelo 8\n",
    "Por dinamismo creare los modelos a modo de funciones, de esta manera puedo guardar un modelo dentro de una variable que puedo invocar dentro de otras funciones. \n",
    "\n",
    "Agregando mas capas densas intermedias"
   ]
  },
  {
   "cell_type": "code",
   "execution_count": 271,
   "metadata": {},
   "outputs": [],
   "source": [
    "def auto_encoder8(sequence_len):\n",
    "    '''Crear el modulo Auto encoder descrito en el articulo\n",
    "    '''\n",
    "    #Crea el contenedor del modelo\n",
    "    model = Sequential()\n",
    "\n",
    "    # 1D Conv filtros = 8, kernel = 4, entrada 256 pasos de 1 feature, padding igual, paso en 1\n",
    "    model.add(Conv1D(8, 4, activation=\"linear\", input_shape=(sequence_len, 1), padding=\"same\", strides=1))\n",
    "    #Aplanar la salida\n",
    "    model.add(Flatten())\n",
    "\n",
    "    #Auto encoder\n",
    "    # Fully Connected Layers abandono del 20%\n",
    "    model.add(Dropout(0.2))\n",
    "    # Neuronas 8 veces el tamaño de la ventana de tiempo = 2048 nodos\n",
    "    model.add(Dense((sequence_len-0)*8, activation='relu'))\n",
    "    #Abandono del 20% capa con 128 neuronas\n",
    "    model.add(Dropout(0.2))\n",
    "    model.add(Dense(128, activation='relu'))\n",
    "    #Abandono del 20% capa con 2048 nodos\n",
    "    model.add(Dropout(0.2))\n",
    "    model.add(Dense((sequence_len-0)*8, activation='relu'))\n",
    "\n",
    "    model.add(Dropout(0.2))\n",
    "\n",
    "    # 1D Conv\n",
    "    # La salida de la capa anterior es una secuencia aplanada. Es necesario cambiar\n",
    "    # el formato de los datos de salida para obtener datos de forma 256,8 similar\n",
    "    # a los pasos y filtros de la primer convolución\n",
    "    model.add(Reshape(((sequence_len-0), 8)))\n",
    "    #Entrega estos datos a una nueva capa convolucional 1 filtro con kernel = 4\n",
    "    #Supongo es de un solo filtro debido a que deseamos obtener una sola serie. \n",
    "    model.add(Conv1D(1, 4, activation=\"linear\", padding=\"same\", strides=1))\n",
    "    #Compila el modelo con perdida mse y optimizador de adam\n",
    "    model.compile(loss='mse', optimizer='adam')\n",
    "    #Grafico del modelo para exportar\n",
    "    #plot_model(model, to_file='model.png', show_shapes=True)\n",
    "\n",
    "    return model"
   ]
  },
  {
   "cell_type": "code",
   "execution_count": 272,
   "metadata": {},
   "outputs": [],
   "source": [
    "#<<<<\n",
    "dae8 = auto_encoder8(sequence_length)"
   ]
  },
  {
   "cell_type": "code",
   "execution_count": 273,
   "metadata": {},
   "outputs": [
    {
     "name": "stdout",
     "output_type": "stream",
     "text": [
      "Epoch 1/25\n",
      "123/123 [==============================] - 5s 40ms/step - loss: 0.0022\n",
      "Epoch 2/25\n",
      "123/123 [==============================] - 5s 40ms/step - loss: 0.0023\n",
      "Epoch 3/25\n",
      "123/123 [==============================] - 5s 40ms/step - loss: 0.0019\n",
      "Epoch 4/25\n",
      "123/123 [==============================] - 5s 40ms/step - loss: 0.0014\n",
      "Epoch 5/25\n",
      "123/123 [==============================] - 5s 40ms/step - loss: 0.0015\n",
      "Epoch 6/25\n",
      "123/123 [==============================] - 5s 40ms/step - loss: 0.0023\n",
      "Epoch 7/25\n",
      "123/123 [==============================] - 5s 42ms/step - loss: 0.0022\n",
      "Epoch 8/25\n",
      "123/123 [==============================] - 5s 41ms/step - loss: 0.0014\n",
      "Epoch 9/25\n",
      "123/123 [==============================] - 5s 42ms/step - loss: 0.0011\n",
      "Epoch 10/25\n",
      "123/123 [==============================] - 6s 46ms/step - loss: 0.0014\n",
      "Epoch 11/25\n",
      "123/123 [==============================] - 6s 47ms/step - loss: 6.9005e-04\n",
      "Epoch 12/25\n",
      "123/123 [==============================] - 5s 43ms/step - loss: 0.0013\n",
      "Epoch 13/25\n",
      "123/123 [==============================] - 5s 44ms/step - loss: 9.4059e-04\n",
      "Epoch 14/25\n",
      "123/123 [==============================] - 5s 44ms/step - loss: 8.6780e-04\n",
      "Epoch 15/25\n",
      "123/123 [==============================] - 5s 44ms/step - loss: 8.1779e-04\n",
      "Epoch 16/25\n",
      "123/123 [==============================] - 6s 46ms/step - loss: 8.7241e-04: 0s - loss: 8\n",
      "Epoch 17/25\n",
      "123/123 [==============================] - 6s 45ms/step - loss: 0.0012\n",
      "Epoch 18/25\n",
      "123/123 [==============================] - 5s 44ms/step - loss: 6.3085e-04\n",
      "Epoch 19/25\n",
      "123/123 [==============================] - 5s 43ms/step - loss: 7.8145e-04: 1s - lo\n",
      "Epoch 20/25\n",
      "123/123 [==============================] - 5s 43ms/step - loss: 5.4721e-04\n",
      "Epoch 21/25\n",
      "123/123 [==============================] - 5s 45ms/step - loss: 0.0012\n",
      "Epoch 22/25\n",
      "123/123 [==============================] - 5s 43ms/step - loss: 7.0084e-04: 1\n",
      "Epoch 23/25\n",
      "123/123 [==============================] - 5s 43ms/step - loss: 7.6625e-04\n",
      "Epoch 24/25\n",
      "123/123 [==============================] - 5s 43ms/step - loss: 6.0193e-04\n",
      "Epoch 25/25\n",
      "123/123 [==============================] - 5s 43ms/step - loss: 7.1964e-04\n"
     ]
    }
   ],
   "source": [
    "# Entrenar el modelo\n",
    "train_mains = X_batch \n",
    "train_meter = Y_batch \n",
    "#<<<<\n",
    "modelo_entrenado8 = dae8.fit(train_mains, train_meter, epochs=25)"
   ]
  },
  {
   "cell_type": "code",
   "execution_count": 274,
   "metadata": {},
   "outputs": [
    {
     "name": "stdout",
     "output_type": "stream",
     "text": [
      "Model: \"sequential_14\"\n",
      "_________________________________________________________________\n",
      "Layer (type)                 Output Shape              Param #   \n",
      "=================================================================\n",
      "conv1d_27 (Conv1D)           (None, 256, 8)            40        \n",
      "_________________________________________________________________\n",
      "flatten_14 (Flatten)         (None, 2048)              0         \n",
      "_________________________________________________________________\n",
      "dropout_80 (Dropout)         (None, 2048)              0         \n",
      "_________________________________________________________________\n",
      "dense_59 (Dense)             (None, 2048)              4196352   \n",
      "_________________________________________________________________\n",
      "dropout_81 (Dropout)         (None, 2048)              0         \n",
      "_________________________________________________________________\n",
      "dense_60 (Dense)             (None, 128)               262272    \n",
      "_________________________________________________________________\n",
      "dropout_82 (Dropout)         (None, 128)               0         \n",
      "_________________________________________________________________\n",
      "dense_61 (Dense)             (None, 2048)              264192    \n",
      "_________________________________________________________________\n",
      "dropout_83 (Dropout)         (None, 2048)              0         \n",
      "_________________________________________________________________\n",
      "reshape_14 (Reshape)         (None, 256, 8)            0         \n",
      "_________________________________________________________________\n",
      "conv1d_28 (Conv1D)           (None, 256, 1)            33        \n",
      "=================================================================\n",
      "Total params: 4,722,889\n",
      "Trainable params: 4,722,889\n",
      "Non-trainable params: 0\n",
      "_________________________________________________________________\n"
     ]
    }
   ],
   "source": [
    "#<<<<<<\n",
    "dae8.summary()"
   ]
  },
  {
   "cell_type": "markdown",
   "metadata": {},
   "source": [
    "# Datos de test"
   ]
  },
  {
   "cell_type": "code",
   "execution_count": 276,
   "metadata": {},
   "outputs": [],
   "source": [
    "#14. Carga los datos completos\n",
    "test = DataSet('C:\\\\Users\\\\josel\\\\SmartMeter\\\\OrdenandoTodo\\\\redd.h5')\n",
    "#15. Define el tamaño de la muestra de test iniciando justo donde termina el train\n",
    "test.set_window(start=\"30-4-2011\") \n",
    "#16. Selecciona los electrodomesticos del primer edificio\n",
    "test_elec = test.buildings[1].elec\n",
    "#17. Selecciona el medidor central del edificio\n",
    "test_mains = test_elec.mains().all_meters()[0]\n",
    "test_meter = test_elec.submeters()['washer dryer']"
   ]
  },
  {
   "cell_type": "code",
   "execution_count": 277,
   "metadata": {},
   "outputs": [],
   "source": [
    "#18. Define un array para timeframes vacio en este almacenare\n",
    "# los tiempos donde el medidor estaba en buen funcionamiento\n",
    "timeframes = []\n",
    "\n",
    "#19. Crea un string con el nombre del edificio mas el id del edificio que lo\n",
    "#toma desde los metadatos \n",
    "#ejemplo building1\n",
    "building_path = '/building{}'.format(test_mains.building())\n",
    "#20. Ahora crea el nombre de la ruta al medidor 1 del edificio en cuestión\n",
    "#Pej.  building1/elec/meter1\n",
    "mains_data_location = building_path + '/elec/meter1'\n",
    "\n",
    "#21. Variable de control datos estan disponibles\n",
    "data_is_available = False"
   ]
  },
  {
   "cell_type": "code",
   "execution_count": 278,
   "metadata": {},
   "outputs": [
    {
     "data": {
      "text/plain": [
       "[TimeFrame(start='2011-04-30 00:00:00-04:00', end='2011-05-01 09:44:42-04:00', empty=False),\n",
       " TimeFrame(start='2011-05-01 09:47:18-04:00', end='2011-05-02 17:04:59-04:00', empty=False),\n",
       " TimeFrame(start='2011-05-02 17:07:27-04:00', end='2011-05-03 17:30:17-04:00', empty=False),\n",
       " TimeFrame(start='2011-05-03 17:32:49-04:00', end='2011-05-03 17:33:44-04:00', empty=False),\n",
       " TimeFrame(start='2011-05-06 10:51:46-04:00', end='2011-05-07 01:53:10-04:00', empty=False),\n",
       " TimeFrame(start='2011-05-07 01:53:55-04:00', end='2011-05-07 02:38:15-04:00', empty=False),\n",
       " TimeFrame(start='2011-05-07 02:40:43-04:00', end='2011-05-07 11:59:16-04:00', empty=False),\n",
       " TimeFrame(start='2011-05-11 03:19:43-04:00', end='2011-05-12 17:48:38-04:00', empty=False),\n",
       " TimeFrame(start='2011-05-12 20:14:30-04:00', end='2011-05-13 05:16:24-04:00', empty=False),\n",
       " TimeFrame(start='2011-05-22 16:04:46-04:00', end='2011-05-22 23:39:01-04:00', empty=False),\n",
       " TimeFrame(start='2011-05-22 23:41:35-04:00', end='2011-05-23 09:22:08-04:00', empty=False),\n",
       " TimeFrame(start='2011-05-23 10:31:34-04:00', end='2011-05-24 14:32:05-04:00', empty=False),\n",
       " TimeFrame(start='2011-05-24 15:55:33-04:00', end='2011-05-24 15:57:02-04:00', empty=False)]"
      ]
     },
     "execution_count": 278,
     "metadata": {},
     "output_type": "execute_result"
    }
   ],
   "source": [
    "#22. Verificar los tiempos de buen funcionamiento del medidor central\n",
    "load_kwargs.setdefault('sections', test_mains.good_sections())"
   ]
  },
  {
   "cell_type": "code",
   "execution_count": 279,
   "metadata": {},
   "outputs": [],
   "source": [
    "#23. Defino una lista que contendra los instantes de buen funcionamiento \n",
    "# que cumplan con el tamaño de muestra\n",
    "timeframes = []"
   ]
  },
  {
   "cell_type": "code",
   "execution_count": 280,
   "metadata": {},
   "outputs": [],
   "source": [
    "#output_datastore8.close()"
   ]
  },
  {
   "cell_type": "code",
   "execution_count": 281,
   "metadata": {},
   "outputs": [],
   "source": [
    "#<<<<<<<\n",
    "output_datastore8 = pd.HDFStore(\"predict8_V3.h5\", \"w\")"
   ]
  },
  {
   "cell_type": "code",
   "execution_count": 282,
   "metadata": {},
   "outputs": [
    {
     "name": "stdout",
     "output_type": "stream",
     "text": [
      "New sensible chunk: 121482 size of data\n"
     ]
    },
    {
     "name": "stderr",
     "output_type": "stream",
     "text": [
      "C:\\Users\\josel\\Anaconda3\\envs\\nilmtk-env\\lib\\site-packages\\tables\\path.py:155: NaturalNameWarning: object name is not a valid Python identifier: 'meter(10, 20)'; it does not match the pattern ``^[a-zA-Z_][a-zA-Z0-9_]*$``; you will not be able to use natural naming to access this object; using ``getattr()`` will still work, though\n",
      "  check_attribute_name(name)\n"
     ]
    },
    {
     "name": "stdout",
     "output_type": "stream",
     "text": [
      "New sensible chunk: 112661 size of data\n",
      "New sensible chunk: 87770 size of data\n",
      "New sensible chunk: 54084 size of data\n",
      "New sensible chunk: 2660 size of data\n",
      "New sensible chunk: 33513 size of data\n",
      "New sensible chunk: 138535 size of data\n",
      "New sensible chunk: 32514 size of data\n",
      "New sensible chunk: 27255 size of data\n",
      "New sensible chunk: 34833 size of data\n",
      "New sensible chunk: 100831 size of data\n"
     ]
    }
   ],
   "source": [
    "#24. Recorro todas los tramos de test para el medidor central en buen funcionamiento\n",
    "MIN_CHUNK_LENGTH = sequence_length #Tamaño del paso de ventana\n",
    "id_serie = 0\n",
    "for chunk in test_mains.power_series(**load_kwargs):\n",
    "    #25. Si el tamaño de la serie cargada es menor al de las ventanas se descarta\n",
    "    if len(chunk) < MIN_CHUNK_LENGTH:\n",
    "        continue\n",
    "    #26. Imprime el tamaño de los tramos de series cargados\n",
    "    print(\"New sensible chunk: {} size of data\".format(len(chunk)))\n",
    "    \n",
    "    # Se guarda cada tramo de tiempo seleccionado\n",
    "    timeframes.append(chunk.timeframe)\n",
    "    # Nombre de las columnas de series de datos ('power', 'apparent')\n",
    "    measurement = chunk.name\n",
    "    \n",
    "    # Normaliza la serie chunk del medidor central cargada y la guarda en una nueva variable usando como\n",
    "    # maximo el valor del medidor centrar de entrenamiento\n",
    "    chunk2 = _normalize(chunk, mmax)\n",
    "\n",
    "    #Ahora debo crear una base de datos con las formas adecuadas para cada chunk\n",
    "    #cree una función que guarda las series en un archivo hdf5\n",
    "    #requiere el numero de la serie iniciando en 0 para usarla como id\n",
    "    \n",
    "    #llamar funcion, pasar chunk2 y el id_serie \n",
    "    #>>>>>>>>>>>>>>>>>>>\n",
    "    appliance_power = data_predict(chunk2, id_serie, dae8)\n",
    "    \n",
    "    # Todo valor negativo calculado lo iguala a cero\n",
    "    appliance_power[appliance_power < 0] = 0\n",
    "    \n",
    "    # Calcula el valor real mediante la desnormalización de los datos\n",
    "    appliance_power = _denormalize(appliance_power, mmax)\n",
    "    \n",
    "    # Convierte lista de tuplas a MultiIndex osea una estructura que contiene\n",
    "    # multiples indices. Lons nombres estan dados pos la serie main original\n",
    "    # chunk.name = ('power', 'apparent') \n",
    "    # cols = MultiIndex([('power', 'apparent')]\n",
    "    cols = pd.MultiIndex.from_tuples([chunk.name])\n",
    "    \n",
    "    # De los metadatos extrae el valor de la instancia de la medida\n",
    "    # que en si es como el id del dispositivo por ejemplo 5 para refrigerador\n",
    "    # en el edificio 1. Siempre es el del electrodomestico\n",
    "    meter_instance = test_meter.instance()\n",
    "    \n",
    "    # Ahora crea un df para cada serie predicha chunk con: \n",
    "    # appliance_power.values = los valores de la serie predicha\n",
    "    # index=appliance_power.index con indice el tiempo de dicha serie\n",
    "    # columns=cols da el nombre de las columnas ('power', 'apparent') es el nombre \n",
    "    # de la columna de medidas, el indice no tiene nombre\n",
    "    # y define los datos como  de punto flotante\n",
    "    df = pd.DataFrame(\n",
    "        appliance_power.values, index=appliance_power.index,\n",
    "        columns=cols, dtype=\"float32\")\n",
    "\n",
    "    # Define el nombre de la ruta de cada dispositivo /building1/elec/meter5 predicho\n",
    "    # Esta es la clave de los datos procesados para guardar en el h5 \n",
    "    # Esta clave se mantiene igual para cada tramo chunk que se haga la predicción\n",
    "    key = '{}/elec/meter{}'.format(building_path, meter_instance)\n",
    "\n",
    "    # En el archivo output_datastore4 se agregaran los datos calculados en \n",
    "    # cada predicción es el archivo hdf5 definido en el programa principal\n",
    "    # Para cada clave '/building1/elec/meter5' agrega el df\n",
    "    # Primero para la serie calculada para el electrodomestico '/building1/elec/meter5'\n",
    "    #<<<<<<<\n",
    "    output_datastore8.append(key, df)\n",
    "    \n",
    "    # Ahora tomo los datos del medidor objetivo pero de test\n",
    "    \n",
    "    \n",
    "\n",
    "    # Append aggregate data to output / Agregar datos agregados a la salida\n",
    "    # Crea un dataframe para la serie de datos del medidor central original\n",
    "    mains_df = pd.DataFrame(chunk, columns=cols, dtype=\"float32\")\n",
    "    # Y tambien la agrega al archivo de salidas calculadas quedando en orden\n",
    "    # datos predichos y luego datos originales del medidor con clave '/building1/elec/meter1'\n",
    "    # Al hacerlo de este modo cada nuevo df se agrega debajo del anterior segun el nombre de sus\n",
    "    # columnas. Deben tener el mismo nombre y orden para que se haga el match\n",
    "    #<<<<<<<\n",
    "    output_datastore8.append(key=mains_data_location, value=mains_df)"
   ]
  },
  {
   "cell_type": "code",
   "execution_count": 283,
   "metadata": {},
   "outputs": [
    {
     "name": "stdout",
     "output_type": "stream",
     "text": [
      "output_datastore.keys() ['/building1/elec/meter(10, 20)', '/building1/elec/meter1']\n"
     ]
    }
   ],
   "source": [
    "#<<<<<<<\n",
    "print(f\"output_datastore.keys() {output_datastore8.keys()}\")"
   ]
  },
  {
   "cell_type": "code",
   "execution_count": 286,
   "metadata": {},
   "outputs": [
    {
     "name": "stdout",
     "output_type": "stream",
     "text": [
      "type(t16) <class 'pandas.core.frame.DataFrame'>\n",
      "t16.shape (746138, 1)\n"
     ]
    }
   ],
   "source": [
    "#<<<<<<<\n",
    "t15 = output_datastore8.get('/building1/elec/meter(10, 20)')\n",
    "t16 = output_datastore8.get('/building1/elec/meter(10, 20)') #Prediccion\n",
    "print(f\"type(t16) {type(t16)}\")\n",
    "print(f\"t16.shape {t16.shape}\")"
   ]
  },
  {
   "cell_type": "code",
   "execution_count": 287,
   "metadata": {},
   "outputs": [
    {
     "name": "stdout",
     "output_type": "stream",
     "text": [
      "\r",
      "Loading data for meter ElecMeterID(instance=10, building=1, dataset='REDD')     "
     ]
    },
    {
     "name": "stderr",
     "output_type": "stream",
     "text": [
      "C:\\Users\\josel\\Anaconda3\\envs\\nilmtk-env\\lib\\site-packages\\nilmtk\\elecmeter.py:446: UserWarning: The provided sample_period (1) is shorter than the meter's sample_period (3)\n",
      "  sample_period, default_sample_period\n"
     ]
    },
    {
     "name": "stdout",
     "output_type": "stream",
     "text": [
      "Loading data for meter ElecMeterID(instance=20, building=1, dataset='REDD')     \n",
      "Done loading data all meters for this chunk.\n",
      "type(test_meter_medidor) <class 'pandas.core.series.Series'>\n"
     ]
    }
   ],
   "source": [
    "test_meter_medidor = test_meter.power_series(**load_kwargs) #Real\n",
    "test_meter_medidor = next(test_meter_medidor)\n",
    "print(f\"type(test_meter_medidor) {type(test_meter_medidor)}\")"
   ]
  },
  {
   "cell_type": "code",
   "execution_count": 291,
   "metadata": {
    "scrolled": true
   },
   "outputs": [
    {
     "data": {
      "text/plain": [
       "[<matplotlib.lines.Line2D at 0x1720c2a5fd0>]"
      ]
     },
     "execution_count": 291,
     "metadata": {},
     "output_type": "execute_result"
    },
    {
     "data": {
      "image/png": "[encoded data removed]",
      "text/plain": [
       "<Figure size 432x288 with 1 Axes>"
      ]
     },
     "metadata": {
      "needs_background": "light"
     },
     "output_type": "display_data"
    }
   ],
   "source": [
    "plt.plot(t16[38000:68000])                #Amarillo\n",
    "plt.plot(test_meter_medidor[38000:68000]) #Azul"
   ]
  },
  {
   "cell_type": "markdown",
   "metadata": {},
   "source": [
    "### V2 washer dryer"
   ]
  },
  {
   "cell_type": "code",
   "execution_count": 292,
   "metadata": {},
   "outputs": [],
   "source": [
    "# Una estructura con 256 pasos en el tamaño de la muestra\n",
    "sequence_length = 256"
   ]
  },
  {
   "cell_type": "code",
   "execution_count": 293,
   "metadata": {},
   "outputs": [
    {
     "name": "stdout",
     "output_type": "stream",
     "text": [
      "\r",
      "Loading data for meter ElecMeterID(instance=10, building=1, dataset='REDD')     "
     ]
    },
    {
     "name": "stderr",
     "output_type": "stream",
     "text": [
      "C:\\Users\\josel\\Anaconda3\\envs\\nilmtk-env\\lib\\site-packages\\nilmtk\\elecmeter.py:446: UserWarning: The provided sample_period (1) is shorter than the meter's sample_period (3)\n",
      "  sample_period, default_sample_period\n"
     ]
    },
    {
     "name": "stdout",
     "output_type": "stream",
     "text": [
      "Loading data for meter ElecMeterID(instance=20, building=1, dataset='REDD')     \n",
      "Done loading data all meters for this chunk.\n",
      "mainchunk tipo = <class 'pandas.core.series.Series'> tamaño = (1003071,)\n",
      "meterchunk tipo = <class 'pandas.core.series.Series'> tamaño = (1003067,)\n",
      "DatetimeIndex(['2011-04-18 09:22:13-04:00', '2011-04-18 09:22:14-04:00',\n",
      "               '2011-04-18 09:22:15-04:00', '2011-04-18 09:22:16-04:00',\n",
      "               '2011-04-18 09:22:17-04:00', '2011-04-18 09:22:18-04:00',\n",
      "               '2011-04-18 09:22:19-04:00', '2011-04-18 09:22:20-04:00',\n",
      "               '2011-04-18 09:22:21-04:00', '2011-04-18 09:22:22-04:00',\n",
      "               ...\n",
      "               '2011-04-29 23:59:50-04:00', '2011-04-29 23:59:51-04:00',\n",
      "               '2011-04-29 23:59:52-04:00', '2011-04-29 23:59:53-04:00',\n",
      "               '2011-04-29 23:59:54-04:00', '2011-04-29 23:59:55-04:00',\n",
      "               '2011-04-29 23:59:56-04:00', '2011-04-29 23:59:57-04:00',\n",
      "               '2011-04-29 23:59:58-04:00', '2011-04-29 23:59:59-04:00'],\n",
      "              dtype='datetime64[ns, US/Eastern]', length=1003067, freq='S')\n",
      "X_batch (3919, 256, 1)\n",
      "Y_batch (3919, 256, 1)\n"
     ]
    }
   ],
   "source": [
    "#1. Cargar los datos para entrenamiento\n",
    "train = DataSet('C:\\\\Users\\\\josel\\\\SmartMeter\\\\OrdenandoTodo\\\\redd.h5')\n",
    "train.set_window(end=\"30-4-2011\")      # Usando como final el 30 de abril\n",
    "train_elec = train.buildings[1].elec\n",
    "\n",
    "#3. Carga como medidor de entrenamiento el medidor central y el medidor para un dispositivo Fridge\n",
    "train_mains = train_elec.mains().all_meters()[0] # El medidor agregado o central que proporciona la entrada\n",
    "train_meter = train_elec.submeters()['washer dryer'] # El medidor de microondas que se utiliza como objetivo de entrenamiento.\n",
    "#4. Cargar los datos de las series definidas\n",
    "# Frecuencia de la muestra\n",
    "load_kwargs = {'sample_period': 1}\n",
    "# Esta función crea un generador de datos, si es necesario la remuestrea\n",
    "# al periodo de tiempo definida por el usuario\n",
    "main_power_series = train_mains.power_series(**load_kwargs)\n",
    "meter_power_series = train_meter.power_series(**load_kwargs)\n",
    "\n",
    "#5. Con next des empaqueta los datos en series de pandas antes definidas por un generador\n",
    "mainchunk = next(main_power_series)          # Datos del medidor central\n",
    "meterchunk = next(meter_power_series)        # Datos del electrodomestico\n",
    "\n",
    "print(f\"mainchunk tipo = {type(mainchunk)} tamaño = {mainchunk.shape}\")\n",
    "print(f\"meterchunk tipo = {type(meterchunk)} tamaño = {meterchunk.shape}\")\n",
    "\n",
    "#6. Calcula el valor maximo del medidor central\n",
    "mmax = None\n",
    "if mmax == None:\n",
    "    mmax = mainchunk.max()\n",
    "mmax\n",
    "\n",
    "#7. Funciones para normalizar los datos\n",
    "# Normaliza las series de tiempo teniendo en cuenta el valor maximo\n",
    "# mmax medido por el medidor central\n",
    "def _normalize(chunk, mmax):\n",
    "    tchunk = chunk / mmax\n",
    "    return tchunk\n",
    "\n",
    "# Des Normaliza las series de tiempo teniendo en cuenta el valor maximo\n",
    "# mmax medido por el medidor central\n",
    "def _denormalize(chunk, mmax):\n",
    "    tchunk = chunk * mmax\n",
    "    return tchunk\n",
    "\n",
    "#8. #Normaliza las series\n",
    "mainchunk = _normalize(mainchunk, mmax)\n",
    "meterchunk = _normalize(meterchunk, mmax)\n",
    "mainchunk.head(5)\n",
    "\n",
    "#9. Tamaño de la secuencia definida para el modelo\n",
    "s = sequence_length\n",
    "#10. Remplaza valores NaNs con 0s\n",
    "mainchunk.fillna(0, inplace=True)\n",
    "meterchunk.fillna(0, inplace=True)\n",
    "\n",
    "#11. Une los indices comunes a las dos series de dispositivo y medidor\n",
    "# Retorna una serie con los indices comunes en fechas\n",
    "ix = mainchunk.index.intersection(meterchunk.index)\n",
    "print(ix)\n",
    "\n",
    "#11. Toma los datos en las fechas coincidentes y descarta las demas\n",
    "# seleccionando por medio de los indices contenidos en ix\n",
    "mainchunk = mainchunk[ix]\n",
    "meterchunk = meterchunk[ix]\n",
    "\n",
    "#12. Tamaño del batch de ceros\n",
    "adicion = s - (len(ix) % s)\n",
    "#A cada serie de medidor se le agrega el batch\n",
    "#Se definen en función del tamaño de la muestra\n",
    "#Esta operación elimina el indice de tipo tiempo\n",
    "X_batch = np.append(mainchunk, np.zeros(adicion))    # Medidor central\n",
    "Y_batch = np.append(meterchunk, np.zeros(adicion))   # Medidor de dispositivo\n",
    "\n",
    "#13. Cambia la forma de los datos quedando la señal en tramos de 256 puntos chunk\n",
    "#Para el ventanas de 256 seran (muestras = 3919, ventana = 256, Caracteristica = 1)\n",
    "X_batch = np.reshape(X_batch, (int(len(X_batch) / s), s, 1))\n",
    "Y_batch = np.reshape(Y_batch, (int(len(Y_batch) / s), s, 1))\n",
    "print(f\"X_batch {X_batch.shape}\")\n",
    "print(f\"Y_batch {Y_batch.shape}\")"
   ]
  },
  {
   "cell_type": "markdown",
   "metadata": {},
   "source": [
    "## Modelo 9\n",
    "Por dinamismo creare los modelos a modo de funciones, de esta manera puedo guardar un modelo dentro de una variable que puedo invocar dentro de otras funciones. \n",
    "\n",
    "Agregando mas capas densas intermedias"
   ]
  },
  {
   "cell_type": "code",
   "execution_count": 294,
   "metadata": {},
   "outputs": [],
   "source": [
    "def auto_encoder9(sequence_len):\n",
    "    '''Crear el modulo Auto encoder descrito en el articulo\n",
    "    '''\n",
    "    #Crea el contenedor del modelo\n",
    "    model = Sequential()\n",
    "\n",
    "    # 1D Conv filtros = 8, kernel = 4, entrada 256 pasos de 1 feature, padding igual, paso en 1\n",
    "    model.add(Conv1D(16, 4, activation=\"linear\", input_shape=(sequence_len, 1), padding=\"same\", strides=1))\n",
    "    #Aplanar la salida\n",
    "    model.add(Flatten())\n",
    "\n",
    "    #Auto encoder\n",
    "    # Fully Connected Layers abandono del 20%\n",
    "    model.add(Dropout(0.2))\n",
    "    # Neuronas 8 veces el tamaño de la ventana de tiempo = 2048 nodos\n",
    "    model.add(Dense((sequence_len-0)*8, activation='relu'))\n",
    "    #Abandono del 20% capa con 128 neuronas\n",
    "    model.add(Dropout(0.2))\n",
    "    model.add(Dense(128, activation='relu'))\n",
    "    #Abandono del 20% capa con 2048 nodos\n",
    "    model.add(Dropout(0.2))\n",
    "    model.add(Dense((sequence_len-0)*16, activation='relu'))\n",
    "\n",
    "    model.add(Dropout(0.2))\n",
    "\n",
    "    # 1D Conv\n",
    "    # La salida de la capa anterior es una secuencia aplanada. Es necesario cambiar\n",
    "    # el formato de los datos de salida para obtener datos de forma 256,8 similar\n",
    "    # a los pasos y filtros de la primer convolución\n",
    "    model.add(Reshape(((sequence_len-0), 16)))\n",
    "    #Entrega estos datos a una nueva capa convolucional 1 filtro con kernel = 4\n",
    "    #Un solo filtro debido a que deseamos obtener una sola serie. \n",
    "    model.add(Conv1D(1, 4, activation=\"linear\", padding=\"same\", strides=1))\n",
    "    #Compila el modelo con perdida mse y optimizador de adam\n",
    "    model.compile(loss='mse', optimizer='adam')\n",
    "    #Grafico del modelo para exportar\n",
    "    #plot_model(model, to_file='model.png', show_shapes=True)\n",
    "\n",
    "    return model"
   ]
  },
  {
   "cell_type": "code",
   "execution_count": 295,
   "metadata": {},
   "outputs": [],
   "source": [
    "#<<<<\n",
    "dae9 = auto_encoder9(sequence_length)"
   ]
  },
  {
   "cell_type": "code",
   "execution_count": 296,
   "metadata": {},
   "outputs": [
    {
     "name": "stdout",
     "output_type": "stream",
     "text": [
      "Epoch 1/25\n",
      "123/123 [==============================] - 9s 72ms/step - loss: 0.0022\n",
      "Epoch 2/25\n",
      "123/123 [==============================] - 9s 72ms/step - loss: 0.0015\n",
      "Epoch 3/25\n",
      "123/123 [==============================] - 9s 72ms/step - loss: 0.0013\n",
      "Epoch 4/25\n",
      "123/123 [==============================] - 11s 87ms/step - loss: 0.0015\n",
      "Epoch 5/25\n",
      "123/123 [==============================] - 10s 82ms/step - loss: 8.9521e-04\n",
      "Epoch 6/25\n",
      "123/123 [==============================] - 11s 87ms/step - loss: 0.0017\n",
      "Epoch 7/25\n",
      "123/123 [==============================] - 10s 80ms/step - loss: 0.0017\n",
      "Epoch 8/25\n",
      "123/123 [==============================] - 9s 76ms/step - loss: 0.0017\n",
      "Epoch 9/25\n",
      "123/123 [==============================] - 9s 73ms/step - loss: 0.0040\n",
      "Epoch 10/25\n",
      "123/123 [==============================] - 9s 71ms/step - loss: 0.0019\n",
      "Epoch 11/25\n",
      "123/123 [==============================] - 9s 71ms/step - loss: 0.0026\n",
      "Epoch 12/25\n",
      "123/123 [==============================] - 9s 72ms/step - loss: 0.0023\n",
      "Epoch 13/25\n",
      "123/123 [==============================] - 9s 72ms/step - loss: 0.0019\n",
      "Epoch 14/25\n",
      "123/123 [==============================] - 9s 72ms/step - loss: 0.0031\n",
      "Epoch 15/25\n",
      "123/123 [==============================] - 9s 72ms/step - loss: 0.0016\n",
      "Epoch 16/25\n",
      "123/123 [==============================] - 9s 71ms/step - loss: 0.0029\n",
      "Epoch 17/25\n",
      "123/123 [==============================] - 9s 75ms/step - loss: 0.0030\n",
      "Epoch 18/25\n",
      "123/123 [==============================] - 9s 75ms/step - loss: 0.0024\n",
      "Epoch 19/25\n",
      "123/123 [==============================] - 9s 73ms/step - loss: 0.0018\n",
      "Epoch 20/25\n",
      "123/123 [==============================] - 9s 71ms/step - loss: 0.0021\n",
      "Epoch 21/25\n",
      "123/123 [==============================] - 9s 72ms/step - loss: 0.0022\n",
      "Epoch 22/25\n",
      "123/123 [==============================] - 9s 71ms/step - loss: 0.0022\n",
      "Epoch 23/25\n",
      "123/123 [==============================] - 9s 72ms/step - loss: 0.0024\n",
      "Epoch 24/25\n",
      "123/123 [==============================] - 9s 72ms/step - loss: 0.0019\n",
      "Epoch 25/25\n",
      "123/123 [==============================] - 9s 73ms/step - loss: 0.0021\n"
     ]
    }
   ],
   "source": [
    "# Entrenar el modelo\n",
    "train_mains = X_batch \n",
    "train_meter = Y_batch \n",
    "#<<<<\n",
    "modelo_entrenado9 = dae9.fit(train_mains, train_meter, epochs=25)"
   ]
  },
  {
   "cell_type": "code",
   "execution_count": 297,
   "metadata": {},
   "outputs": [
    {
     "name": "stdout",
     "output_type": "stream",
     "text": [
      "Model: \"sequential_15\"\n",
      "_________________________________________________________________\n",
      "Layer (type)                 Output Shape              Param #   \n",
      "=================================================================\n",
      "conv1d_29 (Conv1D)           (None, 256, 16)           80        \n",
      "_________________________________________________________________\n",
      "flatten_15 (Flatten)         (None, 4096)              0         \n",
      "_________________________________________________________________\n",
      "dropout_84 (Dropout)         (None, 4096)              0         \n",
      "_________________________________________________________________\n",
      "dense_62 (Dense)             (None, 2048)              8390656   \n",
      "_________________________________________________________________\n",
      "dropout_85 (Dropout)         (None, 2048)              0         \n",
      "_________________________________________________________________\n",
      "dense_63 (Dense)             (None, 128)               262272    \n",
      "_________________________________________________________________\n",
      "dropout_86 (Dropout)         (None, 128)               0         \n",
      "_________________________________________________________________\n",
      "dense_64 (Dense)             (None, 4096)              528384    \n",
      "_________________________________________________________________\n",
      "dropout_87 (Dropout)         (None, 4096)              0         \n",
      "_________________________________________________________________\n",
      "reshape_15 (Reshape)         (None, 256, 16)           0         \n",
      "_________________________________________________________________\n",
      "conv1d_30 (Conv1D)           (None, 256, 1)            65        \n",
      "=================================================================\n",
      "Total params: 9,181,457\n",
      "Trainable params: 9,181,457\n",
      "Non-trainable params: 0\n",
      "_________________________________________________________________\n"
     ]
    }
   ],
   "source": [
    "#<<<<<<\n",
    "dae9.summary()"
   ]
  },
  {
   "cell_type": "markdown",
   "metadata": {},
   "source": [
    "# Datos de test"
   ]
  },
  {
   "cell_type": "code",
   "execution_count": 298,
   "metadata": {},
   "outputs": [],
   "source": [
    "#14. Carga los datos completos\n",
    "test = DataSet('C:\\\\Users\\\\josel\\\\SmartMeter\\\\OrdenandoTodo\\\\redd.h5')\n",
    "#15. Define el tamaño de la muestra de test iniciando justo donde termina el train\n",
    "test.set_window(start=\"30-4-2011\") \n",
    "#16. Selecciona los electrodomesticos del primer edificio\n",
    "test_elec = test.buildings[1].elec\n",
    "#17. Selecciona el medidor central del edificio\n",
    "test_mains = test_elec.mains().all_meters()[0]\n",
    "test_meter = test_elec.submeters()['washer dryer']"
   ]
  },
  {
   "cell_type": "code",
   "execution_count": 299,
   "metadata": {},
   "outputs": [],
   "source": [
    "#18. Define un array para timeframes vacio en este almacenare\n",
    "# los tiempos donde el medidor estaba en buen funcionamiento\n",
    "timeframes = []\n",
    "\n",
    "#19. Crea un string con el nombre del edificio mas el id del edificio que lo\n",
    "#toma desde los metadatos \n",
    "#ejemplo building1\n",
    "building_path = '/building{}'.format(test_mains.building())\n",
    "#20. Ahora crea el nombre de la ruta al medidor 1 del edificio en cuestión\n",
    "#Pej.  building1/elec/meter1\n",
    "mains_data_location = building_path + '/elec/meter1'\n",
    "\n",
    "#21. Variable de control datos estan disponibles\n",
    "data_is_available = False"
   ]
  },
  {
   "cell_type": "code",
   "execution_count": 300,
   "metadata": {},
   "outputs": [
    {
     "data": {
      "text/plain": [
       "[TimeFrame(start='2011-04-30 00:00:00-04:00', end='2011-05-01 09:44:42-04:00', empty=False),\n",
       " TimeFrame(start='2011-05-01 09:47:18-04:00', end='2011-05-02 17:04:59-04:00', empty=False),\n",
       " TimeFrame(start='2011-05-02 17:07:27-04:00', end='2011-05-03 17:30:17-04:00', empty=False),\n",
       " TimeFrame(start='2011-05-03 17:32:49-04:00', end='2011-05-03 17:33:44-04:00', empty=False),\n",
       " TimeFrame(start='2011-05-06 10:51:46-04:00', end='2011-05-07 01:53:10-04:00', empty=False),\n",
       " TimeFrame(start='2011-05-07 01:53:55-04:00', end='2011-05-07 02:38:15-04:00', empty=False),\n",
       " TimeFrame(start='2011-05-07 02:40:43-04:00', end='2011-05-07 11:59:16-04:00', empty=False),\n",
       " TimeFrame(start='2011-05-11 03:19:43-04:00', end='2011-05-12 17:48:38-04:00', empty=False),\n",
       " TimeFrame(start='2011-05-12 20:14:30-04:00', end='2011-05-13 05:16:24-04:00', empty=False),\n",
       " TimeFrame(start='2011-05-22 16:04:46-04:00', end='2011-05-22 23:39:01-04:00', empty=False),\n",
       " TimeFrame(start='2011-05-22 23:41:35-04:00', end='2011-05-23 09:22:08-04:00', empty=False),\n",
       " TimeFrame(start='2011-05-23 10:31:34-04:00', end='2011-05-24 14:32:05-04:00', empty=False),\n",
       " TimeFrame(start='2011-05-24 15:55:33-04:00', end='2011-05-24 15:57:02-04:00', empty=False)]"
      ]
     },
     "execution_count": 300,
     "metadata": {},
     "output_type": "execute_result"
    }
   ],
   "source": [
    "#22. Verificar los tiempos de buen funcionamiento del medidor central\n",
    "load_kwargs.setdefault('sections', test_mains.good_sections())"
   ]
  },
  {
   "cell_type": "code",
   "execution_count": 301,
   "metadata": {},
   "outputs": [],
   "source": [
    "#23. Defino una lista que contendra los instantes de buen funcionamiento \n",
    "# que cumplan con el tamaño de muestra\n",
    "timeframes = []"
   ]
  },
  {
   "cell_type": "code",
   "execution_count": 302,
   "metadata": {},
   "outputs": [],
   "source": [
    "#output_datastore8.close()"
   ]
  },
  {
   "cell_type": "code",
   "execution_count": 303,
   "metadata": {},
   "outputs": [],
   "source": [
    "#<<<<<<<\n",
    "output_datastore9 = pd.HDFStore(\"predict9_V3.h5\", \"w\")"
   ]
  },
  {
   "cell_type": "code",
   "execution_count": 304,
   "metadata": {},
   "outputs": [
    {
     "name": "stdout",
     "output_type": "stream",
     "text": [
      "New sensible chunk: 121482 size of data\n"
     ]
    },
    {
     "name": "stderr",
     "output_type": "stream",
     "text": [
      "C:\\Users\\josel\\Anaconda3\\envs\\nilmtk-env\\lib\\site-packages\\tables\\path.py:155: NaturalNameWarning: object name is not a valid Python identifier: 'meter(10, 20)'; it does not match the pattern ``^[a-zA-Z_][a-zA-Z0-9_]*$``; you will not be able to use natural naming to access this object; using ``getattr()`` will still work, though\n",
      "  check_attribute_name(name)\n"
     ]
    },
    {
     "name": "stdout",
     "output_type": "stream",
     "text": [
      "New sensible chunk: 112661 size of data\n",
      "New sensible chunk: 87770 size of data\n",
      "New sensible chunk: 54084 size of data\n",
      "New sensible chunk: 2660 size of data\n",
      "New sensible chunk: 33513 size of data\n",
      "New sensible chunk: 138535 size of data\n",
      "New sensible chunk: 32514 size of data\n",
      "New sensible chunk: 27255 size of data\n",
      "New sensible chunk: 34833 size of data\n",
      "New sensible chunk: 100831 size of data\n"
     ]
    }
   ],
   "source": [
    "#24. Recorro todas los tramos de test para el medidor central en buen funcionamiento\n",
    "MIN_CHUNK_LENGTH = sequence_length #Tamaño del paso de ventana\n",
    "id_serie = 0\n",
    "for chunk in test_mains.power_series(**load_kwargs):\n",
    "    #25. Si el tamaño de la serie cargada es menor al de las ventanas se descarta\n",
    "    if len(chunk) < MIN_CHUNK_LENGTH:\n",
    "        continue\n",
    "    #26. Imprime el tamaño de los tramos de series cargados\n",
    "    print(\"New sensible chunk: {} size of data\".format(len(chunk)))\n",
    "    \n",
    "    # Se guarda cada tramo de tiempo seleccionado\n",
    "    timeframes.append(chunk.timeframe)\n",
    "    # Nombre de las columnas de series de datos ('power', 'apparent')\n",
    "    measurement = chunk.name\n",
    "    \n",
    "    # Normaliza la serie chunk del medidor central cargada y la guarda en una nueva variable usando como\n",
    "    # maximo el valor del medidor centrar de entrenamiento\n",
    "    chunk2 = _normalize(chunk, mmax)\n",
    "\n",
    "    #Ahora debo crear una base de datos con las formas adecuadas para cada chunk\n",
    "    #cree una función que guarda las series en un archivo hdf5\n",
    "    #requiere el numero de la serie iniciando en 0 para usarla como id\n",
    "    \n",
    "    #llamar funcion, pasar chunk2 y el id_serie \n",
    "    #>>>>>>>>>>>>>>>>>>>\n",
    "    appliance_power = data_predict(chunk2, id_serie, dae9)\n",
    "    \n",
    "    # Todo valor negativo calculado lo iguala a cero\n",
    "    appliance_power[appliance_power < 0] = 0\n",
    "    \n",
    "    # Calcula el valor real mediante la desnormalización de los datos\n",
    "    appliance_power = _denormalize(appliance_power, mmax)\n",
    "    \n",
    "    # Convierte lista de tuplas a MultiIndex osea una estructura que contiene\n",
    "    # multiples indices. Lons nombres estan dados pos la serie main original\n",
    "    # chunk.name = ('power', 'apparent') \n",
    "    # cols = MultiIndex([('power', 'apparent')]\n",
    "    cols = pd.MultiIndex.from_tuples([chunk.name])\n",
    "    \n",
    "    # De los metadatos extrae el valor de la instancia de la medida\n",
    "    # que en si es como el id del dispositivo por ejemplo 5 para refrigerador\n",
    "    # en el edificio 1. Siempre es el del electrodomestico\n",
    "    meter_instance = test_meter.instance()\n",
    "    \n",
    "    # Ahora crea un df para cada serie predicha chunk con: \n",
    "    # appliance_power.values = los valores de la serie predicha\n",
    "    # index=appliance_power.index con indice el tiempo de dicha serie\n",
    "    # columns=cols da el nombre de las columnas ('power', 'apparent') es el nombre \n",
    "    # de la columna de medidas, el indice no tiene nombre\n",
    "    # y define los datos como  de punto flotante\n",
    "    df = pd.DataFrame(\n",
    "        appliance_power.values, index=appliance_power.index,\n",
    "        columns=cols, dtype=\"float32\")\n",
    "\n",
    "    # Define el nombre de la ruta de cada dispositivo /building1/elec/meter5 predicho\n",
    "    # Esta es la clave de los datos procesados para guardar en el h5 \n",
    "    # Esta clave se mantiene igual para cada tramo chunk que se haga la predicción\n",
    "    key = '{}/elec/meter{}'.format(building_path, meter_instance)\n",
    "\n",
    "    # En el archivo output_datastore4 se agregaran los datos calculados en \n",
    "    # cada predicción es el archivo hdf5 definido en el programa principal\n",
    "    # Para cada clave '/building1/elec/meter5' agrega el df\n",
    "    # Primero para la serie calculada para el electrodomestico '/building1/elec/meter5'\n",
    "    #<<<<<<<\n",
    "    output_datastore9.append(key, df)\n",
    "    \n",
    "    # Ahora tomo los datos del medidor objetivo pero de test\n",
    "    \n",
    "    \n",
    "\n",
    "    # Append aggregate data to output / Agregar datos agregados a la salida\n",
    "    # Crea un dataframe para la serie de datos del medidor central original\n",
    "    mains_df = pd.DataFrame(chunk, columns=cols, dtype=\"float32\")\n",
    "    # Y tambien la agrega al archivo de salidas calculadas quedando en orden\n",
    "    # datos predichos y luego datos originales del medidor con clave '/building1/elec/meter1'\n",
    "    # Al hacerlo de este modo cada nuevo df se agrega debajo del anterior segun el nombre de sus\n",
    "    # columnas. Deben tener el mismo nombre y orden para que se haga el match\n",
    "    #<<<<<<<\n",
    "    output_datastore9.append(key=mains_data_location, value=mains_df)"
   ]
  },
  {
   "cell_type": "code",
   "execution_count": 305,
   "metadata": {},
   "outputs": [
    {
     "name": "stdout",
     "output_type": "stream",
     "text": [
      "output_datastore.keys() ['/building1/elec/meter(10, 20)', '/building1/elec/meter1']\n"
     ]
    }
   ],
   "source": [
    "#<<<<<<<\n",
    "print(f\"output_datastore.keys() {output_datastore9.keys()}\")"
   ]
  },
  {
   "cell_type": "code",
   "execution_count": 306,
   "metadata": {},
   "outputs": [
    {
     "name": "stdout",
     "output_type": "stream",
     "text": [
      "type(t18) <class 'pandas.core.frame.DataFrame'>\n",
      "t18.shape (746138, 1)\n"
     ]
    }
   ],
   "source": [
    "#<<<<<<<\n",
    "t17 = output_datastore8.get('/building1/elec/meter(10, 20)')\n",
    "t18 = output_datastore8.get('/building1/elec/meter(10, 20)') #Prediccion\n",
    "print(f\"type(t18) {type(t18)}\")\n",
    "print(f\"t18.shape {t18.shape}\")"
   ]
  },
  {
   "cell_type": "code",
   "execution_count": 307,
   "metadata": {},
   "outputs": [
    {
     "name": "stdout",
     "output_type": "stream",
     "text": [
      "\r",
      "Loading data for meter ElecMeterID(instance=10, building=1, dataset='REDD')     "
     ]
    },
    {
     "name": "stderr",
     "output_type": "stream",
     "text": [
      "C:\\Users\\josel\\Anaconda3\\envs\\nilmtk-env\\lib\\site-packages\\nilmtk\\elecmeter.py:446: UserWarning: The provided sample_period (1) is shorter than the meter's sample_period (3)\n",
      "  sample_period, default_sample_period\n"
     ]
    },
    {
     "name": "stdout",
     "output_type": "stream",
     "text": [
      "Loading data for meter ElecMeterID(instance=20, building=1, dataset='REDD')     \n",
      "Done loading data all meters for this chunk.\n",
      "type(test_meter_medidor) <class 'pandas.core.series.Series'>\n"
     ]
    }
   ],
   "source": [
    "test_meter_medidor = test_meter.power_series(**load_kwargs) #Real\n",
    "test_meter_medidor = next(test_meter_medidor)\n",
    "print(f\"type(test_meter_medidor) {type(test_meter_medidor)}\")"
   ]
  },
  {
   "cell_type": "code",
   "execution_count": 308,
   "metadata": {
    "scrolled": true
   },
   "outputs": [
    {
     "data": {
      "text/plain": [
       "[<matplotlib.lines.Line2D at 0x1722b304e80>]"
      ]
     },
     "execution_count": 308,
     "metadata": {},
     "output_type": "execute_result"
    },
    {
     "data": {
      "image/png": "[encoded data removed]",
      "text/plain": [
       "<Figure size 432x288 with 1 Axes>"
      ]
     },
     "metadata": {
      "needs_background": "light"
     },
     "output_type": "display_data"
    }
   ],
   "source": [
    "plt.plot(t18[38000:68000])                #Amarillo\n",
    "plt.plot(test_meter_medidor[38000:68000]) #Azul"
   ]
  },
  {
   "cell_type": "code",
   "execution_count": 329,
   "metadata": {},
   "outputs": [
    {
     "data": {
      "text/plain": [
       "[<matplotlib.lines.Line2D at 0x1720f082e48>]"
      ]
     },
     "execution_count": 329,
     "metadata": {},
     "output_type": "execute_result"
    },
    {
     "data": {
      "image/png": "[encoded data removed]",
      "text/plain": [
       "<Figure size 432x288 with 1 Axes>"
      ]
     },
     "metadata": {
      "needs_background": "light"
     },
     "output_type": "display_data"
    }
   ],
   "source": [
    "plt.plot(test_meter_medidor[38000:68000])\n",
    "plt.plot(t18[38000:68000])"
   ]
  },
  {
   "cell_type": "code",
   "execution_count": null,
   "metadata": {},
   "outputs": [],
   "source": []
  },
  {
   "cell_type": "markdown",
   "metadata": {},
   "source": [
    "### V3 washer dryer"
   ]
  },
  {
   "cell_type": "code",
   "execution_count": 309,
   "metadata": {},
   "outputs": [],
   "source": [
    "# Una estructura con 256 pasos en el tamaño de la muestra\n",
    "sequence_length = 256"
   ]
  },
  {
   "cell_type": "code",
   "execution_count": 310,
   "metadata": {},
   "outputs": [
    {
     "name": "stdout",
     "output_type": "stream",
     "text": [
      "\r",
      "Loading data for meter ElecMeterID(instance=10, building=1, dataset='REDD')     "
     ]
    },
    {
     "name": "stderr",
     "output_type": "stream",
     "text": [
      "C:\\Users\\josel\\Anaconda3\\envs\\nilmtk-env\\lib\\site-packages\\nilmtk\\elecmeter.py:446: UserWarning: The provided sample_period (1) is shorter than the meter's sample_period (3)\n",
      "  sample_period, default_sample_period\n"
     ]
    },
    {
     "name": "stdout",
     "output_type": "stream",
     "text": [
      "Loading data for meter ElecMeterID(instance=20, building=1, dataset='REDD')     \n",
      "Done loading data all meters for this chunk.\n",
      "mainchunk tipo = <class 'pandas.core.series.Series'> tamaño = (1003071,)\n",
      "meterchunk tipo = <class 'pandas.core.series.Series'> tamaño = (1003067,)\n",
      "DatetimeIndex(['2011-04-18 09:22:13-04:00', '2011-04-18 09:22:14-04:00',\n",
      "               '2011-04-18 09:22:15-04:00', '2011-04-18 09:22:16-04:00',\n",
      "               '2011-04-18 09:22:17-04:00', '2011-04-18 09:22:18-04:00',\n",
      "               '2011-04-18 09:22:19-04:00', '2011-04-18 09:22:20-04:00',\n",
      "               '2011-04-18 09:22:21-04:00', '2011-04-18 09:22:22-04:00',\n",
      "               ...\n",
      "               '2011-04-29 23:59:50-04:00', '2011-04-29 23:59:51-04:00',\n",
      "               '2011-04-29 23:59:52-04:00', '2011-04-29 23:59:53-04:00',\n",
      "               '2011-04-29 23:59:54-04:00', '2011-04-29 23:59:55-04:00',\n",
      "               '2011-04-29 23:59:56-04:00', '2011-04-29 23:59:57-04:00',\n",
      "               '2011-04-29 23:59:58-04:00', '2011-04-29 23:59:59-04:00'],\n",
      "              dtype='datetime64[ns, US/Eastern]', length=1003067, freq='S')\n",
      "X_batch (3919, 256, 1)\n",
      "Y_batch (3919, 256, 1)\n"
     ]
    }
   ],
   "source": [
    "#1. Cargar los datos para entrenamiento\n",
    "train = DataSet('C:\\\\Users\\\\josel\\\\SmartMeter\\\\OrdenandoTodo\\\\redd.h5')\n",
    "train.set_window(end=\"30-4-2011\")      # Usando como final el 30 de abril\n",
    "train_elec = train.buildings[1].elec\n",
    "\n",
    "#3. Carga como medidor de entrenamiento el medidor central y el medidor para un dispositivo Fridge\n",
    "train_mains = train_elec.mains().all_meters()[0] # El medidor agregado o central que proporciona la entrada\n",
    "train_meter = train_elec.submeters()['washer dryer'] # El medidor de microondas que se utiliza como objetivo de entrenamiento.\n",
    "#4. Cargar los datos de las series definidas\n",
    "# Frecuencia de la muestra\n",
    "load_kwargs = {'sample_period': 1}\n",
    "# Esta función crea un generador de datos, si es necesario la remuestrea\n",
    "# al periodo de tiempo definida por el usuario\n",
    "main_power_series = train_mains.power_series(**load_kwargs)\n",
    "meter_power_series = train_meter.power_series(**load_kwargs)\n",
    "\n",
    "#5. Con next des empaqueta los datos en series de pandas antes definidas por un generador\n",
    "mainchunk = next(main_power_series)          # Datos del medidor central\n",
    "meterchunk = next(meter_power_series)        # Datos del electrodomestico\n",
    "\n",
    "print(f\"mainchunk tipo = {type(mainchunk)} tamaño = {mainchunk.shape}\")\n",
    "print(f\"meterchunk tipo = {type(meterchunk)} tamaño = {meterchunk.shape}\")\n",
    "\n",
    "#6. Calcula el valor maximo del medidor central\n",
    "mmax = None\n",
    "if mmax == None:\n",
    "    mmax = mainchunk.max()\n",
    "mmax\n",
    "\n",
    "#7. Funciones para normalizar los datos\n",
    "# Normaliza las series de tiempo teniendo en cuenta el valor maximo\n",
    "# mmax medido por el medidor central\n",
    "def _normalize(chunk, mmax):\n",
    "    tchunk = chunk / mmax\n",
    "    return tchunk\n",
    "\n",
    "# Des Normaliza las series de tiempo teniendo en cuenta el valor maximo\n",
    "# mmax medido por el medidor central\n",
    "def _denormalize(chunk, mmax):\n",
    "    tchunk = chunk * mmax\n",
    "    return tchunk\n",
    "\n",
    "#8. #Normaliza las series\n",
    "mainchunk = _normalize(mainchunk, mmax)\n",
    "meterchunk = _normalize(meterchunk, mmax)\n",
    "mainchunk.head(5)\n",
    "\n",
    "#9. Tamaño de la secuencia definida para el modelo\n",
    "s = sequence_length\n",
    "#10. Remplaza valores NaNs con 0s\n",
    "mainchunk.fillna(0, inplace=True)\n",
    "meterchunk.fillna(0, inplace=True)\n",
    "\n",
    "#11. Une los indices comunes a las dos series de dispositivo y medidor\n",
    "# Retorna una serie con los indices comunes en fechas\n",
    "ix = mainchunk.index.intersection(meterchunk.index)\n",
    "print(ix)\n",
    "\n",
    "#11. Toma los datos en las fechas coincidentes y descarta las demas\n",
    "# seleccionando por medio de los indices contenidos en ix\n",
    "mainchunk = mainchunk[ix]\n",
    "meterchunk = meterchunk[ix]\n",
    "\n",
    "#12. Tamaño del batch de ceros\n",
    "adicion = s - (len(ix) % s)\n",
    "#A cada serie de medidor se le agrega el batch\n",
    "#Se definen en función del tamaño de la muestra\n",
    "#Esta operación elimina el indice de tipo tiempo\n",
    "X_batch = np.append(mainchunk, np.zeros(adicion))    # Medidor central\n",
    "Y_batch = np.append(meterchunk, np.zeros(adicion))   # Medidor de dispositivo\n",
    "\n",
    "#13. Cambia la forma de los datos quedando la señal en tramos de 256 puntos chunk\n",
    "#Para el ventanas de 256 seran (muestras = 3919, ventana = 256, Caracteristica = 1)\n",
    "X_batch = np.reshape(X_batch, (int(len(X_batch) / s), s, 1))\n",
    "Y_batch = np.reshape(Y_batch, (int(len(Y_batch) / s), s, 1))\n",
    "print(f\"X_batch {X_batch.shape}\")\n",
    "print(f\"Y_batch {Y_batch.shape}\")"
   ]
  },
  {
   "cell_type": "markdown",
   "metadata": {},
   "source": [
    "## Modelo 10\n",
    "Por dinamismo creare los modelos a modo de funciones, de esta manera puedo guardar un modelo dentro de una variable que puedo invocar dentro de otras funciones. \n",
    "\n",
    "Agregando mas capas densas intermedias"
   ]
  },
  {
   "cell_type": "code",
   "execution_count": 313,
   "metadata": {},
   "outputs": [],
   "source": [
    "def auto_encoder10(sequence_len):\n",
    "    '''Crear el modulo Auto encoder descrito en el articulo\n",
    "    '''\n",
    "    #Crea el contenedor del modelo\n",
    "    model = Sequential()\n",
    "\n",
    "    # 1D Conv filtros = 8, kernel = 4, entrada 256 pasos de 1 feature, padding igual, paso en 1\n",
    "    model.add(Conv1D(16, 4, activation=\"linear\", input_shape=(sequence_len, 1), padding=\"same\", strides=1))\n",
    "    model.add(Dropout(0.1))\n",
    "    model.add(Dense(8, activation = 'linear'))\n",
    "    model.add(Dropout(0.1))    \n",
    "    #Aplanar la salida\n",
    "    model.add(Flatten())\n",
    "    \n",
    "\n",
    "    #Auto encoder\n",
    "    # Fully Connected Layers abandono del 20%\n",
    "    model.add(Dropout(0.2))\n",
    "    # Neuronas 16 veces el tamaño de la ventana de tiempo = 2048 nodos\n",
    "    model.add(Dense((sequence_len-0)*16, activation='relu'))\n",
    "    #Abandono del 20% capa con 128 neuronas\n",
    "    model.add(Dropout(0.2))\n",
    "    model.add(Dense(128, activation='relu'))\n",
    "    #Abandono del 20% capa con 2048 nodos\n",
    "    model.add(Dropout(0.2))\n",
    "    \n",
    "    model.add(Dense(256, activation='relu'))\n",
    "    #Abandono del 20% capa con 2048 nodos\n",
    "    model.add(Dropout(0.2))\n",
    "    \n",
    "    model.add(Dense(128, activation='relu'))\n",
    "    #Abandono del 20% capa con 2048 nodos\n",
    "    model.add(Dropout(0.2))\n",
    "    \n",
    "    \n",
    "    model.add(Dense((sequence_len-0)*16, activation='relu'))\n",
    "    model.add(Dropout(0.2))\n",
    "\n",
    "    # 1D Conv\n",
    "    # La salida de la capa anterior es una secuencia aplanada. Es necesario cambiar\n",
    "    # el formato de los datos de salida para obtener datos de forma 256,8 similar\n",
    "    # a los pasos y filtros de la primer convolución\n",
    "    model.add(Reshape(((sequence_len-0), 16)))\n",
    "    #Entrega estos datos a una nueva capa convolucional 1 filtro con kernel = 4\n",
    "    #Es un solo filtro debido a que deseamos obtener una sola serie. \n",
    "    model.add(Conv1D(1, 4, activation=\"linear\", padding=\"same\", strides=1))\n",
    "    #Compila el modelo con perdida mse y optimizador de adam\n",
    "    model.compile(loss='mse', optimizer='adam')\n",
    "    #Grafico del modelo para exportar\n",
    "    #plot_model(model, to_file='model.png', show_shapes=True)\n",
    "\n",
    "    return model"
   ]
  },
  {
   "cell_type": "code",
   "execution_count": 314,
   "metadata": {},
   "outputs": [],
   "source": [
    "#<<<<\n",
    "dae10 = auto_encoder10(sequence_length)"
   ]
  },
  {
   "cell_type": "code",
   "execution_count": 315,
   "metadata": {},
   "outputs": [
    {
     "name": "stdout",
     "output_type": "stream",
     "text": [
      "Epoch 1/25\n",
      "123/123 [==============================] - 10s 75ms/step - loss: 0.0019\n",
      "Epoch 2/25\n",
      "123/123 [==============================] - 9s 76ms/step - loss: 0.0016\n",
      "Epoch 3/25\n",
      "123/123 [==============================] - 9s 75ms/step - loss: 0.0019\n",
      "Epoch 4/25\n",
      "123/123 [==============================] - 10s 78ms/step - loss: 0.0026\n",
      "Epoch 5/25\n",
      "123/123 [==============================] - 9s 75ms/step - loss: 0.0026\n",
      "Epoch 6/25\n",
      "123/123 [==============================] - 9s 75ms/step - loss: 0.0027\n",
      "Epoch 7/25\n",
      "123/123 [==============================] - 9s 76ms/step - loss: 0.0022\n",
      "Epoch 8/25\n",
      "123/123 [==============================] - 9s 75ms/step - loss: 0.0016\n",
      "Epoch 9/25\n",
      "123/123 [==============================] - 9s 75ms/step - loss: 0.0025\n",
      "Epoch 10/25\n",
      "123/123 [==============================] - 9s 75ms/step - loss: 0.0017\n",
      "Epoch 11/25\n",
      "123/123 [==============================] - 9s 75ms/step - loss: 0.0032\n",
      "Epoch 12/25\n",
      "123/123 [==============================] - 10s 78ms/step - loss: 0.0023\n",
      "Epoch 13/25\n",
      "123/123 [==============================] - 10s 78ms/step - loss: 0.0017\n",
      "Epoch 14/25\n",
      "123/123 [==============================] - 9s 76ms/step - loss: 0.0017\n",
      "Epoch 15/25\n",
      "123/123 [==============================] - 9s 75ms/step - loss: 0.0021\n",
      "Epoch 16/25\n",
      "123/123 [==============================] - 9s 76ms/step - loss: 0.0026\n",
      "Epoch 17/25\n",
      "123/123 [==============================] - 9s 76ms/step - loss: 0.0025\n",
      "Epoch 18/25\n",
      "123/123 [==============================] - 10s 77ms/step - loss: 0.0025\n",
      "Epoch 19/25\n",
      "123/123 [==============================] - 9s 77ms/step - loss: 0.0030\n",
      "Epoch 20/25\n",
      "123/123 [==============================] - 10s 78ms/step - loss: 0.0021\n",
      "Epoch 21/25\n",
      "123/123 [==============================] - 9s 76ms/step - loss: 0.0021\n",
      "Epoch 22/25\n",
      "123/123 [==============================] - 9s 76ms/step - loss: 0.0023\n",
      "Epoch 23/25\n",
      "123/123 [==============================] - 9s 76ms/step - loss: 0.0024\n",
      "Epoch 24/25\n",
      "123/123 [==============================] - 9s 75ms/step - loss: 0.0021\n",
      "Epoch 25/25\n",
      "123/123 [==============================] - 9s 76ms/step - loss: 0.0017\n"
     ]
    }
   ],
   "source": [
    "# Entrenar el modelo\n",
    "train_mains = X_batch \n",
    "train_meter = Y_batch \n",
    "#<<<<\n",
    "modelo_entrenado10 = dae10.fit(train_mains, train_meter, epochs=25)"
   ]
  },
  {
   "cell_type": "code",
   "execution_count": 316,
   "metadata": {},
   "outputs": [
    {
     "name": "stdout",
     "output_type": "stream",
     "text": [
      "Model: \"sequential_17\"\n",
      "_________________________________________________________________\n",
      "Layer (type)                 Output Shape              Param #   \n",
      "=================================================================\n",
      "conv1d_33 (Conv1D)           (None, 256, 16)           80        \n",
      "_________________________________________________________________\n",
      "dropout_96 (Dropout)         (None, 256, 16)           0         \n",
      "_________________________________________________________________\n",
      "dense_71 (Dense)             (None, 256, 8)            136       \n",
      "_________________________________________________________________\n",
      "dropout_97 (Dropout)         (None, 256, 8)            0         \n",
      "_________________________________________________________________\n",
      "flatten_17 (Flatten)         (None, 2048)              0         \n",
      "_________________________________________________________________\n",
      "dropout_98 (Dropout)         (None, 2048)              0         \n",
      "_________________________________________________________________\n",
      "dense_72 (Dense)             (None, 4096)              8392704   \n",
      "_________________________________________________________________\n",
      "dropout_99 (Dropout)         (None, 4096)              0         \n",
      "_________________________________________________________________\n",
      "dense_73 (Dense)             (None, 128)               524416    \n",
      "_________________________________________________________________\n",
      "dropout_100 (Dropout)        (None, 128)               0         \n",
      "_________________________________________________________________\n",
      "dense_74 (Dense)             (None, 256)               33024     \n",
      "_________________________________________________________________\n",
      "dropout_101 (Dropout)        (None, 256)               0         \n",
      "_________________________________________________________________\n",
      "dense_75 (Dense)             (None, 128)               32896     \n",
      "_________________________________________________________________\n",
      "dropout_102 (Dropout)        (None, 128)               0         \n",
      "_________________________________________________________________\n",
      "dense_76 (Dense)             (None, 4096)              528384    \n",
      "_________________________________________________________________\n",
      "dropout_103 (Dropout)        (None, 4096)              0         \n",
      "_________________________________________________________________\n",
      "reshape_17 (Reshape)         (None, 256, 16)           0         \n",
      "_________________________________________________________________\n",
      "conv1d_34 (Conv1D)           (None, 256, 1)            65        \n",
      "=================================================================\n",
      "Total params: 9,511,705\n",
      "Trainable params: 9,511,705\n",
      "Non-trainable params: 0\n",
      "_________________________________________________________________\n"
     ]
    }
   ],
   "source": [
    "#<<<<<<\n",
    "dae10.summary()"
   ]
  },
  {
   "cell_type": "markdown",
   "metadata": {},
   "source": [
    "# Datos de test"
   ]
  },
  {
   "cell_type": "code",
   "execution_count": 317,
   "metadata": {},
   "outputs": [],
   "source": [
    "#14. Carga los datos completos\n",
    "test = DataSet('C:\\\\Users\\\\josel\\\\SmartMeter\\\\OrdenandoTodo\\\\redd.h5')\n",
    "#15. Define el tamaño de la muestra de test iniciando justo donde termina el train\n",
    "test.set_window(start=\"30-4-2011\") \n",
    "#16. Selecciona los electrodomesticos del primer edificio\n",
    "test_elec = test.buildings[1].elec\n",
    "#17. Selecciona el medidor central del edificio\n",
    "test_mains = test_elec.mains().all_meters()[0]\n",
    "test_meter = test_elec.submeters()['washer dryer']"
   ]
  },
  {
   "cell_type": "code",
   "execution_count": 318,
   "metadata": {},
   "outputs": [],
   "source": [
    "#18. Define un array para timeframes vacio en este almacenare\n",
    "# los tiempos donde el medidor estaba en buen funcionamiento\n",
    "timeframes = []\n",
    "\n",
    "#19. Crea un string con el nombre del edificio mas el id del edificio que lo\n",
    "#toma desde los metadatos \n",
    "#ejemplo building1\n",
    "building_path = '/building{}'.format(test_mains.building())\n",
    "#20. Ahora crea el nombre de la ruta al medidor 1 del edificio en cuestión\n",
    "#Pej.  building1/elec/meter1\n",
    "mains_data_location = building_path + '/elec/meter1'\n",
    "\n",
    "#21. Variable de control datos estan disponibles\n",
    "data_is_available = False"
   ]
  },
  {
   "cell_type": "code",
   "execution_count": 319,
   "metadata": {},
   "outputs": [
    {
     "data": {
      "text/plain": [
       "[TimeFrame(start='2011-04-30 00:00:00-04:00', end='2011-05-01 09:44:42-04:00', empty=False),\n",
       " TimeFrame(start='2011-05-01 09:47:18-04:00', end='2011-05-02 17:04:59-04:00', empty=False),\n",
       " TimeFrame(start='2011-05-02 17:07:27-04:00', end='2011-05-03 17:30:17-04:00', empty=False),\n",
       " TimeFrame(start='2011-05-03 17:32:49-04:00', end='2011-05-03 17:33:44-04:00', empty=False),\n",
       " TimeFrame(start='2011-05-06 10:51:46-04:00', end='2011-05-07 01:53:10-04:00', empty=False),\n",
       " TimeFrame(start='2011-05-07 01:53:55-04:00', end='2011-05-07 02:38:15-04:00', empty=False),\n",
       " TimeFrame(start='2011-05-07 02:40:43-04:00', end='2011-05-07 11:59:16-04:00', empty=False),\n",
       " TimeFrame(start='2011-05-11 03:19:43-04:00', end='2011-05-12 17:48:38-04:00', empty=False),\n",
       " TimeFrame(start='2011-05-12 20:14:30-04:00', end='2011-05-13 05:16:24-04:00', empty=False),\n",
       " TimeFrame(start='2011-05-22 16:04:46-04:00', end='2011-05-22 23:39:01-04:00', empty=False),\n",
       " TimeFrame(start='2011-05-22 23:41:35-04:00', end='2011-05-23 09:22:08-04:00', empty=False),\n",
       " TimeFrame(start='2011-05-23 10:31:34-04:00', end='2011-05-24 14:32:05-04:00', empty=False),\n",
       " TimeFrame(start='2011-05-24 15:55:33-04:00', end='2011-05-24 15:57:02-04:00', empty=False)]"
      ]
     },
     "execution_count": 319,
     "metadata": {},
     "output_type": "execute_result"
    }
   ],
   "source": [
    "#22. Verificar los tiempos de buen funcionamiento del medidor central\n",
    "load_kwargs.setdefault('sections', test_mains.good_sections())"
   ]
  },
  {
   "cell_type": "code",
   "execution_count": 320,
   "metadata": {},
   "outputs": [],
   "source": [
    "#23. Defino una lista que contendra los instantes de buen funcionamiento \n",
    "# que cumplan con el tamaño de muestra\n",
    "timeframes = []"
   ]
  },
  {
   "cell_type": "code",
   "execution_count": 321,
   "metadata": {},
   "outputs": [],
   "source": [
    "#output_datastore8.close()"
   ]
  },
  {
   "cell_type": "code",
   "execution_count": 322,
   "metadata": {},
   "outputs": [],
   "source": [
    "#<<<<<<<\n",
    "output_datastore10 = pd.HDFStore(\"predict10_V3.h5\", \"w\")"
   ]
  },
  {
   "cell_type": "code",
   "execution_count": 323,
   "metadata": {},
   "outputs": [
    {
     "name": "stdout",
     "output_type": "stream",
     "text": [
      "New sensible chunk: 121482 size of data\n"
     ]
    },
    {
     "name": "stderr",
     "output_type": "stream",
     "text": [
      "C:\\Users\\josel\\Anaconda3\\envs\\nilmtk-env\\lib\\site-packages\\tables\\path.py:155: NaturalNameWarning: object name is not a valid Python identifier: 'meter(10, 20)'; it does not match the pattern ``^[a-zA-Z_][a-zA-Z0-9_]*$``; you will not be able to use natural naming to access this object; using ``getattr()`` will still work, though\n",
      "  check_attribute_name(name)\n"
     ]
    },
    {
     "name": "stdout",
     "output_type": "stream",
     "text": [
      "New sensible chunk: 112661 size of data\n",
      "New sensible chunk: 87770 size of data\n",
      "New sensible chunk: 54084 size of data\n",
      "New sensible chunk: 2660 size of data\n",
      "New sensible chunk: 33513 size of data\n",
      "New sensible chunk: 138535 size of data\n",
      "New sensible chunk: 32514 size of data\n",
      "New sensible chunk: 27255 size of data\n",
      "New sensible chunk: 34833 size of data\n",
      "New sensible chunk: 100831 size of data\n"
     ]
    }
   ],
   "source": [
    "#24. Recorro todas los tramos de test para el medidor central en buen funcionamiento\n",
    "MIN_CHUNK_LENGTH = sequence_length #Tamaño del paso de ventana\n",
    "id_serie = 0\n",
    "for chunk in test_mains.power_series(**load_kwargs):\n",
    "    #25. Si el tamaño de la serie cargada es menor al de las ventanas se descarta\n",
    "    if len(chunk) < MIN_CHUNK_LENGTH:\n",
    "        continue\n",
    "    #26. Imprime el tamaño de los tramos de series cargados\n",
    "    print(\"New sensible chunk: {} size of data\".format(len(chunk)))\n",
    "    \n",
    "    # Se guarda cada tramo de tiempo seleccionado\n",
    "    timeframes.append(chunk.timeframe)\n",
    "    # Nombre de las columnas de series de datos ('power', 'apparent')\n",
    "    measurement = chunk.name\n",
    "    \n",
    "    # Normaliza la serie chunk del medidor central cargada y la guarda en una nueva variable usando como\n",
    "    # maximo el valor del medidor centrar de entrenamiento\n",
    "    chunk2 = _normalize(chunk, mmax)\n",
    "\n",
    "    #Ahora debo crear una base de datos con las formas adecuadas para cada chunk\n",
    "    #cree una función que guarda las series en un archivo hdf5\n",
    "    #requiere el numero de la serie iniciando en 0 para usarla como id\n",
    "    \n",
    "    #llamar funcion, pasar chunk2 y el id_serie \n",
    "    #>>>>>>>>>>>>>>>>>>>\n",
    "    appliance_power = data_predict(chunk2, id_serie, dae10)\n",
    "    \n",
    "    # Todo valor negativo calculado lo iguala a cero\n",
    "    appliance_power[appliance_power < 0] = 0\n",
    "    \n",
    "    # Calcula el valor real mediante la desnormalización de los datos\n",
    "    appliance_power = _denormalize(appliance_power, mmax)\n",
    "    \n",
    "    # Convierte lista de tuplas a MultiIndex osea una estructura que contiene\n",
    "    # multiples indices. Lons nombres estan dados pos la serie main original\n",
    "    # chunk.name = ('power', 'apparent') \n",
    "    # cols = MultiIndex([('power', 'apparent')]\n",
    "    cols = pd.MultiIndex.from_tuples([chunk.name])\n",
    "    \n",
    "    # De los metadatos extrae el valor de la instancia de la medida\n",
    "    # que en si es como el id del dispositivo por ejemplo 5 para refrigerador\n",
    "    # en el edificio 1. Siempre es el del electrodomestico\n",
    "    meter_instance = test_meter.instance()\n",
    "    \n",
    "    # Ahora crea un df para cada serie predicha chunk con: \n",
    "    # appliance_power.values = los valores de la serie predicha\n",
    "    # index=appliance_power.index con indice el tiempo de dicha serie\n",
    "    # columns=cols da el nombre de las columnas ('power', 'apparent') es el nombre \n",
    "    # de la columna de medidas, el indice no tiene nombre\n",
    "    # y define los datos como  de punto flotante\n",
    "    df = pd.DataFrame(\n",
    "        appliance_power.values, index=appliance_power.index,\n",
    "        columns=cols, dtype=\"float32\")\n",
    "\n",
    "    # Define el nombre de la ruta de cada dispositivo /building1/elec/meter5 predicho\n",
    "    # Esta es la clave de los datos procesados para guardar en el h5 \n",
    "    # Esta clave se mantiene igual para cada tramo chunk que se haga la predicción\n",
    "    key = '{}/elec/meter{}'.format(building_path, meter_instance)\n",
    "\n",
    "    # En el archivo output_datastore4 se agregaran los datos calculados en \n",
    "    # cada predicción es el archivo hdf5 definido en el programa principal\n",
    "    # Para cada clave '/building1/elec/meter5' agrega el df\n",
    "    # Primero para la serie calculada para el electrodomestico '/building1/elec/meter5'\n",
    "    #<<<<<<<\n",
    "    output_datastore10.append(key, df)\n",
    "    \n",
    "    # Ahora tomo los datos del medidor objetivo pero de test\n",
    "    \n",
    "    \n",
    "\n",
    "    # Append aggregate data to output / Agregar datos agregados a la salida\n",
    "    # Crea un dataframe para la serie de datos del medidor central original\n",
    "    mains_df = pd.DataFrame(chunk, columns=cols, dtype=\"float32\")\n",
    "    # Y tambien la agrega al archivo de salidas calculadas quedando en orden\n",
    "    # datos predichos y luego datos originales del medidor con clave '/building1/elec/meter1'\n",
    "    # Al hacerlo de este modo cada nuevo df se agrega debajo del anterior segun el nombre de sus\n",
    "    # columnas. Deben tener el mismo nombre y orden para que se haga el match\n",
    "    #<<<<<<<\n",
    "    output_datastore10.append(key=mains_data_location, value=mains_df)"
   ]
  },
  {
   "cell_type": "code",
   "execution_count": 324,
   "metadata": {},
   "outputs": [
    {
     "name": "stdout",
     "output_type": "stream",
     "text": [
      "output_datastore.keys() ['/building1/elec/meter(10, 20)', '/building1/elec/meter1']\n"
     ]
    }
   ],
   "source": [
    "#<<<<<<<\n",
    "print(f\"output_datastore.keys() {output_datastore10.keys()}\")"
   ]
  },
  {
   "cell_type": "code",
   "execution_count": 325,
   "metadata": {},
   "outputs": [
    {
     "name": "stdout",
     "output_type": "stream",
     "text": [
      "type(t18) <class 'pandas.core.frame.DataFrame'>\n",
      "t18.shape (746138, 1)\n"
     ]
    }
   ],
   "source": [
    "#<<<<<<<\n",
    "t19 = output_datastore8.get('/building1/elec/meter(10, 20)')\n",
    "t20 = output_datastore8.get('/building1/elec/meter(10, 20)') #Prediccion\n",
    "print(f\"type(t18) {type(t18)}\")\n",
    "print(f\"t18.shape {t18.shape}\")"
   ]
  },
  {
   "cell_type": "code",
   "execution_count": 326,
   "metadata": {},
   "outputs": [
    {
     "name": "stdout",
     "output_type": "stream",
     "text": [
      "\r",
      "Loading data for meter ElecMeterID(instance=10, building=1, dataset='REDD')     "
     ]
    },
    {
     "name": "stderr",
     "output_type": "stream",
     "text": [
      "C:\\Users\\josel\\Anaconda3\\envs\\nilmtk-env\\lib\\site-packages\\nilmtk\\elecmeter.py:446: UserWarning: The provided sample_period (1) is shorter than the meter's sample_period (3)\n",
      "  sample_period, default_sample_period\n"
     ]
    },
    {
     "name": "stdout",
     "output_type": "stream",
     "text": [
      "Loading data for meter ElecMeterID(instance=20, building=1, dataset='REDD')     \n",
      "Done loading data all meters for this chunk.\n",
      "type(test_meter_medidor) <class 'pandas.core.series.Series'>\n"
     ]
    }
   ],
   "source": [
    "test_meter_medidor = test_meter.power_series(**load_kwargs) #Real\n",
    "test_meter_medidor = next(test_meter_medidor)\n",
    "print(f\"type(test_meter_medidor) {type(test_meter_medidor)}\")"
   ]
  },
  {
   "cell_type": "code",
   "execution_count": 327,
   "metadata": {
    "scrolled": true
   },
   "outputs": [
    {
     "data": {
      "text/plain": [
       "[<matplotlib.lines.Line2D at 0x1720db4d438>]"
      ]
     },
     "execution_count": 327,
     "metadata": {},
     "output_type": "execute_result"
    },
    {
     "data": {
      "image/png": "[encoded data removed]",
      "text/plain": [
       "<Figure size 432x288 with 1 Axes>"
      ]
     },
     "metadata": {
      "needs_background": "light"
     },
     "output_type": "display_data"
    }
   ],
   "source": [
    "plt.plot(t20[38000:68000])                 #Amarillo\n",
    "plt.plot(test_meter_medidor[38000:68000])  #Azul"
   ]
  },
  {
   "cell_type": "code",
   "execution_count": 328,
   "metadata": {},
   "outputs": [
    {
     "data": {
      "text/plain": [
       "[<matplotlib.lines.Line2D at 0x1722b302ac8>]"
      ]
     },
     "execution_count": 328,
     "metadata": {},
     "output_type": "execute_result"
    },
    {
     "data": {
      "image/png": "[encoded data removed]",
      "text/plain": [
       "<Figure size 432x288 with 1 Axes>"
      ]
     },
     "metadata": {
      "needs_background": "light"
     },
     "output_type": "display_data"
    }
   ],
   "source": [
    "plt.plot(test_meter_medidor[38000:68000]) \n",
    "plt.plot(t20[38000:68000])"
   ]
  },
  {
   "cell_type": "code",
   "execution_count": null,
   "metadata": {},
   "outputs": [],
   "source": []
  },
  {
   "cell_type": "code",
   "execution_count": null,
   "metadata": {},
   "outputs": [],
   "source": []
  }
 ],
 "metadata": {
  "kernelspec": {
   "display_name": "nilmtk",
   "language": "python",
   "name": "nilmtk"
  },
  "language_info": {
   "codemirror_mode": {
    "name": "ipython",
    "version": 3
   },
   "file_extension": ".py",
   "mimetype": "text/x-python",
   "name": "python",
   "nbconvert_exporter": "python",
   "pygments_lexer": "ipython3",
   "version": "3.6.11"
  }
 },
 "nbformat": 4,
 "nbformat_minor": 4
}
